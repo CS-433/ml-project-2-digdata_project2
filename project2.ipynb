{
 "cells": [
  {
   "cell_type": "markdown",
   "id": "7161f50f-14de-4a00-9951-535df873c0d2",
   "metadata": {},
   "source": [
    "# Project 2: Covid"
   ]
  },
  {
   "cell_type": "code",
   "execution_count": 1,
   "id": "ea38c3b3-4b5c-4346-a021-66fd167ed5e4",
   "metadata": {},
   "outputs": [],
   "source": [
    "# Import\n",
    "%matplotlib inline\n",
    "import numpy as np\n",
    "from matplotlib import pyplot as plt\n",
    "import pandas as pd\n",
    "from pandas_profiling import ProfileReport\n",
    "import os\n",
    "%load_ext autoreload\n",
    "%autoreload 2"
   ]
  },
  {
   "cell_type": "markdown",
   "id": "dd9743d5-e58e-4dd8-b8b2-7a4eed760c9b",
   "metadata": {},
   "source": [
    "## 1. Literature"
   ]
  },
  {
   "cell_type": "markdown",
   "id": "cae98ebb-8302-4241-b8f5-8c14173f3453",
   "metadata": {},
   "source": [
    "..."
   ]
  },
  {
   "cell_type": "markdown",
   "id": "9ade6658-bec2-4d54-8557-00d697033f7f",
   "metadata": {},
   "source": [
    "## 2. EDA, feature cleaning and engineering"
   ]
  },
  {
   "cell_type": "code",
   "execution_count": 2,
   "id": "b47efb1c-829b-4a6a-8dba-53cfd235a937",
   "metadata": {},
   "outputs": [
    {
     "data": {
      "text/html": [
       "<div>\n",
       "<style scoped>\n",
       "    .dataframe tbody tr th:only-of-type {\n",
       "        vertical-align: middle;\n",
       "    }\n",
       "\n",
       "    .dataframe tbody tr th {\n",
       "        vertical-align: top;\n",
       "    }\n",
       "\n",
       "    .dataframe thead th {\n",
       "        text-align: right;\n",
       "    }\n",
       "</style>\n",
       "<table border=\"1\" class=\"dataframe\">\n",
       "  <thead>\n",
       "    <tr style=\"text-align: right;\">\n",
       "      <th></th>\n",
       "      <th>Domain</th>\n",
       "      <th>Domain_Name</th>\n",
       "      <th>Variable_Name</th>\n",
       "      <th>Variable_Label</th>\n",
       "      <th>Variable_Type</th>\n",
       "      <th>Variable_Definition</th>\n",
       "      <th>Controlled_Terminology?</th>\n",
       "    </tr>\n",
       "  </thead>\n",
       "  <tbody>\n",
       "    <tr>\n",
       "      <th>0</th>\n",
       "      <td>AU</td>\n",
       "      <td>Audiometry Test Results</td>\n",
       "      <td>STUDYID</td>\n",
       "      <td>Study Identifier</td>\n",
       "      <td>character</td>\n",
       "      <td>This variable contains the unique identifier f...</td>\n",
       "      <td>NaN</td>\n",
       "    </tr>\n",
       "    <tr>\n",
       "      <th>1</th>\n",
       "      <td>AU</td>\n",
       "      <td>Audiometry Test Results</td>\n",
       "      <td>DOMAIN</td>\n",
       "      <td>Domain Abbreviation</td>\n",
       "      <td>character</td>\n",
       "      <td>This variable contains the two-character abbre...</td>\n",
       "      <td>Y</td>\n",
       "    </tr>\n",
       "    <tr>\n",
       "      <th>2</th>\n",
       "      <td>AU</td>\n",
       "      <td>Audiometry Test Results</td>\n",
       "      <td>USUBJID</td>\n",
       "      <td>Unique Subject Identifier</td>\n",
       "      <td>character</td>\n",
       "      <td>This variable contains the unique subject iden...</td>\n",
       "      <td>NaN</td>\n",
       "    </tr>\n",
       "  </tbody>\n",
       "</table>\n",
       "</div>"
      ],
      "text/plain": [
       "  Domain              Domain_Name Variable_Name             Variable_Label  \\\n",
       "0     AU  Audiometry Test Results       STUDYID           Study Identifier   \n",
       "1     AU  Audiometry Test Results        DOMAIN        Domain Abbreviation   \n",
       "2     AU  Audiometry Test Results       USUBJID  Unique Subject Identifier   \n",
       "\n",
       "  Variable_Type                                Variable_Definition  \\\n",
       "0     character  This variable contains the unique identifier f...   \n",
       "1     character  This variable contains the two-character abbre...   \n",
       "2     character  This variable contains the unique subject iden...   \n",
       "\n",
       "  Controlled_Terminology?  \n",
       "0                     NaN  \n",
       "1                       Y  \n",
       "2                     NaN  "
      ]
     },
     "execution_count": 2,
     "metadata": {},
     "output_type": "execute_result"
    }
   ],
   "source": [
    "# Load file with descriptions of data variables\n",
    "data_description_folder = './data/'\n",
    "data_description = pd.read_csv(data_description_folder + 'IDDO_SDTM_Data-Dictionary_v3.0_2022-10-06.csv', sep=';', encoding=\"ISO-8859-1\")\n",
    "data_description.columns = data_description.columns.str.replace(' ', '_')\n",
    "data_description.head(3)"
   ]
  },
  {
   "cell_type": "code",
   "execution_count": 19,
   "id": "713fa675-a86e-4d1d-b36f-1b61baddeaa3",
   "metadata": {},
   "outputs": [
    {
     "name": "stdout",
     "output_type": "stream",
     "text": [
      "Names of DataFrames:\n",
      "DM --->  Demographics\n",
      "DS --->  Disposition\n",
      "ER --->  Environmental Risk\n",
      "HO --->  Healthcare Encounters\n",
      "IE --->  Inclusion/Exclusion Criteria\n",
      "error\n",
      "LB --->  Laboratory Results\n",
      "MB --->  Microbiology Specimen\n",
      "PO --->  Pregnancy Outcomes\n",
      "RELREC --->  Related Records\n",
      "RP --->  Reproductive System Findings\n",
      "RS --->  Disease Response and Clinical Classification\n",
      "SA --->  Clinical and Adverse Events\n",
      "SC --->  Subject Characteristics\n",
      "SV --->  Subject Visits\n",
      "TI --->  Trial Inclusion Exclusion Criteria\n",
      "TS --->  Trial Summary\n",
      "TV --->  Trial Visits\n",
      "VS --->  Vital Signs\n"
     ]
    }
   ],
   "source": [
    "# Load data\n",
    "df_list = []\n",
    "data_folder = './data/DATA_2022-09-01/'\n",
    "print('Names of DataFrames ---> Description :')\n",
    "for f in os.listdir(data_folder):\n",
    "    try:\n",
    "        df_name_str = f.split('_')[0]\n",
    "        df_list.append(df_name_str)\n",
    "        df_name = df_name_str\n",
    "        locals()[df_name] = pd.read_csv(data_folder + f, sep=',', low_memory=False) \n",
    "        locals()[df_name].name = df_name_str\n",
    "        print(df_name_str, '---> ', data_description.loc[data_description.Domain==df_name_str, 'Domain_Name'].iloc[0])\n",
    "    except:\n",
    "        #df_name_str = f.split('_')[0]\n",
    "        #df_list.append(df_name_str)\n",
    "        #df_name = df_name_str\n",
    "        #mylist = []\n",
    "        #for chunk in  pd.read_csv(data_folder + f, sep=',', low_memory=False, chunksize=2000):\n",
    "            #mylist.append(chunk)\n",
    "        #locals()[df_name] = pd.concat(mylist, axis= 0)\n",
    "        #locals()[df_name].name = df_name_str\n",
    "        #del mylist\n",
    "        print('error')"
   ]
  },
  {
   "cell_type": "markdown",
   "id": "f809a66e-2d05-4fa0-a610-8bb9f430c68f",
   "metadata": {},
   "source": [
    "### 2.1 EDA"
   ]
  },
  {
   "cell_type": "code",
   "execution_count": 6,
   "id": "4f8499ba-9f4e-4ef2-bc48-627b97db522a",
   "metadata": {},
   "outputs": [],
   "source": [
    "data_folder = './data/DATA_2022-09-01/'\n",
    "DM = pd.read_csv(data_folder + 'DM_2022-09-01.csv', sep=',', low_memory=False) \n",
    "DM.name = 'DM'"
   ]
  },
  {
   "cell_type": "code",
   "execution_count": null,
   "id": "8e3d6c6c-9b76-47a6-b6c5-b3c06f097af0",
   "metadata": {},
   "outputs": [],
   "source": [
    "# CHOOSE YOUR DATAFRAME :\n",
    "df_profile = DM"
   ]
  },
  {
   "cell_type": "code",
   "execution_count": 12,
   "id": "43e1f9ce-27ab-4ced-a116-90fec1d45e9a",
   "metadata": {},
   "outputs": [
    {
     "data": {
      "text/html": [
       "<div>\n",
       "<style scoped>\n",
       "    .dataframe tbody tr th:only-of-type {\n",
       "        vertical-align: middle;\n",
       "    }\n",
       "\n",
       "    .dataframe tbody tr th {\n",
       "        vertical-align: top;\n",
       "    }\n",
       "\n",
       "    .dataframe thead th {\n",
       "        text-align: right;\n",
       "    }\n",
       "</style>\n",
       "<table border=\"1\" class=\"dataframe\">\n",
       "  <thead>\n",
       "    <tr style=\"text-align: right;\">\n",
       "      <th></th>\n",
       "      <th>Variable_Name</th>\n",
       "      <th>Variable_Type</th>\n",
       "      <th>Variable_Definition</th>\n",
       "    </tr>\n",
       "  </thead>\n",
       "  <tbody>\n",
       "    <tr>\n",
       "      <th>130</th>\n",
       "      <td>STUDYID</td>\n",
       "      <td>character</td>\n",
       "      <td>This variable contains the unique identifier for a study. This is the main key/identifier for all domains in the IDDO Data Repository  every domain table will have the STUDYID identifier.</td>\n",
       "    </tr>\n",
       "    <tr>\n",
       "      <th>131</th>\n",
       "      <td>DOMAIN</td>\n",
       "      <td>character</td>\n",
       "      <td>This variable contains the two-character abbreviation for the domain.</td>\n",
       "    </tr>\n",
       "    <tr>\n",
       "      <th>132</th>\n",
       "      <td>USUBJID</td>\n",
       "      <td>character</td>\n",
       "      <td>This variable contains the unique subject identifier for a study. This is a secondary key/identifier for all subject-level domains in the IDDO Data Repository  every domain table containing subject-level information (i.e., all but the Trial Domains) will have the USUBJID identifier. This variable will identify unique subjects in the repository.</td>\n",
       "    </tr>\n",
       "    <tr>\n",
       "      <th>133</th>\n",
       "      <td>SUBJID</td>\n",
       "      <td>character</td>\n",
       "      <td>This variable contains the unique subject identifier provided by the data contributor.</td>\n",
       "    </tr>\n",
       "    <tr>\n",
       "      <th>134</th>\n",
       "      <td>RFSTDTC</td>\n",
       "      <td>character</td>\n",
       "      <td>This variable describes the date and time of the start of the Subject Reference Period. The Subject Reference Period is defined by IDDO as starting with the subject's first study encounter and ending with the subject's final study encounter. RFSTDTC corresponds with the time and date of the subject's first study encounter (e.g., screening, enrollment, admission). This date will be used to calculate the relative days in the --DY?, --STDY, --ENDY variables.  This date and time will be provided in ISO 8601 format. This variable will be blank for submissions that do not provide this initial date. All of the derived variables will also be blank since they are all calculated based on RFSTDTC.</td>\n",
       "    </tr>\n",
       "    <tr>\n",
       "      <th>135</th>\n",
       "      <td>DTHDTC</td>\n",
       "      <td>character</td>\n",
       "      <td>This variable describes the date and time of the collection of the observation, administration of a test or collection of a specimen.  This date and time will be provided in ISO 8601 format.</td>\n",
       "    </tr>\n",
       "    <tr>\n",
       "      <th>136</th>\n",
       "      <td>DTHFL</td>\n",
       "      <td>character</td>\n",
       "      <td>This variable contains information about whether the subject died during the study period. The variable is expected to be null if the choice is not \"Yes\".</td>\n",
       "    </tr>\n",
       "    <tr>\n",
       "      <th>137</th>\n",
       "      <td>SITEID</td>\n",
       "      <td>character</td>\n",
       "      <td>This variable contains information about the study site.</td>\n",
       "    </tr>\n",
       "    <tr>\n",
       "      <th>138</th>\n",
       "      <td>INVID</td>\n",
       "      <td>character</td>\n",
       "      <td>This variable contains the unique investigator identifier of the data contributor. This may be used for COVID-19 data where many separate investigators have contributed data to a single large study.</td>\n",
       "    </tr>\n",
       "    <tr>\n",
       "      <th>139</th>\n",
       "      <td>INVNAM</td>\n",
       "      <td>character</td>\n",
       "      <td>This variable contains the clinical trial registry number associated with the subjects record.</td>\n",
       "    </tr>\n",
       "    <tr>\n",
       "      <th>140</th>\n",
       "      <td>AGE</td>\n",
       "      <td>number</td>\n",
       "      <td>This variable contains the age (expressed in the units described in AGEU) for the subject.</td>\n",
       "    </tr>\n",
       "    <tr>\n",
       "      <th>141</th>\n",
       "      <td>AGETXT</td>\n",
       "      <td>character</td>\n",
       "      <td>This variable contains text describing the age of subjects, expressed as a range, at the start of the study. This may be used when no precise age is available.</td>\n",
       "    </tr>\n",
       "    <tr>\n",
       "      <th>142</th>\n",
       "      <td>AGEU</td>\n",
       "      <td>character</td>\n",
       "      <td>This variable contains the unit describing the value in AGE. This is defined by CDISC Controlled Terminology</td>\n",
       "    </tr>\n",
       "    <tr>\n",
       "      <th>143</th>\n",
       "      <td>SEX</td>\n",
       "      <td>character</td>\n",
       "      <td>This variable describes the sex of the subject. This is defined by CDISC Controlled Terminology</td>\n",
       "    </tr>\n",
       "    <tr>\n",
       "      <th>144</th>\n",
       "      <td>RACE</td>\n",
       "      <td>character</td>\n",
       "      <td>This variable describes the race of the subject as provided by the Data Contributor.</td>\n",
       "    </tr>\n",
       "    <tr>\n",
       "      <th>145</th>\n",
       "      <td>ETHNIC</td>\n",
       "      <td>character</td>\n",
       "      <td>This variable describes the ethnicity of the subject as provided by the Data Contributor.</td>\n",
       "    </tr>\n",
       "    <tr>\n",
       "      <th>146</th>\n",
       "      <td>ARMCD</td>\n",
       "      <td>character</td>\n",
       "      <td>This variable contains a code that identifies the treatment arm to which ?the subject was assigned.</td>\n",
       "    </tr>\n",
       "    <tr>\n",
       "      <th>147</th>\n",
       "      <td>ARM</td>\n",
       "      <td>character</td>\n",
       "      <td>This variable describes the treatment arm to which ??the subject was assigned.</td>\n",
       "    </tr>\n",
       "    <tr>\n",
       "      <th>148</th>\n",
       "      <td>COUNTRY</td>\n",
       "      <td>character</td>\n",
       "      <td>This variable contains information about the country of the study site described in SITEID. This is defined by Controlled Terminology.</td>\n",
       "    </tr>\n",
       "    <tr>\n",
       "      <th>149</th>\n",
       "      <td>DMDTC</td>\n",
       "      <td>character</td>\n",
       "      <td>This variable contains the date and time of the collection of the observation, administration of a test or collection of a specimen.  This date and time will be provided in ISO 8601 format.</td>\n",
       "    </tr>\n",
       "    <tr>\n",
       "      <th>150</th>\n",
       "      <td>DMDY</td>\n",
       "      <td>number</td>\n",
       "      <td>This variable describes the study day of the observation relative to the date in RFSTDTC.  This will be blank for records with no value in the --DTC variable.</td>\n",
       "    </tr>\n",
       "  </tbody>\n",
       "</table>\n",
       "</div>"
      ],
      "text/plain": [
       "    Variable_Name Variable_Type  \\\n",
       "130       STUDYID     character   \n",
       "131        DOMAIN     character   \n",
       "132       USUBJID     character   \n",
       "133        SUBJID     character   \n",
       "134       RFSTDTC     character   \n",
       "135        DTHDTC     character   \n",
       "136         DTHFL     character   \n",
       "137        SITEID     character   \n",
       "138         INVID     character   \n",
       "139        INVNAM     character   \n",
       "140           AGE        number   \n",
       "141        AGETXT     character   \n",
       "142          AGEU     character   \n",
       "143           SEX     character   \n",
       "144          RACE     character   \n",
       "145        ETHNIC     character   \n",
       "146         ARMCD     character   \n",
       "147           ARM     character   \n",
       "148       COUNTRY     character   \n",
       "149         DMDTC     character   \n",
       "150          DMDY        number   \n",
       "\n",
       "                                                                                                                                                                                                                                                                                                                                                                                                                                                                                                                                                                                                                                                                                                         Variable_Definition  \n",
       "130                                                                                                                                                                                                                                                                                                                                                                                                                                                                                                                             This variable contains the unique identifier for a study. This is the main key/identifier for all domains in the IDDO Data Repository  every domain table will have the STUDYID identifier.  \n",
       "131                                                                                                                                                                                                                                                                                                                                                                                                                                                                                                                                                                                                                                                    This variable contains the two-character abbreviation for the domain.  \n",
       "132                                                                                                                                                                                                                                                                                                                                                              This variable contains the unique subject identifier for a study. This is a secondary key/identifier for all subject-level domains in the IDDO Data Repository  every domain table containing subject-level information (i.e., all but the Trial Domains) will have the USUBJID identifier. This variable will identify unique subjects in the repository.  \n",
       "133                                                                                                                                                                                                                                                                                                                                                                                                                                                                                                                                                                                                                                   This variable contains the unique subject identifier provided by the data contributor.  \n",
       "134  This variable describes the date and time of the start of the Subject Reference Period. The Subject Reference Period is defined by IDDO as starting with the subject's first study encounter and ending with the subject's final study encounter. RFSTDTC corresponds with the time and date of the subject's first study encounter (e.g., screening, enrollment, admission). This date will be used to calculate the relative days in the --DY?, --STDY, --ENDY variables.  This date and time will be provided in ISO 8601 format. This variable will be blank for submissions that do not provide this initial date. All of the derived variables will also be blank since they are all calculated based on RFSTDTC.  \n",
       "135                                                                                                                                                                                                                                                                                                                                                                                                                                                                                                                           This variable describes the date and time of the collection of the observation, administration of a test or collection of a specimen.  This date and time will be provided in ISO 8601 format.  \n",
       "136                                                                                                                                                                                                                                                                                                                                                                                                                                                                                                                                                              This variable contains information about whether the subject died during the study period. The variable is expected to be null if the choice is not \"Yes\".   \n",
       "137                                                                                                                                                                                                                                                                                                                                                                                                                                                                                                                                                                                                                                                                 This variable contains information about the study site.  \n",
       "138                                                                                                                                                                                                                                                                                                                                                                                                                                                                                                                   This variable contains the unique investigator identifier of the data contributor. This may be used for COVID-19 data where many separate investigators have contributed data to a single large study.  \n",
       "139                                                                                                                                                                                                                                                                                                                                                                                                                                                                                                                                                                                                                           This variable contains the clinical trial registry number associated with the subjects record.  \n",
       "140                                                                                                                                                                                                                                                                                                                                                                                                                                                                                                                                                                                                                               This variable contains the age (expressed in the units described in AGEU) for the subject.  \n",
       "141                                                                                                                                                                                                                                                                                                                                                                                                                                                                                                                                                          This variable contains text describing the age of subjects, expressed as a range, at the start of the study. This may be used when no precise age is available.  \n",
       "142                                                                                                                                                                                                                                                                                                                                                                                                                                                                                                                                                                                                             This variable contains the unit describing the value in AGE. This is defined by CDISC Controlled Terminology  \n",
       "143                                                                                                                                                                                                                                                                                                                                                                                                                                                                                                                                                                                                                          This variable describes the sex of the subject. This is defined by CDISC Controlled Terminology  \n",
       "144                                                                                                                                                                                                                                                                                                                                                                                                                                                                                                                                                                                                                                     This variable describes the race of the subject as provided by the Data Contributor.  \n",
       "145                                                                                                                                                                                                                                                                                                                                                                                                                                                                                                                                                                                                                                This variable describes the ethnicity of the subject as provided by the Data Contributor.  \n",
       "146                                                                                                                                                                                                                                                                                                                                                                                                                                                                                                                                                                                                                      This variable contains a code that identifies the treatment arm to which ?the subject was assigned.  \n",
       "147                                                                                                                                                                                                                                                                                                                                                                                                                                                                                                                                                                                                                                          This variable describes the treatment arm to which ??the subject was assigned.   \n",
       "148                                                                                                                                                                                                                                                                                                                                                                                                                                                                                                                                                                                   This variable contains information about the country of the study site described in SITEID. This is defined by Controlled Terminology.  \n",
       "149                                                                                                                                                                                                                                                                                                                                                                                                                                                                                                                            This variable contains the date and time of the collection of the observation, administration of a test or collection of a specimen.  This date and time will be provided in ISO 8601 format.  \n",
       "150                                                                                                                                                                                                                                                                                                                                                                                                                                                                                                                                                           This variable describes the study day of the observation relative to the date in RFSTDTC.  This will be blank for records with no value in the --DTC variable.  "
      ]
     },
     "execution_count": 12,
     "metadata": {},
     "output_type": "execute_result"
    }
   ],
   "source": [
    "# See variables of the DataFrame\n",
    "pd.set_option(\"display.max_colwidth\", 1000)\n",
    "data_description.loc[data_description.Domain==df_profile.name, ['Variable_Name', 'Variable_Type', 'Variable_Definition']]"
   ]
  },
  {
   "cell_type": "code",
   "execution_count": 7,
   "id": "a43b516c-683e-4d48-bccf-e2d025d25e94",
   "metadata": {},
   "outputs": [
    {
     "data": {
      "application/vnd.jupyter.widget-view+json": {
       "model_id": "07151fc1aa8644a0ad64246777a2e5ae",
       "version_major": 2,
       "version_minor": 0
      },
      "text/plain": [
       "Summarize dataset:   0%|          | 0/5 [00:00<?, ?it/s]"
      ]
     },
     "metadata": {},
     "output_type": "display_data"
    },
    {
     "name": "stderr",
     "output_type": "stream",
     "text": [
      "C:\\Users\\felic\\anaconda3\\envs\\ada\\lib\\site-packages\\pandas_profiling\\model\\correlations.py:67: UserWarning: There was an attempt to calculate the auto correlation, but this failed.\n",
      "To hide this warning, disable the calculation\n",
      "(using `df.profile_report(correlations={\"auto\": {\"calculate\": False}})`\n",
      "If this is problematic for your use case, please report this as an issue:\n",
      "https://github.com/ydataai/pandas-profiling/issues\n",
      "(include the error message: 'No data; `observed` has size 0.')\n",
      "  warnings.warn(\n"
     ]
    },
    {
     "data": {
      "application/vnd.jupyter.widget-view+json": {
       "model_id": "1093bcbfd97f4349baee59cf606eab74",
       "version_major": 2,
       "version_minor": 0
      },
      "text/plain": [
       "Generate report structure:   0%|          | 0/1 [00:00<?, ?it/s]"
      ]
     },
     "metadata": {},
     "output_type": "display_data"
    },
    {
     "data": {
      "application/vnd.jupyter.widget-view+json": {
       "model_id": "",
       "version_major": 2,
       "version_minor": 0
      },
      "text/plain": [
       "Render widgets:   0%|          | 0/1 [00:00<?, ?it/s]"
      ]
     },
     "metadata": {},
     "output_type": "display_data"
    },
    {
     "data": {
      "application/vnd.jupyter.widget-view+json": {
       "model_id": "b78656aa8dd74dab90493279cf0d6e19",
       "version_major": 2,
       "version_minor": 0
      },
      "text/plain": [
       "VBox(children=(Tab(children=(Tab(children=(GridBox(children=(VBox(children=(GridspecLayout(children=(HTML(valu…"
      ]
     },
     "metadata": {},
     "output_type": "display_data"
    },
    {
     "data": {
      "application/vnd.jupyter.widget-view+json": {
       "model_id": "23e9702baabb499591c47560b5bdd3cc",
       "version_major": 2,
       "version_minor": 0
      },
      "text/plain": [
       "Render HTML:   0%|          | 0/1 [00:00<?, ?it/s]"
      ]
     },
     "metadata": {},
     "output_type": "display_data"
    },
    {
     "data": {
      "application/vnd.jupyter.widget-view+json": {
       "model_id": "c512e27834ee437990f3f35b886e9ec6",
       "version_major": 2,
       "version_minor": 0
      },
      "text/plain": [
       "Export report to file:   0%|          | 0/1 [00:00<?, ?it/s]"
      ]
     },
     "metadata": {},
     "output_type": "display_data"
    }
   ],
   "source": [
    "# EDA on the DataFrame\n",
    "profile = ProfileReport(df_profile, title=\"Pandas Profiling Report\") # Choose the dataframe you want\n",
    "profile.to_widgets()\n",
    "profile.to_file(\"./eda/\" + df_profile.name + \".html\") # Write the name of the dataframe"
   ]
  },
  {
   "cell_type": "markdown",
   "id": "2704d227-2f8a-4044-830d-19f87c8a956a",
   "metadata": {},
   "source": [
    "***Comments:***\n",
    "- ..."
   ]
  },
  {
   "cell_type": "code",
   "execution_count": null,
   "id": "88c8dc25-a3e1-42c0-96e0-9324393eeae7",
   "metadata": {},
   "outputs": [],
   "source": []
  }
 ],
 "metadata": {
  "kernelspec": {
   "display_name": "Python [conda env:ada] *",
   "language": "python",
   "name": "conda-env-ada-py"
  },
  "language_info": {
   "codemirror_mode": {
    "name": "ipython",
    "version": 3
   },
   "file_extension": ".py",
   "mimetype": "text/x-python",
   "name": "python",
   "nbconvert_exporter": "python",
   "pygments_lexer": "ipython3",
   "version": "3.8.13"
  }
 },
 "nbformat": 4,
 "nbformat_minor": 5
}
