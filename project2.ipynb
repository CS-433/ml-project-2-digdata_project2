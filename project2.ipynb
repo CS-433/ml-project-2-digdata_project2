{
 "cells": [
  {
   "cell_type": "markdown",
   "id": "7161f50f-14de-4a00-9951-535df873c0d2",
   "metadata": {},
   "source": [
    "# Project 2: Covid"
   ]
  },
  {
   "cell_type": "code",
   "execution_count": 3,
   "id": "ea38c3b3-4b5c-4346-a021-66fd167ed5e4",
   "metadata": {},
   "outputs": [
    {
     "name": "stdout",
     "output_type": "stream",
     "text": [
      "The autoreload extension is already loaded. To reload it, use:\n",
      "  %reload_ext autoreload\n"
     ]
    }
   ],
   "source": [
    "# Import\n",
    "%matplotlib inline\n",
    "import numpy as np\n",
    "from matplotlib import pyplot as plt\n",
    "import pandas as pd\n",
    "from pandas_profiling import ProfileReport\n",
    "import os\n",
    "%load_ext autoreload\n",
    "%autoreload 2"
   ]
  },
  {
   "cell_type": "markdown",
   "id": "dd9743d5-e58e-4dd8-b8b2-7a4eed760c9b",
   "metadata": {},
   "source": [
    "## 1. Literature"
   ]
  },
  {
   "cell_type": "markdown",
   "id": "cae98ebb-8302-4241-b8f5-8c14173f3453",
   "metadata": {},
   "source": [
    "..."
   ]
  },
  {
   "cell_type": "markdown",
   "id": "9ade6658-bec2-4d54-8557-00d697033f7f",
   "metadata": {},
   "source": [
    "## 2. EDA, feature cleaning and engineering"
   ]
  },
  {
   "cell_type": "markdown",
   "id": "c20519c4-9547-4a05-9569-d96d07a42267",
   "metadata": {},
   "source": [
    "### 2.1. Load data"
   ]
  },
  {
   "cell_type": "markdown",
   "id": "ef0b90f9-7b6c-4417-97ea-34d4ee3b05e1",
   "metadata": {},
   "source": [
    "TODO: expliquer d'où provient data_selection"
   ]
  },
  {
   "cell_type": "markdown",
   "id": "f809a66e-2d05-4fa0-a610-8bb9f430c68f",
   "metadata": {},
   "source": [
    "### 2.2 EDA"
   ]
  },
  {
   "cell_type": "code",
   "execution_count": 13,
   "id": "8e3d6c6c-9b76-47a6-b6c5-b3c06f097af0",
   "metadata": {},
   "outputs": [],
   "source": [
    "# CHOOSE YOUR DATAFRAME :\n",
    "df_profile = DS"
   ]
  },
  {
   "cell_type": "code",
   "execution_count": 14,
   "id": "43e1f9ce-27ab-4ced-a116-90fec1d45e9a",
   "metadata": {},
   "outputs": [
    {
     "data": {
      "text/html": [
       "<div>\n",
       "<style scoped>\n",
       "    .dataframe tbody tr th:only-of-type {\n",
       "        vertical-align: middle;\n",
       "    }\n",
       "\n",
       "    .dataframe tbody tr th {\n",
       "        vertical-align: top;\n",
       "    }\n",
       "\n",
       "    .dataframe thead th {\n",
       "        text-align: right;\n",
       "    }\n",
       "</style>\n",
       "<table border=\"1\" class=\"dataframe\">\n",
       "  <thead>\n",
       "    <tr style=\"text-align: right;\">\n",
       "      <th></th>\n",
       "      <th>Variable_Name</th>\n",
       "      <th>Variable_Type</th>\n",
       "      <th>Variable_Definition</th>\n",
       "    </tr>\n",
       "  </thead>\n",
       "  <tbody>\n",
       "    <tr>\n",
       "      <th>157</th>\n",
       "      <td>STUDYID</td>\n",
       "      <td>character</td>\n",
       "      <td>This variable contains the unique identifier for a study. This is the main key/identifier for all domains in the IDDO Data Repository  every domain table will have the STUDYID identifier.</td>\n",
       "    </tr>\n",
       "    <tr>\n",
       "      <th>158</th>\n",
       "      <td>DOMAIN</td>\n",
       "      <td>character</td>\n",
       "      <td>This variable contains the two-character abbreviation for the domain.</td>\n",
       "    </tr>\n",
       "    <tr>\n",
       "      <th>159</th>\n",
       "      <td>USUBJID</td>\n",
       "      <td>character</td>\n",
       "      <td>This variable contains the unique subject identifier for a study. This is a secondary key/identifier for all subject-level domains in the IDDO Data Repository  every domain table containing subject-level information (i.e., all but the Trial Domains) will have the USUBJID identifier. This variable will identify unique subjects in the repository.</td>\n",
       "    </tr>\n",
       "    <tr>\n",
       "      <th>160</th>\n",
       "      <td>DSSEQ</td>\n",
       "      <td>number</td>\n",
       "      <td>This variable contains a sequence number to ensure uniqueness of subject records within the domain. Each observation (each recorded as a separate row in the domain) will have a unique number within each subject, e.g., a subject with 10 observations will have 10 rows and each row is numbered sequentially from 1-10.</td>\n",
       "    </tr>\n",
       "    <tr>\n",
       "      <th>161</th>\n",
       "      <td>DSTERM</td>\n",
       "      <td>character</td>\n",
       "      <td>This variable contains the verbatim wording of the event as provided by the Data Contributor.</td>\n",
       "    </tr>\n",
       "    <tr>\n",
       "      <th>162</th>\n",
       "      <td>DSMODIFY</td>\n",
       "      <td>character</td>\n",
       "      <td>This variable contains a modification of the verbatim wording of the event. This is used to capture IDDO-defined standardised terms of the event.</td>\n",
       "    </tr>\n",
       "    <tr>\n",
       "      <th>163</th>\n",
       "      <td>DSDECOD</td>\n",
       "      <td>character</td>\n",
       "      <td>This variable contains a dictionary-derived text description of the event. This is defined by CDISC Controlled Terminology and IDDO Controlled Terminology. More details can be found in the IDDO Implementation Guide.</td>\n",
       "    </tr>\n",
       "    <tr>\n",
       "      <th>164</th>\n",
       "      <td>VISITNUM</td>\n",
       "      <td>number</td>\n",
       "      <td>This variable contains a number designating the planned clinical encounter number. This is a numeric version of the visit described in VISIT? and it is used for sorting.</td>\n",
       "    </tr>\n",
       "    <tr>\n",
       "      <th>165</th>\n",
       "      <td>VISIT</td>\n",
       "      <td>character</td>\n",
       "      <td>This variable contains the protocol-defined text description of the planned clinical encounter number (as defined in the Trial Visits (TV) Domain).</td>\n",
       "    </tr>\n",
       "    <tr>\n",
       "      <th>166</th>\n",
       "      <td>VISITDY</td>\n",
       "      <td>number</td>\n",
       "      <td>This variable contains a number designating the Study Day of the planned clinical encounter. This is also a numeric version of the visit described in VISIT? and can be used for sorting.</td>\n",
       "    </tr>\n",
       "    <tr>\n",
       "      <th>167</th>\n",
       "      <td>EPOCH</td>\n",
       "      <td>character</td>\n",
       "      <td>This variable describes the Epoch period of the observation (e.g., Baseline, Treatment, Follow-up).  This is defined by CDISC Controlled Terminology</td>\n",
       "    </tr>\n",
       "    <tr>\n",
       "      <th>168</th>\n",
       "      <td>DSDTC</td>\n",
       "      <td>character</td>\n",
       "      <td>This variable contains the date and time of the collection of the observation, administration of a test or collection of a specimen.  This date and time will be provided in ISO 8601 format.</td>\n",
       "    </tr>\n",
       "    <tr>\n",
       "      <th>169</th>\n",
       "      <td>DSSTDTC</td>\n",
       "      <td>character</td>\n",
       "      <td>This variable contains the start date and time of the observation or initiation of the event (as opposed to the date the question about the observation/event was asked). This date and time will be provided in ISO 8601 format.</td>\n",
       "    </tr>\n",
       "    <tr>\n",
       "      <th>170</th>\n",
       "      <td>DSDY</td>\n",
       "      <td>number</td>\n",
       "      <td>This variable describes the study day of the observation relative to the date in RFSTDTC.  This will be blank for records with no value in the --DTC variable.</td>\n",
       "    </tr>\n",
       "    <tr>\n",
       "      <th>171</th>\n",
       "      <td>DSSTDY</td>\n",
       "      <td>number</td>\n",
       "      <td>This variable describes the study day of the start of the observation relative to the date in RFSTDTC.  This will be blank for records with no value in the --STDTC variable.</td>\n",
       "    </tr>\n",
       "    <tr>\n",
       "      <th>172</th>\n",
       "      <td>DSTPT</td>\n",
       "      <td>character</td>\n",
       "      <td>This variable describes when the observation should have happened as defined in the study protocol. This may be represented as an elapsed time relative to a fixed reference point described in --TPTREF.</td>\n",
       "    </tr>\n",
       "    <tr>\n",
       "      <th>173</th>\n",
       "      <td>DSTPTREF</td>\n",
       "      <td>character</td>\n",
       "      <td>This variable contains the name of the fixed reference point referred to by --TPT, --ELTM, e.g. PREVIOUS DOSE, PREVIOUS MEAL.</td>\n",
       "    </tr>\n",
       "    <tr>\n",
       "      <th>174</th>\n",
       "      <td>DSSTRF</td>\n",
       "      <td>character</td>\n",
       "      <td>This variable describes when the start of the observation happened in relation to the date recorded in RFSTDTC, e.g. BEFORE, DURING or AFTER.</td>\n",
       "    </tr>\n",
       "    <tr>\n",
       "      <th>175</th>\n",
       "      <td>DSEVINTX</td>\n",
       "      <td>character</td>\n",
       "      <td>This variable contains information about the evaluation interval associated with an observation when it cannot be represented in ISO 8601 format (e.g., \"Last few weeks\", \"While hospitalized\").</td>\n",
       "    </tr>\n",
       "    <tr>\n",
       "      <th>176</th>\n",
       "      <td>DSSTRTPT</td>\n",
       "      <td>character</td>\n",
       "      <td>This variable describes when the start of the observation happened in relation to the point described in --STTPT, e.g. BEFORE, DURING or AFTER.</td>\n",
       "    </tr>\n",
       "    <tr>\n",
       "      <th>177</th>\n",
       "      <td>DSSTTPT</td>\n",
       "      <td>character</td>\n",
       "      <td>This variable contains the name of the fixed reference point referred to by --STRTPT, e.g. PREVIOUS DOSE, 2003-12-15.</td>\n",
       "    </tr>\n",
       "    <tr>\n",
       "      <th>178</th>\n",
       "      <td>DSCDSTDY</td>\n",
       "      <td>number</td>\n",
       "      <td>This variable contains the contributor-defined study day expressed in integer days relative to the start of the study. This variable is used when no dates are provided, only a contributor-defined proxy.</td>\n",
       "    </tr>\n",
       "    <tr>\n",
       "      <th>179</th>\n",
       "      <td>DSRPOC</td>\n",
       "      <td>character</td>\n",
       "      <td>This variable describes the reported time period for the occurrence of an event when the actual date/time is not provided. This is provided in ISO 8601 format.</td>\n",
       "    </tr>\n",
       "  </tbody>\n",
       "</table>\n",
       "</div>"
      ],
      "text/plain": [
       "    Variable_Name Variable_Type  \\\n",
       "157       STUDYID     character   \n",
       "158        DOMAIN     character   \n",
       "159       USUBJID     character   \n",
       "160         DSSEQ        number   \n",
       "161        DSTERM     character   \n",
       "162      DSMODIFY     character   \n",
       "163       DSDECOD     character   \n",
       "164      VISITNUM        number   \n",
       "165         VISIT     character   \n",
       "166       VISITDY        number   \n",
       "167         EPOCH     character   \n",
       "168         DSDTC     character   \n",
       "169       DSSTDTC     character   \n",
       "170          DSDY        number   \n",
       "171        DSSTDY        number   \n",
       "172         DSTPT     character   \n",
       "173      DSTPTREF     character   \n",
       "174        DSSTRF     character   \n",
       "175      DSEVINTX     character   \n",
       "176      DSSTRTPT     character   \n",
       "177       DSSTTPT     character   \n",
       "178      DSCDSTDY        number   \n",
       "179        DSRPOC     character   \n",
       "\n",
       "                                                                                                                                                                                                                                                                                                                                             Variable_Definition  \n",
       "157                                                                                                                                                                 This variable contains the unique identifier for a study. This is the main key/identifier for all domains in the IDDO Data Repository  every domain table will have the STUDYID identifier.  \n",
       "158                                                                                                                                                                                                                                                                                        This variable contains the two-character abbreviation for the domain.  \n",
       "159  This variable contains the unique subject identifier for a study. This is a secondary key/identifier for all subject-level domains in the IDDO Data Repository  every domain table containing subject-level information (i.e., all but the Trial Domains) will have the USUBJID identifier. This variable will identify unique subjects in the repository.  \n",
       "160                                  This variable contains a sequence number to ensure uniqueness of subject records within the domain. Each observation (each recorded as a separate row in the domain) will have a unique number within each subject, e.g., a subject with 10 observations will have 10 rows and each row is numbered sequentially from 1-10.  \n",
       "161                                                                                                                                                                                                                                                                This variable contains the verbatim wording of the event as provided by the Data Contributor.  \n",
       "162                                                                                                                                                                                                            This variable contains a modification of the verbatim wording of the event. This is used to capture IDDO-defined standardised terms of the event.  \n",
       "163                                                                                                                                      This variable contains a dictionary-derived text description of the event. This is defined by CDISC Controlled Terminology and IDDO Controlled Terminology. More details can be found in the IDDO Implementation Guide.  \n",
       "164                                                                                                                                                                                   This variable contains a number designating the planned clinical encounter number. This is a numeric version of the visit described in VISIT? and it is used for sorting.   \n",
       "165                                                                                                                                                                                                          This variable contains the protocol-defined text description of the planned clinical encounter number (as defined in the Trial Visits (TV) Domain).  \n",
       "166                                                                                                                                                                    This variable contains a number designating the Study Day of the planned clinical encounter. This is also a numeric version of the visit described in VISIT? and can be used for sorting.  \n",
       "167                                                                                                                                                                                                         This variable describes the Epoch period of the observation (e.g., Baseline, Treatment, Follow-up).  This is defined by CDISC Controlled Terminology  \n",
       "168                                                                                                                                                                This variable contains the date and time of the collection of the observation, administration of a test or collection of a specimen.  This date and time will be provided in ISO 8601 format.  \n",
       "169                                                                                                                            This variable contains the start date and time of the observation or initiation of the event (as opposed to the date the question about the observation/event was asked). This date and time will be provided in ISO 8601 format.  \n",
       "170                                                                                                                                                                                               This variable describes the study day of the observation relative to the date in RFSTDTC.  This will be blank for records with no value in the --DTC variable.  \n",
       "171                                                                                                                                                                                This variable describes the study day of the start of the observation relative to the date in RFSTDTC.  This will be blank for records with no value in the --STDTC variable.  \n",
       "172                                                                                                                                                   This variable describes when the observation should have happened as defined in the study protocol. This may be represented as an elapsed time relative to a fixed reference point described in --TPTREF.   \n",
       "173                                                                                                                                                                                                                                This variable contains the name of the fixed reference point referred to by --TPT, --ELTM, e.g. PREVIOUS DOSE, PREVIOUS MEAL.  \n",
       "174                                                                                                                                                                                                                This variable describes when the start of the observation happened in relation to the date recorded in RFSTDTC, e.g. BEFORE, DURING or AFTER.  \n",
       "175                                                                                                                                                             This variable contains information about the evaluation interval associated with an observation when it cannot be represented in ISO 8601 format (e.g., \"Last few weeks\", \"While hospitalized\").  \n",
       "176                                                                                                                                                                                                              This variable describes when the start of the observation happened in relation to the point described in --STTPT, e.g. BEFORE, DURING or AFTER.  \n",
       "177                                                                                                                                                                                                                                        This variable contains the name of the fixed reference point referred to by --STRTPT, e.g. PREVIOUS DOSE, 2003-12-15.  \n",
       "178                                                                                                                                                  This variable contains the contributor-defined study day expressed in integer days relative to the start of the study. This variable is used when no dates are provided, only a contributor-defined proxy.   \n",
       "179                                                                                                                                                                                              This variable describes the reported time period for the occurrence of an event when the actual date/time is not provided. This is provided in ISO 8601 format.  "
      ]
     },
     "execution_count": 14,
     "metadata": {},
     "output_type": "execute_result"
    }
   ],
   "source": [
    "# See variables of the DataFrame\n",
    "pd.set_option(\"display.max_colwidth\", 1000)\n",
    "df_profile_var = data_description.loc[data_description.Domain==df_profile.name, ['Variable_Name', 'Variable_Type', 'Variable_Definition']]\n",
    "df_profile_var.to_csv(\"./eda/\" + df_profile.name + \"_variables-description.csv\", index=False)\n",
    "df_profile_var"
   ]
  },
  {
   "cell_type": "code",
   "execution_count": 15,
   "id": "a43b516c-683e-4d48-bccf-e2d025d25e94",
   "metadata": {},
   "outputs": [
    {
     "data": {
      "application/vnd.jupyter.widget-view+json": {
       "model_id": "c3bb5ef03cd2462dabd483ca75956c46",
       "version_major": 2,
       "version_minor": 0
      },
      "text/plain": [
       "Summarize dataset:   0%|          | 0/5 [00:00<?, ?it/s]"
      ]
     },
     "metadata": {},
     "output_type": "display_data"
    },
    {
     "name": "stderr",
     "output_type": "stream",
     "text": [
      "C:\\Users\\felic\\anaconda3\\envs\\ada\\lib\\site-packages\\pandas_profiling\\model\\correlations.py:67: UserWarning: There was an attempt to calculate the auto correlation, but this failed.\n",
      "To hide this warning, disable the calculation\n",
      "(using `df.profile_report(correlations={\"auto\": {\"calculate\": False}})`\n",
      "If this is problematic for your use case, please report this as an issue:\n",
      "https://github.com/ydataai/pandas-profiling/issues\n",
      "(include the error message: 'No data; `observed` has size 0.')\n",
      "  warnings.warn(\n",
      "C:\\Users\\felic\\anaconda3\\envs\\ada\\lib\\site-packages\\scipy\\stats\\_stats_py.py:5218: RuntimeWarning: overflow encountered in longlong_scalars\n",
      "  (2 * xtie * ytie) / m + x0 * y0 / (9 * m * (size - 2)))\n"
     ]
    },
    {
     "data": {
      "application/vnd.jupyter.widget-view+json": {
       "model_id": "62ac4716f2d94ab4abf9761e14ec140d",
       "version_major": 2,
       "version_minor": 0
      },
      "text/plain": [
       "Generate report structure:   0%|          | 0/1 [00:00<?, ?it/s]"
      ]
     },
     "metadata": {},
     "output_type": "display_data"
    },
    {
     "data": {
      "application/vnd.jupyter.widget-view+json": {
       "model_id": "9baff78e45b84a50893f799fc371dbfa",
       "version_major": 2,
       "version_minor": 0
      },
      "text/plain": [
       "Render widgets:   0%|          | 0/1 [00:00<?, ?it/s]"
      ]
     },
     "metadata": {},
     "output_type": "display_data"
    },
    {
     "data": {
      "application/vnd.jupyter.widget-view+json": {
       "model_id": "eec3e1ccd7bf48bb804118550e33e29f",
       "version_major": 2,
       "version_minor": 0
      },
      "text/plain": [
       "VBox(children=(Tab(children=(Tab(children=(GridBox(children=(VBox(children=(GridspecLayout(children=(HTML(valu…"
      ]
     },
     "metadata": {},
     "output_type": "display_data"
    },
    {
     "data": {
      "application/vnd.jupyter.widget-view+json": {
       "model_id": "9cf579fbc4bc4580a10adfdccaeeaa47",
       "version_major": 2,
       "version_minor": 0
      },
      "text/plain": [
       "Render HTML:   0%|          | 0/1 [00:00<?, ?it/s]"
      ]
     },
     "metadata": {},
     "output_type": "display_data"
    },
    {
     "data": {
      "application/vnd.jupyter.widget-view+json": {
       "model_id": "cecf8e448d7a47b1b8038653b5641a7c",
       "version_major": 2,
       "version_minor": 0
      },
      "text/plain": [
       "Export report to file:   0%|          | 0/1 [00:00<?, ?it/s]"
      ]
     },
     "metadata": {},
     "output_type": "display_data"
    }
   ],
   "source": [
    "# EDA on the DataFrame\n",
    "profile = ProfileReport(df_profile, title=\"Pandas Profiling Report\") # Choose the dataframe you want\n",
    "profile.to_widgets()\n",
    "profile.to_file(\"./eda/\" + df_profile.name + \".html\") # Write the name of the dataframe"
   ]
  },
  {
   "cell_type": "markdown",
   "id": "2704d227-2f8a-4044-830d-19f87c8a956a",
   "metadata": {},
   "source": [
    "_**Comments:**_\n"
   ]
  },
  {
   "cell_type": "code",
   "execution_count": null,
   "id": "88c8dc25-a3e1-42c0-96e0-9324393eeae7",
   "metadata": {},
   "outputs": [],
   "source": []
  }
 ],
 "metadata": {
  "kernelspec": {
   "display_name": "Python [conda env:ada] *",
   "language": "python",
   "name": "conda-env-ada-py"
  },
  "language_info": {
   "codemirror_mode": {
    "name": "ipython",
    "version": 3
   },
   "file_extension": ".py",
   "mimetype": "text/x-python",
   "name": "python",
   "nbconvert_exporter": "python",
   "pygments_lexer": "ipython3",
   "version": "3.8.13"
  }
 },
 "nbformat": 4,
 "nbformat_minor": 5
}
