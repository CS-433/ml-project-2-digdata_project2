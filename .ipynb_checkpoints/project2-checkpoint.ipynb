{
 "cells": [
  {
   "cell_type": "markdown",
   "id": "7161f50f-14de-4a00-9951-535df873c0d2",
   "metadata": {},
   "source": [
    "# Project 2: Covid"
   ]
  },
  {
   "cell_type": "code",
   "execution_count": 3,
   "id": "ea38c3b3-4b5c-4346-a021-66fd167ed5e4",
   "metadata": {},
   "outputs": [
    {
     "name": "stdout",
     "output_type": "stream",
     "text": [
      "The autoreload extension is already loaded. To reload it, use:\n",
      "  %reload_ext autoreload\n"
     ]
    }
   ],
   "source": [
    "# Import\n",
    "%matplotlib inline\n",
    "import numpy as np\n",
    "from matplotlib import pyplot as plt\n",
    "import pandas as pd\n",
    "from pandas_profiling import ProfileReport\n",
    "import os\n",
    "%load_ext autoreload\n",
    "%autoreload 2"
   ]
  },
  {
   "cell_type": "markdown",
   "id": "dd9743d5-e58e-4dd8-b8b2-7a4eed760c9b",
   "metadata": {},
   "source": [
    "## 1. Literature"
   ]
  },
  {
   "cell_type": "markdown",
   "id": "cae98ebb-8302-4241-b8f5-8c14173f3453",
   "metadata": {},
   "source": [
    "..."
   ]
  },
  {
   "cell_type": "markdown",
   "id": "9ade6658-bec2-4d54-8557-00d697033f7f",
   "metadata": {},
   "source": [
    "## 2. EDA, feature cleaning and engineering"
   ]
  },
  {
   "cell_type": "markdown",
   "id": "c20519c4-9547-4a05-9569-d96d07a42267",
   "metadata": {},
   "source": [
    "### 2.1. Load data"
   ]
  },
  {
   "cell_type": "code",
   "execution_count": 4,
   "id": "b47efb1c-829b-4a6a-8dba-53cfd235a937",
   "metadata": {},
   "outputs": [
    {
     "data": {
      "text/html": [
       "<div>\n",
       "<style scoped>\n",
       "    .dataframe tbody tr th:only-of-type {\n",
       "        vertical-align: middle;\n",
       "    }\n",
       "\n",
       "    .dataframe tbody tr th {\n",
       "        vertical-align: top;\n",
       "    }\n",
       "\n",
       "    .dataframe thead th {\n",
       "        text-align: right;\n",
       "    }\n",
       "</style>\n",
       "<table border=\"1\" class=\"dataframe\">\n",
       "  <thead>\n",
       "    <tr style=\"text-align: right;\">\n",
       "      <th></th>\n",
       "      <th>Domain</th>\n",
       "      <th>Domain_Name</th>\n",
       "      <th>Variable_Name</th>\n",
       "      <th>Variable_Label</th>\n",
       "      <th>Variable_Type</th>\n",
       "      <th>Variable_Definition</th>\n",
       "      <th>Controlled_Terminology?</th>\n",
       "    </tr>\n",
       "  </thead>\n",
       "  <tbody>\n",
       "    <tr>\n",
       "      <th>0</th>\n",
       "      <td>AU</td>\n",
       "      <td>Audiometry Test Results</td>\n",
       "      <td>STUDYID</td>\n",
       "      <td>Study Identifier</td>\n",
       "      <td>character</td>\n",
       "      <td>This variable contains the unique identifier f...</td>\n",
       "      <td>NaN</td>\n",
       "    </tr>\n",
       "    <tr>\n",
       "      <th>1</th>\n",
       "      <td>AU</td>\n",
       "      <td>Audiometry Test Results</td>\n",
       "      <td>DOMAIN</td>\n",
       "      <td>Domain Abbreviation</td>\n",
       "      <td>character</td>\n",
       "      <td>This variable contains the two-character abbre...</td>\n",
       "      <td>Y</td>\n",
       "    </tr>\n",
       "    <tr>\n",
       "      <th>2</th>\n",
       "      <td>AU</td>\n",
       "      <td>Audiometry Test Results</td>\n",
       "      <td>USUBJID</td>\n",
       "      <td>Unique Subject Identifier</td>\n",
       "      <td>character</td>\n",
       "      <td>This variable contains the unique subject iden...</td>\n",
       "      <td>NaN</td>\n",
       "    </tr>\n",
       "  </tbody>\n",
       "</table>\n",
       "</div>"
      ],
      "text/plain": [
       "  Domain              Domain_Name Variable_Name             Variable_Label  \\\n",
       "0     AU  Audiometry Test Results       STUDYID           Study Identifier   \n",
       "1     AU  Audiometry Test Results        DOMAIN        Domain Abbreviation   \n",
       "2     AU  Audiometry Test Results       USUBJID  Unique Subject Identifier   \n",
       "\n",
       "  Variable_Type                                Variable_Definition  \\\n",
       "0     character  This variable contains the unique identifier f...   \n",
       "1     character  This variable contains the two-character abbre...   \n",
       "2     character  This variable contains the unique subject iden...   \n",
       "\n",
       "  Controlled_Terminology?  \n",
       "0                     NaN  \n",
       "1                       Y  \n",
       "2                     NaN  "
      ]
     },
     "execution_count": 4,
     "metadata": {},
     "output_type": "execute_result"
    }
   ],
   "source": [
    "# Load file with descriptions of data variables\n",
    "data_description_folder = './data/'\n",
    "data_description = pd.read_csv(data_description_folder + 'IDDO_SDTM_Data-Dictionary_v3.0_2022-10-06.csv', sep=';', encoding=\"ISO-8859-1\")\n",
    "data_description.columns = data_description.columns.str.replace(' ', '_')\n",
    "data_description.head(3)"
   ]
  },
  {
   "cell_type": "code",
   "execution_count": 3,
   "id": "713fa675-a86e-4d1d-b36f-1b61baddeaa3",
   "metadata": {},
   "outputs": [
    {
     "name": "stdout",
     "output_type": "stream",
     "text": [
      "Names of DataFrames ---> Description :\n",
      "DM --->  Demographics\n",
      "DS --->  Disposition\n",
      "ER --->  Environmental Risk\n",
      "HO --->  Healthcare Encounters\n",
      "IE --->  Inclusion/Exclusion Criteria\n",
      "error\n",
      "LB --->  Laboratory Results\n",
      "MB --->  Microbiology Specimen\n",
      "PO --->  Pregnancy Outcomes\n",
      "RELREC --->  Related Records\n",
      "RP --->  Reproductive System Findings\n",
      "RS --->  Disease Response and Clinical Classification\n",
      "SA --->  Clinical and Adverse Events\n",
      "SC --->  Subject Characteristics\n",
      "SV --->  Subject Visits\n",
      "TI --->  Trial Inclusion Exclusion Criteria\n",
      "TS --->  Trial Summary\n",
      "TV --->  Trial Visits\n",
      "VS --->  Vital Signs\n"
     ]
    }
   ],
   "source": [
    "# Load data\n",
    "df_list = []\n",
    "data_folder = './data/DATA_2022-09-01/'\n",
    "print('Names of DataFrames ---> Description :')\n",
    "for f in os.listdir(data_folder):\n",
    "    if f != 'IN_2022-09-01.csv':\n",
    "        df_name_str = f.split('_')[0]\n",
    "        df_list.append(df_name_str)\n",
    "        df_name = df_name_str\n",
    "        locals()[df_name] = pd.read_csv(data_folder + f, sep=',', low_memory=False) \n",
    "        locals()[df_name].name = df_name_str\n",
    "        print(df_name_str, '---> ', data_description.loc[data_description.Domain==df_name_str, 'Domain_Name'].iloc[0])\n",
    "    else:\n",
    "        #df_name_str = f.split('_')[0]\n",
    "        #df_list.append(df_name_str)\n",
    "        #df_name = df_name_str\n",
    "        #mylist = []\n",
    "        #for chunk in  pd.read_csv(data_folder + f, sep=',', low_memory=False, chunksize=2000):\n",
    "            #mylist.append(chunk)\n",
    "        #locals()[df_name] = pd.concat(mylist, axis= 0)\n",
    "        #locals()[df_name].name = df_name_str\n",
    "        #del mylist\n",
    "        print('error')"
   ]
  },
  {
   "cell_type": "code",
   "execution_count": 79,
   "id": "e0c050e2-4c9b-4e60-bf97-97a03d96ee99",
   "metadata": {},
   "outputs": [],
   "source": [
    "data_folder = './data/DATA_2022-09-01/'\n",
    "LB = pd.read_csv(data_folder + 'LB_2022-09-01.csv', sep=',', low_memory=False) \n",
    "LB.name = 'LB'"
   ]
  },
  {
   "cell_type": "markdown",
   "id": "b93977b3-f2f2-4826-9a83-74184c879189",
   "metadata": {},
   "source": [
    "### 2.2. Pre-selection of variables"
   ]
  },
  {
   "cell_type": "markdown",
   "id": "b580fb33-8ea4-4099-b503-f10864051364",
   "metadata": {},
   "source": [
    "#### For DM:"
   ]
  },
  {
   "cell_type": "code",
   "execution_count": 11,
   "id": "bf7fab9a-a3ee-4e6b-98c8-a4185b31014b",
   "metadata": {},
   "outputs": [
    {
     "data": {
      "text/html": [
       "<div>\n",
       "<style scoped>\n",
       "    .dataframe tbody tr th:only-of-type {\n",
       "        vertical-align: middle;\n",
       "    }\n",
       "\n",
       "    .dataframe tbody tr th {\n",
       "        vertical-align: top;\n",
       "    }\n",
       "\n",
       "    .dataframe thead th {\n",
       "        text-align: right;\n",
       "    }\n",
       "</style>\n",
       "<table border=\"1\" class=\"dataframe\">\n",
       "  <thead>\n",
       "    <tr style=\"text-align: right;\">\n",
       "      <th></th>\n",
       "      <th>Variable_Name</th>\n",
       "      <th>Variable_Type</th>\n",
       "      <th>Variable_Definition</th>\n",
       "    </tr>\n",
       "  </thead>\n",
       "  <tbody>\n",
       "    <tr>\n",
       "      <th>130</th>\n",
       "      <td>STUDYID</td>\n",
       "      <td>character</td>\n",
       "      <td>This variable contains the unique identifier for a study. This is the main key/identifier for all domains in the IDDO Data Repository  every domain table will have the STUDYID identifier.</td>\n",
       "    </tr>\n",
       "    <tr>\n",
       "      <th>131</th>\n",
       "      <td>DOMAIN</td>\n",
       "      <td>character</td>\n",
       "      <td>This variable contains the two-character abbreviation for the domain.</td>\n",
       "    </tr>\n",
       "    <tr>\n",
       "      <th>132</th>\n",
       "      <td>USUBJID</td>\n",
       "      <td>character</td>\n",
       "      <td>This variable contains the unique subject identifier for a study. This is a secondary key/identifier for all subject-level domains in the IDDO Data Repository  every domain table containing subject-level information (i.e., all but the Trial Domains) will have the USUBJID identifier. This variable will identify unique subjects in the repository.</td>\n",
       "    </tr>\n",
       "    <tr>\n",
       "      <th>133</th>\n",
       "      <td>SUBJID</td>\n",
       "      <td>character</td>\n",
       "      <td>This variable contains the unique subject identifier provided by the data contributor.</td>\n",
       "    </tr>\n",
       "    <tr>\n",
       "      <th>134</th>\n",
       "      <td>RFSTDTC</td>\n",
       "      <td>character</td>\n",
       "      <td>This variable describes the date and time of the start of the Subject Reference Period. The Subject Reference Period is defined by IDDO as starting with the subject's first study encounter and ending with the subject's final study encounter. RFSTDTC corresponds with the time and date of the subject's first study encounter (e.g., screening, enrollment, admission). This date will be used to calculate the relative days in the --DY?, --STDY, --ENDY variables.  This date and time will be provided in ISO 8601 format. This variable will be blank for submissions that do not provide this initial date. All of the derived variables will also be blank since they are all calculated based on RFSTDTC.</td>\n",
       "    </tr>\n",
       "    <tr>\n",
       "      <th>135</th>\n",
       "      <td>DTHDTC</td>\n",
       "      <td>character</td>\n",
       "      <td>This variable describes the date and time of the collection of the observation, administration of a test or collection of a specimen.  This date and time will be provided in ISO 8601 format.</td>\n",
       "    </tr>\n",
       "    <tr>\n",
       "      <th>136</th>\n",
       "      <td>DTHFL</td>\n",
       "      <td>character</td>\n",
       "      <td>This variable contains information about whether the subject died during the study period. The variable is expected to be null if the choice is not \"Yes\".</td>\n",
       "    </tr>\n",
       "    <tr>\n",
       "      <th>137</th>\n",
       "      <td>SITEID</td>\n",
       "      <td>character</td>\n",
       "      <td>This variable contains information about the study site.</td>\n",
       "    </tr>\n",
       "    <tr>\n",
       "      <th>138</th>\n",
       "      <td>INVID</td>\n",
       "      <td>character</td>\n",
       "      <td>This variable contains the unique investigator identifier of the data contributor. This may be used for COVID-19 data where many separate investigators have contributed data to a single large study.</td>\n",
       "    </tr>\n",
       "    <tr>\n",
       "      <th>139</th>\n",
       "      <td>INVNAM</td>\n",
       "      <td>character</td>\n",
       "      <td>This variable contains the clinical trial registry number associated with the subjects record.</td>\n",
       "    </tr>\n",
       "    <tr>\n",
       "      <th>140</th>\n",
       "      <td>AGE</td>\n",
       "      <td>number</td>\n",
       "      <td>This variable contains the age (expressed in the units described in AGEU) for the subject.</td>\n",
       "    </tr>\n",
       "    <tr>\n",
       "      <th>141</th>\n",
       "      <td>AGETXT</td>\n",
       "      <td>character</td>\n",
       "      <td>This variable contains text describing the age of subjects, expressed as a range, at the start of the study. This may be used when no precise age is available.</td>\n",
       "    </tr>\n",
       "    <tr>\n",
       "      <th>142</th>\n",
       "      <td>AGEU</td>\n",
       "      <td>character</td>\n",
       "      <td>This variable contains the unit describing the value in AGE. This is defined by CDISC Controlled Terminology</td>\n",
       "    </tr>\n",
       "    <tr>\n",
       "      <th>143</th>\n",
       "      <td>SEX</td>\n",
       "      <td>character</td>\n",
       "      <td>This variable describes the sex of the subject. This is defined by CDISC Controlled Terminology</td>\n",
       "    </tr>\n",
       "    <tr>\n",
       "      <th>144</th>\n",
       "      <td>RACE</td>\n",
       "      <td>character</td>\n",
       "      <td>This variable describes the race of the subject as provided by the Data Contributor.</td>\n",
       "    </tr>\n",
       "    <tr>\n",
       "      <th>145</th>\n",
       "      <td>ETHNIC</td>\n",
       "      <td>character</td>\n",
       "      <td>This variable describes the ethnicity of the subject as provided by the Data Contributor.</td>\n",
       "    </tr>\n",
       "    <tr>\n",
       "      <th>146</th>\n",
       "      <td>ARMCD</td>\n",
       "      <td>character</td>\n",
       "      <td>This variable contains a code that identifies the treatment arm to which ?the subject was assigned.</td>\n",
       "    </tr>\n",
       "    <tr>\n",
       "      <th>147</th>\n",
       "      <td>ARM</td>\n",
       "      <td>character</td>\n",
       "      <td>This variable describes the treatment arm to which ??the subject was assigned.</td>\n",
       "    </tr>\n",
       "    <tr>\n",
       "      <th>148</th>\n",
       "      <td>COUNTRY</td>\n",
       "      <td>character</td>\n",
       "      <td>This variable contains information about the country of the study site described in SITEID. This is defined by Controlled Terminology.</td>\n",
       "    </tr>\n",
       "    <tr>\n",
       "      <th>149</th>\n",
       "      <td>DMDTC</td>\n",
       "      <td>character</td>\n",
       "      <td>This variable contains the date and time of the collection of the observation, administration of a test or collection of a specimen.  This date and time will be provided in ISO 8601 format.</td>\n",
       "    </tr>\n",
       "    <tr>\n",
       "      <th>150</th>\n",
       "      <td>DMDY</td>\n",
       "      <td>number</td>\n",
       "      <td>This variable describes the study day of the observation relative to the date in RFSTDTC.  This will be blank for records with no value in the --DTC variable.</td>\n",
       "    </tr>\n",
       "  </tbody>\n",
       "</table>\n",
       "</div>"
      ],
      "text/plain": [
       "    Variable_Name Variable_Type  \\\n",
       "130       STUDYID     character   \n",
       "131        DOMAIN     character   \n",
       "132       USUBJID     character   \n",
       "133        SUBJID     character   \n",
       "134       RFSTDTC     character   \n",
       "135        DTHDTC     character   \n",
       "136         DTHFL     character   \n",
       "137        SITEID     character   \n",
       "138         INVID     character   \n",
       "139        INVNAM     character   \n",
       "140           AGE        number   \n",
       "141        AGETXT     character   \n",
       "142          AGEU     character   \n",
       "143           SEX     character   \n",
       "144          RACE     character   \n",
       "145        ETHNIC     character   \n",
       "146         ARMCD     character   \n",
       "147           ARM     character   \n",
       "148       COUNTRY     character   \n",
       "149         DMDTC     character   \n",
       "150          DMDY        number   \n",
       "\n",
       "                                                                                                                                                                                                                                                                                                                                                                                                                                                                                                                                                                                                                                                                                                         Variable_Definition  \n",
       "130                                                                                                                                                                                                                                                                                                                                                                                                                                                                                                                             This variable contains the unique identifier for a study. This is the main key/identifier for all domains in the IDDO Data Repository  every domain table will have the STUDYID identifier.  \n",
       "131                                                                                                                                                                                                                                                                                                                                                                                                                                                                                                                                                                                                                                                    This variable contains the two-character abbreviation for the domain.  \n",
       "132                                                                                                                                                                                                                                                                                                                                                              This variable contains the unique subject identifier for a study. This is a secondary key/identifier for all subject-level domains in the IDDO Data Repository  every domain table containing subject-level information (i.e., all but the Trial Domains) will have the USUBJID identifier. This variable will identify unique subjects in the repository.  \n",
       "133                                                                                                                                                                                                                                                                                                                                                                                                                                                                                                                                                                                                                                   This variable contains the unique subject identifier provided by the data contributor.  \n",
       "134  This variable describes the date and time of the start of the Subject Reference Period. The Subject Reference Period is defined by IDDO as starting with the subject's first study encounter and ending with the subject's final study encounter. RFSTDTC corresponds with the time and date of the subject's first study encounter (e.g., screening, enrollment, admission). This date will be used to calculate the relative days in the --DY?, --STDY, --ENDY variables.  This date and time will be provided in ISO 8601 format. This variable will be blank for submissions that do not provide this initial date. All of the derived variables will also be blank since they are all calculated based on RFSTDTC.  \n",
       "135                                                                                                                                                                                                                                                                                                                                                                                                                                                                                                                           This variable describes the date and time of the collection of the observation, administration of a test or collection of a specimen.  This date and time will be provided in ISO 8601 format.  \n",
       "136                                                                                                                                                                                                                                                                                                                                                                                                                                                                                                                                                              This variable contains information about whether the subject died during the study period. The variable is expected to be null if the choice is not \"Yes\".   \n",
       "137                                                                                                                                                                                                                                                                                                                                                                                                                                                                                                                                                                                                                                                                 This variable contains information about the study site.  \n",
       "138                                                                                                                                                                                                                                                                                                                                                                                                                                                                                                                   This variable contains the unique investigator identifier of the data contributor. This may be used for COVID-19 data where many separate investigators have contributed data to a single large study.  \n",
       "139                                                                                                                                                                                                                                                                                                                                                                                                                                                                                                                                                                                                                           This variable contains the clinical trial registry number associated with the subjects record.  \n",
       "140                                                                                                                                                                                                                                                                                                                                                                                                                                                                                                                                                                                                                               This variable contains the age (expressed in the units described in AGEU) for the subject.  \n",
       "141                                                                                                                                                                                                                                                                                                                                                                                                                                                                                                                                                          This variable contains text describing the age of subjects, expressed as a range, at the start of the study. This may be used when no precise age is available.  \n",
       "142                                                                                                                                                                                                                                                                                                                                                                                                                                                                                                                                                                                                             This variable contains the unit describing the value in AGE. This is defined by CDISC Controlled Terminology  \n",
       "143                                                                                                                                                                                                                                                                                                                                                                                                                                                                                                                                                                                                                          This variable describes the sex of the subject. This is defined by CDISC Controlled Terminology  \n",
       "144                                                                                                                                                                                                                                                                                                                                                                                                                                                                                                                                                                                                                                     This variable describes the race of the subject as provided by the Data Contributor.  \n",
       "145                                                                                                                                                                                                                                                                                                                                                                                                                                                                                                                                                                                                                                This variable describes the ethnicity of the subject as provided by the Data Contributor.  \n",
       "146                                                                                                                                                                                                                                                                                                                                                                                                                                                                                                                                                                                                                      This variable contains a code that identifies the treatment arm to which ?the subject was assigned.  \n",
       "147                                                                                                                                                                                                                                                                                                                                                                                                                                                                                                                                                                                                                                          This variable describes the treatment arm to which ??the subject was assigned.   \n",
       "148                                                                                                                                                                                                                                                                                                                                                                                                                                                                                                                                                                                   This variable contains information about the country of the study site described in SITEID. This is defined by Controlled Terminology.  \n",
       "149                                                                                                                                                                                                                                                                                                                                                                                                                                                                                                                            This variable contains the date and time of the collection of the observation, administration of a test or collection of a specimen.  This date and time will be provided in ISO 8601 format.  \n",
       "150                                                                                                                                                                                                                                                                                                                                                                                                                                                                                                                                                           This variable describes the study day of the observation relative to the date in RFSTDTC.  This will be blank for records with no value in the --DTC variable.  "
      ]
     },
     "execution_count": 11,
     "metadata": {},
     "output_type": "execute_result"
    }
   ],
   "source": [
    "# See variables for DM\n",
    "pd.set_option(\"display.max_colwidth\", 1000)\n",
    "data_description.loc[data_description.Domain==DM.name, ['Variable_Name', 'Variable_Type', 'Variable_Definition']]"
   ]
  },
  {
   "cell_type": "code",
   "execution_count": 12,
   "id": "7b0cf62b-2222-4014-bca6-9faba4d781a6",
   "metadata": {},
   "outputs": [
    {
     "name": "stdout",
     "output_type": "stream",
     "text": [
      "Values for AGETXT:  [nan '95+']\n",
      "Min and Max for AGE:  -70.0 94.089996\n",
      "Min and Max for AGE:  -70.0 96.0\n"
     ]
    }
   ],
   "source": [
    "# Combine AGE and AGETXT\n",
    "\n",
    "print('Values for AGETXT: ', DM['AGETXT'].unique())\n",
    "print('Min and Max for AGE: ', DM['AGE'].min(), DM['AGE'].max())\n",
    "\n",
    "DM.loc[DM.AGETXT=='95+', 'AGE'] = 96. # We make the choice to put 96 for 95+\n",
    "\n",
    "print('Min and Max for AGE after: ', DM['AGE'].min(), DM['AGE'].max())"
   ]
  },
  {
   "cell_type": "code",
   "execution_count": 16,
   "id": "a9486a96-6d24-4271-a377-9df8118a44f4",
   "metadata": {},
   "outputs": [
    {
     "name": "stdout",
     "output_type": "stream",
     "text": [
      "Values for AGEU:  ['YEARS' nan 'MONTHS' 'DAYS']\n",
      "Number of negative values for AGE:  8\n",
      "Number of NA for AGE:  22493\n",
      "Number of NA for AGE after:  22501\n"
     ]
    }
   ],
   "source": [
    "# Investigate and replace negative values for AGE\n",
    "\n",
    "print('Values for AGEU: ', DM['AGEU'].unique())\n",
    "print('Number of negative values for AGE: ', (DM['AGE']<0).sum())\n",
    "print('Number of NA for AGE: ', DM['AGE'].isna().sum())\n",
    "\n",
    "DM.loc[DM.AGE<0, 'AGE'] = np.nan # We make the choice to replace negative values by NA\n",
    "\n",
    "print('Number of NA for AGE after: ', DM['AGE'].isna().sum())"
   ]
  },
  {
   "cell_type": "code",
   "execution_count": 30,
   "id": "1a582444-c792-45b7-8ddd-e5ca7beb3815",
   "metadata": {},
   "outputs": [
    {
     "name": "stdout",
     "output_type": "stream",
     "text": [
      "Values for AGEU:  ['YEARS' nan 'MONTHS' 'DAYS']\n",
      "Number of NA for AGEU when AGE is not NA:  593\n",
      "Min and Max for AGE when AGEU is NA:  [51. 59. 46. 74. 61. 70. 72. 50. 79. 42. 49. 38. 77. 78. 68. 58. 62. 53.\n",
      " 56. nan 66. 71. 44. 52. 87. 80. 37. 41. 64. 67. 73. 27. 40. 63. 85. 88.\n",
      " 91. 92. 60. 45. 76. 86. 83. 47. 57. 69. 54. 65. 55. 81. 29. 48. 43. 89.\n",
      " 39. 75. 25. 36. 84. 28. 32. 33. 96. 90.  0. 24. 35. 23. 19.  3.  5. 34.\n",
      " 22. 31. 20.  8. 17. 13.  4.  7. 12. 15. 16. 30. 18. 82.]\n",
      "Min and Max for AGE:  0.0 96.0\n"
     ]
    }
   ],
   "source": [
    "# Combine AGE and AGEU\n",
    "\n",
    "print('Values for AGEU: ', DM['AGEU'].unique())\n",
    "print('Number of NA for AGEU when AGE is not NA: ', DM.loc[DM.AGE.notna(), 'AGEU'].isna().sum())\n",
    "print('Min and Max for AGE when AGEU is NA: ', DM.loc[DM.AGEU.isna(), 'AGE'].unique())\n",
    "print('Min and Max for AGE: ', DM['AGE'].min(), DM['AGE'].max())\n",
    "\n",
    "# We make the choice to keep the YEARS unit\n",
    "DM.loc[DM.AGEU=='MONTHS', 'AGE'] /= 12\n",
    "DM.loc[DM.AGEU=='DAYS', 'AGE'] /= 365\n",
    "\n",
    "# TODO : Que fait-on quand NA pour AGEU ??"
   ]
  },
  {
   "cell_type": "code",
   "execution_count": 32,
   "id": "43fc3fc2-f818-4c87-84a8-c88a55d94265",
   "metadata": {},
   "outputs": [
    {
     "name": "stdout",
     "output_type": "stream",
     "text": [
      "Values for ARMCD:  ['PER CLIN GUIDE']\n",
      "Values for ARM:  ['Per Clinical Guidelines']\n"
     ]
    }
   ],
   "source": [
    "# Investigate ARMCD and ARM\n",
    "print('Values for ARMCD: ', DM['ARMCD'].unique())\n",
    "print('Values for ARM: ', DM['ARM'].unique())"
   ]
  },
  {
   "cell_type": "code",
   "execution_count": 35,
   "id": "29154c47-03c9-4449-b4a3-33a4b3515f3c",
   "metadata": {},
   "outputs": [
    {
     "data": {
      "text/plain": [
       "Index(['STUDYID', 'DOMAIN', 'USUBJID', 'RFSTDTC', 'DTHFL', 'INVID', 'AGE',\n",
       "       'AGETXT', 'AGEU', 'SEX', 'RACE', 'ETHNIC', 'ARMCD', 'ARM', 'COUNTRY',\n",
       "       'DMDY'],\n",
       "      dtype='object')"
      ]
     },
     "execution_count": 35,
     "metadata": {},
     "output_type": "execute_result"
    }
   ],
   "source": [
    "# Check the existence of columns in DM\n",
    "DM.columns # We can see that DMDTC does not exist"
   ]
  },
  {
   "cell_type": "markdown",
   "id": "e2893399-32c6-40a0-9e55-c5d5eebefae2",
   "metadata": {},
   "source": [
    "**=> To conclud, for DM, we can keep: USUBJID, DTHFL, AGE, SEX, RACE, ETHNIC, COUNTRY, DMDY:**"
   ]
  },
  {
   "cell_type": "code",
   "execution_count": 36,
   "id": "f9871e58-86d9-4ac2-aa03-27cc232fad3f",
   "metadata": {},
   "outputs": [
    {
     "data": {
      "text/plain": [
       "Index(['USUBJID', 'DTHFL', 'AGE', 'SEX', 'RACE', 'ETHNIC', 'COUNTRY', 'DMDY'], dtype='object')"
      ]
     },
     "execution_count": 36,
     "metadata": {},
     "output_type": "execute_result"
    }
   ],
   "source": [
    "# Keep only some columns for DM\n",
    "DM = DM[['USUBJID', 'DTHFL', 'AGE', 'SEX', 'RACE', 'ETHNIC', 'COUNTRY', 'DMDY']]\n",
    "DM.columns"
   ]
  },
  {
   "cell_type": "code",
   "execution_count": 42,
   "id": "f5ee2abf-f548-495b-ba60-3201661fc257",
   "metadata": {},
   "outputs": [
    {
     "data": {
      "text/plain": [
       "(844451, 8)"
      ]
     },
     "execution_count": 42,
     "metadata": {},
     "output_type": "execute_result"
    }
   ],
   "source": [
    "DM.shape"
   ]
  },
  {
   "cell_type": "markdown",
   "id": "94813563-7346-4234-9ade-50da97df492b",
   "metadata": {
    "tags": []
   },
   "source": [
    "#### For DS:"
   ]
  },
  {
   "cell_type": "code",
   "execution_count": 39,
   "id": "f91ebc2e-fe25-41f7-9f9a-f0553ec97b82",
   "metadata": {},
   "outputs": [
    {
     "data": {
      "text/html": [
       "<div>\n",
       "<style scoped>\n",
       "    .dataframe tbody tr th:only-of-type {\n",
       "        vertical-align: middle;\n",
       "    }\n",
       "\n",
       "    .dataframe tbody tr th {\n",
       "        vertical-align: top;\n",
       "    }\n",
       "\n",
       "    .dataframe thead th {\n",
       "        text-align: right;\n",
       "    }\n",
       "</style>\n",
       "<table border=\"1\" class=\"dataframe\">\n",
       "  <thead>\n",
       "    <tr style=\"text-align: right;\">\n",
       "      <th></th>\n",
       "      <th>Variable_Name</th>\n",
       "      <th>Variable_Type</th>\n",
       "      <th>Variable_Definition</th>\n",
       "    </tr>\n",
       "  </thead>\n",
       "  <tbody>\n",
       "    <tr>\n",
       "      <th>157</th>\n",
       "      <td>STUDYID</td>\n",
       "      <td>character</td>\n",
       "      <td>This variable contains the unique identifier for a study. This is the main key/identifier for all domains in the IDDO Data Repository  every domain table will have the STUDYID identifier.</td>\n",
       "    </tr>\n",
       "    <tr>\n",
       "      <th>158</th>\n",
       "      <td>DOMAIN</td>\n",
       "      <td>character</td>\n",
       "      <td>This variable contains the two-character abbreviation for the domain.</td>\n",
       "    </tr>\n",
       "    <tr>\n",
       "      <th>159</th>\n",
       "      <td>USUBJID</td>\n",
       "      <td>character</td>\n",
       "      <td>This variable contains the unique subject identifier for a study. This is a secondary key/identifier for all subject-level domains in the IDDO Data Repository  every domain table containing subject-level information (i.e., all but the Trial Domains) will have the USUBJID identifier. This variable will identify unique subjects in the repository.</td>\n",
       "    </tr>\n",
       "    <tr>\n",
       "      <th>160</th>\n",
       "      <td>DSSEQ</td>\n",
       "      <td>number</td>\n",
       "      <td>This variable contains a sequence number to ensure uniqueness of subject records within the domain. Each observation (each recorded as a separate row in the domain) will have a unique number within each subject, e.g., a subject with 10 observations will have 10 rows and each row is numbered sequentially from 1-10.</td>\n",
       "    </tr>\n",
       "    <tr>\n",
       "      <th>161</th>\n",
       "      <td>DSTERM</td>\n",
       "      <td>character</td>\n",
       "      <td>This variable contains the verbatim wording of the event as provided by the Data Contributor.</td>\n",
       "    </tr>\n",
       "    <tr>\n",
       "      <th>162</th>\n",
       "      <td>DSMODIFY</td>\n",
       "      <td>character</td>\n",
       "      <td>This variable contains a modification of the verbatim wording of the event. This is used to capture IDDO-defined standardised terms of the event.</td>\n",
       "    </tr>\n",
       "    <tr>\n",
       "      <th>163</th>\n",
       "      <td>DSDECOD</td>\n",
       "      <td>character</td>\n",
       "      <td>This variable contains a dictionary-derived text description of the event. This is defined by CDISC Controlled Terminology and IDDO Controlled Terminology. More details can be found in the IDDO Implementation Guide.</td>\n",
       "    </tr>\n",
       "    <tr>\n",
       "      <th>164</th>\n",
       "      <td>VISITNUM</td>\n",
       "      <td>number</td>\n",
       "      <td>This variable contains a number designating the planned clinical encounter number. This is a numeric version of the visit described in VISIT? and it is used for sorting.</td>\n",
       "    </tr>\n",
       "    <tr>\n",
       "      <th>165</th>\n",
       "      <td>VISIT</td>\n",
       "      <td>character</td>\n",
       "      <td>This variable contains the protocol-defined text description of the planned clinical encounter number (as defined in the Trial Visits (TV) Domain).</td>\n",
       "    </tr>\n",
       "    <tr>\n",
       "      <th>166</th>\n",
       "      <td>VISITDY</td>\n",
       "      <td>number</td>\n",
       "      <td>This variable contains a number designating the Study Day of the planned clinical encounter. This is also a numeric version of the visit described in VISIT? and can be used for sorting.</td>\n",
       "    </tr>\n",
       "    <tr>\n",
       "      <th>167</th>\n",
       "      <td>EPOCH</td>\n",
       "      <td>character</td>\n",
       "      <td>This variable describes the Epoch period of the observation (e.g., Baseline, Treatment, Follow-up).  This is defined by CDISC Controlled Terminology</td>\n",
       "    </tr>\n",
       "    <tr>\n",
       "      <th>168</th>\n",
       "      <td>DSDTC</td>\n",
       "      <td>character</td>\n",
       "      <td>This variable contains the date and time of the collection of the observation, administration of a test or collection of a specimen.  This date and time will be provided in ISO 8601 format.</td>\n",
       "    </tr>\n",
       "    <tr>\n",
       "      <th>169</th>\n",
       "      <td>DSSTDTC</td>\n",
       "      <td>character</td>\n",
       "      <td>This variable contains the start date and time of the observation or initiation of the event (as opposed to the date the question about the observation/event was asked). This date and time will be provided in ISO 8601 format.</td>\n",
       "    </tr>\n",
       "    <tr>\n",
       "      <th>170</th>\n",
       "      <td>DSDY</td>\n",
       "      <td>number</td>\n",
       "      <td>This variable describes the study day of the observation relative to the date in RFSTDTC.  This will be blank for records with no value in the --DTC variable.</td>\n",
       "    </tr>\n",
       "    <tr>\n",
       "      <th>171</th>\n",
       "      <td>DSSTDY</td>\n",
       "      <td>number</td>\n",
       "      <td>This variable describes the study day of the start of the observation relative to the date in RFSTDTC.  This will be blank for records with no value in the --STDTC variable.</td>\n",
       "    </tr>\n",
       "    <tr>\n",
       "      <th>172</th>\n",
       "      <td>DSTPT</td>\n",
       "      <td>character</td>\n",
       "      <td>This variable describes when the observation should have happened as defined in the study protocol. This may be represented as an elapsed time relative to a fixed reference point described in --TPTREF.</td>\n",
       "    </tr>\n",
       "    <tr>\n",
       "      <th>173</th>\n",
       "      <td>DSTPTREF</td>\n",
       "      <td>character</td>\n",
       "      <td>This variable contains the name of the fixed reference point referred to by --TPT, --ELTM, e.g. PREVIOUS DOSE, PREVIOUS MEAL.</td>\n",
       "    </tr>\n",
       "    <tr>\n",
       "      <th>174</th>\n",
       "      <td>DSSTRF</td>\n",
       "      <td>character</td>\n",
       "      <td>This variable describes when the start of the observation happened in relation to the date recorded in RFSTDTC, e.g. BEFORE, DURING or AFTER.</td>\n",
       "    </tr>\n",
       "    <tr>\n",
       "      <th>175</th>\n",
       "      <td>DSEVINTX</td>\n",
       "      <td>character</td>\n",
       "      <td>This variable contains information about the evaluation interval associated with an observation when it cannot be represented in ISO 8601 format (e.g., \"Last few weeks\", \"While hospitalized\").</td>\n",
       "    </tr>\n",
       "    <tr>\n",
       "      <th>176</th>\n",
       "      <td>DSSTRTPT</td>\n",
       "      <td>character</td>\n",
       "      <td>This variable describes when the start of the observation happened in relation to the point described in --STTPT, e.g. BEFORE, DURING or AFTER.</td>\n",
       "    </tr>\n",
       "    <tr>\n",
       "      <th>177</th>\n",
       "      <td>DSSTTPT</td>\n",
       "      <td>character</td>\n",
       "      <td>This variable contains the name of the fixed reference point referred to by --STRTPT, e.g. PREVIOUS DOSE, 2003-12-15.</td>\n",
       "    </tr>\n",
       "    <tr>\n",
       "      <th>178</th>\n",
       "      <td>DSCDSTDY</td>\n",
       "      <td>number</td>\n",
       "      <td>This variable contains the contributor-defined study day expressed in integer days relative to the start of the study. This variable is used when no dates are provided, only a contributor-defined proxy.</td>\n",
       "    </tr>\n",
       "    <tr>\n",
       "      <th>179</th>\n",
       "      <td>DSRPOC</td>\n",
       "      <td>character</td>\n",
       "      <td>This variable describes the reported time period for the occurrence of an event when the actual date/time is not provided. This is provided in ISO 8601 format.</td>\n",
       "    </tr>\n",
       "  </tbody>\n",
       "</table>\n",
       "</div>"
      ],
      "text/plain": [
       "    Variable_Name Variable_Type  \\\n",
       "157       STUDYID     character   \n",
       "158        DOMAIN     character   \n",
       "159       USUBJID     character   \n",
       "160         DSSEQ        number   \n",
       "161        DSTERM     character   \n",
       "162      DSMODIFY     character   \n",
       "163       DSDECOD     character   \n",
       "164      VISITNUM        number   \n",
       "165         VISIT     character   \n",
       "166       VISITDY        number   \n",
       "167         EPOCH     character   \n",
       "168         DSDTC     character   \n",
       "169       DSSTDTC     character   \n",
       "170          DSDY        number   \n",
       "171        DSSTDY        number   \n",
       "172         DSTPT     character   \n",
       "173      DSTPTREF     character   \n",
       "174        DSSTRF     character   \n",
       "175      DSEVINTX     character   \n",
       "176      DSSTRTPT     character   \n",
       "177       DSSTTPT     character   \n",
       "178      DSCDSTDY        number   \n",
       "179        DSRPOC     character   \n",
       "\n",
       "                                                                                                                                                                                                                                                                                                                                             Variable_Definition  \n",
       "157                                                                                                                                                                 This variable contains the unique identifier for a study. This is the main key/identifier for all domains in the IDDO Data Repository  every domain table will have the STUDYID identifier.  \n",
       "158                                                                                                                                                                                                                                                                                        This variable contains the two-character abbreviation for the domain.  \n",
       "159  This variable contains the unique subject identifier for a study. This is a secondary key/identifier for all subject-level domains in the IDDO Data Repository  every domain table containing subject-level information (i.e., all but the Trial Domains) will have the USUBJID identifier. This variable will identify unique subjects in the repository.  \n",
       "160                                  This variable contains a sequence number to ensure uniqueness of subject records within the domain. Each observation (each recorded as a separate row in the domain) will have a unique number within each subject, e.g., a subject with 10 observations will have 10 rows and each row is numbered sequentially from 1-10.  \n",
       "161                                                                                                                                                                                                                                                                This variable contains the verbatim wording of the event as provided by the Data Contributor.  \n",
       "162                                                                                                                                                                                                            This variable contains a modification of the verbatim wording of the event. This is used to capture IDDO-defined standardised terms of the event.  \n",
       "163                                                                                                                                      This variable contains a dictionary-derived text description of the event. This is defined by CDISC Controlled Terminology and IDDO Controlled Terminology. More details can be found in the IDDO Implementation Guide.  \n",
       "164                                                                                                                                                                                   This variable contains a number designating the planned clinical encounter number. This is a numeric version of the visit described in VISIT? and it is used for sorting.   \n",
       "165                                                                                                                                                                                                          This variable contains the protocol-defined text description of the planned clinical encounter number (as defined in the Trial Visits (TV) Domain).  \n",
       "166                                                                                                                                                                    This variable contains a number designating the Study Day of the planned clinical encounter. This is also a numeric version of the visit described in VISIT? and can be used for sorting.  \n",
       "167                                                                                                                                                                                                         This variable describes the Epoch period of the observation (e.g., Baseline, Treatment, Follow-up).  This is defined by CDISC Controlled Terminology  \n",
       "168                                                                                                                                                                This variable contains the date and time of the collection of the observation, administration of a test or collection of a specimen.  This date and time will be provided in ISO 8601 format.  \n",
       "169                                                                                                                            This variable contains the start date and time of the observation or initiation of the event (as opposed to the date the question about the observation/event was asked). This date and time will be provided in ISO 8601 format.  \n",
       "170                                                                                                                                                                                               This variable describes the study day of the observation relative to the date in RFSTDTC.  This will be blank for records with no value in the --DTC variable.  \n",
       "171                                                                                                                                                                                This variable describes the study day of the start of the observation relative to the date in RFSTDTC.  This will be blank for records with no value in the --STDTC variable.  \n",
       "172                                                                                                                                                   This variable describes when the observation should have happened as defined in the study protocol. This may be represented as an elapsed time relative to a fixed reference point described in --TPTREF.   \n",
       "173                                                                                                                                                                                                                                This variable contains the name of the fixed reference point referred to by --TPT, --ELTM, e.g. PREVIOUS DOSE, PREVIOUS MEAL.  \n",
       "174                                                                                                                                                                                                                This variable describes when the start of the observation happened in relation to the date recorded in RFSTDTC, e.g. BEFORE, DURING or AFTER.  \n",
       "175                                                                                                                                                             This variable contains information about the evaluation interval associated with an observation when it cannot be represented in ISO 8601 format (e.g., \"Last few weeks\", \"While hospitalized\").  \n",
       "176                                                                                                                                                                                                              This variable describes when the start of the observation happened in relation to the point described in --STTPT, e.g. BEFORE, DURING or AFTER.  \n",
       "177                                                                                                                                                                                                                                        This variable contains the name of the fixed reference point referred to by --STRTPT, e.g. PREVIOUS DOSE, 2003-12-15.  \n",
       "178                                                                                                                                                  This variable contains the contributor-defined study day expressed in integer days relative to the start of the study. This variable is used when no dates are provided, only a contributor-defined proxy.   \n",
       "179                                                                                                                                                                                              This variable describes the reported time period for the occurrence of an event when the actual date/time is not provided. This is provided in ISO 8601 format.  "
      ]
     },
     "execution_count": 39,
     "metadata": {},
     "output_type": "execute_result"
    }
   ],
   "source": [
    "# See variables for DS\n",
    "pd.set_option(\"display.max_colwidth\", 1000)\n",
    "data_description.loc[data_description.Domain==DS.name, ['Variable_Name', 'Variable_Type', 'Variable_Definition']]"
   ]
  },
  {
   "cell_type": "code",
   "execution_count": 56,
   "id": "8f876d5d-fb0a-4704-99a9-aac9c0db07c0",
   "metadata": {},
   "outputs": [
    {
     "data": {
      "text/plain": [
       "Index(['STUDYID', 'DOMAIN', 'USUBJID', 'DSSEQ', 'DSTERM', 'DSMODIFY',\n",
       "       'DSDECOD', 'VISITNUM', 'VISIT', 'VISITDY', 'DSDY', 'DSSTDY', 'DSEVINTX',\n",
       "       'DSCDSTDY'],\n",
       "      dtype='object')"
      ]
     },
     "execution_count": 56,
     "metadata": {},
     "output_type": "execute_result"
    }
   ],
   "source": [
    "# Columns really in DS\n",
    "DS.columns"
   ]
  },
  {
   "cell_type": "code",
   "execution_count": 40,
   "id": "feb99ce2-04af-4893-9cfc-2e155ce6cbe9",
   "metadata": {},
   "outputs": [
    {
     "name": "stdout",
     "output_type": "stream",
     "text": [
      "Values for DSMODIFY:  [nan]\n"
     ]
    }
   ],
   "source": [
    "# Investigate DSMODIFY\n",
    "print('Values for DSMODIFY: ', DS['DSMODIFY'].unique())"
   ]
  },
  {
   "cell_type": "code",
   "execution_count": 41,
   "id": "6821688d-9dd0-457b-9159-cd7009a35dcc",
   "metadata": {},
   "outputs": [
    {
     "name": "stdout",
     "output_type": "stream",
     "text": [
      "Values for DSTERM:  ['DISCHARGED ALIVE' 'DEATH' 'TRANSFER TO OTHER FACILITY'\n",
      " 'MISSING IN DATABASE' 'UNKNOWN' 'HOSPITALIZATION' 'PALLIATIVE DISCHARGE'\n",
      " 'Death' 'Hospitalisation' 'Discharged alive' 'Transfer to other facility'\n",
      " 'Medically fit for discharge (COVID-19 resolved) but remains in hospital for other reason'\n",
      " 'Palliative discharge' 'Unknown'\n",
      " 'Ongoing health care needs relating to this admission for COVID-19'\n",
      " 'Ongoing health care needs NOT related to COVID episode'\n",
      " 'Discharged alive expected to survive' 'DISCHARGED'\n",
      " 'CURRENTLY HOSPITALISED' 'DISCHARGE' 'TRANSFERRED TO ANOTHER FACILITY'\n",
      " 'ALIVE' 'DECEASED' 'Forwarding to home'\n",
      " 'Transfer to another health care facility' 'Hospitalization'\n",
      " 'Transfer to the Health District' 'Discharge against medical advice'\n",
      " 'Palliative care' 'QUARANTINE CENTER'\n",
      " 'TRANSFER TO OTHER HOSPITAL/FACILITY' 'LONG TERM CARE FACILITY'\n",
      " 'DEATH IN HOSPITAL' 'TRANSFERRED TO ANOTHER UNIT' 'HOSPITAL DISCHARGE'\n",
      " 'DISCHARGE WITH PALLIATIVE CARE' 'HOSPITALIZED' 'Alive' 'Deceased'\n",
      " 'Not recorded' 'Died' 'Died (non-COVID)' 'In Hospital' 'Discharged Alive'\n",
      " 'In hospital']\n",
      "Values for DSDECOD:  ['DISCHARGED' 'DEATH' 'TRANSFERRED' 'UNKNOWN' 'STILL IN HOSPITAL' nan\n",
      " 'LOST TO FOLLOW-UP']\n"
     ]
    }
   ],
   "source": [
    "# Investigate DSTERM and DSDECOD\n",
    "print('Values for DSTERM: ', DS['DSTERM'].unique())\n",
    "print('Values for DSDECOD: ', DS['DSDECOD'].unique())\n",
    "# We make the choice to keep only DSDECOD"
   ]
  },
  {
   "cell_type": "code",
   "execution_count": 45,
   "id": "962c645d-5236-4742-9b2d-b53fc2854019",
   "metadata": {},
   "outputs": [
    {
     "name": "stdout",
     "output_type": "stream",
     "text": [
      "Values for VISITNUM:  [nan  1.  2.]\n",
      "Values for VISIT:  [nan 'Day 0' 'Week 2 Day 14']\n",
      "Values for VISITDY:  [nan  1. 15.]\n",
      "%NA for VISITNUM:  99.82092346266369\n",
      "%NA for VISIT:  99.82092346266369\n",
      "%NA for VISITDY:  99.82092346266369\n"
     ]
    }
   ],
   "source": [
    "# Investigate VISITNUM, VISIT and VISITDY\n",
    "\n",
    "print('Values for VISITNUM: ', DS['VISITNUM'].unique())\n",
    "print('Values for VISIT: ', DS['VISIT'].unique())\n",
    "print('Values for VISITDY: ', DS['VISITDY'].unique())\n",
    "\n",
    "print('%NA for VISITNUM: ', DS['VISITNUM'].isna().sum()/DS.shape[0]*100)\n",
    "print('%NA for VISIT: ', DS['VISIT'].isna().sum()/DS.shape[0]*100)\n",
    "print('%NA for VISITDY: ', DS['VISITDY'].isna().sum()/DS.shape[0]*100)"
   ]
  },
  {
   "cell_type": "code",
   "execution_count": 46,
   "id": "bae25163-9d50-4a52-9c82-5103259bc11e",
   "metadata": {},
   "outputs": [
    {
     "name": "stdout",
     "output_type": "stream",
     "text": [
      "Values for DSDY:  [nan 78. 75. 29. 28. 24. 17. 32. 25. 21. 22. 30. 50. 38. 33. 36. 31. 45.\n",
      " 80. 35. 59. 63. 34. 27. 26. 39. 49. 53. 16. 19. 20. 37. 72. 46. 11. 40.\n",
      " 23. 48. 42. 54. 14. 90. 41. 51. 13.  7. 12.]\n",
      "Values for DSEVINTX:  [nan 'AT ANY TIME AFTER DISCHARGE']\n",
      "Values for DSCDSTDY:  [ nan  16.   2.  20.   8.   5.   4.   1.   9.  14.  25.  51.  18.  19.\n",
      "  24.  12.  55.   6.  13.  23.  28. 109.   7.  11.  21.   3.]\n",
      "%NA for DSDY:  99.87887781936428\n",
      "%NA for DSEVINTX:  99.83814002888019\n",
      "%NA for DSCDSTDY:  99.99211917743611\n"
     ]
    }
   ],
   "source": [
    "# Investigate DSDY, DSEVINTX and DSCDSTDY\n",
    "\n",
    "print('Values for DSDY: ', DS['DSDY'].unique())\n",
    "print('Values for DSEVINTX: ', DS['DSEVINTX'].unique())\n",
    "print('Values for DSCDSTDY: ', DS['DSCDSTDY'].unique())\n",
    "\n",
    "print('%NA for DSDY: ', DS['DSDY'].isna().sum()/DS.shape[0]*100)\n",
    "print('%NA for DSEVINTX: ', DS['DSEVINTX'].isna().sum()/DS.shape[0]*100)\n",
    "print('%NA for DSCDSTDY: ', DS['DSCDSTDY'].isna().sum()/DS.shape[0]*100)"
   ]
  },
  {
   "cell_type": "markdown",
   "id": "67c4f4de-4fa2-4eec-a619-b43ab61ffc25",
   "metadata": {},
   "source": [
    "**=> To conclud, for DS, we can keep: USUBJID, DSSEQ and DSDECOD:**"
   ]
  },
  {
   "cell_type": "code",
   "execution_count": 58,
   "id": "2fecaf06-6380-451d-9a65-c20788081c13",
   "metadata": {},
   "outputs": [
    {
     "data": {
      "text/plain": [
       "Index(['USUBJID', 'DSDECOD'], dtype='object')"
      ]
     },
     "execution_count": 58,
     "metadata": {},
     "output_type": "execute_result"
    }
   ],
   "source": [
    "# Keep only some columns for DS\n",
    "DS = DS[['USUBJID', 'DSSEQ', 'DSDECOD']]\n",
    "DS.columns"
   ]
  },
  {
   "cell_type": "code",
   "execution_count": 59,
   "id": "cfcb5eae-5ed6-4d3c-8480-ce2345d6aca0",
   "metadata": {},
   "outputs": [
    {
     "data": {
      "text/plain": [
       "(824787, 2)"
      ]
     },
     "execution_count": 59,
     "metadata": {},
     "output_type": "execute_result"
    }
   ],
   "source": [
    "DS.shape"
   ]
  },
  {
   "cell_type": "markdown",
   "id": "dcf014cd-c25f-4282-b123-abb5909978fd",
   "metadata": {
    "jp-MarkdownHeadingCollapsed": true,
    "tags": []
   },
   "source": [
    "#### For ER:"
   ]
  },
  {
   "cell_type": "code",
   "execution_count": 61,
   "id": "51641e33-15e9-41d3-a047-37c6858008d9",
   "metadata": {},
   "outputs": [
    {
     "data": {
      "text/html": [
       "<div>\n",
       "<style scoped>\n",
       "    .dataframe tbody tr th:only-of-type {\n",
       "        vertical-align: middle;\n",
       "    }\n",
       "\n",
       "    .dataframe tbody tr th {\n",
       "        vertical-align: top;\n",
       "    }\n",
       "\n",
       "    .dataframe thead th {\n",
       "        text-align: right;\n",
       "    }\n",
       "</style>\n",
       "<table border=\"1\" class=\"dataframe\">\n",
       "  <thead>\n",
       "    <tr style=\"text-align: right;\">\n",
       "      <th></th>\n",
       "      <th>Variable_Name</th>\n",
       "      <th>Variable_Type</th>\n",
       "      <th>Variable_Definition</th>\n",
       "    </tr>\n",
       "  </thead>\n",
       "  <tbody>\n",
       "    <tr>\n",
       "      <th>180</th>\n",
       "      <td>STUDYID</td>\n",
       "      <td>character</td>\n",
       "      <td>This variable contains the unique identifier for a study. This is the main key/identifier for all domains in the IDDO Data Repository  every domain table will have the STUDYID identifier.</td>\n",
       "    </tr>\n",
       "    <tr>\n",
       "      <th>181</th>\n",
       "      <td>DOMAIN</td>\n",
       "      <td>character</td>\n",
       "      <td>This variable contains the two-character abbreviation for the domain.</td>\n",
       "    </tr>\n",
       "    <tr>\n",
       "      <th>182</th>\n",
       "      <td>USUBJID</td>\n",
       "      <td>character</td>\n",
       "      <td>This variable contains the unique subject identifier for a study. This is a secondary key/identifier for all subject-level domains in the IDDO Data Repository  every domain table containing subject-level information (i.e., all but the Trial Domains) will have the USUBJID identifier. This variable will identify unique subjects in the repository.</td>\n",
       "    </tr>\n",
       "    <tr>\n",
       "      <th>183</th>\n",
       "      <td>ERSEQ</td>\n",
       "      <td>number</td>\n",
       "      <td>This variable contains a sequence number to ensure uniqueness of subject records within the domain. Each observation (each recorded as a separate row in the domain) will have a unique number within each subject, e.g., a subject with 10 observations will have 10 rows and each row is numbered sequentially from 1-10.</td>\n",
       "    </tr>\n",
       "    <tr>\n",
       "      <th>184</th>\n",
       "      <td>ERTERM</td>\n",
       "      <td>character</td>\n",
       "      <td>This variable contains the verbatim wording of the event as provided by the Data Contributor.</td>\n",
       "    </tr>\n",
       "    <tr>\n",
       "      <th>185</th>\n",
       "      <td>ERMODIFY</td>\n",
       "      <td>character</td>\n",
       "      <td>This variable contains a modification of the verbatim wording of the event. This is used to capture IDDO-defined standardised terms of the event.</td>\n",
       "    </tr>\n",
       "    <tr>\n",
       "      <th>186</th>\n",
       "      <td>ERCAT</td>\n",
       "      <td>character</td>\n",
       "      <td>This variable contains a categorization of the observation.</td>\n",
       "    </tr>\n",
       "    <tr>\n",
       "      <th>187</th>\n",
       "      <td>ERSCAT</td>\n",
       "      <td>character</td>\n",
       "      <td>This variable contains a further categorization of the observation.</td>\n",
       "    </tr>\n",
       "    <tr>\n",
       "      <th>188</th>\n",
       "      <td>ERPRESP</td>\n",
       "      <td>character</td>\n",
       "      <td>This variable identifies whether an observation was pre-specified on the CRF. Values are null for spontaneously reported events, i.e. those collected as free-text verbatim terms.</td>\n",
       "    </tr>\n",
       "    <tr>\n",
       "      <th>189</th>\n",
       "      <td>EROCCUR</td>\n",
       "      <td>character</td>\n",
       "      <td>This variable identifies whether or not a pre-specified event has occurred. Values are null for spontaneously reported events.</td>\n",
       "    </tr>\n",
       "    <tr>\n",
       "      <th>190</th>\n",
       "      <td>ERSTAT</td>\n",
       "      <td>character</td>\n",
       "      <td>This variable contains information about the status of the observation  specifically that it was not completed when it was expected to have been. This column should be empty when there is a value in the --OCCUR (Events and Interventions Domains) or --ORRES (Findings Domains) variables.</td>\n",
       "    </tr>\n",
       "    <tr>\n",
       "      <th>191</th>\n",
       "      <td>ERREASND</td>\n",
       "      <td>character</td>\n",
       "      <td>This variable contains information about the reason why the observation was not completed when it was expected to have been. This column should be populated when there is a value of \"NOT DONE\" in the --STAT variable.</td>\n",
       "    </tr>\n",
       "    <tr>\n",
       "      <th>192</th>\n",
       "      <td>VISITNUM</td>\n",
       "      <td>number</td>\n",
       "      <td>This variable contains a number designating the planned clinical encounter number. This is a numeric version of the visit described in VISIT? and it is used for sorting.</td>\n",
       "    </tr>\n",
       "    <tr>\n",
       "      <th>193</th>\n",
       "      <td>VISIT</td>\n",
       "      <td>character</td>\n",
       "      <td>This variable contains the protocol-defined text description of the planned clinical encounter number (as defined in the Trial Visits (TV) Domain).</td>\n",
       "    </tr>\n",
       "    <tr>\n",
       "      <th>194</th>\n",
       "      <td>VISITDY</td>\n",
       "      <td>number</td>\n",
       "      <td>This variable contains a number designating the Study Day of the planned clinical encounter. This is also a numeric version of the visit described in VISIT? and can be used for sorting.</td>\n",
       "    </tr>\n",
       "    <tr>\n",
       "      <th>195</th>\n",
       "      <td>EPOCH</td>\n",
       "      <td>character</td>\n",
       "      <td>This variable describes the Epoch period of the observation (e.g., Baseline, Treatment, Follow-up).  This is defined by CDISC Controlled Terminology</td>\n",
       "    </tr>\n",
       "    <tr>\n",
       "      <th>196</th>\n",
       "      <td>ERDTC</td>\n",
       "      <td>character</td>\n",
       "      <td>This variable contains the date and time of the collection of the observation, administration of a test or collection of a specimen.  This date and time will be provided in ISO 8601 format.</td>\n",
       "    </tr>\n",
       "    <tr>\n",
       "      <th>197</th>\n",
       "      <td>ERSTDTC</td>\n",
       "      <td>character</td>\n",
       "      <td>This variable contains the start date and time of the observation or initiation of the event (as opposed to the date the question about the observation/event was asked). This date and time will be provided in ISO 8601 format.</td>\n",
       "    </tr>\n",
       "    <tr>\n",
       "      <th>198</th>\n",
       "      <td>ERENDTC</td>\n",
       "      <td>character</td>\n",
       "      <td>This variable contains the end date and time of the observation or cessation of event. This date and time will be provided in ISO 8601 format.</td>\n",
       "    </tr>\n",
       "    <tr>\n",
       "      <th>199</th>\n",
       "      <td>ERDY</td>\n",
       "      <td>number</td>\n",
       "      <td>This variable describes the study day of the observation relative to the date in RFSTDTC.  This will be blank for records with no value in the --DTC variable.</td>\n",
       "    </tr>\n",
       "    <tr>\n",
       "      <th>200</th>\n",
       "      <td>ERSTDY</td>\n",
       "      <td>number</td>\n",
       "      <td>This variable describes the study day of the start of the observation relative to the date in RFSTDTC.  This will be blank for records with no value in the --STDTC variable.</td>\n",
       "    </tr>\n",
       "    <tr>\n",
       "      <th>201</th>\n",
       "      <td>ERENDY</td>\n",
       "      <td>number</td>\n",
       "      <td>This variable describes the study day of the end of the observation relative to the date in RFSTDTC.  This will be blank for records with no value in the --ENDTC variable.</td>\n",
       "    </tr>\n",
       "    <tr>\n",
       "      <th>202</th>\n",
       "      <td>ERTPT</td>\n",
       "      <td>character</td>\n",
       "      <td>This variable describes when the observation should have happened as defined in the study protocol. This may be represented as an elapsed time relative to a fixed reference point described in --TPTREF.</td>\n",
       "    </tr>\n",
       "    <tr>\n",
       "      <th>203</th>\n",
       "      <td>ERTPTREF</td>\n",
       "      <td>character</td>\n",
       "      <td>This variable contains the name of the fixed reference point referred to by --TPT, --ELTM, e.g. PREVIOUS DOSE, PREVIOUS MEAL.</td>\n",
       "    </tr>\n",
       "    <tr>\n",
       "      <th>204</th>\n",
       "      <td>ERSTRF</td>\n",
       "      <td>character</td>\n",
       "      <td>This variable describes when the start of the observation happened in relation to the date recorded in RFSTDTC, e.g. BEFORE, DURING or AFTER.</td>\n",
       "    </tr>\n",
       "    <tr>\n",
       "      <th>205</th>\n",
       "      <td>EREVLINT</td>\n",
       "      <td>character</td>\n",
       "      <td>This variable describes the evaluation interval associated with an observation. This provides information about the time period the question referenced. This duration will be preovided in ISO 8601 format.</td>\n",
       "    </tr>\n",
       "    <tr>\n",
       "      <th>206</th>\n",
       "      <td>EREVINTX</td>\n",
       "      <td>character</td>\n",
       "      <td>This variable contains information about the evaluation interval associated with an observation when it cannot be represented in ISO 8601 format (e.g., \"Last few weeks\", \"While hospitalized\").</td>\n",
       "    </tr>\n",
       "    <tr>\n",
       "      <th>207</th>\n",
       "      <td>ERCNTRY</td>\n",
       "      <td>character</td>\n",
       "      <td>This variable contains information about the country of travel for ERTERM. This is defined by Controlled Terminology.</td>\n",
       "    </tr>\n",
       "  </tbody>\n",
       "</table>\n",
       "</div>"
      ],
      "text/plain": [
       "    Variable_Name Variable_Type  \\\n",
       "180       STUDYID     character   \n",
       "181        DOMAIN     character   \n",
       "182       USUBJID     character   \n",
       "183         ERSEQ        number   \n",
       "184        ERTERM     character   \n",
       "185      ERMODIFY     character   \n",
       "186         ERCAT     character   \n",
       "187        ERSCAT     character   \n",
       "188       ERPRESP     character   \n",
       "189       EROCCUR     character   \n",
       "190        ERSTAT     character   \n",
       "191      ERREASND     character   \n",
       "192      VISITNUM        number   \n",
       "193         VISIT     character   \n",
       "194       VISITDY        number   \n",
       "195         EPOCH     character   \n",
       "196         ERDTC     character   \n",
       "197       ERSTDTC     character   \n",
       "198       ERENDTC     character   \n",
       "199          ERDY        number   \n",
       "200        ERSTDY        number   \n",
       "201        ERENDY        number   \n",
       "202         ERTPT     character   \n",
       "203      ERTPTREF     character   \n",
       "204        ERSTRF     character   \n",
       "205      EREVLINT     character   \n",
       "206      EREVINTX     character   \n",
       "207       ERCNTRY     character   \n",
       "\n",
       "                                                                                                                                                                                                                                                                                                                                             Variable_Definition  \n",
       "180                                                                                                                                                                 This variable contains the unique identifier for a study. This is the main key/identifier for all domains in the IDDO Data Repository  every domain table will have the STUDYID identifier.  \n",
       "181                                                                                                                                                                                                                                                                                        This variable contains the two-character abbreviation for the domain.  \n",
       "182  This variable contains the unique subject identifier for a study. This is a secondary key/identifier for all subject-level domains in the IDDO Data Repository  every domain table containing subject-level information (i.e., all but the Trial Domains) will have the USUBJID identifier. This variable will identify unique subjects in the repository.  \n",
       "183                                  This variable contains a sequence number to ensure uniqueness of subject records within the domain. Each observation (each recorded as a separate row in the domain) will have a unique number within each subject, e.g., a subject with 10 observations will have 10 rows and each row is numbered sequentially from 1-10.  \n",
       "184                                                                                                                                                                                                                                                                This variable contains the verbatim wording of the event as provided by the Data Contributor.  \n",
       "185                                                                                                                                                                                                            This variable contains a modification of the verbatim wording of the event. This is used to capture IDDO-defined standardised terms of the event.  \n",
       "186                                                                                                                                                                                                                                                                                                  This variable contains a categorization of the observation.  \n",
       "187                                                                                                                                                                                                                                                                                          This variable contains a further categorization of the observation.  \n",
       "188                                                                                                                                                                           This variable identifies whether an observation was pre-specified on the CRF. Values are null for spontaneously reported events, i.e. those collected as free-text verbatim terms.  \n",
       "189                                                                                                                                                                                                                               This variable identifies whether or not a pre-specified event has occurred. Values are null for spontaneously reported events.  \n",
       "190                                                             This variable contains information about the status of the observation  specifically that it was not completed when it was expected to have been. This column should be empty when there is a value in the --OCCUR (Events and Interventions Domains) or --ORRES (Findings Domains) variables.   \n",
       "191                                                                                                                                     This variable contains information about the reason why the observation was not completed when it was expected to have been. This column should be populated when there is a value of \"NOT DONE\" in the --STAT variable.  \n",
       "192                                                                                                                                                                                   This variable contains a number designating the planned clinical encounter number. This is a numeric version of the visit described in VISIT? and it is used for sorting.   \n",
       "193                                                                                                                                                                                                          This variable contains the protocol-defined text description of the planned clinical encounter number (as defined in the Trial Visits (TV) Domain).  \n",
       "194                                                                                                                                                                    This variable contains a number designating the Study Day of the planned clinical encounter. This is also a numeric version of the visit described in VISIT? and can be used for sorting.  \n",
       "195                                                                                                                                                                                                         This variable describes the Epoch period of the observation (e.g., Baseline, Treatment, Follow-up).  This is defined by CDISC Controlled Terminology  \n",
       "196                                                                                                                                                                This variable contains the date and time of the collection of the observation, administration of a test or collection of a specimen.  This date and time will be provided in ISO 8601 format.  \n",
       "197                                                                                                                            This variable contains the start date and time of the observation or initiation of the event (as opposed to the date the question about the observation/event was asked). This date and time will be provided in ISO 8601 format.  \n",
       "198                                                                                                                                                                                                               This variable contains the end date and time of the observation or cessation of event. This date and time will be provided in ISO 8601 format.  \n",
       "199                                                                                                                                                                                               This variable describes the study day of the observation relative to the date in RFSTDTC.  This will be blank for records with no value in the --DTC variable.  \n",
       "200                                                                                                                                                                                This variable describes the study day of the start of the observation relative to the date in RFSTDTC.  This will be blank for records with no value in the --STDTC variable.  \n",
       "201                                                                                                                                                                                  This variable describes the study day of the end of the observation relative to the date in RFSTDTC.  This will be blank for records with no value in the --ENDTC variable.  \n",
       "202                                                                                                                                                   This variable describes when the observation should have happened as defined in the study protocol. This may be represented as an elapsed time relative to a fixed reference point described in --TPTREF.   \n",
       "203                                                                                                                                                                                                                                This variable contains the name of the fixed reference point referred to by --TPT, --ELTM, e.g. PREVIOUS DOSE, PREVIOUS MEAL.  \n",
       "204                                                                                                                                                                                                                This variable describes when the start of the observation happened in relation to the date recorded in RFSTDTC, e.g. BEFORE, DURING or AFTER.  \n",
       "205                                                                                                                                                This variable describes the evaluation interval associated with an observation. This provides information about the time period the question referenced. This duration will be preovided in ISO 8601 format.   \n",
       "206                                                                                                                                                             This variable contains information about the evaluation interval associated with an observation when it cannot be represented in ISO 8601 format (e.g., \"Last few weeks\", \"While hospitalized\").  \n",
       "207                                                                                                                                                                                                                                        This variable contains information about the country of travel for ERTERM. This is defined by Controlled Terminology.  "
      ]
     },
     "execution_count": 61,
     "metadata": {},
     "output_type": "execute_result"
    }
   ],
   "source": [
    "# See variables for ER\n",
    "pd.set_option(\"display.max_colwidth\", 1000)\n",
    "data_description.loc[data_description.Domain==ER.name, ['Variable_Name', 'Variable_Type', 'Variable_Definition']]"
   ]
  },
  {
   "cell_type": "code",
   "execution_count": 62,
   "id": "67381e20-4749-4575-a0ca-9fac737fefc8",
   "metadata": {},
   "outputs": [
    {
     "data": {
      "text/plain": [
       "Index(['STUDYID', 'DOMAIN', 'USUBJID', 'ERSEQ', 'ERTERM', 'ERCAT', 'ERPRESP',\n",
       "       'EROCCUR', 'ERSTAT', 'ERREASND', 'VISITNUM', 'VISIT', 'VISITDY', 'ERDY',\n",
       "       'ERSTDY', 'ERENDY', 'EREVINTX', 'ERCNTRY'],\n",
       "      dtype='object')"
      ]
     },
     "execution_count": 62,
     "metadata": {},
     "output_type": "execute_result"
    }
   ],
   "source": [
    "# Columns really in ER\n",
    "ER.columns"
   ]
  },
  {
   "cell_type": "code",
   "execution_count": 64,
   "id": "7a76069c-4aec-47fd-83b5-d5569bddc40c",
   "metadata": {},
   "outputs": [
    {
     "name": "stdout",
     "output_type": "stream",
     "text": [
      "Values for ERCAT:  ['COVID-19 RISK FACTOR']\n"
     ]
    }
   ],
   "source": [
    "# Investigate ERCAT\n",
    "print('Values for ERCAT: ', ER['ERCAT'].unique())"
   ]
  },
  {
   "cell_type": "markdown",
   "id": "e32f6793-dea3-4fff-834e-65b1b9328f36",
   "metadata": {},
   "source": [
    "**=> To conclud, for ER, we can keep nothing because there is no decod of the event.**"
   ]
  },
  {
   "cell_type": "markdown",
   "id": "892595e3-8f49-4304-884d-b16674aba487",
   "metadata": {
    "tags": []
   },
   "source": [
    "#### For HO:"
   ]
  },
  {
   "cell_type": "code",
   "execution_count": 69,
   "id": "3b89fb51-a1b6-47be-8dd7-c152f7883f6c",
   "metadata": {},
   "outputs": [
    {
     "data": {
      "text/html": [
       "<div>\n",
       "<style scoped>\n",
       "    .dataframe tbody tr th:only-of-type {\n",
       "        vertical-align: middle;\n",
       "    }\n",
       "\n",
       "    .dataframe tbody tr th {\n",
       "        vertical-align: top;\n",
       "    }\n",
       "\n",
       "    .dataframe thead th {\n",
       "        text-align: right;\n",
       "    }\n",
       "</style>\n",
       "<table border=\"1\" class=\"dataframe\">\n",
       "  <thead>\n",
       "    <tr style=\"text-align: right;\">\n",
       "      <th></th>\n",
       "      <th>Variable_Name</th>\n",
       "      <th>Variable_Type</th>\n",
       "      <th>Variable_Definition</th>\n",
       "    </tr>\n",
       "  </thead>\n",
       "  <tbody>\n",
       "    <tr>\n",
       "      <th>208</th>\n",
       "      <td>STUDYID</td>\n",
       "      <td>character</td>\n",
       "      <td>This variable contains the unique identifier for a study. This is the main key/identifier for all domains in the IDDO Data Repository  every domain table will have the STUDYID identifier.</td>\n",
       "    </tr>\n",
       "    <tr>\n",
       "      <th>209</th>\n",
       "      <td>DOMAIN</td>\n",
       "      <td>character</td>\n",
       "      <td>This variable contains the two-character abbreviation for the domain.</td>\n",
       "    </tr>\n",
       "    <tr>\n",
       "      <th>210</th>\n",
       "      <td>USUBJID</td>\n",
       "      <td>character</td>\n",
       "      <td>This variable contains the unique subject identifier for a study. This is a secondary key/identifier for all subject-level domains in the IDDO Data Repository  every domain table containing subject-level information (i.e., all but the Trial Domains) will have the USUBJID identifier. This variable will identify unique subjects in the repository.</td>\n",
       "    </tr>\n",
       "    <tr>\n",
       "      <th>211</th>\n",
       "      <td>HOSEQ</td>\n",
       "      <td>number</td>\n",
       "      <td>This variable contains a sequence number to ensure uniqueness of subject records within the domain. Each observation (each recorded as a separate row in the domain) will have a unique number within each subject, e.g., a subject with 10 observations will have 10 rows and each row is numbered sequentially from 1-10.</td>\n",
       "    </tr>\n",
       "    <tr>\n",
       "      <th>212</th>\n",
       "      <td>HOREFID</td>\n",
       "      <td>character</td>\n",
       "      <td>This variable contains an identifier to distinguish duplicate findings, collections or events occurring within the same time period where no other timing information is available. This variable is used to make the rows' timing details unique.</td>\n",
       "    </tr>\n",
       "    <tr>\n",
       "      <th>213</th>\n",
       "      <td>HOTERM</td>\n",
       "      <td>character</td>\n",
       "      <td>This variable contains the verbatim wording of the event as provided by the Data Contributor.</td>\n",
       "    </tr>\n",
       "    <tr>\n",
       "      <th>214</th>\n",
       "      <td>HODECOD</td>\n",
       "      <td>character</td>\n",
       "      <td>This variable contains a dictionary-derived text description of the event. This is defined by CDISC Controlled Terminology and IDDO Controlled Terminology. More details can be found in the IDDO Implementation Guide.</td>\n",
       "    </tr>\n",
       "    <tr>\n",
       "      <th>215</th>\n",
       "      <td>HOCAT</td>\n",
       "      <td>character</td>\n",
       "      <td>This variable contains a categorization of the observation.</td>\n",
       "    </tr>\n",
       "    <tr>\n",
       "      <th>216</th>\n",
       "      <td>HOPRESP</td>\n",
       "      <td>character</td>\n",
       "      <td>This variable identifies whether an observation was pre-specified on the CRF. Values are null for spontaneously reported events, i.e. those collected as free-text verbatim terms.</td>\n",
       "    </tr>\n",
       "    <tr>\n",
       "      <th>217</th>\n",
       "      <td>HOOCCUR</td>\n",
       "      <td>character</td>\n",
       "      <td>This variable identifies whether or not a pre-specified event has occurred. Values are null for spontaneously reported events.</td>\n",
       "    </tr>\n",
       "    <tr>\n",
       "      <th>218</th>\n",
       "      <td>HOSTAT</td>\n",
       "      <td>character</td>\n",
       "      <td>This variable contains information about the status of the observation  specifically that it was not completed when it was expected to have been. This column should be empty when there is a value in the --OCCUR (Events and Interventions Domains) or --ORRES (Findings Domains) variables.</td>\n",
       "    </tr>\n",
       "    <tr>\n",
       "      <th>219</th>\n",
       "      <td>HOREASND</td>\n",
       "      <td>character</td>\n",
       "      <td>This variable contains information about the reason why the observation was not completed when it was expected to have been. This column should be populated when there is a value of \"NOT DONE\" in the --STAT variable.</td>\n",
       "    </tr>\n",
       "    <tr>\n",
       "      <th>220</th>\n",
       "      <td>HOPATT</td>\n",
       "      <td>number</td>\n",
       "      <td>This variable contains the number of events reported for HOTERM, where individual events and timing have not been provided and only the number of occurrences is available.</td>\n",
       "    </tr>\n",
       "    <tr>\n",
       "      <th>221</th>\n",
       "      <td>VISITNUM</td>\n",
       "      <td>number</td>\n",
       "      <td>This variable contains a number designating the planned clinical encounter number. This is a numeric version of the visit described in VISIT? and it is used for sorting.</td>\n",
       "    </tr>\n",
       "    <tr>\n",
       "      <th>222</th>\n",
       "      <td>VISIT</td>\n",
       "      <td>character</td>\n",
       "      <td>This variable contains the protocol-defined text description of the planned clinical encounter number (as defined in the Trial Visits (TV) Domain).</td>\n",
       "    </tr>\n",
       "    <tr>\n",
       "      <th>223</th>\n",
       "      <td>VISITDY</td>\n",
       "      <td>number</td>\n",
       "      <td>This variable contains a number designating the Study Day of the planned clinical encounter. This is also a numeric version of the visit described in VISIT? and can be used for sorting.</td>\n",
       "    </tr>\n",
       "    <tr>\n",
       "      <th>224</th>\n",
       "      <td>HODTC</td>\n",
       "      <td>character</td>\n",
       "      <td>This variable contains the date and time of the collection of the observation, administration of a test or collection of a specimen.  This date and time will be provided in ISO 8601 format.</td>\n",
       "    </tr>\n",
       "    <tr>\n",
       "      <th>225</th>\n",
       "      <td>HOSTDTC</td>\n",
       "      <td>character</td>\n",
       "      <td>This variable contains the start date and time of the observation or initiation of the event (as opposed to the date the question about the observation/event was asked). This date and time will be provided in ISO 8601 format.</td>\n",
       "    </tr>\n",
       "    <tr>\n",
       "      <th>226</th>\n",
       "      <td>HOENDTC</td>\n",
       "      <td>character</td>\n",
       "      <td>This variable contains the end date and time of the observation or cessation of event. This date and time will be provided in ISO 8601 format.</td>\n",
       "    </tr>\n",
       "    <tr>\n",
       "      <th>227</th>\n",
       "      <td>HODY</td>\n",
       "      <td>number</td>\n",
       "      <td>This variable describes the study day of the observation relative to the date in RFSTDTC.  This will be blank for records with no value in the --DTC variable.</td>\n",
       "    </tr>\n",
       "    <tr>\n",
       "      <th>228</th>\n",
       "      <td>HOSTDY</td>\n",
       "      <td>number</td>\n",
       "      <td>This variable describes the study day of the start of the observation relative to the date in RFSTDTC.  This will be blank for records with no value in the --STDTC variable.</td>\n",
       "    </tr>\n",
       "    <tr>\n",
       "      <th>229</th>\n",
       "      <td>HOENDY</td>\n",
       "      <td>number</td>\n",
       "      <td>This variable describes the study day of the end of the observation relative to the date in RFSTDTC.  This will be blank for records with no value in the --ENDTC variable.</td>\n",
       "    </tr>\n",
       "    <tr>\n",
       "      <th>230</th>\n",
       "      <td>HODUR</td>\n",
       "      <td>character</td>\n",
       "      <td>This variable contains information about the duration of the observation. This is only if collected on the CRF and not derived. This is collected in ISO 8601 format.</td>\n",
       "    </tr>\n",
       "    <tr>\n",
       "      <th>231</th>\n",
       "      <td>HOTPT</td>\n",
       "      <td>character</td>\n",
       "      <td>This variable describes when the observation should have happened as defined in the study protocol. This may be represented as an elapsed time relative to a fixed reference point described in --TPTREF.</td>\n",
       "    </tr>\n",
       "    <tr>\n",
       "      <th>232</th>\n",
       "      <td>HOTPTREF</td>\n",
       "      <td>character</td>\n",
       "      <td>This variable contains the name of the fixed reference point referred to by --TPT, --ELTM, e.g. PREVIOUS DOSE, PREVIOUS MEAL.</td>\n",
       "    </tr>\n",
       "    <tr>\n",
       "      <th>233</th>\n",
       "      <td>HOSTRF</td>\n",
       "      <td>character</td>\n",
       "      <td>This variable describes when the start of the observation happened in relation to the date recorded in RFSTDTC, e.g. BEFORE, DURING or AFTER.</td>\n",
       "    </tr>\n",
       "    <tr>\n",
       "      <th>234</th>\n",
       "      <td>HOEVINTX</td>\n",
       "      <td>character</td>\n",
       "      <td>This variable contains information about the evaluation interval associated with an observation when it cannot be represented in ISO 8601 format (e.g., \"Last few weeks\", \"While hospitalized\").</td>\n",
       "    </tr>\n",
       "    <tr>\n",
       "      <th>235</th>\n",
       "      <td>HOCDSTDY</td>\n",
       "      <td>number</td>\n",
       "      <td>This variable contains the contributor-defined study day expressed in integer days relative to the start of the study. This variable is used when no dates are provided, only a contributor-defined proxy.</td>\n",
       "    </tr>\n",
       "    <tr>\n",
       "      <th>236</th>\n",
       "      <td>HODISOUT</td>\n",
       "      <td>character</td>\n",
       "      <td>This variable contains details on the subject's disposition at hospital discharge.</td>\n",
       "    </tr>\n",
       "    <tr>\n",
       "      <th>237</th>\n",
       "      <td>SELFCARE</td>\n",
       "      <td>character</td>\n",
       "      <td>This variable contains details on the subject's ability to self-care after hospital discharge.</td>\n",
       "    </tr>\n",
       "    <tr>\n",
       "      <th>238</th>\n",
       "      <td>HOINDC</td>\n",
       "      <td>character</td>\n",
       "      <td>This variable contains information on the indication or medical condition responsible for the hospital or ICU admission.</td>\n",
       "    </tr>\n",
       "  </tbody>\n",
       "</table>\n",
       "</div>"
      ],
      "text/plain": [
       "    Variable_Name Variable_Type  \\\n",
       "208       STUDYID     character   \n",
       "209        DOMAIN     character   \n",
       "210       USUBJID     character   \n",
       "211         HOSEQ        number   \n",
       "212       HOREFID     character   \n",
       "213        HOTERM     character   \n",
       "214       HODECOD     character   \n",
       "215         HOCAT     character   \n",
       "216       HOPRESP     character   \n",
       "217       HOOCCUR     character   \n",
       "218        HOSTAT     character   \n",
       "219      HOREASND     character   \n",
       "220        HOPATT        number   \n",
       "221      VISITNUM        number   \n",
       "222         VISIT     character   \n",
       "223       VISITDY        number   \n",
       "224         HODTC     character   \n",
       "225       HOSTDTC     character   \n",
       "226       HOENDTC     character   \n",
       "227          HODY        number   \n",
       "228        HOSTDY        number   \n",
       "229        HOENDY        number   \n",
       "230         HODUR     character   \n",
       "231         HOTPT     character   \n",
       "232      HOTPTREF     character   \n",
       "233        HOSTRF     character   \n",
       "234      HOEVINTX     character   \n",
       "235      HOCDSTDY        number   \n",
       "236      HODISOUT     character   \n",
       "237      SELFCARE     character   \n",
       "238        HOINDC     character   \n",
       "\n",
       "                                                                                                                                                                                                                                                                                                                                             Variable_Definition  \n",
       "208                                                                                                                                                                 This variable contains the unique identifier for a study. This is the main key/identifier for all domains in the IDDO Data Repository  every domain table will have the STUDYID identifier.  \n",
       "209                                                                                                                                                                                                                                                                                        This variable contains the two-character abbreviation for the domain.  \n",
       "210  This variable contains the unique subject identifier for a study. This is a secondary key/identifier for all subject-level domains in the IDDO Data Repository  every domain table containing subject-level information (i.e., all but the Trial Domains) will have the USUBJID identifier. This variable will identify unique subjects in the repository.  \n",
       "211                                  This variable contains a sequence number to ensure uniqueness of subject records within the domain. Each observation (each recorded as a separate row in the domain) will have a unique number within each subject, e.g., a subject with 10 observations will have 10 rows and each row is numbered sequentially from 1-10.  \n",
       "212                                                                                                           This variable contains an identifier to distinguish duplicate findings, collections or events occurring within the same time period where no other timing information is available. This variable is used to make the rows' timing details unique.  \n",
       "213                                                                                                                                                                                                                                                                This variable contains the verbatim wording of the event as provided by the Data Contributor.  \n",
       "214                                                                                                                                      This variable contains a dictionary-derived text description of the event. This is defined by CDISC Controlled Terminology and IDDO Controlled Terminology. More details can be found in the IDDO Implementation Guide.  \n",
       "215                                                                                                                                                                                                                                                                                                  This variable contains a categorization of the observation.  \n",
       "216                                                                                                                                                                           This variable identifies whether an observation was pre-specified on the CRF. Values are null for spontaneously reported events, i.e. those collected as free-text verbatim terms.  \n",
       "217                                                                                                                                                                                                                               This variable identifies whether or not a pre-specified event has occurred. Values are null for spontaneously reported events.  \n",
       "218                                                             This variable contains information about the status of the observation  specifically that it was not completed when it was expected to have been. This column should be empty when there is a value in the --OCCUR (Events and Interventions Domains) or --ORRES (Findings Domains) variables.   \n",
       "219                                                                                                                                     This variable contains information about the reason why the observation was not completed when it was expected to have been. This column should be populated when there is a value of \"NOT DONE\" in the --STAT variable.  \n",
       "220                                                                                                                                                                                 This variable contains the number of events reported for HOTERM, where individual events and timing have not been provided and only the number of occurrences is available.   \n",
       "221                                                                                                                                                                                   This variable contains a number designating the planned clinical encounter number. This is a numeric version of the visit described in VISIT? and it is used for sorting.   \n",
       "222                                                                                                                                                                                                          This variable contains the protocol-defined text description of the planned clinical encounter number (as defined in the Trial Visits (TV) Domain).  \n",
       "223                                                                                                                                                                    This variable contains a number designating the Study Day of the planned clinical encounter. This is also a numeric version of the visit described in VISIT? and can be used for sorting.  \n",
       "224                                                                                                                                                                This variable contains the date and time of the collection of the observation, administration of a test or collection of a specimen.  This date and time will be provided in ISO 8601 format.  \n",
       "225                                                                                                                            This variable contains the start date and time of the observation or initiation of the event (as opposed to the date the question about the observation/event was asked). This date and time will be provided in ISO 8601 format.  \n",
       "226                                                                                                                                                                                                               This variable contains the end date and time of the observation or cessation of event. This date and time will be provided in ISO 8601 format.  \n",
       "227                                                                                                                                                                                               This variable describes the study day of the observation relative to the date in RFSTDTC.  This will be blank for records with no value in the --DTC variable.  \n",
       "228                                                                                                                                                                                This variable describes the study day of the start of the observation relative to the date in RFSTDTC.  This will be blank for records with no value in the --STDTC variable.  \n",
       "229                                                                                                                                                                                  This variable describes the study day of the end of the observation relative to the date in RFSTDTC.  This will be blank for records with no value in the --ENDTC variable.  \n",
       "230                                                                                                                                                                                        This variable contains information about the duration of the observation. This is only if collected on the CRF and not derived. This is collected in ISO 8601 format.  \n",
       "231                                                                                                                                                   This variable describes when the observation should have happened as defined in the study protocol. This may be represented as an elapsed time relative to a fixed reference point described in --TPTREF.   \n",
       "232                                                                                                                                                                                                                                This variable contains the name of the fixed reference point referred to by --TPT, --ELTM, e.g. PREVIOUS DOSE, PREVIOUS MEAL.  \n",
       "233                                                                                                                                                                                                                This variable describes when the start of the observation happened in relation to the date recorded in RFSTDTC, e.g. BEFORE, DURING or AFTER.  \n",
       "234                                                                                                                                                             This variable contains information about the evaluation interval associated with an observation when it cannot be represented in ISO 8601 format (e.g., \"Last few weeks\", \"While hospitalized\").  \n",
       "235                                                                                                                                                  This variable contains the contributor-defined study day expressed in integer days relative to the start of the study. This variable is used when no dates are provided, only a contributor-defined proxy.   \n",
       "236                                                                                                                                                                                                                                                                           This variable contains details on the subject's disposition at hospital discharge.  \n",
       "237                                                                                                                                                                                                                                                               This variable contains details on the subject's ability to self-care after hospital discharge.  \n",
       "238                                                                                                                                                                                                                                    This variable contains information on the indication or medical condition responsible for the hospital or ICU admission.   "
      ]
     },
     "execution_count": 69,
     "metadata": {},
     "output_type": "execute_result"
    }
   ],
   "source": [
    "# See variables for HO\n",
    "pd.set_option(\"display.max_colwidth\", 1000)\n",
    "data_description.loc[data_description.Domain==HO.name, ['Variable_Name', 'Variable_Type', 'Variable_Definition']]"
   ]
  },
  {
   "cell_type": "code",
   "execution_count": 70,
   "id": "f1bd6453-3ede-4511-9951-3dafc913cddb",
   "metadata": {},
   "outputs": [
    {
     "data": {
      "text/plain": [
       "Index(['STUDYID', 'DOMAIN', 'USUBJID', 'HOSEQ', 'HOREFID', 'HOTERM', 'HODECOD',\n",
       "       'HOCAT', 'HOPRESP', 'HOOCCUR', 'HOSTAT', 'HOREASND', 'HOPATT',\n",
       "       'VISITNUM', 'VISIT', 'VISITDY', 'HODY', 'HOSTDY', 'HOENDY', 'HODUR',\n",
       "       'HOSTRF', 'HOEVINTX', 'HOCDSTDY', 'HODISOUT', 'SELFCARE', 'HOINDC'],\n",
       "      dtype='object')"
      ]
     },
     "execution_count": 70,
     "metadata": {},
     "output_type": "execute_result"
    }
   ],
   "source": [
    "# Columns really in HO\n",
    "HO.columns"
   ]
  },
  {
   "cell_type": "code",
   "execution_count": 71,
   "id": "ba392218-ca5f-424d-b792-b84a286fceae",
   "metadata": {},
   "outputs": [
    {
     "name": "stdout",
     "output_type": "stream",
     "text": [
      "Values for HODECOD:  ['HOSPITAL' 'INTENSIVE CARE UNIT']\n"
     ]
    }
   ],
   "source": [
    "# Investigate HODECOD\n",
    "print('Values for HODECOD: ', HO['HODECOD'].unique())"
   ]
  },
  {
   "cell_type": "markdown",
   "id": "139e936d-c224-49a3-ad28-46c4fc2c9294",
   "metadata": {},
   "source": [
    "**=> To conclud, for HO, we can keep: USUBJID, HOSEQ and HODECOD:**"
   ]
  },
  {
   "cell_type": "code",
   "execution_count": 72,
   "id": "591cea21-c480-4f97-919c-e78890727e2b",
   "metadata": {},
   "outputs": [
    {
     "data": {
      "text/plain": [
       "Index(['USUBJID', 'HOSEQ', 'HODECOD'], dtype='object')"
      ]
     },
     "execution_count": 72,
     "metadata": {},
     "output_type": "execute_result"
    }
   ],
   "source": [
    "# Keep only some columns for HO\n",
    "HO = HO[['USUBJID', 'HOSEQ', 'HODECOD']]\n",
    "HO.columns"
   ]
  },
  {
   "cell_type": "code",
   "execution_count": 73,
   "id": "e6e58e80-ea13-49da-a10a-45897100048f",
   "metadata": {},
   "outputs": [
    {
     "data": {
      "text/plain": [
       "(2336786, 3)"
      ]
     },
     "execution_count": 73,
     "metadata": {},
     "output_type": "execute_result"
    }
   ],
   "source": [
    "HO.shape"
   ]
  },
  {
   "cell_type": "markdown",
   "id": "d1be5280-84f6-4f9b-b9ce-f8338588bafe",
   "metadata": {},
   "source": [
    "#### For IE:"
   ]
  },
  {
   "cell_type": "code",
   "execution_count": 75,
   "id": "10631463-5f06-445d-93f1-43d69380599a",
   "metadata": {},
   "outputs": [
    {
     "data": {
      "text/html": [
       "<div>\n",
       "<style scoped>\n",
       "    .dataframe tbody tr th:only-of-type {\n",
       "        vertical-align: middle;\n",
       "    }\n",
       "\n",
       "    .dataframe tbody tr th {\n",
       "        vertical-align: top;\n",
       "    }\n",
       "\n",
       "    .dataframe thead th {\n",
       "        text-align: right;\n",
       "    }\n",
       "</style>\n",
       "<table border=\"1\" class=\"dataframe\">\n",
       "  <thead>\n",
       "    <tr style=\"text-align: right;\">\n",
       "      <th></th>\n",
       "      <th>Variable_Name</th>\n",
       "      <th>Variable_Type</th>\n",
       "      <th>Variable_Definition</th>\n",
       "    </tr>\n",
       "  </thead>\n",
       "  <tbody>\n",
       "    <tr>\n",
       "      <th>239</th>\n",
       "      <td>STUDYID</td>\n",
       "      <td>character</td>\n",
       "      <td>This variable contains the unique identifier for a study. This is the main key/identifier for all domains in the IDDO Data Repository  every domain table will have the STUDYID identifier.</td>\n",
       "    </tr>\n",
       "    <tr>\n",
       "      <th>240</th>\n",
       "      <td>DOMAIN</td>\n",
       "      <td>character</td>\n",
       "      <td>This variable contains the two-character abbreviation for the domain.</td>\n",
       "    </tr>\n",
       "    <tr>\n",
       "      <th>241</th>\n",
       "      <td>USUBJID</td>\n",
       "      <td>character</td>\n",
       "      <td>This variable contains the unique subject identifier for a study. This is a secondary key/identifier for all subject-level domains in the IDDO Data Repository  every domain table containing subject-level information (i.e., all but the Trial Domains) will have the USUBJID identifier. This variable will identify unique subjects in the repository.</td>\n",
       "    </tr>\n",
       "    <tr>\n",
       "      <th>242</th>\n",
       "      <td>IESEQ</td>\n",
       "      <td>number</td>\n",
       "      <td>This variable contains a sequence number to ensure uniqueness of subject records within the domain. Each observation (each recorded as a separate row in the domain) will have a unique number within each subject, e.g., a subject with 10 observations will have 10 rows and each row is numbered sequentially from 1-10.</td>\n",
       "    </tr>\n",
       "    <tr>\n",
       "      <th>243</th>\n",
       "      <td>IETESTCD</td>\n",
       "      <td>character</td>\n",
       "      <td>This variable identifies the shortened code for the name of the test or examination performed.</td>\n",
       "    </tr>\n",
       "    <tr>\n",
       "      <th>244</th>\n",
       "      <td>IETEST</td>\n",
       "      <td>character</td>\n",
       "      <td>This variable identifies the name of the test or examination performed.</td>\n",
       "    </tr>\n",
       "    <tr>\n",
       "      <th>245</th>\n",
       "      <td>IECAT</td>\n",
       "      <td>character</td>\n",
       "      <td>This variable contains a categorization of the observation.</td>\n",
       "    </tr>\n",
       "    <tr>\n",
       "      <th>246</th>\n",
       "      <td>IEORRES</td>\n",
       "      <td>character</td>\n",
       "      <td>This variable contains the result of the test or examination performed as provided by the data contributor. The original data can be either numericm e.g. \"503\" or string, e.g., \"Positive\".</td>\n",
       "    </tr>\n",
       "    <tr>\n",
       "      <th>247</th>\n",
       "      <td>IESTRESC</td>\n",
       "      <td>character</td>\n",
       "      <td>This variable contains the converted, standardized result of the test or examination performed. The data can be either numeric, e.g. \"503\", or string, e.g. \"Positive\", and is stored as a string in the repository. The standard units and conversion formulas (as applicable) are described in detail in the IDDO Implementation Guide in the relevant sections about the variable --STRESU.</td>\n",
       "    </tr>\n",
       "    <tr>\n",
       "      <th>248</th>\n",
       "      <td>IESTAT</td>\n",
       "      <td>character</td>\n",
       "      <td>This variable contains information about the status of the observation  specifically that it was not completed when it was expected to have been. This column should be empty when there is a value in the --OCCUR (Events and Interventions Domains) or --ORRES (Findings Domains) variables.</td>\n",
       "    </tr>\n",
       "    <tr>\n",
       "      <th>249</th>\n",
       "      <td>IEREASND</td>\n",
       "      <td>character</td>\n",
       "      <td>This variable contains information about the reason why the observation was not completed when it was expected to have been. This column should be populated when there is a value of \"NOT DONE\" in the --STAT variable.</td>\n",
       "    </tr>\n",
       "    <tr>\n",
       "      <th>250</th>\n",
       "      <td>IEDTC</td>\n",
       "      <td>character</td>\n",
       "      <td>This variable contains the date and time of the collection of the observation, administration of a test or collection of a specimen.  This date and time will be provided in ISO 8601 format.</td>\n",
       "    </tr>\n",
       "    <tr>\n",
       "      <th>251</th>\n",
       "      <td>IEDY</td>\n",
       "      <td>number</td>\n",
       "      <td>This variable describes the study day of the observation relative to the date in RFSTDTC.  This will be blank for records with no value in the --DTC variable.</td>\n",
       "    </tr>\n",
       "  </tbody>\n",
       "</table>\n",
       "</div>"
      ],
      "text/plain": [
       "    Variable_Name Variable_Type  \\\n",
       "239       STUDYID     character   \n",
       "240        DOMAIN     character   \n",
       "241       USUBJID     character   \n",
       "242         IESEQ        number   \n",
       "243      IETESTCD     character   \n",
       "244        IETEST     character   \n",
       "245         IECAT     character   \n",
       "246       IEORRES     character   \n",
       "247      IESTRESC     character   \n",
       "248        IESTAT     character   \n",
       "249      IEREASND     character   \n",
       "250         IEDTC     character   \n",
       "251          IEDY        number   \n",
       "\n",
       "                                                                                                                                                                                                                                                                                                                                                                                Variable_Definition  \n",
       "239                                                                                                                                                                                                    This variable contains the unique identifier for a study. This is the main key/identifier for all domains in the IDDO Data Repository  every domain table will have the STUDYID identifier.  \n",
       "240                                                                                                                                                                                                                                                                                                                           This variable contains the two-character abbreviation for the domain.  \n",
       "241                                     This variable contains the unique subject identifier for a study. This is a secondary key/identifier for all subject-level domains in the IDDO Data Repository  every domain table containing subject-level information (i.e., all but the Trial Domains) will have the USUBJID identifier. This variable will identify unique subjects in the repository.  \n",
       "242                                                                     This variable contains a sequence number to ensure uniqueness of subject records within the domain. Each observation (each recorded as a separate row in the domain) will have a unique number within each subject, e.g., a subject with 10 observations will have 10 rows and each row is numbered sequentially from 1-10.  \n",
       "243                                                                                                                                                                                                                                                                                                 This variable identifies the shortened code for the name of the test or examination performed.   \n",
       "244                                                                                                                                                                                                                                                                                                                         This variable identifies the name of the test or examination performed.  \n",
       "245                                                                                                                                                                                                                                                                                                                                     This variable contains a categorization of the observation.  \n",
       "246                                                                                                                                                                                                    This variable contains the result of the test or examination performed as provided by the data contributor. The original data can be either numericm e.g. \"503\" or string, e.g., \"Positive\".  \n",
       "247  This variable contains the converted, standardized result of the test or examination performed. The data can be either numeric, e.g. \"503\", or string, e.g. \"Positive\", and is stored as a string in the repository. The standard units and conversion formulas (as applicable) are described in detail in the IDDO Implementation Guide in the relevant sections about the variable --STRESU.  \n",
       "248                                                                                                This variable contains information about the status of the observation  specifically that it was not completed when it was expected to have been. This column should be empty when there is a value in the --OCCUR (Events and Interventions Domains) or --ORRES (Findings Domains) variables.   \n",
       "249                                                                                                                                                                        This variable contains information about the reason why the observation was not completed when it was expected to have been. This column should be populated when there is a value of \"NOT DONE\" in the --STAT variable.  \n",
       "250                                                                                                                                                                                                   This variable contains the date and time of the collection of the observation, administration of a test or collection of a specimen.  This date and time will be provided in ISO 8601 format.  \n",
       "251                                                                                                                                                                                                                                  This variable describes the study day of the observation relative to the date in RFSTDTC.  This will be blank for records with no value in the --DTC variable.  "
      ]
     },
     "execution_count": 75,
     "metadata": {},
     "output_type": "execute_result"
    }
   ],
   "source": [
    "# See variables for IE\n",
    "pd.set_option(\"display.max_colwidth\", 1000)\n",
    "data_description.loc[data_description.Domain==IE.name, ['Variable_Name', 'Variable_Type', 'Variable_Definition']]"
   ]
  },
  {
   "cell_type": "code",
   "execution_count": 76,
   "id": "6ef4f368-6599-4fde-94b7-b26d8e4e3083",
   "metadata": {},
   "outputs": [
    {
     "data": {
      "text/plain": [
       "Index(['STUDYID', 'DOMAIN', 'USUBJID', 'IESEQ', 'IETESTCD', 'IETEST', 'IECAT',\n",
       "       'IEORRES', 'IESTRESC', 'IESTAT', 'IEREASND', 'IEDY'],\n",
       "      dtype='object')"
      ]
     },
     "execution_count": 76,
     "metadata": {},
     "output_type": "execute_result"
    }
   ],
   "source": [
    "# Columns really in IE\n",
    "IE.columns"
   ]
  },
  {
   "cell_type": "markdown",
   "id": "e998ca10-d1f4-4cf3-a72a-eaa0b68b4d18",
   "metadata": {},
   "source": [
    "**=> To conclud, for IE, we can keep: USUBJID, IESEQ, IETESTCD, IESTRESC:**"
   ]
  },
  {
   "cell_type": "code",
   "execution_count": 77,
   "id": "07fdff1e-cbb6-43c6-831b-ad512372e05c",
   "metadata": {},
   "outputs": [
    {
     "data": {
      "text/plain": [
       "Index(['USUBJID', 'IESEQ', 'IETESTCD', 'IESTRESC'], dtype='object')"
      ]
     },
     "execution_count": 77,
     "metadata": {},
     "output_type": "execute_result"
    }
   ],
   "source": [
    "# Keep only some columns for IE\n",
    "IE = IE[['USUBJID', 'IESEQ', 'IETESTCD', 'IESTRESC']]\n",
    "IE.columns"
   ]
  },
  {
   "cell_type": "code",
   "execution_count": 78,
   "id": "661f816b-96e2-4181-a41c-0fdada246eae",
   "metadata": {},
   "outputs": [
    {
     "data": {
      "text/plain": [
       "(948185, 4)"
      ]
     },
     "execution_count": 78,
     "metadata": {},
     "output_type": "execute_result"
    }
   ],
   "source": [
    "IE.shape"
   ]
  },
  {
   "cell_type": "markdown",
   "id": "2e7d5c3e-8b18-45e3-a124-7226cc076d06",
   "metadata": {},
   "source": [
    "#### For IN:"
   ]
  },
  {
   "cell_type": "markdown",
   "id": "dbd63b7c-544a-42d0-a4d5-7dffa506aa8a",
   "metadata": {},
   "source": [
    "TODO"
   ]
  },
  {
   "cell_type": "markdown",
   "id": "6e6503f2-46a7-46ba-a381-fe6b5348f06e",
   "metadata": {},
   "source": [
    "#### For LB:"
   ]
  },
  {
   "cell_type": "code",
   "execution_count": 80,
   "id": "0e7b314b-9875-4744-a967-de9752cadfb5",
   "metadata": {},
   "outputs": [
    {
     "data": {
      "text/html": [
       "<div>\n",
       "<style scoped>\n",
       "    .dataframe tbody tr th:only-of-type {\n",
       "        vertical-align: middle;\n",
       "    }\n",
       "\n",
       "    .dataframe tbody tr th {\n",
       "        vertical-align: top;\n",
       "    }\n",
       "\n",
       "    .dataframe thead th {\n",
       "        text-align: right;\n",
       "    }\n",
       "</style>\n",
       "<table border=\"1\" class=\"dataframe\">\n",
       "  <thead>\n",
       "    <tr style=\"text-align: right;\">\n",
       "      <th></th>\n",
       "      <th>Variable_Name</th>\n",
       "      <th>Variable_Type</th>\n",
       "      <th>Variable_Definition</th>\n",
       "    </tr>\n",
       "  </thead>\n",
       "  <tbody>\n",
       "    <tr>\n",
       "      <th>317</th>\n",
       "      <td>STUDYID</td>\n",
       "      <td>character</td>\n",
       "      <td>This variable contains the unique identifier for a study. This is the main key/identifier for all domains in the IDDO Data Repository  every domain table will have the STUDYID identifier.</td>\n",
       "    </tr>\n",
       "    <tr>\n",
       "      <th>318</th>\n",
       "      <td>DOMAIN</td>\n",
       "      <td>character</td>\n",
       "      <td>This variable contains the two-character abbreviation for the domain.</td>\n",
       "    </tr>\n",
       "    <tr>\n",
       "      <th>319</th>\n",
       "      <td>USUBJID</td>\n",
       "      <td>character</td>\n",
       "      <td>This variable contains the unique subject identifier for a study. This is a secondary key/identifier for all subject-level domains in the IDDO Data Repository  every domain table containing subject-level information (i.e., all but the Trial Domains) will have the USUBJID identifier. This variable will identify unique subjects in the repository.</td>\n",
       "    </tr>\n",
       "    <tr>\n",
       "      <th>320</th>\n",
       "      <td>LBSEQ</td>\n",
       "      <td>number</td>\n",
       "      <td>This variable contains a sequence number to ensure uniqueness of subject records within the domain. Each observation (each recorded as a separate row in the domain) will have a unique number within each subject, e.g., a subject with 10 observations will have 10 rows and each row is numbered sequentially from 1-10.</td>\n",
       "    </tr>\n",
       "    <tr>\n",
       "      <th>321</th>\n",
       "      <td>LBREFID</td>\n",
       "      <td>character</td>\n",
       "      <td>This variable contains an identifier to distinguish duplicate findings, collections or events occurring within the same time period where no other timing information is available. This variable is used to make the rows' timing details unique.</td>\n",
       "    </tr>\n",
       "    <tr>\n",
       "      <th>322</th>\n",
       "      <td>LBTESTCD</td>\n",
       "      <td>character</td>\n",
       "      <td>This variable identifies the shortened code for the name of the test or examination performed. This is defined by CDISC Controlled Terminology.</td>\n",
       "    </tr>\n",
       "    <tr>\n",
       "      <th>323</th>\n",
       "      <td>LBTEST</td>\n",
       "      <td>character</td>\n",
       "      <td>This variable identifies the name of the test or examination performed. This is defined by CDISC Controlled Terminology.</td>\n",
       "    </tr>\n",
       "    <tr>\n",
       "      <th>324</th>\n",
       "      <td>LBCAT</td>\n",
       "      <td>character</td>\n",
       "      <td>This variable contains a categorization of the observation.</td>\n",
       "    </tr>\n",
       "    <tr>\n",
       "      <th>325</th>\n",
       "      <td>LBSCAT</td>\n",
       "      <td>character</td>\n",
       "      <td>This variable contains a further categorization of the observation.</td>\n",
       "    </tr>\n",
       "    <tr>\n",
       "      <th>326</th>\n",
       "      <td>LBORRES</td>\n",
       "      <td>character</td>\n",
       "      <td>This variable contains the result of the test or examination performed as provided by the data contributor. The original data can be either numericm e.g. \"503\" or string, e.g., \"Positive\".</td>\n",
       "    </tr>\n",
       "    <tr>\n",
       "      <th>327</th>\n",
       "      <td>LBORRESU</td>\n",
       "      <td>character</td>\n",
       "      <td>This variable contains the unit for the result of the test or examination performed as provided by the data contributor. This is defined by CDISC Controlled Terminology.</td>\n",
       "    </tr>\n",
       "    <tr>\n",
       "      <th>328</th>\n",
       "      <td>LBORNRLO</td>\n",
       "      <td>number</td>\n",
       "      <td>This variable contains the lower end of the reference range for continuous measurement in original units as provided by the data contributor.</td>\n",
       "    </tr>\n",
       "    <tr>\n",
       "      <th>329</th>\n",
       "      <td>LBORNRHI</td>\n",
       "      <td>number</td>\n",
       "      <td>This variable contains the upper end of the reference range for continuous measurement in original units as provided by the data contributor.</td>\n",
       "    </tr>\n",
       "    <tr>\n",
       "      <th>330</th>\n",
       "      <td>LBSTRESC</td>\n",
       "      <td>character</td>\n",
       "      <td>This variable contains the converted, standardized result of the test or examination performed. The data can be either numeric, e.g. \"503\", or string, e.g. \"Positive\", and is stored as a string in the repository. The standard units and conversion formulas (as applicable) are described in detail in the IDDO Implementation Guide in the relevant sections about the variable --STRESU.</td>\n",
       "    </tr>\n",
       "    <tr>\n",
       "      <th>331</th>\n",
       "      <td>LBSTRESN</td>\n",
       "      <td>number</td>\n",
       "      <td>This variable contains the converted, standardized result of the test or examination performed when the result is numeric. This variable is a direct copy of the numeric values found in --STRESC. String/character-based results, e.g. \"Positive\", do not appear.</td>\n",
       "    </tr>\n",
       "    <tr>\n",
       "      <th>332</th>\n",
       "      <td>LBSTRESU</td>\n",
       "      <td>character</td>\n",
       "      <td>This variable contains the unit for the converted, standardized result of the test or examination performed. The IDDO-Defined Standard Units for each test or examination are described in detail in the IDDO Implementation Guide.</td>\n",
       "    </tr>\n",
       "    <tr>\n",
       "      <th>333</th>\n",
       "      <td>LBSTAT</td>\n",
       "      <td>character</td>\n",
       "      <td>This variable contains information about the status of the observation  specifically that it was not completed when it was expected to have been. This column should be empty when there is a value in the --OCCUR (Events and Interventions Domains) or --ORRES (Findings Domains) variables.</td>\n",
       "    </tr>\n",
       "    <tr>\n",
       "      <th>334</th>\n",
       "      <td>LBREASND</td>\n",
       "      <td>character</td>\n",
       "      <td>This variable contains information about the reason why the observation was not completed when it was expected to have been. This column should be populated when there is a value of \"NOT DONE\" in the --STAT variable.</td>\n",
       "    </tr>\n",
       "    <tr>\n",
       "      <th>335</th>\n",
       "      <td>LBNAM</td>\n",
       "      <td>character</td>\n",
       "      <td>This variable contains the name or identifier of the laboratory that performed the measurement or test.</td>\n",
       "    </tr>\n",
       "    <tr>\n",
       "      <th>336</th>\n",
       "      <td>LBSPEC</td>\n",
       "      <td>character</td>\n",
       "      <td>This variable contains information about the type of specimen used for the laboratory test or examination. This is defined by CDISC Controlled Terminology .</td>\n",
       "    </tr>\n",
       "    <tr>\n",
       "      <th>337</th>\n",
       "      <td>LBSPCCND</td>\n",
       "      <td>character</td>\n",
       "      <td>This variable describes the condition of the specimen used for the test or examination. This is defined by CDISC Controlled Terminology.</td>\n",
       "    </tr>\n",
       "    <tr>\n",
       "      <th>338</th>\n",
       "      <td>LBMETHOD</td>\n",
       "      <td>character</td>\n",
       "      <td>This variable contains information about the method used for the test or examination. This is defined by CDISC Controlled Terminology.</td>\n",
       "    </tr>\n",
       "    <tr>\n",
       "      <th>339</th>\n",
       "      <td>VISITNUM</td>\n",
       "      <td>number</td>\n",
       "      <td>This variable contains a number designating the planned clinical encounter number. This is a numeric version of the visit described in VISIT? and it is used for sorting.</td>\n",
       "    </tr>\n",
       "    <tr>\n",
       "      <th>340</th>\n",
       "      <td>VISIT</td>\n",
       "      <td>character</td>\n",
       "      <td>This variable contains the protocol-defined text description of the planned clinical encounter number (as defined in the Trial Visits (TV) Domain).</td>\n",
       "    </tr>\n",
       "    <tr>\n",
       "      <th>341</th>\n",
       "      <td>VISITDY</td>\n",
       "      <td>number</td>\n",
       "      <td>This variable contains a number designating the Study Day of the planned clinical encounter. This is also a numeric version of the visit described in VISIT? and can be used for sorting.</td>\n",
       "    </tr>\n",
       "    <tr>\n",
       "      <th>342</th>\n",
       "      <td>EPOCH</td>\n",
       "      <td>character</td>\n",
       "      <td>This variable describes the Epoch period of the observation (e.g., Baseline, Treatment, Follow-up).  This is defined by CDISC Controlled Terminology</td>\n",
       "    </tr>\n",
       "    <tr>\n",
       "      <th>343</th>\n",
       "      <td>LBDTC</td>\n",
       "      <td>character</td>\n",
       "      <td>This variable contains the date and time of the collection of the observation, administration of a test or collection of a specimen.  This date and time will be provided in ISO 8601 format.</td>\n",
       "    </tr>\n",
       "    <tr>\n",
       "      <th>344</th>\n",
       "      <td>LBENDTC</td>\n",
       "      <td>character</td>\n",
       "      <td>This variable contains the end date and time of the observation or cessation of event. This date and time will be provided in ISO 8601 format.</td>\n",
       "    </tr>\n",
       "    <tr>\n",
       "      <th>345</th>\n",
       "      <td>LBDY</td>\n",
       "      <td>number</td>\n",
       "      <td>This variable describes the study day of the observation relative to the date in RFSTDTC.  This will be blank for records with no value in the --DTC variable.</td>\n",
       "    </tr>\n",
       "    <tr>\n",
       "      <th>346</th>\n",
       "      <td>LBENDY</td>\n",
       "      <td>number</td>\n",
       "      <td>This variable describes the study day of the end of the observation relative to the date in RFSTDTC.  This will be blank for records with no value in the --ENDTC variable.</td>\n",
       "    </tr>\n",
       "    <tr>\n",
       "      <th>347</th>\n",
       "      <td>LBTPT</td>\n",
       "      <td>character</td>\n",
       "      <td>This variable describes when the observation should have happened as defined in the study protocol. This may be represented as an elapsed time relative to a fixed reference point described in --TPTREF.</td>\n",
       "    </tr>\n",
       "    <tr>\n",
       "      <th>348</th>\n",
       "      <td>LBTPTNUM</td>\n",
       "      <td>number</td>\n",
       "      <td>This variable contains the numeric version of --TPT and it is used for sorting.</td>\n",
       "    </tr>\n",
       "    <tr>\n",
       "      <th>349</th>\n",
       "      <td>LBTPTREF</td>\n",
       "      <td>character</td>\n",
       "      <td>This variable contains the name of the fixed reference point referred to by --TPT, --ELTM, e.g. PREVIOUS DOSE, PREVIOUS MEAL.</td>\n",
       "    </tr>\n",
       "    <tr>\n",
       "      <th>350</th>\n",
       "      <td>LBSTRF</td>\n",
       "      <td>character</td>\n",
       "      <td>This variable describes when the start of the observation happened in relation to the date recorded in RFSTDTC, e.g. BEFORE, DURING or AFTER.</td>\n",
       "    </tr>\n",
       "    <tr>\n",
       "      <th>351</th>\n",
       "      <td>LBEVINTX</td>\n",
       "      <td>character</td>\n",
       "      <td>This variable contains information about the evaluation interval associated with an observation when it cannot be represented in ISO 8601 format (e.g., \"Last few weeks\", \"While hospitalized\").</td>\n",
       "    </tr>\n",
       "    <tr>\n",
       "      <th>352</th>\n",
       "      <td>LBSTRTPT</td>\n",
       "      <td>character</td>\n",
       "      <td>This variable describes when the start of the observation happened in relation to the point described in --STTPT, e.g. BEFORE, DURING or AFTER.</td>\n",
       "    </tr>\n",
       "    <tr>\n",
       "      <th>353</th>\n",
       "      <td>LBSTTPT</td>\n",
       "      <td>character</td>\n",
       "      <td>This variable contains the name of the fixed reference point referred to by --STRTPT, e.g. PREVIOUS DOSE, 2003-12-15.</td>\n",
       "    </tr>\n",
       "    <tr>\n",
       "      <th>354</th>\n",
       "      <td>LBCDSTDY</td>\n",
       "      <td>number</td>\n",
       "      <td>This variable contains the contributor-defined study day expressed in integer days relative to the start of the study. This variable is used when no dates are provided, only a contributor-defined proxy.</td>\n",
       "    </tr>\n",
       "    <tr>\n",
       "      <th>355</th>\n",
       "      <td>LBRPOC</td>\n",
       "      <td>character</td>\n",
       "      <td>This variable describes the reported time period for the occurrence of an event when the actual date/time is not provided. This is provided in ISO 8601 format.</td>\n",
       "    </tr>\n",
       "  </tbody>\n",
       "</table>\n",
       "</div>"
      ],
      "text/plain": [
       "    Variable_Name Variable_Type  \\\n",
       "317       STUDYID     character   \n",
       "318        DOMAIN     character   \n",
       "319       USUBJID     character   \n",
       "320         LBSEQ        number   \n",
       "321       LBREFID     character   \n",
       "322      LBTESTCD     character   \n",
       "323        LBTEST     character   \n",
       "324         LBCAT     character   \n",
       "325        LBSCAT     character   \n",
       "326       LBORRES     character   \n",
       "327      LBORRESU     character   \n",
       "328      LBORNRLO        number   \n",
       "329      LBORNRHI        number   \n",
       "330      LBSTRESC     character   \n",
       "331      LBSTRESN        number   \n",
       "332      LBSTRESU     character   \n",
       "333        LBSTAT     character   \n",
       "334      LBREASND     character   \n",
       "335         LBNAM     character   \n",
       "336        LBSPEC     character   \n",
       "337      LBSPCCND     character   \n",
       "338      LBMETHOD     character   \n",
       "339      VISITNUM        number   \n",
       "340         VISIT     character   \n",
       "341       VISITDY        number   \n",
       "342         EPOCH     character   \n",
       "343         LBDTC     character   \n",
       "344       LBENDTC     character   \n",
       "345          LBDY        number   \n",
       "346        LBENDY        number   \n",
       "347         LBTPT     character   \n",
       "348      LBTPTNUM        number   \n",
       "349      LBTPTREF     character   \n",
       "350        LBSTRF     character   \n",
       "351      LBEVINTX     character   \n",
       "352      LBSTRTPT     character   \n",
       "353       LBSTTPT     character   \n",
       "354      LBCDSTDY        number   \n",
       "355        LBRPOC     character   \n",
       "\n",
       "                                                                                                                                                                                                                                                                                                                                                                                Variable_Definition  \n",
       "317                                                                                                                                                                                                    This variable contains the unique identifier for a study. This is the main key/identifier for all domains in the IDDO Data Repository  every domain table will have the STUDYID identifier.  \n",
       "318                                                                                                                                                                                                                                                                                                                           This variable contains the two-character abbreviation for the domain.  \n",
       "319                                     This variable contains the unique subject identifier for a study. This is a secondary key/identifier for all subject-level domains in the IDDO Data Repository  every domain table containing subject-level information (i.e., all but the Trial Domains) will have the USUBJID identifier. This variable will identify unique subjects in the repository.  \n",
       "320                                                                     This variable contains a sequence number to ensure uniqueness of subject records within the domain. Each observation (each recorded as a separate row in the domain) will have a unique number within each subject, e.g., a subject with 10 observations will have 10 rows and each row is numbered sequentially from 1-10.  \n",
       "321                                                                                                                                              This variable contains an identifier to distinguish duplicate findings, collections or events occurring within the same time period where no other timing information is available. This variable is used to make the rows' timing details unique.  \n",
       "322                                                                                                                                                                                                                                                 This variable identifies the shortened code for the name of the test or examination performed. This is defined by CDISC Controlled Terminology.  \n",
       "323                                                                                                                                                                                                                                                                        This variable identifies the name of the test or examination performed. This is defined by CDISC Controlled Terminology.  \n",
       "324                                                                                                                                                                                                                                                                                                                                     This variable contains a categorization of the observation.  \n",
       "325                                                                                                                                                                                                                                                                                                                             This variable contains a further categorization of the observation.  \n",
       "326                                                                                                                                                                                                    This variable contains the result of the test or examination performed as provided by the data contributor. The original data can be either numericm e.g. \"503\" or string, e.g., \"Positive\".  \n",
       "327                                                                                                                                                                                                                       This variable contains the unit for the result of the test or examination performed as provided by the data contributor. This is defined by CDISC Controlled Terminology.  \n",
       "328                                                                                                                                                                                                                                                  This variable contains the lower end of the reference range for continuous measurement in original units as provided by the data contributor.   \n",
       "329                                                                                                                                                                                                                                                   This variable contains the upper end of the reference range for continuous measurement in original units as provided by the data contributor.  \n",
       "330  This variable contains the converted, standardized result of the test or examination performed. The data can be either numeric, e.g. \"503\", or string, e.g. \"Positive\", and is stored as a string in the repository. The standard units and conversion formulas (as applicable) are described in detail in the IDDO Implementation Guide in the relevant sections about the variable --STRESU.  \n",
       "331                                                                                                                              This variable contains the converted, standardized result of the test or examination performed when the result is numeric. This variable is a direct copy of the numeric values found in --STRESC. String/character-based results, e.g. \"Positive\", do not appear.  \n",
       "332                                                                                                                                                             This variable contains the unit for the converted, standardized result of the test or examination performed. The IDDO-Defined Standard Units for each test or examination are described in detail in the IDDO Implementation Guide.  \n",
       "333                                                                                                This variable contains information about the status of the observation  specifically that it was not completed when it was expected to have been. This column should be empty when there is a value in the --OCCUR (Events and Interventions Domains) or --ORRES (Findings Domains) variables.   \n",
       "334                                                                                                                                                                        This variable contains information about the reason why the observation was not completed when it was expected to have been. This column should be populated when there is a value of \"NOT DONE\" in the --STAT variable.  \n",
       "335                                                                                                                                                                                                                                                                                         This variable contains the name or identifier of the laboratory that performed the measurement or test.  \n",
       "336                                                                                                                                                                                                                                    This variable contains information about the type of specimen used for the laboratory test or examination. This is defined by CDISC Controlled Terminology .  \n",
       "337                                                                                                                                                                                                                                                        This variable describes the condition of the specimen used for the test or examination. This is defined by CDISC Controlled Terminology.  \n",
       "338                                                                                                                                                                                                                                                          This variable contains information about the method used for the test or examination. This is defined by CDISC Controlled Terminology.  \n",
       "339                                                                                                                                                                                                                      This variable contains a number designating the planned clinical encounter number. This is a numeric version of the visit described in VISIT? and it is used for sorting.   \n",
       "340                                                                                                                                                                                                                                             This variable contains the protocol-defined text description of the planned clinical encounter number (as defined in the Trial Visits (TV) Domain).  \n",
       "341                                                                                                                                                                                                       This variable contains a number designating the Study Day of the planned clinical encounter. This is also a numeric version of the visit described in VISIT? and can be used for sorting.  \n",
       "342                                                                                                                                                                                                                                            This variable describes the Epoch period of the observation (e.g., Baseline, Treatment, Follow-up).  This is defined by CDISC Controlled Terminology  \n",
       "343                                                                                                                                                                                                   This variable contains the date and time of the collection of the observation, administration of a test or collection of a specimen.  This date and time will be provided in ISO 8601 format.  \n",
       "344                                                                                                                                                                                                                                                  This variable contains the end date and time of the observation or cessation of event. This date and time will be provided in ISO 8601 format.  \n",
       "345                                                                                                                                                                                                                                  This variable describes the study day of the observation relative to the date in RFSTDTC.  This will be blank for records with no value in the --DTC variable.  \n",
       "346                                                                                                                                                                                                                     This variable describes the study day of the end of the observation relative to the date in RFSTDTC.  This will be blank for records with no value in the --ENDTC variable.  \n",
       "347                                                                                                                                                                                      This variable describes when the observation should have happened as defined in the study protocol. This may be represented as an elapsed time relative to a fixed reference point described in --TPTREF.   \n",
       "348                                                                                                                                                                                                                                                                                                                 This variable contains the numeric version of --TPT and it is used for sorting.  \n",
       "349                                                                                                                                                                                                                                                                   This variable contains the name of the fixed reference point referred to by --TPT, --ELTM, e.g. PREVIOUS DOSE, PREVIOUS MEAL.  \n",
       "350                                                                                                                                                                                                                                                   This variable describes when the start of the observation happened in relation to the date recorded in RFSTDTC, e.g. BEFORE, DURING or AFTER.  \n",
       "351                                                                                                                                                                                                This variable contains information about the evaluation interval associated with an observation when it cannot be represented in ISO 8601 format (e.g., \"Last few weeks\", \"While hospitalized\").  \n",
       "352                                                                                                                                                                                                                                                 This variable describes when the start of the observation happened in relation to the point described in --STTPT, e.g. BEFORE, DURING or AFTER.  \n",
       "353                                                                                                                                                                                                                                                                           This variable contains the name of the fixed reference point referred to by --STRTPT, e.g. PREVIOUS DOSE, 2003-12-15.  \n",
       "354                                                                                                                                                                                     This variable contains the contributor-defined study day expressed in integer days relative to the start of the study. This variable is used when no dates are provided, only a contributor-defined proxy.   \n",
       "355                                                                                                                                                                                                                                 This variable describes the reported time period for the occurrence of an event when the actual date/time is not provided. This is provided in ISO 8601 format.  "
      ]
     },
     "execution_count": 80,
     "metadata": {},
     "output_type": "execute_result"
    }
   ],
   "source": [
    "# See variables for LB\n",
    "pd.set_option(\"display.max_colwidth\", 1000)\n",
    "data_description.loc[data_description.Domain==LB.name, ['Variable_Name', 'Variable_Type', 'Variable_Definition']]"
   ]
  },
  {
   "cell_type": "code",
   "execution_count": 81,
   "id": "4dfee115-b6c0-465f-83f3-326ef8c0a50f",
   "metadata": {},
   "outputs": [
    {
     "data": {
      "text/plain": [
       "Index(['STUDYID', 'DOMAIN', 'USUBJID', 'LBSEQ', 'LBTESTCD', 'LBTEST', 'LBCAT',\n",
       "       'LBSCAT', 'LBORRES', 'LBORRESU', 'LBSTRESC', 'LBSTRESN', 'LBSTRESU',\n",
       "       'LBSTAT', 'LBREASND', 'LBSPEC', 'LBMETHOD', 'VISITNUM', 'VISIT',\n",
       "       'VISITDY', 'LBDY', 'LBSTRF', 'LBEVINTX', 'LBCDSTDY'],\n",
       "      dtype='object')"
      ]
     },
     "execution_count": 81,
     "metadata": {},
     "output_type": "execute_result"
    }
   ],
   "source": [
    "# Columns really in LB\n",
    "LB.columns"
   ]
  },
  {
   "cell_type": "markdown",
   "id": "9c82df1b-b0e4-447a-94d5-f815989bb822",
   "metadata": {},
   "source": [
    "TODO : grouper valeur et unités ??"
   ]
  },
  {
   "cell_type": "markdown",
   "id": "073831b4-0dd3-4b4b-aeb9-99e5abb80563",
   "metadata": {},
   "source": [
    "**=> To conclud, for LB, we can keep: USUBJID, LBSEQ, LBTESTCD, LBORRES, LBORRESU, LBSTRESC, LBSTRESN, LBSTRESU:**"
   ]
  },
  {
   "cell_type": "code",
   "execution_count": 82,
   "id": "bce24fd9-86ae-4074-a23b-fbc18e125841",
   "metadata": {},
   "outputs": [
    {
     "data": {
      "text/plain": [
       "Index(['USUBJID', 'LBSEQ', 'LBTESTCD', 'LBORRES', 'LBORRESU', 'LBSTRESC',\n",
       "       'LBSTRESN', 'LBSTRESU'],\n",
       "      dtype='object')"
      ]
     },
     "execution_count": 82,
     "metadata": {},
     "output_type": "execute_result"
    }
   ],
   "source": [
    "# Keep only some columns for LB\n",
    "LB = LB[['USUBJID', 'LBSEQ', 'LBTESTCD', 'LBORRES', 'LBORRESU', 'LBSTRESC', 'LBSTRESN', 'LBSTRESU']]\n",
    "LB.columns"
   ]
  },
  {
   "cell_type": "code",
   "execution_count": 83,
   "id": "dbb121e9-2719-438c-a52f-2be88b1e93da",
   "metadata": {},
   "outputs": [
    {
     "data": {
      "text/plain": [
       "(7330863, 8)"
      ]
     },
     "execution_count": 83,
     "metadata": {},
     "output_type": "execute_result"
    }
   ],
   "source": [
    "LB.shape"
   ]
  },
  {
   "cell_type": "code",
   "execution_count": null,
   "id": "bd8dd27f-ba56-4c28-8dd5-bbf03a850f7b",
   "metadata": {},
   "outputs": [],
   "source": []
  },
  {
   "cell_type": "markdown",
   "id": "f809a66e-2d05-4fa0-a610-8bb9f430c68f",
   "metadata": {},
   "source": [
    "### 2.3 EDA"
   ]
  },
  {
   "cell_type": "code",
   "execution_count": 13,
   "id": "8e3d6c6c-9b76-47a6-b6c5-b3c06f097af0",
   "metadata": {},
   "outputs": [],
   "source": [
    "# CHOOSE YOUR DATAFRAME :\n",
    "df_profile = DS"
   ]
  },
  {
   "cell_type": "code",
   "execution_count": 14,
   "id": "43e1f9ce-27ab-4ced-a116-90fec1d45e9a",
   "metadata": {},
   "outputs": [
    {
     "data": {
      "text/html": [
       "<div>\n",
       "<style scoped>\n",
       "    .dataframe tbody tr th:only-of-type {\n",
       "        vertical-align: middle;\n",
       "    }\n",
       "\n",
       "    .dataframe tbody tr th {\n",
       "        vertical-align: top;\n",
       "    }\n",
       "\n",
       "    .dataframe thead th {\n",
       "        text-align: right;\n",
       "    }\n",
       "</style>\n",
       "<table border=\"1\" class=\"dataframe\">\n",
       "  <thead>\n",
       "    <tr style=\"text-align: right;\">\n",
       "      <th></th>\n",
       "      <th>Variable_Name</th>\n",
       "      <th>Variable_Type</th>\n",
       "      <th>Variable_Definition</th>\n",
       "    </tr>\n",
       "  </thead>\n",
       "  <tbody>\n",
       "    <tr>\n",
       "      <th>157</th>\n",
       "      <td>STUDYID</td>\n",
       "      <td>character</td>\n",
       "      <td>This variable contains the unique identifier for a study. This is the main key/identifier for all domains in the IDDO Data Repository  every domain table will have the STUDYID identifier.</td>\n",
       "    </tr>\n",
       "    <tr>\n",
       "      <th>158</th>\n",
       "      <td>DOMAIN</td>\n",
       "      <td>character</td>\n",
       "      <td>This variable contains the two-character abbreviation for the domain.</td>\n",
       "    </tr>\n",
       "    <tr>\n",
       "      <th>159</th>\n",
       "      <td>USUBJID</td>\n",
       "      <td>character</td>\n",
       "      <td>This variable contains the unique subject identifier for a study. This is a secondary key/identifier for all subject-level domains in the IDDO Data Repository  every domain table containing subject-level information (i.e., all but the Trial Domains) will have the USUBJID identifier. This variable will identify unique subjects in the repository.</td>\n",
       "    </tr>\n",
       "    <tr>\n",
       "      <th>160</th>\n",
       "      <td>DSSEQ</td>\n",
       "      <td>number</td>\n",
       "      <td>This variable contains a sequence number to ensure uniqueness of subject records within the domain. Each observation (each recorded as a separate row in the domain) will have a unique number within each subject, e.g., a subject with 10 observations will have 10 rows and each row is numbered sequentially from 1-10.</td>\n",
       "    </tr>\n",
       "    <tr>\n",
       "      <th>161</th>\n",
       "      <td>DSTERM</td>\n",
       "      <td>character</td>\n",
       "      <td>This variable contains the verbatim wording of the event as provided by the Data Contributor.</td>\n",
       "    </tr>\n",
       "    <tr>\n",
       "      <th>162</th>\n",
       "      <td>DSMODIFY</td>\n",
       "      <td>character</td>\n",
       "      <td>This variable contains a modification of the verbatim wording of the event. This is used to capture IDDO-defined standardised terms of the event.</td>\n",
       "    </tr>\n",
       "    <tr>\n",
       "      <th>163</th>\n",
       "      <td>DSDECOD</td>\n",
       "      <td>character</td>\n",
       "      <td>This variable contains a dictionary-derived text description of the event. This is defined by CDISC Controlled Terminology and IDDO Controlled Terminology. More details can be found in the IDDO Implementation Guide.</td>\n",
       "    </tr>\n",
       "    <tr>\n",
       "      <th>164</th>\n",
       "      <td>VISITNUM</td>\n",
       "      <td>number</td>\n",
       "      <td>This variable contains a number designating the planned clinical encounter number. This is a numeric version of the visit described in VISIT? and it is used for sorting.</td>\n",
       "    </tr>\n",
       "    <tr>\n",
       "      <th>165</th>\n",
       "      <td>VISIT</td>\n",
       "      <td>character</td>\n",
       "      <td>This variable contains the protocol-defined text description of the planned clinical encounter number (as defined in the Trial Visits (TV) Domain).</td>\n",
       "    </tr>\n",
       "    <tr>\n",
       "      <th>166</th>\n",
       "      <td>VISITDY</td>\n",
       "      <td>number</td>\n",
       "      <td>This variable contains a number designating the Study Day of the planned clinical encounter. This is also a numeric version of the visit described in VISIT? and can be used for sorting.</td>\n",
       "    </tr>\n",
       "    <tr>\n",
       "      <th>167</th>\n",
       "      <td>EPOCH</td>\n",
       "      <td>character</td>\n",
       "      <td>This variable describes the Epoch period of the observation (e.g., Baseline, Treatment, Follow-up).  This is defined by CDISC Controlled Terminology</td>\n",
       "    </tr>\n",
       "    <tr>\n",
       "      <th>168</th>\n",
       "      <td>DSDTC</td>\n",
       "      <td>character</td>\n",
       "      <td>This variable contains the date and time of the collection of the observation, administration of a test or collection of a specimen.  This date and time will be provided in ISO 8601 format.</td>\n",
       "    </tr>\n",
       "    <tr>\n",
       "      <th>169</th>\n",
       "      <td>DSSTDTC</td>\n",
       "      <td>character</td>\n",
       "      <td>This variable contains the start date and time of the observation or initiation of the event (as opposed to the date the question about the observation/event was asked). This date and time will be provided in ISO 8601 format.</td>\n",
       "    </tr>\n",
       "    <tr>\n",
       "      <th>170</th>\n",
       "      <td>DSDY</td>\n",
       "      <td>number</td>\n",
       "      <td>This variable describes the study day of the observation relative to the date in RFSTDTC.  This will be blank for records with no value in the --DTC variable.</td>\n",
       "    </tr>\n",
       "    <tr>\n",
       "      <th>171</th>\n",
       "      <td>DSSTDY</td>\n",
       "      <td>number</td>\n",
       "      <td>This variable describes the study day of the start of the observation relative to the date in RFSTDTC.  This will be blank for records with no value in the --STDTC variable.</td>\n",
       "    </tr>\n",
       "    <tr>\n",
       "      <th>172</th>\n",
       "      <td>DSTPT</td>\n",
       "      <td>character</td>\n",
       "      <td>This variable describes when the observation should have happened as defined in the study protocol. This may be represented as an elapsed time relative to a fixed reference point described in --TPTREF.</td>\n",
       "    </tr>\n",
       "    <tr>\n",
       "      <th>173</th>\n",
       "      <td>DSTPTREF</td>\n",
       "      <td>character</td>\n",
       "      <td>This variable contains the name of the fixed reference point referred to by --TPT, --ELTM, e.g. PREVIOUS DOSE, PREVIOUS MEAL.</td>\n",
       "    </tr>\n",
       "    <tr>\n",
       "      <th>174</th>\n",
       "      <td>DSSTRF</td>\n",
       "      <td>character</td>\n",
       "      <td>This variable describes when the start of the observation happened in relation to the date recorded in RFSTDTC, e.g. BEFORE, DURING or AFTER.</td>\n",
       "    </tr>\n",
       "    <tr>\n",
       "      <th>175</th>\n",
       "      <td>DSEVINTX</td>\n",
       "      <td>character</td>\n",
       "      <td>This variable contains information about the evaluation interval associated with an observation when it cannot be represented in ISO 8601 format (e.g., \"Last few weeks\", \"While hospitalized\").</td>\n",
       "    </tr>\n",
       "    <tr>\n",
       "      <th>176</th>\n",
       "      <td>DSSTRTPT</td>\n",
       "      <td>character</td>\n",
       "      <td>This variable describes when the start of the observation happened in relation to the point described in --STTPT, e.g. BEFORE, DURING or AFTER.</td>\n",
       "    </tr>\n",
       "    <tr>\n",
       "      <th>177</th>\n",
       "      <td>DSSTTPT</td>\n",
       "      <td>character</td>\n",
       "      <td>This variable contains the name of the fixed reference point referred to by --STRTPT, e.g. PREVIOUS DOSE, 2003-12-15.</td>\n",
       "    </tr>\n",
       "    <tr>\n",
       "      <th>178</th>\n",
       "      <td>DSCDSTDY</td>\n",
       "      <td>number</td>\n",
       "      <td>This variable contains the contributor-defined study day expressed in integer days relative to the start of the study. This variable is used when no dates are provided, only a contributor-defined proxy.</td>\n",
       "    </tr>\n",
       "    <tr>\n",
       "      <th>179</th>\n",
       "      <td>DSRPOC</td>\n",
       "      <td>character</td>\n",
       "      <td>This variable describes the reported time period for the occurrence of an event when the actual date/time is not provided. This is provided in ISO 8601 format.</td>\n",
       "    </tr>\n",
       "  </tbody>\n",
       "</table>\n",
       "</div>"
      ],
      "text/plain": [
       "    Variable_Name Variable_Type  \\\n",
       "157       STUDYID     character   \n",
       "158        DOMAIN     character   \n",
       "159       USUBJID     character   \n",
       "160         DSSEQ        number   \n",
       "161        DSTERM     character   \n",
       "162      DSMODIFY     character   \n",
       "163       DSDECOD     character   \n",
       "164      VISITNUM        number   \n",
       "165         VISIT     character   \n",
       "166       VISITDY        number   \n",
       "167         EPOCH     character   \n",
       "168         DSDTC     character   \n",
       "169       DSSTDTC     character   \n",
       "170          DSDY        number   \n",
       "171        DSSTDY        number   \n",
       "172         DSTPT     character   \n",
       "173      DSTPTREF     character   \n",
       "174        DSSTRF     character   \n",
       "175      DSEVINTX     character   \n",
       "176      DSSTRTPT     character   \n",
       "177       DSSTTPT     character   \n",
       "178      DSCDSTDY        number   \n",
       "179        DSRPOC     character   \n",
       "\n",
       "                                                                                                                                                                                                                                                                                                                                             Variable_Definition  \n",
       "157                                                                                                                                                                 This variable contains the unique identifier for a study. This is the main key/identifier for all domains in the IDDO Data Repository  every domain table will have the STUDYID identifier.  \n",
       "158                                                                                                                                                                                                                                                                                        This variable contains the two-character abbreviation for the domain.  \n",
       "159  This variable contains the unique subject identifier for a study. This is a secondary key/identifier for all subject-level domains in the IDDO Data Repository  every domain table containing subject-level information (i.e., all but the Trial Domains) will have the USUBJID identifier. This variable will identify unique subjects in the repository.  \n",
       "160                                  This variable contains a sequence number to ensure uniqueness of subject records within the domain. Each observation (each recorded as a separate row in the domain) will have a unique number within each subject, e.g., a subject with 10 observations will have 10 rows and each row is numbered sequentially from 1-10.  \n",
       "161                                                                                                                                                                                                                                                                This variable contains the verbatim wording of the event as provided by the Data Contributor.  \n",
       "162                                                                                                                                                                                                            This variable contains a modification of the verbatim wording of the event. This is used to capture IDDO-defined standardised terms of the event.  \n",
       "163                                                                                                                                      This variable contains a dictionary-derived text description of the event. This is defined by CDISC Controlled Terminology and IDDO Controlled Terminology. More details can be found in the IDDO Implementation Guide.  \n",
       "164                                                                                                                                                                                   This variable contains a number designating the planned clinical encounter number. This is a numeric version of the visit described in VISIT? and it is used for sorting.   \n",
       "165                                                                                                                                                                                                          This variable contains the protocol-defined text description of the planned clinical encounter number (as defined in the Trial Visits (TV) Domain).  \n",
       "166                                                                                                                                                                    This variable contains a number designating the Study Day of the planned clinical encounter. This is also a numeric version of the visit described in VISIT? and can be used for sorting.  \n",
       "167                                                                                                                                                                                                         This variable describes the Epoch period of the observation (e.g., Baseline, Treatment, Follow-up).  This is defined by CDISC Controlled Terminology  \n",
       "168                                                                                                                                                                This variable contains the date and time of the collection of the observation, administration of a test or collection of a specimen.  This date and time will be provided in ISO 8601 format.  \n",
       "169                                                                                                                            This variable contains the start date and time of the observation or initiation of the event (as opposed to the date the question about the observation/event was asked). This date and time will be provided in ISO 8601 format.  \n",
       "170                                                                                                                                                                                               This variable describes the study day of the observation relative to the date in RFSTDTC.  This will be blank for records with no value in the --DTC variable.  \n",
       "171                                                                                                                                                                                This variable describes the study day of the start of the observation relative to the date in RFSTDTC.  This will be blank for records with no value in the --STDTC variable.  \n",
       "172                                                                                                                                                   This variable describes when the observation should have happened as defined in the study protocol. This may be represented as an elapsed time relative to a fixed reference point described in --TPTREF.   \n",
       "173                                                                                                                                                                                                                                This variable contains the name of the fixed reference point referred to by --TPT, --ELTM, e.g. PREVIOUS DOSE, PREVIOUS MEAL.  \n",
       "174                                                                                                                                                                                                                This variable describes when the start of the observation happened in relation to the date recorded in RFSTDTC, e.g. BEFORE, DURING or AFTER.  \n",
       "175                                                                                                                                                             This variable contains information about the evaluation interval associated with an observation when it cannot be represented in ISO 8601 format (e.g., \"Last few weeks\", \"While hospitalized\").  \n",
       "176                                                                                                                                                                                                              This variable describes when the start of the observation happened in relation to the point described in --STTPT, e.g. BEFORE, DURING or AFTER.  \n",
       "177                                                                                                                                                                                                                                        This variable contains the name of the fixed reference point referred to by --STRTPT, e.g. PREVIOUS DOSE, 2003-12-15.  \n",
       "178                                                                                                                                                  This variable contains the contributor-defined study day expressed in integer days relative to the start of the study. This variable is used when no dates are provided, only a contributor-defined proxy.   \n",
       "179                                                                                                                                                                                              This variable describes the reported time period for the occurrence of an event when the actual date/time is not provided. This is provided in ISO 8601 format.  "
      ]
     },
     "execution_count": 14,
     "metadata": {},
     "output_type": "execute_result"
    }
   ],
   "source": [
    "# See variables of the DataFrame\n",
    "pd.set_option(\"display.max_colwidth\", 1000)\n",
    "df_profile_var = data_description.loc[data_description.Domain==df_profile.name, ['Variable_Name', 'Variable_Type', 'Variable_Definition']]\n",
    "df_profile_var.to_csv(\"./eda/\" + df_profile.name + \"_variables-description.csv\", index=False)\n",
    "df_profile_var"
   ]
  },
  {
   "cell_type": "code",
   "execution_count": 15,
   "id": "a43b516c-683e-4d48-bccf-e2d025d25e94",
   "metadata": {},
   "outputs": [
    {
     "data": {
      "application/vnd.jupyter.widget-view+json": {
       "model_id": "c3bb5ef03cd2462dabd483ca75956c46",
       "version_major": 2,
       "version_minor": 0
      },
      "text/plain": [
       "Summarize dataset:   0%|          | 0/5 [00:00<?, ?it/s]"
      ]
     },
     "metadata": {},
     "output_type": "display_data"
    },
    {
     "name": "stderr",
     "output_type": "stream",
     "text": [
      "C:\\Users\\felic\\anaconda3\\envs\\ada\\lib\\site-packages\\pandas_profiling\\model\\correlations.py:67: UserWarning: There was an attempt to calculate the auto correlation, but this failed.\n",
      "To hide this warning, disable the calculation\n",
      "(using `df.profile_report(correlations={\"auto\": {\"calculate\": False}})`\n",
      "If this is problematic for your use case, please report this as an issue:\n",
      "https://github.com/ydataai/pandas-profiling/issues\n",
      "(include the error message: 'No data; `observed` has size 0.')\n",
      "  warnings.warn(\n",
      "C:\\Users\\felic\\anaconda3\\envs\\ada\\lib\\site-packages\\scipy\\stats\\_stats_py.py:5218: RuntimeWarning: overflow encountered in longlong_scalars\n",
      "  (2 * xtie * ytie) / m + x0 * y0 / (9 * m * (size - 2)))\n"
     ]
    },
    {
     "data": {
      "application/vnd.jupyter.widget-view+json": {
       "model_id": "62ac4716f2d94ab4abf9761e14ec140d",
       "version_major": 2,
       "version_minor": 0
      },
      "text/plain": [
       "Generate report structure:   0%|          | 0/1 [00:00<?, ?it/s]"
      ]
     },
     "metadata": {},
     "output_type": "display_data"
    },
    {
     "data": {
      "application/vnd.jupyter.widget-view+json": {
       "model_id": "9baff78e45b84a50893f799fc371dbfa",
       "version_major": 2,
       "version_minor": 0
      },
      "text/plain": [
       "Render widgets:   0%|          | 0/1 [00:00<?, ?it/s]"
      ]
     },
     "metadata": {},
     "output_type": "display_data"
    },
    {
     "data": {
      "application/vnd.jupyter.widget-view+json": {
       "model_id": "eec3e1ccd7bf48bb804118550e33e29f",
       "version_major": 2,
       "version_minor": 0
      },
      "text/plain": [
       "VBox(children=(Tab(children=(Tab(children=(GridBox(children=(VBox(children=(GridspecLayout(children=(HTML(valu…"
      ]
     },
     "metadata": {},
     "output_type": "display_data"
    },
    {
     "data": {
      "application/vnd.jupyter.widget-view+json": {
       "model_id": "9cf579fbc4bc4580a10adfdccaeeaa47",
       "version_major": 2,
       "version_minor": 0
      },
      "text/plain": [
       "Render HTML:   0%|          | 0/1 [00:00<?, ?it/s]"
      ]
     },
     "metadata": {},
     "output_type": "display_data"
    },
    {
     "data": {
      "application/vnd.jupyter.widget-view+json": {
       "model_id": "cecf8e448d7a47b1b8038653b5641a7c",
       "version_major": 2,
       "version_minor": 0
      },
      "text/plain": [
       "Export report to file:   0%|          | 0/1 [00:00<?, ?it/s]"
      ]
     },
     "metadata": {},
     "output_type": "display_data"
    }
   ],
   "source": [
    "# EDA on the DataFrame\n",
    "profile = ProfileReport(df_profile, title=\"Pandas Profiling Report\") # Choose the dataframe you want\n",
    "profile.to_widgets()\n",
    "profile.to_file(\"./eda/\" + df_profile.name + \".html\") # Write the name of the dataframe"
   ]
  },
  {
   "cell_type": "markdown",
   "id": "2704d227-2f8a-4044-830d-19f87c8a956a",
   "metadata": {},
   "source": [
    "#### Comments:\n",
    "\n",
    "##### DM :\n",
    "\n",
    "..."
   ]
  },
  {
   "cell_type": "code",
   "execution_count": null,
   "id": "88c8dc25-a3e1-42c0-96e0-9324393eeae7",
   "metadata": {},
   "outputs": [],
   "source": []
  }
 ],
 "metadata": {
  "kernelspec": {
   "display_name": "Python [conda env:ada] *",
   "language": "python",
   "name": "conda-env-ada-py"
  },
  "language_info": {
   "codemirror_mode": {
    "name": "ipython",
    "version": 3
   },
   "file_extension": ".py",
   "mimetype": "text/x-python",
   "name": "python",
   "nbconvert_exporter": "python",
   "pygments_lexer": "ipython3",
   "version": "3.8.13"
  }
 },
 "nbformat": 4,
 "nbformat_minor": 5
}
