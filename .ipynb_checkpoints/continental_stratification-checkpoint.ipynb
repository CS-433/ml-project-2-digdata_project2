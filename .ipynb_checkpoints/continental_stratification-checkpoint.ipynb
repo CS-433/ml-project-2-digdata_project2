{
 "cells": [
  {
   "cell_type": "code",
   "execution_count": 26,
   "id": "a17453c4",
   "metadata": {},
   "outputs": [
    {
     "name": "stdout",
     "output_type": "stream",
     "text": [
      "The autoreload extension is already loaded. To reload it, use:\n",
      "  %reload_ext autoreload\n"
     ]
    }
   ],
   "source": [
    "# Import\n",
    "%matplotlib inline\n",
    "\n",
    "import os\n",
    "import os.path as op\n",
    "from matplotlib import pyplot as plt\n",
    "import numpy as np\n",
    "import pandas as pd\n",
    "from scipy import stats\n",
    "import seaborn as sns\n",
    "\n",
    "from sklearn.model_selection import train_test_split\n",
    "from sklearn.impute import SimpleImputer\n",
    "from sklearn.preprocessing import StandardScaler\n",
    "\n",
    "from sklearn.model_selection import StratifiedKFold\n",
    "from sklearn.feature_selection import RFECV\n",
    "from sklearn.datasets import make_classification\n",
    "from sklearn.feature_selection import SelectFromModel\n",
    "from sklearn.feature_selection import SequentialFeatureSelector\n",
    "from sklearn.linear_model import RidgeCV\n",
    "from sklearn.metrics import accuracy_score, f1_score, precision_score, recall_score, roc_auc_score, average_precision_score, auc\n",
    "\n",
    "from sklearn.linear_model import LogisticRegression\n",
    "from sklearn.ensemble import GradientBoostingClassifier\n",
    "from sklearn.neighbors import KNeighborsClassifier\n",
    "from sklearn.naive_bayes import GaussianNB\n",
    "from sklearn.ensemble import RandomForestClassifier\n",
    "from sklearn import svm\n",
    "from sklearn.neural_network import MLPClassifier\n",
    "from sklearn.tree import DecisionTreeClassifier\n",
    "from sklearn.ensemble import AdaBoostClassifier\n",
    "from sklearn.ensemble import ExtraTreesClassifier\n",
    "from sklearn.discriminant_analysis import LinearDiscriminantAnalysis\n",
    "from sklearn.discriminant_analysis import QuadraticDiscriminantAnalysis\n",
    "from sklearn.linear_model import SGDClassifier\n",
    "from sklearn.gaussian_process import GaussianProcessClassifier\n",
    "from sklearn.linear_model import PassiveAggressiveClassifier\n",
    "from sklearn.linear_model import Perceptron\n",
    "\n",
    "%load_ext autoreload\n",
    "%autoreload 2"
   ]
  },
  {
   "cell_type": "markdown",
   "id": "f2c3743b",
   "metadata": {},
   "source": [
    "## 1. Loading data"
   ]
  },
  {
   "cell_type": "code",
   "execution_count": 2,
   "id": "4b46ad22",
   "metadata": {},
   "outputs": [],
   "source": [
    "# Open file\n",
    "data_folder = op.join(os.getcwd(), \"data\", \"results\")\n",
    "mylist = []\n",
    "for chunk in pd.read_csv(op.join(data_folder, 'df_final_I-DataSelection.csv'), sep=',', low_memory=False, chunksize=5000, index_col=0):\n",
    "    mylist.append(chunk)\n",
    "df = pd.concat(mylist, axis=0)\n",
    "df.name = 'df'\n",
    "del mylist"
   ]
  },
  {
   "cell_type": "markdown",
   "id": "fd092a39",
   "metadata": {},
   "source": [
    "## 2. Stratification per country"
   ]
  },
  {
   "cell_type": "code",
   "execution_count": 3,
   "id": "3b69e4f3",
   "metadata": {},
   "outputs": [],
   "source": [
    "preliminary_selection = ['AGE', 'SEX', 'CONTINENT_AF', 'CONTINENT_AS', 'CONTINENT_EU','CONTINENT_NA', 'CONTINENT_OC', 'CONTINENT_SA',\n",
    "                         'DSDECOD',\n",
    "                         'HODECOD',\n",
    "                         'IETEST_Acute_Respiratory_Infection', 'IETEST_Cough', 'IETEST_Fever',\n",
    "                         'INCLAS_VACCINES',\n",
    "                         'SACAT_COMORBIDITIES', 'SACAT_COMPLICATIONS', 'SACAT_PREVIOUS_COVID-19_INFECTION'] \\\n",
    "                        + df.filter(regex='^LB',axis=1).columns.tolist() \\\n",
    "                        + df.filter(regex='^MB',axis=1).columns.tolist() \\\n",
    "                        + df.filter(regex='^VS',axis=1).columns.tolist()"
   ]
  },
  {
   "cell_type": "code",
   "execution_count": 4,
   "id": "136847e6",
   "metadata": {},
   "outputs": [],
   "source": [
    "df = df [preliminary_selection]"
   ]
  },
  {
   "cell_type": "code",
   "execution_count": 5,
   "id": "cca9bc7c",
   "metadata": {},
   "outputs": [],
   "source": [
    "continent_list = ['CONTINENT_AF', 'CONTINENT_AS', 'CONTINENT_EU','CONTINENT_NA', 'CONTINENT_OC', 'CONTINENT_SA']"
   ]
  },
  {
   "cell_type": "code",
   "execution_count": 6,
   "id": "7a1d9b44",
   "metadata": {},
   "outputs": [
    {
     "name": "stderr",
     "output_type": "stream",
     "text": [
      "C:\\Users\\Admin\\AppData\\Local\\Temp\\ipykernel_15188\\72969642.py:3: SettingWithCopyWarning: \n",
      "A value is trying to be set on a copy of a slice from a DataFrame\n",
      "\n",
      "See the caveats in the documentation: https://pandas.pydata.org/pandas-docs/stable/user_guide/indexing.html#returning-a-view-versus-a-copy\n",
      "  df_africa.drop(continent_list, axis=1, inplace=True)\n"
     ]
    }
   ],
   "source": [
    "#data afrique\n",
    "df_africa = df[df['CONTINENT_AF'] == 1]\n",
    "df_africa.drop(continent_list, axis=1, inplace=True) "
   ]
  },
  {
   "cell_type": "code",
   "execution_count": 7,
   "id": "9a7e1226",
   "metadata": {},
   "outputs": [
    {
     "name": "stderr",
     "output_type": "stream",
     "text": [
      "C:\\Users\\Admin\\AppData\\Local\\Temp\\ipykernel_15188\\1254517383.py:3: SettingWithCopyWarning: \n",
      "A value is trying to be set on a copy of a slice from a DataFrame\n",
      "\n",
      "See the caveats in the documentation: https://pandas.pydata.org/pandas-docs/stable/user_guide/indexing.html#returning-a-view-versus-a-copy\n",
      "  df_asia.drop(continent_list, axis=1, inplace=True)\n"
     ]
    }
   ],
   "source": [
    "#data asia\n",
    "df_asia = df[df['CONTINENT_AS'] == 1]\n",
    "df_asia.drop(continent_list, axis=1, inplace=True)"
   ]
  },
  {
   "cell_type": "code",
   "execution_count": 8,
   "id": "bc2272fd",
   "metadata": {},
   "outputs": [
    {
     "name": "stderr",
     "output_type": "stream",
     "text": [
      "C:\\Users\\Admin\\AppData\\Local\\Temp\\ipykernel_15188\\2754302893.py:3: SettingWithCopyWarning: \n",
      "A value is trying to be set on a copy of a slice from a DataFrame\n",
      "\n",
      "See the caveats in the documentation: https://pandas.pydata.org/pandas-docs/stable/user_guide/indexing.html#returning-a-view-versus-a-copy\n",
      "  df_europe.drop(continent_list, axis=1, inplace=True)\n"
     ]
    }
   ],
   "source": [
    "#data europe\n",
    "df_europe = df[df['CONTINENT_EU'] == 1]\n",
    "df_europe.drop(continent_list, axis=1, inplace=True) "
   ]
  },
  {
   "cell_type": "code",
   "execution_count": 9,
   "id": "49c07728",
   "metadata": {},
   "outputs": [
    {
     "name": "stderr",
     "output_type": "stream",
     "text": [
      "C:\\Users\\Admin\\AppData\\Local\\Temp\\ipykernel_15188\\1140342933.py:3: SettingWithCopyWarning: \n",
      "A value is trying to be set on a copy of a slice from a DataFrame\n",
      "\n",
      "See the caveats in the documentation: https://pandas.pydata.org/pandas-docs/stable/user_guide/indexing.html#returning-a-view-versus-a-copy\n",
      "  df_south_america.drop(continent_list, axis=1, inplace=True)\n"
     ]
    }
   ],
   "source": [
    "#data south america\n",
    "df_south_america = df[df['CONTINENT_SA'] == 1]\n",
    "df_south_america.drop(continent_list, axis=1, inplace=True) "
   ]
  },
  {
   "cell_type": "code",
   "execution_count": 10,
   "id": "09d75cf4",
   "metadata": {},
   "outputs": [
    {
     "name": "stderr",
     "output_type": "stream",
     "text": [
      "C:\\Users\\Admin\\AppData\\Local\\Temp\\ipykernel_15188\\2672587591.py:3: SettingWithCopyWarning: \n",
      "A value is trying to be set on a copy of a slice from a DataFrame\n",
      "\n",
      "See the caveats in the documentation: https://pandas.pydata.org/pandas-docs/stable/user_guide/indexing.html#returning-a-view-versus-a-copy\n",
      "  df_north_america.drop(continent_list, axis=1, inplace=True)\n"
     ]
    }
   ],
   "source": [
    "#data north america\n",
    "df_north_america = df[df['CONTINENT_NA'] == 1]\n",
    "df_north_america.drop(continent_list, axis=1, inplace=True) "
   ]
  },
  {
   "cell_type": "code",
   "execution_count": 11,
   "id": "3c24d106",
   "metadata": {},
   "outputs": [
    {
     "name": "stderr",
     "output_type": "stream",
     "text": [
      "C:\\Users\\Admin\\AppData\\Local\\Temp\\ipykernel_15188\\808876937.py:3: SettingWithCopyWarning: \n",
      "A value is trying to be set on a copy of a slice from a DataFrame\n",
      "\n",
      "See the caveats in the documentation: https://pandas.pydata.org/pandas-docs/stable/user_guide/indexing.html#returning-a-view-versus-a-copy\n",
      "  df_oceania.drop(continent_list, axis=1, inplace=True)\n"
     ]
    }
   ],
   "source": [
    "#data oceania \n",
    "df_oceania = df[df['CONTINENT_OC'] == 1]\n",
    "df_oceania.drop(continent_list, axis=1, inplace=True) "
   ]
  },
  {
   "cell_type": "code",
   "execution_count": 12,
   "id": "e187c253",
   "metadata": {},
   "outputs": [
    {
     "name": "stdout",
     "output_type": "stream",
     "text": [
      "Data size AFRICA: (489653, 50)\n",
      "Data size ASIA: (7883, 50)\n",
      "Data size EUROPE: (92087, 50)\n",
      "Data size NORTH AMERICA: (6074, 50)\n",
      "Data size SOUTH AMERICA: (6180, 50)\n",
      "Data size OCEANIA: (34, 50)\n"
     ]
    }
   ],
   "source": [
    "#relative size of each slice of data\n",
    "print(f\"Data size AFRICA: {df_africa.shape}\")\n",
    "print(f\"Data size ASIA: {df_asia.shape}\")\n",
    "print(f\"Data size EUROPE: {df_europe.shape}\")\n",
    "print(f\"Data size NORTH AMERICA: {df_north_america.shape}\")\n",
    "print(f\"Data size SOUTH AMERICA: {df_south_america.shape}\")\n",
    "print(f\"Data size OCEANIA: {df_oceania.shape}\")"
   ]
  },
  {
   "cell_type": "markdown",
   "id": "33bc33e4",
   "metadata": {},
   "source": [
    "The two bigger datasets are AFRICA and EUROPE. We are going to keep working with these lines. Let's look at the repartition of the missing data in each dataset."
   ]
  },
  {
   "cell_type": "markdown",
   "id": "db5595c4",
   "metadata": {},
   "source": [
    "## 3. Missing data"
   ]
  },
  {
   "cell_type": "code",
   "execution_count": 13,
   "id": "f37e1990",
   "metadata": {},
   "outputs": [
    {
     "data": {
      "image/png": "[encoded data removed]",
      "text/plain": [
       "<Figure size 1440x1440 with 6 Axes>"
      ]
     },
     "metadata": {
      "needs_background": "light"
     },
     "output_type": "display_data"
    }
   ],
   "source": [
    "fig, axs = plt.subplots(3, 2, figsize=(20, 20), sharex= True)\n",
    "\n",
    "null_values = df_europe.isnull().mean().sort_values(ascending=False)*100\n",
    "null_values = null_values[null_values>0]\n",
    "sns.barplot(x=null_values.index, y=null_values.values, ax=axs[0,0]).set_title('Null values pourcentage EUROPE')\n",
    "\n",
    "null_values = df_asia.isnull().mean().sort_values(ascending=False)*100\n",
    "null_values = null_values[null_values>0]\n",
    "sns.barplot(x=null_values.index, y=null_values.values, ax=axs[0, 1]).set_title('Null values pourcentage ASIA')\n",
    "\n",
    "null_values = df_africa.isnull().mean().sort_values(ascending=False)*100\n",
    "null_values = null_values[null_values>0]\n",
    "sns.barplot(x=null_values.index, y=null_values.values, ax = axs[1, 0]).set_title('Null values pourcentage AFRICA')\n",
    "\n",
    "null_values = df_oceania.isnull().mean().sort_values(ascending=False)*100\n",
    "null_values = null_values[null_values>0]\n",
    "sns.barplot(x=null_values.index, y=null_values.values, ax=axs[1, 1]).set_title('Null values pourcentage OCEANIA')\n",
    "\n",
    "null_values = df_south_america.isnull().mean().sort_values(ascending=False)*100\n",
    "null_values = null_values[null_values>0]\n",
    "sns.barplot(x=null_values.index, y=null_values.values, ax=axs[2, 0]).set_title('Null values pourcentage SOUTH AMERICA')\n",
    "\n",
    "null_values = df_north_america.isnull().mean().sort_values(ascending=False)*100\n",
    "null_values = null_values[null_values>0]\n",
    "sns.barplot(x=null_values.index, y=null_values.values, ax=axs[2, 1]).set_title('Null values pourcentage NORTH AMERICA')\n",
    "\n",
    "for ax in axs.flatten():\n",
    "    plt.sca(ax)\n",
    "    plt.xticks(rotation = 45)\n"
   ]
  },
  {
   "cell_type": "markdown",
   "id": "34da48f7",
   "metadata": {},
   "source": [
    "By taking into account the number of value and the repartition of the missing data, we chose to compute our model on the European dataset."
   ]
  },
  {
   "cell_type": "code",
   "execution_count": 14,
   "id": "9a1062b2",
   "metadata": {},
   "outputs": [
    {
     "name": "stdout",
     "output_type": "stream",
     "text": [
      "(92087, 50)\n",
      "(92087, 49)\n"
     ]
    }
   ],
   "source": [
    "print(df_europe.shape)\n",
    "\n",
    "for (index, colname) in enumerate(df_europe):\n",
    "    if df_europe[colname].isna().sum()/df_europe.shape[0]==1:\n",
    "        df_europe = df_europe.drop(colname, axis = 1)\n",
    "\n",
    "        \n",
    "print(df_europe.shape)\n"
   ]
  },
  {
   "cell_type": "markdown",
   "id": "0d6a59e8",
   "metadata": {},
   "source": [
    "## 3. Forcing the dataset to have an equal number of death and survival"
   ]
  },
  {
   "cell_type": "markdown",
   "id": "f8b26917",
   "metadata": {},
   "source": [
    "### 3.1 Check the outcome repartition in each dataset"
   ]
  },
  {
   "cell_type": "code",
   "execution_count": 15,
   "id": "487e74a4",
   "metadata": {},
   "outputs": [
    {
     "name": "stdout",
     "output_type": "stream",
     "text": [
      "EUROPE death: 25.678977488679184%\n",
      "EUROPE survival: 74.32102251132082%\n"
     ]
    }
   ],
   "source": [
    "#europe repartition\n",
    "df_europe_death = df_europe[df_europe['DSDECOD']== 1]\n",
    "df_europe_alive = df_europe[df_europe['DSDECOD']== 0]\n",
    "print(f\"EUROPE death: {100*df_europe_death.size/df_europe.size}%\")\n",
    "print(f\"EUROPE survival: {100-100*df_europe_death.size/df_europe.size}%\")"
   ]
  },
  {
   "cell_type": "markdown",
   "id": "5d263f4f",
   "metadata": {},
   "source": [
    "The data is unbalanced. We would want to force the data repaprtion towards an 50-50% repartition"
   ]
  },
  {
   "cell_type": "markdown",
   "id": "0ab3ad7c",
   "metadata": {},
   "source": [
    "### 3.2 Forcing the balance"
   ]
  },
  {
   "cell_type": "code",
   "execution_count": 16,
   "id": "657f4288",
   "metadata": {},
   "outputs": [],
   "source": [
    "data_set_size = 20000"
   ]
  },
  {
   "cell_type": "code",
   "execution_count": 17,
   "id": "726e6aa8",
   "metadata": {},
   "outputs": [
    {
     "name": "stderr",
     "output_type": "stream",
     "text": [
      "C:\\Users\\Admin\\AppData\\Local\\Temp\\ipykernel_15188\\3983775748.py:4: FutureWarning: The frame.append method is deprecated and will be removed from pandas in a future version. Use pandas.concat instead.\n",
      "  df_europe = df_europe_death.append(df_europe_alive, ignore_index = True)\n"
     ]
    }
   ],
   "source": [
    "#europe\n",
    "df_europe_death = df_europe_death.sample(frac = 1).iloc[0:int(data_set_size/2)]\n",
    "df_europe_alive = df_europe_alive.sample(frac = 1).iloc[0:int(data_set_size/2)]\n",
    "df_europe = df_europe_death.append(df_europe_alive, ignore_index = True)"
   ]
  },
  {
   "cell_type": "code",
   "execution_count": 18,
   "id": "ffe8774f",
   "metadata": {},
   "outputs": [
    {
     "name": "stdout",
     "output_type": "stream",
     "text": [
      "EUROPE death: 50.0%\n",
      "EUROPE survival: 50.0%\n"
     ]
    }
   ],
   "source": [
    "#europe repartition\n",
    "df_europe_death = df_europe[df_europe['DSDECOD']== 1]\n",
    "df_europe_alive = df_europe[df_europe['DSDECOD']== 0]\n",
    "print(f\"EUROPE death: {100*df_europe_death.size/df_europe.size}%\")\n",
    "print(f\"EUROPE survival: {100-100*df_europe_death.size/df_europe.size}%\")"
   ]
  },
  {
   "cell_type": "markdown",
   "id": "40274311",
   "metadata": {},
   "source": [
    "## 4. Feature selection"
   ]
  },
  {
   "cell_type": "code",
   "execution_count": 19,
   "id": "71fdf12c",
   "metadata": {},
   "outputs": [],
   "source": [
    "categorical = ['DSDECOD',\n",
    "               'SEX',\n",
    "               'HODECOD', \n",
    "               'IETEST_Acute_Respiratory_Infection', 'IETEST_Cough', 'IETEST_Covid_ICU', 'IETEST_Covid_admission', 'IETEST_Dyspnoea_Tachypnoea', 'IETEST_Fever', \n",
    "               'IETEST_Inflammatory_MultiSystem_Syndrome', 'IETEST_noCovid_ICU',               \n",
    "               'INCLAS_VACCINES', \n",
    "               'MBTEST_ADENOVIRUS', 'MBTEST_BACTERIA','MBTEST_INFLUENZA', 'MBTEST_MB_SEVERE_ACUTE_RESP_SYND_CORONAVIRUS', 'MBTEST_OTHER PATHOGENS', \n",
    "               'MBTEST_OTHER RESPIRATORY PATHOGENS', 'MBTEST_RSV', \n",
    "               'RPSTRESC', \n",
    "               'RSCAT_AVPU', \n",
    "               'SACAT_COMORBIDITIES', 'SACAT_COMPLICATIONS', 'SACAT_PREVIOUS_COVID-19_INFECTION', \n",
    "               'SCTEST_Appropriate_Developmental_Age_Indicator', 'SCTEST_Breast_Fed_Indicator', 'SCTEST_Infant_Less_Than_One_Year_Indicator', \n",
    "               'SCTEST_Premature_Birth_Indicator']"
   ]
  },
  {
   "cell_type": "code",
   "execution_count": 20,
   "id": "6f375679",
   "metadata": {},
   "outputs": [],
   "source": [
    "# First for some columns in particular, it is more \"logical\" to put 0 (baseline) to fill NA\n",
    "\n",
    "NA_to_0 = ['HODECOD', \n",
    "           'IETEST_Acute_Respiratory_Infection', 'IETEST_Cough', 'IETEST_Covid_ICU', 'IETEST_Covid_admission', 'IETEST_Dyspnoea_Tachypnoea', 'IETEST_Fever', \n",
    "           'IETEST_Inflammatory_MultiSystem_Syndrome', 'IETEST_noCovid_ICU',  \n",
    "           'INCLAS_VACCINES', \n",
    "           'MBTEST_ADENOVIRUS', 'MBTEST_BACTERIA','MBTEST_INFLUENZA', 'MBTEST_MB_SEVERE_ACUTE_RESP_SYND_CORONAVIRUS', 'MBTEST_OTHER PATHOGENS', \n",
    "           'MBTEST_OTHER RESPIRATORY PATHOGENS', 'MBTEST_RSV', \n",
    "           'RPSTRESC', \n",
    "           'RSCAT_AVPU', \n",
    "           'SACAT_COMORBIDITIES', 'SACAT_COMPLICATIONS']"
   ]
  },
  {
   "cell_type": "code",
   "execution_count": 21,
   "id": "9a2291ce",
   "metadata": {},
   "outputs": [],
   "source": [
    "# Fill NA and standardize\n",
    "\n",
    "def preProcess(df_train, df_test, categorical, NA_to_0) :\n",
    "    \n",
    "    # 1. Replace NA by 0 in NA_to_0 columns\n",
    "    \n",
    "    df_train[df_train.columns[df_train.columns.isin(NA_to_0)]] = df_train[df_train.columns[df_train.columns.isin(NA_to_0)]].fillna(0)\n",
    "    df_test[df_test.columns[df_test.columns.isin(NA_to_0)]] = df_test[df_test.columns[df_test.columns.isin(NA_to_0)]].fillna(0)\n",
    "    \n",
    "    # 2. Separate in categorical and continuous columns\n",
    "    \n",
    "    df_train_cat = df_train[df_train.columns[df_train.columns.isin(categorical)]]\n",
    "    df_train_con = df_train[df_train.columns[~df_train.columns.isin(categorical)]]\n",
    "    df_test_cat = df_test[df_test.columns[df_test.columns.isin(categorical)]]\n",
    "    df_test_con = df_test[df_test.columns[~df_test.columns.isin(categorical)]]\n",
    "    \n",
    "    cols_cat = df_train_cat.columns\n",
    "    cols_con = df_train_con.columns\n",
    "    \n",
    "    # 3. Fill the missing values\n",
    "    # For categorical variables\n",
    "    imp_cat = SimpleImputer(strategy = \"most_frequent\")\n",
    "    \n",
    "        \n",
    "    imp_cat = imp_cat.fit(df_train_cat)\n",
    "    \n",
    "    df_train_cat = imp_cat.transform(df_train_cat)\n",
    "    df_test_cat = imp_cat.transform(df_test_cat)\n",
    "    df_train_cat = pd.DataFrame(df_train_cat, columns=cols_cat)\n",
    "    df_test_cat = pd.DataFrame(df_test_cat, columns=cols_cat)\n",
    "    \n",
    "    # For continuous variables\n",
    "    imp_con = SimpleImputer(strategy = \"median\")\n",
    "    imp_con = imp_con.fit(df_train_con) \n",
    "    df_train_con = imp_con.transform(df_train_con)\n",
    "    df_test_con = imp_con.transform(df_test_con)\n",
    "    df_train_con = pd.DataFrame(df_train_con, columns=cols_con)\n",
    "    df_test_con = pd.DataFrame(df_test_con, columns=cols_con)\n",
    "   \n",
    "\n",
    "    # 4. Standardization of continuous data\n",
    "    scaler = StandardScaler()\n",
    "    scaler = scaler.fit(df_train_con)\n",
    "    df_train_con = scaler.transform(df_train_con)\n",
    "    df_test_con = scaler.transform(df_test_con)\n",
    "    df_train_con = pd.DataFrame(df_train_con, columns=cols_con)\n",
    "    df_test_con = pd.DataFrame(df_test_con, columns=cols_con)\n",
    "    \n",
    "    # 5. Creation of X and y matrixes\n",
    "    df_train = pd.concat([df_train_cat, df_train_con], axis=1)\n",
    "    df_test = pd.concat([df_test_cat, df_test_con], axis=1)\n",
    "    X_train = df_train.loc[:, df_train.columns!='DSDECOD']\n",
    "    y_train = df_train['DSDECOD']\n",
    "    X_test = df_test.loc[:, df_test.columns!='DSDECOD']\n",
    "    y_test = df_test['DSDECOD']\n",
    "    \n",
    "    # 6. Get feature names\n",
    "    feature_names = df_train.loc[:, df_train.columns!='DSDECOD'].columns\n",
    "    return X_train, y_train, X_test, y_test, feature_names"
   ]
  },
  {
   "cell_type": "markdown",
   "id": "9c95ae91",
   "metadata": {},
   "source": [
    "### 4.1 Preliminary selection"
   ]
  },
  {
   "cell_type": "code",
   "execution_count": 23,
   "id": "a193f8d0",
   "metadata": {},
   "outputs": [],
   "source": [
    "df_europe_train, df_europe_test = train_test_split(df_europe, test_size=0.3, random_state=16) "
   ]
  },
  {
   "cell_type": "code",
   "execution_count": 24,
   "id": "95d26290",
   "metadata": {},
   "outputs": [],
   "source": [
    "X_train, y_train, X_test, y_test, features = preProcess(df_europe_train, df_europe_test, categorical, NA_to_0) "
   ]
  },
  {
   "cell_type": "code",
   "execution_count": 27,
   "id": "9c9d55fd",
   "metadata": {},
   "outputs": [
    {
     "name": "stdout",
     "output_type": "stream",
     "text": [
      "Performance for Logistic regression:\n",
      "  - Accuracy score = 0.71\n",
      "  - F1 score = 0.72\n",
      "  - Precision score = 0.70\n",
      "  - Recall score = 0.75\n",
      "  - ROC AUC score = 0.79\n",
      "  - Average precision score = 0.77\n"
     ]
    },
    {
     "ename": "NameError",
     "evalue": "name 'df_results' is not defined",
     "output_type": "error",
     "traceback": [
      "\u001b[1;31m---------------------------------------------------------------------------\u001b[0m",
      "\u001b[1;31mNameError\u001b[0m                                 Traceback (most recent call last)",
      "Input \u001b[1;32mIn [27]\u001b[0m, in \u001b[0;36m<cell line: 28>\u001b[1;34m()\u001b[0m\n\u001b[0;32m     25\u001b[0m \u001b[38;5;28mprint\u001b[39m(\u001b[38;5;124m'\u001b[39m\u001b[38;5;124m  - Average precision score = \u001b[39m\u001b[38;5;132;01m{:.2f}\u001b[39;00m\u001b[38;5;124m'\u001b[39m\u001b[38;5;241m.\u001b[39mformat(average_precision))\n\u001b[0;32m     27\u001b[0m \u001b[38;5;66;03m# Add performance to df_results\u001b[39;00m\n\u001b[1;32m---> 28\u001b[0m df_results \u001b[38;5;241m=\u001b[39m \u001b[43mdf_results\u001b[49m\u001b[38;5;241m.\u001b[39mappend(pd\u001b[38;5;241m.\u001b[39mSeries({\u001b[38;5;124m\"\u001b[39m\u001b[38;5;124mModel\u001b[39m\u001b[38;5;124m\"\u001b[39m : \u001b[38;5;124m\"\u001b[39m\u001b[38;5;124mLogistic regression\u001b[39m\u001b[38;5;124m\"\u001b[39m, \n\u001b[0;32m     29\u001b[0m                                           \u001b[38;5;124m\"\u001b[39m\u001b[38;5;124mAccuracy\u001b[39m\u001b[38;5;124m\"\u001b[39m : accuracy,\n\u001b[0;32m     30\u001b[0m                                           \u001b[38;5;124m\"\u001b[39m\u001b[38;5;124mF1\u001b[39m\u001b[38;5;124m\"\u001b[39m : f1,\n\u001b[0;32m     31\u001b[0m                                           \u001b[38;5;124m\"\u001b[39m\u001b[38;5;124mPrecision\u001b[39m\u001b[38;5;124m\"\u001b[39m: precision,\n\u001b[0;32m     32\u001b[0m                                           \u001b[38;5;124m\"\u001b[39m\u001b[38;5;124mRecall\u001b[39m\u001b[38;5;124m\"\u001b[39m : recall,\n\u001b[0;32m     33\u001b[0m                                           \u001b[38;5;124m\"\u001b[39m\u001b[38;5;124mROC AUC\u001b[39m\u001b[38;5;124m\"\u001b[39m : roc_auc,\n\u001b[0;32m     34\u001b[0m                                           \u001b[38;5;124m\"\u001b[39m\u001b[38;5;124mAverage precision\u001b[39m\u001b[38;5;124m\"\u001b[39m : average_precision}), ignore_index \u001b[38;5;241m=\u001b[39m \u001b[38;5;28;01mTrue\u001b[39;00m)\n",
      "\u001b[1;31mNameError\u001b[0m: name 'df_results' is not defined"
     ]
    }
   ],
   "source": [
    "# Fit data into the model\n",
    "clf = LogisticRegression().fit(X_train, y_train)\n",
    "\n",
    "# Predicting values\n",
    "y_pred = clf.predict(X_test)\n",
    "\n",
    "# Proba for the greater label\n",
    "y_score = clf.predict_proba(X_test)[:, 1]\n",
    "\n",
    "# Calculate performance scores\n",
    "accuracy = accuracy_score(y_test, y_pred)\n",
    "f1 = f1_score(y_test, y_pred)\n",
    "precision = precision_score(y_test, y_pred)\n",
    "recall = recall_score(y_test, y_pred)\n",
    "roc_auc = roc_auc_score(y_test, y_score)\n",
    "average_precision = average_precision_score(y_test, y_score)\n",
    "\n",
    "# Print performance\n",
    "print('Performance for Logistic regression:')\n",
    "print('  - Accuracy score = {:.2f}'.format(accuracy))\n",
    "print('  - F1 score = {:.2f}'.format(f1))\n",
    "print('  - Precision score = {:.2f}'.format(precision))\n",
    "print('  - Recall score = {:.2f}'.format(recall))\n",
    "print('  - ROC AUC score = {:.2f}'.format(roc_auc))\n",
    "print('  - Average precision score = {:.2f}'.format(average_precision))\n",
    "\n",
    "# Add performance to df_results\n",
    "df_results = df_results.append(pd.Series({\"Model\" : \"Logistic regression\", \n",
    "                                          \"Accuracy\" : accuracy,\n",
    "                                          \"F1\" : f1,\n",
    "                                          \"Precision\": precision,\n",
    "                                          \"Recall\" : recall,\n",
    "                                          \"ROC AUC\" : roc_auc,\n",
    "                                          \"Average precision\" : average_precision}), ignore_index = True)\n"
   ]
  }
 ],
 "metadata": {
  "kernelspec": {
   "display_name": "Python 3 (ipykernel)",
   "language": "python",
   "name": "python3"
  },
  "language_info": {
   "codemirror_mode": {
    "name": "ipython",
    "version": 3
   },
   "file_extension": ".py",
   "mimetype": "text/x-python",
   "name": "python",
   "nbconvert_exporter": "python",
   "pygments_lexer": "ipython3",
   "version": "3.9.12"
  }
 },
 "nbformat": 4,
 "nbformat_minor": 5
}
