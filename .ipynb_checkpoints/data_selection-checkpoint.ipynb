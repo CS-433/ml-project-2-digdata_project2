{
 "cells": [
  {
   "cell_type": "markdown",
   "id": "7161f50f-14de-4a00-9951-535df873c0d2",
   "metadata": {},
   "source": [
    "# Data selection for projet2-Covid"
   ]
  },
  {
   "cell_type": "code",
   "execution_count": 9,
   "id": "ea38c3b3-4b5c-4346-a021-66fd167ed5e4",
   "metadata": {},
   "outputs": [
    {
     "name": "stdout",
     "output_type": "stream",
     "text": [
      "The autoreload extension is already loaded. To reload it, use:\n",
      "  %reload_ext autoreload\n"
     ]
    }
   ],
   "source": [
    "# Import\n",
    "%matplotlib inline\n",
    "import numpy as np\n",
    "from matplotlib import pyplot as plt\n",
    "import seaborn as sns\n",
    "import pandas as pd\n",
    "from pandas_profiling import ProfileReport\n",
    "import os\n",
    "from sklearn.preprocessing import LabelEncoder\n",
    "from category_encoders import OrdinalEncoder\n",
    "%load_ext autoreload\n",
    "%autoreload 2"
   ]
  },
  {
   "cell_type": "markdown",
   "id": "c20519c4-9547-4a05-9569-d96d07a42267",
   "metadata": {
    "jp-MarkdownHeadingCollapsed": true,
    "tags": []
   },
   "source": [
    "## 1. Load data"
   ]
  },
  {
   "cell_type": "code",
   "execution_count": 125,
   "id": "b47efb1c-829b-4a6a-8dba-53cfd235a937",
   "metadata": {},
   "outputs": [
    {
     "data": {
      "text/html": [
       "<div>\n",
       "<style scoped>\n",
       "    .dataframe tbody tr th:only-of-type {\n",
       "        vertical-align: middle;\n",
       "    }\n",
       "\n",
       "    .dataframe tbody tr th {\n",
       "        vertical-align: top;\n",
       "    }\n",
       "\n",
       "    .dataframe thead th {\n",
       "        text-align: right;\n",
       "    }\n",
       "</style>\n",
       "<table border=\"1\" class=\"dataframe\">\n",
       "  <thead>\n",
       "    <tr style=\"text-align: right;\">\n",
       "      <th></th>\n",
       "      <th>Domain</th>\n",
       "      <th>Domain_Name</th>\n",
       "      <th>Variable_Name</th>\n",
       "      <th>Variable_Label</th>\n",
       "      <th>Variable_Type</th>\n",
       "      <th>Variable_Definition</th>\n",
       "      <th>Controlled_Terminology?</th>\n",
       "    </tr>\n",
       "  </thead>\n",
       "  <tbody>\n",
       "    <tr>\n",
       "      <th>0</th>\n",
       "      <td>AU</td>\n",
       "      <td>Audiometry Test Results</td>\n",
       "      <td>STUDYID</td>\n",
       "      <td>Study Identifier</td>\n",
       "      <td>character</td>\n",
       "      <td>This variable contains the unique identifier for a study. This is the main key/identifier for all domains in the IDDO Data Repository  every domain table will have the STUDYID identifier.</td>\n",
       "      <td>NaN</td>\n",
       "    </tr>\n",
       "    <tr>\n",
       "      <th>1</th>\n",
       "      <td>AU</td>\n",
       "      <td>Audiometry Test Results</td>\n",
       "      <td>DOMAIN</td>\n",
       "      <td>Domain Abbreviation</td>\n",
       "      <td>character</td>\n",
       "      <td>This variable contains the two-character abbreviation for the domain.</td>\n",
       "      <td>Y</td>\n",
       "    </tr>\n",
       "    <tr>\n",
       "      <th>2</th>\n",
       "      <td>AU</td>\n",
       "      <td>Audiometry Test Results</td>\n",
       "      <td>USUBJID</td>\n",
       "      <td>Unique Subject Identifier</td>\n",
       "      <td>character</td>\n",
       "      <td>This variable contains the unique subject identifier for a study. This is a secondary key/identifier for all subject-level domains in the IDDO Data Repository  every domain table containing subject-level information (i.e., all but the Trial Domains) will have the USUBJID identifier. This variable will identify unique subjects in the repository.</td>\n",
       "      <td>NaN</td>\n",
       "    </tr>\n",
       "  </tbody>\n",
       "</table>\n",
       "</div>"
      ],
      "text/plain": [
       "  Domain              Domain_Name Variable_Name             Variable_Label  \\\n",
       "0     AU  Audiometry Test Results       STUDYID           Study Identifier   \n",
       "1     AU  Audiometry Test Results        DOMAIN        Domain Abbreviation   \n",
       "2     AU  Audiometry Test Results       USUBJID  Unique Subject Identifier   \n",
       "\n",
       "  Variable_Type  \\\n",
       "0     character   \n",
       "1     character   \n",
       "2     character   \n",
       "\n",
       "                                                                                                                                                                                                                                                                                                                                           Variable_Definition  \\\n",
       "0                                                                                                                                                                 This variable contains the unique identifier for a study. This is the main key/identifier for all domains in the IDDO Data Repository  every domain table will have the STUDYID identifier.   \n",
       "1                                                                                                                                                                                                                                                                                        This variable contains the two-character abbreviation for the domain.   \n",
       "2  This variable contains the unique subject identifier for a study. This is a secondary key/identifier for all subject-level domains in the IDDO Data Repository  every domain table containing subject-level information (i.e., all but the Trial Domains) will have the USUBJID identifier. This variable will identify unique subjects in the repository.   \n",
       "\n",
       "  Controlled_Terminology?  \n",
       "0                     NaN  \n",
       "1                       Y  \n",
       "2                     NaN  "
      ]
     },
     "execution_count": 125,
     "metadata": {},
     "output_type": "execute_result"
    }
   ],
   "source": [
    "# Load file with descriptions of data variables\n",
    "data_description_folder = './data/'\n",
    "data_description = pd.read_csv(data_description_folder + 'IDDO_SDTM_Data-Dictionary_v3.0_2022-10-06.csv', sep=';', encoding=\"ISO-8859-1\")\n",
    "data_description.columns = data_description.columns.str.replace(' ', '_')\n",
    "data_description.head(3)"
   ]
  },
  {
   "cell_type": "code",
   "execution_count": 468,
   "id": "01f798b1-a2b3-4fd2-8e96-4c1b17b41d48",
   "metadata": {},
   "outputs": [
    {
     "name": "stdout",
     "output_type": "stream",
     "text": [
      "Names of DataFrames ---> Description :\n",
      "DM --->  Demographics\n",
      "DS --->  Disposition\n",
      "ER --->  Environmental Risk\n",
      "HO --->  Healthcare Encounters\n",
      "IE --->  Inclusion/Exclusion Criteria\n",
      "IN --->  Treatments and Interventions\n",
      "LB --->  Laboratory Results\n",
      "MB --->  Microbiology Specimen\n",
      "PO --->  Pregnancy Outcomes\n",
      "RELREC --->  Related Records\n",
      "RP --->  Reproductive System Findings\n",
      "RS --->  Disease Response and Clinical Classification\n",
      "SA --->  Clinical and Adverse Events\n",
      "SC --->  Subject Characteristics\n",
      "SV --->  Subject Visits\n",
      "TI --->  Trial Inclusion Exclusion Criteria\n",
      "TS --->  Trial Summary\n",
      "TV --->  Trial Visits\n",
      "VS --->  Vital Signs\n"
     ]
    }
   ],
   "source": [
    "# Load data\n",
    "df_list = []\n",
    "data_folder = './data/DATA_2022-09-01/'\n",
    "print('Names of DataFrames ---> Description :')\n",
    "for f in os.listdir(data_folder):\n",
    "    if f != 'IN_2022-09-01.csv':\n",
    "        df_name_str = f.split('_')[0]\n",
    "        df_list.append(df_name_str)\n",
    "        df_name = df_name_str\n",
    "        locals()[df_name] = pd.read_csv(data_folder + f, sep=',', low_memory=False) \n",
    "        locals()[df_name].name = df_name_str\n",
    "        print(df_name_str, '---> ', data_description.loc[data_description.Domain==df_name_str, 'Domain_Name'].iloc[0])\n",
    "    else:\n",
    "        df_name_str = f.split('_')[0]\n",
    "        df_list.append(df_name_str)\n",
    "        df_name = df_name_str\n",
    "        mylist = []\n",
    "        for chunk in  pd.read_csv(data_folder + f, sep=',', low_memory=False, chunksize=7000):\n",
    "            mylist.append(chunk)\n",
    "        locals()[df_name] = pd.concat(mylist, axis=0)\n",
    "        locals()[df_name].name = df_name_str\n",
    "        del mylist"
   ]
  },
  {
   "cell_type": "markdown",
   "id": "b93977b3-f2f2-4826-9a83-74184c879189",
   "metadata": {},
   "source": [
    "## 2. Select data"
   ]
  },
  {
   "cell_type": "markdown",
   "id": "b580fb33-8ea4-4099-b503-f10864051364",
   "metadata": {
    "jp-MarkdownHeadingCollapsed": true,
    "tags": []
   },
   "source": [
    "#### For DM:"
   ]
  },
  {
   "cell_type": "code",
   "execution_count": 127,
   "id": "cfe8742d-771c-4703-ac54-7410163e7837",
   "metadata": {},
   "outputs": [],
   "source": [
    "data_folder = './data/DATA_2022-09-01/'\n",
    "DM = pd.read_csv(data_folder + 'DM_2022-09-01.csv', sep=',', low_memory=False) \n",
    "DM.name = 'DM'"
   ]
  },
  {
   "cell_type": "code",
   "execution_count": 128,
   "id": "bf7fab9a-a3ee-4e6b-98c8-a4185b31014b",
   "metadata": {},
   "outputs": [
    {
     "data": {
      "text/html": [
       "<div>\n",
       "<style scoped>\n",
       "    .dataframe tbody tr th:only-of-type {\n",
       "        vertical-align: middle;\n",
       "    }\n",
       "\n",
       "    .dataframe tbody tr th {\n",
       "        vertical-align: top;\n",
       "    }\n",
       "\n",
       "    .dataframe thead th {\n",
       "        text-align: right;\n",
       "    }\n",
       "</style>\n",
       "<table border=\"1\" class=\"dataframe\">\n",
       "  <thead>\n",
       "    <tr style=\"text-align: right;\">\n",
       "      <th></th>\n",
       "      <th>Variable_Name</th>\n",
       "      <th>Variable_Type</th>\n",
       "      <th>Variable_Definition</th>\n",
       "    </tr>\n",
       "  </thead>\n",
       "  <tbody>\n",
       "    <tr>\n",
       "      <th>130</th>\n",
       "      <td>STUDYID</td>\n",
       "      <td>character</td>\n",
       "      <td>This variable contains the unique identifier for a study. This is the main key/identifier for all domains in the IDDO Data Repository  every domain table will have the STUDYID identifier.</td>\n",
       "    </tr>\n",
       "    <tr>\n",
       "      <th>131</th>\n",
       "      <td>DOMAIN</td>\n",
       "      <td>character</td>\n",
       "      <td>This variable contains the two-character abbreviation for the domain.</td>\n",
       "    </tr>\n",
       "    <tr>\n",
       "      <th>132</th>\n",
       "      <td>USUBJID</td>\n",
       "      <td>character</td>\n",
       "      <td>This variable contains the unique subject identifier for a study. This is a secondary key/identifier for all subject-level domains in the IDDO Data Repository  every domain table containing subject-level information (i.e., all but the Trial Domains) will have the USUBJID identifier. This variable will identify unique subjects in the repository.</td>\n",
       "    </tr>\n",
       "    <tr>\n",
       "      <th>133</th>\n",
       "      <td>SUBJID</td>\n",
       "      <td>character</td>\n",
       "      <td>This variable contains the unique subject identifier provided by the data contributor.</td>\n",
       "    </tr>\n",
       "    <tr>\n",
       "      <th>134</th>\n",
       "      <td>RFSTDTC</td>\n",
       "      <td>character</td>\n",
       "      <td>This variable describes the date and time of the start of the Subject Reference Period. The Subject Reference Period is defined by IDDO as starting with the subject's first study encounter and ending with the subject's final study encounter. RFSTDTC corresponds with the time and date of the subject's first study encounter (e.g., screening, enrollment, admission). This date will be used to calculate the relative days in the --DY?, --STDY, --ENDY variables.  This date and time will be provided in ISO 8601 format. This variable will be blank for submissions that do not provide this initial date. All of the derived variables will also be blank since they are all calculated based on RFSTDTC.</td>\n",
       "    </tr>\n",
       "    <tr>\n",
       "      <th>135</th>\n",
       "      <td>DTHDTC</td>\n",
       "      <td>character</td>\n",
       "      <td>This variable describes the date and time of the collection of the observation, administration of a test or collection of a specimen.  This date and time will be provided in ISO 8601 format.</td>\n",
       "    </tr>\n",
       "    <tr>\n",
       "      <th>136</th>\n",
       "      <td>DTHFL</td>\n",
       "      <td>character</td>\n",
       "      <td>This variable contains information about whether the subject died during the study period. The variable is expected to be null if the choice is not \"Yes\".</td>\n",
       "    </tr>\n",
       "    <tr>\n",
       "      <th>137</th>\n",
       "      <td>SITEID</td>\n",
       "      <td>character</td>\n",
       "      <td>This variable contains information about the study site.</td>\n",
       "    </tr>\n",
       "    <tr>\n",
       "      <th>138</th>\n",
       "      <td>INVID</td>\n",
       "      <td>character</td>\n",
       "      <td>This variable contains the unique investigator identifier of the data contributor. This may be used for COVID-19 data where many separate investigators have contributed data to a single large study.</td>\n",
       "    </tr>\n",
       "    <tr>\n",
       "      <th>139</th>\n",
       "      <td>INVNAM</td>\n",
       "      <td>character</td>\n",
       "      <td>This variable contains the clinical trial registry number associated with the subjects record.</td>\n",
       "    </tr>\n",
       "    <tr>\n",
       "      <th>140</th>\n",
       "      <td>AGE</td>\n",
       "      <td>number</td>\n",
       "      <td>This variable contains the age (expressed in the units described in AGEU) for the subject.</td>\n",
       "    </tr>\n",
       "    <tr>\n",
       "      <th>141</th>\n",
       "      <td>AGETXT</td>\n",
       "      <td>character</td>\n",
       "      <td>This variable contains text describing the age of subjects, expressed as a range, at the start of the study. This may be used when no precise age is available.</td>\n",
       "    </tr>\n",
       "    <tr>\n",
       "      <th>142</th>\n",
       "      <td>AGEU</td>\n",
       "      <td>character</td>\n",
       "      <td>This variable contains the unit describing the value in AGE. This is defined by CDISC Controlled Terminology</td>\n",
       "    </tr>\n",
       "    <tr>\n",
       "      <th>143</th>\n",
       "      <td>SEX</td>\n",
       "      <td>character</td>\n",
       "      <td>This variable describes the sex of the subject. This is defined by CDISC Controlled Terminology</td>\n",
       "    </tr>\n",
       "    <tr>\n",
       "      <th>144</th>\n",
       "      <td>RACE</td>\n",
       "      <td>character</td>\n",
       "      <td>This variable describes the race of the subject as provided by the Data Contributor.</td>\n",
       "    </tr>\n",
       "    <tr>\n",
       "      <th>145</th>\n",
       "      <td>ETHNIC</td>\n",
       "      <td>character</td>\n",
       "      <td>This variable describes the ethnicity of the subject as provided by the Data Contributor.</td>\n",
       "    </tr>\n",
       "    <tr>\n",
       "      <th>146</th>\n",
       "      <td>ARMCD</td>\n",
       "      <td>character</td>\n",
       "      <td>This variable contains a code that identifies the treatment arm to which ?the subject was assigned.</td>\n",
       "    </tr>\n",
       "    <tr>\n",
       "      <th>147</th>\n",
       "      <td>ARM</td>\n",
       "      <td>character</td>\n",
       "      <td>This variable describes the treatment arm to which ??the subject was assigned.</td>\n",
       "    </tr>\n",
       "    <tr>\n",
       "      <th>148</th>\n",
       "      <td>COUNTRY</td>\n",
       "      <td>character</td>\n",
       "      <td>This variable contains information about the country of the study site described in SITEID. This is defined by Controlled Terminology.</td>\n",
       "    </tr>\n",
       "    <tr>\n",
       "      <th>149</th>\n",
       "      <td>DMDTC</td>\n",
       "      <td>character</td>\n",
       "      <td>This variable contains the date and time of the collection of the observation, administration of a test or collection of a specimen.  This date and time will be provided in ISO 8601 format.</td>\n",
       "    </tr>\n",
       "    <tr>\n",
       "      <th>150</th>\n",
       "      <td>DMDY</td>\n",
       "      <td>number</td>\n",
       "      <td>This variable describes the study day of the observation relative to the date in RFSTDTC.  This will be blank for records with no value in the --DTC variable.</td>\n",
       "    </tr>\n",
       "  </tbody>\n",
       "</table>\n",
       "</div>"
      ],
      "text/plain": [
       "    Variable_Name Variable_Type  \\\n",
       "130       STUDYID     character   \n",
       "131        DOMAIN     character   \n",
       "132       USUBJID     character   \n",
       "133        SUBJID     character   \n",
       "134       RFSTDTC     character   \n",
       "135        DTHDTC     character   \n",
       "136         DTHFL     character   \n",
       "137        SITEID     character   \n",
       "138         INVID     character   \n",
       "139        INVNAM     character   \n",
       "140           AGE        number   \n",
       "141        AGETXT     character   \n",
       "142          AGEU     character   \n",
       "143           SEX     character   \n",
       "144          RACE     character   \n",
       "145        ETHNIC     character   \n",
       "146         ARMCD     character   \n",
       "147           ARM     character   \n",
       "148       COUNTRY     character   \n",
       "149         DMDTC     character   \n",
       "150          DMDY        number   \n",
       "\n",
       "                                                                                                                                                                                                                                                                                                                                                                                                                                                                                                                                                                                                                                                                                                         Variable_Definition  \n",
       "130                                                                                                                                                                                                                                                                                                                                                                                                                                                                                                                             This variable contains the unique identifier for a study. This is the main key/identifier for all domains in the IDDO Data Repository  every domain table will have the STUDYID identifier.  \n",
       "131                                                                                                                                                                                                                                                                                                                                                                                                                                                                                                                                                                                                                                                    This variable contains the two-character abbreviation for the domain.  \n",
       "132                                                                                                                                                                                                                                                                                                                                                              This variable contains the unique subject identifier for a study. This is a secondary key/identifier for all subject-level domains in the IDDO Data Repository  every domain table containing subject-level information (i.e., all but the Trial Domains) will have the USUBJID identifier. This variable will identify unique subjects in the repository.  \n",
       "133                                                                                                                                                                                                                                                                                                                                                                                                                                                                                                                                                                                                                                   This variable contains the unique subject identifier provided by the data contributor.  \n",
       "134  This variable describes the date and time of the start of the Subject Reference Period. The Subject Reference Period is defined by IDDO as starting with the subject's first study encounter and ending with the subject's final study encounter. RFSTDTC corresponds with the time and date of the subject's first study encounter (e.g., screening, enrollment, admission). This date will be used to calculate the relative days in the --DY?, --STDY, --ENDY variables.  This date and time will be provided in ISO 8601 format. This variable will be blank for submissions that do not provide this initial date. All of the derived variables will also be blank since they are all calculated based on RFSTDTC.  \n",
       "135                                                                                                                                                                                                                                                                                                                                                                                                                                                                                                                           This variable describes the date and time of the collection of the observation, administration of a test or collection of a specimen.  This date and time will be provided in ISO 8601 format.  \n",
       "136                                                                                                                                                                                                                                                                                                                                                                                                                                                                                                                                                              This variable contains information about whether the subject died during the study period. The variable is expected to be null if the choice is not \"Yes\".   \n",
       "137                                                                                                                                                                                                                                                                                                                                                                                                                                                                                                                                                                                                                                                                 This variable contains information about the study site.  \n",
       "138                                                                                                                                                                                                                                                                                                                                                                                                                                                                                                                   This variable contains the unique investigator identifier of the data contributor. This may be used for COVID-19 data where many separate investigators have contributed data to a single large study.  \n",
       "139                                                                                                                                                                                                                                                                                                                                                                                                                                                                                                                                                                                                                           This variable contains the clinical trial registry number associated with the subjects record.  \n",
       "140                                                                                                                                                                                                                                                                                                                                                                                                                                                                                                                                                                                                                               This variable contains the age (expressed in the units described in AGEU) for the subject.  \n",
       "141                                                                                                                                                                                                                                                                                                                                                                                                                                                                                                                                                          This variable contains text describing the age of subjects, expressed as a range, at the start of the study. This may be used when no precise age is available.  \n",
       "142                                                                                                                                                                                                                                                                                                                                                                                                                                                                                                                                                                                                             This variable contains the unit describing the value in AGE. This is defined by CDISC Controlled Terminology  \n",
       "143                                                                                                                                                                                                                                                                                                                                                                                                                                                                                                                                                                                                                          This variable describes the sex of the subject. This is defined by CDISC Controlled Terminology  \n",
       "144                                                                                                                                                                                                                                                                                                                                                                                                                                                                                                                                                                                                                                     This variable describes the race of the subject as provided by the Data Contributor.  \n",
       "145                                                                                                                                                                                                                                                                                                                                                                                                                                                                                                                                                                                                                                This variable describes the ethnicity of the subject as provided by the Data Contributor.  \n",
       "146                                                                                                                                                                                                                                                                                                                                                                                                                                                                                                                                                                                                                      This variable contains a code that identifies the treatment arm to which ?the subject was assigned.  \n",
       "147                                                                                                                                                                                                                                                                                                                                                                                                                                                                                                                                                                                                                                          This variable describes the treatment arm to which ??the subject was assigned.   \n",
       "148                                                                                                                                                                                                                                                                                                                                                                                                                                                                                                                                                                                   This variable contains information about the country of the study site described in SITEID. This is defined by Controlled Terminology.  \n",
       "149                                                                                                                                                                                                                                                                                                                                                                                                                                                                                                                            This variable contains the date and time of the collection of the observation, administration of a test or collection of a specimen.  This date and time will be provided in ISO 8601 format.  \n",
       "150                                                                                                                                                                                                                                                                                                                                                                                                                                                                                                                                                           This variable describes the study day of the observation relative to the date in RFSTDTC.  This will be blank for records with no value in the --DTC variable.  "
      ]
     },
     "execution_count": 128,
     "metadata": {},
     "output_type": "execute_result"
    }
   ],
   "source": [
    "# See variables for DM\n",
    "pd.set_option(\"display.max_colwidth\", 1000)\n",
    "data_description.loc[data_description.Domain==DM.name, ['Variable_Name', 'Variable_Type', 'Variable_Definition']]"
   ]
  },
  {
   "cell_type": "code",
   "execution_count": 129,
   "id": "2eaa4cf5-3199-4714-a093-5a6c4f16e5b4",
   "metadata": {},
   "outputs": [
    {
     "data": {
      "text/plain": [
       "Index(['STUDYID', 'DOMAIN', 'USUBJID', 'RFSTDTC', 'DTHFL', 'INVID', 'AGE',\n",
       "       'AGETXT', 'AGEU', 'SEX', 'RACE', 'ETHNIC', 'ARMCD', 'ARM', 'COUNTRY',\n",
       "       'DMDY'],\n",
       "      dtype='object')"
      ]
     },
     "execution_count": 129,
     "metadata": {},
     "output_type": "execute_result"
    }
   ],
   "source": [
    "# Columns really in DM\n",
    "DM.columns"
   ]
  },
  {
   "cell_type": "code",
   "execution_count": 130,
   "id": "93829488-ef2e-4994-9475-1b0952698a1c",
   "metadata": {},
   "outputs": [
    {
     "name": "stdout",
     "output_type": "stream",
     "text": [
      "Yes for death:  170955  /  20.2 %\n",
      "No info for death column:  673496  /  79.8 %\n"
     ]
    }
   ],
   "source": [
    "nb_yes = DM.DTHFL.value_counts()[0]\n",
    "tot = len(DM.DTHFL)\n",
    "nb_nothing = tot-nb_yes\n",
    "\n",
    "print('Yes for death: ', nb_yes, ' / ', round(nb_yes/tot*100,1), '%')\n",
    "print('No info for death column: ', nb_nothing, ' / ', round(nb_nothing/tot*100,1), '%')"
   ]
  },
  {
   "cell_type": "code",
   "execution_count": 131,
   "id": "06b56a61-e36c-450f-b0b4-35c15fe260f8",
   "metadata": {},
   "outputs": [],
   "source": [
    "# Replace NA by N for No in DTHFL\n",
    "DM.DTHFL.fillna('N', inplace=True)"
   ]
  },
  {
   "cell_type": "markdown",
   "id": "62af234d-ca31-4bf6-b4c4-1ca02478894a",
   "metadata": {},
   "source": [
    "In fact we will not keep this column because the information on death is provided much more precisely with DS. "
   ]
  },
  {
   "cell_type": "code",
   "execution_count": 132,
   "id": "7b0cf62b-2222-4014-bca6-9faba4d781a6",
   "metadata": {},
   "outputs": [
    {
     "name": "stdout",
     "output_type": "stream",
     "text": [
      "Values for AGETXT:  [nan '95+']\n",
      "Min and Max for AGE:  -70.0 94.089996\n",
      "Min and Max for AGE after:  -70.0 96.0\n"
     ]
    }
   ],
   "source": [
    "# Combine AGE and AGETXT\n",
    "\n",
    "print('Values for AGETXT: ', DM['AGETXT'].unique())\n",
    "print('Min and Max for AGE: ', DM['AGE'].min(), DM['AGE'].max())\n",
    "\n",
    "DM.loc[DM.AGETXT=='95+', 'AGE'] = 96. # We make the choice to put 96 for 95+\n",
    "\n",
    "print('Min and Max for AGE after: ', DM['AGE'].min(), DM['AGE'].max())"
   ]
  },
  {
   "cell_type": "code",
   "execution_count": 133,
   "id": "a9486a96-6d24-4271-a377-9df8118a44f4",
   "metadata": {},
   "outputs": [
    {
     "name": "stdout",
     "output_type": "stream",
     "text": [
      "Values for AGEU:  ['YEARS' nan 'MONTHS' 'DAYS']\n",
      "Number of negative values for AGE:  8\n",
      "Number of NA for AGE:  22493\n",
      "Number of NA for AGE after:  22501\n"
     ]
    }
   ],
   "source": [
    "# Investigate and replace negative values for AGE\n",
    "\n",
    "print('Values for AGEU: ', DM['AGEU'].unique())\n",
    "print('Number of negative values for AGE: ', (DM['AGE']<0).sum())\n",
    "print('Number of NA for AGE: ', DM['AGE'].isna().sum())\n",
    "\n",
    "DM.loc[DM.AGE<0, 'AGE'] = np.nan # We make the choice to replace negative values by NA\n",
    "\n",
    "print('Number of NA for AGE after: ', DM['AGE'].isna().sum())"
   ]
  },
  {
   "cell_type": "code",
   "execution_count": 134,
   "id": "1a582444-c792-45b7-8ddd-e5ca7beb3815",
   "metadata": {},
   "outputs": [
    {
     "name": "stdout",
     "output_type": "stream",
     "text": [
      "Values for AGEU:  ['YEARS' nan 'MONTHS' 'DAYS']\n",
      "Number of NA for AGEU when AGE is not NA:  593\n",
      "Min and Max for AGE when AGEU is NA:  [51. 59. 46. 74. 61. 70. 72. 50. 79. 42. 49. 38. 77. 78. 68. 58. 62. 53.\n",
      " 56. nan 66. 71. 44. 52. 87. 80. 37. 41. 64. 67. 73. 27. 40. 63. 85. 88.\n",
      " 91. 92. 60. 45. 76. 86. 83. 47. 57. 69. 54. 65. 55. 81. 29. 48. 43. 89.\n",
      " 39. 75. 25. 36. 84. 28. 32. 33. 96. 90.  0. 24. 35. 23. 19.  3.  5. 34.\n",
      " 22. 31. 20.  8. 17. 13.  4.  7. 12. 15. 16. 30. 18. 82.]\n",
      "Min and Max for AGE:  0.0 96.0\n"
     ]
    }
   ],
   "source": [
    "# Combine AGE and AGEU\n",
    "\n",
    "print('Values for AGEU: ', DM['AGEU'].unique())\n",
    "print('Number of NA for AGEU when AGE is not NA: ', DM.loc[DM.AGE.notna(), 'AGEU'].isna().sum())\n",
    "print('Min and Max for AGE when AGEU is NA: ', DM.loc[DM.AGEU.isna(), 'AGE'].unique())\n",
    "print('Min and Max for AGE: ', DM['AGE'].min(), DM['AGE'].max())\n",
    "\n",
    "# We make the choice to keep the YEARS unit\n",
    "DM.loc[DM.AGEU=='MONTHS', 'AGE'] /= 12\n",
    "DM.loc[DM.AGEU=='DAYS', 'AGE'] /= 365\n",
    "\n",
    "# TODO : Que fait-on quand NA pour AGEU ??"
   ]
  },
  {
   "cell_type": "code",
   "execution_count": 135,
   "id": "43fc3fc2-f818-4c87-84a8-c88a55d94265",
   "metadata": {},
   "outputs": [
    {
     "name": "stdout",
     "output_type": "stream",
     "text": [
      "Values for ARMCD:  ['PER CLIN GUIDE']\n",
      "Values for ARM:  ['Per Clinical Guidelines']\n"
     ]
    }
   ],
   "source": [
    "# Investigate ARMCD and ARM\n",
    "print('Values for ARMCD: ', DM['ARMCD'].unique())\n",
    "print('Values for ARM: ', DM['ARM'].unique())"
   ]
  },
  {
   "cell_type": "code",
   "execution_count": 136,
   "id": "4bb322c4-e2bb-4056-bf44-a37fe3e233e6",
   "metadata": {},
   "outputs": [
    {
     "name": "stdout",
     "output_type": "stream",
     "text": [
      "%NA for DMDY:  64.5\n"
     ]
    }
   ],
   "source": [
    "print('%NA for DMDY: ', round(DM['DMDY'].isna().sum()/DM.shape[0]*100,1))"
   ]
  },
  {
   "cell_type": "markdown",
   "id": "23cc9285-0f99-4c77-9405-e5d772f06ba1",
   "metadata": {},
   "source": [
    "At first we will keep only country and not race and ethnic because the latter two require much more cleaning."
   ]
  },
  {
   "cell_type": "markdown",
   "id": "e2893399-32c6-40a0-9e55-c5d5eebefae2",
   "metadata": {},
   "source": [
    "**=> To conclud, for DM, we can keep: USUBJID, RFSTDT, AGE, SEX and COUNTRY:**"
   ]
  },
  {
   "cell_type": "code",
   "execution_count": 137,
   "id": "f9871e58-86d9-4ac2-aa03-27cc232fad3f",
   "metadata": {},
   "outputs": [
    {
     "data": {
      "text/plain": [
       "Index(['USUBJID', 'RFSTDTC', 'AGE', 'SEX', 'COUNTRY'], dtype='object')"
      ]
     },
     "execution_count": 137,
     "metadata": {},
     "output_type": "execute_result"
    }
   ],
   "source": [
    "# Keep only some columns for DM\n",
    "DM = DM[['USUBJID', 'RFSTDTC', 'AGE', 'SEX', 'COUNTRY']]\n",
    "DM.columns"
   ]
  },
  {
   "cell_type": "code",
   "execution_count": 138,
   "id": "f5ee2abf-f548-495b-ba60-3201661fc257",
   "metadata": {},
   "outputs": [
    {
     "data": {
      "text/plain": [
       "(844451, 5)"
      ]
     },
     "execution_count": 138,
     "metadata": {},
     "output_type": "execute_result"
    }
   ],
   "source": [
    "DM.shape"
   ]
  },
  {
   "cell_type": "markdown",
   "id": "94813563-7346-4234-9ade-50da97df492b",
   "metadata": {
    "jp-MarkdownHeadingCollapsed": true,
    "tags": []
   },
   "source": [
    "#### For DS:"
   ]
  },
  {
   "cell_type": "code",
   "execution_count": 139,
   "id": "3235a087-796e-4eaf-be4a-a0a1486f89b2",
   "metadata": {},
   "outputs": [],
   "source": [
    "data_folder = './data/DATA_2022-09-01/'\n",
    "DS = pd.read_csv(data_folder + 'DS_2022-09-01.csv', sep=',', low_memory=False) \n",
    "DS.name = 'DS'"
   ]
  },
  {
   "cell_type": "code",
   "execution_count": 140,
   "id": "f91ebc2e-fe25-41f7-9f9a-f0553ec97b82",
   "metadata": {},
   "outputs": [
    {
     "data": {
      "text/html": [
       "<div>\n",
       "<style scoped>\n",
       "    .dataframe tbody tr th:only-of-type {\n",
       "        vertical-align: middle;\n",
       "    }\n",
       "\n",
       "    .dataframe tbody tr th {\n",
       "        vertical-align: top;\n",
       "    }\n",
       "\n",
       "    .dataframe thead th {\n",
       "        text-align: right;\n",
       "    }\n",
       "</style>\n",
       "<table border=\"1\" class=\"dataframe\">\n",
       "  <thead>\n",
       "    <tr style=\"text-align: right;\">\n",
       "      <th></th>\n",
       "      <th>Variable_Name</th>\n",
       "      <th>Variable_Type</th>\n",
       "      <th>Variable_Definition</th>\n",
       "    </tr>\n",
       "  </thead>\n",
       "  <tbody>\n",
       "    <tr>\n",
       "      <th>157</th>\n",
       "      <td>STUDYID</td>\n",
       "      <td>character</td>\n",
       "      <td>This variable contains the unique identifier for a study. This is the main key/identifier for all domains in the IDDO Data Repository  every domain table will have the STUDYID identifier.</td>\n",
       "    </tr>\n",
       "    <tr>\n",
       "      <th>158</th>\n",
       "      <td>DOMAIN</td>\n",
       "      <td>character</td>\n",
       "      <td>This variable contains the two-character abbreviation for the domain.</td>\n",
       "    </tr>\n",
       "    <tr>\n",
       "      <th>159</th>\n",
       "      <td>USUBJID</td>\n",
       "      <td>character</td>\n",
       "      <td>This variable contains the unique subject identifier for a study. This is a secondary key/identifier for all subject-level domains in the IDDO Data Repository  every domain table containing subject-level information (i.e., all but the Trial Domains) will have the USUBJID identifier. This variable will identify unique subjects in the repository.</td>\n",
       "    </tr>\n",
       "    <tr>\n",
       "      <th>160</th>\n",
       "      <td>DSSEQ</td>\n",
       "      <td>number</td>\n",
       "      <td>This variable contains a sequence number to ensure uniqueness of subject records within the domain. Each observation (each recorded as a separate row in the domain) will have a unique number within each subject, e.g., a subject with 10 observations will have 10 rows and each row is numbered sequentially from 1-10.</td>\n",
       "    </tr>\n",
       "    <tr>\n",
       "      <th>161</th>\n",
       "      <td>DSTERM</td>\n",
       "      <td>character</td>\n",
       "      <td>This variable contains the verbatim wording of the event as provided by the Data Contributor.</td>\n",
       "    </tr>\n",
       "    <tr>\n",
       "      <th>162</th>\n",
       "      <td>DSMODIFY</td>\n",
       "      <td>character</td>\n",
       "      <td>This variable contains a modification of the verbatim wording of the event. This is used to capture IDDO-defined standardised terms of the event.</td>\n",
       "    </tr>\n",
       "    <tr>\n",
       "      <th>163</th>\n",
       "      <td>DSDECOD</td>\n",
       "      <td>character</td>\n",
       "      <td>This variable contains a dictionary-derived text description of the event. This is defined by CDISC Controlled Terminology and IDDO Controlled Terminology. More details can be found in the IDDO Implementation Guide.</td>\n",
       "    </tr>\n",
       "    <tr>\n",
       "      <th>164</th>\n",
       "      <td>VISITNUM</td>\n",
       "      <td>number</td>\n",
       "      <td>This variable contains a number designating the planned clinical encounter number. This is a numeric version of the visit described in VISIT? and it is used for sorting.</td>\n",
       "    </tr>\n",
       "    <tr>\n",
       "      <th>165</th>\n",
       "      <td>VISIT</td>\n",
       "      <td>character</td>\n",
       "      <td>This variable contains the protocol-defined text description of the planned clinical encounter number (as defined in the Trial Visits (TV) Domain).</td>\n",
       "    </tr>\n",
       "    <tr>\n",
       "      <th>166</th>\n",
       "      <td>VISITDY</td>\n",
       "      <td>number</td>\n",
       "      <td>This variable contains a number designating the Study Day of the planned clinical encounter. This is also a numeric version of the visit described in VISIT? and can be used for sorting.</td>\n",
       "    </tr>\n",
       "    <tr>\n",
       "      <th>167</th>\n",
       "      <td>EPOCH</td>\n",
       "      <td>character</td>\n",
       "      <td>This variable describes the Epoch period of the observation (e.g., Baseline, Treatment, Follow-up).  This is defined by CDISC Controlled Terminology</td>\n",
       "    </tr>\n",
       "    <tr>\n",
       "      <th>168</th>\n",
       "      <td>DSDTC</td>\n",
       "      <td>character</td>\n",
       "      <td>This variable contains the date and time of the collection of the observation, administration of a test or collection of a specimen.  This date and time will be provided in ISO 8601 format.</td>\n",
       "    </tr>\n",
       "    <tr>\n",
       "      <th>169</th>\n",
       "      <td>DSSTDTC</td>\n",
       "      <td>character</td>\n",
       "      <td>This variable contains the start date and time of the observation or initiation of the event (as opposed to the date the question about the observation/event was asked). This date and time will be provided in ISO 8601 format.</td>\n",
       "    </tr>\n",
       "    <tr>\n",
       "      <th>170</th>\n",
       "      <td>DSDY</td>\n",
       "      <td>number</td>\n",
       "      <td>This variable describes the study day of the observation relative to the date in RFSTDTC.  This will be blank for records with no value in the --DTC variable.</td>\n",
       "    </tr>\n",
       "    <tr>\n",
       "      <th>171</th>\n",
       "      <td>DSSTDY</td>\n",
       "      <td>number</td>\n",
       "      <td>This variable describes the study day of the start of the observation relative to the date in RFSTDTC.  This will be blank for records with no value in the --STDTC variable.</td>\n",
       "    </tr>\n",
       "    <tr>\n",
       "      <th>172</th>\n",
       "      <td>DSTPT</td>\n",
       "      <td>character</td>\n",
       "      <td>This variable describes when the observation should have happened as defined in the study protocol. This may be represented as an elapsed time relative to a fixed reference point described in --TPTREF.</td>\n",
       "    </tr>\n",
       "    <tr>\n",
       "      <th>173</th>\n",
       "      <td>DSTPTREF</td>\n",
       "      <td>character</td>\n",
       "      <td>This variable contains the name of the fixed reference point referred to by --TPT, --ELTM, e.g. PREVIOUS DOSE, PREVIOUS MEAL.</td>\n",
       "    </tr>\n",
       "    <tr>\n",
       "      <th>174</th>\n",
       "      <td>DSSTRF</td>\n",
       "      <td>character</td>\n",
       "      <td>This variable describes when the start of the observation happened in relation to the date recorded in RFSTDTC, e.g. BEFORE, DURING or AFTER.</td>\n",
       "    </tr>\n",
       "    <tr>\n",
       "      <th>175</th>\n",
       "      <td>DSEVINTX</td>\n",
       "      <td>character</td>\n",
       "      <td>This variable contains information about the evaluation interval associated with an observation when it cannot be represented in ISO 8601 format (e.g., \"Last few weeks\", \"While hospitalized\").</td>\n",
       "    </tr>\n",
       "    <tr>\n",
       "      <th>176</th>\n",
       "      <td>DSSTRTPT</td>\n",
       "      <td>character</td>\n",
       "      <td>This variable describes when the start of the observation happened in relation to the point described in --STTPT, e.g. BEFORE, DURING or AFTER.</td>\n",
       "    </tr>\n",
       "    <tr>\n",
       "      <th>177</th>\n",
       "      <td>DSSTTPT</td>\n",
       "      <td>character</td>\n",
       "      <td>This variable contains the name of the fixed reference point referred to by --STRTPT, e.g. PREVIOUS DOSE, 2003-12-15.</td>\n",
       "    </tr>\n",
       "    <tr>\n",
       "      <th>178</th>\n",
       "      <td>DSCDSTDY</td>\n",
       "      <td>number</td>\n",
       "      <td>This variable contains the contributor-defined study day expressed in integer days relative to the start of the study. This variable is used when no dates are provided, only a contributor-defined proxy.</td>\n",
       "    </tr>\n",
       "    <tr>\n",
       "      <th>179</th>\n",
       "      <td>DSRPOC</td>\n",
       "      <td>character</td>\n",
       "      <td>This variable describes the reported time period for the occurrence of an event when the actual date/time is not provided. This is provided in ISO 8601 format.</td>\n",
       "    </tr>\n",
       "  </tbody>\n",
       "</table>\n",
       "</div>"
      ],
      "text/plain": [
       "    Variable_Name Variable_Type  \\\n",
       "157       STUDYID     character   \n",
       "158        DOMAIN     character   \n",
       "159       USUBJID     character   \n",
       "160         DSSEQ        number   \n",
       "161        DSTERM     character   \n",
       "162      DSMODIFY     character   \n",
       "163       DSDECOD     character   \n",
       "164      VISITNUM        number   \n",
       "165         VISIT     character   \n",
       "166       VISITDY        number   \n",
       "167         EPOCH     character   \n",
       "168         DSDTC     character   \n",
       "169       DSSTDTC     character   \n",
       "170          DSDY        number   \n",
       "171        DSSTDY        number   \n",
       "172         DSTPT     character   \n",
       "173      DSTPTREF     character   \n",
       "174        DSSTRF     character   \n",
       "175      DSEVINTX     character   \n",
       "176      DSSTRTPT     character   \n",
       "177       DSSTTPT     character   \n",
       "178      DSCDSTDY        number   \n",
       "179        DSRPOC     character   \n",
       "\n",
       "                                                                                                                                                                                                                                                                                                                                             Variable_Definition  \n",
       "157                                                                                                                                                                 This variable contains the unique identifier for a study. This is the main key/identifier for all domains in the IDDO Data Repository  every domain table will have the STUDYID identifier.  \n",
       "158                                                                                                                                                                                                                                                                                        This variable contains the two-character abbreviation for the domain.  \n",
       "159  This variable contains the unique subject identifier for a study. This is a secondary key/identifier for all subject-level domains in the IDDO Data Repository  every domain table containing subject-level information (i.e., all but the Trial Domains) will have the USUBJID identifier. This variable will identify unique subjects in the repository.  \n",
       "160                                  This variable contains a sequence number to ensure uniqueness of subject records within the domain. Each observation (each recorded as a separate row in the domain) will have a unique number within each subject, e.g., a subject with 10 observations will have 10 rows and each row is numbered sequentially from 1-10.  \n",
       "161                                                                                                                                                                                                                                                                This variable contains the verbatim wording of the event as provided by the Data Contributor.  \n",
       "162                                                                                                                                                                                                            This variable contains a modification of the verbatim wording of the event. This is used to capture IDDO-defined standardised terms of the event.  \n",
       "163                                                                                                                                      This variable contains a dictionary-derived text description of the event. This is defined by CDISC Controlled Terminology and IDDO Controlled Terminology. More details can be found in the IDDO Implementation Guide.  \n",
       "164                                                                                                                                                                                   This variable contains a number designating the planned clinical encounter number. This is a numeric version of the visit described in VISIT? and it is used for sorting.   \n",
       "165                                                                                                                                                                                                          This variable contains the protocol-defined text description of the planned clinical encounter number (as defined in the Trial Visits (TV) Domain).  \n",
       "166                                                                                                                                                                    This variable contains a number designating the Study Day of the planned clinical encounter. This is also a numeric version of the visit described in VISIT? and can be used for sorting.  \n",
       "167                                                                                                                                                                                                         This variable describes the Epoch period of the observation (e.g., Baseline, Treatment, Follow-up).  This is defined by CDISC Controlled Terminology  \n",
       "168                                                                                                                                                                This variable contains the date and time of the collection of the observation, administration of a test or collection of a specimen.  This date and time will be provided in ISO 8601 format.  \n",
       "169                                                                                                                            This variable contains the start date and time of the observation or initiation of the event (as opposed to the date the question about the observation/event was asked). This date and time will be provided in ISO 8601 format.  \n",
       "170                                                                                                                                                                                               This variable describes the study day of the observation relative to the date in RFSTDTC.  This will be blank for records with no value in the --DTC variable.  \n",
       "171                                                                                                                                                                                This variable describes the study day of the start of the observation relative to the date in RFSTDTC.  This will be blank for records with no value in the --STDTC variable.  \n",
       "172                                                                                                                                                   This variable describes when the observation should have happened as defined in the study protocol. This may be represented as an elapsed time relative to a fixed reference point described in --TPTREF.   \n",
       "173                                                                                                                                                                                                                                This variable contains the name of the fixed reference point referred to by --TPT, --ELTM, e.g. PREVIOUS DOSE, PREVIOUS MEAL.  \n",
       "174                                                                                                                                                                                                                This variable describes when the start of the observation happened in relation to the date recorded in RFSTDTC, e.g. BEFORE, DURING or AFTER.  \n",
       "175                                                                                                                                                             This variable contains information about the evaluation interval associated with an observation when it cannot be represented in ISO 8601 format (e.g., \"Last few weeks\", \"While hospitalized\").  \n",
       "176                                                                                                                                                                                                              This variable describes when the start of the observation happened in relation to the point described in --STTPT, e.g. BEFORE, DURING or AFTER.  \n",
       "177                                                                                                                                                                                                                                        This variable contains the name of the fixed reference point referred to by --STRTPT, e.g. PREVIOUS DOSE, 2003-12-15.  \n",
       "178                                                                                                                                                  This variable contains the contributor-defined study day expressed in integer days relative to the start of the study. This variable is used when no dates are provided, only a contributor-defined proxy.   \n",
       "179                                                                                                                                                                                              This variable describes the reported time period for the occurrence of an event when the actual date/time is not provided. This is provided in ISO 8601 format.  "
      ]
     },
     "execution_count": 140,
     "metadata": {},
     "output_type": "execute_result"
    }
   ],
   "source": [
    "# See variables for DS\n",
    "pd.set_option(\"display.max_colwidth\", 1000)\n",
    "data_description.loc[data_description.Domain==DS.name, ['Variable_Name', 'Variable_Type', 'Variable_Definition']]"
   ]
  },
  {
   "cell_type": "code",
   "execution_count": 141,
   "id": "8f876d5d-fb0a-4704-99a9-aac9c0db07c0",
   "metadata": {},
   "outputs": [
    {
     "data": {
      "text/plain": [
       "Index(['STUDYID', 'DOMAIN', 'USUBJID', 'DSSEQ', 'DSTERM', 'DSMODIFY',\n",
       "       'DSDECOD', 'VISITNUM', 'VISIT', 'VISITDY', 'DSDY', 'DSSTDY', 'DSEVINTX',\n",
       "       'DSCDSTDY'],\n",
       "      dtype='object')"
      ]
     },
     "execution_count": 141,
     "metadata": {},
     "output_type": "execute_result"
    }
   ],
   "source": [
    "# Columns really in DS\n",
    "DS.columns"
   ]
  },
  {
   "cell_type": "code",
   "execution_count": 142,
   "id": "feb99ce2-04af-4893-9cfc-2e155ce6cbe9",
   "metadata": {},
   "outputs": [
    {
     "name": "stdout",
     "output_type": "stream",
     "text": [
      "Values for DSMODIFY:  [nan]\n"
     ]
    }
   ],
   "source": [
    "# Investigate DSMODIFY\n",
    "print('Values for DSMODIFY: ', DS['DSMODIFY'].unique())"
   ]
  },
  {
   "cell_type": "code",
   "execution_count": 143,
   "id": "6821688d-9dd0-457b-9159-cd7009a35dcc",
   "metadata": {},
   "outputs": [
    {
     "name": "stdout",
     "output_type": "stream",
     "text": [
      "Values for DSTERM:  ['DISCHARGED ALIVE' 'DEATH' 'TRANSFER TO OTHER FACILITY'\n",
      " 'MISSING IN DATABASE' 'UNKNOWN' 'HOSPITALIZATION' 'PALLIATIVE DISCHARGE'\n",
      " 'Death' 'Hospitalisation' 'Discharged alive' 'Transfer to other facility'\n",
      " 'Medically fit for discharge (COVID-19 resolved) but remains in hospital for other reason'\n",
      " 'Palliative discharge' 'Unknown'\n",
      " 'Ongoing health care needs relating to this admission for COVID-19'\n",
      " 'Ongoing health care needs NOT related to COVID episode'\n",
      " 'Discharged alive expected to survive' 'DISCHARGED'\n",
      " 'CURRENTLY HOSPITALISED' 'DISCHARGE' 'TRANSFERRED TO ANOTHER FACILITY'\n",
      " 'ALIVE' 'DECEASED' 'Forwarding to home'\n",
      " 'Transfer to another health care facility' 'Hospitalization'\n",
      " 'Transfer to the Health District' 'Discharge against medical advice'\n",
      " 'Palliative care' 'QUARANTINE CENTER'\n",
      " 'TRANSFER TO OTHER HOSPITAL/FACILITY' 'LONG TERM CARE FACILITY'\n",
      " 'DEATH IN HOSPITAL' 'TRANSFERRED TO ANOTHER UNIT' 'HOSPITAL DISCHARGE'\n",
      " 'DISCHARGE WITH PALLIATIVE CARE' 'HOSPITALIZED' 'Alive' 'Deceased'\n",
      " 'Not recorded' 'Died' 'Died (non-COVID)' 'In Hospital' 'Discharged Alive'\n",
      " 'In hospital']\n",
      "Values for DSDECOD:  ['DISCHARGED' 'DEATH' 'TRANSFERRED' 'UNKNOWN' 'STILL IN HOSPITAL' nan\n",
      " 'LOST TO FOLLOW-UP']\n"
     ]
    }
   ],
   "source": [
    "# Investigate DSTERM and DSDECOD\n",
    "print('Values for DSTERM: ', DS['DSTERM'].unique())\n",
    "print('Values for DSDECOD: ', DS['DSDECOD'].unique())\n",
    "# We make the choice to keep only DSDECOD"
   ]
  },
  {
   "cell_type": "code",
   "execution_count": 144,
   "id": "75c0676e-22b1-4396-8850-9855bd744115",
   "metadata": {},
   "outputs": [
    {
     "name": "stdout",
     "output_type": "stream",
     "text": [
      "Values for DSDECOD:  ['DISCHARGED' 'DEATH' 'TRANSFERRED' nan 'STILL IN HOSPITAL'\n",
      " 'LOST TO FOLLOW-UP']\n"
     ]
    }
   ],
   "source": [
    "# Replace UNKNOWN by NA in DSDECOD\n",
    "DS['DSDECOD'].replace('UNKNOWN', np.nan, inplace=True)\n",
    "print('Values for DSDECOD: ', DS['DSDECOD'].unique())"
   ]
  },
  {
   "cell_type": "code",
   "execution_count": 145,
   "id": "d959966c-d2ef-4123-8cb5-be515631bd90",
   "metadata": {},
   "outputs": [
    {
     "data": {
      "text/plain": [
       "DISCHARGED           608454\n",
       "DEATH                170551\n",
       "TRANSFERRED           28089\n",
       "STILL IN HOSPITAL     12868\n",
       "LOST TO FOLLOW-UP         3\n",
       "Name: DSDECOD, dtype: int64"
      ]
     },
     "execution_count": 145,
     "metadata": {},
     "output_type": "execute_result"
    }
   ],
   "source": [
    "DS.DSDECOD.value_counts()"
   ]
  },
  {
   "cell_type": "code",
   "execution_count": 146,
   "id": "769dc97a-dccd-4532-8785-7c817d8d7429",
   "metadata": {},
   "outputs": [
    {
     "data": {
      "text/plain": [
       "DISCHARGED           0.742049\n",
       "DEATH                0.207998\n",
       "TRANSFERRED          0.034256\n",
       "STILL IN HOSPITAL    0.015693\n",
       "LOST TO FOLLOW-UP    0.000004\n",
       "Name: DSDECOD, dtype: float64"
      ]
     },
     "execution_count": 146,
     "metadata": {},
     "output_type": "execute_result"
    }
   ],
   "source": [
    "DS.DSDECOD.value_counts(normalize=True)"
   ]
  },
  {
   "cell_type": "code",
   "execution_count": 147,
   "id": "17e873d8-975b-40e1-967e-5404cc8a6e4d",
   "metadata": {},
   "outputs": [
    {
     "data": {
      "text/plain": [
       "0.006"
      ]
     },
     "execution_count": 147,
     "metadata": {},
     "output_type": "execute_result"
    }
   ],
   "source": [
    "round(DS.DSDECOD.isna().sum()/len(DS.DSDECOD),3)"
   ]
  },
  {
   "cell_type": "code",
   "execution_count": 148,
   "id": "962c645d-5236-4742-9b2d-b53fc2854019",
   "metadata": {},
   "outputs": [
    {
     "name": "stdout",
     "output_type": "stream",
     "text": [
      "Values for VISITNUM:  [nan  1.  2.]\n",
      "Values for VISIT:  [nan 'Day 0' 'Week 2 Day 14']\n",
      "Values for VISITDY:  [nan  1. 15.]\n",
      "%NA for VISITNUM:  99.82\n",
      "%NA for VISIT:  99.82\n",
      "%NA for VISITDY:  99.82\n"
     ]
    }
   ],
   "source": [
    "# Investigate VISITNUM, VISIT and VISITDY\n",
    "\n",
    "print('Values for VISITNUM: ', DS['VISITNUM'].unique())\n",
    "print('Values for VISIT: ', DS['VISIT'].unique())\n",
    "print('Values for VISITDY: ', DS['VISITDY'].unique())\n",
    "\n",
    "print('%NA for VISITNUM: ', round(DS['VISITNUM'].isna().sum()/DS.shape[0]*100,2))\n",
    "print('%NA for VISIT: ', round(DS['VISIT'].isna().sum()/DS.shape[0]*100,2))\n",
    "print('%NA for VISITDY: ', round(DS['VISITDY'].isna().sum()/DS.shape[0]*100,2))"
   ]
  },
  {
   "cell_type": "code",
   "execution_count": 149,
   "id": "bae25163-9d50-4a52-9c82-5103259bc11e",
   "metadata": {},
   "outputs": [
    {
     "name": "stdout",
     "output_type": "stream",
     "text": [
      "Values for DSDY:  [nan 78. 75. 29. 28. 24. 17. 32. 25. 21. 22. 30. 50. 38. 33. 36. 31. 45.\n",
      " 80. 35. 59. 63. 34. 27. 26. 39. 49. 53. 16. 19. 20. 37. 72. 46. 11. 40.\n",
      " 23. 48. 42. 54. 14. 90. 41. 51. 13.  7. 12.]\n",
      "Values for DSEVINTX:  [nan 'AT ANY TIME AFTER DISCHARGE']\n",
      "Values for DSCDSTDY:  [ nan  16.   2.  20.   8.   5.   4.   1.   9.  14.  25.  51.  18.  19.\n",
      "  24.  12.  55.   6.  13.  23.  28. 109.   7.  11.  21.   3.]\n",
      "%NA for DSDY:  99.88\n",
      "%NA for DSEVINTX:  99.84\n",
      "%NA for DSCDSTDY:  99.99\n"
     ]
    }
   ],
   "source": [
    "# Investigate DSDY, DSEVINTX and DSCDSTDY\n",
    "\n",
    "print('Values for DSDY: ', DS['DSDY'].unique())\n",
    "print('Values for DSEVINTX: ', DS['DSEVINTX'].unique())\n",
    "print('Values for DSCDSTDY: ', DS['DSCDSTDY'].unique())\n",
    "\n",
    "print('%NA for DSDY: ', round(DS['DSDY'].isna().sum()/DS.shape[0]*100,2))\n",
    "print('%NA for DSEVINTX: ', round(DS['DSEVINTX'].isna().sum()/DS.shape[0]*100,2))\n",
    "print('%NA for DSCDSTDY: ', round(DS['DSCDSTDY'].isna().sum()/DS.shape[0]*100,2))"
   ]
  },
  {
   "cell_type": "markdown",
   "id": "67c4f4de-4fa2-4eec-a619-b43ab61ffc25",
   "metadata": {},
   "source": [
    "**=> To conclud, for DS, we can keep: USUBJID, DSSEQ and DSDECOD:**"
   ]
  },
  {
   "cell_type": "code",
   "execution_count": 150,
   "id": "2fecaf06-6380-451d-9a65-c20788081c13",
   "metadata": {},
   "outputs": [
    {
     "data": {
      "text/plain": [
       "Index(['USUBJID', 'DSSEQ', 'DSDECOD'], dtype='object')"
      ]
     },
     "execution_count": 150,
     "metadata": {},
     "output_type": "execute_result"
    }
   ],
   "source": [
    "# Keep only some columns for DS\n",
    "DS = DS[['USUBJID', 'DSSEQ', 'DSDECOD']]\n",
    "DS.columns"
   ]
  },
  {
   "cell_type": "code",
   "execution_count": 151,
   "id": "cfcb5eae-5ed6-4d3c-8480-ce2345d6aca0",
   "metadata": {},
   "outputs": [
    {
     "data": {
      "text/plain": [
       "(824787, 3)"
      ]
     },
     "execution_count": 151,
     "metadata": {},
     "output_type": "execute_result"
    }
   ],
   "source": [
    "DS.shape"
   ]
  },
  {
   "cell_type": "markdown",
   "id": "dcf014cd-c25f-4282-b123-abb5909978fd",
   "metadata": {
    "jp-MarkdownHeadingCollapsed": true,
    "tags": []
   },
   "source": [
    "#### For ER:"
   ]
  },
  {
   "cell_type": "code",
   "execution_count": 152,
   "id": "907b86d6-a579-4727-89d7-1cea0813aade",
   "metadata": {},
   "outputs": [],
   "source": [
    "data_folder = './data/DATA_2022-09-01/'\n",
    "ER = pd.read_csv(data_folder + 'ER_2022-09-01.csv', sep=',', low_memory=False) \n",
    "ER.name = 'ER'"
   ]
  },
  {
   "cell_type": "code",
   "execution_count": 153,
   "id": "51641e33-15e9-41d3-a047-37c6858008d9",
   "metadata": {},
   "outputs": [
    {
     "data": {
      "text/html": [
       "<div>\n",
       "<style scoped>\n",
       "    .dataframe tbody tr th:only-of-type {\n",
       "        vertical-align: middle;\n",
       "    }\n",
       "\n",
       "    .dataframe tbody tr th {\n",
       "        vertical-align: top;\n",
       "    }\n",
       "\n",
       "    .dataframe thead th {\n",
       "        text-align: right;\n",
       "    }\n",
       "</style>\n",
       "<table border=\"1\" class=\"dataframe\">\n",
       "  <thead>\n",
       "    <tr style=\"text-align: right;\">\n",
       "      <th></th>\n",
       "      <th>Variable_Name</th>\n",
       "      <th>Variable_Type</th>\n",
       "      <th>Variable_Definition</th>\n",
       "    </tr>\n",
       "  </thead>\n",
       "  <tbody>\n",
       "    <tr>\n",
       "      <th>180</th>\n",
       "      <td>STUDYID</td>\n",
       "      <td>character</td>\n",
       "      <td>This variable contains the unique identifier for a study. This is the main key/identifier for all domains in the IDDO Data Repository  every domain table will have the STUDYID identifier.</td>\n",
       "    </tr>\n",
       "    <tr>\n",
       "      <th>181</th>\n",
       "      <td>DOMAIN</td>\n",
       "      <td>character</td>\n",
       "      <td>This variable contains the two-character abbreviation for the domain.</td>\n",
       "    </tr>\n",
       "    <tr>\n",
       "      <th>182</th>\n",
       "      <td>USUBJID</td>\n",
       "      <td>character</td>\n",
       "      <td>This variable contains the unique subject identifier for a study. This is a secondary key/identifier for all subject-level domains in the IDDO Data Repository  every domain table containing subject-level information (i.e., all but the Trial Domains) will have the USUBJID identifier. This variable will identify unique subjects in the repository.</td>\n",
       "    </tr>\n",
       "    <tr>\n",
       "      <th>183</th>\n",
       "      <td>ERSEQ</td>\n",
       "      <td>number</td>\n",
       "      <td>This variable contains a sequence number to ensure uniqueness of subject records within the domain. Each observation (each recorded as a separate row in the domain) will have a unique number within each subject, e.g., a subject with 10 observations will have 10 rows and each row is numbered sequentially from 1-10.</td>\n",
       "    </tr>\n",
       "    <tr>\n",
       "      <th>184</th>\n",
       "      <td>ERTERM</td>\n",
       "      <td>character</td>\n",
       "      <td>This variable contains the verbatim wording of the event as provided by the Data Contributor.</td>\n",
       "    </tr>\n",
       "    <tr>\n",
       "      <th>185</th>\n",
       "      <td>ERMODIFY</td>\n",
       "      <td>character</td>\n",
       "      <td>This variable contains a modification of the verbatim wording of the event. This is used to capture IDDO-defined standardised terms of the event.</td>\n",
       "    </tr>\n",
       "    <tr>\n",
       "      <th>186</th>\n",
       "      <td>ERCAT</td>\n",
       "      <td>character</td>\n",
       "      <td>This variable contains a categorization of the observation.</td>\n",
       "    </tr>\n",
       "    <tr>\n",
       "      <th>187</th>\n",
       "      <td>ERSCAT</td>\n",
       "      <td>character</td>\n",
       "      <td>This variable contains a further categorization of the observation.</td>\n",
       "    </tr>\n",
       "    <tr>\n",
       "      <th>188</th>\n",
       "      <td>ERPRESP</td>\n",
       "      <td>character</td>\n",
       "      <td>This variable identifies whether an observation was pre-specified on the CRF. Values are null for spontaneously reported events, i.e. those collected as free-text verbatim terms.</td>\n",
       "    </tr>\n",
       "    <tr>\n",
       "      <th>189</th>\n",
       "      <td>EROCCUR</td>\n",
       "      <td>character</td>\n",
       "      <td>This variable identifies whether or not a pre-specified event has occurred. Values are null for spontaneously reported events.</td>\n",
       "    </tr>\n",
       "    <tr>\n",
       "      <th>190</th>\n",
       "      <td>ERSTAT</td>\n",
       "      <td>character</td>\n",
       "      <td>This variable contains information about the status of the observation  specifically that it was not completed when it was expected to have been. This column should be empty when there is a value in the --OCCUR (Events and Interventions Domains) or --ORRES (Findings Domains) variables.</td>\n",
       "    </tr>\n",
       "    <tr>\n",
       "      <th>191</th>\n",
       "      <td>ERREASND</td>\n",
       "      <td>character</td>\n",
       "      <td>This variable contains information about the reason why the observation was not completed when it was expected to have been. This column should be populated when there is a value of \"NOT DONE\" in the --STAT variable.</td>\n",
       "    </tr>\n",
       "    <tr>\n",
       "      <th>192</th>\n",
       "      <td>VISITNUM</td>\n",
       "      <td>number</td>\n",
       "      <td>This variable contains a number designating the planned clinical encounter number. This is a numeric version of the visit described in VISIT? and it is used for sorting.</td>\n",
       "    </tr>\n",
       "    <tr>\n",
       "      <th>193</th>\n",
       "      <td>VISIT</td>\n",
       "      <td>character</td>\n",
       "      <td>This variable contains the protocol-defined text description of the planned clinical encounter number (as defined in the Trial Visits (TV) Domain).</td>\n",
       "    </tr>\n",
       "    <tr>\n",
       "      <th>194</th>\n",
       "      <td>VISITDY</td>\n",
       "      <td>number</td>\n",
       "      <td>This variable contains a number designating the Study Day of the planned clinical encounter. This is also a numeric version of the visit described in VISIT? and can be used for sorting.</td>\n",
       "    </tr>\n",
       "    <tr>\n",
       "      <th>195</th>\n",
       "      <td>EPOCH</td>\n",
       "      <td>character</td>\n",
       "      <td>This variable describes the Epoch period of the observation (e.g., Baseline, Treatment, Follow-up).  This is defined by CDISC Controlled Terminology</td>\n",
       "    </tr>\n",
       "    <tr>\n",
       "      <th>196</th>\n",
       "      <td>ERDTC</td>\n",
       "      <td>character</td>\n",
       "      <td>This variable contains the date and time of the collection of the observation, administration of a test or collection of a specimen.  This date and time will be provided in ISO 8601 format.</td>\n",
       "    </tr>\n",
       "    <tr>\n",
       "      <th>197</th>\n",
       "      <td>ERSTDTC</td>\n",
       "      <td>character</td>\n",
       "      <td>This variable contains the start date and time of the observation or initiation of the event (as opposed to the date the question about the observation/event was asked). This date and time will be provided in ISO 8601 format.</td>\n",
       "    </tr>\n",
       "    <tr>\n",
       "      <th>198</th>\n",
       "      <td>ERENDTC</td>\n",
       "      <td>character</td>\n",
       "      <td>This variable contains the end date and time of the observation or cessation of event. This date and time will be provided in ISO 8601 format.</td>\n",
       "    </tr>\n",
       "    <tr>\n",
       "      <th>199</th>\n",
       "      <td>ERDY</td>\n",
       "      <td>number</td>\n",
       "      <td>This variable describes the study day of the observation relative to the date in RFSTDTC.  This will be blank for records with no value in the --DTC variable.</td>\n",
       "    </tr>\n",
       "    <tr>\n",
       "      <th>200</th>\n",
       "      <td>ERSTDY</td>\n",
       "      <td>number</td>\n",
       "      <td>This variable describes the study day of the start of the observation relative to the date in RFSTDTC.  This will be blank for records with no value in the --STDTC variable.</td>\n",
       "    </tr>\n",
       "    <tr>\n",
       "      <th>201</th>\n",
       "      <td>ERENDY</td>\n",
       "      <td>number</td>\n",
       "      <td>This variable describes the study day of the end of the observation relative to the date in RFSTDTC.  This will be blank for records with no value in the --ENDTC variable.</td>\n",
       "    </tr>\n",
       "    <tr>\n",
       "      <th>202</th>\n",
       "      <td>ERTPT</td>\n",
       "      <td>character</td>\n",
       "      <td>This variable describes when the observation should have happened as defined in the study protocol. This may be represented as an elapsed time relative to a fixed reference point described in --TPTREF.</td>\n",
       "    </tr>\n",
       "    <tr>\n",
       "      <th>203</th>\n",
       "      <td>ERTPTREF</td>\n",
       "      <td>character</td>\n",
       "      <td>This variable contains the name of the fixed reference point referred to by --TPT, --ELTM, e.g. PREVIOUS DOSE, PREVIOUS MEAL.</td>\n",
       "    </tr>\n",
       "    <tr>\n",
       "      <th>204</th>\n",
       "      <td>ERSTRF</td>\n",
       "      <td>character</td>\n",
       "      <td>This variable describes when the start of the observation happened in relation to the date recorded in RFSTDTC, e.g. BEFORE, DURING or AFTER.</td>\n",
       "    </tr>\n",
       "    <tr>\n",
       "      <th>205</th>\n",
       "      <td>EREVLINT</td>\n",
       "      <td>character</td>\n",
       "      <td>This variable describes the evaluation interval associated with an observation. This provides information about the time period the question referenced. This duration will be preovided in ISO 8601 format.</td>\n",
       "    </tr>\n",
       "    <tr>\n",
       "      <th>206</th>\n",
       "      <td>EREVINTX</td>\n",
       "      <td>character</td>\n",
       "      <td>This variable contains information about the evaluation interval associated with an observation when it cannot be represented in ISO 8601 format (e.g., \"Last few weeks\", \"While hospitalized\").</td>\n",
       "    </tr>\n",
       "    <tr>\n",
       "      <th>207</th>\n",
       "      <td>ERCNTRY</td>\n",
       "      <td>character</td>\n",
       "      <td>This variable contains information about the country of travel for ERTERM. This is defined by Controlled Terminology.</td>\n",
       "    </tr>\n",
       "  </tbody>\n",
       "</table>\n",
       "</div>"
      ],
      "text/plain": [
       "    Variable_Name Variable_Type  \\\n",
       "180       STUDYID     character   \n",
       "181        DOMAIN     character   \n",
       "182       USUBJID     character   \n",
       "183         ERSEQ        number   \n",
       "184        ERTERM     character   \n",
       "185      ERMODIFY     character   \n",
       "186         ERCAT     character   \n",
       "187        ERSCAT     character   \n",
       "188       ERPRESP     character   \n",
       "189       EROCCUR     character   \n",
       "190        ERSTAT     character   \n",
       "191      ERREASND     character   \n",
       "192      VISITNUM        number   \n",
       "193         VISIT     character   \n",
       "194       VISITDY        number   \n",
       "195         EPOCH     character   \n",
       "196         ERDTC     character   \n",
       "197       ERSTDTC     character   \n",
       "198       ERENDTC     character   \n",
       "199          ERDY        number   \n",
       "200        ERSTDY        number   \n",
       "201        ERENDY        number   \n",
       "202         ERTPT     character   \n",
       "203      ERTPTREF     character   \n",
       "204        ERSTRF     character   \n",
       "205      EREVLINT     character   \n",
       "206      EREVINTX     character   \n",
       "207       ERCNTRY     character   \n",
       "\n",
       "                                                                                                                                                                                                                                                                                                                                             Variable_Definition  \n",
       "180                                                                                                                                                                 This variable contains the unique identifier for a study. This is the main key/identifier for all domains in the IDDO Data Repository  every domain table will have the STUDYID identifier.  \n",
       "181                                                                                                                                                                                                                                                                                        This variable contains the two-character abbreviation for the domain.  \n",
       "182  This variable contains the unique subject identifier for a study. This is a secondary key/identifier for all subject-level domains in the IDDO Data Repository  every domain table containing subject-level information (i.e., all but the Trial Domains) will have the USUBJID identifier. This variable will identify unique subjects in the repository.  \n",
       "183                                  This variable contains a sequence number to ensure uniqueness of subject records within the domain. Each observation (each recorded as a separate row in the domain) will have a unique number within each subject, e.g., a subject with 10 observations will have 10 rows and each row is numbered sequentially from 1-10.  \n",
       "184                                                                                                                                                                                                                                                                This variable contains the verbatim wording of the event as provided by the Data Contributor.  \n",
       "185                                                                                                                                                                                                            This variable contains a modification of the verbatim wording of the event. This is used to capture IDDO-defined standardised terms of the event.  \n",
       "186                                                                                                                                                                                                                                                                                                  This variable contains a categorization of the observation.  \n",
       "187                                                                                                                                                                                                                                                                                          This variable contains a further categorization of the observation.  \n",
       "188                                                                                                                                                                           This variable identifies whether an observation was pre-specified on the CRF. Values are null for spontaneously reported events, i.e. those collected as free-text verbatim terms.  \n",
       "189                                                                                                                                                                                                                               This variable identifies whether or not a pre-specified event has occurred. Values are null for spontaneously reported events.  \n",
       "190                                                             This variable contains information about the status of the observation  specifically that it was not completed when it was expected to have been. This column should be empty when there is a value in the --OCCUR (Events and Interventions Domains) or --ORRES (Findings Domains) variables.   \n",
       "191                                                                                                                                     This variable contains information about the reason why the observation was not completed when it was expected to have been. This column should be populated when there is a value of \"NOT DONE\" in the --STAT variable.  \n",
       "192                                                                                                                                                                                   This variable contains a number designating the planned clinical encounter number. This is a numeric version of the visit described in VISIT? and it is used for sorting.   \n",
       "193                                                                                                                                                                                                          This variable contains the protocol-defined text description of the planned clinical encounter number (as defined in the Trial Visits (TV) Domain).  \n",
       "194                                                                                                                                                                    This variable contains a number designating the Study Day of the planned clinical encounter. This is also a numeric version of the visit described in VISIT? and can be used for sorting.  \n",
       "195                                                                                                                                                                                                         This variable describes the Epoch period of the observation (e.g., Baseline, Treatment, Follow-up).  This is defined by CDISC Controlled Terminology  \n",
       "196                                                                                                                                                                This variable contains the date and time of the collection of the observation, administration of a test or collection of a specimen.  This date and time will be provided in ISO 8601 format.  \n",
       "197                                                                                                                            This variable contains the start date and time of the observation or initiation of the event (as opposed to the date the question about the observation/event was asked). This date and time will be provided in ISO 8601 format.  \n",
       "198                                                                                                                                                                                                               This variable contains the end date and time of the observation or cessation of event. This date and time will be provided in ISO 8601 format.  \n",
       "199                                                                                                                                                                                               This variable describes the study day of the observation relative to the date in RFSTDTC.  This will be blank for records with no value in the --DTC variable.  \n",
       "200                                                                                                                                                                                This variable describes the study day of the start of the observation relative to the date in RFSTDTC.  This will be blank for records with no value in the --STDTC variable.  \n",
       "201                                                                                                                                                                                  This variable describes the study day of the end of the observation relative to the date in RFSTDTC.  This will be blank for records with no value in the --ENDTC variable.  \n",
       "202                                                                                                                                                   This variable describes when the observation should have happened as defined in the study protocol. This may be represented as an elapsed time relative to a fixed reference point described in --TPTREF.   \n",
       "203                                                                                                                                                                                                                                This variable contains the name of the fixed reference point referred to by --TPT, --ELTM, e.g. PREVIOUS DOSE, PREVIOUS MEAL.  \n",
       "204                                                                                                                                                                                                                This variable describes when the start of the observation happened in relation to the date recorded in RFSTDTC, e.g. BEFORE, DURING or AFTER.  \n",
       "205                                                                                                                                                This variable describes the evaluation interval associated with an observation. This provides information about the time period the question referenced. This duration will be preovided in ISO 8601 format.   \n",
       "206                                                                                                                                                             This variable contains information about the evaluation interval associated with an observation when it cannot be represented in ISO 8601 format (e.g., \"Last few weeks\", \"While hospitalized\").  \n",
       "207                                                                                                                                                                                                                                        This variable contains information about the country of travel for ERTERM. This is defined by Controlled Terminology.  "
      ]
     },
     "execution_count": 153,
     "metadata": {},
     "output_type": "execute_result"
    }
   ],
   "source": [
    "# See variables for ER\n",
    "pd.set_option(\"display.max_colwidth\", 1000)\n",
    "data_description.loc[data_description.Domain==ER.name, ['Variable_Name', 'Variable_Type', 'Variable_Definition']]"
   ]
  },
  {
   "cell_type": "code",
   "execution_count": 154,
   "id": "67381e20-4749-4575-a0ca-9fac737fefc8",
   "metadata": {},
   "outputs": [
    {
     "data": {
      "text/plain": [
       "Index(['STUDYID', 'DOMAIN', 'USUBJID', 'ERSEQ', 'ERTERM', 'ERCAT', 'ERPRESP',\n",
       "       'EROCCUR', 'ERSTAT', 'ERREASND', 'VISITNUM', 'VISIT', 'VISITDY', 'ERDY',\n",
       "       'ERSTDY', 'ERENDY', 'EREVINTX', 'ERCNTRY'],\n",
       "      dtype='object')"
      ]
     },
     "execution_count": 154,
     "metadata": {},
     "output_type": "execute_result"
    }
   ],
   "source": [
    "# Columns really in ER\n",
    "ER.columns"
   ]
  },
  {
   "cell_type": "code",
   "execution_count": 155,
   "id": "7a76069c-4aec-47fd-83b5-d5569bddc40c",
   "metadata": {},
   "outputs": [
    {
     "name": "stdout",
     "output_type": "stream",
     "text": [
      "Values for ERCAT:  ['COVID-19 RISK FACTOR']\n"
     ]
    }
   ],
   "source": [
    "# Investigate ERCAT\n",
    "print('Values for ERCAT: ', ER['ERCAT'].unique())"
   ]
  },
  {
   "cell_type": "markdown",
   "id": "e32f6793-dea3-4fff-834e-65b1b9328f36",
   "metadata": {},
   "source": [
    "**=> To conclud, for ER, we can keep nothing because there is no decod of the event, and ECAT is only one value.**"
   ]
  },
  {
   "cell_type": "markdown",
   "id": "892595e3-8f49-4304-884d-b16674aba487",
   "metadata": {
    "jp-MarkdownHeadingCollapsed": true,
    "tags": []
   },
   "source": [
    "#### For HO:"
   ]
  },
  {
   "cell_type": "code",
   "execution_count": 156,
   "id": "9cb2c776-82b5-4c18-b4a2-7e17b41fd83f",
   "metadata": {},
   "outputs": [],
   "source": [
    "data_folder = './data/DATA_2022-09-01/'\n",
    "HO = pd.read_csv(data_folder + 'HO_2022-09-01.csv', sep=',', low_memory=False) \n",
    "HO.name = 'HO'"
   ]
  },
  {
   "cell_type": "code",
   "execution_count": 157,
   "id": "3b89fb51-a1b6-47be-8dd7-c152f7883f6c",
   "metadata": {},
   "outputs": [
    {
     "data": {
      "text/html": [
       "<div>\n",
       "<style scoped>\n",
       "    .dataframe tbody tr th:only-of-type {\n",
       "        vertical-align: middle;\n",
       "    }\n",
       "\n",
       "    .dataframe tbody tr th {\n",
       "        vertical-align: top;\n",
       "    }\n",
       "\n",
       "    .dataframe thead th {\n",
       "        text-align: right;\n",
       "    }\n",
       "</style>\n",
       "<table border=\"1\" class=\"dataframe\">\n",
       "  <thead>\n",
       "    <tr style=\"text-align: right;\">\n",
       "      <th></th>\n",
       "      <th>Variable_Name</th>\n",
       "      <th>Variable_Type</th>\n",
       "      <th>Variable_Definition</th>\n",
       "    </tr>\n",
       "  </thead>\n",
       "  <tbody>\n",
       "    <tr>\n",
       "      <th>208</th>\n",
       "      <td>STUDYID</td>\n",
       "      <td>character</td>\n",
       "      <td>This variable contains the unique identifier for a study. This is the main key/identifier for all domains in the IDDO Data Repository  every domain table will have the STUDYID identifier.</td>\n",
       "    </tr>\n",
       "    <tr>\n",
       "      <th>209</th>\n",
       "      <td>DOMAIN</td>\n",
       "      <td>character</td>\n",
       "      <td>This variable contains the two-character abbreviation for the domain.</td>\n",
       "    </tr>\n",
       "    <tr>\n",
       "      <th>210</th>\n",
       "      <td>USUBJID</td>\n",
       "      <td>character</td>\n",
       "      <td>This variable contains the unique subject identifier for a study. This is a secondary key/identifier for all subject-level domains in the IDDO Data Repository  every domain table containing subject-level information (i.e., all but the Trial Domains) will have the USUBJID identifier. This variable will identify unique subjects in the repository.</td>\n",
       "    </tr>\n",
       "    <tr>\n",
       "      <th>211</th>\n",
       "      <td>HOSEQ</td>\n",
       "      <td>number</td>\n",
       "      <td>This variable contains a sequence number to ensure uniqueness of subject records within the domain. Each observation (each recorded as a separate row in the domain) will have a unique number within each subject, e.g., a subject with 10 observations will have 10 rows and each row is numbered sequentially from 1-10.</td>\n",
       "    </tr>\n",
       "    <tr>\n",
       "      <th>212</th>\n",
       "      <td>HOREFID</td>\n",
       "      <td>character</td>\n",
       "      <td>This variable contains an identifier to distinguish duplicate findings, collections or events occurring within the same time period where no other timing information is available. This variable is used to make the rows' timing details unique.</td>\n",
       "    </tr>\n",
       "    <tr>\n",
       "      <th>213</th>\n",
       "      <td>HOTERM</td>\n",
       "      <td>character</td>\n",
       "      <td>This variable contains the verbatim wording of the event as provided by the Data Contributor.</td>\n",
       "    </tr>\n",
       "    <tr>\n",
       "      <th>214</th>\n",
       "      <td>HODECOD</td>\n",
       "      <td>character</td>\n",
       "      <td>This variable contains a dictionary-derived text description of the event. This is defined by CDISC Controlled Terminology and IDDO Controlled Terminology. More details can be found in the IDDO Implementation Guide.</td>\n",
       "    </tr>\n",
       "    <tr>\n",
       "      <th>215</th>\n",
       "      <td>HOCAT</td>\n",
       "      <td>character</td>\n",
       "      <td>This variable contains a categorization of the observation.</td>\n",
       "    </tr>\n",
       "    <tr>\n",
       "      <th>216</th>\n",
       "      <td>HOPRESP</td>\n",
       "      <td>character</td>\n",
       "      <td>This variable identifies whether an observation was pre-specified on the CRF. Values are null for spontaneously reported events, i.e. those collected as free-text verbatim terms.</td>\n",
       "    </tr>\n",
       "    <tr>\n",
       "      <th>217</th>\n",
       "      <td>HOOCCUR</td>\n",
       "      <td>character</td>\n",
       "      <td>This variable identifies whether or not a pre-specified event has occurred. Values are null for spontaneously reported events.</td>\n",
       "    </tr>\n",
       "    <tr>\n",
       "      <th>218</th>\n",
       "      <td>HOSTAT</td>\n",
       "      <td>character</td>\n",
       "      <td>This variable contains information about the status of the observation  specifically that it was not completed when it was expected to have been. This column should be empty when there is a value in the --OCCUR (Events and Interventions Domains) or --ORRES (Findings Domains) variables.</td>\n",
       "    </tr>\n",
       "    <tr>\n",
       "      <th>219</th>\n",
       "      <td>HOREASND</td>\n",
       "      <td>character</td>\n",
       "      <td>This variable contains information about the reason why the observation was not completed when it was expected to have been. This column should be populated when there is a value of \"NOT DONE\" in the --STAT variable.</td>\n",
       "    </tr>\n",
       "    <tr>\n",
       "      <th>220</th>\n",
       "      <td>HOPATT</td>\n",
       "      <td>number</td>\n",
       "      <td>This variable contains the number of events reported for HOTERM, where individual events and timing have not been provided and only the number of occurrences is available.</td>\n",
       "    </tr>\n",
       "    <tr>\n",
       "      <th>221</th>\n",
       "      <td>VISITNUM</td>\n",
       "      <td>number</td>\n",
       "      <td>This variable contains a number designating the planned clinical encounter number. This is a numeric version of the visit described in VISIT? and it is used for sorting.</td>\n",
       "    </tr>\n",
       "    <tr>\n",
       "      <th>222</th>\n",
       "      <td>VISIT</td>\n",
       "      <td>character</td>\n",
       "      <td>This variable contains the protocol-defined text description of the planned clinical encounter number (as defined in the Trial Visits (TV) Domain).</td>\n",
       "    </tr>\n",
       "    <tr>\n",
       "      <th>223</th>\n",
       "      <td>VISITDY</td>\n",
       "      <td>number</td>\n",
       "      <td>This variable contains a number designating the Study Day of the planned clinical encounter. This is also a numeric version of the visit described in VISIT? and can be used for sorting.</td>\n",
       "    </tr>\n",
       "    <tr>\n",
       "      <th>224</th>\n",
       "      <td>HODTC</td>\n",
       "      <td>character</td>\n",
       "      <td>This variable contains the date and time of the collection of the observation, administration of a test or collection of a specimen.  This date and time will be provided in ISO 8601 format.</td>\n",
       "    </tr>\n",
       "    <tr>\n",
       "      <th>225</th>\n",
       "      <td>HOSTDTC</td>\n",
       "      <td>character</td>\n",
       "      <td>This variable contains the start date and time of the observation or initiation of the event (as opposed to the date the question about the observation/event was asked). This date and time will be provided in ISO 8601 format.</td>\n",
       "    </tr>\n",
       "    <tr>\n",
       "      <th>226</th>\n",
       "      <td>HOENDTC</td>\n",
       "      <td>character</td>\n",
       "      <td>This variable contains the end date and time of the observation or cessation of event. This date and time will be provided in ISO 8601 format.</td>\n",
       "    </tr>\n",
       "    <tr>\n",
       "      <th>227</th>\n",
       "      <td>HODY</td>\n",
       "      <td>number</td>\n",
       "      <td>This variable describes the study day of the observation relative to the date in RFSTDTC.  This will be blank for records with no value in the --DTC variable.</td>\n",
       "    </tr>\n",
       "    <tr>\n",
       "      <th>228</th>\n",
       "      <td>HOSTDY</td>\n",
       "      <td>number</td>\n",
       "      <td>This variable describes the study day of the start of the observation relative to the date in RFSTDTC.  This will be blank for records with no value in the --STDTC variable.</td>\n",
       "    </tr>\n",
       "    <tr>\n",
       "      <th>229</th>\n",
       "      <td>HOENDY</td>\n",
       "      <td>number</td>\n",
       "      <td>This variable describes the study day of the end of the observation relative to the date in RFSTDTC.  This will be blank for records with no value in the --ENDTC variable.</td>\n",
       "    </tr>\n",
       "    <tr>\n",
       "      <th>230</th>\n",
       "      <td>HODUR</td>\n",
       "      <td>character</td>\n",
       "      <td>This variable contains information about the duration of the observation. This is only if collected on the CRF and not derived. This is collected in ISO 8601 format.</td>\n",
       "    </tr>\n",
       "    <tr>\n",
       "      <th>231</th>\n",
       "      <td>HOTPT</td>\n",
       "      <td>character</td>\n",
       "      <td>This variable describes when the observation should have happened as defined in the study protocol. This may be represented as an elapsed time relative to a fixed reference point described in --TPTREF.</td>\n",
       "    </tr>\n",
       "    <tr>\n",
       "      <th>232</th>\n",
       "      <td>HOTPTREF</td>\n",
       "      <td>character</td>\n",
       "      <td>This variable contains the name of the fixed reference point referred to by --TPT, --ELTM, e.g. PREVIOUS DOSE, PREVIOUS MEAL.</td>\n",
       "    </tr>\n",
       "    <tr>\n",
       "      <th>233</th>\n",
       "      <td>HOSTRF</td>\n",
       "      <td>character</td>\n",
       "      <td>This variable describes when the start of the observation happened in relation to the date recorded in RFSTDTC, e.g. BEFORE, DURING or AFTER.</td>\n",
       "    </tr>\n",
       "    <tr>\n",
       "      <th>234</th>\n",
       "      <td>HOEVINTX</td>\n",
       "      <td>character</td>\n",
       "      <td>This variable contains information about the evaluation interval associated with an observation when it cannot be represented in ISO 8601 format (e.g., \"Last few weeks\", \"While hospitalized\").</td>\n",
       "    </tr>\n",
       "    <tr>\n",
       "      <th>235</th>\n",
       "      <td>HOCDSTDY</td>\n",
       "      <td>number</td>\n",
       "      <td>This variable contains the contributor-defined study day expressed in integer days relative to the start of the study. This variable is used when no dates are provided, only a contributor-defined proxy.</td>\n",
       "    </tr>\n",
       "    <tr>\n",
       "      <th>236</th>\n",
       "      <td>HODISOUT</td>\n",
       "      <td>character</td>\n",
       "      <td>This variable contains details on the subject's disposition at hospital discharge.</td>\n",
       "    </tr>\n",
       "    <tr>\n",
       "      <th>237</th>\n",
       "      <td>SELFCARE</td>\n",
       "      <td>character</td>\n",
       "      <td>This variable contains details on the subject's ability to self-care after hospital discharge.</td>\n",
       "    </tr>\n",
       "    <tr>\n",
       "      <th>238</th>\n",
       "      <td>HOINDC</td>\n",
       "      <td>character</td>\n",
       "      <td>This variable contains information on the indication or medical condition responsible for the hospital or ICU admission.</td>\n",
       "    </tr>\n",
       "  </tbody>\n",
       "</table>\n",
       "</div>"
      ],
      "text/plain": [
       "    Variable_Name Variable_Type  \\\n",
       "208       STUDYID     character   \n",
       "209        DOMAIN     character   \n",
       "210       USUBJID     character   \n",
       "211         HOSEQ        number   \n",
       "212       HOREFID     character   \n",
       "213        HOTERM     character   \n",
       "214       HODECOD     character   \n",
       "215         HOCAT     character   \n",
       "216       HOPRESP     character   \n",
       "217       HOOCCUR     character   \n",
       "218        HOSTAT     character   \n",
       "219      HOREASND     character   \n",
       "220        HOPATT        number   \n",
       "221      VISITNUM        number   \n",
       "222         VISIT     character   \n",
       "223       VISITDY        number   \n",
       "224         HODTC     character   \n",
       "225       HOSTDTC     character   \n",
       "226       HOENDTC     character   \n",
       "227          HODY        number   \n",
       "228        HOSTDY        number   \n",
       "229        HOENDY        number   \n",
       "230         HODUR     character   \n",
       "231         HOTPT     character   \n",
       "232      HOTPTREF     character   \n",
       "233        HOSTRF     character   \n",
       "234      HOEVINTX     character   \n",
       "235      HOCDSTDY        number   \n",
       "236      HODISOUT     character   \n",
       "237      SELFCARE     character   \n",
       "238        HOINDC     character   \n",
       "\n",
       "                                                                                                                                                                                                                                                                                                                                             Variable_Definition  \n",
       "208                                                                                                                                                                 This variable contains the unique identifier for a study. This is the main key/identifier for all domains in the IDDO Data Repository  every domain table will have the STUDYID identifier.  \n",
       "209                                                                                                                                                                                                                                                                                        This variable contains the two-character abbreviation for the domain.  \n",
       "210  This variable contains the unique subject identifier for a study. This is a secondary key/identifier for all subject-level domains in the IDDO Data Repository  every domain table containing subject-level information (i.e., all but the Trial Domains) will have the USUBJID identifier. This variable will identify unique subjects in the repository.  \n",
       "211                                  This variable contains a sequence number to ensure uniqueness of subject records within the domain. Each observation (each recorded as a separate row in the domain) will have a unique number within each subject, e.g., a subject with 10 observations will have 10 rows and each row is numbered sequentially from 1-10.  \n",
       "212                                                                                                           This variable contains an identifier to distinguish duplicate findings, collections or events occurring within the same time period where no other timing information is available. This variable is used to make the rows' timing details unique.  \n",
       "213                                                                                                                                                                                                                                                                This variable contains the verbatim wording of the event as provided by the Data Contributor.  \n",
       "214                                                                                                                                      This variable contains a dictionary-derived text description of the event. This is defined by CDISC Controlled Terminology and IDDO Controlled Terminology. More details can be found in the IDDO Implementation Guide.  \n",
       "215                                                                                                                                                                                                                                                                                                  This variable contains a categorization of the observation.  \n",
       "216                                                                                                                                                                           This variable identifies whether an observation was pre-specified on the CRF. Values are null for spontaneously reported events, i.e. those collected as free-text verbatim terms.  \n",
       "217                                                                                                                                                                                                                               This variable identifies whether or not a pre-specified event has occurred. Values are null for spontaneously reported events.  \n",
       "218                                                             This variable contains information about the status of the observation  specifically that it was not completed when it was expected to have been. This column should be empty when there is a value in the --OCCUR (Events and Interventions Domains) or --ORRES (Findings Domains) variables.   \n",
       "219                                                                                                                                     This variable contains information about the reason why the observation was not completed when it was expected to have been. This column should be populated when there is a value of \"NOT DONE\" in the --STAT variable.  \n",
       "220                                                                                                                                                                                 This variable contains the number of events reported for HOTERM, where individual events and timing have not been provided and only the number of occurrences is available.   \n",
       "221                                                                                                                                                                                   This variable contains a number designating the planned clinical encounter number. This is a numeric version of the visit described in VISIT? and it is used for sorting.   \n",
       "222                                                                                                                                                                                                          This variable contains the protocol-defined text description of the planned clinical encounter number (as defined in the Trial Visits (TV) Domain).  \n",
       "223                                                                                                                                                                    This variable contains a number designating the Study Day of the planned clinical encounter. This is also a numeric version of the visit described in VISIT? and can be used for sorting.  \n",
       "224                                                                                                                                                                This variable contains the date and time of the collection of the observation, administration of a test or collection of a specimen.  This date and time will be provided in ISO 8601 format.  \n",
       "225                                                                                                                            This variable contains the start date and time of the observation or initiation of the event (as opposed to the date the question about the observation/event was asked). This date and time will be provided in ISO 8601 format.  \n",
       "226                                                                                                                                                                                                               This variable contains the end date and time of the observation or cessation of event. This date and time will be provided in ISO 8601 format.  \n",
       "227                                                                                                                                                                                               This variable describes the study day of the observation relative to the date in RFSTDTC.  This will be blank for records with no value in the --DTC variable.  \n",
       "228                                                                                                                                                                                This variable describes the study day of the start of the observation relative to the date in RFSTDTC.  This will be blank for records with no value in the --STDTC variable.  \n",
       "229                                                                                                                                                                                  This variable describes the study day of the end of the observation relative to the date in RFSTDTC.  This will be blank for records with no value in the --ENDTC variable.  \n",
       "230                                                                                                                                                                                        This variable contains information about the duration of the observation. This is only if collected on the CRF and not derived. This is collected in ISO 8601 format.  \n",
       "231                                                                                                                                                   This variable describes when the observation should have happened as defined in the study protocol. This may be represented as an elapsed time relative to a fixed reference point described in --TPTREF.   \n",
       "232                                                                                                                                                                                                                                This variable contains the name of the fixed reference point referred to by --TPT, --ELTM, e.g. PREVIOUS DOSE, PREVIOUS MEAL.  \n",
       "233                                                                                                                                                                                                                This variable describes when the start of the observation happened in relation to the date recorded in RFSTDTC, e.g. BEFORE, DURING or AFTER.  \n",
       "234                                                                                                                                                             This variable contains information about the evaluation interval associated with an observation when it cannot be represented in ISO 8601 format (e.g., \"Last few weeks\", \"While hospitalized\").  \n",
       "235                                                                                                                                                  This variable contains the contributor-defined study day expressed in integer days relative to the start of the study. This variable is used when no dates are provided, only a contributor-defined proxy.   \n",
       "236                                                                                                                                                                                                                                                                           This variable contains details on the subject's disposition at hospital discharge.  \n",
       "237                                                                                                                                                                                                                                                               This variable contains details on the subject's ability to self-care after hospital discharge.  \n",
       "238                                                                                                                                                                                                                                    This variable contains information on the indication or medical condition responsible for the hospital or ICU admission.   "
      ]
     },
     "execution_count": 157,
     "metadata": {},
     "output_type": "execute_result"
    }
   ],
   "source": [
    "# See variables for HO\n",
    "pd.set_option(\"display.max_colwidth\", 1000)\n",
    "data_description.loc[data_description.Domain==HO.name, ['Variable_Name', 'Variable_Type', 'Variable_Definition']]"
   ]
  },
  {
   "cell_type": "code",
   "execution_count": 158,
   "id": "f1bd6453-3ede-4511-9951-3dafc913cddb",
   "metadata": {},
   "outputs": [
    {
     "data": {
      "text/plain": [
       "Index(['STUDYID', 'DOMAIN', 'USUBJID', 'HOSEQ', 'HOREFID', 'HOTERM', 'HODECOD',\n",
       "       'HOCAT', 'HOPRESP', 'HOOCCUR', 'HOSTAT', 'HOREASND', 'HOPATT',\n",
       "       'VISITNUM', 'VISIT', 'VISITDY', 'HODY', 'HOSTDY', 'HOENDY', 'HODUR',\n",
       "       'HOSTRF', 'HOEVINTX', 'HOCDSTDY', 'HODISOUT', 'SELFCARE', 'HOINDC'],\n",
       "      dtype='object')"
      ]
     },
     "execution_count": 158,
     "metadata": {},
     "output_type": "execute_result"
    }
   ],
   "source": [
    "# Columns really in HO\n",
    "HO.columns"
   ]
  },
  {
   "cell_type": "code",
   "execution_count": 159,
   "id": "ba392218-ca5f-424d-b792-b84a286fceae",
   "metadata": {},
   "outputs": [
    {
     "name": "stdout",
     "output_type": "stream",
     "text": [
      "Values for HODECOD:  ['HOSPITAL' 'INTENSIVE CARE UNIT']\n"
     ]
    }
   ],
   "source": [
    "# Investigate HODECOD\n",
    "print('Values for HODECOD: ', HO['HODECOD'].unique())"
   ]
  },
  {
   "cell_type": "code",
   "execution_count": 160,
   "id": "6cc2ee4b-a8b1-493c-bbf4-b2ec54dd232a",
   "metadata": {},
   "outputs": [
    {
     "name": "stdout",
     "output_type": "stream",
     "text": [
      "%NA for HODY:  65.12\n"
     ]
    }
   ],
   "source": [
    "# NA value for HODY\n",
    "print('%NA for HODY: ', round(HO['HODY'].isna().sum()/HO.shape[0]*100,2))"
   ]
  },
  {
   "cell_type": "markdown",
   "id": "139e936d-c224-49a3-ad28-46c4fc2c9294",
   "metadata": {},
   "source": [
    "**=> To conclud, for HO, we can keep: USUBJID, HOSEQ and HODECOD:**"
   ]
  },
  {
   "cell_type": "code",
   "execution_count": 161,
   "id": "591cea21-c480-4f97-919c-e78890727e2b",
   "metadata": {},
   "outputs": [
    {
     "data": {
      "text/plain": [
       "Index(['USUBJID', 'HOSEQ', 'HODECOD'], dtype='object')"
      ]
     },
     "execution_count": 161,
     "metadata": {},
     "output_type": "execute_result"
    }
   ],
   "source": [
    "# Keep only some columns for HO\n",
    "HO = HO[['USUBJID', 'HOSEQ', 'HODECOD']]\n",
    "HO.columns"
   ]
  },
  {
   "cell_type": "code",
   "execution_count": 162,
   "id": "e6e58e80-ea13-49da-a10a-45897100048f",
   "metadata": {},
   "outputs": [
    {
     "data": {
      "text/plain": [
       "(2336786, 3)"
      ]
     },
     "execution_count": 162,
     "metadata": {},
     "output_type": "execute_result"
    }
   ],
   "source": [
    "HO.shape"
   ]
  },
  {
   "cell_type": "markdown",
   "id": "d1be5280-84f6-4f9b-b9ce-f8338588bafe",
   "metadata": {
    "jp-MarkdownHeadingCollapsed": true,
    "tags": []
   },
   "source": [
    "#### For IE:"
   ]
  },
  {
   "cell_type": "code",
   "execution_count": 163,
   "id": "0a3c4cb2-55cd-4ef0-9a8b-5a21949145d2",
   "metadata": {},
   "outputs": [],
   "source": [
    "data_folder = './data/DATA_2022-09-01/'\n",
    "IE = pd.read_csv(data_folder + 'IE_2022-09-01.csv', sep=',', low_memory=False) \n",
    "IE.name = 'IE'"
   ]
  },
  {
   "cell_type": "code",
   "execution_count": 164,
   "id": "10631463-5f06-445d-93f1-43d69380599a",
   "metadata": {},
   "outputs": [
    {
     "data": {
      "text/html": [
       "<div>\n",
       "<style scoped>\n",
       "    .dataframe tbody tr th:only-of-type {\n",
       "        vertical-align: middle;\n",
       "    }\n",
       "\n",
       "    .dataframe tbody tr th {\n",
       "        vertical-align: top;\n",
       "    }\n",
       "\n",
       "    .dataframe thead th {\n",
       "        text-align: right;\n",
       "    }\n",
       "</style>\n",
       "<table border=\"1\" class=\"dataframe\">\n",
       "  <thead>\n",
       "    <tr style=\"text-align: right;\">\n",
       "      <th></th>\n",
       "      <th>Variable_Name</th>\n",
       "      <th>Variable_Type</th>\n",
       "      <th>Variable_Definition</th>\n",
       "    </tr>\n",
       "  </thead>\n",
       "  <tbody>\n",
       "    <tr>\n",
       "      <th>239</th>\n",
       "      <td>STUDYID</td>\n",
       "      <td>character</td>\n",
       "      <td>This variable contains the unique identifier for a study. This is the main key/identifier for all domains in the IDDO Data Repository  every domain table will have the STUDYID identifier.</td>\n",
       "    </tr>\n",
       "    <tr>\n",
       "      <th>240</th>\n",
       "      <td>DOMAIN</td>\n",
       "      <td>character</td>\n",
       "      <td>This variable contains the two-character abbreviation for the domain.</td>\n",
       "    </tr>\n",
       "    <tr>\n",
       "      <th>241</th>\n",
       "      <td>USUBJID</td>\n",
       "      <td>character</td>\n",
       "      <td>This variable contains the unique subject identifier for a study. This is a secondary key/identifier for all subject-level domains in the IDDO Data Repository  every domain table containing subject-level information (i.e., all but the Trial Domains) will have the USUBJID identifier. This variable will identify unique subjects in the repository.</td>\n",
       "    </tr>\n",
       "    <tr>\n",
       "      <th>242</th>\n",
       "      <td>IESEQ</td>\n",
       "      <td>number</td>\n",
       "      <td>This variable contains a sequence number to ensure uniqueness of subject records within the domain. Each observation (each recorded as a separate row in the domain) will have a unique number within each subject, e.g., a subject with 10 observations will have 10 rows and each row is numbered sequentially from 1-10.</td>\n",
       "    </tr>\n",
       "    <tr>\n",
       "      <th>243</th>\n",
       "      <td>IETESTCD</td>\n",
       "      <td>character</td>\n",
       "      <td>This variable identifies the shortened code for the name of the test or examination performed.</td>\n",
       "    </tr>\n",
       "    <tr>\n",
       "      <th>244</th>\n",
       "      <td>IETEST</td>\n",
       "      <td>character</td>\n",
       "      <td>This variable identifies the name of the test or examination performed.</td>\n",
       "    </tr>\n",
       "    <tr>\n",
       "      <th>245</th>\n",
       "      <td>IECAT</td>\n",
       "      <td>character</td>\n",
       "      <td>This variable contains a categorization of the observation.</td>\n",
       "    </tr>\n",
       "    <tr>\n",
       "      <th>246</th>\n",
       "      <td>IEORRES</td>\n",
       "      <td>character</td>\n",
       "      <td>This variable contains the result of the test or examination performed as provided by the data contributor. The original data can be either numericm e.g. \"503\" or string, e.g., \"Positive\".</td>\n",
       "    </tr>\n",
       "    <tr>\n",
       "      <th>247</th>\n",
       "      <td>IESTRESC</td>\n",
       "      <td>character</td>\n",
       "      <td>This variable contains the converted, standardized result of the test or examination performed. The data can be either numeric, e.g. \"503\", or string, e.g. \"Positive\", and is stored as a string in the repository. The standard units and conversion formulas (as applicable) are described in detail in the IDDO Implementation Guide in the relevant sections about the variable --STRESU.</td>\n",
       "    </tr>\n",
       "    <tr>\n",
       "      <th>248</th>\n",
       "      <td>IESTAT</td>\n",
       "      <td>character</td>\n",
       "      <td>This variable contains information about the status of the observation  specifically that it was not completed when it was expected to have been. This column should be empty when there is a value in the --OCCUR (Events and Interventions Domains) or --ORRES (Findings Domains) variables.</td>\n",
       "    </tr>\n",
       "    <tr>\n",
       "      <th>249</th>\n",
       "      <td>IEREASND</td>\n",
       "      <td>character</td>\n",
       "      <td>This variable contains information about the reason why the observation was not completed when it was expected to have been. This column should be populated when there is a value of \"NOT DONE\" in the --STAT variable.</td>\n",
       "    </tr>\n",
       "    <tr>\n",
       "      <th>250</th>\n",
       "      <td>IEDTC</td>\n",
       "      <td>character</td>\n",
       "      <td>This variable contains the date and time of the collection of the observation, administration of a test or collection of a specimen.  This date and time will be provided in ISO 8601 format.</td>\n",
       "    </tr>\n",
       "    <tr>\n",
       "      <th>251</th>\n",
       "      <td>IEDY</td>\n",
       "      <td>number</td>\n",
       "      <td>This variable describes the study day of the observation relative to the date in RFSTDTC.  This will be blank for records with no value in the --DTC variable.</td>\n",
       "    </tr>\n",
       "  </tbody>\n",
       "</table>\n",
       "</div>"
      ],
      "text/plain": [
       "    Variable_Name Variable_Type  \\\n",
       "239       STUDYID     character   \n",
       "240        DOMAIN     character   \n",
       "241       USUBJID     character   \n",
       "242         IESEQ        number   \n",
       "243      IETESTCD     character   \n",
       "244        IETEST     character   \n",
       "245         IECAT     character   \n",
       "246       IEORRES     character   \n",
       "247      IESTRESC     character   \n",
       "248        IESTAT     character   \n",
       "249      IEREASND     character   \n",
       "250         IEDTC     character   \n",
       "251          IEDY        number   \n",
       "\n",
       "                                                                                                                                                                                                                                                                                                                                                                                Variable_Definition  \n",
       "239                                                                                                                                                                                                    This variable contains the unique identifier for a study. This is the main key/identifier for all domains in the IDDO Data Repository  every domain table will have the STUDYID identifier.  \n",
       "240                                                                                                                                                                                                                                                                                                                           This variable contains the two-character abbreviation for the domain.  \n",
       "241                                     This variable contains the unique subject identifier for a study. This is a secondary key/identifier for all subject-level domains in the IDDO Data Repository  every domain table containing subject-level information (i.e., all but the Trial Domains) will have the USUBJID identifier. This variable will identify unique subjects in the repository.  \n",
       "242                                                                     This variable contains a sequence number to ensure uniqueness of subject records within the domain. Each observation (each recorded as a separate row in the domain) will have a unique number within each subject, e.g., a subject with 10 observations will have 10 rows and each row is numbered sequentially from 1-10.  \n",
       "243                                                                                                                                                                                                                                                                                                 This variable identifies the shortened code for the name of the test or examination performed.   \n",
       "244                                                                                                                                                                                                                                                                                                                         This variable identifies the name of the test or examination performed.  \n",
       "245                                                                                                                                                                                                                                                                                                                                     This variable contains a categorization of the observation.  \n",
       "246                                                                                                                                                                                                    This variable contains the result of the test or examination performed as provided by the data contributor. The original data can be either numericm e.g. \"503\" or string, e.g., \"Positive\".  \n",
       "247  This variable contains the converted, standardized result of the test or examination performed. The data can be either numeric, e.g. \"503\", or string, e.g. \"Positive\", and is stored as a string in the repository. The standard units and conversion formulas (as applicable) are described in detail in the IDDO Implementation Guide in the relevant sections about the variable --STRESU.  \n",
       "248                                                                                                This variable contains information about the status of the observation  specifically that it was not completed when it was expected to have been. This column should be empty when there is a value in the --OCCUR (Events and Interventions Domains) or --ORRES (Findings Domains) variables.   \n",
       "249                                                                                                                                                                        This variable contains information about the reason why the observation was not completed when it was expected to have been. This column should be populated when there is a value of \"NOT DONE\" in the --STAT variable.  \n",
       "250                                                                                                                                                                                                   This variable contains the date and time of the collection of the observation, administration of a test or collection of a specimen.  This date and time will be provided in ISO 8601 format.  \n",
       "251                                                                                                                                                                                                                                  This variable describes the study day of the observation relative to the date in RFSTDTC.  This will be blank for records with no value in the --DTC variable.  "
      ]
     },
     "execution_count": 164,
     "metadata": {},
     "output_type": "execute_result"
    }
   ],
   "source": [
    "# See variables for IE\n",
    "pd.set_option(\"display.max_colwidth\", 1000)\n",
    "data_description.loc[data_description.Domain==IE.name, ['Variable_Name', 'Variable_Type', 'Variable_Definition']]"
   ]
  },
  {
   "cell_type": "code",
   "execution_count": 165,
   "id": "6ef4f368-6599-4fde-94b7-b26d8e4e3083",
   "metadata": {},
   "outputs": [
    {
     "data": {
      "text/plain": [
       "Index(['STUDYID', 'DOMAIN', 'USUBJID', 'IESEQ', 'IETESTCD', 'IETEST', 'IECAT',\n",
       "       'IEORRES', 'IESTRESC', 'IESTAT', 'IEREASND', 'IEDY'],\n",
       "      dtype='object')"
      ]
     },
     "execution_count": 165,
     "metadata": {},
     "output_type": "execute_result"
    }
   ],
   "source": [
    "# Columns really in IE\n",
    "IE.columns"
   ]
  },
  {
   "cell_type": "markdown",
   "id": "e998ca10-d1f4-4cf3-a72a-eaa0b68b4d18",
   "metadata": {},
   "source": [
    "**=> To conclud, for IE, we can keep nothing.**"
   ]
  },
  {
   "cell_type": "markdown",
   "id": "2e7d5c3e-8b18-45e3-a124-7226cc076d06",
   "metadata": {
    "jp-MarkdownHeadingCollapsed": true,
    "tags": []
   },
   "source": [
    "#### For IN:"
   ]
  },
  {
   "cell_type": "code",
   "execution_count": 166,
   "id": "0ec1cf82-8b41-426f-bf08-3f39e4fdacbb",
   "metadata": {},
   "outputs": [],
   "source": [
    "data_folder = './data/DATA_2022-09-01/'\n",
    "mylist = []\n",
    "for chunk in pd.read_csv(data_folder + 'IN_2022-09-01.csv', sep=',', low_memory=False, chunksize=5000):\n",
    "    mylist.append(chunk)\n",
    "IN = pd.concat(mylist, axis=0)\n",
    "IN.name = 'IN'\n",
    "del mylist"
   ]
  },
  {
   "cell_type": "code",
   "execution_count": 167,
   "id": "9f7d374d-2db1-41ae-acbd-658f9351683d",
   "metadata": {},
   "outputs": [
    {
     "data": {
      "text/html": [
       "<div>\n",
       "<style scoped>\n",
       "    .dataframe tbody tr th:only-of-type {\n",
       "        vertical-align: middle;\n",
       "    }\n",
       "\n",
       "    .dataframe tbody tr th {\n",
       "        vertical-align: top;\n",
       "    }\n",
       "\n",
       "    .dataframe thead th {\n",
       "        text-align: right;\n",
       "    }\n",
       "</style>\n",
       "<table border=\"1\" class=\"dataframe\">\n",
       "  <thead>\n",
       "    <tr style=\"text-align: right;\">\n",
       "      <th></th>\n",
       "      <th>Variable_Name</th>\n",
       "      <th>Variable_Type</th>\n",
       "      <th>Variable_Definition</th>\n",
       "    </tr>\n",
       "  </thead>\n",
       "  <tbody>\n",
       "    <tr>\n",
       "      <th>252</th>\n",
       "      <td>STUDYID</td>\n",
       "      <td>character</td>\n",
       "      <td>This variable contains the unique identifier for a study. This is the main key/identifier for all domains in the IDDO Data Repository  every domain table will have the STUDYID identifier.</td>\n",
       "    </tr>\n",
       "    <tr>\n",
       "      <th>253</th>\n",
       "      <td>DOMAIN</td>\n",
       "      <td>character</td>\n",
       "      <td>This variable contains the two-character abbreviation for the domain.</td>\n",
       "    </tr>\n",
       "    <tr>\n",
       "      <th>254</th>\n",
       "      <td>USUBJID</td>\n",
       "      <td>character</td>\n",
       "      <td>This variable contains the unique subject identifier for a study. This is a secondary key/identifier for all subject-level domains in the IDDO Data Repository  every domain table containing subject-level information (i.e., all but the Trial Domains) will have the USUBJID identifier. This variable will identify unique subjects in the repository.</td>\n",
       "    </tr>\n",
       "    <tr>\n",
       "      <th>255</th>\n",
       "      <td>SPDEVID</td>\n",
       "      <td>character</td>\n",
       "      <td>This variable contains the short code for the device in use. This code will be the same as in the DI domain under the same variable name (SPDEVID). This functions as a key to link the descriptions of the device found in the DI domain with the usage in the IN domain.</td>\n",
       "    </tr>\n",
       "    <tr>\n",
       "      <th>256</th>\n",
       "      <td>INSEQ</td>\n",
       "      <td>number</td>\n",
       "      <td>This variable contains a sequence number to ensure uniqueness of subject records within the domain. Each observation (each recorded as a separate row in the domain) will have a unique number within each subject, e.g., a subject with 10 observations will have 10 rows and each row is numbered sequentially from 1-10.</td>\n",
       "    </tr>\n",
       "    <tr>\n",
       "      <th>...</th>\n",
       "      <td>...</td>\n",
       "      <td>...</td>\n",
       "      <td>...</td>\n",
       "    </tr>\n",
       "    <tr>\n",
       "      <th>312</th>\n",
       "      <td>DOSVOMIT</td>\n",
       "      <td>character</td>\n",
       "      <td>This variable identifies whether or not the dose given was vomited.</td>\n",
       "    </tr>\n",
       "    <tr>\n",
       "      <th>313</th>\n",
       "      <td>DOTIND</td>\n",
       "      <td>character</td>\n",
       "      <td>This variable identifies whether ot not the treatment or intervention was administered under direct observation of research staff.</td>\n",
       "    </tr>\n",
       "    <tr>\n",
       "      <th>314</th>\n",
       "      <td>RDIND</td>\n",
       "      <td>character</td>\n",
       "      <td>This variable identifies if the dose given was a redose due to the previous dose being vomited.</td>\n",
       "    </tr>\n",
       "    <tr>\n",
       "      <th>315</th>\n",
       "      <td>TDOSIND</td>\n",
       "      <td>character</td>\n",
       "      <td>This variable ??identifies if the dose reported in INDOSE is the total dose given to the subject over the entire treatment period (NOT a daily dose - see INDOSTOT for this case).</td>\n",
       "    </tr>\n",
       "    <tr>\n",
       "      <th>316</th>\n",
       "      <td>FATGIVEN</td>\n",
       "      <td>character</td>\n",
       "      <td>This variable identifies whether or not fat was given alongside the treatment or intervention.</td>\n",
       "    </tr>\n",
       "  </tbody>\n",
       "</table>\n",
       "<p>65 rows × 3 columns</p>\n",
       "</div>"
      ],
      "text/plain": [
       "    Variable_Name Variable_Type  \\\n",
       "252       STUDYID     character   \n",
       "253        DOMAIN     character   \n",
       "254       USUBJID     character   \n",
       "255       SPDEVID     character   \n",
       "256         INSEQ        number   \n",
       "..            ...           ...   \n",
       "312      DOSVOMIT     character   \n",
       "313        DOTIND     character   \n",
       "314         RDIND     character   \n",
       "315       TDOSIND     character   \n",
       "316      FATGIVEN     character   \n",
       "\n",
       "                                                                                                                                                                                                                                                                                                                                             Variable_Definition  \n",
       "252                                                                                                                                                                 This variable contains the unique identifier for a study. This is the main key/identifier for all domains in the IDDO Data Repository  every domain table will have the STUDYID identifier.  \n",
       "253                                                                                                                                                                                                                                                                                        This variable contains the two-character abbreviation for the domain.  \n",
       "254  This variable contains the unique subject identifier for a study. This is a secondary key/identifier for all subject-level domains in the IDDO Data Repository  every domain table containing subject-level information (i.e., all but the Trial Domains) will have the USUBJID identifier. This variable will identify unique subjects in the repository.  \n",
       "255                                                                                  This variable contains the short code for the device in use. This code will be the same as in the DI domain under the same variable name (SPDEVID). This functions as a key to link the descriptions of the device found in the DI domain with the usage in the IN domain.   \n",
       "256                                  This variable contains a sequence number to ensure uniqueness of subject records within the domain. Each observation (each recorded as a separate row in the domain) will have a unique number within each subject, e.g., a subject with 10 observations will have 10 rows and each row is numbered sequentially from 1-10.  \n",
       "..                                                                                                                                                                                                                                                                                                                                                           ...  \n",
       "312                                                                                                                                                                                                                                                                                          This variable identifies whether or not the dose given was vomited.  \n",
       "313                                                                                                                                                                                                                           This variable identifies whether ot not the treatment or intervention was administered under direct observation of research staff.  \n",
       "314                                                                                                                                                                                                                                                             This variable identifies if the dose given was a redose due to the previous dose being vomited.   \n",
       "315                                                                                                                                                                           This variable ??identifies if the dose reported in INDOSE is the total dose given to the subject over the entire treatment period (NOT a daily dose - see INDOSTOT for this case).  \n",
       "316                                                                                                                                                                                                                                                               This variable identifies whether or not fat was given alongside the treatment or intervention.  \n",
       "\n",
       "[65 rows x 3 columns]"
      ]
     },
     "execution_count": 167,
     "metadata": {},
     "output_type": "execute_result"
    }
   ],
   "source": [
    "# See variables for IN\n",
    "pd.set_option(\"display.max_colwidth\", 1000)\n",
    "data_description.loc[data_description.Domain==IN.name, ['Variable_Name', 'Variable_Type', 'Variable_Definition']]"
   ]
  },
  {
   "cell_type": "code",
   "execution_count": 168,
   "id": "86610fa6-7bf8-456a-a35a-3eea7b67d027",
   "metadata": {},
   "outputs": [
    {
     "data": {
      "text/plain": [
       "Index(['STUDYID', 'DOMAIN', 'USUBJID', 'SPDEVID', 'INSEQ', 'INREFID', 'INTRT',\n",
       "       'INMODIFY', 'INDECOD', 'INCAT', 'INSCAT', 'INPRESP', 'INOCCUR',\n",
       "       'INSTAT', 'INREASND', 'ININDC', 'INCLAS', 'INCLASCD', 'INDOSE',\n",
       "       'INDOSTXT', 'INDOSU', 'INDOSFRM', 'INDOSFRQ', 'INDOSTOT', 'INDOSRGM',\n",
       "       'INROUTE', 'VISITNUM', 'VISIT', 'VISITDY', 'INDY', 'INSTDY', 'INENDY',\n",
       "       'INDUR', 'INSTRF', 'INEVLINT', 'INEVINTX', 'INCDSTDY'],\n",
       "      dtype='object')"
      ]
     },
     "execution_count": 168,
     "metadata": {},
     "output_type": "execute_result"
    }
   ],
   "source": [
    "# Columns really in IN\n",
    "IN.columns"
   ]
  },
  {
   "cell_type": "code",
   "execution_count": 169,
   "id": "7cb39a33-246b-4d66-b149-f29e6462693c",
   "metadata": {},
   "outputs": [
    {
     "name": "stdout",
     "output_type": "stream",
     "text": [
      "Values for INCLAS:  ['ARTIFICIAL RESPIRATION' 'ANTIMALARIALS' 'OXYGEN'\n",
      " 'ANTIVIRALS FOR SYSTEMIC USE' 'HIGH FLOW OXYGEN NASAL CANNULA'\n",
      " 'CORTICOSTEROIDS FOR SYSTEMIC USE' 'CHEMOTHERAPY'\n",
      " 'ANTIINFLAMMATORY AND ANTIRHEUMATIC PRODUCTS, NON-STEROIDS'\n",
      " 'EXTRACORPOREAL MEMBRANE OXYGENATION' 'IMMUNOSTIMULANTS'\n",
      " 'PRONE BODY POSITION' 'CARDIOPULMONARY RESUSCITATION'\n",
      " 'IMMUNOSUPPRESSANTS' 'RENAL REPLACEMENT'\n",
      " 'ANTIBACTERIALS FOR SYSTEMIC USE' nan 'ANTITHROMBOTIC AGENTS'\n",
      " 'ANTIMYCOTICS FOR SYSTEMIC USE' 'CARDIAC THERAPY' 'VACCINES'\n",
      " 'CARDIAC PACING' 'AGENTS ACTING ON THE RENIN-ANGIOTENSIN SYSTEM'\n",
      " 'NONINVASIVE VENTILATION' 'IMMUNOGLOBULINS' 'ANALGESICS'\n",
      " 'TRANSFUSION OF BLOOD PRODUCT' 'LIPID MODIFYING AGENTS'\n",
      " 'DRUGS FOR ACID RELATED DISORDERS' 'MUSCLE RELAXANTS'\n",
      " 'OTHER RESPIRATORY SYSTEM PRODUCTS' 'INSERTION OF TRACHEOSTOMY TUBE'\n",
      " 'DRUGS FOR OBSTRUCTIVE AIRWAY DISEASES' 'PSYCHOLEPTICS' 'DIURETICS'\n",
      " 'BETA BLOCKING AGENTS' 'ANESTHETICS'\n",
      " 'BLOOD SUBSTITUTES AND PERFUSION SOLUTIONS' 'BRONCHOSCOPY'\n",
      " 'REMOVAL OF ENDOTRACHEAL TUBE' 'REPLACEMENT AGENT'\n",
      " 'NONINVASIVE POSITIVE PRESSURE VENTILATION' 'INTUBATION'\n",
      " 'PERCUTANEOUS ENDOSCOPIC GASTROSTOMY' 'TOTAL PARENTERAL NUTRITION'\n",
      " 'ANTIHELMINTICS']\n"
     ]
    }
   ],
   "source": [
    "# Investigate INCLAS\n",
    "print('Values for INCLAS: ', IN['INCLAS'].unique())"
   ]
  },
  {
   "cell_type": "code",
   "execution_count": 170,
   "id": "89d361ff-c149-484f-84d2-39f475aa67f5",
   "metadata": {},
   "outputs": [
    {
     "name": "stdout",
     "output_type": "stream",
     "text": [
      "Values for INCLAS:\n",
      " ANTIVIRALS FOR SYSTEMIC USE                                  0.099480\n",
      "ARTIFICIAL RESPIRATION                                       0.091678\n",
      "CORTICOSTEROIDS FOR SYSTEMIC USE                             0.083986\n",
      "IMMUNOSUPPRESSANTS                                           0.068704\n",
      "OXYGEN                                                       0.062425\n",
      "ANTIBACTERIALS FOR SYSTEMIC USE                              0.059972\n",
      "NaN                                                          0.048714\n",
      "HIGH FLOW OXYGEN NASAL CANNULA                               0.044329\n",
      "ANTIINFLAMMATORY AND ANTIRHEUMATIC PRODUCTS, NON-STEROIDS    0.040269\n",
      "CARDIAC THERAPY                                              0.038568\n",
      "PRONE BODY POSITION                                          0.035545\n",
      "NONINVASIVE VENTILATION                                      0.035530\n",
      "EXTRACORPOREAL MEMBRANE OXYGENATION                          0.035166\n",
      "ANTIMYCOTICS FOR SYSTEMIC USE                                0.030266\n",
      "RENAL REPLACEMENT                                            0.025760\n",
      "AGENTS ACTING ON THE RENIN-ANGIOTENSIN SYSTEM                0.025184\n",
      "ANTIMALARIALS                                                0.023974\n",
      "IMMUNOSTIMULANTS                                             0.022574\n",
      "VACCINES                                                     0.021501\n",
      "ANTITHROMBOTIC AGENTS                                        0.014188\n",
      "INSERTION OF TRACHEOSTOMY TUBE                               0.012018\n",
      "OTHER RESPIRATORY SYSTEM PRODUCTS                            0.012008\n",
      "CHEMOTHERAPY                                                 0.011281\n",
      "IMMUNOGLOBULINS                                              0.011278\n",
      "CARDIOPULMONARY RESUSCITATION                                0.011276\n",
      "CARDIAC PACING                                               0.011275\n",
      "BLOOD SUBSTITUTES AND PERFUSION SOLUTIONS                    0.005477\n",
      "MUSCLE RELAXANTS                                             0.005198\n",
      "ANALGESICS                                                   0.002229\n",
      "DRUGS FOR OBSTRUCTIVE AIRWAY DISEASES                        0.002134\n",
      "DRUGS FOR ACID RELATED DISORDERS                             0.002049\n",
      "LIPID MODIFYING AGENTS                                       0.001819\n",
      "DIURETICS                                                    0.001306\n",
      "BETA BLOCKING AGENTS                                         0.001133\n",
      "TRANSFUSION OF BLOOD PRODUCT                                 0.000649\n",
      "PSYCHOLEPTICS                                                0.000555\n",
      "ANESTHETICS                                                  0.000165\n",
      "INTUBATION                                                   0.000149\n",
      "TOTAL PARENTERAL NUTRITION                                   0.000148\n",
      "ANTIHELMINTICS                                               0.000015\n",
      "REPLACEMENT AGENT                                            0.000014\n",
      "BRONCHOSCOPY                                                 0.000006\n",
      "REMOVAL OF ENDOTRACHEAL TUBE                                 0.000004\n",
      "NONINVASIVE POSITIVE PRESSURE VENTILATION                    0.000001\n",
      "PERCUTANEOUS ENDOSCOPIC GASTROSTOMY                          0.000001\n",
      "Name: INCLAS, dtype: float64\n"
     ]
    }
   ],
   "source": [
    "# Investigate INCLAS\n",
    "print('Values for INCLAS:\\n', IN['INCLAS'].value_counts(normalize=True, dropna=False))"
   ]
  },
  {
   "cell_type": "code",
   "execution_count": 171,
   "id": "eb4fcd37-5764-4fc0-b52d-afdca10d1f6c",
   "metadata": {},
   "outputs": [
    {
     "name": "stdout",
     "output_type": "stream",
     "text": [
      "%NA for INDY:  66.2\n"
     ]
    }
   ],
   "source": [
    "# Count NA for INDY\n",
    "print('%NA for INDY: ', round(IN['INDY'].isna().sum()/IN.shape[0]*100,1))"
   ]
  },
  {
   "cell_type": "markdown",
   "id": "7176f7eb-e661-40df-b4b0-419c86e5f558",
   "metadata": {},
   "source": [
    "**=> To conclud, for IN, we can keep: USUBJID, INSEQ and INCLAS:**"
   ]
  },
  {
   "cell_type": "code",
   "execution_count": 172,
   "id": "70cf552b-8db9-4e04-854c-497e790d43c1",
   "metadata": {},
   "outputs": [
    {
     "data": {
      "text/plain": [
       "Index(['USUBJID', 'INSEQ', 'INCLAS'], dtype='object')"
      ]
     },
     "execution_count": 172,
     "metadata": {},
     "output_type": "execute_result"
    }
   ],
   "source": [
    "# Keep only some columns for IN\n",
    "IN.drop(columns =['STUDYID', 'DOMAIN', 'SPDEVID', 'INREFID', 'INTRT',\n",
    "       'INMODIFY', 'INDECOD', 'INCAT', 'INSCAT', 'INPRESP', 'INOCCUR',\n",
    "       'INSTAT', 'INREASND', 'ININDC', 'INCLASCD', 'INDOSE',\n",
    "       'INDOSTXT', 'INDOSU', 'INDOSFRM', 'INDOSFRQ', 'INDOSTOT', 'INDOSRGM',\n",
    "       'INROUTE', 'VISITNUM', 'VISIT', 'VISITDY', 'INDY', 'INSTDY', 'INENDY',\n",
    "       'INDUR', 'INSTRF', 'INEVLINT', 'INEVINTX', 'INCDSTDY'], inplace=True)\n",
    "IN.columns"
   ]
  },
  {
   "cell_type": "code",
   "execution_count": 173,
   "id": "84657f8c-e98d-4706-bda2-f1f16db16ff9",
   "metadata": {},
   "outputs": [
    {
     "data": {
      "text/plain": [
       "(43338429, 3)"
      ]
     },
     "execution_count": 173,
     "metadata": {},
     "output_type": "execute_result"
    }
   ],
   "source": [
    "IN.shape"
   ]
  },
  {
   "cell_type": "markdown",
   "id": "6e6503f2-46a7-46ba-a381-fe6b5348f06e",
   "metadata": {
    "jp-MarkdownHeadingCollapsed": true,
    "tags": []
   },
   "source": [
    "#### For LB:"
   ]
  },
  {
   "cell_type": "code",
   "execution_count": 174,
   "id": "654c41eb-0a24-4188-93ea-b63bc07bdd89",
   "metadata": {},
   "outputs": [],
   "source": [
    "data_folder = './data/DATA_2022-09-01/'\n",
    "LB = pd.read_csv(data_folder + 'LB_2022-09-01.csv', sep=',', low_memory=False) \n",
    "LB.name = 'LB'"
   ]
  },
  {
   "cell_type": "code",
   "execution_count": 175,
   "id": "0e7b314b-9875-4744-a967-de9752cadfb5",
   "metadata": {},
   "outputs": [
    {
     "data": {
      "text/html": [
       "<div>\n",
       "<style scoped>\n",
       "    .dataframe tbody tr th:only-of-type {\n",
       "        vertical-align: middle;\n",
       "    }\n",
       "\n",
       "    .dataframe tbody tr th {\n",
       "        vertical-align: top;\n",
       "    }\n",
       "\n",
       "    .dataframe thead th {\n",
       "        text-align: right;\n",
       "    }\n",
       "</style>\n",
       "<table border=\"1\" class=\"dataframe\">\n",
       "  <thead>\n",
       "    <tr style=\"text-align: right;\">\n",
       "      <th></th>\n",
       "      <th>Variable_Name</th>\n",
       "      <th>Variable_Type</th>\n",
       "      <th>Variable_Definition</th>\n",
       "    </tr>\n",
       "  </thead>\n",
       "  <tbody>\n",
       "    <tr>\n",
       "      <th>317</th>\n",
       "      <td>STUDYID</td>\n",
       "      <td>character</td>\n",
       "      <td>This variable contains the unique identifier for a study. This is the main key/identifier for all domains in the IDDO Data Repository  every domain table will have the STUDYID identifier.</td>\n",
       "    </tr>\n",
       "    <tr>\n",
       "      <th>318</th>\n",
       "      <td>DOMAIN</td>\n",
       "      <td>character</td>\n",
       "      <td>This variable contains the two-character abbreviation for the domain.</td>\n",
       "    </tr>\n",
       "    <tr>\n",
       "      <th>319</th>\n",
       "      <td>USUBJID</td>\n",
       "      <td>character</td>\n",
       "      <td>This variable contains the unique subject identifier for a study. This is a secondary key/identifier for all subject-level domains in the IDDO Data Repository  every domain table containing subject-level information (i.e., all but the Trial Domains) will have the USUBJID identifier. This variable will identify unique subjects in the repository.</td>\n",
       "    </tr>\n",
       "    <tr>\n",
       "      <th>320</th>\n",
       "      <td>LBSEQ</td>\n",
       "      <td>number</td>\n",
       "      <td>This variable contains a sequence number to ensure uniqueness of subject records within the domain. Each observation (each recorded as a separate row in the domain) will have a unique number within each subject, e.g., a subject with 10 observations will have 10 rows and each row is numbered sequentially from 1-10.</td>\n",
       "    </tr>\n",
       "    <tr>\n",
       "      <th>321</th>\n",
       "      <td>LBREFID</td>\n",
       "      <td>character</td>\n",
       "      <td>This variable contains an identifier to distinguish duplicate findings, collections or events occurring within the same time period where no other timing information is available. This variable is used to make the rows' timing details unique.</td>\n",
       "    </tr>\n",
       "    <tr>\n",
       "      <th>322</th>\n",
       "      <td>LBTESTCD</td>\n",
       "      <td>character</td>\n",
       "      <td>This variable identifies the shortened code for the name of the test or examination performed. This is defined by CDISC Controlled Terminology.</td>\n",
       "    </tr>\n",
       "    <tr>\n",
       "      <th>323</th>\n",
       "      <td>LBTEST</td>\n",
       "      <td>character</td>\n",
       "      <td>This variable identifies the name of the test or examination performed. This is defined by CDISC Controlled Terminology.</td>\n",
       "    </tr>\n",
       "    <tr>\n",
       "      <th>324</th>\n",
       "      <td>LBCAT</td>\n",
       "      <td>character</td>\n",
       "      <td>This variable contains a categorization of the observation.</td>\n",
       "    </tr>\n",
       "    <tr>\n",
       "      <th>325</th>\n",
       "      <td>LBSCAT</td>\n",
       "      <td>character</td>\n",
       "      <td>This variable contains a further categorization of the observation.</td>\n",
       "    </tr>\n",
       "    <tr>\n",
       "      <th>326</th>\n",
       "      <td>LBORRES</td>\n",
       "      <td>character</td>\n",
       "      <td>This variable contains the result of the test or examination performed as provided by the data contributor. The original data can be either numericm e.g. \"503\" or string, e.g., \"Positive\".</td>\n",
       "    </tr>\n",
       "    <tr>\n",
       "      <th>327</th>\n",
       "      <td>LBORRESU</td>\n",
       "      <td>character</td>\n",
       "      <td>This variable contains the unit for the result of the test or examination performed as provided by the data contributor. This is defined by CDISC Controlled Terminology.</td>\n",
       "    </tr>\n",
       "    <tr>\n",
       "      <th>328</th>\n",
       "      <td>LBORNRLO</td>\n",
       "      <td>number</td>\n",
       "      <td>This variable contains the lower end of the reference range for continuous measurement in original units as provided by the data contributor.</td>\n",
       "    </tr>\n",
       "    <tr>\n",
       "      <th>329</th>\n",
       "      <td>LBORNRHI</td>\n",
       "      <td>number</td>\n",
       "      <td>This variable contains the upper end of the reference range for continuous measurement in original units as provided by the data contributor.</td>\n",
       "    </tr>\n",
       "    <tr>\n",
       "      <th>330</th>\n",
       "      <td>LBSTRESC</td>\n",
       "      <td>character</td>\n",
       "      <td>This variable contains the converted, standardized result of the test or examination performed. The data can be either numeric, e.g. \"503\", or string, e.g. \"Positive\", and is stored as a string in the repository. The standard units and conversion formulas (as applicable) are described in detail in the IDDO Implementation Guide in the relevant sections about the variable --STRESU.</td>\n",
       "    </tr>\n",
       "    <tr>\n",
       "      <th>331</th>\n",
       "      <td>LBSTRESN</td>\n",
       "      <td>number</td>\n",
       "      <td>This variable contains the converted, standardized result of the test or examination performed when the result is numeric. This variable is a direct copy of the numeric values found in --STRESC. String/character-based results, e.g. \"Positive\", do not appear.</td>\n",
       "    </tr>\n",
       "    <tr>\n",
       "      <th>332</th>\n",
       "      <td>LBSTRESU</td>\n",
       "      <td>character</td>\n",
       "      <td>This variable contains the unit for the converted, standardized result of the test or examination performed. The IDDO-Defined Standard Units for each test or examination are described in detail in the IDDO Implementation Guide.</td>\n",
       "    </tr>\n",
       "    <tr>\n",
       "      <th>333</th>\n",
       "      <td>LBSTAT</td>\n",
       "      <td>character</td>\n",
       "      <td>This variable contains information about the status of the observation  specifically that it was not completed when it was expected to have been. This column should be empty when there is a value in the --OCCUR (Events and Interventions Domains) or --ORRES (Findings Domains) variables.</td>\n",
       "    </tr>\n",
       "    <tr>\n",
       "      <th>334</th>\n",
       "      <td>LBREASND</td>\n",
       "      <td>character</td>\n",
       "      <td>This variable contains information about the reason why the observation was not completed when it was expected to have been. This column should be populated when there is a value of \"NOT DONE\" in the --STAT variable.</td>\n",
       "    </tr>\n",
       "    <tr>\n",
       "      <th>335</th>\n",
       "      <td>LBNAM</td>\n",
       "      <td>character</td>\n",
       "      <td>This variable contains the name or identifier of the laboratory that performed the measurement or test.</td>\n",
       "    </tr>\n",
       "    <tr>\n",
       "      <th>336</th>\n",
       "      <td>LBSPEC</td>\n",
       "      <td>character</td>\n",
       "      <td>This variable contains information about the type of specimen used for the laboratory test or examination. This is defined by CDISC Controlled Terminology .</td>\n",
       "    </tr>\n",
       "    <tr>\n",
       "      <th>337</th>\n",
       "      <td>LBSPCCND</td>\n",
       "      <td>character</td>\n",
       "      <td>This variable describes the condition of the specimen used for the test or examination. This is defined by CDISC Controlled Terminology.</td>\n",
       "    </tr>\n",
       "    <tr>\n",
       "      <th>338</th>\n",
       "      <td>LBMETHOD</td>\n",
       "      <td>character</td>\n",
       "      <td>This variable contains information about the method used for the test or examination. This is defined by CDISC Controlled Terminology.</td>\n",
       "    </tr>\n",
       "    <tr>\n",
       "      <th>339</th>\n",
       "      <td>VISITNUM</td>\n",
       "      <td>number</td>\n",
       "      <td>This variable contains a number designating the planned clinical encounter number. This is a numeric version of the visit described in VISIT? and it is used for sorting.</td>\n",
       "    </tr>\n",
       "    <tr>\n",
       "      <th>340</th>\n",
       "      <td>VISIT</td>\n",
       "      <td>character</td>\n",
       "      <td>This variable contains the protocol-defined text description of the planned clinical encounter number (as defined in the Trial Visits (TV) Domain).</td>\n",
       "    </tr>\n",
       "    <tr>\n",
       "      <th>341</th>\n",
       "      <td>VISITDY</td>\n",
       "      <td>number</td>\n",
       "      <td>This variable contains a number designating the Study Day of the planned clinical encounter. This is also a numeric version of the visit described in VISIT? and can be used for sorting.</td>\n",
       "    </tr>\n",
       "    <tr>\n",
       "      <th>342</th>\n",
       "      <td>EPOCH</td>\n",
       "      <td>character</td>\n",
       "      <td>This variable describes the Epoch period of the observation (e.g., Baseline, Treatment, Follow-up).  This is defined by CDISC Controlled Terminology</td>\n",
       "    </tr>\n",
       "    <tr>\n",
       "      <th>343</th>\n",
       "      <td>LBDTC</td>\n",
       "      <td>character</td>\n",
       "      <td>This variable contains the date and time of the collection of the observation, administration of a test or collection of a specimen.  This date and time will be provided in ISO 8601 format.</td>\n",
       "    </tr>\n",
       "    <tr>\n",
       "      <th>344</th>\n",
       "      <td>LBENDTC</td>\n",
       "      <td>character</td>\n",
       "      <td>This variable contains the end date and time of the observation or cessation of event. This date and time will be provided in ISO 8601 format.</td>\n",
       "    </tr>\n",
       "    <tr>\n",
       "      <th>345</th>\n",
       "      <td>LBDY</td>\n",
       "      <td>number</td>\n",
       "      <td>This variable describes the study day of the observation relative to the date in RFSTDTC.  This will be blank for records with no value in the --DTC variable.</td>\n",
       "    </tr>\n",
       "    <tr>\n",
       "      <th>346</th>\n",
       "      <td>LBENDY</td>\n",
       "      <td>number</td>\n",
       "      <td>This variable describes the study day of the end of the observation relative to the date in RFSTDTC.  This will be blank for records with no value in the --ENDTC variable.</td>\n",
       "    </tr>\n",
       "    <tr>\n",
       "      <th>347</th>\n",
       "      <td>LBTPT</td>\n",
       "      <td>character</td>\n",
       "      <td>This variable describes when the observation should have happened as defined in the study protocol. This may be represented as an elapsed time relative to a fixed reference point described in --TPTREF.</td>\n",
       "    </tr>\n",
       "    <tr>\n",
       "      <th>348</th>\n",
       "      <td>LBTPTNUM</td>\n",
       "      <td>number</td>\n",
       "      <td>This variable contains the numeric version of --TPT and it is used for sorting.</td>\n",
       "    </tr>\n",
       "    <tr>\n",
       "      <th>349</th>\n",
       "      <td>LBTPTREF</td>\n",
       "      <td>character</td>\n",
       "      <td>This variable contains the name of the fixed reference point referred to by --TPT, --ELTM, e.g. PREVIOUS DOSE, PREVIOUS MEAL.</td>\n",
       "    </tr>\n",
       "    <tr>\n",
       "      <th>350</th>\n",
       "      <td>LBSTRF</td>\n",
       "      <td>character</td>\n",
       "      <td>This variable describes when the start of the observation happened in relation to the date recorded in RFSTDTC, e.g. BEFORE, DURING or AFTER.</td>\n",
       "    </tr>\n",
       "    <tr>\n",
       "      <th>351</th>\n",
       "      <td>LBEVINTX</td>\n",
       "      <td>character</td>\n",
       "      <td>This variable contains information about the evaluation interval associated with an observation when it cannot be represented in ISO 8601 format (e.g., \"Last few weeks\", \"While hospitalized\").</td>\n",
       "    </tr>\n",
       "    <tr>\n",
       "      <th>352</th>\n",
       "      <td>LBSTRTPT</td>\n",
       "      <td>character</td>\n",
       "      <td>This variable describes when the start of the observation happened in relation to the point described in --STTPT, e.g. BEFORE, DURING or AFTER.</td>\n",
       "    </tr>\n",
       "    <tr>\n",
       "      <th>353</th>\n",
       "      <td>LBSTTPT</td>\n",
       "      <td>character</td>\n",
       "      <td>This variable contains the name of the fixed reference point referred to by --STRTPT, e.g. PREVIOUS DOSE, 2003-12-15.</td>\n",
       "    </tr>\n",
       "    <tr>\n",
       "      <th>354</th>\n",
       "      <td>LBCDSTDY</td>\n",
       "      <td>number</td>\n",
       "      <td>This variable contains the contributor-defined study day expressed in integer days relative to the start of the study. This variable is used when no dates are provided, only a contributor-defined proxy.</td>\n",
       "    </tr>\n",
       "    <tr>\n",
       "      <th>355</th>\n",
       "      <td>LBRPOC</td>\n",
       "      <td>character</td>\n",
       "      <td>This variable describes the reported time period for the occurrence of an event when the actual date/time is not provided. This is provided in ISO 8601 format.</td>\n",
       "    </tr>\n",
       "  </tbody>\n",
       "</table>\n",
       "</div>"
      ],
      "text/plain": [
       "    Variable_Name Variable_Type  \\\n",
       "317       STUDYID     character   \n",
       "318        DOMAIN     character   \n",
       "319       USUBJID     character   \n",
       "320         LBSEQ        number   \n",
       "321       LBREFID     character   \n",
       "322      LBTESTCD     character   \n",
       "323        LBTEST     character   \n",
       "324         LBCAT     character   \n",
       "325        LBSCAT     character   \n",
       "326       LBORRES     character   \n",
       "327      LBORRESU     character   \n",
       "328      LBORNRLO        number   \n",
       "329      LBORNRHI        number   \n",
       "330      LBSTRESC     character   \n",
       "331      LBSTRESN        number   \n",
       "332      LBSTRESU     character   \n",
       "333        LBSTAT     character   \n",
       "334      LBREASND     character   \n",
       "335         LBNAM     character   \n",
       "336        LBSPEC     character   \n",
       "337      LBSPCCND     character   \n",
       "338      LBMETHOD     character   \n",
       "339      VISITNUM        number   \n",
       "340         VISIT     character   \n",
       "341       VISITDY        number   \n",
       "342         EPOCH     character   \n",
       "343         LBDTC     character   \n",
       "344       LBENDTC     character   \n",
       "345          LBDY        number   \n",
       "346        LBENDY        number   \n",
       "347         LBTPT     character   \n",
       "348      LBTPTNUM        number   \n",
       "349      LBTPTREF     character   \n",
       "350        LBSTRF     character   \n",
       "351      LBEVINTX     character   \n",
       "352      LBSTRTPT     character   \n",
       "353       LBSTTPT     character   \n",
       "354      LBCDSTDY        number   \n",
       "355        LBRPOC     character   \n",
       "\n",
       "                                                                                                                                                                                                                                                                                                                                                                                Variable_Definition  \n",
       "317                                                                                                                                                                                                    This variable contains the unique identifier for a study. This is the main key/identifier for all domains in the IDDO Data Repository  every domain table will have the STUDYID identifier.  \n",
       "318                                                                                                                                                                                                                                                                                                                           This variable contains the two-character abbreviation for the domain.  \n",
       "319                                     This variable contains the unique subject identifier for a study. This is a secondary key/identifier for all subject-level domains in the IDDO Data Repository  every domain table containing subject-level information (i.e., all but the Trial Domains) will have the USUBJID identifier. This variable will identify unique subjects in the repository.  \n",
       "320                                                                     This variable contains a sequence number to ensure uniqueness of subject records within the domain. Each observation (each recorded as a separate row in the domain) will have a unique number within each subject, e.g., a subject with 10 observations will have 10 rows and each row is numbered sequentially from 1-10.  \n",
       "321                                                                                                                                              This variable contains an identifier to distinguish duplicate findings, collections or events occurring within the same time period where no other timing information is available. This variable is used to make the rows' timing details unique.  \n",
       "322                                                                                                                                                                                                                                                 This variable identifies the shortened code for the name of the test or examination performed. This is defined by CDISC Controlled Terminology.  \n",
       "323                                                                                                                                                                                                                                                                        This variable identifies the name of the test or examination performed. This is defined by CDISC Controlled Terminology.  \n",
       "324                                                                                                                                                                                                                                                                                                                                     This variable contains a categorization of the observation.  \n",
       "325                                                                                                                                                                                                                                                                                                                             This variable contains a further categorization of the observation.  \n",
       "326                                                                                                                                                                                                    This variable contains the result of the test or examination performed as provided by the data contributor. The original data can be either numericm e.g. \"503\" or string, e.g., \"Positive\".  \n",
       "327                                                                                                                                                                                                                       This variable contains the unit for the result of the test or examination performed as provided by the data contributor. This is defined by CDISC Controlled Terminology.  \n",
       "328                                                                                                                                                                                                                                                  This variable contains the lower end of the reference range for continuous measurement in original units as provided by the data contributor.   \n",
       "329                                                                                                                                                                                                                                                   This variable contains the upper end of the reference range for continuous measurement in original units as provided by the data contributor.  \n",
       "330  This variable contains the converted, standardized result of the test or examination performed. The data can be either numeric, e.g. \"503\", or string, e.g. \"Positive\", and is stored as a string in the repository. The standard units and conversion formulas (as applicable) are described in detail in the IDDO Implementation Guide in the relevant sections about the variable --STRESU.  \n",
       "331                                                                                                                              This variable contains the converted, standardized result of the test or examination performed when the result is numeric. This variable is a direct copy of the numeric values found in --STRESC. String/character-based results, e.g. \"Positive\", do not appear.  \n",
       "332                                                                                                                                                             This variable contains the unit for the converted, standardized result of the test or examination performed. The IDDO-Defined Standard Units for each test or examination are described in detail in the IDDO Implementation Guide.  \n",
       "333                                                                                                This variable contains information about the status of the observation  specifically that it was not completed when it was expected to have been. This column should be empty when there is a value in the --OCCUR (Events and Interventions Domains) or --ORRES (Findings Domains) variables.   \n",
       "334                                                                                                                                                                        This variable contains information about the reason why the observation was not completed when it was expected to have been. This column should be populated when there is a value of \"NOT DONE\" in the --STAT variable.  \n",
       "335                                                                                                                                                                                                                                                                                         This variable contains the name or identifier of the laboratory that performed the measurement or test.  \n",
       "336                                                                                                                                                                                                                                    This variable contains information about the type of specimen used for the laboratory test or examination. This is defined by CDISC Controlled Terminology .  \n",
       "337                                                                                                                                                                                                                                                        This variable describes the condition of the specimen used for the test or examination. This is defined by CDISC Controlled Terminology.  \n",
       "338                                                                                                                                                                                                                                                          This variable contains information about the method used for the test or examination. This is defined by CDISC Controlled Terminology.  \n",
       "339                                                                                                                                                                                                                      This variable contains a number designating the planned clinical encounter number. This is a numeric version of the visit described in VISIT? and it is used for sorting.   \n",
       "340                                                                                                                                                                                                                                             This variable contains the protocol-defined text description of the planned clinical encounter number (as defined in the Trial Visits (TV) Domain).  \n",
       "341                                                                                                                                                                                                       This variable contains a number designating the Study Day of the planned clinical encounter. This is also a numeric version of the visit described in VISIT? and can be used for sorting.  \n",
       "342                                                                                                                                                                                                                                            This variable describes the Epoch period of the observation (e.g., Baseline, Treatment, Follow-up).  This is defined by CDISC Controlled Terminology  \n",
       "343                                                                                                                                                                                                   This variable contains the date and time of the collection of the observation, administration of a test or collection of a specimen.  This date and time will be provided in ISO 8601 format.  \n",
       "344                                                                                                                                                                                                                                                  This variable contains the end date and time of the observation or cessation of event. This date and time will be provided in ISO 8601 format.  \n",
       "345                                                                                                                                                                                                                                  This variable describes the study day of the observation relative to the date in RFSTDTC.  This will be blank for records with no value in the --DTC variable.  \n",
       "346                                                                                                                                                                                                                     This variable describes the study day of the end of the observation relative to the date in RFSTDTC.  This will be blank for records with no value in the --ENDTC variable.  \n",
       "347                                                                                                                                                                                      This variable describes when the observation should have happened as defined in the study protocol. This may be represented as an elapsed time relative to a fixed reference point described in --TPTREF.   \n",
       "348                                                                                                                                                                                                                                                                                                                 This variable contains the numeric version of --TPT and it is used for sorting.  \n",
       "349                                                                                                                                                                                                                                                                   This variable contains the name of the fixed reference point referred to by --TPT, --ELTM, e.g. PREVIOUS DOSE, PREVIOUS MEAL.  \n",
       "350                                                                                                                                                                                                                                                   This variable describes when the start of the observation happened in relation to the date recorded in RFSTDTC, e.g. BEFORE, DURING or AFTER.  \n",
       "351                                                                                                                                                                                                This variable contains information about the evaluation interval associated with an observation when it cannot be represented in ISO 8601 format (e.g., \"Last few weeks\", \"While hospitalized\").  \n",
       "352                                                                                                                                                                                                                                                 This variable describes when the start of the observation happened in relation to the point described in --STTPT, e.g. BEFORE, DURING or AFTER.  \n",
       "353                                                                                                                                                                                                                                                                           This variable contains the name of the fixed reference point referred to by --STRTPT, e.g. PREVIOUS DOSE, 2003-12-15.  \n",
       "354                                                                                                                                                                                     This variable contains the contributor-defined study day expressed in integer days relative to the start of the study. This variable is used when no dates are provided, only a contributor-defined proxy.   \n",
       "355                                                                                                                                                                                                                                 This variable describes the reported time period for the occurrence of an event when the actual date/time is not provided. This is provided in ISO 8601 format.  "
      ]
     },
     "execution_count": 175,
     "metadata": {},
     "output_type": "execute_result"
    }
   ],
   "source": [
    "# See variables for LB\n",
    "pd.set_option(\"display.max_colwidth\", 1000)\n",
    "data_description.loc[data_description.Domain==LB.name, ['Variable_Name', 'Variable_Type', 'Variable_Definition']]"
   ]
  },
  {
   "cell_type": "code",
   "execution_count": 176,
   "id": "4dfee115-b6c0-465f-83f3-326ef8c0a50f",
   "metadata": {},
   "outputs": [
    {
     "data": {
      "text/plain": [
       "Index(['STUDYID', 'DOMAIN', 'USUBJID', 'LBSEQ', 'LBTESTCD', 'LBTEST', 'LBCAT',\n",
       "       'LBSCAT', 'LBORRES', 'LBORRESU', 'LBSTRESC', 'LBSTRESN', 'LBSTRESU',\n",
       "       'LBSTAT', 'LBREASND', 'LBSPEC', 'LBMETHOD', 'VISITNUM', 'VISIT',\n",
       "       'VISITDY', 'LBDY', 'LBSTRF', 'LBEVINTX', 'LBCDSTDY'],\n",
       "      dtype='object')"
      ]
     },
     "execution_count": 176,
     "metadata": {},
     "output_type": "execute_result"
    }
   ],
   "source": [
    "# Columns really in LB\n",
    "LB.columns"
   ]
  },
  {
   "cell_type": "code",
   "execution_count": 177,
   "id": "ee5a82fe-957e-4db9-a2c1-2ac14611717f",
   "metadata": {},
   "outputs": [
    {
     "name": "stdout",
     "output_type": "stream",
     "text": [
      "Values for LBTESTCD:  ['HCT' 'PLAT' 'HGB' 'WBC' 'AST' 'BILI' 'CREAT' 'LYM' 'INR' 'PCO2' 'NEUT'\n",
      " 'PT' 'UREAN' 'CRP' 'ALT' 'GLUC' 'PH' 'SODIUM' 'BICARB' 'PO2' 'K' 'CK'\n",
      " 'TROPONI' 'LDH' 'FERRITIN' 'PCT' 'DDIMER' 'LACTICAC' 'NEUTLE' 'LYMLE'\n",
      " 'BASEEXCS' 'INTLK6' 'APTT' 'APTTSTND' 'HBA1C' 'ESR' 'OXYSAT' 'ALB'\n",
      " 'TROPONIN' 'MCH' 'RBC' 'RDW' 'IRON' 'MONO' 'EOS' 'EOSLE' 'BASOLE'\n",
      " 'MONOLE' 'MCHC' 'MCV' 'PROT' 'CL' 'AMYLASE' 'MPV' 'PLATHCT' 'BASO' 'CHOL'\n",
      " 'URATE' 'PTAC' 'FIBRINO' 'BILDIR' 'CA' 'GGT' 'TT' 'MG' 'CAION' 'CAIONPH'\n",
      " 'CARBXHGB' 'HGBDOXY' 'HGBMET' 'HGBOXY' 'CO2' 'TROPONT' 'PO2FIO2'\n",
      " 'FIBRINOF' 'UREA' 'ALP' 'CD4' 'NEUTSG' 'AUERRODS']\n"
     ]
    }
   ],
   "source": [
    "# Investigate LBTESTCD\n",
    "print('Values for LBTESTCD: ', LB['LBTESTCD'].unique())"
   ]
  },
  {
   "cell_type": "code",
   "execution_count": 178,
   "id": "80a834b0-6123-4c3e-87a0-08bbeaf7278f",
   "metadata": {},
   "outputs": [
    {
     "name": "stdout",
     "output_type": "stream",
     "text": [
      "HCT  --->  ['%' nan]\n",
      "PLAT  --->  ['10^9/L' nan]\n",
      "HGB  --->  ['g/L' nan]\n",
      "WBC  --->  ['10^9/L' nan]\n",
      "AST  --->  ['U/L' nan]\n",
      "BILI  --->  ['umol/L' nan]\n",
      "CREAT  --->  ['umol/L' nan]\n",
      "LYM  --->  ['10^9/L' nan]\n",
      "INR  --->  ['RATIO' nan]\n",
      "PCO2  --->  [nan]\n",
      "NEUT  --->  ['10^9/L' nan]\n",
      "PT  --->  ['sec' nan]\n",
      "UREAN  --->  ['mmol/L' nan]\n",
      "CRP  --->  ['mg/L' nan]\n",
      "ALT  --->  ['U/L' nan]\n",
      "GLUC  --->  ['mmol/L' nan]\n",
      "PH  --->  [nan]\n",
      "SODIUM  --->  ['mmol/L' nan]\n",
      "BICARB  --->  ['mEq/L' nan]\n",
      "PO2  --->  [nan]\n",
      "K  --->  ['mmol/L' nan]\n",
      "CK  --->  ['U/L' nan]\n",
      "TROPONI  --->  ['ug/L' nan]\n",
      "LDH  --->  ['U/L' nan]\n",
      "FERRITIN  --->  ['ug/L' nan]\n",
      "PCT  --->  ['ug/L' nan]\n",
      "DDIMER  --->  [nan 'mg/L']\n",
      "LACTICAC  --->  ['mmol/L' nan]\n",
      "NEUTLE  --->  ['%']\n",
      "LYMLE  --->  ['%']\n",
      "BASEEXCS  --->  ['mmol/L' nan]\n",
      "INTLK6  --->  ['ng/L' nan]\n",
      "APTT  --->  ['sec' nan]\n",
      "APTTSTND  --->  ['RATIO' nan]\n",
      "HBA1C  --->  [nan]\n",
      "ESR  --->  [nan 'mm/h']\n",
      "OXYSAT  --->  [nan]\n",
      "ALB  --->  [nan]\n",
      "TROPONIN  --->  [nan]\n",
      "MCH  --->  [nan]\n",
      "RBC  --->  [nan]\n",
      "RDW  --->  [nan]\n",
      "IRON  --->  [nan]\n",
      "MONO  --->  ['10^9/L']\n",
      "EOS  --->  ['10^9/L']\n",
      "EOSLE  --->  ['%']\n",
      "BASOLE  --->  ['%']\n",
      "MONOLE  --->  ['%']\n",
      "MCHC  --->  [nan]\n",
      "MCV  --->  [nan]\n",
      "PROT  --->  [nan]\n",
      "CL  --->  [nan]\n",
      "AMYLASE  --->  [nan]\n",
      "MPV  --->  [nan]\n",
      "PLATHCT  --->  [nan]\n",
      "BASO  --->  ['10^9/L']\n",
      "CHOL  --->  [nan]\n",
      "URATE  --->  [nan]\n",
      "PTAC  --->  [nan]\n",
      "FIBRINO  --->  [nan]\n",
      "BILDIR  --->  [nan]\n",
      "CA  --->  [nan]\n",
      "GGT  --->  [nan]\n",
      "TT  --->  [nan]\n",
      "MG  --->  [nan]\n",
      "CAION  --->  [nan]\n",
      "CAIONPH  --->  [nan]\n",
      "CARBXHGB  --->  [nan]\n",
      "HGBDOXY  --->  [nan]\n",
      "HGBMET  --->  [nan]\n",
      "HGBOXY  --->  [nan]\n",
      "CO2  --->  [nan]\n",
      "TROPONT  --->  [nan]\n",
      "PO2FIO2  --->  [nan]\n",
      "FIBRINOF  --->  [nan]\n",
      "UREA  --->  [nan]\n",
      "ALP  --->  [nan]\n",
      "CD4  --->  [nan '10^6/L']\n",
      "NEUTSG  --->  [nan]\n",
      "AUERRODS  --->  [nan]\n"
     ]
    }
   ],
   "source": [
    "# Check units\n",
    "for t in LB['LBTESTCD'].unique():\n",
    "    print(t, ' ---> ', LB.LBSTRESU[LB.LBTESTCD == t].unique())"
   ]
  },
  {
   "cell_type": "markdown",
   "id": "f83bb407-a869-48ec-a3bf-9a8fc64ef70a",
   "metadata": {},
   "source": [
    "There is only one unit for each test so we do not need to uniformize them."
   ]
  },
  {
   "cell_type": "code",
   "execution_count": 179,
   "id": "2f932eb4-0aff-4dce-ab4d-29ee20a62bdf",
   "metadata": {
    "tags": []
   },
   "outputs": [
    {
     "name": "stdout",
     "output_type": "stream",
     "text": [
      "%NA for LB:  2.01\n"
     ]
    }
   ],
   "source": [
    "# NA for LBDY\n",
    "print('%NA for LB: ', round(LB['LBDY'].isna().sum()/LB.shape[0]*100,2))"
   ]
  },
  {
   "cell_type": "markdown",
   "id": "073831b4-0dd3-4b4b-aeb9-99e5abb80563",
   "metadata": {},
   "source": [
    "**=> To conclud, for LB, we can keep: USUBJID, LBSEQ, LBTESTCD, LBSTRESC, LBSTRESU and LBDY:**"
   ]
  },
  {
   "cell_type": "code",
   "execution_count": 180,
   "id": "bce24fd9-86ae-4074-a23b-fbc18e125841",
   "metadata": {},
   "outputs": [
    {
     "data": {
      "text/plain": [
       "Index(['USUBJID', 'LBSEQ', 'LBTESTCD', 'LBSTRESC', 'LBSTRESU', 'LBDY'], dtype='object')"
      ]
     },
     "execution_count": 180,
     "metadata": {},
     "output_type": "execute_result"
    }
   ],
   "source": [
    "# Keep only some columns for LB\n",
    "LB = LB[['USUBJID', 'LBSEQ', 'LBTESTCD', 'LBSTRESC', 'LBSTRESU', 'LBDY']]\n",
    "LB.columns"
   ]
  },
  {
   "cell_type": "code",
   "execution_count": 181,
   "id": "dbb121e9-2719-438c-a52f-2be88b1e93da",
   "metadata": {},
   "outputs": [
    {
     "data": {
      "text/plain": [
       "(7330863, 6)"
      ]
     },
     "execution_count": 181,
     "metadata": {},
     "output_type": "execute_result"
    }
   ],
   "source": [
    "LB.shape"
   ]
  },
  {
   "cell_type": "markdown",
   "id": "483c393e-3d31-4da1-8d9f-510d3b3df7c3",
   "metadata": {
    "jp-MarkdownHeadingCollapsed": true,
    "tags": []
   },
   "source": [
    "#### For MB:"
   ]
  },
  {
   "cell_type": "code",
   "execution_count": 182,
   "id": "9e8bf7d4-3d2f-4891-9215-0ef5886a9b50",
   "metadata": {},
   "outputs": [],
   "source": [
    "data_folder = './data/DATA_2022-09-01/'\n",
    "MB = pd.read_csv(data_folder + 'MB_2022-09-01.csv', sep=',', low_memory=False) \n",
    "MB.name = 'MB'"
   ]
  },
  {
   "cell_type": "code",
   "execution_count": 183,
   "id": "358924e3-a269-4233-9f44-1674d276ef87",
   "metadata": {},
   "outputs": [
    {
     "data": {
      "text/html": [
       "<div>\n",
       "<style scoped>\n",
       "    .dataframe tbody tr th:only-of-type {\n",
       "        vertical-align: middle;\n",
       "    }\n",
       "\n",
       "    .dataframe tbody tr th {\n",
       "        vertical-align: top;\n",
       "    }\n",
       "\n",
       "    .dataframe thead th {\n",
       "        text-align: right;\n",
       "    }\n",
       "</style>\n",
       "<table border=\"1\" class=\"dataframe\">\n",
       "  <thead>\n",
       "    <tr style=\"text-align: right;\">\n",
       "      <th></th>\n",
       "      <th>Variable_Name</th>\n",
       "      <th>Variable_Type</th>\n",
       "      <th>Variable_Definition</th>\n",
       "    </tr>\n",
       "  </thead>\n",
       "  <tbody>\n",
       "    <tr>\n",
       "      <th>356</th>\n",
       "      <td>STUDYID</td>\n",
       "      <td>character</td>\n",
       "      <td>This variable contains the unique identifier for a study. This is the main key/identifier for all domains in the IDDO Data Repository  every domain table will have the STUDYID identifier.</td>\n",
       "    </tr>\n",
       "    <tr>\n",
       "      <th>357</th>\n",
       "      <td>DOMAIN</td>\n",
       "      <td>character</td>\n",
       "      <td>This variable contains the two-character abbreviation for the domain.</td>\n",
       "    </tr>\n",
       "    <tr>\n",
       "      <th>358</th>\n",
       "      <td>USUBJID</td>\n",
       "      <td>character</td>\n",
       "      <td>This variable contains the unique subject identifier for a study. This is a secondary key/identifier for all subject-level domains in the IDDO Data Repository  every domain table containing subject-level information (i.e., all but the Trial Domains) will have the USUBJID identifier. This variable will identify unique subjects in the repository.</td>\n",
       "    </tr>\n",
       "    <tr>\n",
       "      <th>359</th>\n",
       "      <td>MBSEQ</td>\n",
       "      <td>number</td>\n",
       "      <td>This variable contains a sequence number to ensure uniqueness of subject records within the domain. Each observation (each recorded as a separate row in the domain) will have a unique number within each subject, e.g., a subject with 10 observations will have 10 rows and each row is numbered sequentially from 1-10.</td>\n",
       "    </tr>\n",
       "    <tr>\n",
       "      <th>360</th>\n",
       "      <td>MBGRPID</td>\n",
       "      <td>character</td>\n",
       "      <td>This variable contains an identifier used to link together a block of related records and distinguish duplicate findings or events that occur within the same time period where no other timing information is available. This variable is used to make the rows' timing details unique.</td>\n",
       "    </tr>\n",
       "    <tr>\n",
       "      <th>361</th>\n",
       "      <td>MBREFID</td>\n",
       "      <td>character</td>\n",
       "      <td>This variable contains an identifier to distinguish duplicate findings, collections or events occurring within the same time period where no other timing information is available. This variable is used to make the rows' timing details unique.</td>\n",
       "    </tr>\n",
       "    <tr>\n",
       "      <th>362</th>\n",
       "      <td>MBTESTCD</td>\n",
       "      <td>character</td>\n",
       "      <td>This variable identifies the shortened code for the name of the test or examination performed. This is defined by CDISC Controlled Terminology.</td>\n",
       "    </tr>\n",
       "    <tr>\n",
       "      <th>363</th>\n",
       "      <td>MBTEST</td>\n",
       "      <td>character</td>\n",
       "      <td>This variable identifies the name of the test or examination performed. This is defined by CDISC Controlled Terminology.</td>\n",
       "    </tr>\n",
       "    <tr>\n",
       "      <th>364</th>\n",
       "      <td>MBMODIFY</td>\n",
       "      <td>character</td>\n",
       "      <td>This variable contains a modification of the result as provided by the data contributor. This is used for the capture of the non-standard grade scale corresponding to the result contained in --ORRES.</td>\n",
       "    </tr>\n",
       "    <tr>\n",
       "      <th>365</th>\n",
       "      <td>MBTSTDTL</td>\n",
       "      <td>character</td>\n",
       "      <td>This variable describes the test type.</td>\n",
       "    </tr>\n",
       "    <tr>\n",
       "      <th>366</th>\n",
       "      <td>MBCAT</td>\n",
       "      <td>character</td>\n",
       "      <td>This variable contains a categorization of the observation.</td>\n",
       "    </tr>\n",
       "    <tr>\n",
       "      <th>367</th>\n",
       "      <td>MBSCAT</td>\n",
       "      <td>character</td>\n",
       "      <td>This variable contains a further categorization of the observation.</td>\n",
       "    </tr>\n",
       "    <tr>\n",
       "      <th>368</th>\n",
       "      <td>MBORRES</td>\n",
       "      <td>character</td>\n",
       "      <td>This variable contains the result of the test or examination performed as provided by the data contributor. The original data can be either numericm e.g. \"503\" or string, e.g., \"Positive\".</td>\n",
       "    </tr>\n",
       "    <tr>\n",
       "      <th>369</th>\n",
       "      <td>MBORRESU</td>\n",
       "      <td>character</td>\n",
       "      <td>This variable contains the unit for the result of the test or examination performed as provided by the data contributor. This is defined by CDISC Controlled Terminology.</td>\n",
       "    </tr>\n",
       "    <tr>\n",
       "      <th>370</th>\n",
       "      <td>MBSTRESC</td>\n",
       "      <td>character</td>\n",
       "      <td>This variable contains the converted, standardized result of the test or examination performed. The data can be either numeric, e.g. \"503\", or string, e.g. \"Positive\", and is stored as a string in the repository. The standard units and conversion formulas (as applicable) are described in detail in the IDDO Implementation Guide in the relevant sections about the variable --STRESU.</td>\n",
       "    </tr>\n",
       "    <tr>\n",
       "      <th>371</th>\n",
       "      <td>MBSTRESN</td>\n",
       "      <td>number</td>\n",
       "      <td>This variable contains the converted, standardized result of the test or examination performed when the result is numeric. This variable is a direct copy of the numeric values found in --STRESC. String/character-based results, e.g. \"Positive\", do not appear.</td>\n",
       "    </tr>\n",
       "    <tr>\n",
       "      <th>372</th>\n",
       "      <td>MBSTRESU</td>\n",
       "      <td>character</td>\n",
       "      <td>This variable contains the unit for the converted, standardized result of the test or examination performed. The IDDO-Defined Standard Units for each test or examination are described in detail in the IDDO Implementation Guide.</td>\n",
       "    </tr>\n",
       "    <tr>\n",
       "      <th>373</th>\n",
       "      <td>MBSTAT</td>\n",
       "      <td>character</td>\n",
       "      <td>This variable contains information about the status of the observation  specifically that it was not completed when it was expected to have been. This column should be empty when there is a value in the --OCCUR (Events and Interventions Domains) or --ORRES (Findings Domains) variables.</td>\n",
       "    </tr>\n",
       "    <tr>\n",
       "      <th>374</th>\n",
       "      <td>MBREASND</td>\n",
       "      <td>character</td>\n",
       "      <td>This variable contains information about the reason why the observation was not completed when it was expected to have been. This column should be populated when there is a value of \"NOT DONE\" in the --STAT variable.</td>\n",
       "    </tr>\n",
       "    <tr>\n",
       "      <th>375</th>\n",
       "      <td>MBSPEC</td>\n",
       "      <td>character</td>\n",
       "      <td>This variable contains information about the type of specimen used for the laboratory test or examination. This is defined by CDISC Controlled Terminology .</td>\n",
       "    </tr>\n",
       "    <tr>\n",
       "      <th>376</th>\n",
       "      <td>MBSPCCND</td>\n",
       "      <td>character</td>\n",
       "      <td>This variable describes the condition of the specimen used for the test or examination. This is defined by CDISC Controlled Terminology.</td>\n",
       "    </tr>\n",
       "    <tr>\n",
       "      <th>377</th>\n",
       "      <td>MBLOC</td>\n",
       "      <td>character</td>\n",
       "      <td>This variable contains information about the location of the test or examination. This is defined by CDISC Controlled Terminology.</td>\n",
       "    </tr>\n",
       "    <tr>\n",
       "      <th>378</th>\n",
       "      <td>MBMETHOD</td>\n",
       "      <td>character</td>\n",
       "      <td>This variable contains information about the method used for the test or examination. This is defined by CDISC Controlled Terminology.</td>\n",
       "    </tr>\n",
       "    <tr>\n",
       "      <th>379</th>\n",
       "      <td>VISITNUM</td>\n",
       "      <td>number</td>\n",
       "      <td>This variable contains a number designating the planned clinical encounter number. This is a numeric version of the visit described in VISIT? and it is used for sorting.</td>\n",
       "    </tr>\n",
       "    <tr>\n",
       "      <th>380</th>\n",
       "      <td>VISIT</td>\n",
       "      <td>character</td>\n",
       "      <td>This variable contains the protocol-defined text description of the planned clinical encounter number (as defined in the Trial Visits (TV) Domain).</td>\n",
       "    </tr>\n",
       "    <tr>\n",
       "      <th>381</th>\n",
       "      <td>VISITDY</td>\n",
       "      <td>number</td>\n",
       "      <td>This variable contains a number designating the Study Day of the planned clinical encounter. This is also a numeric version of the visit described in VISIT? and can be used for sorting.</td>\n",
       "    </tr>\n",
       "    <tr>\n",
       "      <th>382</th>\n",
       "      <td>EPOCH</td>\n",
       "      <td>character</td>\n",
       "      <td>This variable describes the Epoch period of the observation (e.g., Baseline, Treatment, Follow-up).  This is defined by CDISC Controlled Terminology</td>\n",
       "    </tr>\n",
       "    <tr>\n",
       "      <th>383</th>\n",
       "      <td>MBDTC</td>\n",
       "      <td>character</td>\n",
       "      <td>This variable contains the date and time of the collection of the observation, administration of a test or collection of a specimen.  This date and time will be provided in ISO 8601 format.</td>\n",
       "    </tr>\n",
       "    <tr>\n",
       "      <th>384</th>\n",
       "      <td>MBDY</td>\n",
       "      <td>number</td>\n",
       "      <td>This variable describes the study day of the observation relative to the date in RFSTDTC.  This will be blank for records with no value in the --DTC variable.</td>\n",
       "    </tr>\n",
       "    <tr>\n",
       "      <th>385</th>\n",
       "      <td>MBTPT</td>\n",
       "      <td>character</td>\n",
       "      <td>This variable describes when the observation should have happened as defined in the study protocol. This may be represented as an elapsed time relative to a fixed reference point described in --TPTREF.</td>\n",
       "    </tr>\n",
       "    <tr>\n",
       "      <th>386</th>\n",
       "      <td>MBTPTNUM</td>\n",
       "      <td>number</td>\n",
       "      <td>This variable contains the numeric version of --TPT and it is used for sorting.</td>\n",
       "    </tr>\n",
       "    <tr>\n",
       "      <th>387</th>\n",
       "      <td>MBTPTREF</td>\n",
       "      <td>character</td>\n",
       "      <td>This variable contains the name of the fixed reference point referred to by --TPT, --ELTM, e.g. PREVIOUS DOSE, PREVIOUS MEAL.</td>\n",
       "    </tr>\n",
       "    <tr>\n",
       "      <th>388</th>\n",
       "      <td>MBELTM</td>\n",
       "      <td>character</td>\n",
       "      <td>This variable contains the planned elapsed time relative to the fixed reference point --TPTREF. This duration will be provided in ISO 8601 format.</td>\n",
       "    </tr>\n",
       "    <tr>\n",
       "      <th>389</th>\n",
       "      <td>MBSTRF</td>\n",
       "      <td>character</td>\n",
       "      <td>This variable describes when the start of the observation happened in relation to the date recorded in RFSTDTC, e.g. BEFORE, DURING or AFTER.</td>\n",
       "    </tr>\n",
       "    <tr>\n",
       "      <th>390</th>\n",
       "      <td>MBEVINTX</td>\n",
       "      <td>character</td>\n",
       "      <td>This variable contains information about the evaluation interval associated with an observation when it cannot be represented in ISO 8601 format (e.g., \"Last few weeks\", \"While hospitalized\").</td>\n",
       "    </tr>\n",
       "    <tr>\n",
       "      <th>391</th>\n",
       "      <td>MBSTRTPT</td>\n",
       "      <td>character</td>\n",
       "      <td>This variable describes when the start of the observation happened in relation to the point described in --STTPT, e.g. BEFORE, DURING or AFTER.</td>\n",
       "    </tr>\n",
       "    <tr>\n",
       "      <th>392</th>\n",
       "      <td>MBSTTPT</td>\n",
       "      <td>character</td>\n",
       "      <td>This variable contains the name of the fixed reference point referred to by --STRTPT, e.g. PREVIOUS DOSE, 2003-12-15.</td>\n",
       "    </tr>\n",
       "    <tr>\n",
       "      <th>393</th>\n",
       "      <td>MBCDSTDY</td>\n",
       "      <td>number</td>\n",
       "      <td>This variable contains the contributor-defined study day expressed in integer days relative to the start of the study. This variable is used when no dates are provided, only a contributor-defined proxy.</td>\n",
       "    </tr>\n",
       "    <tr>\n",
       "      <th>394</th>\n",
       "      <td>MBRPOC</td>\n",
       "      <td>character</td>\n",
       "      <td>This variable describes the reported time period for the occurrence of an event when the actual date/time is not provided. This is provided in ISO 8601 format.</td>\n",
       "    </tr>\n",
       "  </tbody>\n",
       "</table>\n",
       "</div>"
      ],
      "text/plain": [
       "    Variable_Name Variable_Type  \\\n",
       "356       STUDYID     character   \n",
       "357        DOMAIN     character   \n",
       "358       USUBJID     character   \n",
       "359         MBSEQ        number   \n",
       "360       MBGRPID     character   \n",
       "361       MBREFID     character   \n",
       "362      MBTESTCD     character   \n",
       "363        MBTEST     character   \n",
       "364      MBMODIFY     character   \n",
       "365      MBTSTDTL     character   \n",
       "366         MBCAT     character   \n",
       "367        MBSCAT     character   \n",
       "368       MBORRES     character   \n",
       "369      MBORRESU     character   \n",
       "370      MBSTRESC     character   \n",
       "371      MBSTRESN        number   \n",
       "372      MBSTRESU     character   \n",
       "373        MBSTAT     character   \n",
       "374      MBREASND     character   \n",
       "375        MBSPEC     character   \n",
       "376      MBSPCCND     character   \n",
       "377         MBLOC     character   \n",
       "378      MBMETHOD     character   \n",
       "379      VISITNUM        number   \n",
       "380         VISIT     character   \n",
       "381       VISITDY        number   \n",
       "382         EPOCH     character   \n",
       "383         MBDTC     character   \n",
       "384          MBDY        number   \n",
       "385         MBTPT     character   \n",
       "386      MBTPTNUM        number   \n",
       "387      MBTPTREF     character   \n",
       "388        MBELTM     character   \n",
       "389        MBSTRF     character   \n",
       "390      MBEVINTX     character   \n",
       "391      MBSTRTPT     character   \n",
       "392       MBSTTPT     character   \n",
       "393      MBCDSTDY        number   \n",
       "394        MBRPOC     character   \n",
       "\n",
       "                                                                                                                                                                                                                                                                                                                                                                                Variable_Definition  \n",
       "356                                                                                                                                                                                                    This variable contains the unique identifier for a study. This is the main key/identifier for all domains in the IDDO Data Repository  every domain table will have the STUDYID identifier.  \n",
       "357                                                                                                                                                                                                                                                                                                                           This variable contains the two-character abbreviation for the domain.  \n",
       "358                                     This variable contains the unique subject identifier for a study. This is a secondary key/identifier for all subject-level domains in the IDDO Data Repository  every domain table containing subject-level information (i.e., all but the Trial Domains) will have the USUBJID identifier. This variable will identify unique subjects in the repository.  \n",
       "359                                                                     This variable contains a sequence number to ensure uniqueness of subject records within the domain. Each observation (each recorded as a separate row in the domain) will have a unique number within each subject, e.g., a subject with 10 observations will have 10 rows and each row is numbered sequentially from 1-10.  \n",
       "360                                                                                                        This variable contains an identifier used to link together a block of related records and distinguish duplicate findings or events that occur within the same time period where no other timing information is available. This variable is used to make the rows' timing details unique.  \n",
       "361                                                                                                                                              This variable contains an identifier to distinguish duplicate findings, collections or events occurring within the same time period where no other timing information is available. This variable is used to make the rows' timing details unique.  \n",
       "362                                                                                                                                                                                                                                                 This variable identifies the shortened code for the name of the test or examination performed. This is defined by CDISC Controlled Terminology.  \n",
       "363                                                                                                                                                                                                                                                                        This variable identifies the name of the test or examination performed. This is defined by CDISC Controlled Terminology.  \n",
       "364                                                                                                                                                                                         This variable contains a modification of the result as provided by the data contributor. This is used for the capture of the non-standard grade scale corresponding to the result contained in --ORRES.  \n",
       "365                                                                                                                                                                                                                                                                                                                                                          This variable describes the test type.  \n",
       "366                                                                                                                                                                                                                                                                                                                                     This variable contains a categorization of the observation.  \n",
       "367                                                                                                                                                                                                                                                                                                                             This variable contains a further categorization of the observation.  \n",
       "368                                                                                                                                                                                                    This variable contains the result of the test or examination performed as provided by the data contributor. The original data can be either numericm e.g. \"503\" or string, e.g., \"Positive\".  \n",
       "369                                                                                                                                                                                                                       This variable contains the unit for the result of the test or examination performed as provided by the data contributor. This is defined by CDISC Controlled Terminology.  \n",
       "370  This variable contains the converted, standardized result of the test or examination performed. The data can be either numeric, e.g. \"503\", or string, e.g. \"Positive\", and is stored as a string in the repository. The standard units and conversion formulas (as applicable) are described in detail in the IDDO Implementation Guide in the relevant sections about the variable --STRESU.  \n",
       "371                                                                                                                              This variable contains the converted, standardized result of the test or examination performed when the result is numeric. This variable is a direct copy of the numeric values found in --STRESC. String/character-based results, e.g. \"Positive\", do not appear.  \n",
       "372                                                                                                                                                             This variable contains the unit for the converted, standardized result of the test or examination performed. The IDDO-Defined Standard Units for each test or examination are described in detail in the IDDO Implementation Guide.  \n",
       "373                                                                                                This variable contains information about the status of the observation  specifically that it was not completed when it was expected to have been. This column should be empty when there is a value in the --OCCUR (Events and Interventions Domains) or --ORRES (Findings Domains) variables.   \n",
       "374                                                                                                                                                                        This variable contains information about the reason why the observation was not completed when it was expected to have been. This column should be populated when there is a value of \"NOT DONE\" in the --STAT variable.  \n",
       "375                                                                                                                                                                                                                                    This variable contains information about the type of specimen used for the laboratory test or examination. This is defined by CDISC Controlled Terminology .  \n",
       "376                                                                                                                                                                                                                                                        This variable describes the condition of the specimen used for the test or examination. This is defined by CDISC Controlled Terminology.  \n",
       "377                                                                                                                                                                                                                                                              This variable contains information about the location of the test or examination. This is defined by CDISC Controlled Terminology.  \n",
       "378                                                                                                                                                                                                                                                          This variable contains information about the method used for the test or examination. This is defined by CDISC Controlled Terminology.  \n",
       "379                                                                                                                                                                                                                      This variable contains a number designating the planned clinical encounter number. This is a numeric version of the visit described in VISIT? and it is used for sorting.   \n",
       "380                                                                                                                                                                                                                                             This variable contains the protocol-defined text description of the planned clinical encounter number (as defined in the Trial Visits (TV) Domain).  \n",
       "381                                                                                                                                                                                                       This variable contains a number designating the Study Day of the planned clinical encounter. This is also a numeric version of the visit described in VISIT? and can be used for sorting.  \n",
       "382                                                                                                                                                                                                                                            This variable describes the Epoch period of the observation (e.g., Baseline, Treatment, Follow-up).  This is defined by CDISC Controlled Terminology  \n",
       "383                                                                                                                                                                                                   This variable contains the date and time of the collection of the observation, administration of a test or collection of a specimen.  This date and time will be provided in ISO 8601 format.  \n",
       "384                                                                                                                                                                                                                                  This variable describes the study day of the observation relative to the date in RFSTDTC.  This will be blank for records with no value in the --DTC variable.  \n",
       "385                                                                                                                                                                                      This variable describes when the observation should have happened as defined in the study protocol. This may be represented as an elapsed time relative to a fixed reference point described in --TPTREF.   \n",
       "386                                                                                                                                                                                                                                                                                                                 This variable contains the numeric version of --TPT and it is used for sorting.  \n",
       "387                                                                                                                                                                                                                                                                   This variable contains the name of the fixed reference point referred to by --TPT, --ELTM, e.g. PREVIOUS DOSE, PREVIOUS MEAL.  \n",
       "388                                                                                                                                                                                                                                              This variable contains the planned elapsed time relative to the fixed reference point --TPTREF. This duration will be provided in ISO 8601 format.  \n",
       "389                                                                                                                                                                                                                                                   This variable describes when the start of the observation happened in relation to the date recorded in RFSTDTC, e.g. BEFORE, DURING or AFTER.  \n",
       "390                                                                                                                                                                                                This variable contains information about the evaluation interval associated with an observation when it cannot be represented in ISO 8601 format (e.g., \"Last few weeks\", \"While hospitalized\").  \n",
       "391                                                                                                                                                                                                                                                 This variable describes when the start of the observation happened in relation to the point described in --STTPT, e.g. BEFORE, DURING or AFTER.  \n",
       "392                                                                                                                                                                                                                                                                           This variable contains the name of the fixed reference point referred to by --STRTPT, e.g. PREVIOUS DOSE, 2003-12-15.  \n",
       "393                                                                                                                                                                                     This variable contains the contributor-defined study day expressed in integer days relative to the start of the study. This variable is used when no dates are provided, only a contributor-defined proxy.   \n",
       "394                                                                                                                                                                                                                                 This variable describes the reported time period for the occurrence of an event when the actual date/time is not provided. This is provided in ISO 8601 format.  "
      ]
     },
     "execution_count": 183,
     "metadata": {},
     "output_type": "execute_result"
    }
   ],
   "source": [
    "# See variables for MB\n",
    "pd.set_option(\"display.max_colwidth\", 1000)\n",
    "data_description.loc[data_description.Domain==MB.name, ['Variable_Name', 'Variable_Type', 'Variable_Definition']]"
   ]
  },
  {
   "cell_type": "code",
   "execution_count": 184,
   "id": "9162e133-932d-4612-9e3e-2639b553d344",
   "metadata": {},
   "outputs": [
    {
     "data": {
      "text/plain": [
       "Index(['STUDYID', 'DOMAIN', 'USUBJID', 'MBSEQ', 'MBTESTCD', 'MBTEST',\n",
       "       'MBTSTDTL', 'MBCAT', 'MBSCAT', 'MBORRES', 'MBORRESU', 'MBSTRESC',\n",
       "       'MBSTRESN', 'MBSTRESU', 'MBSTAT', 'MBREASND', 'MBSPEC', 'MBLOC',\n",
       "       'MBMETHOD', 'VISITNUM', 'VISIT', 'VISITDY', 'MBDY', 'MBSTRF',\n",
       "       'MBEVINTX', 'MBCDSTDY'],\n",
       "      dtype='object')"
      ]
     },
     "execution_count": 184,
     "metadata": {},
     "output_type": "execute_result"
    }
   ],
   "source": [
    "# Columns really in MB\n",
    "MB.columns"
   ]
  },
  {
   "cell_type": "code",
   "execution_count": 185,
   "id": "3b66b605-d104-41bd-8f19-cfbd614d9809",
   "metadata": {},
   "outputs": [
    {
     "name": "stdout",
     "output_type": "stream",
     "text": [
      "Values for MBTESTCD:  ['BACT' 'RSV' 'CRONAVIR' 'ADENOVIR' 'OTHRDIND' 'INFLUVIR' 'SARSCOV2'\n",
      " 'MCORGIDN' 'HIV12P24' 'PLSMDM' 'HIV' 'OTHPHIND' 'PFALCIP' 'SAR2IGG'\n",
      " 'SAR2IGM' 'SAR2IGGM' 'SAR2AB']\n"
     ]
    }
   ],
   "source": [
    "# Investigate MBTESTCD\n",
    "print('Values for MBTESTCD: ', MB['MBTESTCD'].unique())"
   ]
  },
  {
   "cell_type": "code",
   "execution_count": 186,
   "id": "0a7096b2-e747-4828-8eaf-97ac9169378b",
   "metadata": {},
   "outputs": [
    {
     "name": "stdout",
     "output_type": "stream",
     "text": [
      "Values for MBTSTDTL:  ['DETECTION' 'IDENTIFICATION' 'VARIANT TYPE']\n"
     ]
    }
   ],
   "source": [
    "# Investigate MBTSTDTL\n",
    "print('Values for MBTSTDTL: ', MB['MBTSTDTL'].unique())"
   ]
  },
  {
   "cell_type": "code",
   "execution_count": 187,
   "id": "2850eb34-9810-44ab-b8f7-e6bd43f530ed",
   "metadata": {},
   "outputs": [],
   "source": [
    "# Replace UNKNOWN by NA in MBSTRESC\n",
    "MB.replace('UNKNOWN', np.nan, inplace=True)"
   ]
  },
  {
   "cell_type": "code",
   "execution_count": 188,
   "id": "303036e2-f23a-4399-a54e-154586aeb659",
   "metadata": {},
   "outputs": [],
   "source": [
    "# Replace NOT SURE by NA in MBSTRESC\n",
    "MB.replace('NOT SURE', np.nan, inplace=True)"
   ]
  },
  {
   "cell_type": "code",
   "execution_count": 189,
   "id": "1f760716-01ae-4108-b669-4891afba84d2",
   "metadata": {},
   "outputs": [
    {
     "name": "stdout",
     "output_type": "stream",
     "text": [
      "Values for MBSTRESC for detection:\n",
      " POSITIVE    0.477894\n",
      "NaN         0.277023\n",
      "NEGATIVE    0.245084\n",
      "Name: MBSTRESC, dtype: float64\n"
     ]
    }
   ],
   "source": [
    "# Investigate MBSTRESC\n",
    "print('Values for MBSTRESC for detection:\\n', MB.loc[MB.MBTSTDTL=='DETECTION', 'MBSTRESC'].value_counts(normalize=True, dropna=False))"
   ]
  },
  {
   "cell_type": "code",
   "execution_count": 190,
   "id": "a8fa54c7-bb17-4c61-8fe0-aef60688792c",
   "metadata": {},
   "outputs": [
    {
     "name": "stdout",
     "output_type": "stream",
     "text": [
      "Values for MBSTRESC for identification:\n",
      " SEVERE ACUTE RESPIRATORY SYNDROME CORONAVIRUS 2    0.819583\n",
      "NaN                                                0.068448\n",
      "ESCHERICHIA COLI                                   0.009928\n",
      "METHICILLIN RESISTANT STAPHYLOCOCCUS AUREUS        0.009609\n",
      "STAPHYLOCOCCUS AUREUS                              0.006104\n",
      "                                                     ...   \n",
      "ROTHIA DENTOCARIOSA                                0.000008\n",
      "CAMPYLOBACTER COLI                                 0.000008\n",
      "MEASLES MORBILLIVIRUS                              0.000008\n",
      "PSYCHROBACTER PHENYLPYRUVICUS                      0.000008\n",
      "PLASMODIUM                                         0.000008\n",
      "Name: MBSTRESC, Length: 338, dtype: float64\n"
     ]
    }
   ],
   "source": [
    "# Investigate MBSTRESC\n",
    "print('Values for MBSTRESC for identification:\\n', MB.loc[MB.MBTSTDTL=='IDENTIFICATION', 'MBSTRESC'].value_counts(normalize=True, dropna=False))"
   ]
  },
  {
   "cell_type": "code",
   "execution_count": 191,
   "id": "e53660c4-777f-45f8-ac36-5899b1c0ed1f",
   "metadata": {},
   "outputs": [
    {
     "name": "stdout",
     "output_type": "stream",
     "text": [
      "Values for MBSTRESC for variant type:\n",
      " NaN                    0.565113\n",
      "OMICRON - B.1.1.529    0.282316\n",
      "DELTA - B.1.617.2      0.096348\n",
      "BETA - B.1.351         0.040005\n",
      "OMICRON                0.011413\n",
      "ALPHA - B.1.1.7        0.004565\n",
      "THETA- P.3             0.000120\n",
      "KAPPA - B.1.617.1      0.000120\n",
      "Name: MBSTRESC, dtype: float64\n"
     ]
    }
   ],
   "source": [
    "# Investigate MBSTRESC\n",
    "print('Values for MBSTRESC for variant type:\\n', MB.loc[MB.MBTSTDTL=='VARIANT TYPE', 'MBSTRESC'].value_counts(normalize=True, dropna=False))"
   ]
  },
  {
   "cell_type": "code",
   "execution_count": 192,
   "id": "9f5dfc25-868e-4760-8951-25d41be95ff3",
   "metadata": {},
   "outputs": [
    {
     "name": "stdout",
     "output_type": "stream",
     "text": [
      "Values for MBTESTCD for detection:  ['MCORGIDN' 'SARSCOV2']\n"
     ]
    }
   ],
   "source": [
    "# Investigate MBTESTCD\n",
    "print('Values for MBTESTCD for detection: ', MB.loc[MB.MBTSTDTL!='DETECTION', 'MBTESTCD'].unique())"
   ]
  },
  {
   "cell_type": "code",
   "execution_count": 193,
   "id": "87689dca-0b45-4e6b-9b7c-26b7d04eb6ed",
   "metadata": {},
   "outputs": [
    {
     "name": "stdout",
     "output_type": "stream",
     "text": [
      "Values for MBTESTCD:\n",
      " SARSCOV2    4.473739e-01\n",
      "INFLUVIR    2.859827e-01\n",
      "MCORGIDN    6.206561e-02\n",
      "CRONAVIR    5.116250e-02\n",
      "RSV         5.113892e-02\n",
      "ADENOVIR    4.509914e-02\n",
      "BACT        4.349690e-02\n",
      "OTHRDIND    9.830854e-03\n",
      "HIV         1.187303e-03\n",
      "PLSMDM      1.106672e-03\n",
      "OTHPHIND    9.737020e-04\n",
      "HIV12P24    2.866881e-04\n",
      "PFALCIP     2.739568e-04\n",
      "SAR2IGGM    1.178816e-05\n",
      "SAR2IGG     6.601370e-06\n",
      "SAR2IGM     2.357632e-06\n",
      "SAR2AB      4.715264e-07\n",
      "Name: MBTESTCD, dtype: float64\n"
     ]
    }
   ],
   "source": [
    "# Investigate MBTESTCD\n",
    "print('Values for MBTESTCD:\\n', MB['MBTESTCD'].value_counts(normalize=True, dropna=False))"
   ]
  },
  {
   "cell_type": "code",
   "execution_count": 194,
   "id": "2c2250c4-4ec9-44cb-b92a-d8bb0b80c7f6",
   "metadata": {},
   "outputs": [
    {
     "name": "stdout",
     "output_type": "stream",
     "text": [
      "%NA for MBDY:  99.16\n"
     ]
    }
   ],
   "source": [
    "# NA value for MBDY\n",
    "print('%NA for MBDY: ', round(MB['MBDY'].isna().sum()/MB.shape[0]*100,2))"
   ]
  },
  {
   "cell_type": "markdown",
   "id": "81b91289-c20e-40f6-afd5-fbf5ae9e7090",
   "metadata": {},
   "source": [
    "**=> To conclud, for MB, we can keep: USUBJID, MBSEQ, MBTESTCD, MBTSTDTL and MBSTRESC**"
   ]
  },
  {
   "cell_type": "code",
   "execution_count": 195,
   "id": "1da78feb-710a-4256-9125-a8531b5550e6",
   "metadata": {},
   "outputs": [
    {
     "data": {
      "text/plain": [
       "Index(['USUBJID', 'MBSEQ', 'MBTESTCD', 'MBTSTDTL', 'MBSTRESC'], dtype='object')"
      ]
     },
     "execution_count": 195,
     "metadata": {},
     "output_type": "execute_result"
    }
   ],
   "source": [
    "# Keep only some columns for MB\n",
    "MB = MB[['USUBJID', 'MBSEQ', 'MBTESTCD', 'MBTSTDTL', 'MBSTRESC']]\n",
    "MB.columns"
   ]
  },
  {
   "cell_type": "code",
   "execution_count": 196,
   "id": "6f18105a-a1f7-4012-8fff-b4d619b143ef",
   "metadata": {},
   "outputs": [
    {
     "data": {
      "text/plain": [
       "(2120772, 5)"
      ]
     },
     "execution_count": 196,
     "metadata": {},
     "output_type": "execute_result"
    }
   ],
   "source": [
    "MB.shape"
   ]
  },
  {
   "cell_type": "markdown",
   "id": "6d21e86f-e6b3-405a-a47f-a1eb7022a0da",
   "metadata": {
    "jp-MarkdownHeadingCollapsed": true,
    "tags": []
   },
   "source": [
    "#### For PO:"
   ]
  },
  {
   "cell_type": "code",
   "execution_count": 197,
   "id": "1a746407-f43b-4b20-bd59-ed6cef71e17d",
   "metadata": {},
   "outputs": [],
   "source": [
    "data_folder = './data/DATA_2022-09-01/'\n",
    "PO = pd.read_csv(data_folder + 'PO_2022-09-01.csv', sep=',', low_memory=False) \n",
    "PO.name = 'PO'"
   ]
  },
  {
   "cell_type": "code",
   "execution_count": 198,
   "id": "bde2913e-b64b-441e-bc54-d69633cdbc4b",
   "metadata": {},
   "outputs": [
    {
     "data": {
      "text/html": [
       "<div>\n",
       "<style scoped>\n",
       "    .dataframe tbody tr th:only-of-type {\n",
       "        vertical-align: middle;\n",
       "    }\n",
       "\n",
       "    .dataframe tbody tr th {\n",
       "        vertical-align: top;\n",
       "    }\n",
       "\n",
       "    .dataframe thead th {\n",
       "        text-align: right;\n",
       "    }\n",
       "</style>\n",
       "<table border=\"1\" class=\"dataframe\">\n",
       "  <thead>\n",
       "    <tr style=\"text-align: right;\">\n",
       "      <th></th>\n",
       "      <th>Variable_Name</th>\n",
       "      <th>Variable_Type</th>\n",
       "      <th>Variable_Definition</th>\n",
       "    </tr>\n",
       "  </thead>\n",
       "  <tbody>\n",
       "    <tr>\n",
       "      <th>519</th>\n",
       "      <td>STUDYID</td>\n",
       "      <td>character</td>\n",
       "      <td>This variable contains the unique identifier for a study. This is the main key/identifier for all domains in the IDDO Data Repository  every domain table will have the STUDYID identifier.</td>\n",
       "    </tr>\n",
       "    <tr>\n",
       "      <th>520</th>\n",
       "      <td>DOMAIN</td>\n",
       "      <td>character</td>\n",
       "      <td>This variable contains the two-character abbreviation for the domain.</td>\n",
       "    </tr>\n",
       "    <tr>\n",
       "      <th>521</th>\n",
       "      <td>USUBJID</td>\n",
       "      <td>character</td>\n",
       "      <td>This variable contains the unique subject identifier for a study. This is a secondary key/identifier for all subject-level domains in the IDDO Data Repository  every domain table containing subject-level information (i.e., all but the Trial Domains) will have the USUBJID identifier. This variable will identify unique subjects in the repository.</td>\n",
       "    </tr>\n",
       "    <tr>\n",
       "      <th>522</th>\n",
       "      <td>POSEQ</td>\n",
       "      <td>number</td>\n",
       "      <td>This variable contains a sequence number to ensure uniqueness of subject records within the domain. Each observation (each recorded as a separate row in the domain) will have a unique number within each subject, e.g., a subject with 10 observations will have 10 rows and each row is numbered sequentially from 1-10.</td>\n",
       "    </tr>\n",
       "    <tr>\n",
       "      <th>523</th>\n",
       "      <td>POTERM</td>\n",
       "      <td>character</td>\n",
       "      <td>This variable contains the verbatim wording of the event as provided by the Data Contributor.</td>\n",
       "    </tr>\n",
       "    <tr>\n",
       "      <th>524</th>\n",
       "      <td>POMODIFY</td>\n",
       "      <td>character</td>\n",
       "      <td>This variable contains a modification of the verbatim wording of the event. This is used to capture IDDO-defined standardised terms of the event.</td>\n",
       "    </tr>\n",
       "    <tr>\n",
       "      <th>525</th>\n",
       "      <td>POCAT</td>\n",
       "      <td>character</td>\n",
       "      <td>This variable contains a categorization of the observation.</td>\n",
       "    </tr>\n",
       "    <tr>\n",
       "      <th>526</th>\n",
       "      <td>POPRESP</td>\n",
       "      <td>character</td>\n",
       "      <td>This variable identifies whether an observation was pre-specified on the CRF. Values are null for spontaneously reported events, i.e. those collected as free-text verbatim terms.</td>\n",
       "    </tr>\n",
       "    <tr>\n",
       "      <th>527</th>\n",
       "      <td>POOCCUR</td>\n",
       "      <td>character</td>\n",
       "      <td>This variable identifies whether or not a pre-specified event has occurred. Values are null for spontaneously reported events.</td>\n",
       "    </tr>\n",
       "    <tr>\n",
       "      <th>528</th>\n",
       "      <td>POSTAT</td>\n",
       "      <td>character</td>\n",
       "      <td>This variable contains information about the status of the observation  specifically that it was not completed when it was expected to have been. This column should be empty when there is a value in the --OCCUR (Events and Interventions Domains) or --ORRES (Findings Domains) variables.</td>\n",
       "    </tr>\n",
       "    <tr>\n",
       "      <th>529</th>\n",
       "      <td>POREASND</td>\n",
       "      <td>character</td>\n",
       "      <td>This variable contains information about the reason why the observation was not completed when it was expected to have been. This column should be populated when there is a value of \"NOT DONE\" in the --STAT variable.</td>\n",
       "    </tr>\n",
       "    <tr>\n",
       "      <th>530</th>\n",
       "      <td>VISITNUM</td>\n",
       "      <td>number</td>\n",
       "      <td>This variable contains a number designating the planned clinical encounter number. This is a numeric version of the visit described in VISIT? and it is used for sorting.</td>\n",
       "    </tr>\n",
       "    <tr>\n",
       "      <th>531</th>\n",
       "      <td>VISIT</td>\n",
       "      <td>character</td>\n",
       "      <td>This variable contains the protocol-defined text description of the planned clinical encounter number (as defined in the Trial Visits (TV) Domain).</td>\n",
       "    </tr>\n",
       "    <tr>\n",
       "      <th>532</th>\n",
       "      <td>VISITDY</td>\n",
       "      <td>number</td>\n",
       "      <td>This variable contains a number designating the Study Day of the planned clinical encounter. This is also a numeric version of the visit described in VISIT? and can be used for sorting.</td>\n",
       "    </tr>\n",
       "    <tr>\n",
       "      <th>533</th>\n",
       "      <td>EPOCH</td>\n",
       "      <td>character</td>\n",
       "      <td>This variable describes the Epoch period of the observation (e.g., Baseline, Treatment, Follow-up).  This is defined by CDISC Controlled Terminology</td>\n",
       "    </tr>\n",
       "    <tr>\n",
       "      <th>534</th>\n",
       "      <td>PODTC</td>\n",
       "      <td>character</td>\n",
       "      <td>This variable contains the date and time of the collection of the observation, administration of a test or collection of a specimen.  This date and time will be provided in ISO 8601 format.</td>\n",
       "    </tr>\n",
       "    <tr>\n",
       "      <th>535</th>\n",
       "      <td>POSTDTC</td>\n",
       "      <td>character</td>\n",
       "      <td>This variable contains the start date and time of the observation or initiation of the event (as opposed to the date the question about the observation/event was asked). This date and time will be provided in ISO 8601 format.</td>\n",
       "    </tr>\n",
       "    <tr>\n",
       "      <th>536</th>\n",
       "      <td>POENDTC</td>\n",
       "      <td>character</td>\n",
       "      <td>This variable contains the end date and time of the observation or cessation of event. This date and time will be provided in ISO 8601 format.</td>\n",
       "    </tr>\n",
       "    <tr>\n",
       "      <th>537</th>\n",
       "      <td>PODY</td>\n",
       "      <td>number</td>\n",
       "      <td>This variable describes the study day of the observation relative to the date in RFSTDTC.  This will be blank for records with no value in the --DTC variable.</td>\n",
       "    </tr>\n",
       "    <tr>\n",
       "      <th>538</th>\n",
       "      <td>POSTDY</td>\n",
       "      <td>number</td>\n",
       "      <td>This variable describes the study day of the start of the observation relative to the date in RFSTDTC.  This will be blank for records with no value in the --STDTC variable.</td>\n",
       "    </tr>\n",
       "    <tr>\n",
       "      <th>539</th>\n",
       "      <td>POENDY</td>\n",
       "      <td>number</td>\n",
       "      <td>This variable describes the study day of the end of the observation relative to the date in RFSTDTC.  This will be blank for records with no value in the --ENDTC variable.</td>\n",
       "    </tr>\n",
       "    <tr>\n",
       "      <th>540</th>\n",
       "      <td>POSTRF</td>\n",
       "      <td>character</td>\n",
       "      <td>This variable describes when the start of the observation happened in relation to the date recorded in RFSTDTC, e.g. BEFORE, DURING or AFTER.</td>\n",
       "    </tr>\n",
       "    <tr>\n",
       "      <th>541</th>\n",
       "      <td>POENRF</td>\n",
       "      <td>character</td>\n",
       "      <td>This variable describes when the end of the observation happened in relation to the date recorded in RFSTDTC, e.g. BEFORE, DURING or AFTER.</td>\n",
       "    </tr>\n",
       "    <tr>\n",
       "      <th>542</th>\n",
       "      <td>POFETNUM</td>\n",
       "      <td>number</td>\n",
       "      <td>This variable identifies how many foetuses/infants were involved in the pregnancy.</td>\n",
       "    </tr>\n",
       "    <tr>\n",
       "      <th>543</th>\n",
       "      <td>POFTINID</td>\n",
       "      <td>number</td>\n",
       "      <td>This variable identifies which foetus/infant from a pregnancy other than a singleton, the event in POTERM is referring to.</td>\n",
       "    </tr>\n",
       "    <tr>\n",
       "      <th>544</th>\n",
       "      <td>POMODDLV</td>\n",
       "      <td>character</td>\n",
       "      <td>This variable describes the mode of delivery of the infant(s).</td>\n",
       "    </tr>\n",
       "    <tr>\n",
       "      <th>545</th>\n",
       "      <td>POSETTNG</td>\n",
       "      <td>character</td>\n",
       "      <td>This variable describes the setting for the event where POCAT is \"PREGNANCY OUTCOME\".</td>\n",
       "    </tr>\n",
       "  </tbody>\n",
       "</table>\n",
       "</div>"
      ],
      "text/plain": [
       "    Variable_Name Variable_Type  \\\n",
       "519       STUDYID     character   \n",
       "520        DOMAIN     character   \n",
       "521       USUBJID     character   \n",
       "522         POSEQ        number   \n",
       "523        POTERM     character   \n",
       "524      POMODIFY     character   \n",
       "525         POCAT     character   \n",
       "526       POPRESP     character   \n",
       "527       POOCCUR     character   \n",
       "528        POSTAT     character   \n",
       "529      POREASND     character   \n",
       "530      VISITNUM        number   \n",
       "531         VISIT     character   \n",
       "532       VISITDY        number   \n",
       "533         EPOCH     character   \n",
       "534         PODTC     character   \n",
       "535       POSTDTC     character   \n",
       "536       POENDTC     character   \n",
       "537          PODY        number   \n",
       "538        POSTDY        number   \n",
       "539        POENDY        number   \n",
       "540        POSTRF     character   \n",
       "541        POENRF     character   \n",
       "542      POFETNUM        number   \n",
       "543      POFTINID        number   \n",
       "544      POMODDLV     character   \n",
       "545      POSETTNG     character   \n",
       "\n",
       "                                                                                                                                                                                                                                                                                                                                             Variable_Definition  \n",
       "519                                                                                                                                                                 This variable contains the unique identifier for a study. This is the main key/identifier for all domains in the IDDO Data Repository  every domain table will have the STUDYID identifier.  \n",
       "520                                                                                                                                                                                                                                                                                        This variable contains the two-character abbreviation for the domain.  \n",
       "521  This variable contains the unique subject identifier for a study. This is a secondary key/identifier for all subject-level domains in the IDDO Data Repository  every domain table containing subject-level information (i.e., all but the Trial Domains) will have the USUBJID identifier. This variable will identify unique subjects in the repository.  \n",
       "522                                  This variable contains a sequence number to ensure uniqueness of subject records within the domain. Each observation (each recorded as a separate row in the domain) will have a unique number within each subject, e.g., a subject with 10 observations will have 10 rows and each row is numbered sequentially from 1-10.  \n",
       "523                                                                                                                                                                                                                                                                This variable contains the verbatim wording of the event as provided by the Data Contributor.  \n",
       "524                                                                                                                                                                                                            This variable contains a modification of the verbatim wording of the event. This is used to capture IDDO-defined standardised terms of the event.  \n",
       "525                                                                                                                                                                                                                                                                                                  This variable contains a categorization of the observation.  \n",
       "526                                                                                                                                                                           This variable identifies whether an observation was pre-specified on the CRF. Values are null for spontaneously reported events, i.e. those collected as free-text verbatim terms.  \n",
       "527                                                                                                                                                                                                                               This variable identifies whether or not a pre-specified event has occurred. Values are null for spontaneously reported events.  \n",
       "528                                                             This variable contains information about the status of the observation  specifically that it was not completed when it was expected to have been. This column should be empty when there is a value in the --OCCUR (Events and Interventions Domains) or --ORRES (Findings Domains) variables.   \n",
       "529                                                                                                                                     This variable contains information about the reason why the observation was not completed when it was expected to have been. This column should be populated when there is a value of \"NOT DONE\" in the --STAT variable.  \n",
       "530                                                                                                                                                                                   This variable contains a number designating the planned clinical encounter number. This is a numeric version of the visit described in VISIT? and it is used for sorting.   \n",
       "531                                                                                                                                                                                                          This variable contains the protocol-defined text description of the planned clinical encounter number (as defined in the Trial Visits (TV) Domain).  \n",
       "532                                                                                                                                                                    This variable contains a number designating the Study Day of the planned clinical encounter. This is also a numeric version of the visit described in VISIT? and can be used for sorting.  \n",
       "533                                                                                                                                                                                                         This variable describes the Epoch period of the observation (e.g., Baseline, Treatment, Follow-up).  This is defined by CDISC Controlled Terminology  \n",
       "534                                                                                                                                                                This variable contains the date and time of the collection of the observation, administration of a test or collection of a specimen.  This date and time will be provided in ISO 8601 format.  \n",
       "535                                                                                                                            This variable contains the start date and time of the observation or initiation of the event (as opposed to the date the question about the observation/event was asked). This date and time will be provided in ISO 8601 format.  \n",
       "536                                                                                                                                                                                                               This variable contains the end date and time of the observation or cessation of event. This date and time will be provided in ISO 8601 format.  \n",
       "537                                                                                                                                                                                               This variable describes the study day of the observation relative to the date in RFSTDTC.  This will be blank for records with no value in the --DTC variable.  \n",
       "538                                                                                                                                                                                This variable describes the study day of the start of the observation relative to the date in RFSTDTC.  This will be blank for records with no value in the --STDTC variable.  \n",
       "539                                                                                                                                                                                  This variable describes the study day of the end of the observation relative to the date in RFSTDTC.  This will be blank for records with no value in the --ENDTC variable.  \n",
       "540                                                                                                                                                                                                                This variable describes when the start of the observation happened in relation to the date recorded in RFSTDTC, e.g. BEFORE, DURING or AFTER.  \n",
       "541                                                                                                                                                                                                                  This variable describes when the end of the observation happened in relation to the date recorded in RFSTDTC, e.g. BEFORE, DURING or AFTER.  \n",
       "542                                                                                                                                                                                                                                                                           This variable identifies how many foetuses/infants were involved in the pregnancy.  \n",
       "543                                                                                                                                                                                                                                   This variable identifies which foetus/infant from a pregnancy other than a singleton, the event in POTERM is referring to.  \n",
       "544                                                                                                                                                                                                                                                                                               This variable describes the mode of delivery of the infant(s).  \n",
       "545                                                                                                                                                                                                                                                                        This variable describes the setting for the event where POCAT is \"PREGNANCY OUTCOME\".  "
      ]
     },
     "execution_count": 198,
     "metadata": {},
     "output_type": "execute_result"
    }
   ],
   "source": [
    "# See variables for PO\n",
    "pd.set_option(\"display.max_colwidth\", 1000)\n",
    "data_description.loc[data_description.Domain==PO.name, ['Variable_Name', 'Variable_Type', 'Variable_Definition']]"
   ]
  },
  {
   "cell_type": "code",
   "execution_count": 199,
   "id": "b285ba64-ee6b-4bb2-afdf-1e29269104f7",
   "metadata": {},
   "outputs": [
    {
     "data": {
      "text/plain": [
       "Index(['STUDYID', 'DOMAIN', 'USUBJID', 'POSEQ', 'POTERM', 'POCAT', 'VISITNUM',\n",
       "       'VISIT', 'VISITDY', 'PODY', 'POSTDY', 'POENDY'],\n",
       "      dtype='object')"
      ]
     },
     "execution_count": 199,
     "metadata": {},
     "output_type": "execute_result"
    }
   ],
   "source": [
    "# Columns really in PO\n",
    "PO.columns"
   ]
  },
  {
   "cell_type": "code",
   "execution_count": 200,
   "id": "da584bd9-4023-46c6-9b07-c25efdce72fb",
   "metadata": {},
   "outputs": [
    {
     "name": "stdout",
     "output_type": "stream",
     "text": [
      "Values for var:  ['Live Birth' 'Pregnancy' 'UNKNOWN' 'Stillbirth' 'Born Alive']\n"
     ]
    }
   ],
   "source": [
    "# Investigate POTERM\n",
    "print('Values for var: ', PO['POTERM'].unique())"
   ]
  },
  {
   "cell_type": "markdown",
   "id": "c8cccce4-dddc-4ae4-93ed-2af7a57a67af",
   "metadata": {},
   "source": [
    "The only important thing is that the person is pregnant, as the outcome of the delivery is always the same. However, this information is already in the RP table so nothing will be kept from PO."
   ]
  },
  {
   "cell_type": "markdown",
   "id": "65db852c-4576-47aa-9b7d-6c09e1ee22a4",
   "metadata": {},
   "source": [
    "**=> To conclud, for PO, we can keep nothing.**"
   ]
  },
  {
   "cell_type": "markdown",
   "id": "51be0cd7-330c-41e5-985a-db0ac6a63e37",
   "metadata": {
    "jp-MarkdownHeadingCollapsed": true,
    "tags": []
   },
   "source": [
    "#### For RELREC:"
   ]
  },
  {
   "cell_type": "code",
   "execution_count": 201,
   "id": "e8677ac0-7ec6-494f-b0ec-31e841e99682",
   "metadata": {},
   "outputs": [],
   "source": [
    "data_folder = './data/DATA_2022-09-01/'\n",
    "RELREC = pd.read_csv(data_folder + 'RELREC_2022-09-01.csv', sep=',', low_memory=False) \n",
    "RELREC.name = 'RELREC'"
   ]
  },
  {
   "cell_type": "code",
   "execution_count": 202,
   "id": "9b7281e3-21f8-4cc0-91db-ed76c5649e35",
   "metadata": {},
   "outputs": [
    {
     "data": {
      "text/html": [
       "<div>\n",
       "<style scoped>\n",
       "    .dataframe tbody tr th:only-of-type {\n",
       "        vertical-align: middle;\n",
       "    }\n",
       "\n",
       "    .dataframe tbody tr th {\n",
       "        vertical-align: top;\n",
       "    }\n",
       "\n",
       "    .dataframe thead th {\n",
       "        text-align: right;\n",
       "    }\n",
       "</style>\n",
       "<table border=\"1\" class=\"dataframe\">\n",
       "  <thead>\n",
       "    <tr style=\"text-align: right;\">\n",
       "      <th></th>\n",
       "      <th>Variable_Name</th>\n",
       "      <th>Variable_Type</th>\n",
       "      <th>Variable_Definition</th>\n",
       "    </tr>\n",
       "  </thead>\n",
       "  <tbody>\n",
       "    <tr>\n",
       "      <th>600</th>\n",
       "      <td>STUDYID</td>\n",
       "      <td>character</td>\n",
       "      <td>This variable contains the unique identifier for a study. This is the main key/identifier for all domains in the IDDO Data Repository  every domain table will have the STUDYID identifier.</td>\n",
       "    </tr>\n",
       "    <tr>\n",
       "      <th>601</th>\n",
       "      <td>USUBJID</td>\n",
       "      <td>character</td>\n",
       "      <td>This variable contains the unique subject identifier for a study. This is a secondary key/identifier for all subject-level domains in the IDDO Data Repository  every domain table containing subject-level information (i.e., all but the Trial Domains) will have the USUBJID identifier. This variable will identify unique subjects in the repository.</td>\n",
       "    </tr>\n",
       "    <tr>\n",
       "      <th>602</th>\n",
       "      <td>RSUBJID</td>\n",
       "      <td>character</td>\n",
       "      <td>This variable contains the related unique subject identifier from the same or another study.</td>\n",
       "    </tr>\n",
       "    <tr>\n",
       "      <th>603</th>\n",
       "      <td>RELREC</td>\n",
       "      <td>character</td>\n",
       "      <td>This variable contains the patient relationship type between the identifier contained in USUBJID and the identifier contained in RSUBJID. This is defined by IDDO Controlled Terminology.</td>\n",
       "    </tr>\n",
       "  </tbody>\n",
       "</table>\n",
       "</div>"
      ],
      "text/plain": [
       "    Variable_Name Variable_Type  \\\n",
       "600       STUDYID     character   \n",
       "601       USUBJID     character   \n",
       "602       RSUBJID     character   \n",
       "603        RELREC     character   \n",
       "\n",
       "                                                                                                                                                                                                                                                                                                                                             Variable_Definition  \n",
       "600                                                                                                                                                                 This variable contains the unique identifier for a study. This is the main key/identifier for all domains in the IDDO Data Repository  every domain table will have the STUDYID identifier.  \n",
       "601  This variable contains the unique subject identifier for a study. This is a secondary key/identifier for all subject-level domains in the IDDO Data Repository  every domain table containing subject-level information (i.e., all but the Trial Domains) will have the USUBJID identifier. This variable will identify unique subjects in the repository.  \n",
       "602                                                                                                                                                                                                                                                                 This variable contains the related unique subject identifier from the same or another study.  \n",
       "603                                                                                                                                                                    This variable contains the patient relationship type between the identifier contained in USUBJID and the identifier contained in RSUBJID. This is defined by IDDO Controlled Terminology.  "
      ]
     },
     "execution_count": 202,
     "metadata": {},
     "output_type": "execute_result"
    }
   ],
   "source": [
    "# See variables for RELREC\n",
    "pd.set_option(\"display.max_colwidth\", 1000)\n",
    "data_description.loc[data_description.Domain==RELREC.name, ['Variable_Name', 'Variable_Type', 'Variable_Definition']]"
   ]
  },
  {
   "cell_type": "code",
   "execution_count": 203,
   "id": "cb68ffe0-44d1-49ce-b5d9-f300647cb293",
   "metadata": {},
   "outputs": [
    {
     "data": {
      "text/plain": [
       "Index(['STUDYID', 'USUBJID', 'RSUBJID', 'RELREC'], dtype='object')"
      ]
     },
     "execution_count": 203,
     "metadata": {},
     "output_type": "execute_result"
    }
   ],
   "source": [
    "# Columns really in RELREC\n",
    "RELREC.columns"
   ]
  },
  {
   "cell_type": "code",
   "execution_count": 204,
   "id": "9c9ae377-0a3d-44af-8554-89b5c6eb3535",
   "metadata": {},
   "outputs": [
    {
     "name": "stdout",
     "output_type": "stream",
     "text": [
      "Values for var:  ['SAME']\n"
     ]
    }
   ],
   "source": [
    "# Investigate var\n",
    "print('Values for var: ', RELREC['RELREC'].unique())"
   ]
  },
  {
   "cell_type": "markdown",
   "id": "4e8468f8-2093-4c35-a3d0-50c020748595",
   "metadata": {},
   "source": [
    "**=> To conclud, for RELREC, we can keep nothing.**"
   ]
  },
  {
   "cell_type": "markdown",
   "id": "2a47d3bb-407f-40f1-bdd5-84fb0553e064",
   "metadata": {
    "jp-MarkdownHeadingCollapsed": true,
    "tags": []
   },
   "source": [
    "#### For RP:"
   ]
  },
  {
   "cell_type": "code",
   "execution_count": 205,
   "id": "a31d46b1-8354-469f-b962-3097faf59c3a",
   "metadata": {},
   "outputs": [],
   "source": [
    "data_folder = './data/DATA_2022-09-01/'\n",
    "RP = pd.read_csv(data_folder + 'RP_2022-09-01.csv', sep=',', low_memory=False) \n",
    "RP.name = 'RP'"
   ]
  },
  {
   "cell_type": "code",
   "execution_count": 206,
   "id": "d823bc69-538e-41f4-a5ef-3f376e838727",
   "metadata": {},
   "outputs": [
    {
     "data": {
      "text/html": [
       "<div>\n",
       "<style scoped>\n",
       "    .dataframe tbody tr th:only-of-type {\n",
       "        vertical-align: middle;\n",
       "    }\n",
       "\n",
       "    .dataframe tbody tr th {\n",
       "        vertical-align: top;\n",
       "    }\n",
       "\n",
       "    .dataframe thead th {\n",
       "        text-align: right;\n",
       "    }\n",
       "</style>\n",
       "<table border=\"1\" class=\"dataframe\">\n",
       "  <thead>\n",
       "    <tr style=\"text-align: right;\">\n",
       "      <th></th>\n",
       "      <th>Variable_Name</th>\n",
       "      <th>Variable_Type</th>\n",
       "      <th>Variable_Definition</th>\n",
       "    </tr>\n",
       "  </thead>\n",
       "  <tbody>\n",
       "    <tr>\n",
       "      <th>604</th>\n",
       "      <td>STUDYID</td>\n",
       "      <td>character</td>\n",
       "      <td>This variable contains the unique identifier for a study. This is the main key/identifier for all domains in the IDDO Data Repository  every domain table will have the STUDYID identifier.</td>\n",
       "    </tr>\n",
       "    <tr>\n",
       "      <th>605</th>\n",
       "      <td>DOMAIN</td>\n",
       "      <td>character</td>\n",
       "      <td>This variable contains the two-character abbreviation for the domain.</td>\n",
       "    </tr>\n",
       "    <tr>\n",
       "      <th>606</th>\n",
       "      <td>USUBJID</td>\n",
       "      <td>character</td>\n",
       "      <td>This variable contains the unique subject identifier for a study. This is a secondary key/identifier for all subject-level domains in the IDDO Data Repository  every domain table containing subject-level information (i.e., all but the Trial Domains) will have the USUBJID identifier. This variable will identify unique subjects in the repository.</td>\n",
       "    </tr>\n",
       "    <tr>\n",
       "      <th>607</th>\n",
       "      <td>RPSEQ</td>\n",
       "      <td>number</td>\n",
       "      <td>This variable contains a sequence number to ensure uniqueness of subject records within the domain. Each observation (each recorded as a separate row in the domain) will have a unique number within each subject, e.g., a subject with 10 observations will have 10 rows and each row is numbered sequentially from 1-10.</td>\n",
       "    </tr>\n",
       "    <tr>\n",
       "      <th>608</th>\n",
       "      <td>RPTESTCD</td>\n",
       "      <td>character</td>\n",
       "      <td>This variable identifies the shortened code for the name of the test or examination performed. This is defined by CDISC Controlled Terminology.</td>\n",
       "    </tr>\n",
       "    <tr>\n",
       "      <th>609</th>\n",
       "      <td>RPTEST</td>\n",
       "      <td>character</td>\n",
       "      <td>This variable identifies the name of the test or examination performed. This is defined by CDISC Controlled Terminology.</td>\n",
       "    </tr>\n",
       "    <tr>\n",
       "      <th>610</th>\n",
       "      <td>RPCAT</td>\n",
       "      <td>character</td>\n",
       "      <td>This variable contains a categorization of the observation.</td>\n",
       "    </tr>\n",
       "    <tr>\n",
       "      <th>611</th>\n",
       "      <td>RPSCAT</td>\n",
       "      <td>character</td>\n",
       "      <td>This variable contains a further categorization of the observation.</td>\n",
       "    </tr>\n",
       "    <tr>\n",
       "      <th>612</th>\n",
       "      <td>RPORRES</td>\n",
       "      <td>character</td>\n",
       "      <td>This variable contains the result of the test or examination performed as provided by the data contributor. The original data can be either numericm e.g. \"503\" or string, e.g., \"Positive\".</td>\n",
       "    </tr>\n",
       "    <tr>\n",
       "      <th>613</th>\n",
       "      <td>RPORRESU</td>\n",
       "      <td>character</td>\n",
       "      <td>This variable contains the unit for the result of the test or examination performed as provided by the data contributor. This is defined by CDISC Controlled Terminology.</td>\n",
       "    </tr>\n",
       "    <tr>\n",
       "      <th>614</th>\n",
       "      <td>RPSTRESC</td>\n",
       "      <td>character</td>\n",
       "      <td>This variable contains the converted, standardized result of the test or examination performed. The data can be either numeric, e.g. \"503\", or string, e.g. \"Positive\", and is stored as a string in the repository. The standard units and conversion formulas (as applicable) are described in detail in the IDDO Implementation Guide in the relevant sections about the variable --STRESU.</td>\n",
       "    </tr>\n",
       "    <tr>\n",
       "      <th>615</th>\n",
       "      <td>RPSTRESN</td>\n",
       "      <td>number</td>\n",
       "      <td>This variable contains the converted, standardized result of the test or examination performed when the result is numeric. This variable is a direct copy of the numeric values found in --STRESC. String/character-based results, e.g. \"Positive\", do not appear.</td>\n",
       "    </tr>\n",
       "    <tr>\n",
       "      <th>616</th>\n",
       "      <td>RPSTRESU</td>\n",
       "      <td>character</td>\n",
       "      <td>This variable contains the unit for the converted, standardized result of the test or examination performed. The IDDO-Defined Standard Units for each test or examination are described in detail in the IDDO Implementation Guide.</td>\n",
       "    </tr>\n",
       "    <tr>\n",
       "      <th>617</th>\n",
       "      <td>RPSTAT</td>\n",
       "      <td>character</td>\n",
       "      <td>This variable contains information about the status of the observation  specifically that it was not completed when it was expected to have been. This column should be empty when there is a value in the --OCCUR (Events and Interventions Domains) or --ORRES (Findings Domains) variables.</td>\n",
       "    </tr>\n",
       "    <tr>\n",
       "      <th>618</th>\n",
       "      <td>RPREASND</td>\n",
       "      <td>character</td>\n",
       "      <td>This variable contains information about the reason why the observation was not completed when it was expected to have been. This column should be populated when there is a value of \"NOT DONE\" in the --STAT variable.</td>\n",
       "    </tr>\n",
       "    <tr>\n",
       "      <th>619</th>\n",
       "      <td>RPMETHOD</td>\n",
       "      <td>character</td>\n",
       "      <td>This variable contains information about the method used for the test or examination. This is defined by CDISC Controlled Terminology.</td>\n",
       "    </tr>\n",
       "    <tr>\n",
       "      <th>620</th>\n",
       "      <td>VISITNUM</td>\n",
       "      <td>number</td>\n",
       "      <td>This variable contains a number designating the planned clinical encounter number. This is a numeric version of the visit described in VISIT? and it is used for sorting.</td>\n",
       "    </tr>\n",
       "    <tr>\n",
       "      <th>621</th>\n",
       "      <td>VISIT</td>\n",
       "      <td>character</td>\n",
       "      <td>This variable contains the protocol-defined text description of the planned clinical encounter number (as defined in the Trial Visits (TV) Domain).</td>\n",
       "    </tr>\n",
       "    <tr>\n",
       "      <th>622</th>\n",
       "      <td>VISITDY</td>\n",
       "      <td>number</td>\n",
       "      <td>This variable contains a number designating the Study Day of the planned clinical encounter. This is also a numeric version of the visit described in VISIT? and can be used for sorting.</td>\n",
       "    </tr>\n",
       "    <tr>\n",
       "      <th>623</th>\n",
       "      <td>EPOCH</td>\n",
       "      <td>character</td>\n",
       "      <td>This variable describes the Epoch period of the observation (e.g., Baseline, Treatment, Follow-up).  This is defined by CDISC Controlled Terminology</td>\n",
       "    </tr>\n",
       "    <tr>\n",
       "      <th>624</th>\n",
       "      <td>RPDTC</td>\n",
       "      <td>character</td>\n",
       "      <td>This variable contains the date and time of the collection of the observation, administration of a test or collection of a specimen.  This date and time will be provided in ISO 8601 format.</td>\n",
       "    </tr>\n",
       "    <tr>\n",
       "      <th>625</th>\n",
       "      <td>RPDY</td>\n",
       "      <td>number</td>\n",
       "      <td>This variable describes the study day of the observation relative to the date in RFSTDTC.  This will be blank for records with no value in the --DTC variable.</td>\n",
       "    </tr>\n",
       "    <tr>\n",
       "      <th>626</th>\n",
       "      <td>RPDUR</td>\n",
       "      <td>character</td>\n",
       "      <td>This variable contains information about the duration of the observation. This is only if collected on the CRF and not derived. This is collected in ISO 8601 format.</td>\n",
       "    </tr>\n",
       "    <tr>\n",
       "      <th>627</th>\n",
       "      <td>RPTPT</td>\n",
       "      <td>character</td>\n",
       "      <td>This variable describes when the observation should have happened as defined in the study protocol. This may be represented as an elapsed time relative to a fixed reference point described in --TPTREF.</td>\n",
       "    </tr>\n",
       "    <tr>\n",
       "      <th>628</th>\n",
       "      <td>RPTPTREF</td>\n",
       "      <td>character</td>\n",
       "      <td>This variable contains the name of the fixed reference point referred to by --TPT, --ELTM, e.g. PREVIOUS DOSE, PREVIOUS MEAL.</td>\n",
       "    </tr>\n",
       "    <tr>\n",
       "      <th>629</th>\n",
       "      <td>RPSTRF</td>\n",
       "      <td>character</td>\n",
       "      <td>This variable describes when the start of the observation happened in relation to the date recorded in RFSTDTC, e.g. BEFORE, DURING or AFTER.</td>\n",
       "    </tr>\n",
       "    <tr>\n",
       "      <th>630</th>\n",
       "      <td>RPEVINTX</td>\n",
       "      <td>character</td>\n",
       "      <td>This variable contains information about the evaluation interval associated with an observation when it cannot be represented in ISO 8601 format (e.g., \"Last few weeks\", \"While hospitalized\").</td>\n",
       "    </tr>\n",
       "    <tr>\n",
       "      <th>631</th>\n",
       "      <td>RPSTRTPT</td>\n",
       "      <td>character</td>\n",
       "      <td>This variable describes when the start of the observation happened in relation to the point described in --STTPT, e.g. BEFORE, DURING or AFTER.</td>\n",
       "    </tr>\n",
       "    <tr>\n",
       "      <th>632</th>\n",
       "      <td>RPSTTPT</td>\n",
       "      <td>character</td>\n",
       "      <td>This variable contains the name of the fixed reference point referred to by --STRTPT, e.g. PREVIOUS DOSE, 2003-12-15.</td>\n",
       "    </tr>\n",
       "    <tr>\n",
       "      <th>633</th>\n",
       "      <td>RPCDSTDY</td>\n",
       "      <td>number</td>\n",
       "      <td>This variable contains the contributor-defined study day expressed in integer days relative to the start of the study. This variable is used when no dates are provided, only a contributor-defined proxy.</td>\n",
       "    </tr>\n",
       "  </tbody>\n",
       "</table>\n",
       "</div>"
      ],
      "text/plain": [
       "    Variable_Name Variable_Type  \\\n",
       "604       STUDYID     character   \n",
       "605        DOMAIN     character   \n",
       "606       USUBJID     character   \n",
       "607         RPSEQ        number   \n",
       "608      RPTESTCD     character   \n",
       "609        RPTEST     character   \n",
       "610         RPCAT     character   \n",
       "611        RPSCAT     character   \n",
       "612       RPORRES     character   \n",
       "613      RPORRESU     character   \n",
       "614      RPSTRESC     character   \n",
       "615      RPSTRESN        number   \n",
       "616      RPSTRESU     character   \n",
       "617        RPSTAT     character   \n",
       "618      RPREASND     character   \n",
       "619      RPMETHOD     character   \n",
       "620      VISITNUM        number   \n",
       "621         VISIT     character   \n",
       "622       VISITDY        number   \n",
       "623         EPOCH     character   \n",
       "624         RPDTC     character   \n",
       "625          RPDY        number   \n",
       "626         RPDUR     character   \n",
       "627         RPTPT     character   \n",
       "628      RPTPTREF     character   \n",
       "629        RPSTRF     character   \n",
       "630      RPEVINTX     character   \n",
       "631      RPSTRTPT     character   \n",
       "632       RPSTTPT     character   \n",
       "633      RPCDSTDY        number   \n",
       "\n",
       "                                                                                                                                                                                                                                                                                                                                                                                Variable_Definition  \n",
       "604                                                                                                                                                                                                    This variable contains the unique identifier for a study. This is the main key/identifier for all domains in the IDDO Data Repository  every domain table will have the STUDYID identifier.  \n",
       "605                                                                                                                                                                                                                                                                                                                           This variable contains the two-character abbreviation for the domain.  \n",
       "606                                     This variable contains the unique subject identifier for a study. This is a secondary key/identifier for all subject-level domains in the IDDO Data Repository  every domain table containing subject-level information (i.e., all but the Trial Domains) will have the USUBJID identifier. This variable will identify unique subjects in the repository.  \n",
       "607                                                                     This variable contains a sequence number to ensure uniqueness of subject records within the domain. Each observation (each recorded as a separate row in the domain) will have a unique number within each subject, e.g., a subject with 10 observations will have 10 rows and each row is numbered sequentially from 1-10.  \n",
       "608                                                                                                                                                                                                                                                 This variable identifies the shortened code for the name of the test or examination performed. This is defined by CDISC Controlled Terminology.  \n",
       "609                                                                                                                                                                                                                                                                        This variable identifies the name of the test or examination performed. This is defined by CDISC Controlled Terminology.  \n",
       "610                                                                                                                                                                                                                                                                                                                                     This variable contains a categorization of the observation.  \n",
       "611                                                                                                                                                                                                                                                                                                                             This variable contains a further categorization of the observation.  \n",
       "612                                                                                                                                                                                                    This variable contains the result of the test or examination performed as provided by the data contributor. The original data can be either numericm e.g. \"503\" or string, e.g., \"Positive\".  \n",
       "613                                                                                                                                                                                                                       This variable contains the unit for the result of the test or examination performed as provided by the data contributor. This is defined by CDISC Controlled Terminology.  \n",
       "614  This variable contains the converted, standardized result of the test or examination performed. The data can be either numeric, e.g. \"503\", or string, e.g. \"Positive\", and is stored as a string in the repository. The standard units and conversion formulas (as applicable) are described in detail in the IDDO Implementation Guide in the relevant sections about the variable --STRESU.  \n",
       "615                                                                                                                              This variable contains the converted, standardized result of the test or examination performed when the result is numeric. This variable is a direct copy of the numeric values found in --STRESC. String/character-based results, e.g. \"Positive\", do not appear.  \n",
       "616                                                                                                                                                             This variable contains the unit for the converted, standardized result of the test or examination performed. The IDDO-Defined Standard Units for each test or examination are described in detail in the IDDO Implementation Guide.  \n",
       "617                                                                                                This variable contains information about the status of the observation  specifically that it was not completed when it was expected to have been. This column should be empty when there is a value in the --OCCUR (Events and Interventions Domains) or --ORRES (Findings Domains) variables.   \n",
       "618                                                                                                                                                                        This variable contains information about the reason why the observation was not completed when it was expected to have been. This column should be populated when there is a value of \"NOT DONE\" in the --STAT variable.  \n",
       "619                                                                                                                                                                                                                                                          This variable contains information about the method used for the test or examination. This is defined by CDISC Controlled Terminology.  \n",
       "620                                                                                                                                                                                                                      This variable contains a number designating the planned clinical encounter number. This is a numeric version of the visit described in VISIT? and it is used for sorting.   \n",
       "621                                                                                                                                                                                                                                             This variable contains the protocol-defined text description of the planned clinical encounter number (as defined in the Trial Visits (TV) Domain).  \n",
       "622                                                                                                                                                                                                       This variable contains a number designating the Study Day of the planned clinical encounter. This is also a numeric version of the visit described in VISIT? and can be used for sorting.  \n",
       "623                                                                                                                                                                                                                                            This variable describes the Epoch period of the observation (e.g., Baseline, Treatment, Follow-up).  This is defined by CDISC Controlled Terminology  \n",
       "624                                                                                                                                                                                                   This variable contains the date and time of the collection of the observation, administration of a test or collection of a specimen.  This date and time will be provided in ISO 8601 format.  \n",
       "625                                                                                                                                                                                                                                  This variable describes the study day of the observation relative to the date in RFSTDTC.  This will be blank for records with no value in the --DTC variable.  \n",
       "626                                                                                                                                                                                                                           This variable contains information about the duration of the observation. This is only if collected on the CRF and not derived. This is collected in ISO 8601 format.  \n",
       "627                                                                                                                                                                                      This variable describes when the observation should have happened as defined in the study protocol. This may be represented as an elapsed time relative to a fixed reference point described in --TPTREF.   \n",
       "628                                                                                                                                                                                                                                                                   This variable contains the name of the fixed reference point referred to by --TPT, --ELTM, e.g. PREVIOUS DOSE, PREVIOUS MEAL.  \n",
       "629                                                                                                                                                                                                                                                   This variable describes when the start of the observation happened in relation to the date recorded in RFSTDTC, e.g. BEFORE, DURING or AFTER.  \n",
       "630                                                                                                                                                                                                This variable contains information about the evaluation interval associated with an observation when it cannot be represented in ISO 8601 format (e.g., \"Last few weeks\", \"While hospitalized\").  \n",
       "631                                                                                                                                                                                                                                                 This variable describes when the start of the observation happened in relation to the point described in --STTPT, e.g. BEFORE, DURING or AFTER.  \n",
       "632                                                                                                                                                                                                                                                                           This variable contains the name of the fixed reference point referred to by --STRTPT, e.g. PREVIOUS DOSE, 2003-12-15.  \n",
       "633                                                                                                                                                                                     This variable contains the contributor-defined study day expressed in integer days relative to the start of the study. This variable is used when no dates are provided, only a contributor-defined proxy.   "
      ]
     },
     "execution_count": 206,
     "metadata": {},
     "output_type": "execute_result"
    }
   ],
   "source": [
    "# See variables for RP\n",
    "pd.set_option(\"display.max_colwidth\", 1000)\n",
    "data_description.loc[data_description.Domain==RP.name, ['Variable_Name', 'Variable_Type', 'Variable_Definition']]"
   ]
  },
  {
   "cell_type": "code",
   "execution_count": 207,
   "id": "23cffbbd-0c90-429e-9416-71aa8722a7f7",
   "metadata": {},
   "outputs": [
    {
     "data": {
      "text/plain": [
       "Index(['STUDYID', 'DOMAIN', 'USUBJID', 'RPSEQ', 'RPTESTCD', 'RPTEST',\n",
       "       'RPORRES', 'RPORRESU', 'RPSTRESC', 'RPSTRESN', 'RPSTRESU', 'RPSTAT',\n",
       "       'RPREASND', 'VISITNUM', 'VISIT', 'VISITDY', 'RPDY'],\n",
       "      dtype='object')"
      ]
     },
     "execution_count": 207,
     "metadata": {},
     "output_type": "execute_result"
    }
   ],
   "source": [
    "# Columns really in RP\n",
    "RP.columns"
   ]
  },
  {
   "cell_type": "code",
   "execution_count": 208,
   "id": "4aace1e9-8f9b-4729-859f-bbd4470c20ca",
   "metadata": {},
   "outputs": [
    {
     "name": "stdout",
     "output_type": "stream",
     "text": [
      "Values for RPTESTCD:  ['PREGIND' 'EGESTAGE']\n"
     ]
    }
   ],
   "source": [
    "# Investigate RPTESTCD\n",
    "print('Values for RPTESTCD: ', RP['RPTESTCD'].unique())"
   ]
  },
  {
   "cell_type": "code",
   "execution_count": 209,
   "id": "12938712-4232-4c99-b531-7279dfb326af",
   "metadata": {},
   "outputs": [
    {
     "name": "stdout",
     "output_type": "stream",
     "text": [
      "Values for RPSTRESC:  [nan 'N' '27' 'Y' 'U' '40' '36' '25' '30' '39' '37' '22' '31' '20' '24'\n",
      " '26' '3' '28' '32' '12' '38' '33' '23' '9' '8' '13' '29' '18' '41' '35'\n",
      " '34.00' '37.00' '38.00' '33.00' '40.00' '7.00' '41.00' '28.00' '32.00'\n",
      " '00.06' '25.00' '38.01' '40.02' '40.04' '40.01' '37.02' '34.06' '39.00'\n",
      " '8.00' '41.60' '35.00' '39.04' '30.00' '36.00' '27.00' '20.05' '35.50'\n",
      " '40.20' '27.03' '12.00' '37.10' '36.10' '39.20' '39.50' '38.50' '38.80'\n",
      " '38.60' '6.00' '20.00' '9.00' '29.00' '22.00' '38.10' '33.60' '18.00'\n",
      " '35.40' '22.20' '31.00' '37.60' '38.40' '40.30' '29.60' '0.39' '34.85'\n",
      " '37.85' '41.15' '21.85' '37.30' '24.00' '41.57' '34.60' '39.03' '39.30'\n",
      " '23.09' '28.20' '37.35' '38.15' '33.70' '33.40' '26.00' '38.30' '40.50'\n",
      " '04.00' '11.00' '24.01' '36.06' '10.00' '19.00' '22.02' '36.50' '23.00'\n",
      " '06.00' '0.40' '0.46' '39.10' '32.40' '34.10' '15.00' '09.00' '34.01'\n",
      " '38.75' '37.06' '41.06' '41.05' '36.04' '39.06' '39.05' '42.00' '41.01'\n",
      " '33.06' '41.03' '17.03' '38.02' '36.02' '40.03' '33.05' '36.03' '24.02'\n",
      " '37.04' '37.01' '37.05' '39.01' '32.04' '14.03' '33.03' '22.05' '29.01'\n",
      " '37.20' '36.20' '21.00' '16.00' '30.60' '23.40' '17.00' '14.00' '13.00'\n",
      " '27.30' '27.04' '40.06' '23.03' '8.30' '33.50' '19.40' '25.04' '38.04'\n",
      " '30.05' '35.04' '35.03' '31.05' '36.05' '38.03' '13.06' '39.02' '38.05'\n",
      " '35.05' '31.01' '27.02' '27.05' '37.03' '41.04' '18.05' '28.02' '30.40'\n",
      " '20.40' '40.16' '40.10' '40.27' '35.60' '36.60' '07.00' '21.04' '21.05'\n",
      " '8.04' '25.03' '34.04' '5.00' '40.12' '30.04' '30.03' '37.40' '31.02'\n",
      " '38.06' '40.07' '22.01' '24.05' '28.60' '14.20' '35.30' '32.50' '39.40'\n",
      " '38.20' '34.30' '30.10' '28.40' '23.60' '34.20' '31.50' '33.10' '27.20'\n",
      " '35.71' '24.30' '37.50' '21.30' '27.40' '24.50' '34.02' '32.60' '40.05'\n",
      " '40.40' '34.40' '29.40' '4.00' '23.20' '0.06' '31.03' '31.20' '41.40'\n",
      " '33.20' '34.50' '17.50' '39.60' '26.40' '28.10' '41.10' '26.50' '35.01'\n",
      " '36.01' '31.60' '13.50' '29.05' '32.02' '33.04' '31.06' '16.03' '29.02'\n",
      " '33.01' '29.03' '29.06' '26.02' '35.10' '25.40' '00.37' '00.34' '00.39'\n",
      " '00.40' '24.04' '23.02' '24.06' '13.30' '9.10' '24.40' '36.40' '28.06'\n",
      " '29.30' '26.71' '14.04' '21.03' '6.40' '40.80' '41.02' '41.50' '34.25'\n",
      " '35.25' '40.25' '31.25' '32.25' '18.90' '28.25' '41.20' '22.25' '37.75'\n",
      " '40.75' '19.75' '22.50' '28.50' '24.25' '30.50' '21.50' '39.75' '39.80'\n",
      " '39.25' '35.20' '24.75' '20.50' '36.75' '31.75' '37.25' '41.25' '33.75'\n",
      " '36.25' '41.75' '38.25' '29.50' '25.30' '33.33' '27.80' '36.80' '35.06'\n",
      " '08.00' '38.29' '43.00' '40.57' '0.38' '21.06' '34.71' '39.35' '25.20'\n",
      " '36.30' '37.86' '5.28' '37.71' '11.57' '21.71' '13.05' '25.01' '38.86'\n",
      " '35.02' '26.10' '0.20' '0.08' '33.30' '26.57' '32.06' '32.30' '40.60'\n",
      " '22.40' '00.08' '31.30' '22.30' '12.05' '40.11' '15.30' '3.00' '25.10'\n",
      " '21.20' '39.71' '32.86' '41.43' '20.30' '10.20' '33.90' '28.30' '25.90'\n",
      " '11.30' '27.50' '11.06' '9.30' '28.05' '32.10' '30.20' '41.30' '31.10'\n",
      " '24.60' '26.60' '27.10' '33.02' '0.37' '25.60' '32.03' '09.01' '41.71'\n",
      " '39.85' '28.43' '27.86' '27.01' '37.42' '40.29' '41.42' '38.28' '41.85'\n",
      " '40.42' '41.86' '41.28' '37.57' '38.71' '41.14' '05.71' '36.28' '27.28'\n",
      " '17.01' '2.00' '32.85' '0.15' '36.90' '24.03' '0.00' '10.02' '32.75'\n",
      " '8.40' '4.50' '38.57' '33.71' '40.14' '23.50' '30.06' '11.01' '34.03'\n",
      " '30.02' '30.41' '29.04' '0.32' '0.34' '0.36' '0.21' '0.19' '25.05' '0.14'\n",
      " '00.09' '30.01' '40.66' '6.20' '18.03' '19.50' '25.50' '23.01' '15.50'\n",
      " '15.10' '05.00' '41.70' '31.40' '00.07' '35.29' '31.57' '38.23' '34.86'\n",
      " '39.14' '38.43' '23.30' '24.71' '38.14' '0.41' '0.16' '0.10' '0.24'\n",
      " '0.35' '23.05' '22.86' '32.05' '20.03' '24.43' '28.04' '34.05' '26.04'\n",
      " '22.06' '32.43' '28.01' '26.01' '25.06' '20.02' '13.40' '08.40' '18.40'\n",
      " '40.70' '16.30' '27.60' '37.14' '24.80' '25.80' '27.06' '23.57' '40.71'\n",
      " '36.71' '39.29' '25.86' '27.70' '40.28' '40.43' '0.33' '0.29' '0.30'\n",
      " '0.22' '37.43' '25.15' '32.71' '35.86' '8.60' '33.86' '31.43' '31.86'\n",
      " '7.30' '0.28' '28.29' '14.05' '27.85' '26.14' '29.57' '23.35' '25.43'\n",
      " '0.25' '14.71' '35.43' '27.08' '0.13' '23.06' '26.05' '11.14' '11.20'\n",
      " '31.04' '29.10' '18.04' '32.01' '15.04' '12.06' '22.04' '12.04' '23.04'\n",
      " '19.01' '20.01' '19.03' '25.02' '30.43' '6.90' '0.18' '11' '17' '16' '6'\n",
      " '4' '21' '2' '34' '10' '19' '7' '24.6' '35.3' '23.5' '36.2' '24.57' '14'\n",
      " '5' '15' '16.5' '32.1' '9.1']\n"
     ]
    }
   ],
   "source": [
    "# Investigate RPSTRESC\n",
    "print('Values for RPSTRESC: ', RP['RPSTRESC'].unique())"
   ]
  },
  {
   "cell_type": "markdown",
   "id": "98501b6e-91c3-47d4-b6af-292258aa5a02",
   "metadata": {},
   "source": [
    "The information that the person is pregnant will be kept but no more => The numbers can be replaced by a Yes 'Y' because the person is indeed pregnant. U 'unknown' can be replaced by NA.  The number of observations indicators can be removed as it just keeps the fact that the person is pregnant or not:"
   ]
  },
  {
   "cell_type": "code",
   "execution_count": 210,
   "id": "e635ec44-e815-4c57-aef4-d88f6fdf3e6b",
   "metadata": {},
   "outputs": [
    {
     "name": "stdout",
     "output_type": "stream",
     "text": [
      "Values for RPSTRESC:  [nan 'N' 'Y']\n"
     ]
    }
   ],
   "source": [
    "def containsNumber(value):\n",
    "    if True in [char.isdigit() for char in value]:\n",
    "        return True\n",
    "    return False\n",
    "\n",
    "def replace(elm):\n",
    "    if isinstance(elm, str) and containsNumber(elm):\n",
    "        return 'Y'\n",
    "    elif elm == 'U':\n",
    "        return np.nan\n",
    "    else:\n",
    "        return elm\n",
    "\n",
    "RP['RPSTRESC'] = RP['RPSTRESC'].apply(replace)\n",
    "\n",
    "print('Values for RPSTRESC: ', RP['RPSTRESC'].unique())"
   ]
  },
  {
   "cell_type": "code",
   "execution_count": 211,
   "id": "c83da659-930d-4a13-90ea-e326aa998752",
   "metadata": {},
   "outputs": [
    {
     "name": "stdout",
     "output_type": "stream",
     "text": [
      "%NA for RP:  82.2\n"
     ]
    }
   ],
   "source": [
    "# NA for RPDY\n",
    "print('%NA for RP: ', round(RP['RPDY'].isna().sum()/RP.shape[0]*100,2))"
   ]
  },
  {
   "cell_type": "markdown",
   "id": "7f1984f5-d49c-4c5d-90d6-b56c0e6a67c6",
   "metadata": {},
   "source": [
    "**=> To conclud, for RP, we can keep: USUBJID and RPSTRESC:**"
   ]
  },
  {
   "cell_type": "code",
   "execution_count": 212,
   "id": "8c534313-866b-4343-a1c5-02dbc8377fd9",
   "metadata": {},
   "outputs": [
    {
     "data": {
      "text/plain": [
       "Index(['USUBJID', 'RPSTRESC'], dtype='object')"
      ]
     },
     "execution_count": 212,
     "metadata": {},
     "output_type": "execute_result"
    }
   ],
   "source": [
    "# Keep only some columns for RP\n",
    "RP = RP[['USUBJID', 'RPSTRESC']]\n",
    "RP.columns"
   ]
  },
  {
   "cell_type": "code",
   "execution_count": 213,
   "id": "dca974a0-83ee-43de-889a-8824cf6ab038",
   "metadata": {},
   "outputs": [
    {
     "data": {
      "text/plain": [
       "(331326, 2)"
      ]
     },
     "execution_count": 213,
     "metadata": {},
     "output_type": "execute_result"
    }
   ],
   "source": [
    "RP.shape"
   ]
  },
  {
   "cell_type": "code",
   "execution_count": 214,
   "id": "a61e082f-e7de-4728-b140-13f2f40f44c3",
   "metadata": {},
   "outputs": [],
   "source": [
    "RP.drop_duplicates(inplace=True)"
   ]
  },
  {
   "cell_type": "code",
   "execution_count": 215,
   "id": "b04266a0-e285-4590-be99-485c8b62c33e",
   "metadata": {},
   "outputs": [
    {
     "data": {
      "text/plain": [
       "(325315, 2)"
      ]
     },
     "execution_count": 215,
     "metadata": {},
     "output_type": "execute_result"
    }
   ],
   "source": [
    "RP.shape"
   ]
  },
  {
   "cell_type": "markdown",
   "id": "03c88f1d-5d40-41b4-9e57-daf75002ca7c",
   "metadata": {
    "jp-MarkdownHeadingCollapsed": true,
    "tags": []
   },
   "source": [
    "#### For RS:"
   ]
  },
  {
   "cell_type": "code",
   "execution_count": 216,
   "id": "2d8b72b6-14de-422e-9579-0f3b1778fb03",
   "metadata": {},
   "outputs": [],
   "source": [
    "data_folder = './data/DATA_2022-09-01/'\n",
    "RS = pd.read_csv(data_folder + 'RS_2022-09-01.csv', sep=',', low_memory=False) \n",
    "RS.name = 'RS'"
   ]
  },
  {
   "cell_type": "code",
   "execution_count": 217,
   "id": "14819ae0-9681-4c5f-ac05-7d9694e9feff",
   "metadata": {},
   "outputs": [
    {
     "data": {
      "text/html": [
       "<div>\n",
       "<style scoped>\n",
       "    .dataframe tbody tr th:only-of-type {\n",
       "        vertical-align: middle;\n",
       "    }\n",
       "\n",
       "    .dataframe tbody tr th {\n",
       "        vertical-align: top;\n",
       "    }\n",
       "\n",
       "    .dataframe thead th {\n",
       "        text-align: right;\n",
       "    }\n",
       "</style>\n",
       "<table border=\"1\" class=\"dataframe\">\n",
       "  <thead>\n",
       "    <tr style=\"text-align: right;\">\n",
       "      <th></th>\n",
       "      <th>Variable_Name</th>\n",
       "      <th>Variable_Type</th>\n",
       "      <th>Variable_Definition</th>\n",
       "    </tr>\n",
       "  </thead>\n",
       "  <tbody>\n",
       "    <tr>\n",
       "      <th>634</th>\n",
       "      <td>STUDYID</td>\n",
       "      <td>character</td>\n",
       "      <td>This variable contains the unique identifier for a study. This is the main key/identifier for all domains in the IDDO Data Repository  every domain table will have the STUDYID identifier.</td>\n",
       "    </tr>\n",
       "    <tr>\n",
       "      <th>635</th>\n",
       "      <td>DOMAIN</td>\n",
       "      <td>character</td>\n",
       "      <td>This variable contains the two-character abbreviation for the domain.</td>\n",
       "    </tr>\n",
       "    <tr>\n",
       "      <th>636</th>\n",
       "      <td>USUBJID</td>\n",
       "      <td>character</td>\n",
       "      <td>This variable contains the unique subject identifier for a study. This is a secondary key/identifier for all subject-level domains in the IDDO Data Repository  every domain table containing subject-level information (i.e., all but the Trial Domains) will have the USUBJID identifier. This variable will identify unique subjects in the repository.</td>\n",
       "    </tr>\n",
       "    <tr>\n",
       "      <th>637</th>\n",
       "      <td>RSSEQ</td>\n",
       "      <td>number</td>\n",
       "      <td>This variable contains a sequence number to ensure uniqueness of subject records within the domain. Each observation (each recorded as a separate row in the domain) will have a unique number within each subject, e.g., a subject with 10 observations will have 10 rows and each row is numbered sequentially from 1-10.</td>\n",
       "    </tr>\n",
       "    <tr>\n",
       "      <th>638</th>\n",
       "      <td>RSTESTCD</td>\n",
       "      <td>character</td>\n",
       "      <td>This variable identifies the shortened code for the name of the test or examination performed. This is defined by CDISC Controlled Terminology.</td>\n",
       "    </tr>\n",
       "    <tr>\n",
       "      <th>639</th>\n",
       "      <td>RSTEST</td>\n",
       "      <td>character</td>\n",
       "      <td>This variable identifies the name of the test or examination performed. This is defined by CDISC Controlled Terminology.</td>\n",
       "    </tr>\n",
       "    <tr>\n",
       "      <th>640</th>\n",
       "      <td>RSCAT</td>\n",
       "      <td>character</td>\n",
       "      <td>This variable contains a categorization of the observation.</td>\n",
       "    </tr>\n",
       "    <tr>\n",
       "      <th>641</th>\n",
       "      <td>RSSCAT</td>\n",
       "      <td>character</td>\n",
       "      <td>This variable contains a further categorization of the observation.</td>\n",
       "    </tr>\n",
       "    <tr>\n",
       "      <th>642</th>\n",
       "      <td>RSORRES</td>\n",
       "      <td>character</td>\n",
       "      <td>This variable contains the result of the test or examination performed as provided by the data contributor. The original data can be either numericm e.g. \"503\" or string, e.g., \"Positive\".</td>\n",
       "    </tr>\n",
       "    <tr>\n",
       "      <th>643</th>\n",
       "      <td>RSORRESU</td>\n",
       "      <td>character</td>\n",
       "      <td>This variable contains the unit for the result of the test or examination performed as provided by the data contributor. This is defined by CDISC Controlled Terminology.</td>\n",
       "    </tr>\n",
       "    <tr>\n",
       "      <th>644</th>\n",
       "      <td>RSSTRESC</td>\n",
       "      <td>character</td>\n",
       "      <td>This variable contains the converted, standardized result of the test or examination performed. The data can be either numeric, e.g. \"503\", or string, e.g. \"Positive\", and is stored as a string in the repository. The standard units and conversion formulas (as applicable) are described in detail in the IDDO Implementation Guide in the relevant sections about the variable --STRESU.</td>\n",
       "    </tr>\n",
       "    <tr>\n",
       "      <th>645</th>\n",
       "      <td>RSSTRESN</td>\n",
       "      <td>number</td>\n",
       "      <td>This variable contains the converted, standardized result of the test or examination performed when the result is numeric. This variable is a direct copy of the numeric values found in --STRESC. String/character-based results, e.g. \"Positive\", do not appear.</td>\n",
       "    </tr>\n",
       "    <tr>\n",
       "      <th>646</th>\n",
       "      <td>RSSTRESU</td>\n",
       "      <td>character</td>\n",
       "      <td>This variable contains the unit for the converted, standardized result of the test or examination performed. The IDDO-Defined Standard Units for each test or examination are described in detail in the IDDO Implementation Guide.</td>\n",
       "    </tr>\n",
       "    <tr>\n",
       "      <th>647</th>\n",
       "      <td>RSSTAT</td>\n",
       "      <td>character</td>\n",
       "      <td>This variable contains information about the status of the observation  specifically that it was not completed when it was expected to have been. This column should be empty when there is a value in the --OCCUR (Events and Interventions Domains) or --ORRES (Findings Domains) variables.</td>\n",
       "    </tr>\n",
       "    <tr>\n",
       "      <th>648</th>\n",
       "      <td>RSREASND</td>\n",
       "      <td>character</td>\n",
       "      <td>This variable contains information about the reason why the observation was not completed when it was expected to have been. This column should be populated when there is a value of \"NOT DONE\" in the --STAT variable.</td>\n",
       "    </tr>\n",
       "    <tr>\n",
       "      <th>649</th>\n",
       "      <td>VISITNUM</td>\n",
       "      <td>number</td>\n",
       "      <td>This variable contains a number designating the planned clinical encounter number. This is a numeric version of the visit described in VISIT? and it is used for sorting.</td>\n",
       "    </tr>\n",
       "    <tr>\n",
       "      <th>650</th>\n",
       "      <td>VISIT</td>\n",
       "      <td>character</td>\n",
       "      <td>This variable contains the protocol-defined text description of the planned clinical encounter number (as defined in the Trial Visits (TV) Domain).</td>\n",
       "    </tr>\n",
       "    <tr>\n",
       "      <th>651</th>\n",
       "      <td>VISITDY</td>\n",
       "      <td>number</td>\n",
       "      <td>This variable contains a number designating the Study Day of the planned clinical encounter. This is also a numeric version of the visit described in VISIT? and can be used for sorting.</td>\n",
       "    </tr>\n",
       "    <tr>\n",
       "      <th>652</th>\n",
       "      <td>EPOCH</td>\n",
       "      <td>character</td>\n",
       "      <td>This variable describes the Epoch period of the observation (e.g., Baseline, Treatment, Follow-up).  This is defined by CDISC Controlled Terminology</td>\n",
       "    </tr>\n",
       "    <tr>\n",
       "      <th>653</th>\n",
       "      <td>RSDTC</td>\n",
       "      <td>character</td>\n",
       "      <td>This variable contains the date and time of the collection of the observation, administration of a test or collection of a specimen.  This date and time will be provided in ISO 8601 format.</td>\n",
       "    </tr>\n",
       "    <tr>\n",
       "      <th>654</th>\n",
       "      <td>RSDY</td>\n",
       "      <td>number</td>\n",
       "      <td>This variable describes the study day of the observation relative to the date in RFSTDTC.  This will be blank for records with no value in the --DTC variable.</td>\n",
       "    </tr>\n",
       "    <tr>\n",
       "      <th>655</th>\n",
       "      <td>RSTPT</td>\n",
       "      <td>character</td>\n",
       "      <td>This variable describes when the observation should have happened as defined in the study protocol. This may be represented as an elapsed time relative to a fixed reference point described in --TPTREF.</td>\n",
       "    </tr>\n",
       "    <tr>\n",
       "      <th>656</th>\n",
       "      <td>RSTPTNUM</td>\n",
       "      <td>number</td>\n",
       "      <td>This variable contains the numeric version of --TPT and it is used for sorting.</td>\n",
       "    </tr>\n",
       "    <tr>\n",
       "      <th>657</th>\n",
       "      <td>RSTPTREF</td>\n",
       "      <td>character</td>\n",
       "      <td>This variable contains the name of the fixed reference point referred to by --TPT, --ELTM, e.g. PREVIOUS DOSE, PREVIOUS MEAL.</td>\n",
       "    </tr>\n",
       "    <tr>\n",
       "      <th>658</th>\n",
       "      <td>RSSTRF</td>\n",
       "      <td>character</td>\n",
       "      <td>This variable describes when the start of the observation happened in relation to the date recorded in RFSTDTC, e.g. BEFORE, DURING or AFTER.</td>\n",
       "    </tr>\n",
       "    <tr>\n",
       "      <th>659</th>\n",
       "      <td>RSEVINTX</td>\n",
       "      <td>character</td>\n",
       "      <td>This variable contains information about the evaluation interval associated with an observation when it cannot be represented in ISO 8601 format (e.g., \"Last few weeks\", \"While hospitalized\").</td>\n",
       "    </tr>\n",
       "    <tr>\n",
       "      <th>660</th>\n",
       "      <td>RSSTRTPT</td>\n",
       "      <td>character</td>\n",
       "      <td>This variable describes when the start of the observation happened in relation to the point described in --STTPT, e.g. BEFORE, DURING or AFTER.</td>\n",
       "    </tr>\n",
       "    <tr>\n",
       "      <th>661</th>\n",
       "      <td>RSSTTPT</td>\n",
       "      <td>character</td>\n",
       "      <td>This variable contains the name of the fixed reference point referred to by --STRTPT, e.g. PREVIOUS DOSE, 2003-12-15.</td>\n",
       "    </tr>\n",
       "    <tr>\n",
       "      <th>662</th>\n",
       "      <td>RSCDSTDY</td>\n",
       "      <td>number</td>\n",
       "      <td>This variable contains the contributor-defined study day expressed in integer days relative to the start of the study. This variable is used when no dates are provided, only a contributor-defined proxy.</td>\n",
       "    </tr>\n",
       "    <tr>\n",
       "      <th>663</th>\n",
       "      <td>RSRPOC</td>\n",
       "      <td>character</td>\n",
       "      <td>This variable describes the reported time period for the occurrence of an event when the actual date/time is not provided. This is provided in ISO 8601 format.</td>\n",
       "    </tr>\n",
       "  </tbody>\n",
       "</table>\n",
       "</div>"
      ],
      "text/plain": [
       "    Variable_Name Variable_Type  \\\n",
       "634       STUDYID     character   \n",
       "635        DOMAIN     character   \n",
       "636       USUBJID     character   \n",
       "637         RSSEQ        number   \n",
       "638      RSTESTCD     character   \n",
       "639        RSTEST     character   \n",
       "640         RSCAT     character   \n",
       "641        RSSCAT     character   \n",
       "642       RSORRES     character   \n",
       "643      RSORRESU     character   \n",
       "644      RSSTRESC     character   \n",
       "645      RSSTRESN        number   \n",
       "646      RSSTRESU     character   \n",
       "647        RSSTAT     character   \n",
       "648      RSREASND     character   \n",
       "649      VISITNUM        number   \n",
       "650         VISIT     character   \n",
       "651       VISITDY        number   \n",
       "652         EPOCH     character   \n",
       "653         RSDTC     character   \n",
       "654          RSDY        number   \n",
       "655         RSTPT     character   \n",
       "656      RSTPTNUM        number   \n",
       "657      RSTPTREF     character   \n",
       "658        RSSTRF     character   \n",
       "659      RSEVINTX     character   \n",
       "660      RSSTRTPT     character   \n",
       "661       RSSTTPT     character   \n",
       "662      RSCDSTDY        number   \n",
       "663        RSRPOC     character   \n",
       "\n",
       "                                                                                                                                                                                                                                                                                                                                                                                Variable_Definition  \n",
       "634                                                                                                                                                                                                    This variable contains the unique identifier for a study. This is the main key/identifier for all domains in the IDDO Data Repository  every domain table will have the STUDYID identifier.  \n",
       "635                                                                                                                                                                                                                                                                                                                           This variable contains the two-character abbreviation for the domain.  \n",
       "636                                     This variable contains the unique subject identifier for a study. This is a secondary key/identifier for all subject-level domains in the IDDO Data Repository  every domain table containing subject-level information (i.e., all but the Trial Domains) will have the USUBJID identifier. This variable will identify unique subjects in the repository.  \n",
       "637                                                                     This variable contains a sequence number to ensure uniqueness of subject records within the domain. Each observation (each recorded as a separate row in the domain) will have a unique number within each subject, e.g., a subject with 10 observations will have 10 rows and each row is numbered sequentially from 1-10.  \n",
       "638                                                                                                                                                                                                                                                 This variable identifies the shortened code for the name of the test or examination performed. This is defined by CDISC Controlled Terminology.  \n",
       "639                                                                                                                                                                                                                                                                        This variable identifies the name of the test or examination performed. This is defined by CDISC Controlled Terminology.  \n",
       "640                                                                                                                                                                                                                                                                                                                                     This variable contains a categorization of the observation.  \n",
       "641                                                                                                                                                                                                                                                                                                                             This variable contains a further categorization of the observation.  \n",
       "642                                                                                                                                                                                                    This variable contains the result of the test or examination performed as provided by the data contributor. The original data can be either numericm e.g. \"503\" or string, e.g., \"Positive\".  \n",
       "643                                                                                                                                                                                                                       This variable contains the unit for the result of the test or examination performed as provided by the data contributor. This is defined by CDISC Controlled Terminology.  \n",
       "644  This variable contains the converted, standardized result of the test or examination performed. The data can be either numeric, e.g. \"503\", or string, e.g. \"Positive\", and is stored as a string in the repository. The standard units and conversion formulas (as applicable) are described in detail in the IDDO Implementation Guide in the relevant sections about the variable --STRESU.  \n",
       "645                                                                                                                              This variable contains the converted, standardized result of the test or examination performed when the result is numeric. This variable is a direct copy of the numeric values found in --STRESC. String/character-based results, e.g. \"Positive\", do not appear.  \n",
       "646                                                                                                                                                             This variable contains the unit for the converted, standardized result of the test or examination performed. The IDDO-Defined Standard Units for each test or examination are described in detail in the IDDO Implementation Guide.  \n",
       "647                                                                                                This variable contains information about the status of the observation  specifically that it was not completed when it was expected to have been. This column should be empty when there is a value in the --OCCUR (Events and Interventions Domains) or --ORRES (Findings Domains) variables.   \n",
       "648                                                                                                                                                                        This variable contains information about the reason why the observation was not completed when it was expected to have been. This column should be populated when there is a value of \"NOT DONE\" in the --STAT variable.  \n",
       "649                                                                                                                                                                                                                      This variable contains a number designating the planned clinical encounter number. This is a numeric version of the visit described in VISIT? and it is used for sorting.   \n",
       "650                                                                                                                                                                                                                                             This variable contains the protocol-defined text description of the planned clinical encounter number (as defined in the Trial Visits (TV) Domain).  \n",
       "651                                                                                                                                                                                                       This variable contains a number designating the Study Day of the planned clinical encounter. This is also a numeric version of the visit described in VISIT? and can be used for sorting.  \n",
       "652                                                                                                                                                                                                                                            This variable describes the Epoch period of the observation (e.g., Baseline, Treatment, Follow-up).  This is defined by CDISC Controlled Terminology  \n",
       "653                                                                                                                                                                                                   This variable contains the date and time of the collection of the observation, administration of a test or collection of a specimen.  This date and time will be provided in ISO 8601 format.  \n",
       "654                                                                                                                                                                                                                                  This variable describes the study day of the observation relative to the date in RFSTDTC.  This will be blank for records with no value in the --DTC variable.  \n",
       "655                                                                                                                                                                                      This variable describes when the observation should have happened as defined in the study protocol. This may be represented as an elapsed time relative to a fixed reference point described in --TPTREF.   \n",
       "656                                                                                                                                                                                                                                                                                                                 This variable contains the numeric version of --TPT and it is used for sorting.  \n",
       "657                                                                                                                                                                                                                                                                   This variable contains the name of the fixed reference point referred to by --TPT, --ELTM, e.g. PREVIOUS DOSE, PREVIOUS MEAL.  \n",
       "658                                                                                                                                                                                                                                                   This variable describes when the start of the observation happened in relation to the date recorded in RFSTDTC, e.g. BEFORE, DURING or AFTER.  \n",
       "659                                                                                                                                                                                                This variable contains information about the evaluation interval associated with an observation when it cannot be represented in ISO 8601 format (e.g., \"Last few weeks\", \"While hospitalized\").  \n",
       "660                                                                                                                                                                                                                                                 This variable describes when the start of the observation happened in relation to the point described in --STTPT, e.g. BEFORE, DURING or AFTER.  \n",
       "661                                                                                                                                                                                                                                                                           This variable contains the name of the fixed reference point referred to by --STRTPT, e.g. PREVIOUS DOSE, 2003-12-15.  \n",
       "662                                                                                                                                                                                     This variable contains the contributor-defined study day expressed in integer days relative to the start of the study. This variable is used when no dates are provided, only a contributor-defined proxy.   \n",
       "663                                                                                                                                                                                                                                 This variable describes the reported time period for the occurrence of an event when the actual date/time is not provided. This is provided in ISO 8601 format.  "
      ]
     },
     "execution_count": 217,
     "metadata": {},
     "output_type": "execute_result"
    }
   ],
   "source": [
    "# See variables for RS\n",
    "pd.set_option(\"display.max_colwidth\", 1000)\n",
    "data_description.loc[data_description.Domain==RS.name, ['Variable_Name', 'Variable_Type', 'Variable_Definition']]"
   ]
  },
  {
   "cell_type": "code",
   "execution_count": 218,
   "id": "c8815d48-85bb-4bec-a7ab-7406ad3be8cd",
   "metadata": {},
   "outputs": [
    {
     "data": {
      "text/plain": [
       "Index(['STUDYID', 'DOMAIN', 'USUBJID', 'RSSEQ', 'RSTESTCD', 'RSTEST', 'RSCAT',\n",
       "       'RSSCAT', 'RSORRES', 'RSORRESU', 'RSSTRESC', 'RSSTRESN', 'RSSTRESU',\n",
       "       'RSSTAT', 'RSREASND', 'RSDY', 'RSEVINTX'],\n",
       "      dtype='object')"
      ]
     },
     "execution_count": 218,
     "metadata": {},
     "output_type": "execute_result"
    }
   ],
   "source": [
    "# Columns really in RS\n",
    "RS.columns"
   ]
  },
  {
   "cell_type": "code",
   "execution_count": 219,
   "id": "7ffccf6e-d929-4e64-8194-2115d0ffea53",
   "metadata": {},
   "outputs": [
    {
     "name": "stdout",
     "output_type": "stream",
     "text": [
      "Values for RSCAT:  ['GCS NINDS VERSION' 'AVPU' 'RASS' 'SAS' 'ICU MOBILITY SCALE'\n",
      " 'CLINICAL FRAILTY SCORE' 'PRISM III' 'BLANTYRE COMA SCALE' 'SOFA'\n",
      " 'SAPS II']\n"
     ]
    }
   ],
   "source": [
    "# Investigate RSCAT\n",
    "print('Values for RSCAT: ', RS['RSCAT'].unique())"
   ]
  },
  {
   "cell_type": "code",
   "execution_count": 220,
   "id": "05924473-3e43-4bfc-b2f4-7612ec3d975f",
   "metadata": {},
   "outputs": [
    {
     "name": "stdout",
     "output_type": "stream",
     "text": [
      "Values for RSSTRESC:  ['15' 'VERBAL' 'ALERT' '0' 'PAINFUL' '6' '-4' 'UNRESPONSIVE' '8' '-3' '13'\n",
      " '-5' '-1' '3' '11' '-2' '14' '4' '5' '9' '7' '10' '1' '2' '12' '24' nan\n",
      " '03' '06' '07' '08' '05' '04' '16' '02' '09' '01' '00' '84' '3.5' '9.3'\n",
      " '3.1' '23' '50' '0.3' '14.5' '015' '014' '6.0' '95' '170' '90' '4.5'\n",
      " '6.4' '45' '30' '180' '3.0' ' -4' '18' '1.5' '0.8' '1412' '125.3' '20'\n",
      " '19' '0.4' '3.6' '4.7' '7.4' '0.6' '94' ' -3' '365' 'NOT APPLICABLE'\n",
      " '145' '151' 'CONFUSED' '1.6' '+1' '+2' '+4' '1500' '-5.9' '-0.4' '-23'\n",
      " '2.5' '+3' '8.0' '.4' '+5' '9.7' '316' '-0.3' '-3.2' '-6' '-56' '7.5'\n",
      " 'NT' '932' '-0' '-4.8' '-2139' 'SEDATED' '-1+1' 'CONFUSION']\n"
     ]
    }
   ],
   "source": [
    "# Investigate RSSTRESC\n",
    "print('Values for RSSTRESC: ', RS['RSSTRESC'].unique())"
   ]
  },
  {
   "cell_type": "code",
   "execution_count": 221,
   "id": "edf79bb7-50ee-442a-bd5d-d005876292b0",
   "metadata": {},
   "outputs": [
    {
     "name": "stdout",
     "output_type": "stream",
     "text": [
      "%NA for RSDY:  0.15\n"
     ]
    }
   ],
   "source": [
    "# NA for RSDY\n",
    "print('%NA for RSDY: ', round(RS['RSDY'].isna().sum()/RS.shape[0]*100,2))"
   ]
  },
  {
   "cell_type": "markdown",
   "id": "cbbd9c64-18e3-4b86-b450-a14b354c2cc6",
   "metadata": {},
   "source": [
    "**=> To conclud, for RS, we can keep: USUBJID, RSSEQ, RSCAT, RSSTRESC and RSDY:**"
   ]
  },
  {
   "cell_type": "code",
   "execution_count": 222,
   "id": "b6ea6cfd-20b9-408d-9f3f-2bc30b2b9e03",
   "metadata": {},
   "outputs": [
    {
     "data": {
      "text/plain": [
       "Index(['USUBJID', 'RSSEQ', 'RSCAT', 'RSSTRESC', 'RSDY'], dtype='object')"
      ]
     },
     "execution_count": 222,
     "metadata": {},
     "output_type": "execute_result"
    }
   ],
   "source": [
    "# Keep only some columns for RS\n",
    "RS = RS[['USUBJID', 'RSSEQ', 'RSCAT', 'RSSTRESC', 'RSDY']]\n",
    "RS.columns"
   ]
  },
  {
   "cell_type": "code",
   "execution_count": 223,
   "id": "b8f2c802-1c3d-4731-8d12-53a4f321db9a",
   "metadata": {},
   "outputs": [
    {
     "data": {
      "text/plain": [
       "(996204, 5)"
      ]
     },
     "execution_count": 223,
     "metadata": {},
     "output_type": "execute_result"
    }
   ],
   "source": [
    "RS.shape"
   ]
  },
  {
   "cell_type": "markdown",
   "id": "c7151fdd-2698-4880-ad57-1ab1f27a4917",
   "metadata": {
    "jp-MarkdownHeadingCollapsed": true,
    "tags": []
   },
   "source": [
    "#### For SA:"
   ]
  },
  {
   "cell_type": "code",
   "execution_count": 224,
   "id": "88341288-9185-4bb9-b1b9-d07fa0560dd3",
   "metadata": {},
   "outputs": [],
   "source": [
    "data_folder = './data/DATA_2022-09-01/'\n",
    "mylist = []\n",
    "for chunk in pd.read_csv(data_folder + 'SA_2022-09-01.csv', sep=',', low_memory=False, chunksize=5000):\n",
    "    mylist.append(chunk)\n",
    "SA = pd.concat(mylist, axis=0)\n",
    "SA.name = 'SA'\n",
    "del mylist"
   ]
  },
  {
   "cell_type": "code",
   "execution_count": 225,
   "id": "d1c02767-7d5c-4c71-bb5f-8f20a97c4958",
   "metadata": {},
   "outputs": [
    {
     "data": {
      "text/html": [
       "<div>\n",
       "<style scoped>\n",
       "    .dataframe tbody tr th:only-of-type {\n",
       "        vertical-align: middle;\n",
       "    }\n",
       "\n",
       "    .dataframe tbody tr th {\n",
       "        vertical-align: top;\n",
       "    }\n",
       "\n",
       "    .dataframe thead th {\n",
       "        text-align: right;\n",
       "    }\n",
       "</style>\n",
       "<table border=\"1\" class=\"dataframe\">\n",
       "  <thead>\n",
       "    <tr style=\"text-align: right;\">\n",
       "      <th></th>\n",
       "      <th>Variable_Name</th>\n",
       "      <th>Variable_Type</th>\n",
       "      <th>Variable_Definition</th>\n",
       "    </tr>\n",
       "  </thead>\n",
       "  <tbody>\n",
       "    <tr>\n",
       "      <th>664</th>\n",
       "      <td>STUDYID</td>\n",
       "      <td>character</td>\n",
       "      <td>This variable contains the unique identifier for a study. This is the main key/identifier for all domains in the IDDO Data Repository  every domain table will have the STUDYID identifier.</td>\n",
       "    </tr>\n",
       "    <tr>\n",
       "      <th>665</th>\n",
       "      <td>DOMAIN</td>\n",
       "      <td>character</td>\n",
       "      <td>This variable contains the two-character abbreviation for the domain.</td>\n",
       "    </tr>\n",
       "    <tr>\n",
       "      <th>666</th>\n",
       "      <td>USUBJID</td>\n",
       "      <td>character</td>\n",
       "      <td>This variable contains the unique subject identifier for a study. This is a secondary key/identifier for all subject-level domains in the IDDO Data Repository  every domain table containing subject-level information (i.e., all but the Trial Domains) will have the USUBJID identifier. This variable will identify unique subjects in the repository.</td>\n",
       "    </tr>\n",
       "    <tr>\n",
       "      <th>667</th>\n",
       "      <td>SASEQ</td>\n",
       "      <td>number</td>\n",
       "      <td>This variable contains a sequence number to ensure uniqueness of subject records within the domain. Each observation (each recorded as a separate row in the domain) will have a unique number within each subject, e.g., a subject with 10 observations will have 10 rows and each row is numbered sequentially from 1-10.</td>\n",
       "    </tr>\n",
       "    <tr>\n",
       "      <th>668</th>\n",
       "      <td>SAREFID</td>\n",
       "      <td>character</td>\n",
       "      <td>This variable contains an identifier to distinguish duplicate findings, collections or events occurring within the same time period where no other timing information is available. This variable is used to make the rows' timing details unique.</td>\n",
       "    </tr>\n",
       "    <tr>\n",
       "      <th>...</th>\n",
       "      <td>...</td>\n",
       "      <td>...</td>\n",
       "      <td>...</td>\n",
       "    </tr>\n",
       "    <tr>\n",
       "      <th>726</th>\n",
       "      <td>SASTTPT</td>\n",
       "      <td>character</td>\n",
       "      <td>This variable contains the name of the fixed reference point referred to by --STRTPT, e.g. PREVIOUS DOSE, 2003-12-15.</td>\n",
       "    </tr>\n",
       "    <tr>\n",
       "      <th>727</th>\n",
       "      <td>SAENRTPT</td>\n",
       "      <td>character</td>\n",
       "      <td>This variable describes when the end of the observation happened in relation to the point described in --ENTPT, e.g. BEFORE, DURING or AFTER.</td>\n",
       "    </tr>\n",
       "    <tr>\n",
       "      <th>728</th>\n",
       "      <td>SAENTPT</td>\n",
       "      <td>character</td>\n",
       "      <td>This variable contains the name of the fixed reference point referred to by --ENRTPT, e.g. PREVIOUS DOSE, 2003-12-15.</td>\n",
       "    </tr>\n",
       "    <tr>\n",
       "      <th>729</th>\n",
       "      <td>SACDSTDY</td>\n",
       "      <td>number</td>\n",
       "      <td>This variable contains the contributor-defined study day expressed in integer days relative to the start of the study. This variable is used when no dates are provided, only a contributor-defined proxy.</td>\n",
       "    </tr>\n",
       "    <tr>\n",
       "      <th>730</th>\n",
       "      <td>SARPOC</td>\n",
       "      <td>character</td>\n",
       "      <td>This variable describes the reported time period for the occurrence of an event when the actual date/time is not provided. This is provided in ISO 8601 format.</td>\n",
       "    </tr>\n",
       "  </tbody>\n",
       "</table>\n",
       "<p>67 rows × 3 columns</p>\n",
       "</div>"
      ],
      "text/plain": [
       "    Variable_Name Variable_Type  \\\n",
       "664       STUDYID     character   \n",
       "665        DOMAIN     character   \n",
       "666       USUBJID     character   \n",
       "667         SASEQ        number   \n",
       "668       SAREFID     character   \n",
       "..            ...           ...   \n",
       "726       SASTTPT     character   \n",
       "727      SAENRTPT     character   \n",
       "728       SAENTPT     character   \n",
       "729      SACDSTDY        number   \n",
       "730        SARPOC     character   \n",
       "\n",
       "                                                                                                                                                                                                                                                                                                                                             Variable_Definition  \n",
       "664                                                                                                                                                                 This variable contains the unique identifier for a study. This is the main key/identifier for all domains in the IDDO Data Repository  every domain table will have the STUDYID identifier.  \n",
       "665                                                                                                                                                                                                                                                                                        This variable contains the two-character abbreviation for the domain.  \n",
       "666  This variable contains the unique subject identifier for a study. This is a secondary key/identifier for all subject-level domains in the IDDO Data Repository  every domain table containing subject-level information (i.e., all but the Trial Domains) will have the USUBJID identifier. This variable will identify unique subjects in the repository.  \n",
       "667                                  This variable contains a sequence number to ensure uniqueness of subject records within the domain. Each observation (each recorded as a separate row in the domain) will have a unique number within each subject, e.g., a subject with 10 observations will have 10 rows and each row is numbered sequentially from 1-10.  \n",
       "668                                                                                                           This variable contains an identifier to distinguish duplicate findings, collections or events occurring within the same time period where no other timing information is available. This variable is used to make the rows' timing details unique.  \n",
       "..                                                                                                                                                                                                                                                                                                                                                           ...  \n",
       "726                                                                                                                                                                                                                                        This variable contains the name of the fixed reference point referred to by --STRTPT, e.g. PREVIOUS DOSE, 2003-12-15.  \n",
       "727                                                                                                                                                                                                                This variable describes when the end of the observation happened in relation to the point described in --ENTPT, e.g. BEFORE, DURING or AFTER.  \n",
       "728                                                                                                                                                                                                                                        This variable contains the name of the fixed reference point referred to by --ENRTPT, e.g. PREVIOUS DOSE, 2003-12-15.  \n",
       "729                                                                                                                                                  This variable contains the contributor-defined study day expressed in integer days relative to the start of the study. This variable is used when no dates are provided, only a contributor-defined proxy.   \n",
       "730                                                                                                                                                                                              This variable describes the reported time period for the occurrence of an event when the actual date/time is not provided. This is provided in ISO 8601 format.  \n",
       "\n",
       "[67 rows x 3 columns]"
      ]
     },
     "execution_count": 225,
     "metadata": {},
     "output_type": "execute_result"
    }
   ],
   "source": [
    "# See variables for SA\n",
    "pd.set_option(\"display.max_colwidth\", 1000)\n",
    "data_description.loc[data_description.Domain==SA.name, ['Variable_Name', 'Variable_Type', 'Variable_Definition']]"
   ]
  },
  {
   "cell_type": "code",
   "execution_count": 226,
   "id": "53b18add-b86c-4b4f-8fe4-4bb248f34761",
   "metadata": {},
   "outputs": [
    {
     "data": {
      "text/plain": [
       "Index(['STUDYID', 'DOMAIN', 'USUBJID', 'SASEQ', 'SAREFID', 'SAMODIFY', 'SACAT',\n",
       "       'SASCAT', 'SAPRESP', 'SAOCCUR', 'SASTAT', 'SAREASND', 'SASEV',\n",
       "       'VISITNUM', 'VISIT', 'VISITDY', 'SADY', 'SASTDY', 'SAENDY', 'SADUR',\n",
       "       'SASTRF', 'SAEVLINT', 'SAEVINTX', 'SARPOC', 'SACDSTDY'],\n",
       "      dtype='object')"
      ]
     },
     "execution_count": 226,
     "metadata": {},
     "output_type": "execute_result"
    }
   ],
   "source": [
    "# Columns really in SA\n",
    "SA.columns"
   ]
  },
  {
   "cell_type": "code",
   "execution_count": 227,
   "id": "904bd167-dbae-40ed-8aa8-a2cb6c0c09a3",
   "metadata": {},
   "outputs": [
    {
     "name": "stdout",
     "output_type": "stream",
     "text": [
      "Values for SACAT:  ['SIGNS AND SYMPTOMS AT HOSPITAL ADMISSION' 'MEDICAL HISTORY'\n",
      " 'COMPLICATIONS' nan 'DAILY CLINICAL FEATURES'\n",
      " 'SIGNS AND SYMPTOMS AT ICU ADMISSION'\n",
      " 'SIGNS AND SYMPTOMS AT INITIAL ACUTE COVID-19 ILLNESS']\n"
     ]
    }
   ],
   "source": [
    "# Investigate SACAT\n",
    "print('Values for SACAT: ', SA['SACAT'].unique())"
   ]
  },
  {
   "cell_type": "code",
   "execution_count": 228,
   "id": "a0e65b1b-c6fa-489f-9a9f-a0ea101b9649",
   "metadata": {},
   "outputs": [
    {
     "name": "stdout",
     "output_type": "stream",
     "text": [
      "Values for SASCAT:  [nan 'COMORBIDITIES' 'CLINICALLY EXTREMELY VULNERABLE GROUPS'\n",
      " 'PREVIOUS COVID-19 INFECTION']\n"
     ]
    }
   ],
   "source": [
    "# Investigate SASCAT\n",
    "print('Values for SASCAT: ', SA['SASCAT'].unique())"
   ]
  },
  {
   "cell_type": "markdown",
   "id": "0f774604-6928-457a-9420-b9f83af573b0",
   "metadata": {},
   "source": [
    "As the signs and symptoms are extremely diverse, we will focus for the time being on the presence of comorbidity, previous covid-19 infection and complications only."
   ]
  },
  {
   "cell_type": "code",
   "execution_count": 229,
   "id": "a7e0e70a-835b-4817-8e31-95bf8493233e",
   "metadata": {},
   "outputs": [
    {
     "name": "stdout",
     "output_type": "stream",
     "text": [
      "Values for SACAT:  ['COMORBIDITIES' 'COMPLICATIONS' 'PREVIOUS COVID-19 INFECTION']\n",
      "Values for SASCAT:  ['COMORBIDITIES' nan 'PREVIOUS COVID-19 INFECTION']\n"
     ]
    }
   ],
   "source": [
    "# Keep only comorbidity, previous covid-19 infection and complications in SACAT\n",
    "SA = SA.loc[(SA['SACAT']=='COMPLICATIONS') | (SA['SASCAT'].isin(['COMORBIDITIES', 'PREVIOUS COVID-19 INFECTION']))]\n",
    "SA.loc[SA['SASCAT']=='COMORBIDITIES', 'SACAT'] = 'COMORBIDITIES'\n",
    "SA.loc[SA['SASCAT']=='PREVIOUS COVID-19 INFECTION', 'SACAT'] = 'PREVIOUS COVID-19 INFECTION'\n",
    "print('Values for SACAT: ', SA['SACAT'].unique())\n",
    "print('Values for SASCAT: ', SA['SASCAT'].unique())"
   ]
  },
  {
   "cell_type": "markdown",
   "id": "5c964457-be29-47ad-9cfc-4acee6c18eb3",
   "metadata": {},
   "source": [
    "**=> To conclud, for SA, we can keep: USUBJID and SACAT:**"
   ]
  },
  {
   "cell_type": "code",
   "execution_count": 230,
   "id": "b33c0409-278b-4860-81da-60bb4f5f819a",
   "metadata": {},
   "outputs": [
    {
     "data": {
      "text/plain": [
       "Index(['USUBJID', 'SACAT'], dtype='object')"
      ]
     },
     "execution_count": 230,
     "metadata": {},
     "output_type": "execute_result"
    }
   ],
   "source": [
    "# Keep only some columns for SA\n",
    "SA = SA[['USUBJID', 'SACAT']]\n",
    "SA.drop_duplicates(inplace=True)\n",
    "SA.columns"
   ]
  },
  {
   "cell_type": "code",
   "execution_count": 231,
   "id": "535e1a28-b0b9-4f7d-b9de-b1fe251b1e68",
   "metadata": {},
   "outputs": [
    {
     "data": {
      "text/plain": [
       "(1549143, 2)"
      ]
     },
     "execution_count": 231,
     "metadata": {},
     "output_type": "execute_result"
    }
   ],
   "source": [
    "SA.shape"
   ]
  },
  {
   "cell_type": "markdown",
   "id": "a55e0dba-7edd-4e45-8c6c-999601d76f4e",
   "metadata": {
    "jp-MarkdownHeadingCollapsed": true,
    "tags": []
   },
   "source": [
    "#### For SC:"
   ]
  },
  {
   "cell_type": "code",
   "execution_count": 232,
   "id": "2cb46061-b358-4e16-b09f-c874e4a4a208",
   "metadata": {},
   "outputs": [],
   "source": [
    "data_folder = './data/DATA_2022-09-01/'\n",
    "SC = pd.read_csv(data_folder + 'SC_2022-09-01.csv', sep=',', low_memory=False) \n",
    "SC.name = 'SC'"
   ]
  },
  {
   "cell_type": "code",
   "execution_count": 233,
   "id": "f691383c-8a2e-4021-951b-f71e6aed785d",
   "metadata": {},
   "outputs": [
    {
     "data": {
      "text/html": [
       "<div>\n",
       "<style scoped>\n",
       "    .dataframe tbody tr th:only-of-type {\n",
       "        vertical-align: middle;\n",
       "    }\n",
       "\n",
       "    .dataframe tbody tr th {\n",
       "        vertical-align: top;\n",
       "    }\n",
       "\n",
       "    .dataframe thead th {\n",
       "        text-align: right;\n",
       "    }\n",
       "</style>\n",
       "<table border=\"1\" class=\"dataframe\">\n",
       "  <thead>\n",
       "    <tr style=\"text-align: right;\">\n",
       "      <th></th>\n",
       "      <th>Variable_Name</th>\n",
       "      <th>Variable_Type</th>\n",
       "      <th>Variable_Definition</th>\n",
       "    </tr>\n",
       "  </thead>\n",
       "  <tbody>\n",
       "    <tr>\n",
       "      <th>731</th>\n",
       "      <td>STUDYID</td>\n",
       "      <td>character</td>\n",
       "      <td>This variable contains the unique identifier for a study. This is the main key/identifier for all domains in the IDDO Data Repository  every domain table will have the STUDYID identifier.</td>\n",
       "    </tr>\n",
       "    <tr>\n",
       "      <th>732</th>\n",
       "      <td>DOMAIN</td>\n",
       "      <td>character</td>\n",
       "      <td>This variable contains the two-character abbreviation for the domain.</td>\n",
       "    </tr>\n",
       "    <tr>\n",
       "      <th>733</th>\n",
       "      <td>USUBJID</td>\n",
       "      <td>character</td>\n",
       "      <td>This variable contains the unique subject identifier for a study. This is a secondary key/identifier for all subject-level domains in the IDDO Data Repository  every domain table containing subject-level information (i.e., all but the Trial Domains) will have the USUBJID identifier. This variable will identify unique subjects in the repository.</td>\n",
       "    </tr>\n",
       "    <tr>\n",
       "      <th>734</th>\n",
       "      <td>SCSEQ</td>\n",
       "      <td>number</td>\n",
       "      <td>This variable contains a sequence number to ensure uniqueness of subject records within the domain. Each observation (each recorded as a separate row in the domain) will have a unique number within each subject, e.g., a subject with 10 observations will have 10 rows and each row is numbered sequentially from 1-10.</td>\n",
       "    </tr>\n",
       "    <tr>\n",
       "      <th>735</th>\n",
       "      <td>SCTESTCD</td>\n",
       "      <td>character</td>\n",
       "      <td>This variable identifies the shortened code for the name of the test or examination performed.  This is defined by CDISC Controlled Terminology and IDDO Controlled Terminology. More details can be found in the IDDO Implementation Guide.</td>\n",
       "    </tr>\n",
       "    <tr>\n",
       "      <th>736</th>\n",
       "      <td>SCTEST</td>\n",
       "      <td>character</td>\n",
       "      <td>This variable identifies the name of the test or examination performed.  This is defined by CDISC Controlled Terminology and IDDO Controlled Terminology. More details can be found in the IDDO Implementation Guide.</td>\n",
       "    </tr>\n",
       "    <tr>\n",
       "      <th>737</th>\n",
       "      <td>SCMODIFY</td>\n",
       "      <td>character</td>\n",
       "      <td>This variable contains a modification of the verbatim wording of the event. This is used to capture IDDO-defined standardised terms of the event.</td>\n",
       "    </tr>\n",
       "    <tr>\n",
       "      <th>738</th>\n",
       "      <td>SCCAT</td>\n",
       "      <td>character</td>\n",
       "      <td>This variable contains a categorization of the observation.</td>\n",
       "    </tr>\n",
       "    <tr>\n",
       "      <th>739</th>\n",
       "      <td>SCSCAT</td>\n",
       "      <td>character</td>\n",
       "      <td>This variable contains a further categorization of the observation.</td>\n",
       "    </tr>\n",
       "    <tr>\n",
       "      <th>740</th>\n",
       "      <td>SCORRES</td>\n",
       "      <td>character</td>\n",
       "      <td>This variable contains the result of the test or examination performed as provided by the data contributor. The original data can be either numericm e.g. \"503\" or string, e.g., \"Positive\".</td>\n",
       "    </tr>\n",
       "    <tr>\n",
       "      <th>741</th>\n",
       "      <td>SCORRESU</td>\n",
       "      <td>character</td>\n",
       "      <td>This variable contains the unit for the result of the test or examination performed as provided by the data contributor. This is defined by CDISC Controlled Terminology.</td>\n",
       "    </tr>\n",
       "    <tr>\n",
       "      <th>742</th>\n",
       "      <td>SCSTRESC</td>\n",
       "      <td>character</td>\n",
       "      <td>This variable contains the converted, standardized result of the test or examination performed. The data can be either numeric, e.g. \"503\", or string, e.g. \"Positive\", and is stored as a string in the repository. The standard units and conversion formulas (as applicable) are described in detail in the IDDO Implementation Guide in the relevant sections about the variable --STRESU.</td>\n",
       "    </tr>\n",
       "    <tr>\n",
       "      <th>743</th>\n",
       "      <td>SCSTRESN</td>\n",
       "      <td>number</td>\n",
       "      <td>This variable contains the converted, standardized result of the test or examination performed when the result is numeric. This variable is a direct copy of the numeric values found in --STRESC. String/character-based results, e.g. \"Positive\", do not appear.</td>\n",
       "    </tr>\n",
       "    <tr>\n",
       "      <th>744</th>\n",
       "      <td>SCSTRESU</td>\n",
       "      <td>character</td>\n",
       "      <td>This variable contains the unit for the converted, standardized result of the test or examination performed. The IDDO-Defined Standard Units for each test or examination are described in detail in the IDDO Implementation Guide.</td>\n",
       "    </tr>\n",
       "    <tr>\n",
       "      <th>745</th>\n",
       "      <td>SCSTAT</td>\n",
       "      <td>character</td>\n",
       "      <td>This variable contains information about the status of the observation  specifically that it was not completed when it was expected to have been. This column should be empty when there is a value in the --OCCUR (Events and Interventions Domains) or --ORRES (Findings Domains) variables.</td>\n",
       "    </tr>\n",
       "    <tr>\n",
       "      <th>746</th>\n",
       "      <td>SCREASND</td>\n",
       "      <td>character</td>\n",
       "      <td>This variable contains information about the reason why the observation was not completed when it was expected to have been. This column should be populated when there is a value of \"NOT DONE\" in the --STAT variable.</td>\n",
       "    </tr>\n",
       "    <tr>\n",
       "      <th>747</th>\n",
       "      <td>VISITNUM</td>\n",
       "      <td>number</td>\n",
       "      <td>This variable contains a number designating the planned clinical encounter number. This is a numeric version of the visit described in VISIT? and it is used for sorting.</td>\n",
       "    </tr>\n",
       "    <tr>\n",
       "      <th>748</th>\n",
       "      <td>VISIT</td>\n",
       "      <td>character</td>\n",
       "      <td>This variable contains the protocol-defined text description of the planned clinical encounter number (as defined in the Trial Visits (TV) Domain).</td>\n",
       "    </tr>\n",
       "    <tr>\n",
       "      <th>749</th>\n",
       "      <td>VISITDY</td>\n",
       "      <td>number</td>\n",
       "      <td>This variable contains a number designating the Study Day of the planned clinical encounter. This is also a numeric version of the visit described in VISIT? and can be used for sorting.</td>\n",
       "    </tr>\n",
       "    <tr>\n",
       "      <th>750</th>\n",
       "      <td>EPOCH</td>\n",
       "      <td>character</td>\n",
       "      <td>This variable describes the Epoch period of the observation (e.g., Baseline, Treatment, Follow-up).  This is defined by CDISC Controlled Terminology</td>\n",
       "    </tr>\n",
       "    <tr>\n",
       "      <th>751</th>\n",
       "      <td>SCDTC</td>\n",
       "      <td>character</td>\n",
       "      <td>This variable contains the date and time of the collection of the observation, administration of a test or collection of a specimen.  This date and time will be provided in ISO 8601 format.</td>\n",
       "    </tr>\n",
       "    <tr>\n",
       "      <th>752</th>\n",
       "      <td>SCDY</td>\n",
       "      <td>number</td>\n",
       "      <td>This variable describes the study day of the observation relative to the date in RFSTDTC.  This will be blank for records with no value in the --DTC variable.</td>\n",
       "    </tr>\n",
       "  </tbody>\n",
       "</table>\n",
       "</div>"
      ],
      "text/plain": [
       "    Variable_Name Variable_Type  \\\n",
       "731       STUDYID     character   \n",
       "732        DOMAIN     character   \n",
       "733       USUBJID     character   \n",
       "734         SCSEQ        number   \n",
       "735      SCTESTCD     character   \n",
       "736        SCTEST     character   \n",
       "737      SCMODIFY     character   \n",
       "738         SCCAT     character   \n",
       "739        SCSCAT     character   \n",
       "740       SCORRES     character   \n",
       "741      SCORRESU     character   \n",
       "742      SCSTRESC     character   \n",
       "743      SCSTRESN        number   \n",
       "744      SCSTRESU     character   \n",
       "745        SCSTAT     character   \n",
       "746      SCREASND     character   \n",
       "747      VISITNUM        number   \n",
       "748         VISIT     character   \n",
       "749       VISITDY        number   \n",
       "750         EPOCH     character   \n",
       "751         SCDTC     character   \n",
       "752          SCDY        number   \n",
       "\n",
       "                                                                                                                                                                                                                                                                                                                                                                                Variable_Definition  \n",
       "731                                                                                                                                                                                                    This variable contains the unique identifier for a study. This is the main key/identifier for all domains in the IDDO Data Repository  every domain table will have the STUDYID identifier.  \n",
       "732                                                                                                                                                                                                                                                                                                                           This variable contains the two-character abbreviation for the domain.  \n",
       "733                                     This variable contains the unique subject identifier for a study. This is a secondary key/identifier for all subject-level domains in the IDDO Data Repository  every domain table containing subject-level information (i.e., all but the Trial Domains) will have the USUBJID identifier. This variable will identify unique subjects in the repository.  \n",
       "734                                                                     This variable contains a sequence number to ensure uniqueness of subject records within the domain. Each observation (each recorded as a separate row in the domain) will have a unique number within each subject, e.g., a subject with 10 observations will have 10 rows and each row is numbered sequentially from 1-10.  \n",
       "735                                                                                                                                                    This variable identifies the shortened code for the name of the test or examination performed.  This is defined by CDISC Controlled Terminology and IDDO Controlled Terminology. More details can be found in the IDDO Implementation Guide.  \n",
       "736                                                                                                                                                                           This variable identifies the name of the test or examination performed.  This is defined by CDISC Controlled Terminology and IDDO Controlled Terminology. More details can be found in the IDDO Implementation Guide.  \n",
       "737                                                                                                                                                                                                                                               This variable contains a modification of the verbatim wording of the event. This is used to capture IDDO-defined standardised terms of the event.  \n",
       "738                                                                                                                                                                                                                                                                                                                                     This variable contains a categorization of the observation.  \n",
       "739                                                                                                                                                                                                                                                                                                                             This variable contains a further categorization of the observation.  \n",
       "740                                                                                                                                                                                                    This variable contains the result of the test or examination performed as provided by the data contributor. The original data can be either numericm e.g. \"503\" or string, e.g., \"Positive\".  \n",
       "741                                                                                                                                                                                                                       This variable contains the unit for the result of the test or examination performed as provided by the data contributor. This is defined by CDISC Controlled Terminology.  \n",
       "742  This variable contains the converted, standardized result of the test or examination performed. The data can be either numeric, e.g. \"503\", or string, e.g. \"Positive\", and is stored as a string in the repository. The standard units and conversion formulas (as applicable) are described in detail in the IDDO Implementation Guide in the relevant sections about the variable --STRESU.  \n",
       "743                                                                                                                              This variable contains the converted, standardized result of the test or examination performed when the result is numeric. This variable is a direct copy of the numeric values found in --STRESC. String/character-based results, e.g. \"Positive\", do not appear.  \n",
       "744                                                                                                                                                             This variable contains the unit for the converted, standardized result of the test or examination performed. The IDDO-Defined Standard Units for each test or examination are described in detail in the IDDO Implementation Guide.  \n",
       "745                                                                                                This variable contains information about the status of the observation  specifically that it was not completed when it was expected to have been. This column should be empty when there is a value in the --OCCUR (Events and Interventions Domains) or --ORRES (Findings Domains) variables.   \n",
       "746                                                                                                                                                                        This variable contains information about the reason why the observation was not completed when it was expected to have been. This column should be populated when there is a value of \"NOT DONE\" in the --STAT variable.  \n",
       "747                                                                                                                                                                                                                      This variable contains a number designating the planned clinical encounter number. This is a numeric version of the visit described in VISIT? and it is used for sorting.   \n",
       "748                                                                                                                                                                                                                                             This variable contains the protocol-defined text description of the planned clinical encounter number (as defined in the Trial Visits (TV) Domain).  \n",
       "749                                                                                                                                                                                                       This variable contains a number designating the Study Day of the planned clinical encounter. This is also a numeric version of the visit described in VISIT? and can be used for sorting.  \n",
       "750                                                                                                                                                                                                                                            This variable describes the Epoch period of the observation (e.g., Baseline, Treatment, Follow-up).  This is defined by CDISC Controlled Terminology  \n",
       "751                                                                                                                                                                                                   This variable contains the date and time of the collection of the observation, administration of a test or collection of a specimen.  This date and time will be provided in ISO 8601 format.  \n",
       "752                                                                                                                                                                                                                                  This variable describes the study day of the observation relative to the date in RFSTDTC.  This will be blank for records with no value in the --DTC variable.  "
      ]
     },
     "execution_count": 233,
     "metadata": {},
     "output_type": "execute_result"
    }
   ],
   "source": [
    "# See variables for SC\n",
    "pd.set_option(\"display.max_colwidth\", 1000)\n",
    "data_description.loc[data_description.Domain==SC.name, ['Variable_Name', 'Variable_Type', 'Variable_Definition']]"
   ]
  },
  {
   "cell_type": "code",
   "execution_count": 234,
   "id": "ff2f78d5-af1a-4063-9c19-7931c7e7e170",
   "metadata": {},
   "outputs": [
    {
     "data": {
      "text/plain": [
       "Index(['STUDYID', 'DOMAIN', 'USUBJID', 'SCSEQ', 'SCTESTCD', 'SCTEST',\n",
       "       'SCORRES', 'SCSTRESC', 'SCDY'],\n",
       "      dtype='object')"
      ]
     },
     "execution_count": 234,
     "metadata": {},
     "output_type": "execute_result"
    }
   ],
   "source": [
    "# Columns really in SC\n",
    "SC.columns"
   ]
  },
  {
   "cell_type": "code",
   "execution_count": 235,
   "id": "22963f67-31a3-4420-95d2-6b489f41dd69",
   "metadata": {},
   "outputs": [
    {
     "name": "stdout",
     "output_type": "stream",
     "text": [
      "Values for SCTEST:  ['Premature Birth Indicator' 'Breast Fed Indicator'\n",
      " 'Infant Less Than One Year Indicator'\n",
      " 'Appropriate Developmental Age Indicator']\n"
     ]
    }
   ],
   "source": [
    "# Investigate SCTEST\n",
    "print('Values for SCTEST: ', SC['SCTEST'].unique())"
   ]
  },
  {
   "cell_type": "code",
   "execution_count": 236,
   "id": "05ef3b54-ad51-4f3e-a3bd-52f9f3bf1ac3",
   "metadata": {},
   "outputs": [
    {
     "name": "stdout",
     "output_type": "stream",
     "text": [
      "Values for SCSTRESC:  ['N' 'Y' 'U']\n"
     ]
    }
   ],
   "source": [
    "# Investigate SCSTRESC\n",
    "print('Values for SCSTRESC: ', SC['SCSTRESC'].unique())"
   ]
  },
  {
   "cell_type": "code",
   "execution_count": 237,
   "id": "96f16754-c344-4e2f-ab93-65c6e29066d0",
   "metadata": {},
   "outputs": [
    {
     "name": "stdout",
     "output_type": "stream",
     "text": [
      "Values for SCSTRESC:  ['N' 'Y' nan]\n"
     ]
    }
   ],
   "source": [
    "# Replace U by NA\n",
    "SC.loc[SC['SCSTRESC']=='U', 'SCSTRESC'] = np.nan\n",
    "print('Values for SCSTRESC: ', SC['SCSTRESC'].unique())"
   ]
  },
  {
   "cell_type": "markdown",
   "id": "f670c2f7-addc-40dd-8b8c-740b45cafd14",
   "metadata": {},
   "source": [
    "**=> To conclud, for SC, we can keep: USUBJID, SCTEST and SCSTRESC:**"
   ]
  },
  {
   "cell_type": "code",
   "execution_count": 238,
   "id": "ce72d873-ef11-41cf-b9da-dd90f5bea7b1",
   "metadata": {},
   "outputs": [
    {
     "data": {
      "text/plain": [
       "Index(['USUBJID', 'SCTEST', 'SCSTRESC'], dtype='object')"
      ]
     },
     "execution_count": 238,
     "metadata": {},
     "output_type": "execute_result"
    }
   ],
   "source": [
    "# Keep only some columns for SC\n",
    "SC = SC[['USUBJID', 'SCTEST', 'SCSTRESC']]\n",
    "SC.columns"
   ]
  },
  {
   "cell_type": "code",
   "execution_count": 239,
   "id": "9d3e92f3-fd9e-4a49-814d-b405eb758ba3",
   "metadata": {},
   "outputs": [
    {
     "data": {
      "text/plain": [
       "(8282, 3)"
      ]
     },
     "execution_count": 239,
     "metadata": {},
     "output_type": "execute_result"
    }
   ],
   "source": [
    "SC.shape"
   ]
  },
  {
   "cell_type": "code",
   "execution_count": 240,
   "id": "a8445a57-72ac-47e5-92bb-f8905f4f52ea",
   "metadata": {},
   "outputs": [],
   "source": [
    "SC.drop_duplicates(inplace=True)"
   ]
  },
  {
   "cell_type": "code",
   "execution_count": 241,
   "id": "49958705-c3f9-4a7e-8983-5b2435717f12",
   "metadata": {},
   "outputs": [
    {
     "data": {
      "text/plain": [
       "(8280, 3)"
      ]
     },
     "execution_count": 241,
     "metadata": {},
     "output_type": "execute_result"
    }
   ],
   "source": [
    "SC.shape"
   ]
  },
  {
   "cell_type": "markdown",
   "id": "e1679a04-9c2f-4893-af43-4fbc82a15b46",
   "metadata": {
    "jp-MarkdownHeadingCollapsed": true,
    "tags": []
   },
   "source": [
    "#### For SV:"
   ]
  },
  {
   "cell_type": "code",
   "execution_count": 242,
   "id": "8ffd9216-0e85-41f6-9f02-82d6e9cbae23",
   "metadata": {},
   "outputs": [],
   "source": [
    "data_folder = './data/DATA_2022-09-01/'\n",
    "SV = pd.read_csv(data_folder + 'SV_2022-09-01.csv', sep=',', low_memory=False) \n",
    "SV.name = 'SV'"
   ]
  },
  {
   "cell_type": "code",
   "execution_count": 243,
   "id": "6849ba15-80c1-41ba-8192-0de13b2af90d",
   "metadata": {},
   "outputs": [
    {
     "data": {
      "text/html": [
       "<div>\n",
       "<style scoped>\n",
       "    .dataframe tbody tr th:only-of-type {\n",
       "        vertical-align: middle;\n",
       "    }\n",
       "\n",
       "    .dataframe tbody tr th {\n",
       "        vertical-align: top;\n",
       "    }\n",
       "\n",
       "    .dataframe thead th {\n",
       "        text-align: right;\n",
       "    }\n",
       "</style>\n",
       "<table border=\"1\" class=\"dataframe\">\n",
       "  <thead>\n",
       "    <tr style=\"text-align: right;\">\n",
       "      <th></th>\n",
       "      <th>Variable_Name</th>\n",
       "      <th>Variable_Type</th>\n",
       "      <th>Variable_Definition</th>\n",
       "    </tr>\n",
       "  </thead>\n",
       "  <tbody>\n",
       "    <tr>\n",
       "      <th>753</th>\n",
       "      <td>STUDYID</td>\n",
       "      <td>character</td>\n",
       "      <td>This variable contains the unique identifier for a study. This is the main key/identifier for all domains in the IDDO Data Repository  every domain table will have the STUDYID identifier.</td>\n",
       "    </tr>\n",
       "    <tr>\n",
       "      <th>754</th>\n",
       "      <td>DOMAIN</td>\n",
       "      <td>character</td>\n",
       "      <td>This variable contains the two-character abbreviation for the domain.</td>\n",
       "    </tr>\n",
       "    <tr>\n",
       "      <th>755</th>\n",
       "      <td>USUBJID</td>\n",
       "      <td>character</td>\n",
       "      <td>This variable contains the unique subject identifier for a study. This is a secondary key/identifier for all subject-level domains in the IDDO Data Repository  every domain table containing subject-level information (i.e., all but the Trial Domains) will have the USUBJID identifier. This variable will identify unique subjects in the repository.</td>\n",
       "    </tr>\n",
       "    <tr>\n",
       "      <th>756</th>\n",
       "      <td>VISITNUM</td>\n",
       "      <td>number</td>\n",
       "      <td>This variable contains a number designating the planned clinical encounter number. This is a numeric version of the visit described in VISIT? and it is used for sorting.</td>\n",
       "    </tr>\n",
       "    <tr>\n",
       "      <th>757</th>\n",
       "      <td>VISIT</td>\n",
       "      <td>character</td>\n",
       "      <td>This variable contains the protocol-defined text description of the planned clinical encounter number (as defined in the Trial Visits (TV) Domain).</td>\n",
       "    </tr>\n",
       "    <tr>\n",
       "      <th>758</th>\n",
       "      <td>SVSTDTC</td>\n",
       "      <td>character</td>\n",
       "      <td>This variable contains the start date and time of the observation or initiation of the event (as opposed to the date the question about the observation/event was asked). This date and time will be provided in ISO 8601 format.</td>\n",
       "    </tr>\n",
       "    <tr>\n",
       "      <th>759</th>\n",
       "      <td>SVSTDY</td>\n",
       "      <td>number</td>\n",
       "      <td>This variable describes the study day of the start of the observation relative to the date in RFSTDTC.  This will be blank for records with no value in the --STDTC variable.</td>\n",
       "    </tr>\n",
       "  </tbody>\n",
       "</table>\n",
       "</div>"
      ],
      "text/plain": [
       "    Variable_Name Variable_Type  \\\n",
       "753       STUDYID     character   \n",
       "754        DOMAIN     character   \n",
       "755       USUBJID     character   \n",
       "756      VISITNUM        number   \n",
       "757         VISIT     character   \n",
       "758       SVSTDTC     character   \n",
       "759        SVSTDY        number   \n",
       "\n",
       "                                                                                                                                                                                                                                                                                                                                             Variable_Definition  \n",
       "753                                                                                                                                                                 This variable contains the unique identifier for a study. This is the main key/identifier for all domains in the IDDO Data Repository  every domain table will have the STUDYID identifier.  \n",
       "754                                                                                                                                                                                                                                                                                        This variable contains the two-character abbreviation for the domain.  \n",
       "755  This variable contains the unique subject identifier for a study. This is a secondary key/identifier for all subject-level domains in the IDDO Data Repository  every domain table containing subject-level information (i.e., all but the Trial Domains) will have the USUBJID identifier. This variable will identify unique subjects in the repository.  \n",
       "756                                                                                                                                                                                   This variable contains a number designating the planned clinical encounter number. This is a numeric version of the visit described in VISIT? and it is used for sorting.   \n",
       "757                                                                                                                                                                                                          This variable contains the protocol-defined text description of the planned clinical encounter number (as defined in the Trial Visits (TV) Domain).  \n",
       "758                                                                                                                            This variable contains the start date and time of the observation or initiation of the event (as opposed to the date the question about the observation/event was asked). This date and time will be provided in ISO 8601 format.  \n",
       "759                                                                                                                                                                                This variable describes the study day of the start of the observation relative to the date in RFSTDTC.  This will be blank for records with no value in the --STDTC variable.  "
      ]
     },
     "execution_count": 243,
     "metadata": {},
     "output_type": "execute_result"
    }
   ],
   "source": [
    "# See variables for SV\n",
    "pd.set_option(\"display.max_colwidth\", 1000)\n",
    "data_description.loc[data_description.Domain==SV.name, ['Variable_Name', 'Variable_Type', 'Variable_Definition']]"
   ]
  },
  {
   "cell_type": "code",
   "execution_count": 244,
   "id": "5a425c84-d737-431e-b1d6-f8621c4d5de2",
   "metadata": {},
   "outputs": [
    {
     "data": {
      "text/plain": [
       "Index(['STUDYID', 'DOMAIN', 'USUBJID', 'VISIT', 'SVSTDY'], dtype='object')"
      ]
     },
     "execution_count": 244,
     "metadata": {},
     "output_type": "execute_result"
    }
   ],
   "source": [
    "# Columns really in SV\n",
    "SV.columns"
   ]
  },
  {
   "cell_type": "markdown",
   "id": "d7ab46ad-4412-41b0-8e4d-478598ecb45b",
   "metadata": {},
   "source": [
    "**=> To conclud, for SV, we can keep nothing.**"
   ]
  },
  {
   "cell_type": "markdown",
   "id": "353c3201-44b4-46a5-80ba-0bbc8fc70721",
   "metadata": {
    "jp-MarkdownHeadingCollapsed": true,
    "tags": []
   },
   "source": [
    "#### For TI:"
   ]
  },
  {
   "cell_type": "code",
   "execution_count": 247,
   "id": "6d050827-48ea-451e-b4e4-e69bf80d3a11",
   "metadata": {},
   "outputs": [],
   "source": [
    "data_folder = './data/DATA_2022-09-01/'\n",
    "TI = pd.read_csv(data_folder + 'TI_2022-09-01.csv', sep=',', low_memory=False) \n",
    "TI.name = 'TI'"
   ]
  },
  {
   "cell_type": "code",
   "execution_count": 248,
   "id": "21452718-43e6-43df-8449-16fda21301e5",
   "metadata": {},
   "outputs": [
    {
     "data": {
      "text/html": [
       "<div>\n",
       "<style scoped>\n",
       "    .dataframe tbody tr th:only-of-type {\n",
       "        vertical-align: middle;\n",
       "    }\n",
       "\n",
       "    .dataframe tbody tr th {\n",
       "        vertical-align: top;\n",
       "    }\n",
       "\n",
       "    .dataframe thead th {\n",
       "        text-align: right;\n",
       "    }\n",
       "</style>\n",
       "<table border=\"1\" class=\"dataframe\">\n",
       "  <thead>\n",
       "    <tr style=\"text-align: right;\">\n",
       "      <th></th>\n",
       "      <th>Variable_Name</th>\n",
       "      <th>Variable_Type</th>\n",
       "      <th>Variable_Definition</th>\n",
       "    </tr>\n",
       "  </thead>\n",
       "  <tbody>\n",
       "    <tr>\n",
       "      <th>760</th>\n",
       "      <td>STUDYID</td>\n",
       "      <td>character</td>\n",
       "      <td>This variable contains the unique identifier for a study. This is the main key/identifier for all domains in the IDDO Data Repository  every domain table will have the STUDYID identifier.</td>\n",
       "    </tr>\n",
       "    <tr>\n",
       "      <th>761</th>\n",
       "      <td>DOMAIN</td>\n",
       "      <td>character</td>\n",
       "      <td>This variable contains the two-character abbreviation for the domain.</td>\n",
       "    </tr>\n",
       "    <tr>\n",
       "      <th>762</th>\n",
       "      <td>IETESTCD</td>\n",
       "      <td>character</td>\n",
       "      <td>This variable identifies the shortened code for the name of the test or examination performed.</td>\n",
       "    </tr>\n",
       "    <tr>\n",
       "      <th>763</th>\n",
       "      <td>IETEST</td>\n",
       "      <td>character</td>\n",
       "      <td>This variable identifies the name of the test or examination performed.</td>\n",
       "    </tr>\n",
       "    <tr>\n",
       "      <th>764</th>\n",
       "      <td>IECAT</td>\n",
       "      <td>character</td>\n",
       "      <td>This variable contains a categorization of the observation.</td>\n",
       "    </tr>\n",
       "  </tbody>\n",
       "</table>\n",
       "</div>"
      ],
      "text/plain": [
       "    Variable_Name Variable_Type  \\\n",
       "760       STUDYID     character   \n",
       "761        DOMAIN     character   \n",
       "762      IETESTCD     character   \n",
       "763        IETEST     character   \n",
       "764         IECAT     character   \n",
       "\n",
       "                                                                                                                                                                              Variable_Definition  \n",
       "760  This variable contains the unique identifier for a study. This is the main key/identifier for all domains in the IDDO Data Repository  every domain table will have the STUDYID identifier.  \n",
       "761                                                                                                                         This variable contains the two-character abbreviation for the domain.  \n",
       "762                                                                                                This variable identifies the shortened code for the name of the test or examination performed.  \n",
       "763                                                                                                                       This variable identifies the name of the test or examination performed.  \n",
       "764                                                                                                                                   This variable contains a categorization of the observation.  "
      ]
     },
     "execution_count": 248,
     "metadata": {},
     "output_type": "execute_result"
    }
   ],
   "source": [
    "# See variables for TI\n",
    "pd.set_option(\"display.max_colwidth\", 1000)\n",
    "data_description.loc[data_description.Domain==TI.name, ['Variable_Name', 'Variable_Type', 'Variable_Definition']]"
   ]
  },
  {
   "cell_type": "code",
   "execution_count": 249,
   "id": "3e22f816-5229-4b4e-a102-54fa44b54c2b",
   "metadata": {},
   "outputs": [
    {
     "data": {
      "text/plain": [
       "Index(['STUDYID', 'DOMAIN', 'IETESTCD', 'IETEST', 'IECAT'], dtype='object')"
      ]
     },
     "execution_count": 249,
     "metadata": {},
     "output_type": "execute_result"
    }
   ],
   "source": [
    "# Columns really in TI\n",
    "TI.columns"
   ]
  },
  {
   "cell_type": "markdown",
   "id": "cd8106b3-8e32-4dc6-863d-895e42c91379",
   "metadata": {},
   "source": [
    "**=> To conclud, for TI, we can keep nothing:**"
   ]
  },
  {
   "cell_type": "markdown",
   "id": "934d3e9a-df12-4e2a-8521-30cc066e25d2",
   "metadata": {
    "jp-MarkdownHeadingCollapsed": true,
    "tags": []
   },
   "source": [
    "#### For TS:"
   ]
  },
  {
   "cell_type": "code",
   "execution_count": 250,
   "id": "0466953d-0716-44f0-acb5-ab00aaca0cb3",
   "metadata": {},
   "outputs": [],
   "source": [
    "data_folder = './data/DATA_2022-09-01/'\n",
    "TS = pd.read_csv(data_folder + 'TS_2022-09-01.csv', sep=',', low_memory=False) \n",
    "TS.name = 'TS'"
   ]
  },
  {
   "cell_type": "code",
   "execution_count": 251,
   "id": "f9c7350e-65b5-4308-be51-d358543cf20f",
   "metadata": {},
   "outputs": [
    {
     "data": {
      "text/html": [
       "<div>\n",
       "<style scoped>\n",
       "    .dataframe tbody tr th:only-of-type {\n",
       "        vertical-align: middle;\n",
       "    }\n",
       "\n",
       "    .dataframe tbody tr th {\n",
       "        vertical-align: top;\n",
       "    }\n",
       "\n",
       "    .dataframe thead th {\n",
       "        text-align: right;\n",
       "    }\n",
       "</style>\n",
       "<table border=\"1\" class=\"dataframe\">\n",
       "  <thead>\n",
       "    <tr style=\"text-align: right;\">\n",
       "      <th></th>\n",
       "      <th>Variable_Name</th>\n",
       "      <th>Variable_Type</th>\n",
       "      <th>Variable_Definition</th>\n",
       "    </tr>\n",
       "  </thead>\n",
       "  <tbody>\n",
       "    <tr>\n",
       "      <th>765</th>\n",
       "      <td>STUDYID</td>\n",
       "      <td>character</td>\n",
       "      <td>This variable contains the unique identifier for a study. This is the main key/identifier for all domains in the IDDO Data Repository  every domain table will have the STUDYID identifier.</td>\n",
       "    </tr>\n",
       "    <tr>\n",
       "      <th>766</th>\n",
       "      <td>DOMAIN</td>\n",
       "      <td>character</td>\n",
       "      <td>This variable contains the two-character abbreviation for the domain.</td>\n",
       "    </tr>\n",
       "    <tr>\n",
       "      <th>767</th>\n",
       "      <td>TSSEQ</td>\n",
       "      <td>number</td>\n",
       "      <td>This variable contains a sequence number to ensure uniqueness of subject records within the domain. Each observation (each recorded as a separate row in the domain) will have a unique number within each subject, e.g., a subject with 10 observations will have 10 rows and each row is numbered sequentially from 1-10.</td>\n",
       "    </tr>\n",
       "    <tr>\n",
       "      <th>768</th>\n",
       "      <td>TSGRPID</td>\n",
       "      <td>character</td>\n",
       "      <td>This variable contains an identifier used to link together a block of related records and distinguish duplicate findings or events that occur within the same time period where no other timing information is available. This variable is used to make the rows' timing details unique.</td>\n",
       "    </tr>\n",
       "    <tr>\n",
       "      <th>769</th>\n",
       "      <td>TSPARMCD</td>\n",
       "      <td>character</td>\n",
       "      <td>This variable identifies the shortened code for the name of the trial summary parameter. This is defined by CDISC Controlled Terminology and IDDO Controlled Terminology. More details can be found in the IDDO Implementation Guide.</td>\n",
       "    </tr>\n",
       "    <tr>\n",
       "      <th>770</th>\n",
       "      <td>TSPARM</td>\n",
       "      <td>character</td>\n",
       "      <td>This variable identifies the name of the trial summary parameter. This is defined by CDISC Controlled Terminology and IDDO Controlled Terminology. More details can be found in the IDDO Implementation Guide.</td>\n",
       "    </tr>\n",
       "    <tr>\n",
       "      <th>771</th>\n",
       "      <td>TSVAL</td>\n",
       "      <td>character</td>\n",
       "      <td>This variable contains the value for the trial summary parameter. The data can be either numeric (e.g., \"503\") or string (e.g., \"Positive\") and is stored as a string in the repository.</td>\n",
       "    </tr>\n",
       "    <tr>\n",
       "      <th>772</th>\n",
       "      <td>TSVALNF</td>\n",
       "      <td>character</td>\n",
       "      <td>This variable contains the null flavor result for the value for the trial summary parameter (a value that provides additional coded information when TSVAL is null). This is defined by ISO 21090 NullFlavor Enumeration terminology.</td>\n",
       "    </tr>\n",
       "    <tr>\n",
       "      <th>773</th>\n",
       "      <td>TSVALCD</td>\n",
       "      <td>character</td>\n",
       "      <td>This variable contains the code (if applicable) for the term found in TSVAL. This value can be found in the appropriate code list, be it SNOMED or CDISC Controlled Terminology.</td>\n",
       "    </tr>\n",
       "    <tr>\n",
       "      <th>774</th>\n",
       "      <td>TSVCDREF</td>\n",
       "      <td>character</td>\n",
       "      <td>This variable contains the name of the Reference Terminology from which TSVALCD is taken, e.g. CDISC, SNOMED, ISO 8601, etc.</td>\n",
       "    </tr>\n",
       "    <tr>\n",
       "      <th>775</th>\n",
       "      <td>TSVCDVER</td>\n",
       "      <td>character</td>\n",
       "      <td>This variable contains the version of the Reference Terminology named in TSVCDREF (if applicable).</td>\n",
       "    </tr>\n",
       "  </tbody>\n",
       "</table>\n",
       "</div>"
      ],
      "text/plain": [
       "    Variable_Name Variable_Type  \\\n",
       "765       STUDYID     character   \n",
       "766        DOMAIN     character   \n",
       "767         TSSEQ        number   \n",
       "768       TSGRPID     character   \n",
       "769      TSPARMCD     character   \n",
       "770        TSPARM     character   \n",
       "771         TSVAL     character   \n",
       "772       TSVALNF     character   \n",
       "773       TSVALCD     character   \n",
       "774      TSVCDREF     character   \n",
       "775      TSVCDVER     character   \n",
       "\n",
       "                                                                                                                                                                                                                                                                                                             Variable_Definition  \n",
       "765                                                                                                                                 This variable contains the unique identifier for a study. This is the main key/identifier for all domains in the IDDO Data Repository  every domain table will have the STUDYID identifier.  \n",
       "766                                                                                                                                                                                                                                                        This variable contains the two-character abbreviation for the domain.  \n",
       "767  This variable contains a sequence number to ensure uniqueness of subject records within the domain. Each observation (each recorded as a separate row in the domain) will have a unique number within each subject, e.g., a subject with 10 observations will have 10 rows and each row is numbered sequentially from 1-10.  \n",
       "768                                     This variable contains an identifier used to link together a block of related records and distinguish duplicate findings or events that occur within the same time period where no other timing information is available. This variable is used to make the rows' timing details unique.  \n",
       "769                                                                                        This variable identifies the shortened code for the name of the trial summary parameter. This is defined by CDISC Controlled Terminology and IDDO Controlled Terminology. More details can be found in the IDDO Implementation Guide.  \n",
       "770                                                                                                               This variable identifies the name of the trial summary parameter. This is defined by CDISC Controlled Terminology and IDDO Controlled Terminology. More details can be found in the IDDO Implementation Guide.  \n",
       "771                                                                                                                                     This variable contains the value for the trial summary parameter. The data can be either numeric (e.g., \"503\") or string (e.g., \"Positive\") and is stored as a string in the repository.  \n",
       "772                                                                                        This variable contains the null flavor result for the value for the trial summary parameter (a value that provides additional coded information when TSVAL is null). This is defined by ISO 21090 NullFlavor Enumeration terminology.  \n",
       "773                                                                                                                                            This variable contains the code (if applicable) for the term found in TSVAL. This value can be found in the appropriate code list, be it SNOMED or CDISC Controlled Terminology.   \n",
       "774                                                                                                                                                                                                 This variable contains the name of the Reference Terminology from which TSVALCD is taken, e.g. CDISC, SNOMED, ISO 8601, etc.  \n",
       "775                                                                                                                                                                                                                           This variable contains the version of the Reference Terminology named in TSVCDREF (if applicable).  "
      ]
     },
     "execution_count": 251,
     "metadata": {},
     "output_type": "execute_result"
    }
   ],
   "source": [
    "# See variables for TS\n",
    "pd.set_option(\"display.max_colwidth\", 1000)\n",
    "data_description.loc[data_description.Domain==TS.name, ['Variable_Name', 'Variable_Type', 'Variable_Definition']]"
   ]
  },
  {
   "cell_type": "code",
   "execution_count": 252,
   "id": "5fb20188-2082-4bbc-bec4-200e722cb162",
   "metadata": {},
   "outputs": [
    {
     "data": {
      "text/plain": [
       "Index(['STUDYID', 'DOMAIN', 'TSSEQ', 'TSGRPID', 'TSPARMCD', 'TSPARM', 'TSVAL',\n",
       "       'TSVALNF', 'TSVALCD', 'TSVCDREF', 'TSVCDVER'],\n",
       "      dtype='object')"
      ]
     },
     "execution_count": 252,
     "metadata": {},
     "output_type": "execute_result"
    }
   ],
   "source": [
    "# Columns really in TS\n",
    "TS.columns"
   ]
  },
  {
   "cell_type": "code",
   "execution_count": 253,
   "id": "ec83e185-6ae6-410c-bdd8-cd972ca46c9e",
   "metadata": {},
   "outputs": [
    {
     "name": "stdout",
     "output_type": "stream",
     "text": [
      "Values for TSPARM:  ['Actual Number of Subjects' 'Adverse Event Method Description'\n",
      " 'Planned Maximum Age of Subjects' 'Planned Minimum Age of Subjects'\n",
      " 'Arm Description' 'Comparative Treatment Name'\n",
      " 'Current Therapy or Treatment' 'Planned Country of Investigational Sites'\n",
      " 'Healthy Subject Indicator' 'Trial Disease/Condition Indication'\n",
      " 'Intervention Model' 'Intervention Type' 'Country of Manufacture'\n",
      " 'Manufacturer Name' 'Manufacturer Brand Name' 'Planned Number of Arms'\n",
      " 'Number of Groups/Cohorts' 'Description of Groups/Cohorts'\n",
      " 'Observational Model' 'Observational Time Perspective'\n",
      " 'Obs Study Population Description' 'Observational Study Sampling Method'\n",
      " 'Obs Study Sampling Method Description'\n",
      " 'Non PubMed Citation Used in Study' 'Planned Number of Subjects'\n",
      " 'Planned Trial Duration' 'Planned Treatment Duration'\n",
      " 'PubMed ID for Citation Used in Study' 'Trial is Randomized'\n",
      " 'Randomization Description' 'Randomization Quotient'\n",
      " 'Registry Identifier' 'Route of Administration' 'Study End Date'\n",
      " 'Sex of Participants' 'Study Start Date' 'Stratification Factor'\n",
      " 'Stratification Description' 'Study Type' 'Trial Blinding Schema'\n",
      " 'Trial Blinding Description' 'Control Type' 'Diagnosis Group'\n",
      " 'Trial Intent Type' 'Trial Title' 'Trial Phase Classification'\n",
      " 'Target Follow-Up Duration' 'Investigational Therapy or Treatment'\n",
      " 'Trial Type' 'Parasite Sampling Schedule' 'Parasite Sampling Frequency'\n",
      " 'Microscopy Description' 'Microscopy Negative Smear Rule'\n",
      " 'Parasite Thick Smear Reading WBCs'\n",
      " 'Gametocyte Micro Thick Smear Reading' 'Parasite Thin Smear Reading RBCs'\n",
      " 'Parasite Reading HPFs' 'Gametocyte Reading HPFs'\n",
      " 'Microscopy Thick Smear WBC Type' 'Microscopy Assumed WBC']\n"
     ]
    }
   ],
   "source": [
    "# Investigate TSPARM\n",
    "print('Values for TSPARM: ', TS['TSPARM'].unique())"
   ]
  },
  {
   "cell_type": "markdown",
   "id": "97a6a85f-5fdd-4fc3-bcc7-121e9c406599",
   "metadata": {},
   "source": [
    "**=> To conclud, for TS, we can keep nothing.**"
   ]
  },
  {
   "cell_type": "markdown",
   "id": "994f0973-770b-4908-ba3c-a82c57634166",
   "metadata": {
    "jp-MarkdownHeadingCollapsed": true,
    "tags": []
   },
   "source": [
    "#### For TV:"
   ]
  },
  {
   "cell_type": "code",
   "execution_count": 254,
   "id": "0bdf6846-b084-4065-9862-ad4b5395aec1",
   "metadata": {},
   "outputs": [],
   "source": [
    "data_folder = './data/DATA_2022-09-01/'\n",
    "TV = pd.read_csv(data_folder + 'TV_2022-09-01.csv', sep=',', low_memory=False) \n",
    "TV.name = 'TV'"
   ]
  },
  {
   "cell_type": "code",
   "execution_count": 255,
   "id": "b514a3ef-c844-4b2c-a971-70fc3da9e3d4",
   "metadata": {},
   "outputs": [
    {
     "data": {
      "text/html": [
       "<div>\n",
       "<style scoped>\n",
       "    .dataframe tbody tr th:only-of-type {\n",
       "        vertical-align: middle;\n",
       "    }\n",
       "\n",
       "    .dataframe tbody tr th {\n",
       "        vertical-align: top;\n",
       "    }\n",
       "\n",
       "    .dataframe thead th {\n",
       "        text-align: right;\n",
       "    }\n",
       "</style>\n",
       "<table border=\"1\" class=\"dataframe\">\n",
       "  <thead>\n",
       "    <tr style=\"text-align: right;\">\n",
       "      <th></th>\n",
       "      <th>Variable_Name</th>\n",
       "      <th>Variable_Type</th>\n",
       "      <th>Variable_Definition</th>\n",
       "    </tr>\n",
       "  </thead>\n",
       "  <tbody>\n",
       "    <tr>\n",
       "      <th>776</th>\n",
       "      <td>STUDYID</td>\n",
       "      <td>character</td>\n",
       "      <td>This variable contains the unique identifier for a study. This is the main key/identifier for all domains in the IDDO Data Repository  every domain table will have the STUDYID identifier.</td>\n",
       "    </tr>\n",
       "    <tr>\n",
       "      <th>777</th>\n",
       "      <td>DOMAIN</td>\n",
       "      <td>character</td>\n",
       "      <td>This variable contains the two-character abbreviation for the domain.</td>\n",
       "    </tr>\n",
       "    <tr>\n",
       "      <th>778</th>\n",
       "      <td>VISITNUM</td>\n",
       "      <td>number</td>\n",
       "      <td>This variable contains a number designating the planned clinical encounter number. This is a numeric version of the visit described in VISIT? and it is used for sorting.</td>\n",
       "    </tr>\n",
       "    <tr>\n",
       "      <th>779</th>\n",
       "      <td>VISIT</td>\n",
       "      <td>character</td>\n",
       "      <td>This variable contains the protocol-defined text description of the planned clinical encounter number (as defined in the Trial Visits (TV) Domain).</td>\n",
       "    </tr>\n",
       "    <tr>\n",
       "      <th>780</th>\n",
       "      <td>VISITDY</td>\n",
       "      <td>number</td>\n",
       "      <td>This variable contains a number designating the Study Day of the planned clinical encounter. This is also a numeric version of the visit described in VISIT? and can be used for sorting.</td>\n",
       "    </tr>\n",
       "    <tr>\n",
       "      <th>781</th>\n",
       "      <td>ARMCD</td>\n",
       "      <td>character</td>\n",
       "      <td>This variable contains a shortened version of the name of the Planned Arm or Treatment Group. This only needs to be populated if the timing of the Visits for a trial are dependent on which Arm the subject is in.</td>\n",
       "    </tr>\n",
       "    <tr>\n",
       "      <th>782</th>\n",
       "      <td>ARM</td>\n",
       "      <td>character</td>\n",
       "      <td>This variable contains a description of the name of the Planned Arm or Treatment Group. This only needs to be populated if the timing of the Visits for a trial are dependent on which Arm the subject is in</td>\n",
       "    </tr>\n",
       "    <tr>\n",
       "      <th>783</th>\n",
       "      <td>TVSTRL</td>\n",
       "      <td>character</td>\n",
       "      <td>This variable contains the text description of the planned clinical encounter and when it starts.  This should contain details of what happened during the visit described in VISIT. It should have enough detail that someone referring to this table would understand what happened and when, without having to refer back to the protocol or publication.</td>\n",
       "    </tr>\n",
       "    <tr>\n",
       "      <th>784</th>\n",
       "      <td>TVENRL</td>\n",
       "      <td>character</td>\n",
       "      <td>This variable contains the text description of the planned clinical encounter and when it ends.  This should contain details of what happened during the visit described in VISIT. It should have enough detail that someone referring to this table would understand what happened and when, without having to refer back to the protocol or publication.</td>\n",
       "    </tr>\n",
       "  </tbody>\n",
       "</table>\n",
       "</div>"
      ],
      "text/plain": [
       "    Variable_Name Variable_Type  \\\n",
       "776       STUDYID     character   \n",
       "777        DOMAIN     character   \n",
       "778      VISITNUM        number   \n",
       "779         VISIT     character   \n",
       "780       VISITDY        number   \n",
       "781         ARMCD     character   \n",
       "782           ARM     character   \n",
       "783        TVSTRL     character   \n",
       "784        TVENRL     character   \n",
       "\n",
       "                                                                                                                                                                                                                                                                                                                                              Variable_Definition  \n",
       "776                                                                                                                                                                  This variable contains the unique identifier for a study. This is the main key/identifier for all domains in the IDDO Data Repository  every domain table will have the STUDYID identifier.  \n",
       "777                                                                                                                                                                                                                                                                                         This variable contains the two-character abbreviation for the domain.  \n",
       "778                                                                                                                                                                                    This variable contains a number designating the planned clinical encounter number. This is a numeric version of the visit described in VISIT? and it is used for sorting.   \n",
       "779                                                                                                                                                                                                           This variable contains the protocol-defined text description of the planned clinical encounter number (as defined in the Trial Visits (TV) Domain).  \n",
       "780                                                                                                                                                                     This variable contains a number designating the Study Day of the planned clinical encounter. This is also a numeric version of the visit described in VISIT? and can be used for sorting.  \n",
       "781                                                                                                                                           This variable contains a shortened version of the name of the Planned Arm or Treatment Group. This only needs to be populated if the timing of the Visits for a trial are dependent on which Arm the subject is in.  \n",
       "782                                                                                                                                                  This variable contains a description of the name of the Planned Arm or Treatment Group. This only needs to be populated if the timing of the Visits for a trial are dependent on which Arm the subject is in  \n",
       "783  This variable contains the text description of the planned clinical encounter and when it starts.  This should contain details of what happened during the visit described in VISIT. It should have enough detail that someone referring to this table would understand what happened and when, without having to refer back to the protocol or publication.  \n",
       "784    This variable contains the text description of the planned clinical encounter and when it ends.  This should contain details of what happened during the visit described in VISIT. It should have enough detail that someone referring to this table would understand what happened and when, without having to refer back to the protocol or publication.  "
      ]
     },
     "execution_count": 255,
     "metadata": {},
     "output_type": "execute_result"
    }
   ],
   "source": [
    "# See variables for TV\n",
    "pd.set_option(\"display.max_colwidth\", 1000)\n",
    "data_description.loc[data_description.Domain==TV.name, ['Variable_Name', 'Variable_Type', 'Variable_Definition']]"
   ]
  },
  {
   "cell_type": "code",
   "execution_count": 256,
   "id": "a418ca42-0547-4362-bc73-059d72d36762",
   "metadata": {},
   "outputs": [
    {
     "data": {
      "text/plain": [
       "Index(['STUDYID', 'DOMAIN', 'VISITNUM', 'VISIT', 'VISITDY', 'ARMCD', 'ARM',\n",
       "       'TVSTRL', 'TVENRL'],\n",
       "      dtype='object')"
      ]
     },
     "execution_count": 256,
     "metadata": {},
     "output_type": "execute_result"
    }
   ],
   "source": [
    "# Columns really in TV\n",
    "TV.columns"
   ]
  },
  {
   "cell_type": "markdown",
   "id": "6f105870-cbb7-441b-8a04-d16ad1188e40",
   "metadata": {},
   "source": [
    "**=> To conclud, for TV, we can keep nothing.**"
   ]
  },
  {
   "cell_type": "markdown",
   "id": "7599ee23-7135-44bf-bedf-3e64e2597ca3",
   "metadata": {
    "jp-MarkdownHeadingCollapsed": true,
    "tags": []
   },
   "source": [
    "#### For VS:"
   ]
  },
  {
   "cell_type": "code",
   "execution_count": 257,
   "id": "6df340c5-118c-491d-a095-be45a41324a2",
   "metadata": {},
   "outputs": [],
   "source": [
    "data_folder = './data/DATA_2022-09-01/'\n",
    "VS = pd.read_csv(data_folder + 'VS_2022-09-01.csv', sep=',', low_memory=False) \n",
    "VS.name = 'VS'"
   ]
  },
  {
   "cell_type": "code",
   "execution_count": 258,
   "id": "2570899e-ab6e-4fa8-a14d-4a43cb3dd1d4",
   "metadata": {},
   "outputs": [
    {
     "data": {
      "text/html": [
       "<div>\n",
       "<style scoped>\n",
       "    .dataframe tbody tr th:only-of-type {\n",
       "        vertical-align: middle;\n",
       "    }\n",
       "\n",
       "    .dataframe tbody tr th {\n",
       "        vertical-align: top;\n",
       "    }\n",
       "\n",
       "    .dataframe thead th {\n",
       "        text-align: right;\n",
       "    }\n",
       "</style>\n",
       "<table border=\"1\" class=\"dataframe\">\n",
       "  <thead>\n",
       "    <tr style=\"text-align: right;\">\n",
       "      <th></th>\n",
       "      <th>Variable_Name</th>\n",
       "      <th>Variable_Type</th>\n",
       "      <th>Variable_Definition</th>\n",
       "    </tr>\n",
       "  </thead>\n",
       "  <tbody>\n",
       "    <tr>\n",
       "      <th>785</th>\n",
       "      <td>STUDYID</td>\n",
       "      <td>character</td>\n",
       "      <td>This variable contains the unique identifier for a study. This is the main key/identifier for all domains in the IDDO Data Repository  every domain table will have the STUDYID identifier.</td>\n",
       "    </tr>\n",
       "    <tr>\n",
       "      <th>786</th>\n",
       "      <td>DOMAIN</td>\n",
       "      <td>character</td>\n",
       "      <td>This variable contains the two-character abbreviation for the domain.</td>\n",
       "    </tr>\n",
       "    <tr>\n",
       "      <th>787</th>\n",
       "      <td>USUBJID</td>\n",
       "      <td>character</td>\n",
       "      <td>This variable contains the unique subject identifier for a study. This is a secondary key/identifier for all subject-level domains in the IDDO Data Repository  every domain table containing subject-level information (i.e., all but the Trial Domains) will have the USUBJID identifier. This variable will identify unique subjects in the repository.</td>\n",
       "    </tr>\n",
       "    <tr>\n",
       "      <th>788</th>\n",
       "      <td>VSSEQ</td>\n",
       "      <td>number</td>\n",
       "      <td>This variable contains a sequence number to ensure uniqueness of subject records within the domain. Each observation (each recorded as a separate row in the domain) will have a unique number within each subject, e.g., a subject with 10 observations will have 10 rows and each row is numbered sequentially from 1-10.</td>\n",
       "    </tr>\n",
       "    <tr>\n",
       "      <th>789</th>\n",
       "      <td>VSREFID</td>\n",
       "      <td>character</td>\n",
       "      <td>This variable contains an identifier to distinguish duplicate findings, collections or events occurring within the same time period where no other timing information is available. This variable is used to make the rows' timing details unique.</td>\n",
       "    </tr>\n",
       "    <tr>\n",
       "      <th>790</th>\n",
       "      <td>VSTESTCD</td>\n",
       "      <td>character</td>\n",
       "      <td>This variable identifies the shortened code for the name of the test or examination performed. This is defined by CDISC Controlled Terminology.</td>\n",
       "    </tr>\n",
       "    <tr>\n",
       "      <th>791</th>\n",
       "      <td>VSTEST</td>\n",
       "      <td>character</td>\n",
       "      <td>This variable identifies the name of the test or examination performed. This is defined by CDISC Controlled Terminology.</td>\n",
       "    </tr>\n",
       "    <tr>\n",
       "      <th>792</th>\n",
       "      <td>VSCAT</td>\n",
       "      <td>character</td>\n",
       "      <td>This variable contains a categorization of the observation.</td>\n",
       "    </tr>\n",
       "    <tr>\n",
       "      <th>793</th>\n",
       "      <td>VSSCAT</td>\n",
       "      <td>character</td>\n",
       "      <td>This variable contains a further categorization of the observation.</td>\n",
       "    </tr>\n",
       "    <tr>\n",
       "      <th>794</th>\n",
       "      <td>VSORRES</td>\n",
       "      <td>character</td>\n",
       "      <td>This variable contains the result of the test or examination performed as provided by the data contributor. The original data can be either numericm e.g. \"503\" or string, e.g., \"Positive\".</td>\n",
       "    </tr>\n",
       "    <tr>\n",
       "      <th>795</th>\n",
       "      <td>VSORRESU</td>\n",
       "      <td>character</td>\n",
       "      <td>This variable contains the unit for the result of the test or examination performed as provided by the data contributor. This is defined by CDISC Controlled Terminology.</td>\n",
       "    </tr>\n",
       "    <tr>\n",
       "      <th>796</th>\n",
       "      <td>VSSTRESC</td>\n",
       "      <td>character</td>\n",
       "      <td>This variable contains the converted, standardized result of the test or examination performed. The data can be either numeric, e.g. \"503\", or string, e.g. \"Positive\", and is stored as a string in the repository. The standard units and conversion formulas (as applicable) are described in detail in the IDDO Implementation Guide in the relevant sections about the variable --STRESU.</td>\n",
       "    </tr>\n",
       "    <tr>\n",
       "      <th>797</th>\n",
       "      <td>VSSTRESN</td>\n",
       "      <td>number</td>\n",
       "      <td>This variable contains the converted, standardized result of the test or examination performed when the result is numeric. This variable is a direct copy of the numeric values found in --STRESC. String/character-based results, e.g. \"Positive\", do not appear.</td>\n",
       "    </tr>\n",
       "    <tr>\n",
       "      <th>798</th>\n",
       "      <td>VSSTRESU</td>\n",
       "      <td>character</td>\n",
       "      <td>This variable contains the unit for the converted, standardized result of the test or examination performed. The IDDO-Defined Standard Units for each test or examination are described in detail in the IDDO Implementation Guide.</td>\n",
       "    </tr>\n",
       "    <tr>\n",
       "      <th>799</th>\n",
       "      <td>VSSTAT</td>\n",
       "      <td>character</td>\n",
       "      <td>This variable contains information about the status of the observation  specifically that it was not completed when it was expected to have been. This column should be empty when there is a value in the --OCCUR (Events and Interventions Domains) or --ORRES (Findings Domains) variables.</td>\n",
       "    </tr>\n",
       "    <tr>\n",
       "      <th>800</th>\n",
       "      <td>VSREASND</td>\n",
       "      <td>character</td>\n",
       "      <td>This variable contains information about the reason why the observation was not completed when it was expected to have been. This column should be populated when there is a value of \"NOT DONE\" in the --STAT variable.</td>\n",
       "    </tr>\n",
       "    <tr>\n",
       "      <th>801</th>\n",
       "      <td>VSLOC</td>\n",
       "      <td>character</td>\n",
       "      <td>This variable contains information about the location of the test or examination. This is defined by CDISC Controlled Terminology.</td>\n",
       "    </tr>\n",
       "    <tr>\n",
       "      <th>802</th>\n",
       "      <td>VISITNUM</td>\n",
       "      <td>number</td>\n",
       "      <td>This variable contains a number designating the planned clinical encounter number. This is a numeric version of the visit described in VISIT? and it is used for sorting.</td>\n",
       "    </tr>\n",
       "    <tr>\n",
       "      <th>803</th>\n",
       "      <td>VISIT</td>\n",
       "      <td>character</td>\n",
       "      <td>This variable contains the protocol-defined text description of the planned clinical encounter number (as defined in the Trial Visits (TV) Domain).</td>\n",
       "    </tr>\n",
       "    <tr>\n",
       "      <th>804</th>\n",
       "      <td>VISITDY</td>\n",
       "      <td>number</td>\n",
       "      <td>This variable contains a number designating the Study Day of the planned clinical encounter. This is also a numeric version of the visit described in VISIT? and can be used for sorting.</td>\n",
       "    </tr>\n",
       "    <tr>\n",
       "      <th>805</th>\n",
       "      <td>EPOCH</td>\n",
       "      <td>character</td>\n",
       "      <td>This variable describes the Epoch period of the observation (e.g., Baseline, Treatment, Follow-up).  This is defined by CDISC Controlled Terminology</td>\n",
       "    </tr>\n",
       "    <tr>\n",
       "      <th>806</th>\n",
       "      <td>VSDTC</td>\n",
       "      <td>character</td>\n",
       "      <td>This variable contains the date and time of the collection of the observation, administration of a test or collection of a specimen.  This date and time will be provided in ISO 8601 format.</td>\n",
       "    </tr>\n",
       "    <tr>\n",
       "      <th>807</th>\n",
       "      <td>VSDY</td>\n",
       "      <td>number</td>\n",
       "      <td>This variable describes the study day of the observation relative to the date in RFSTDTC.  This will be blank for records with no value in the --DTC variable.</td>\n",
       "    </tr>\n",
       "    <tr>\n",
       "      <th>808</th>\n",
       "      <td>VSDUR</td>\n",
       "      <td>character</td>\n",
       "      <td>This variable contains information about the duration of the observation. This is only if collected on the CRF and not derived. This is collected in ISO 8601 format.</td>\n",
       "    </tr>\n",
       "    <tr>\n",
       "      <th>809</th>\n",
       "      <td>VSTPT</td>\n",
       "      <td>character</td>\n",
       "      <td>This variable describes when the observation should have happened as defined in the study protocol. This may be represented as an elapsed time relative to a fixed reference point described in --TPTREF.</td>\n",
       "    </tr>\n",
       "    <tr>\n",
       "      <th>810</th>\n",
       "      <td>VSTPTNUM</td>\n",
       "      <td>number</td>\n",
       "      <td>This variable contains the numeric version of --TPT and it is used for sorting.</td>\n",
       "    </tr>\n",
       "    <tr>\n",
       "      <th>811</th>\n",
       "      <td>VSTPTREF</td>\n",
       "      <td>character</td>\n",
       "      <td>This variable contains the name of the fixed reference point referred to by --TPT, --ELTM, e.g. PREVIOUS DOSE, PREVIOUS MEAL.</td>\n",
       "    </tr>\n",
       "    <tr>\n",
       "      <th>812</th>\n",
       "      <td>VSSTRF</td>\n",
       "      <td>character</td>\n",
       "      <td>This variable describes when the start of the observation happened in relation to the date recorded in RFSTDTC, e.g. BEFORE, DURING or AFTER.</td>\n",
       "    </tr>\n",
       "    <tr>\n",
       "      <th>813</th>\n",
       "      <td>VSEVLINT</td>\n",
       "      <td>character</td>\n",
       "      <td>This variable describes the evaluation interval associated with an observation. This provides information about the time period the question referenced. This duration will be provided in ISO 8601 format.</td>\n",
       "    </tr>\n",
       "    <tr>\n",
       "      <th>814</th>\n",
       "      <td>VSEVINTX</td>\n",
       "      <td>character</td>\n",
       "      <td>This variable contains information about the evaluation interval associated with an observation when it cannot be represented in ISO 8601 format (e.g., \"Last few weeks\", \"While hospitalized\").</td>\n",
       "    </tr>\n",
       "    <tr>\n",
       "      <th>815</th>\n",
       "      <td>VSSTRTPT</td>\n",
       "      <td>character</td>\n",
       "      <td>This variable describes when the start of the observation happened in relation to the point described in --STTPT, e.g. BEFORE, DURING or AFTER.</td>\n",
       "    </tr>\n",
       "    <tr>\n",
       "      <th>816</th>\n",
       "      <td>VSSTTPT</td>\n",
       "      <td>character</td>\n",
       "      <td>This variable contains the name of the fixed reference point referred to by --STRTPT, e.g. PREVIOUS DOSE, 2003-12-15.</td>\n",
       "    </tr>\n",
       "    <tr>\n",
       "      <th>817</th>\n",
       "      <td>VSCDSTDY</td>\n",
       "      <td>number</td>\n",
       "      <td>This variable contains the contributor-defined study day expressed in integer days relative to the start of the study. This variable is used when no dates are provided, only a contributor-defined proxy.</td>\n",
       "    </tr>\n",
       "    <tr>\n",
       "      <th>818</th>\n",
       "      <td>VSO2SRC</td>\n",
       "      <td>character</td>\n",
       "      <td>This variable contains information about the source of oxygen a patient was using when their OXYSAT - Oxygen Saturation measurement was taken.</td>\n",
       "    </tr>\n",
       "  </tbody>\n",
       "</table>\n",
       "</div>"
      ],
      "text/plain": [
       "    Variable_Name Variable_Type  \\\n",
       "785       STUDYID     character   \n",
       "786        DOMAIN     character   \n",
       "787       USUBJID     character   \n",
       "788         VSSEQ        number   \n",
       "789       VSREFID     character   \n",
       "790      VSTESTCD     character   \n",
       "791        VSTEST     character   \n",
       "792         VSCAT     character   \n",
       "793        VSSCAT     character   \n",
       "794       VSORRES     character   \n",
       "795      VSORRESU     character   \n",
       "796      VSSTRESC     character   \n",
       "797      VSSTRESN        number   \n",
       "798      VSSTRESU     character   \n",
       "799        VSSTAT     character   \n",
       "800      VSREASND     character   \n",
       "801         VSLOC     character   \n",
       "802      VISITNUM        number   \n",
       "803         VISIT     character   \n",
       "804       VISITDY        number   \n",
       "805         EPOCH     character   \n",
       "806         VSDTC     character   \n",
       "807          VSDY        number   \n",
       "808         VSDUR     character   \n",
       "809         VSTPT     character   \n",
       "810      VSTPTNUM        number   \n",
       "811      VSTPTREF     character   \n",
       "812        VSSTRF     character   \n",
       "813      VSEVLINT     character   \n",
       "814      VSEVINTX     character   \n",
       "815      VSSTRTPT     character   \n",
       "816       VSSTTPT     character   \n",
       "817      VSCDSTDY        number   \n",
       "818       VSO2SRC     character   \n",
       "\n",
       "                                                                                                                                                                                                                                                                                                                                                                                Variable_Definition  \n",
       "785                                                                                                                                                                                                    This variable contains the unique identifier for a study. This is the main key/identifier for all domains in the IDDO Data Repository  every domain table will have the STUDYID identifier.  \n",
       "786                                                                                                                                                                                                                                                                                                                           This variable contains the two-character abbreviation for the domain.  \n",
       "787                                     This variable contains the unique subject identifier for a study. This is a secondary key/identifier for all subject-level domains in the IDDO Data Repository  every domain table containing subject-level information (i.e., all but the Trial Domains) will have the USUBJID identifier. This variable will identify unique subjects in the repository.  \n",
       "788                                                                     This variable contains a sequence number to ensure uniqueness of subject records within the domain. Each observation (each recorded as a separate row in the domain) will have a unique number within each subject, e.g., a subject with 10 observations will have 10 rows and each row is numbered sequentially from 1-10.  \n",
       "789                                                                                                                                              This variable contains an identifier to distinguish duplicate findings, collections or events occurring within the same time period where no other timing information is available. This variable is used to make the rows' timing details unique.  \n",
       "790                                                                                                                                                                                                                                                 This variable identifies the shortened code for the name of the test or examination performed. This is defined by CDISC Controlled Terminology.  \n",
       "791                                                                                                                                                                                                                                                                        This variable identifies the name of the test or examination performed. This is defined by CDISC Controlled Terminology.  \n",
       "792                                                                                                                                                                                                                                                                                                                                     This variable contains a categorization of the observation.  \n",
       "793                                                                                                                                                                                                                                                                                                                             This variable contains a further categorization of the observation.  \n",
       "794                                                                                                                                                                                                    This variable contains the result of the test or examination performed as provided by the data contributor. The original data can be either numericm e.g. \"503\" or string, e.g., \"Positive\".  \n",
       "795                                                                                                                                                                                                                       This variable contains the unit for the result of the test or examination performed as provided by the data contributor. This is defined by CDISC Controlled Terminology.  \n",
       "796  This variable contains the converted, standardized result of the test or examination performed. The data can be either numeric, e.g. \"503\", or string, e.g. \"Positive\", and is stored as a string in the repository. The standard units and conversion formulas (as applicable) are described in detail in the IDDO Implementation Guide in the relevant sections about the variable --STRESU.  \n",
       "797                                                                                                                              This variable contains the converted, standardized result of the test or examination performed when the result is numeric. This variable is a direct copy of the numeric values found in --STRESC. String/character-based results, e.g. \"Positive\", do not appear.  \n",
       "798                                                                                                                                                             This variable contains the unit for the converted, standardized result of the test or examination performed. The IDDO-Defined Standard Units for each test or examination are described in detail in the IDDO Implementation Guide.  \n",
       "799                                                                                                This variable contains information about the status of the observation  specifically that it was not completed when it was expected to have been. This column should be empty when there is a value in the --OCCUR (Events and Interventions Domains) or --ORRES (Findings Domains) variables.   \n",
       "800                                                                                                                                                                        This variable contains information about the reason why the observation was not completed when it was expected to have been. This column should be populated when there is a value of \"NOT DONE\" in the --STAT variable.  \n",
       "801                                                                                                                                                                                                                                                              This variable contains information about the location of the test or examination. This is defined by CDISC Controlled Terminology.  \n",
       "802                                                                                                                                                                                                                      This variable contains a number designating the planned clinical encounter number. This is a numeric version of the visit described in VISIT? and it is used for sorting.   \n",
       "803                                                                                                                                                                                                                                             This variable contains the protocol-defined text description of the planned clinical encounter number (as defined in the Trial Visits (TV) Domain).  \n",
       "804                                                                                                                                                                                                       This variable contains a number designating the Study Day of the planned clinical encounter. This is also a numeric version of the visit described in VISIT? and can be used for sorting.  \n",
       "805                                                                                                                                                                                                                                            This variable describes the Epoch period of the observation (e.g., Baseline, Treatment, Follow-up).  This is defined by CDISC Controlled Terminology  \n",
       "806                                                                                                                                                                                                   This variable contains the date and time of the collection of the observation, administration of a test or collection of a specimen.  This date and time will be provided in ISO 8601 format.  \n",
       "807                                                                                                                                                                                                                                  This variable describes the study day of the observation relative to the date in RFSTDTC.  This will be blank for records with no value in the --DTC variable.  \n",
       "808                                                                                                                                                                                                                           This variable contains information about the duration of the observation. This is only if collected on the CRF and not derived. This is collected in ISO 8601 format.  \n",
       "809                                                                                                                                                                                      This variable describes when the observation should have happened as defined in the study protocol. This may be represented as an elapsed time relative to a fixed reference point described in --TPTREF.   \n",
       "810                                                                                                                                                                                                                                                                                                                 This variable contains the numeric version of --TPT and it is used for sorting.  \n",
       "811                                                                                                                                                                                                                                                                   This variable contains the name of the fixed reference point referred to by --TPT, --ELTM, e.g. PREVIOUS DOSE, PREVIOUS MEAL.  \n",
       "812                                                                                                                                                                                                                                                   This variable describes when the start of the observation happened in relation to the date recorded in RFSTDTC, e.g. BEFORE, DURING or AFTER.  \n",
       "813                                                                                                                                                                                    This variable describes the evaluation interval associated with an observation. This provides information about the time period the question referenced. This duration will be provided in ISO 8601 format.   \n",
       "814                                                                                                                                                                                                This variable contains information about the evaluation interval associated with an observation when it cannot be represented in ISO 8601 format (e.g., \"Last few weeks\", \"While hospitalized\").  \n",
       "815                                                                                                                                                                                                                                                 This variable describes when the start of the observation happened in relation to the point described in --STTPT, e.g. BEFORE, DURING or AFTER.  \n",
       "816                                                                                                                                                                                                                                                                           This variable contains the name of the fixed reference point referred to by --STRTPT, e.g. PREVIOUS DOSE, 2003-12-15.  \n",
       "817                                                                                                                                                                                     This variable contains the contributor-defined study day expressed in integer days relative to the start of the study. This variable is used when no dates are provided, only a contributor-defined proxy.   \n",
       "818                                                                                                                                                                                                                                                  This variable contains information about the source of oxygen a patient was using when their OXYSAT - Oxygen Saturation measurement was taken.  "
      ]
     },
     "execution_count": 258,
     "metadata": {},
     "output_type": "execute_result"
    }
   ],
   "source": [
    "# See variables for VS\n",
    "pd.set_option(\"display.max_colwidth\", 1000)\n",
    "data_description.loc[data_description.Domain==VS.name, ['Variable_Name', 'Variable_Type', 'Variable_Definition']]"
   ]
  },
  {
   "cell_type": "code",
   "execution_count": 259,
   "id": "b5197850-0348-4b4a-8ba0-522c18f62add",
   "metadata": {},
   "outputs": [
    {
     "data": {
      "text/plain": [
       "Index(['STUDYID', 'DOMAIN', 'USUBJID', 'VSSEQ', 'VSTESTCD', 'VSTEST', 'VSCAT',\n",
       "       'VSORRES', 'VSORRESU', 'VSSTRESC', 'VSSTRESN', 'VSSTRESU', 'VSSTAT',\n",
       "       'VSREASND', 'VSLOC', 'VISITNUM', 'VISIT', 'VISITDY', 'VSDY', 'VSSTRF',\n",
       "       'VSEVINTX', 'VSCDSTDY', 'VSO2SRC'],\n",
       "      dtype='object')"
      ]
     },
     "execution_count": 259,
     "metadata": {},
     "output_type": "execute_result"
    }
   ],
   "source": [
    "# Columns really in VS\n",
    "VS.columns"
   ]
  },
  {
   "cell_type": "code",
   "execution_count": 260,
   "id": "ef02cb72-c01c-4abe-a7ab-b4aa27d7b55a",
   "metadata": {},
   "outputs": [
    {
     "name": "stdout",
     "output_type": "stream",
     "text": [
      "Values for VSTESTCD:  ['SYSBP' 'TEMP' 'OXYSAT' 'HR' 'DIABP' 'MAP' 'RESP' 'HEIGHT' 'WEIGHT'\n",
      " 'BRTHWT' 'CPLRFLT' 'BMI' 'PULSE' 'MUARMCIR']\n"
     ]
    }
   ],
   "source": [
    "# Investigate VSTESTCD\n",
    "print('Values for VSTESTCD: ', VS['VSTESTCD'].unique())"
   ]
  },
  {
   "cell_type": "code",
   "execution_count": 261,
   "id": "55ae2e13-a7d9-4324-8db5-8445125c764d",
   "metadata": {},
   "outputs": [
    {
     "name": "stdout",
     "output_type": "stream",
     "text": [
      "SYSBP  --->  ['mmHg' nan]\n",
      "TEMP  --->  ['C' nan]\n",
      "OXYSAT  --->  ['%' nan]\n",
      "HR  --->  ['beats/min' nan]\n",
      "DIABP  --->  ['mmHg' nan]\n",
      "MAP  --->  ['mmHg' nan]\n",
      "RESP  --->  ['breaths/min' nan]\n",
      "HEIGHT  --->  ['cm' nan]\n",
      "WEIGHT  --->  ['kg' nan]\n",
      "BRTHWT  --->  ['kg' nan]\n",
      "CPLRFLT  --->  ['sec' nan]\n",
      "BMI  --->  ['kg/m2' nan]\n",
      "PULSE  --->  ['beats/min']\n",
      "MUARMCIR  --->  ['cm' nan]\n"
     ]
    }
   ],
   "source": [
    "# Check units\n",
    "for t in VS['VSTESTCD'].unique():\n",
    "    print(t, ' ---> ', VS.VSSTRESU[VS.VSTESTCD == t].unique())"
   ]
  },
  {
   "cell_type": "markdown",
   "id": "46f0d9e9-a538-40fa-a3e1-707d6992696e",
   "metadata": {},
   "source": [
    "There is only one unit for each test so we do not need to uniformize them."
   ]
  },
  {
   "cell_type": "code",
   "execution_count": 262,
   "id": "2cb037e4-96b5-4588-a37f-135435681768",
   "metadata": {},
   "outputs": [
    {
     "name": "stdout",
     "output_type": "stream",
     "text": [
      "%NA for VSDY:  1.55\n"
     ]
    }
   ],
   "source": [
    "# NA for VSDY\n",
    "print('%NA for VSDY: ', round(VS['VSDY'].isna().sum()/VS.shape[0]*100,2))"
   ]
  },
  {
   "cell_type": "markdown",
   "id": "79f47dfd-b6f3-4d0d-9979-cfb184fbb145",
   "metadata": {},
   "source": [
    "**=> To conclud, for VS, we can keep: USUBJID, VSSEQ, VSTESTCD, VSSTRESC, VSSTRESU and VSDY:**"
   ]
  },
  {
   "cell_type": "code",
   "execution_count": 263,
   "id": "8c1352f0-1a91-4c31-9abb-45778b774411",
   "metadata": {},
   "outputs": [
    {
     "data": {
      "text/plain": [
       "Index(['USUBJID', 'VSSEQ', 'VSTESTCD', 'VSSTRESC', 'VSSTRESU', 'VSDY'], dtype='object')"
      ]
     },
     "execution_count": 263,
     "metadata": {},
     "output_type": "execute_result"
    }
   ],
   "source": [
    "# Keep only some columns for VS\n",
    "VS = VS[['USUBJID','VSSEQ', 'VSTESTCD', 'VSSTRESC', 'VSSTRESU', 'VSDY']]\n",
    "VS.columns"
   ]
  },
  {
   "cell_type": "code",
   "execution_count": 264,
   "id": "cf850986-897e-4ebd-bc54-475d864faf1d",
   "metadata": {},
   "outputs": [
    {
     "data": {
      "text/plain": [
       "(3816942, 6)"
      ]
     },
     "execution_count": 264,
     "metadata": {},
     "output_type": "execute_result"
    }
   ],
   "source": [
    "VS.shape"
   ]
  },
  {
   "cell_type": "markdown",
   "id": "836876d5-7627-4419-834a-c87c75c626ee",
   "metadata": {
    "jp-MarkdownHeadingCollapsed": true,
    "tags": []
   },
   "source": [
    "## 3. Time series or not ?"
   ]
  },
  {
   "cell_type": "markdown",
   "id": "79fea48d-edf0-4276-b56f-7f5972fc6173",
   "metadata": {},
   "source": [
    "To conclud, after {2. Select data}, we keep : DM, DS, HO, IN, LB, MB, RP, RS, SA, SC and VS."
   ]
  },
  {
   "cell_type": "markdown",
   "id": "08c506c9-aadd-4f26-b2d8-ab3c419c1860",
   "metadata": {},
   "source": [
    "We have a notion of time for :\n",
    "- DS with sequential observations\n",
    "- HO with sequential observations\n",
    "- LB with LBDY\n",
    "- MB with sequential observations\n",
    "- RS with RSDY\n",
    "- VS with VSDY\n",
    "\n",
    "The question is whether it is better to keep a single piece of information for each patient or whether it is worth looking at over time."
   ]
  },
  {
   "cell_type": "code",
   "execution_count": 265,
   "id": "b993c571-345d-477a-98b6-decb393c7cfc",
   "metadata": {},
   "outputs": [
    {
     "data": {
      "text/plain": [
       "1    0.994936\n",
       "2    0.004582\n",
       "3    0.000445\n",
       "4    0.000025\n",
       "5    0.000012\n",
       "Name: DSSEQ, dtype: float64"
      ]
     },
     "execution_count": 265,
     "metadata": {},
     "output_type": "execute_result"
    }
   ],
   "source": [
    "# For DS\n",
    "DS.DSSEQ.value_counts(normalize=True)"
   ]
  },
  {
   "cell_type": "markdown",
   "id": "f6dc4531-fb64-47e1-8636-dacb7523bc81",
   "metadata": {},
   "source": [
    "We can see that we have mainly 1 piece of information. As DS allows access to the outcome for each patient, we will choose to keep only the last observation for each patient."
   ]
  },
  {
   "cell_type": "code",
   "execution_count": 266,
   "id": "bf457d52-71ca-41bf-8054-0eab72c9a0e5",
   "metadata": {},
   "outputs": [
    {
     "data": {
      "text/plain": [
       "3      510541\n",
       "2      275388\n",
       "1       33091\n",
       "4        8631\n",
       "5        2505\n",
       "        ...  \n",
       "79          1\n",
       "72          1\n",
       "67          1\n",
       "59          1\n",
       "170         1\n",
       "Name: USUBJID, Length: 83, dtype: int64"
      ]
     },
     "execution_count": 266,
     "metadata": {},
     "output_type": "execute_result"
    }
   ],
   "source": [
    "# For HO\n",
    "pd.DataFrame(HO.USUBJID.value_counts()).USUBJID.value_counts()\n",
    "# The first column is the number of observation for a patient and the second column is the number of patient that have this number of observation"
   ]
  },
  {
   "cell_type": "markdown",
   "id": "252cc578-11fb-4604-bb57-1eba60af5b9b",
   "metadata": {},
   "source": [
    "We can see that we have very diverse numbers of observations for each patient. As we do not have HODY and HO just gives the information between 'HOSPITAL' and 'INTENSIVE CARE UNIT', what seems to be interesting is to keep only if a patient has done a stay in 'INTENSIVE CARE UNIT' at a given time."
   ]
  },
  {
   "cell_type": "code",
   "execution_count": 267,
   "id": "a46917de-98b7-48d0-bda1-67f33280dfc8",
   "metadata": {},
   "outputs": [
    {
     "data": {
      "text/plain": [
       "1      0.392213\n",
       "2      0.265521\n",
       "3      0.127534\n",
       "4      0.076272\n",
       "5      0.036896\n",
       "         ...   \n",
       "69     0.000015\n",
       "65     0.000015\n",
       "50     0.000015\n",
       "45     0.000015\n",
       "165    0.000015\n",
       "Name: USUBJID, Length: 70, dtype: float64"
      ]
     },
     "execution_count": 267,
     "metadata": {},
     "output_type": "execute_result"
    }
   ],
   "source": [
    "# For LB\n",
    "pd.DataFrame(LB.loc[LB.LBTESTCD=='HCT','USUBJID'].value_counts()).USUBJID.value_counts(normalize=True)\n",
    "# The first column is the number of observation for a patient and the second column is the number of patient that have this number of observation\n",
    "# Here we look for the HCT test only"
   ]
  },
  {
   "cell_type": "code",
   "execution_count": 268,
   "id": "5ef2dcfd-98f2-4bb3-9679-90d7befff733",
   "metadata": {},
   "outputs": [
    {
     "data": {
      "text/plain": [
       "1      0.628939\n",
       "2      0.207855\n",
       "3      0.076303\n",
       "4      0.040610\n",
       "5      0.015517\n",
       "         ...   \n",
       "70     0.000004\n",
       "69     0.000004\n",
       "65     0.000004\n",
       "156    0.000004\n",
       "163    0.000004\n",
       "Name: USUBJID, Length: 74, dtype: float64"
      ]
     },
     "execution_count": 268,
     "metadata": {},
     "output_type": "execute_result"
    }
   ],
   "source": [
    "# For LB\n",
    "pd.DataFrame(LB.loc[LB.LBTESTCD=='PLAT','USUBJID'].value_counts()).USUBJID.value_counts(normalize=True)\n",
    "# The first column is the number of observation for a patient and the second column is the number of patient that have this number of observation\n",
    "# Here we look for the PLAT test only"
   ]
  },
  {
   "cell_type": "code",
   "execution_count": 269,
   "id": "18806a6f-1d56-4f76-acc4-6ed1368469a8",
   "metadata": {},
   "outputs": [
    {
     "data": {
      "text/plain": [
       "1      0.634400\n",
       "2      0.200956\n",
       "3      0.076253\n",
       "4      0.041388\n",
       "5      0.015839\n",
       "         ...   \n",
       "65     0.000004\n",
       "58     0.000004\n",
       "54     0.000004\n",
       "49     0.000004\n",
       "165    0.000004\n",
       "Name: USUBJID, Length: 75, dtype: float64"
      ]
     },
     "execution_count": 269,
     "metadata": {},
     "output_type": "execute_result"
    }
   ],
   "source": [
    "# For LB\n",
    "pd.DataFrame(LB.loc[LB.LBTESTCD=='HGB','USUBJID'].value_counts()).USUBJID.value_counts(normalize=True)\n",
    "# The first column is the number of observation for a patient and the second column is the number of patient that have this number of observation\n",
    "# Here we look for the HGB test only"
   ]
  },
  {
   "cell_type": "markdown",
   "id": "53e672d8-38e2-417c-ba75-b0926bb86ea9",
   "metadata": {},
   "source": [
    "When we test for three tests in LB for example, we see that many patients have a single observation. We can therefore begin by keeping the first observation for each test for each patient."
   ]
  },
  {
   "cell_type": "code",
   "execution_count": 270,
   "id": "7b91427b-88ab-4c45-8326-c3eada56884f",
   "metadata": {},
   "outputs": [
    {
     "data": {
      "text/plain": [
       "1    0.997802\n",
       "2    0.002198\n",
       "Name: USUBJID, dtype: float64"
      ]
     },
     "execution_count": 270,
     "metadata": {},
     "output_type": "execute_result"
    }
   ],
   "source": [
    "# For MB\n",
    "pd.DataFrame(MB.loc[MB.MBTESTCD=='CRONAVIR','USUBJID'].value_counts()).USUBJID.value_counts(normalize=True)\n",
    "# The first column is the number of observation for a patient and the second column is the number of patient that have this number of observation\n",
    "# Here we look for the CRONAVIR test only"
   ]
  },
  {
   "cell_type": "code",
   "execution_count": 271,
   "id": "cd5d5a16-c1c1-42f2-b69d-66808c7ad095",
   "metadata": {},
   "outputs": [
    {
     "data": {
      "text/plain": [
       "1    0.99832\n",
       "2    0.00168\n",
       "Name: USUBJID, dtype: float64"
      ]
     },
     "execution_count": 271,
     "metadata": {},
     "output_type": "execute_result"
    }
   ],
   "source": [
    "# For MB\n",
    "pd.DataFrame(MB.loc[MB.MBTESTCD=='INFLUVIR','USUBJID'].value_counts()).USUBJID.value_counts(normalize=True)\n",
    "# The first column is the number of observation for a patient and the second column is the number of patient that have this number of observation\n",
    "# Here we look for the INFLUVIR test only"
   ]
  },
  {
   "cell_type": "markdown",
   "id": "22a028a5-21b4-41fa-8984-e9be0b477edb",
   "metadata": {},
   "source": [
    "When we test for two tests in MB for example, we see that the vast majority of patients have a single observation. We can therefore begin by keeping the first observation for each test for each patient."
   ]
  },
  {
   "cell_type": "code",
   "execution_count": 272,
   "id": "ef6a6ea0-e814-4153-994d-7806ea82da36",
   "metadata": {},
   "outputs": [
    {
     "data": {
      "text/plain": [
       "1      0.405886\n",
       "2      0.336211\n",
       "3      0.089502\n",
       "4      0.079750\n",
       "5      0.049817\n",
       "         ...   \n",
       "76     0.000003\n",
       "56     0.000003\n",
       "70     0.000003\n",
       "69     0.000003\n",
       "169    0.000003\n",
       "Name: USUBJID, Length: 83, dtype: float64"
      ]
     },
     "execution_count": 272,
     "metadata": {},
     "output_type": "execute_result"
    }
   ],
   "source": [
    "# For RS\n",
    "pd.DataFrame(RS.loc[RS.RSCAT=='AVPU','USUBJID'].value_counts()).USUBJID.value_counts(normalize=True)\n",
    "# The first column is the number of observation for a patient and the second column is the number of patient that have this number of observation\n",
    "# Here we look for the AVPU test only"
   ]
  },
  {
   "cell_type": "code",
   "execution_count": 273,
   "id": "6a6e5b98-8ce2-4b63-88d0-a1a42df81bfa",
   "metadata": {},
   "outputs": [
    {
     "data": {
      "text/plain": [
       "1      0.715584\n",
       "2      0.145640\n",
       "3      0.044664\n",
       "4      0.029049\n",
       "5      0.014986\n",
       "         ...   \n",
       "99     0.000008\n",
       "159    0.000008\n",
       "57     0.000008\n",
       "55     0.000008\n",
       "167    0.000008\n",
       "Name: USUBJID, Length: 65, dtype: float64"
      ]
     },
     "execution_count": 273,
     "metadata": {},
     "output_type": "execute_result"
    }
   ],
   "source": [
    "# For RS\n",
    "pd.DataFrame(RS.loc[RS.RSCAT=='GCS NINDS VERSION','USUBJID'].value_counts()).USUBJID.value_counts(normalize=True)\n",
    "# The first column is the number of observation for a patient and the second column is the number of patient that have this number of observation\n",
    "# Here we look for the GCS NINDS VERSION test only"
   ]
  },
  {
   "cell_type": "markdown",
   "id": "1741e4eb-12b2-4a1e-951d-ff1bc428f31e",
   "metadata": {},
   "source": [
    "When we test for two tests in RS for example, we see that many patients have a single observation. We can therefore begin by keeping the last observation for each test for each patient because it is more about outcome."
   ]
  },
  {
   "cell_type": "code",
   "execution_count": 274,
   "id": "ef0a3ee8-8f95-41e2-a7c3-718d1174820c",
   "metadata": {},
   "outputs": [
    {
     "data": {
      "text/plain": [
       "1      0.782338\n",
       "3      0.058317\n",
       "2      0.047703\n",
       "4      0.027808\n",
       "5      0.027212\n",
       "         ...   \n",
       "88     0.000003\n",
       "160    0.000003\n",
       "99     0.000003\n",
       "113    0.000003\n",
       "169    0.000003\n",
       "Name: USUBJID, Length: 78, dtype: float64"
      ]
     },
     "execution_count": 274,
     "metadata": {},
     "output_type": "execute_result"
    }
   ],
   "source": [
    "# For VS\n",
    "pd.DataFrame(VS.loc[VS.VSTESTCD=='SYSBP','USUBJID'].value_counts()).USUBJID.value_counts(normalize=True)\n",
    "# The first column is the number of observation for a patient and the second column is the number of patient that have this number of observation\n",
    "# Here we look for the SYSBP test only"
   ]
  },
  {
   "cell_type": "code",
   "execution_count": 275,
   "id": "9c8c28bf-3c51-468d-bc1a-594a78104e3a",
   "metadata": {},
   "outputs": [
    {
     "data": {
      "text/plain": [
       "2      0.402340\n",
       "3      0.220314\n",
       "1      0.206584\n",
       "4      0.061550\n",
       "5      0.047549\n",
       "         ...   \n",
       "71     0.000003\n",
       "70     0.000003\n",
       "68     0.000003\n",
       "66     0.000003\n",
       "169    0.000003\n",
       "Name: USUBJID, Length: 78, dtype: float64"
      ]
     },
     "execution_count": 275,
     "metadata": {},
     "output_type": "execute_result"
    }
   ],
   "source": [
    "# For VS\n",
    "pd.DataFrame(VS.loc[VS.VSTESTCD=='TEMP','USUBJID'].value_counts()).USUBJID.value_counts(normalize=True)\n",
    "# The first column is the number of observation for a patient and the second column is the number of patient that have this number of observation\n",
    "# Here we look for the TEMP test only"
   ]
  },
  {
   "cell_type": "markdown",
   "id": "8bd0d385-e4f0-41fd-b8f8-79f9ee92e400",
   "metadata": {},
   "source": [
    "When we test for two tests in VS for example, we see that many patients have a single observation. We can therefore begin by keeping the first observation for each test for each patient."
   ]
  },
  {
   "cell_type": "markdown",
   "id": "5fe30c56-3e3d-4fae-aa1b-d2ac5712faeb",
   "metadata": {},
   "source": [
    "## 4. Construct the matrix with the informations (without time series)"
   ]
  },
  {
   "cell_type": "markdown",
   "id": "9cc65a6d-9ac0-4fba-bc70-c99e775226e6",
   "metadata": {},
   "source": [
    "The objective is to build a compatible format to do the studies afterwards with the data we have kept."
   ]
  },
  {
   "cell_type": "markdown",
   "id": "65224162-03ad-4fce-81a0-26366ec39c6d",
   "metadata": {
    "jp-MarkdownHeadingCollapsed": true,
    "tags": []
   },
   "source": [
    "### For DM:"
   ]
  },
  {
   "cell_type": "code",
   "execution_count": 388,
   "id": "c71b0b4e-8045-411c-bd1b-17e6b42a8955",
   "metadata": {},
   "outputs": [
    {
     "data": {
      "text/html": [
       "<div>\n",
       "<style scoped>\n",
       "    .dataframe tbody tr th:only-of-type {\n",
       "        vertical-align: middle;\n",
       "    }\n",
       "\n",
       "    .dataframe tbody tr th {\n",
       "        vertical-align: top;\n",
       "    }\n",
       "\n",
       "    .dataframe thead th {\n",
       "        text-align: right;\n",
       "    }\n",
       "</style>\n",
       "<table border=\"1\" class=\"dataframe\">\n",
       "  <thead>\n",
       "    <tr style=\"text-align: right;\">\n",
       "      <th></th>\n",
       "      <th>USUBJID</th>\n",
       "      <th>RFSTDTC</th>\n",
       "      <th>AGE</th>\n",
       "      <th>SEX</th>\n",
       "      <th>COUNTRY</th>\n",
       "    </tr>\n",
       "  </thead>\n",
       "  <tbody>\n",
       "    <tr>\n",
       "      <th>0</th>\n",
       "      <td>330085</td>\n",
       "      <td>2020-01</td>\n",
       "      <td>31.0</td>\n",
       "      <td>M</td>\n",
       "      <td>FRA</td>\n",
       "    </tr>\n",
       "    <tr>\n",
       "      <th>1</th>\n",
       "      <td>527994</td>\n",
       "      <td>2020-03</td>\n",
       "      <td>76.0</td>\n",
       "      <td>M</td>\n",
       "      <td>FRA</td>\n",
       "    </tr>\n",
       "    <tr>\n",
       "      <th>2</th>\n",
       "      <td>483327</td>\n",
       "      <td>2020-03</td>\n",
       "      <td>70.0</td>\n",
       "      <td>F</td>\n",
       "      <td>FRA</td>\n",
       "    </tr>\n",
       "  </tbody>\n",
       "</table>\n",
       "</div>"
      ],
      "text/plain": [
       "   USUBJID  RFSTDTC   AGE SEX COUNTRY\n",
       "0   330085  2020-01  31.0   M     FRA\n",
       "1   527994  2020-03  76.0   M     FRA\n",
       "2   483327  2020-03  70.0   F     FRA"
      ]
     },
     "execution_count": 388,
     "metadata": {},
     "output_type": "execute_result"
    }
   ],
   "source": [
    "DM_matrix = DM.copy()\n",
    "DM_matrix.head(3)"
   ]
  },
  {
   "cell_type": "code",
   "execution_count": 389,
   "id": "b5576719-9ef7-4996-965d-db3f87ab0ef9",
   "metadata": {},
   "outputs": [],
   "source": [
    "# Drop duplicates in USUBJID and keep the one with fewer NA\n",
    "DM_matrix = DM_matrix.assign(counts=DM_matrix.count(axis=1)).sort_values(['USUBJID', 'counts']).drop_duplicates('USUBJID', keep='last').drop('counts', axis=1)"
   ]
  },
  {
   "cell_type": "code",
   "execution_count": 390,
   "id": "910203d9-0733-4aae-a179-fb30f32e5f0e",
   "metadata": {},
   "outputs": [],
   "source": [
    "# Convert SEX and COUNTRY to numeric\n",
    "\n",
    "original = DM_matrix.copy()\n",
    "mask = DM_matrix.isnull()\n",
    "\n",
    "le = LabelEncoder()\n",
    "\n",
    "# SEX\n",
    "sex_encoded = le.fit_transform(DM_matrix['SEX'])\n",
    "DM_matrix.drop('SEX', axis=1, inplace=True)\n",
    "DM_matrix['SEX'] = sex_encoded\n",
    "\n",
    "# COUNTRY\n",
    "country_encoded = le.fit_transform(DM_matrix['COUNTRY'])\n",
    "DM_matrix.drop('COUNTRY', axis=1, inplace=True)\n",
    "DM_matrix['COUNTRY'] = country_encoded\n",
    "\n",
    "DM_matrix = DM_matrix.where(~mask, original)"
   ]
  },
  {
   "cell_type": "code",
   "execution_count": 391,
   "id": "b1908525-0749-4f95-a1d6-db01afedb45c",
   "metadata": {},
   "outputs": [],
   "source": [
    "# Drop RFSTDTC\n",
    "DM_matrix.drop('RFSTDTC', axis=1, inplace=True)"
   ]
  },
  {
   "cell_type": "code",
   "execution_count": 392,
   "id": "e309ac31-a9a5-40ef-a1ee-e1c9d53e6a75",
   "metadata": {},
   "outputs": [],
   "source": [
    "# Put USUBJID as index\n",
    "DM_matrix.set_index('USUBJID', inplace=True)"
   ]
  },
  {
   "cell_type": "code",
   "execution_count": 393,
   "id": "f4b18c27-75ab-4365-be99-9a777f23f31d",
   "metadata": {},
   "outputs": [
    {
     "data": {
      "text/html": [
       "<div>\n",
       "<style scoped>\n",
       "    .dataframe tbody tr th:only-of-type {\n",
       "        vertical-align: middle;\n",
       "    }\n",
       "\n",
       "    .dataframe tbody tr th {\n",
       "        vertical-align: top;\n",
       "    }\n",
       "\n",
       "    .dataframe thead th {\n",
       "        text-align: right;\n",
       "    }\n",
       "</style>\n",
       "<table border=\"1\" class=\"dataframe\">\n",
       "  <thead>\n",
       "    <tr style=\"text-align: right;\">\n",
       "      <th></th>\n",
       "      <th>AGE</th>\n",
       "      <th>SEX</th>\n",
       "      <th>COUNTRY</th>\n",
       "    </tr>\n",
       "    <tr>\n",
       "      <th>USUBJID</th>\n",
       "      <th></th>\n",
       "      <th></th>\n",
       "      <th></th>\n",
       "    </tr>\n",
       "  </thead>\n",
       "  <tbody>\n",
       "    <tr>\n",
       "      <th>1</th>\n",
       "      <td>62.0</td>\n",
       "      <td>0</td>\n",
       "      <td>15</td>\n",
       "    </tr>\n",
       "    <tr>\n",
       "      <th>2</th>\n",
       "      <td>76.0</td>\n",
       "      <td>1</td>\n",
       "      <td>15</td>\n",
       "    </tr>\n",
       "    <tr>\n",
       "      <th>3</th>\n",
       "      <td>40.0</td>\n",
       "      <td>1</td>\n",
       "      <td>40</td>\n",
       "    </tr>\n",
       "  </tbody>\n",
       "</table>\n",
       "</div>"
      ],
      "text/plain": [
       "          AGE SEX COUNTRY\n",
       "USUBJID                  \n",
       "1        62.0   0      15\n",
       "2        76.0   1      15\n",
       "3        40.0   1      40"
      ]
     },
     "execution_count": 393,
     "metadata": {},
     "output_type": "execute_result"
    }
   ],
   "source": [
    "DM_matrix.head(3)"
   ]
  },
  {
   "cell_type": "code",
   "execution_count": 394,
   "id": "726c1dea-faa2-4b24-8eb0-0b3be5df3a9f",
   "metadata": {},
   "outputs": [
    {
     "data": {
      "text/plain": [
       "False"
      ]
     },
     "execution_count": 394,
     "metadata": {},
     "output_type": "execute_result"
    }
   ],
   "source": [
    "# Check if indexes are unique\n",
    "index = DM_matrix.index\n",
    "index.has_duplicates"
   ]
  },
  {
   "cell_type": "markdown",
   "id": "00e9f1f6-ab2d-421c-a8cb-bd4d425ff121",
   "metadata": {
    "tags": []
   },
   "source": [
    "### For DS:"
   ]
  },
  {
   "cell_type": "code",
   "execution_count": 395,
   "id": "246e7225-cfc9-4589-9b03-cf45fce5fd20",
   "metadata": {},
   "outputs": [
    {
     "data": {
      "text/html": [
       "<div>\n",
       "<style scoped>\n",
       "    .dataframe tbody tr th:only-of-type {\n",
       "        vertical-align: middle;\n",
       "    }\n",
       "\n",
       "    .dataframe tbody tr th {\n",
       "        vertical-align: top;\n",
       "    }\n",
       "\n",
       "    .dataframe thead th {\n",
       "        text-align: right;\n",
       "    }\n",
       "</style>\n",
       "<table border=\"1\" class=\"dataframe\">\n",
       "  <thead>\n",
       "    <tr style=\"text-align: right;\">\n",
       "      <th></th>\n",
       "      <th>USUBJID</th>\n",
       "      <th>DSSEQ</th>\n",
       "      <th>DSDECOD</th>\n",
       "    </tr>\n",
       "  </thead>\n",
       "  <tbody>\n",
       "    <tr>\n",
       "      <th>0</th>\n",
       "      <td>330085</td>\n",
       "      <td>1</td>\n",
       "      <td>DISCHARGED</td>\n",
       "    </tr>\n",
       "    <tr>\n",
       "      <th>1</th>\n",
       "      <td>527994</td>\n",
       "      <td>1</td>\n",
       "      <td>DEATH</td>\n",
       "    </tr>\n",
       "    <tr>\n",
       "      <th>2</th>\n",
       "      <td>483327</td>\n",
       "      <td>1</td>\n",
       "      <td>TRANSFERRED</td>\n",
       "    </tr>\n",
       "  </tbody>\n",
       "</table>\n",
       "</div>"
      ],
      "text/plain": [
       "   USUBJID  DSSEQ      DSDECOD\n",
       "0   330085      1   DISCHARGED\n",
       "1   527994      1        DEATH\n",
       "2   483327      1  TRANSFERRED"
      ]
     },
     "execution_count": 395,
     "metadata": {},
     "output_type": "execute_result"
    }
   ],
   "source": [
    "DS_matrix = DS.copy()\n",
    "DS_matrix.head(3)"
   ]
  },
  {
   "cell_type": "code",
   "execution_count": 396,
   "id": "b42b4cd3-6b80-4b4f-bd04-5f525ea328d0",
   "metadata": {},
   "outputs": [],
   "source": [
    "# Keep last observation for each patient\n",
    "DS_matrix = DS_matrix.sort_values(by=['DSSEQ'], ascending=False).drop_duplicates(subset=['USUBJID'], keep='first')"
   ]
  },
  {
   "cell_type": "code",
   "execution_count": 397,
   "id": "456e05ba-645d-4523-b9a6-cf21611ecf66",
   "metadata": {},
   "outputs": [
    {
     "data": {
      "text/plain": [
       "array(['DISCHARGED', 'DEATH', 'TRANSFERRED', nan, 'STILL IN HOSPITAL',\n",
       "       'LOST TO FOLLOW-UP'], dtype=object)"
      ]
     },
     "execution_count": 397,
     "metadata": {},
     "output_type": "execute_result"
    }
   ],
   "source": [
    "DS_matrix.DSDECOD.unique()"
   ]
  },
  {
   "cell_type": "code",
   "execution_count": 398,
   "id": "8446a4ed-0d38-42b3-b009-6b0da3e627ab",
   "metadata": {},
   "outputs": [
    {
     "data": {
      "text/plain": [
       "array(['DISCHARGED', 'DEATH', 'TRANSFERRED', nan, 'STILL IN HOSPITAL'],\n",
       "      dtype=object)"
      ]
     },
     "execution_count": 398,
     "metadata": {},
     "output_type": "execute_result"
    }
   ],
   "source": [
    "# Replace LOST TO FOLLOW-UP by NA\n",
    "DS_matrix.loc[DS_matrix.DSDECOD.isin(['LOST TO FOLLOW-UP', 'STILL IN HOSPITAL', 'TRANSFERRED']), 'DSDECOD'] = np.nan\n",
    "DS_matrix.DSDECOD.unique()"
   ]
  },
  {
   "cell_type": "code",
   "execution_count": 399,
   "id": "cee10ba0-e36a-42a2-85e7-432035278f5c",
   "metadata": {},
   "outputs": [],
   "source": [
    "# Convert DSDECOD to numeric\n",
    "\n",
    "original = DS_matrix.copy()\n",
    "mask = DS_matrix.isnull()\n",
    "\n",
    "maplist = [{'col': 'DSDECOD', 'mapping': {'DISCHARGED': 0, 'DEATH': 1}}]\n",
    "le = OrdinalEncoder(mapping=maplist)\n",
    "DS_matrix = le.fit_transform(DS_matrix)\n",
    "\n",
    "DS_matrix = DS_matrix.where(~mask, original)"
   ]
  },
  {
   "cell_type": "code",
   "execution_count": 400,
   "id": "ac59e60d-4854-4ab9-aa08-44b0e4ffd8b6",
   "metadata": {},
   "outputs": [],
   "source": [
    "# Drop DSSEQ\n",
    "DS_matrix.drop('DSSEQ', axis=1, inplace=True)"
   ]
  },
  {
   "cell_type": "code",
   "execution_count": 401,
   "id": "3ea04186-239e-48ee-bbd6-9dd9d5af719a",
   "metadata": {},
   "outputs": [],
   "source": [
    "# Put USUBJID as index\n",
    "DS_matrix.set_index('USUBJID', inplace=True)"
   ]
  },
  {
   "cell_type": "code",
   "execution_count": 402,
   "id": "cfa923d3-f329-4339-a22d-044704ec8436",
   "metadata": {},
   "outputs": [
    {
     "data": {
      "text/html": [
       "<div>\n",
       "<style scoped>\n",
       "    .dataframe tbody tr th:only-of-type {\n",
       "        vertical-align: middle;\n",
       "    }\n",
       "\n",
       "    .dataframe tbody tr th {\n",
       "        vertical-align: top;\n",
       "    }\n",
       "\n",
       "    .dataframe thead th {\n",
       "        text-align: right;\n",
       "    }\n",
       "</style>\n",
       "<table border=\"1\" class=\"dataframe\">\n",
       "  <thead>\n",
       "    <tr style=\"text-align: right;\">\n",
       "      <th></th>\n",
       "      <th>DSDECOD</th>\n",
       "    </tr>\n",
       "    <tr>\n",
       "      <th>USUBJID</th>\n",
       "      <th></th>\n",
       "    </tr>\n",
       "  </thead>\n",
       "  <tbody>\n",
       "    <tr>\n",
       "      <th>273356</th>\n",
       "      <td>0.0</td>\n",
       "    </tr>\n",
       "    <tr>\n",
       "      <th>774538</th>\n",
       "      <td>0.0</td>\n",
       "    </tr>\n",
       "    <tr>\n",
       "      <th>710685</th>\n",
       "      <td>0.0</td>\n",
       "    </tr>\n",
       "  </tbody>\n",
       "</table>\n",
       "</div>"
      ],
      "text/plain": [
       "        DSDECOD\n",
       "USUBJID        \n",
       "273356      0.0\n",
       "774538      0.0\n",
       "710685      0.0"
      ]
     },
     "execution_count": 402,
     "metadata": {},
     "output_type": "execute_result"
    }
   ],
   "source": [
    "DS_matrix.head(3)"
   ]
  },
  {
   "cell_type": "code",
   "execution_count": 403,
   "id": "6311932f-58fa-4fb7-96b0-4ca2c1d59325",
   "metadata": {},
   "outputs": [
    {
     "data": {
      "text/plain": [
       "False"
      ]
     },
     "execution_count": 403,
     "metadata": {},
     "output_type": "execute_result"
    }
   ],
   "source": [
    "# Check if indexes are unique\n",
    "index = DS_matrix.index\n",
    "index.has_duplicates"
   ]
  },
  {
   "cell_type": "markdown",
   "id": "525e79df-ea2d-4d82-88ed-cf9221a4f860",
   "metadata": {
    "jp-MarkdownHeadingCollapsed": true,
    "tags": []
   },
   "source": [
    "### For HO:"
   ]
  },
  {
   "cell_type": "code",
   "execution_count": 404,
   "id": "0eadddd8-0da0-443e-88fd-6f98a6e78a4e",
   "metadata": {},
   "outputs": [
    {
     "data": {
      "text/html": [
       "<div>\n",
       "<style scoped>\n",
       "    .dataframe tbody tr th:only-of-type {\n",
       "        vertical-align: middle;\n",
       "    }\n",
       "\n",
       "    .dataframe tbody tr th {\n",
       "        vertical-align: top;\n",
       "    }\n",
       "\n",
       "    .dataframe thead th {\n",
       "        text-align: right;\n",
       "    }\n",
       "</style>\n",
       "<table border=\"1\" class=\"dataframe\">\n",
       "  <thead>\n",
       "    <tr style=\"text-align: right;\">\n",
       "      <th></th>\n",
       "      <th>USUBJID</th>\n",
       "      <th>HOSEQ</th>\n",
       "      <th>HODECOD</th>\n",
       "    </tr>\n",
       "  </thead>\n",
       "  <tbody>\n",
       "    <tr>\n",
       "      <th>0</th>\n",
       "      <td>330085</td>\n",
       "      <td>1</td>\n",
       "      <td>HOSPITAL</td>\n",
       "    </tr>\n",
       "    <tr>\n",
       "      <th>1</th>\n",
       "      <td>330085</td>\n",
       "      <td>2</td>\n",
       "      <td>INTENSIVE CARE UNIT</td>\n",
       "    </tr>\n",
       "    <tr>\n",
       "      <th>2</th>\n",
       "      <td>330085</td>\n",
       "      <td>3</td>\n",
       "      <td>INTENSIVE CARE UNIT</td>\n",
       "    </tr>\n",
       "  </tbody>\n",
       "</table>\n",
       "</div>"
      ],
      "text/plain": [
       "   USUBJID  HOSEQ              HODECOD\n",
       "0   330085      1             HOSPITAL\n",
       "1   330085      2  INTENSIVE CARE UNIT\n",
       "2   330085      3  INTENSIVE CARE UNIT"
      ]
     },
     "execution_count": 404,
     "metadata": {},
     "output_type": "execute_result"
    }
   ],
   "source": [
    "HO_matrix = HO.copy()\n",
    "HO_matrix.head(3)"
   ]
  },
  {
   "cell_type": "code",
   "execution_count": 405,
   "id": "03b9da10-5360-469e-baf4-f9d6b7569903",
   "metadata": {},
   "outputs": [],
   "source": [
    "# Drop HOSEQ and then drop duplicates\n",
    "HO_matrix.drop('HOSEQ', axis=1, inplace=True)\n",
    "HO_matrix.drop_duplicates(inplace=True)"
   ]
  },
  {
   "cell_type": "code",
   "execution_count": 406,
   "id": "8d859133-79b2-4522-b570-85489f598b17",
   "metadata": {},
   "outputs": [],
   "source": [
    "# Keep only if the patient went in intensive care unit or not\n",
    "HO_matrix = HO_matrix.sort_values(by=['HODECOD']).drop_duplicates(subset=['USUBJID'], keep='last')"
   ]
  },
  {
   "cell_type": "code",
   "execution_count": 407,
   "id": "fcc8d64b-4346-4c38-8c68-574e8c0a489d",
   "metadata": {},
   "outputs": [],
   "source": [
    "# Convert HODECOD to numeric\n",
    "\n",
    "original = HO_matrix.copy()\n",
    "mask = HO_matrix.isnull()\n",
    "\n",
    "le = LabelEncoder()\n",
    "hodecod_encoded = le.fit_transform(HO_matrix['HODECOD'])\n",
    "HO_matrix.drop('HODECOD', axis=1, inplace=True)\n",
    "HO_matrix['HODECOD'] = hodecod_encoded\n",
    "\n",
    "HO_matrix = HO_matrix.where(~mask, original)"
   ]
  },
  {
   "cell_type": "code",
   "execution_count": 408,
   "id": "03f3cdb8-7474-42a5-beeb-10603fa90f79",
   "metadata": {},
   "outputs": [],
   "source": [
    "# Put USUBJID as index\n",
    "HO_matrix.set_index('USUBJID', inplace=True)"
   ]
  },
  {
   "cell_type": "code",
   "execution_count": 409,
   "id": "4eb8141a-4ef8-42cd-bbc3-e3ae34e8b077",
   "metadata": {},
   "outputs": [
    {
     "data": {
      "text/html": [
       "<div>\n",
       "<style scoped>\n",
       "    .dataframe tbody tr th:only-of-type {\n",
       "        vertical-align: middle;\n",
       "    }\n",
       "\n",
       "    .dataframe tbody tr th {\n",
       "        vertical-align: top;\n",
       "    }\n",
       "\n",
       "    .dataframe thead th {\n",
       "        text-align: right;\n",
       "    }\n",
       "</style>\n",
       "<table border=\"1\" class=\"dataframe\">\n",
       "  <thead>\n",
       "    <tr style=\"text-align: right;\">\n",
       "      <th></th>\n",
       "      <th>HODECOD</th>\n",
       "    </tr>\n",
       "    <tr>\n",
       "      <th>USUBJID</th>\n",
       "      <th></th>\n",
       "    </tr>\n",
       "  </thead>\n",
       "  <tbody>\n",
       "    <tr>\n",
       "      <th>660208</th>\n",
       "      <td>0</td>\n",
       "    </tr>\n",
       "    <tr>\n",
       "      <th>685658</th>\n",
       "      <td>0</td>\n",
       "    </tr>\n",
       "    <tr>\n",
       "      <th>635936</th>\n",
       "      <td>0</td>\n",
       "    </tr>\n",
       "  </tbody>\n",
       "</table>\n",
       "</div>"
      ],
      "text/plain": [
       "         HODECOD\n",
       "USUBJID         \n",
       "660208         0\n",
       "685658         0\n",
       "635936         0"
      ]
     },
     "execution_count": 409,
     "metadata": {},
     "output_type": "execute_result"
    }
   ],
   "source": [
    "HO_matrix.head(3)"
   ]
  },
  {
   "cell_type": "code",
   "execution_count": 410,
   "id": "29e63784-7a0b-4e37-b6ff-2252df5e2ab6",
   "metadata": {},
   "outputs": [
    {
     "data": {
      "text/plain": [
       "False"
      ]
     },
     "execution_count": 410,
     "metadata": {},
     "output_type": "execute_result"
    }
   ],
   "source": [
    "# Check if indexes are unique\n",
    "index = HO_matrix.index\n",
    "index.has_duplicates"
   ]
  },
  {
   "cell_type": "markdown",
   "id": "493da374-9fc5-44da-9926-b466faa62171",
   "metadata": {
    "jp-MarkdownHeadingCollapsed": true,
    "tags": []
   },
   "source": [
    "### For IN:"
   ]
  },
  {
   "cell_type": "code",
   "execution_count": 411,
   "id": "a7bc2d63-37c8-4a1b-afb7-dd80686cec88",
   "metadata": {},
   "outputs": [
    {
     "data": {
      "text/html": [
       "<div>\n",
       "<style scoped>\n",
       "    .dataframe tbody tr th:only-of-type {\n",
       "        vertical-align: middle;\n",
       "    }\n",
       "\n",
       "    .dataframe tbody tr th {\n",
       "        vertical-align: top;\n",
       "    }\n",
       "\n",
       "    .dataframe thead th {\n",
       "        text-align: right;\n",
       "    }\n",
       "</style>\n",
       "<table border=\"1\" class=\"dataframe\">\n",
       "  <thead>\n",
       "    <tr style=\"text-align: right;\">\n",
       "      <th></th>\n",
       "      <th>USUBJID</th>\n",
       "      <th>INSEQ</th>\n",
       "      <th>INCLAS</th>\n",
       "    </tr>\n",
       "  </thead>\n",
       "  <tbody>\n",
       "    <tr>\n",
       "      <th>0</th>\n",
       "      <td>457592</td>\n",
       "      <td>31</td>\n",
       "      <td>ARTIFICIAL RESPIRATION</td>\n",
       "    </tr>\n",
       "    <tr>\n",
       "      <th>1</th>\n",
       "      <td>457592</td>\n",
       "      <td>32</td>\n",
       "      <td>ARTIFICIAL RESPIRATION</td>\n",
       "    </tr>\n",
       "    <tr>\n",
       "      <th>2</th>\n",
       "      <td>457592</td>\n",
       "      <td>33</td>\n",
       "      <td>ANTIMALARIALS</td>\n",
       "    </tr>\n",
       "  </tbody>\n",
       "</table>\n",
       "</div>"
      ],
      "text/plain": [
       "   USUBJID  INSEQ                  INCLAS\n",
       "0   457592     31  ARTIFICIAL RESPIRATION\n",
       "1   457592     32  ARTIFICIAL RESPIRATION\n",
       "2   457592     33           ANTIMALARIALS"
      ]
     },
     "execution_count": 411,
     "metadata": {},
     "output_type": "execute_result"
    }
   ],
   "source": [
    "IN_matrix = IN.copy()\n",
    "IN_matrix.head(3)"
   ]
  },
  {
   "cell_type": "markdown",
   "id": "433e62af-b7fb-425b-b132-2cdd816b4a2a",
   "metadata": {},
   "source": [
    "We will keep all observation for each patient:"
   ]
  },
  {
   "cell_type": "code",
   "execution_count": 412,
   "id": "8d862794-0025-411a-a831-5a1b3d3c9cb1",
   "metadata": {},
   "outputs": [],
   "source": [
    "# Drop INSEQ and drop duplicates\n",
    "IN_matrix.drop('INSEQ', axis=1, inplace=True)\n",
    "IN_matrix.drop_duplicates(inplace=True)"
   ]
  },
  {
   "cell_type": "code",
   "execution_count": 413,
   "id": "9159552c-4944-4efc-b587-cc55b2d24aea",
   "metadata": {},
   "outputs": [
    {
     "name": "stderr",
     "output_type": "stream",
     "text": [
      "C:\\Users\\felic\\AppData\\Local\\Temp\\ipykernel_18396\\586739539.py:2: FutureWarning: In a future version of pandas all arguments of concat except for the argument 'objs' will be keyword-only.\n",
      "  IN_matrix = pd.concat([IN_matrix, pd.get_dummies(IN_matrix.INCLAS)], 1).groupby(['USUBJID']).sum().reset_index()\n"
     ]
    }
   ],
   "source": [
    "# Convert INCLAS to numeric but with possiblity of several observations for each patient\n",
    "IN_matrix = pd.concat([IN_matrix, pd.get_dummies(IN_matrix.INCLAS)], 1).groupby(['USUBJID']).sum().reset_index()"
   ]
  },
  {
   "cell_type": "code",
   "execution_count": 414,
   "id": "8fb29533-5333-4d5f-9614-eefe5cf927a2",
   "metadata": {},
   "outputs": [],
   "source": [
    "# Put USUBJID as index and add prefix\n",
    "IN_matrix.set_index('USUBJID', inplace=True)\n",
    "IN_matrix = IN_matrix.add_prefix('INCLAS_')\n",
    "IN_matrix.columns = IN_matrix.columns.str.replace(' ', '_')"
   ]
  },
  {
   "cell_type": "code",
   "execution_count": 415,
   "id": "fb156268-d027-4bc5-8aad-f9256c07a7c0",
   "metadata": {},
   "outputs": [
    {
     "data": {
      "text/html": [
       "<div>\n",
       "<style scoped>\n",
       "    .dataframe tbody tr th:only-of-type {\n",
       "        vertical-align: middle;\n",
       "    }\n",
       "\n",
       "    .dataframe tbody tr th {\n",
       "        vertical-align: top;\n",
       "    }\n",
       "\n",
       "    .dataframe thead th {\n",
       "        text-align: right;\n",
       "    }\n",
       "</style>\n",
       "<table border=\"1\" class=\"dataframe\">\n",
       "  <thead>\n",
       "    <tr style=\"text-align: right;\">\n",
       "      <th></th>\n",
       "      <th>INCLAS_AGENTS_ACTING_ON_THE_RENIN-ANGIOTENSIN_SYSTEM</th>\n",
       "      <th>INCLAS_ANALGESICS</th>\n",
       "      <th>INCLAS_ANESTHETICS</th>\n",
       "      <th>INCLAS_ANTIBACTERIALS_FOR_SYSTEMIC_USE</th>\n",
       "      <th>INCLAS_ANTIHELMINTICS</th>\n",
       "      <th>INCLAS_ANTIINFLAMMATORY_AND_ANTIRHEUMATIC_PRODUCTS,_NON-STEROIDS</th>\n",
       "      <th>INCLAS_ANTIMALARIALS</th>\n",
       "      <th>INCLAS_ANTIMYCOTICS_FOR_SYSTEMIC_USE</th>\n",
       "      <th>INCLAS_ANTITHROMBOTIC_AGENTS</th>\n",
       "      <th>INCLAS_ANTIVIRALS_FOR_SYSTEMIC_USE</th>\n",
       "      <th>...</th>\n",
       "      <th>INCLAS_OXYGEN</th>\n",
       "      <th>INCLAS_PERCUTANEOUS_ENDOSCOPIC_GASTROSTOMY</th>\n",
       "      <th>INCLAS_PRONE_BODY_POSITION</th>\n",
       "      <th>INCLAS_PSYCHOLEPTICS</th>\n",
       "      <th>INCLAS_REMOVAL_OF_ENDOTRACHEAL_TUBE</th>\n",
       "      <th>INCLAS_RENAL_REPLACEMENT</th>\n",
       "      <th>INCLAS_REPLACEMENT_AGENT</th>\n",
       "      <th>INCLAS_TOTAL_PARENTERAL_NUTRITION</th>\n",
       "      <th>INCLAS_TRANSFUSION_OF_BLOOD_PRODUCT</th>\n",
       "      <th>INCLAS_VACCINES</th>\n",
       "    </tr>\n",
       "    <tr>\n",
       "      <th>USUBJID</th>\n",
       "      <th></th>\n",
       "      <th></th>\n",
       "      <th></th>\n",
       "      <th></th>\n",
       "      <th></th>\n",
       "      <th></th>\n",
       "      <th></th>\n",
       "      <th></th>\n",
       "      <th></th>\n",
       "      <th></th>\n",
       "      <th></th>\n",
       "      <th></th>\n",
       "      <th></th>\n",
       "      <th></th>\n",
       "      <th></th>\n",
       "      <th></th>\n",
       "      <th></th>\n",
       "      <th></th>\n",
       "      <th></th>\n",
       "      <th></th>\n",
       "      <th></th>\n",
       "    </tr>\n",
       "  </thead>\n",
       "  <tbody>\n",
       "    <tr>\n",
       "      <th>1</th>\n",
       "      <td>0</td>\n",
       "      <td>0</td>\n",
       "      <td>0</td>\n",
       "      <td>1</td>\n",
       "      <td>0</td>\n",
       "      <td>0</td>\n",
       "      <td>0</td>\n",
       "      <td>1</td>\n",
       "      <td>0</td>\n",
       "      <td>1</td>\n",
       "      <td>...</td>\n",
       "      <td>1</td>\n",
       "      <td>0</td>\n",
       "      <td>1</td>\n",
       "      <td>0</td>\n",
       "      <td>0</td>\n",
       "      <td>1</td>\n",
       "      <td>0</td>\n",
       "      <td>0</td>\n",
       "      <td>0</td>\n",
       "      <td>0</td>\n",
       "    </tr>\n",
       "    <tr>\n",
       "      <th>2</th>\n",
       "      <td>1</td>\n",
       "      <td>0</td>\n",
       "      <td>0</td>\n",
       "      <td>1</td>\n",
       "      <td>0</td>\n",
       "      <td>1</td>\n",
       "      <td>0</td>\n",
       "      <td>1</td>\n",
       "      <td>0</td>\n",
       "      <td>1</td>\n",
       "      <td>...</td>\n",
       "      <td>1</td>\n",
       "      <td>0</td>\n",
       "      <td>1</td>\n",
       "      <td>1</td>\n",
       "      <td>0</td>\n",
       "      <td>1</td>\n",
       "      <td>0</td>\n",
       "      <td>0</td>\n",
       "      <td>0</td>\n",
       "      <td>0</td>\n",
       "    </tr>\n",
       "    <tr>\n",
       "      <th>3</th>\n",
       "      <td>1</td>\n",
       "      <td>0</td>\n",
       "      <td>0</td>\n",
       "      <td>1</td>\n",
       "      <td>0</td>\n",
       "      <td>1</td>\n",
       "      <td>1</td>\n",
       "      <td>1</td>\n",
       "      <td>1</td>\n",
       "      <td>1</td>\n",
       "      <td>...</td>\n",
       "      <td>1</td>\n",
       "      <td>0</td>\n",
       "      <td>1</td>\n",
       "      <td>0</td>\n",
       "      <td>0</td>\n",
       "      <td>1</td>\n",
       "      <td>0</td>\n",
       "      <td>0</td>\n",
       "      <td>0</td>\n",
       "      <td>1</td>\n",
       "    </tr>\n",
       "  </tbody>\n",
       "</table>\n",
       "<p>3 rows × 44 columns</p>\n",
       "</div>"
      ],
      "text/plain": [
       "         INCLAS_AGENTS_ACTING_ON_THE_RENIN-ANGIOTENSIN_SYSTEM  \\\n",
       "USUBJID                                                         \n",
       "1                                                           0   \n",
       "2                                                           1   \n",
       "3                                                           1   \n",
       "\n",
       "         INCLAS_ANALGESICS  INCLAS_ANESTHETICS  \\\n",
       "USUBJID                                          \n",
       "1                        0                   0   \n",
       "2                        0                   0   \n",
       "3                        0                   0   \n",
       "\n",
       "         INCLAS_ANTIBACTERIALS_FOR_SYSTEMIC_USE  INCLAS_ANTIHELMINTICS  \\\n",
       "USUBJID                                                                  \n",
       "1                                             1                      0   \n",
       "2                                             1                      0   \n",
       "3                                             1                      0   \n",
       "\n",
       "         INCLAS_ANTIINFLAMMATORY_AND_ANTIRHEUMATIC_PRODUCTS,_NON-STEROIDS  \\\n",
       "USUBJID                                                                     \n",
       "1                                                                       0   \n",
       "2                                                                       1   \n",
       "3                                                                       1   \n",
       "\n",
       "         INCLAS_ANTIMALARIALS  INCLAS_ANTIMYCOTICS_FOR_SYSTEMIC_USE  \\\n",
       "USUBJID                                                               \n",
       "1                           0                                     1   \n",
       "2                           0                                     1   \n",
       "3                           1                                     1   \n",
       "\n",
       "         INCLAS_ANTITHROMBOTIC_AGENTS  INCLAS_ANTIVIRALS_FOR_SYSTEMIC_USE  \\\n",
       "USUBJID                                                                     \n",
       "1                                   0                                   1   \n",
       "2                                   0                                   1   \n",
       "3                                   1                                   1   \n",
       "\n",
       "         ...  INCLAS_OXYGEN  INCLAS_PERCUTANEOUS_ENDOSCOPIC_GASTROSTOMY  \\\n",
       "USUBJID  ...                                                              \n",
       "1        ...              1                                           0   \n",
       "2        ...              1                                           0   \n",
       "3        ...              1                                           0   \n",
       "\n",
       "         INCLAS_PRONE_BODY_POSITION  INCLAS_PSYCHOLEPTICS  \\\n",
       "USUBJID                                                     \n",
       "1                                 1                     0   \n",
       "2                                 1                     1   \n",
       "3                                 1                     0   \n",
       "\n",
       "         INCLAS_REMOVAL_OF_ENDOTRACHEAL_TUBE  INCLAS_RENAL_REPLACEMENT  \\\n",
       "USUBJID                                                                  \n",
       "1                                          0                         1   \n",
       "2                                          0                         1   \n",
       "3                                          0                         1   \n",
       "\n",
       "         INCLAS_REPLACEMENT_AGENT  INCLAS_TOTAL_PARENTERAL_NUTRITION  \\\n",
       "USUBJID                                                                \n",
       "1                               0                                  0   \n",
       "2                               0                                  0   \n",
       "3                               0                                  0   \n",
       "\n",
       "         INCLAS_TRANSFUSION_OF_BLOOD_PRODUCT  INCLAS_VACCINES  \n",
       "USUBJID                                                        \n",
       "1                                          0                0  \n",
       "2                                          0                0  \n",
       "3                                          0                1  \n",
       "\n",
       "[3 rows x 44 columns]"
      ]
     },
     "execution_count": 415,
     "metadata": {},
     "output_type": "execute_result"
    }
   ],
   "source": [
    "IN_matrix.head(3)"
   ]
  },
  {
   "cell_type": "code",
   "execution_count": 416,
   "id": "3db2c99f-0270-4375-bb01-2a6ca33766ec",
   "metadata": {},
   "outputs": [
    {
     "data": {
      "text/plain": [
       "False"
      ]
     },
     "execution_count": 416,
     "metadata": {},
     "output_type": "execute_result"
    }
   ],
   "source": [
    "# Check if indexes are unique\n",
    "index = IN_matrix.index\n",
    "index.has_duplicates"
   ]
  },
  {
   "cell_type": "markdown",
   "id": "b3c3e63f-391a-43db-84eb-925dd5e1dcc9",
   "metadata": {
    "jp-MarkdownHeadingCollapsed": true,
    "tags": []
   },
   "source": [
    "### For LB:"
   ]
  },
  {
   "cell_type": "code",
   "execution_count": 417,
   "id": "5f9bb6aa-071c-432e-b7e8-82ee26234dc5",
   "metadata": {},
   "outputs": [
    {
     "data": {
      "text/html": [
       "<div>\n",
       "<style scoped>\n",
       "    .dataframe tbody tr th:only-of-type {\n",
       "        vertical-align: middle;\n",
       "    }\n",
       "\n",
       "    .dataframe tbody tr th {\n",
       "        vertical-align: top;\n",
       "    }\n",
       "\n",
       "    .dataframe thead th {\n",
       "        text-align: right;\n",
       "    }\n",
       "</style>\n",
       "<table border=\"1\" class=\"dataframe\">\n",
       "  <thead>\n",
       "    <tr style=\"text-align: right;\">\n",
       "      <th></th>\n",
       "      <th>USUBJID</th>\n",
       "      <th>LBSEQ</th>\n",
       "      <th>LBTESTCD</th>\n",
       "      <th>LBSTRESC</th>\n",
       "      <th>LBSTRESU</th>\n",
       "      <th>LBDY</th>\n",
       "    </tr>\n",
       "  </thead>\n",
       "  <tbody>\n",
       "    <tr>\n",
       "      <th>0</th>\n",
       "      <td>330085</td>\n",
       "      <td>1</td>\n",
       "      <td>HCT</td>\n",
       "      <td>42</td>\n",
       "      <td>%</td>\n",
       "      <td>5.0</td>\n",
       "    </tr>\n",
       "    <tr>\n",
       "      <th>1</th>\n",
       "      <td>330085</td>\n",
       "      <td>2</td>\n",
       "      <td>PLAT</td>\n",
       "      <td>329</td>\n",
       "      <td>10^9/L</td>\n",
       "      <td>8.0</td>\n",
       "    </tr>\n",
       "    <tr>\n",
       "      <th>2</th>\n",
       "      <td>330085</td>\n",
       "      <td>3</td>\n",
       "      <td>HGB</td>\n",
       "      <td>136</td>\n",
       "      <td>g/L</td>\n",
       "      <td>6.0</td>\n",
       "    </tr>\n",
       "  </tbody>\n",
       "</table>\n",
       "</div>"
      ],
      "text/plain": [
       "   USUBJID  LBSEQ LBTESTCD LBSTRESC LBSTRESU  LBDY\n",
       "0   330085      1      HCT       42        %   5.0\n",
       "1   330085      2     PLAT      329   10^9/L   8.0\n",
       "2   330085      3      HGB      136      g/L   6.0"
      ]
     },
     "execution_count": 417,
     "metadata": {},
     "output_type": "execute_result"
    }
   ],
   "source": [
    "LB_matrix = LB.copy()\n",
    "LB_matrix.head(3)"
   ]
  },
  {
   "cell_type": "code",
   "execution_count": 418,
   "id": "cec18119-1486-4fd8-b65f-b66ee7512cf2",
   "metadata": {},
   "outputs": [],
   "source": [
    "# Keep first observation for each test for each patient\n",
    "LB_matrix = LB_matrix.sort_values(by=['LBDY']).drop_duplicates(subset=['USUBJID', 'LBTESTCD'], keep='first')"
   ]
  },
  {
   "cell_type": "code",
   "execution_count": 419,
   "id": "7581427b-5edd-4c4e-8081-8f4163a6cf2f",
   "metadata": {},
   "outputs": [],
   "source": [
    "# Drop LBSEQ, LBSTRESU and LBDY\n",
    "LB_matrix.drop(['LBSEQ', 'LBSTRESU', 'LBDY'], axis=1, inplace=True)"
   ]
  },
  {
   "cell_type": "code",
   "execution_count": 420,
   "id": "16372f98-42df-4e07-82bb-3a369c35e680",
   "metadata": {},
   "outputs": [],
   "source": [
    "# Convert to have 1 test = 1 column, and put USUBJID as index\n",
    "LB_matrix = LB_matrix.pivot(index='USUBJID', columns='LBTESTCD', values='LBSTRESC')\n",
    "LB_matrix.columns.name = None              \n",
    "LB_matrix = LB_matrix.reset_index()  \n",
    "LB_matrix.set_index('USUBJID', inplace=True)"
   ]
  },
  {
   "cell_type": "code",
   "execution_count": 421,
   "id": "e5a13073-f0eb-4ee1-9faa-7fc0ad704b3e",
   "metadata": {},
   "outputs": [],
   "source": [
    "# Add prefix\n",
    "LB_matrix = LB_matrix.add_prefix('LBTEST_')"
   ]
  },
  {
   "cell_type": "code",
   "execution_count": 422,
   "id": "9b0af750-ea12-4851-ac47-a5371a7e936e",
   "metadata": {},
   "outputs": [
    {
     "data": {
      "text/html": [
       "<div>\n",
       "<style scoped>\n",
       "    .dataframe tbody tr th:only-of-type {\n",
       "        vertical-align: middle;\n",
       "    }\n",
       "\n",
       "    .dataframe tbody tr th {\n",
       "        vertical-align: top;\n",
       "    }\n",
       "\n",
       "    .dataframe thead th {\n",
       "        text-align: right;\n",
       "    }\n",
       "</style>\n",
       "<table border=\"1\" class=\"dataframe\">\n",
       "  <thead>\n",
       "    <tr style=\"text-align: right;\">\n",
       "      <th></th>\n",
       "      <th>LBTEST_ALB</th>\n",
       "      <th>LBTEST_ALP</th>\n",
       "      <th>LBTEST_ALT</th>\n",
       "      <th>LBTEST_AMYLASE</th>\n",
       "      <th>LBTEST_APTT</th>\n",
       "      <th>LBTEST_APTTSTND</th>\n",
       "      <th>LBTEST_AST</th>\n",
       "      <th>LBTEST_AUERRODS</th>\n",
       "      <th>LBTEST_BASEEXCS</th>\n",
       "      <th>LBTEST_BASO</th>\n",
       "      <th>...</th>\n",
       "      <th>LBTEST_RDW</th>\n",
       "      <th>LBTEST_SODIUM</th>\n",
       "      <th>LBTEST_TROPONI</th>\n",
       "      <th>LBTEST_TROPONIN</th>\n",
       "      <th>LBTEST_TROPONT</th>\n",
       "      <th>LBTEST_TT</th>\n",
       "      <th>LBTEST_URATE</th>\n",
       "      <th>LBTEST_UREA</th>\n",
       "      <th>LBTEST_UREAN</th>\n",
       "      <th>LBTEST_WBC</th>\n",
       "    </tr>\n",
       "    <tr>\n",
       "      <th>USUBJID</th>\n",
       "      <th></th>\n",
       "      <th></th>\n",
       "      <th></th>\n",
       "      <th></th>\n",
       "      <th></th>\n",
       "      <th></th>\n",
       "      <th></th>\n",
       "      <th></th>\n",
       "      <th></th>\n",
       "      <th></th>\n",
       "      <th></th>\n",
       "      <th></th>\n",
       "      <th></th>\n",
       "      <th></th>\n",
       "      <th></th>\n",
       "      <th></th>\n",
       "      <th></th>\n",
       "      <th></th>\n",
       "      <th></th>\n",
       "      <th></th>\n",
       "      <th></th>\n",
       "    </tr>\n",
       "  </thead>\n",
       "  <tbody>\n",
       "    <tr>\n",
       "      <th>1</th>\n",
       "      <td>NaN</td>\n",
       "      <td>NaN</td>\n",
       "      <td>16</td>\n",
       "      <td>NaN</td>\n",
       "      <td>NaN</td>\n",
       "      <td>NaN</td>\n",
       "      <td>NaN</td>\n",
       "      <td>NaN</td>\n",
       "      <td>-1</td>\n",
       "      <td>NaN</td>\n",
       "      <td>...</td>\n",
       "      <td>NaN</td>\n",
       "      <td>NaN</td>\n",
       "      <td>NaN</td>\n",
       "      <td>NaN</td>\n",
       "      <td>NaN</td>\n",
       "      <td>NaN</td>\n",
       "      <td>NaN</td>\n",
       "      <td>NaN</td>\n",
       "      <td>6.7</td>\n",
       "      <td>9</td>\n",
       "    </tr>\n",
       "    <tr>\n",
       "      <th>2</th>\n",
       "      <td>NaN</td>\n",
       "      <td>NaN</td>\n",
       "      <td>10</td>\n",
       "      <td>NaN</td>\n",
       "      <td>NaN</td>\n",
       "      <td>1</td>\n",
       "      <td>NaN</td>\n",
       "      <td>NaN</td>\n",
       "      <td>NaN</td>\n",
       "      <td>NaN</td>\n",
       "      <td>...</td>\n",
       "      <td>NaN</td>\n",
       "      <td>139</td>\n",
       "      <td>NaN</td>\n",
       "      <td>NaN</td>\n",
       "      <td>NaN</td>\n",
       "      <td>NaN</td>\n",
       "      <td>NaN</td>\n",
       "      <td>NaN</td>\n",
       "      <td>3.5</td>\n",
       "      <td>8.47</td>\n",
       "    </tr>\n",
       "    <tr>\n",
       "      <th>5</th>\n",
       "      <td>NaN</td>\n",
       "      <td>NaN</td>\n",
       "      <td>27</td>\n",
       "      <td>NaN</td>\n",
       "      <td>NaN</td>\n",
       "      <td>NaN</td>\n",
       "      <td>38</td>\n",
       "      <td>NaN</td>\n",
       "      <td>NaN</td>\n",
       "      <td>NaN</td>\n",
       "      <td>...</td>\n",
       "      <td>NaN</td>\n",
       "      <td>137</td>\n",
       "      <td>NaN</td>\n",
       "      <td>NaN</td>\n",
       "      <td>NaN</td>\n",
       "      <td>NaN</td>\n",
       "      <td>NaN</td>\n",
       "      <td>NaN</td>\n",
       "      <td>16</td>\n",
       "      <td>24.33</td>\n",
       "    </tr>\n",
       "  </tbody>\n",
       "</table>\n",
       "<p>3 rows × 80 columns</p>\n",
       "</div>"
      ],
      "text/plain": [
       "        LBTEST_ALB LBTEST_ALP LBTEST_ALT LBTEST_AMYLASE LBTEST_APTT  \\\n",
       "USUBJID                                                               \n",
       "1              NaN        NaN         16            NaN         NaN   \n",
       "2              NaN        NaN         10            NaN         NaN   \n",
       "5              NaN        NaN         27            NaN         NaN   \n",
       "\n",
       "        LBTEST_APTTSTND LBTEST_AST LBTEST_AUERRODS LBTEST_BASEEXCS  \\\n",
       "USUBJID                                                              \n",
       "1                   NaN        NaN             NaN              -1   \n",
       "2                     1        NaN             NaN             NaN   \n",
       "5                   NaN         38             NaN             NaN   \n",
       "\n",
       "        LBTEST_BASO  ... LBTEST_RDW LBTEST_SODIUM LBTEST_TROPONI  \\\n",
       "USUBJID              ...                                           \n",
       "1               NaN  ...        NaN           NaN            NaN   \n",
       "2               NaN  ...        NaN           139            NaN   \n",
       "5               NaN  ...        NaN           137            NaN   \n",
       "\n",
       "        LBTEST_TROPONIN LBTEST_TROPONT LBTEST_TT LBTEST_URATE LBTEST_UREA  \\\n",
       "USUBJID                                                                     \n",
       "1                   NaN            NaN       NaN          NaN         NaN   \n",
       "2                   NaN            NaN       NaN          NaN         NaN   \n",
       "5                   NaN            NaN       NaN          NaN         NaN   \n",
       "\n",
       "        LBTEST_UREAN LBTEST_WBC  \n",
       "USUBJID                          \n",
       "1                6.7          9  \n",
       "2                3.5       8.47  \n",
       "5                 16      24.33  \n",
       "\n",
       "[3 rows x 80 columns]"
      ]
     },
     "execution_count": 422,
     "metadata": {},
     "output_type": "execute_result"
    }
   ],
   "source": [
    "LB_matrix.head(3)"
   ]
  },
  {
   "cell_type": "code",
   "execution_count": 423,
   "id": "c22323b6-d1e5-4786-9092-6cac70302e63",
   "metadata": {},
   "outputs": [
    {
     "data": {
      "text/plain": [
       "False"
      ]
     },
     "execution_count": 423,
     "metadata": {},
     "output_type": "execute_result"
    }
   ],
   "source": [
    "# Check if indexes are unique\n",
    "index = LB_matrix.index\n",
    "index.has_duplicates"
   ]
  },
  {
   "cell_type": "markdown",
   "id": "47992655-6ccf-41c6-a8f4-702e4b1c5d61",
   "metadata": {
    "jp-MarkdownHeadingCollapsed": true,
    "tags": []
   },
   "source": [
    "### For MB:"
   ]
  },
  {
   "cell_type": "code",
   "execution_count": 424,
   "id": "e0033c2c-9a5c-4260-9b65-7b8c9ab2355e",
   "metadata": {},
   "outputs": [
    {
     "data": {
      "text/html": [
       "<div>\n",
       "<style scoped>\n",
       "    .dataframe tbody tr th:only-of-type {\n",
       "        vertical-align: middle;\n",
       "    }\n",
       "\n",
       "    .dataframe tbody tr th {\n",
       "        vertical-align: top;\n",
       "    }\n",
       "\n",
       "    .dataframe thead th {\n",
       "        text-align: right;\n",
       "    }\n",
       "</style>\n",
       "<table border=\"1\" class=\"dataframe\">\n",
       "  <thead>\n",
       "    <tr style=\"text-align: right;\">\n",
       "      <th></th>\n",
       "      <th>USUBJID</th>\n",
       "      <th>MBSEQ</th>\n",
       "      <th>MBTESTCD</th>\n",
       "      <th>MBTSTDTL</th>\n",
       "      <th>MBSTRESC</th>\n",
       "    </tr>\n",
       "  </thead>\n",
       "  <tbody>\n",
       "    <tr>\n",
       "      <th>0</th>\n",
       "      <td>330085</td>\n",
       "      <td>1</td>\n",
       "      <td>BACT</td>\n",
       "      <td>DETECTION</td>\n",
       "      <td>NEGATIVE</td>\n",
       "    </tr>\n",
       "    <tr>\n",
       "      <th>1</th>\n",
       "      <td>330085</td>\n",
       "      <td>2</td>\n",
       "      <td>RSV</td>\n",
       "      <td>DETECTION</td>\n",
       "      <td>NEGATIVE</td>\n",
       "    </tr>\n",
       "    <tr>\n",
       "      <th>2</th>\n",
       "      <td>330085</td>\n",
       "      <td>3</td>\n",
       "      <td>CRONAVIR</td>\n",
       "      <td>DETECTION</td>\n",
       "      <td>POSITIVE</td>\n",
       "    </tr>\n",
       "  </tbody>\n",
       "</table>\n",
       "</div>"
      ],
      "text/plain": [
       "   USUBJID  MBSEQ  MBTESTCD   MBTSTDTL  MBSTRESC\n",
       "0   330085      1      BACT  DETECTION  NEGATIVE\n",
       "1   330085      2       RSV  DETECTION  NEGATIVE\n",
       "2   330085      3  CRONAVIR  DETECTION  POSITIVE"
      ]
     },
     "execution_count": 424,
     "metadata": {},
     "output_type": "execute_result"
    }
   ],
   "source": [
    "MB_matrix = MB.copy()\n",
    "MB_matrix.head(3)"
   ]
  },
  {
   "cell_type": "markdown",
   "id": "8d4b5a35-5749-4a7b-8885-506b61fa0880",
   "metadata": {},
   "source": [
    "Initially, only information about the detection will be kept."
   ]
  },
  {
   "cell_type": "code",
   "execution_count": 425,
   "id": "7869f978-bed7-4842-a835-20b69a4b0d49",
   "metadata": {},
   "outputs": [],
   "source": [
    "# Keep only detection\n",
    "MB_matrix = MB_matrix[MB_matrix.MBTSTDTL=='DETECTION']"
   ]
  },
  {
   "cell_type": "code",
   "execution_count": 426,
   "id": "7874be12-b3d9-49d9-976c-fd877d565193",
   "metadata": {},
   "outputs": [],
   "source": [
    "# Keep first observation for each test\n",
    "MB_matrix = MB_matrix.sort_values(by=['MBSEQ']).drop_duplicates(subset=['USUBJID', 'MBTESTCD'], keep='first')"
   ]
  },
  {
   "cell_type": "code",
   "execution_count": 427,
   "id": "b0a42517-2bb5-40b0-af0e-d8c13f5e1608",
   "metadata": {},
   "outputs": [],
   "source": [
    "# Drop MBSEQ and MBTSTDTL\n",
    "MB_matrix.drop(['MBSEQ', 'MBTSTDTL'], axis=1, inplace=True)"
   ]
  },
  {
   "cell_type": "code",
   "execution_count": 428,
   "id": "b015b387-d6ee-4c08-bac0-edb45ad7adb9",
   "metadata": {},
   "outputs": [],
   "source": [
    "# Convert MBSTRESC to numeric\n",
    "\n",
    "original = MB_matrix.copy()\n",
    "mask = MB_matrix.isnull()\n",
    "\n",
    "le = LabelEncoder()\n",
    "mbstresc_encoded = le.fit_transform(MB_matrix['MBSTRESC'])\n",
    "MB_matrix.drop('MBSTRESC', axis=1, inplace=True)\n",
    "MB_matrix['MBSTRESC'] = mbstresc_encoded\n",
    "\n",
    "MB_matrix = MB_matrix.where(~mask, original)"
   ]
  },
  {
   "cell_type": "code",
   "execution_count": 429,
   "id": "d6d9205b-bc22-4109-afd8-0f3cbb221f37",
   "metadata": {},
   "outputs": [],
   "source": [
    "# Convert to have 1 test = 1 column, and put USUBJID as index\n",
    "MB_matrix = MB_matrix.pivot(index='USUBJID', columns='MBTESTCD', values='MBSTRESC')\n",
    "MB_matrix.columns.name = None              \n",
    "MB_matrix = MB_matrix.reset_index()  \n",
    "MB_matrix.set_index('USUBJID', inplace=True)"
   ]
  },
  {
   "cell_type": "code",
   "execution_count": 430,
   "id": "356a8bd0-9ee9-472b-a31b-0cb9803b6fa7",
   "metadata": {},
   "outputs": [],
   "source": [
    "# Add prefix\n",
    "MB_matrix = MB_matrix.add_prefix('MBTEST_')"
   ]
  },
  {
   "cell_type": "code",
   "execution_count": 431,
   "id": "308ba2a2-1b14-457b-8719-3f0e8ca9e8a9",
   "metadata": {},
   "outputs": [
    {
     "data": {
      "text/html": [
       "<div>\n",
       "<style scoped>\n",
       "    .dataframe tbody tr th:only-of-type {\n",
       "        vertical-align: middle;\n",
       "    }\n",
       "\n",
       "    .dataframe tbody tr th {\n",
       "        vertical-align: top;\n",
       "    }\n",
       "\n",
       "    .dataframe thead th {\n",
       "        text-align: right;\n",
       "    }\n",
       "</style>\n",
       "<table border=\"1\" class=\"dataframe\">\n",
       "  <thead>\n",
       "    <tr style=\"text-align: right;\">\n",
       "      <th></th>\n",
       "      <th>MBTEST_ADENOVIR</th>\n",
       "      <th>MBTEST_BACT</th>\n",
       "      <th>MBTEST_CRONAVIR</th>\n",
       "      <th>MBTEST_HIV</th>\n",
       "      <th>MBTEST_HIV12P24</th>\n",
       "      <th>MBTEST_INFLUVIR</th>\n",
       "      <th>MBTEST_MCORGIDN</th>\n",
       "      <th>MBTEST_OTHPHIND</th>\n",
       "      <th>MBTEST_OTHRDIND</th>\n",
       "      <th>MBTEST_PFALCIP</th>\n",
       "      <th>MBTEST_PLSMDM</th>\n",
       "      <th>MBTEST_RSV</th>\n",
       "      <th>MBTEST_SAR2AB</th>\n",
       "      <th>MBTEST_SAR2IGG</th>\n",
       "      <th>MBTEST_SAR2IGGM</th>\n",
       "      <th>MBTEST_SAR2IGM</th>\n",
       "      <th>MBTEST_SARSCOV2</th>\n",
       "    </tr>\n",
       "    <tr>\n",
       "      <th>USUBJID</th>\n",
       "      <th></th>\n",
       "      <th></th>\n",
       "      <th></th>\n",
       "      <th></th>\n",
       "      <th></th>\n",
       "      <th></th>\n",
       "      <th></th>\n",
       "      <th></th>\n",
       "      <th></th>\n",
       "      <th></th>\n",
       "      <th></th>\n",
       "      <th></th>\n",
       "      <th></th>\n",
       "      <th></th>\n",
       "      <th></th>\n",
       "      <th></th>\n",
       "      <th></th>\n",
       "    </tr>\n",
       "  </thead>\n",
       "  <tbody>\n",
       "    <tr>\n",
       "      <th>1</th>\n",
       "      <td>0</td>\n",
       "      <td>0</td>\n",
       "      <td>1</td>\n",
       "      <td>NaN</td>\n",
       "      <td>NaN</td>\n",
       "      <td>1</td>\n",
       "      <td>NaN</td>\n",
       "      <td>NaN</td>\n",
       "      <td>NaN</td>\n",
       "      <td>NaN</td>\n",
       "      <td>NaN</td>\n",
       "      <td>0</td>\n",
       "      <td>NaN</td>\n",
       "      <td>NaN</td>\n",
       "      <td>NaN</td>\n",
       "      <td>NaN</td>\n",
       "      <td>NaN</td>\n",
       "    </tr>\n",
       "    <tr>\n",
       "      <th>2</th>\n",
       "      <td>0</td>\n",
       "      <td>0</td>\n",
       "      <td>1</td>\n",
       "      <td>NaN</td>\n",
       "      <td>NaN</td>\n",
       "      <td>0</td>\n",
       "      <td>NaN</td>\n",
       "      <td>NaN</td>\n",
       "      <td>NaN</td>\n",
       "      <td>NaN</td>\n",
       "      <td>NaN</td>\n",
       "      <td>0</td>\n",
       "      <td>NaN</td>\n",
       "      <td>NaN</td>\n",
       "      <td>NaN</td>\n",
       "      <td>NaN</td>\n",
       "      <td>NaN</td>\n",
       "    </tr>\n",
       "    <tr>\n",
       "      <th>3</th>\n",
       "      <td>NaN</td>\n",
       "      <td>NaN</td>\n",
       "      <td>NaN</td>\n",
       "      <td>NaN</td>\n",
       "      <td>NaN</td>\n",
       "      <td>NaN</td>\n",
       "      <td>NaN</td>\n",
       "      <td>NaN</td>\n",
       "      <td>NaN</td>\n",
       "      <td>NaN</td>\n",
       "      <td>NaN</td>\n",
       "      <td>NaN</td>\n",
       "      <td>NaN</td>\n",
       "      <td>NaN</td>\n",
       "      <td>NaN</td>\n",
       "      <td>NaN</td>\n",
       "      <td>1</td>\n",
       "    </tr>\n",
       "  </tbody>\n",
       "</table>\n",
       "</div>"
      ],
      "text/plain": [
       "        MBTEST_ADENOVIR MBTEST_BACT MBTEST_CRONAVIR MBTEST_HIV  \\\n",
       "USUBJID                                                          \n",
       "1                     0           0               1        NaN   \n",
       "2                     0           0               1        NaN   \n",
       "3                   NaN         NaN             NaN        NaN   \n",
       "\n",
       "        MBTEST_HIV12P24 MBTEST_INFLUVIR MBTEST_MCORGIDN MBTEST_OTHPHIND  \\\n",
       "USUBJID                                                                   \n",
       "1                   NaN               1             NaN             NaN   \n",
       "2                   NaN               0             NaN             NaN   \n",
       "3                   NaN             NaN             NaN             NaN   \n",
       "\n",
       "        MBTEST_OTHRDIND MBTEST_PFALCIP MBTEST_PLSMDM MBTEST_RSV MBTEST_SAR2AB  \\\n",
       "USUBJID                                                                         \n",
       "1                   NaN            NaN           NaN          0           NaN   \n",
       "2                   NaN            NaN           NaN          0           NaN   \n",
       "3                   NaN            NaN           NaN        NaN           NaN   \n",
       "\n",
       "        MBTEST_SAR2IGG MBTEST_SAR2IGGM MBTEST_SAR2IGM MBTEST_SARSCOV2  \n",
       "USUBJID                                                                \n",
       "1                  NaN             NaN            NaN             NaN  \n",
       "2                  NaN             NaN            NaN             NaN  \n",
       "3                  NaN             NaN            NaN               1  "
      ]
     },
     "execution_count": 431,
     "metadata": {},
     "output_type": "execute_result"
    }
   ],
   "source": [
    "MB_matrix.head(3)"
   ]
  },
  {
   "cell_type": "code",
   "execution_count": 432,
   "id": "4fc2c813-6bc2-4998-8d90-524d72be4fbe",
   "metadata": {},
   "outputs": [
    {
     "data": {
      "text/plain": [
       "False"
      ]
     },
     "execution_count": 432,
     "metadata": {},
     "output_type": "execute_result"
    }
   ],
   "source": [
    "# Check if indexes are unique\n",
    "index = MB_matrix.index\n",
    "index.has_duplicates"
   ]
  },
  {
   "cell_type": "markdown",
   "id": "4f456c3c-55e1-4796-9d7f-c21efaf83d8e",
   "metadata": {
    "jp-MarkdownHeadingCollapsed": true,
    "tags": []
   },
   "source": [
    "### For RP:"
   ]
  },
  {
   "cell_type": "code",
   "execution_count": 433,
   "id": "fad3363a-8058-4082-8f2b-43257cae7f10",
   "metadata": {},
   "outputs": [
    {
     "data": {
      "text/html": [
       "<div>\n",
       "<style scoped>\n",
       "    .dataframe tbody tr th:only-of-type {\n",
       "        vertical-align: middle;\n",
       "    }\n",
       "\n",
       "    .dataframe tbody tr th {\n",
       "        vertical-align: top;\n",
       "    }\n",
       "\n",
       "    .dataframe thead th {\n",
       "        text-align: right;\n",
       "    }\n",
       "</style>\n",
       "<table border=\"1\" class=\"dataframe\">\n",
       "  <thead>\n",
       "    <tr style=\"text-align: right;\">\n",
       "      <th></th>\n",
       "      <th>USUBJID</th>\n",
       "      <th>RPSTRESC</th>\n",
       "    </tr>\n",
       "  </thead>\n",
       "  <tbody>\n",
       "    <tr>\n",
       "      <th>0</th>\n",
       "      <td>483327</td>\n",
       "      <td>NaN</td>\n",
       "    </tr>\n",
       "    <tr>\n",
       "      <th>1</th>\n",
       "      <td>612005</td>\n",
       "      <td>NaN</td>\n",
       "    </tr>\n",
       "    <tr>\n",
       "      <th>2</th>\n",
       "      <td>95405</td>\n",
       "      <td>N</td>\n",
       "    </tr>\n",
       "  </tbody>\n",
       "</table>\n",
       "</div>"
      ],
      "text/plain": [
       "   USUBJID RPSTRESC\n",
       "0   483327      NaN\n",
       "1   612005      NaN\n",
       "2    95405        N"
      ]
     },
     "execution_count": 433,
     "metadata": {},
     "output_type": "execute_result"
    }
   ],
   "source": [
    "RP_matrix = RP.copy()\n",
    "RP_matrix.head(3)"
   ]
  },
  {
   "cell_type": "code",
   "execution_count": 434,
   "id": "1cd58576-e90e-47e6-be32-ae613b0bf895",
   "metadata": {},
   "outputs": [],
   "source": [
    "# Drop duplicates in USUBJID and keep the one with fewer NA\n",
    "RP_matrix = RP_matrix.assign(counts=RP_matrix.count(axis=1)).sort_values(['USUBJID', 'counts']).drop_duplicates('USUBJID', keep='last').drop('counts', axis=1)"
   ]
  },
  {
   "cell_type": "code",
   "execution_count": 435,
   "id": "006e060d-c857-453f-8f9a-00abf9da559e",
   "metadata": {},
   "outputs": [],
   "source": [
    "# Convert RPSTRESC to numeric\n",
    "\n",
    "original = RP_matrix.copy()\n",
    "mask = RP_matrix.isnull()\n",
    "\n",
    "le = LabelEncoder()\n",
    "\n",
    "rpstresc_encoded = le.fit_transform(RP_matrix['RPSTRESC'])\n",
    "RP_matrix.drop('RPSTRESC', axis=1, inplace=True)\n",
    "RP_matrix['RPSTRESC'] = rpstresc_encoded\n",
    "\n",
    "RP_matrix = RP_matrix.where(~mask, original)"
   ]
  },
  {
   "cell_type": "code",
   "execution_count": 436,
   "id": "0f8bb7ed-f43a-456f-af0a-6de97ad238cb",
   "metadata": {},
   "outputs": [],
   "source": [
    "# Put USUBJID as index\n",
    "RP_matrix.set_index('USUBJID', inplace=True)"
   ]
  },
  {
   "cell_type": "code",
   "execution_count": 437,
   "id": "4913215d-cbcc-40f4-9f46-de54ec97628d",
   "metadata": {},
   "outputs": [
    {
     "data": {
      "text/html": [
       "<div>\n",
       "<style scoped>\n",
       "    .dataframe tbody tr th:only-of-type {\n",
       "        vertical-align: middle;\n",
       "    }\n",
       "\n",
       "    .dataframe tbody tr th {\n",
       "        vertical-align: top;\n",
       "    }\n",
       "\n",
       "    .dataframe thead th {\n",
       "        text-align: right;\n",
       "    }\n",
       "</style>\n",
       "<table border=\"1\" class=\"dataframe\">\n",
       "  <thead>\n",
       "    <tr style=\"text-align: right;\">\n",
       "      <th></th>\n",
       "      <th>RPSTRESC</th>\n",
       "    </tr>\n",
       "    <tr>\n",
       "      <th>USUBJID</th>\n",
       "      <th></th>\n",
       "    </tr>\n",
       "  </thead>\n",
       "  <tbody>\n",
       "    <tr>\n",
       "      <th>4</th>\n",
       "      <td>0</td>\n",
       "    </tr>\n",
       "    <tr>\n",
       "      <th>8</th>\n",
       "      <td>1</td>\n",
       "    </tr>\n",
       "    <tr>\n",
       "      <th>9</th>\n",
       "      <td>0</td>\n",
       "    </tr>\n",
       "  </tbody>\n",
       "</table>\n",
       "</div>"
      ],
      "text/plain": [
       "        RPSTRESC\n",
       "USUBJID         \n",
       "4              0\n",
       "8              1\n",
       "9              0"
      ]
     },
     "execution_count": 437,
     "metadata": {},
     "output_type": "execute_result"
    }
   ],
   "source": [
    "RP_matrix.head(3)"
   ]
  },
  {
   "cell_type": "code",
   "execution_count": 438,
   "id": "ab0e6427-76b6-41b4-9ebe-18338e78d712",
   "metadata": {},
   "outputs": [
    {
     "data": {
      "text/plain": [
       "False"
      ]
     },
     "execution_count": 438,
     "metadata": {},
     "output_type": "execute_result"
    }
   ],
   "source": [
    "# Check if indexes are unique\n",
    "index = RP_matrix.index\n",
    "index.has_duplicates"
   ]
  },
  {
   "cell_type": "markdown",
   "id": "1dbf20df-04b6-4505-b754-709dc6f4b64b",
   "metadata": {
    "jp-MarkdownHeadingCollapsed": true,
    "tags": []
   },
   "source": [
    "### For RS:"
   ]
  },
  {
   "cell_type": "code",
   "execution_count": 439,
   "id": "c6b14e5e-cbd8-4a00-9c7d-f3fe72db026b",
   "metadata": {},
   "outputs": [
    {
     "data": {
      "text/html": [
       "<div>\n",
       "<style scoped>\n",
       "    .dataframe tbody tr th:only-of-type {\n",
       "        vertical-align: middle;\n",
       "    }\n",
       "\n",
       "    .dataframe tbody tr th {\n",
       "        vertical-align: top;\n",
       "    }\n",
       "\n",
       "    .dataframe thead th {\n",
       "        text-align: right;\n",
       "    }\n",
       "</style>\n",
       "<table border=\"1\" class=\"dataframe\">\n",
       "  <thead>\n",
       "    <tr style=\"text-align: right;\">\n",
       "      <th></th>\n",
       "      <th>USUBJID</th>\n",
       "      <th>RSSEQ</th>\n",
       "      <th>RSCAT</th>\n",
       "      <th>RSSTRESC</th>\n",
       "      <th>RSDY</th>\n",
       "    </tr>\n",
       "  </thead>\n",
       "  <tbody>\n",
       "    <tr>\n",
       "      <th>0</th>\n",
       "      <td>330085</td>\n",
       "      <td>1</td>\n",
       "      <td>GCS NINDS VERSION</td>\n",
       "      <td>15</td>\n",
       "      <td>2.0</td>\n",
       "    </tr>\n",
       "    <tr>\n",
       "      <th>1</th>\n",
       "      <td>330085</td>\n",
       "      <td>2</td>\n",
       "      <td>AVPU</td>\n",
       "      <td>VERBAL</td>\n",
       "      <td>2.0</td>\n",
       "    </tr>\n",
       "    <tr>\n",
       "      <th>2</th>\n",
       "      <td>330085</td>\n",
       "      <td>3</td>\n",
       "      <td>GCS NINDS VERSION</td>\n",
       "      <td>15</td>\n",
       "      <td>3.0</td>\n",
       "    </tr>\n",
       "  </tbody>\n",
       "</table>\n",
       "</div>"
      ],
      "text/plain": [
       "   USUBJID  RSSEQ              RSCAT RSSTRESC  RSDY\n",
       "0   330085      1  GCS NINDS VERSION       15   2.0\n",
       "1   330085      2               AVPU   VERBAL   2.0\n",
       "2   330085      3  GCS NINDS VERSION       15   3.0"
      ]
     },
     "execution_count": 439,
     "metadata": {},
     "output_type": "execute_result"
    }
   ],
   "source": [
    "RS_matrix = RS.copy()\n",
    "RS_matrix.head(3)"
   ]
  },
  {
   "cell_type": "code",
   "execution_count": 440,
   "id": "bbda9509-ec04-446d-855b-c70bd589bc97",
   "metadata": {},
   "outputs": [],
   "source": [
    "# Keep last observation for each test\n",
    "RS_matrix = RS_matrix.sort_values(by=['RSDY'], ascending=False).drop_duplicates(subset=['USUBJID', 'RSCAT'], keep='first')"
   ]
  },
  {
   "cell_type": "code",
   "execution_count": 441,
   "id": "9f4094dc-29ff-44eb-a7bc-e2d75be72bab",
   "metadata": {},
   "outputs": [],
   "source": [
    "# Drop RSSEQ and RSDY\n",
    "RS_matrix.drop(['RSSEQ', 'RSDY'], axis=1, inplace=True)"
   ]
  },
  {
   "cell_type": "code",
   "execution_count": 442,
   "id": "9e577e82-9fed-4be6-91ef-1d16d62963ca",
   "metadata": {},
   "outputs": [],
   "source": [
    "# Convert to have 1 test = 1 column, and put USUBJID as index\n",
    "RS_matrix = RS_matrix.pivot(index='USUBJID', columns='RSCAT', values='RSSTRESC')\n",
    "RS_matrix.columns.name = None              \n",
    "RS_matrix = RS_matrix.reset_index()  \n",
    "RS_matrix.set_index('USUBJID', inplace=True)"
   ]
  },
  {
   "cell_type": "code",
   "execution_count": 443,
   "id": "435a9505-818c-4a55-8499-b3be10c0e7b8",
   "metadata": {},
   "outputs": [],
   "source": [
    "# Add prefix to column names\n",
    "RS_matrix = RS_matrix.add_prefix('RSCAT_')\n",
    "RS_matrix.columns = RS_matrix.columns.str.replace(' ', '_')"
   ]
  },
  {
   "cell_type": "code",
   "execution_count": 444,
   "id": "e4e7f7e2-25f2-4d90-a74d-33c730c6a0a4",
   "metadata": {},
   "outputs": [],
   "source": [
    "# Convert RSCAT_AVPU to numeric\n",
    "\n",
    "RS_matrix.loc[RS_matrix.RSCAT_AVPU=='CONFUSED', 'RSCAT_AVPU'] = 'CONFUSION'\n",
    "\n",
    "original = RS_matrix.copy()\n",
    "mask = RS_matrix.isnull()\n",
    "\n",
    "maplist = [{'col': 'RSCAT_AVPU', 'mapping': {'ALERT': 0, 'CONFUSION': 1,'VERBAL': 2, 'PAINFUL': 3, 'UNRESPONSIVE': 4}}]\n",
    "le = OrdinalEncoder(mapping=maplist)\n",
    "RS_matrix = le.fit_transform(RS_matrix)\n",
    "\n",
    "RS_matrix = RS_matrix.where(~mask, original)"
   ]
  },
  {
   "cell_type": "code",
   "execution_count": 445,
   "id": "4f1c8607-e015-47bf-91d2-c37e36526ba2",
   "metadata": {},
   "outputs": [],
   "source": [
    "# Convert str to float\n",
    "\n",
    "RS_matrix['RSCAT_BLANTYRE_COMA_SCALE'] = RS_matrix['RSCAT_BLANTYRE_COMA_SCALE'].astype(float)\n",
    "\n",
    "RS_matrix['RSCAT_CLINICAL_FRAILTY_SCORE'] = RS_matrix['RSCAT_CLINICAL_FRAILTY_SCORE'].astype(float)\n",
    "\n",
    "RS_matrix['RSCAT_GCS_NINDS_VERSION'] = RS_matrix['RSCAT_GCS_NINDS_VERSION'].astype(float)\n",
    "\n",
    "RS_matrix['RSCAT_ICU_MOBILITY_SCALE'] = RS_matrix['RSCAT_ICU_MOBILITY_SCALE'].astype(float)\n",
    "\n",
    "RS_matrix['RSCAT_PRISM_III'] = RS_matrix['RSCAT_PRISM_III'].astype(float)\n",
    "\n",
    "RS_matrix.loc[RS_matrix.RSCAT_RASS=='NOT APPLICABLE', 'RSCAT_RASS'] = np.nan\n",
    "RS_matrix.loc[RS_matrix.RSCAT_RASS=='NT', 'RSCAT_RASS'] = np.nan\n",
    "RS_matrix['RSCAT_RASS'] = RS_matrix['RSCAT_RASS'].astype(float)\n",
    "\n",
    "RS_matrix.loc[RS_matrix.RSCAT_SAS=='SEDATED', 'RSCAT_SAS'] = np.nan\n",
    "RS_matrix['RSCAT_SAS'] = RS_matrix['RSCAT_SAS'].astype(float)"
   ]
  },
  {
   "cell_type": "code",
   "execution_count": 446,
   "id": "28aa2d82-d54c-4975-9f1f-2991549a4967",
   "metadata": {},
   "outputs": [
    {
     "data": {
      "text/html": [
       "<div>\n",
       "<style scoped>\n",
       "    .dataframe tbody tr th:only-of-type {\n",
       "        vertical-align: middle;\n",
       "    }\n",
       "\n",
       "    .dataframe tbody tr th {\n",
       "        vertical-align: top;\n",
       "    }\n",
       "\n",
       "    .dataframe thead th {\n",
       "        text-align: right;\n",
       "    }\n",
       "</style>\n",
       "<table border=\"1\" class=\"dataframe\">\n",
       "  <thead>\n",
       "    <tr style=\"text-align: right;\">\n",
       "      <th></th>\n",
       "      <th>RSCAT_AVPU</th>\n",
       "      <th>RSCAT_BLANTYRE_COMA_SCALE</th>\n",
       "      <th>RSCAT_CLINICAL_FRAILTY_SCORE</th>\n",
       "      <th>RSCAT_GCS_NINDS_VERSION</th>\n",
       "      <th>RSCAT_ICU_MOBILITY_SCALE</th>\n",
       "      <th>RSCAT_PRISM_III</th>\n",
       "      <th>RSCAT_RASS</th>\n",
       "      <th>RSCAT_SAPS_II</th>\n",
       "      <th>RSCAT_SAS</th>\n",
       "      <th>RSCAT_SOFA</th>\n",
       "    </tr>\n",
       "    <tr>\n",
       "      <th>USUBJID</th>\n",
       "      <th></th>\n",
       "      <th></th>\n",
       "      <th></th>\n",
       "      <th></th>\n",
       "      <th></th>\n",
       "      <th></th>\n",
       "      <th></th>\n",
       "      <th></th>\n",
       "      <th></th>\n",
       "      <th></th>\n",
       "    </tr>\n",
       "  </thead>\n",
       "  <tbody>\n",
       "    <tr>\n",
       "      <th>1</th>\n",
       "      <td>0.0</td>\n",
       "      <td>NaN</td>\n",
       "      <td>NaN</td>\n",
       "      <td>NaN</td>\n",
       "      <td>NaN</td>\n",
       "      <td>NaN</td>\n",
       "      <td>NaN</td>\n",
       "      <td>NaN</td>\n",
       "      <td>NaN</td>\n",
       "      <td>NaN</td>\n",
       "    </tr>\n",
       "    <tr>\n",
       "      <th>2</th>\n",
       "      <td>0.0</td>\n",
       "      <td>NaN</td>\n",
       "      <td>NaN</td>\n",
       "      <td>NaN</td>\n",
       "      <td>NaN</td>\n",
       "      <td>NaN</td>\n",
       "      <td>NaN</td>\n",
       "      <td>NaN</td>\n",
       "      <td>NaN</td>\n",
       "      <td>NaN</td>\n",
       "    </tr>\n",
       "    <tr>\n",
       "      <th>5</th>\n",
       "      <td>0.0</td>\n",
       "      <td>NaN</td>\n",
       "      <td>NaN</td>\n",
       "      <td>NaN</td>\n",
       "      <td>NaN</td>\n",
       "      <td>NaN</td>\n",
       "      <td>NaN</td>\n",
       "      <td>NaN</td>\n",
       "      <td>NaN</td>\n",
       "      <td>NaN</td>\n",
       "    </tr>\n",
       "  </tbody>\n",
       "</table>\n",
       "</div>"
      ],
      "text/plain": [
       "        RSCAT_AVPU  RSCAT_BLANTYRE_COMA_SCALE  RSCAT_CLINICAL_FRAILTY_SCORE  \\\n",
       "USUBJID                                                                       \n",
       "1              0.0                        NaN                           NaN   \n",
       "2              0.0                        NaN                           NaN   \n",
       "5              0.0                        NaN                           NaN   \n",
       "\n",
       "         RSCAT_GCS_NINDS_VERSION  RSCAT_ICU_MOBILITY_SCALE  RSCAT_PRISM_III  \\\n",
       "USUBJID                                                                       \n",
       "1                            NaN                       NaN              NaN   \n",
       "2                            NaN                       NaN              NaN   \n",
       "5                            NaN                       NaN              NaN   \n",
       "\n",
       "         RSCAT_RASS RSCAT_SAPS_II  RSCAT_SAS RSCAT_SOFA  \n",
       "USUBJID                                                  \n",
       "1               NaN           NaN        NaN        NaN  \n",
       "2               NaN           NaN        NaN        NaN  \n",
       "5               NaN           NaN        NaN        NaN  "
      ]
     },
     "execution_count": 446,
     "metadata": {},
     "output_type": "execute_result"
    }
   ],
   "source": [
    "RS_matrix.head(3)"
   ]
  },
  {
   "cell_type": "code",
   "execution_count": 447,
   "id": "45d6acd0-8dab-4e11-b12c-cf245ae069d4",
   "metadata": {},
   "outputs": [
    {
     "data": {
      "text/plain": [
       "False"
      ]
     },
     "execution_count": 447,
     "metadata": {},
     "output_type": "execute_result"
    }
   ],
   "source": [
    "# Check if indexes are unique\n",
    "index = RS_matrix.index\n",
    "index.has_duplicates"
   ]
  },
  {
   "cell_type": "markdown",
   "id": "bc7e9189-ce4f-41da-83ca-a743646cadcf",
   "metadata": {
    "jp-MarkdownHeadingCollapsed": true,
    "tags": []
   },
   "source": [
    "### For SA:"
   ]
  },
  {
   "cell_type": "code",
   "execution_count": 448,
   "id": "a497776e-7125-4e9c-b8ab-68045bf3a4dc",
   "metadata": {},
   "outputs": [
    {
     "data": {
      "text/html": [
       "<div>\n",
       "<style scoped>\n",
       "    .dataframe tbody tr th:only-of-type {\n",
       "        vertical-align: middle;\n",
       "    }\n",
       "\n",
       "    .dataframe tbody tr th {\n",
       "        vertical-align: top;\n",
       "    }\n",
       "\n",
       "    .dataframe thead th {\n",
       "        text-align: right;\n",
       "    }\n",
       "</style>\n",
       "<table border=\"1\" class=\"dataframe\">\n",
       "  <thead>\n",
       "    <tr style=\"text-align: right;\">\n",
       "      <th></th>\n",
       "      <th>USUBJID</th>\n",
       "      <th>SACAT</th>\n",
       "    </tr>\n",
       "  </thead>\n",
       "  <tbody>\n",
       "    <tr>\n",
       "      <th>3</th>\n",
       "      <td>48890</td>\n",
       "      <td>COMORBIDITIES</td>\n",
       "    </tr>\n",
       "    <tr>\n",
       "      <th>58</th>\n",
       "      <td>756870</td>\n",
       "      <td>COMORBIDITIES</td>\n",
       "    </tr>\n",
       "    <tr>\n",
       "      <th>113</th>\n",
       "      <td>155356</td>\n",
       "      <td>COMORBIDITIES</td>\n",
       "    </tr>\n",
       "  </tbody>\n",
       "</table>\n",
       "</div>"
      ],
      "text/plain": [
       "     USUBJID          SACAT\n",
       "3      48890  COMORBIDITIES\n",
       "58    756870  COMORBIDITIES\n",
       "113   155356  COMORBIDITIES"
      ]
     },
     "execution_count": 448,
     "metadata": {},
     "output_type": "execute_result"
    }
   ],
   "source": [
    "SA_matrix = SA.copy()\n",
    "SA_matrix.head(3)"
   ]
  },
  {
   "cell_type": "code",
   "execution_count": 449,
   "id": "799eb86a-650f-424e-a693-8d61f984ad8b",
   "metadata": {},
   "outputs": [
    {
     "name": "stderr",
     "output_type": "stream",
     "text": [
      "C:\\Users\\felic\\AppData\\Local\\Temp\\ipykernel_18396\\1351289666.py:2: FutureWarning: In a future version of pandas all arguments of concat except for the argument 'objs' will be keyword-only.\n",
      "  SA_matrix = pd.concat([SA_matrix, pd.get_dummies(SA_matrix.SACAT)], 1).groupby(['USUBJID']).sum().reset_index()\n"
     ]
    }
   ],
   "source": [
    "# Convert INCLAS to numeric but with possiblity of several observations for each patient\n",
    "SA_matrix = pd.concat([SA_matrix, pd.get_dummies(SA_matrix.SACAT)], 1).groupby(['USUBJID']).sum().reset_index()"
   ]
  },
  {
   "cell_type": "code",
   "execution_count": 450,
   "id": "2afe7441-09ca-4983-9808-dd41748552b3",
   "metadata": {},
   "outputs": [],
   "source": [
    "# Put USUBJID as index and add prefix\n",
    "SA_matrix.set_index('USUBJID', inplace=True)\n",
    "SA_matrix = SA_matrix.add_prefix('SACAT_')\n",
    "SA_matrix.columns = SA_matrix.columns.str.replace(' ', '_')"
   ]
  },
  {
   "cell_type": "code",
   "execution_count": 451,
   "id": "4d19da28-60ab-4457-9926-cf5fd571872e",
   "metadata": {},
   "outputs": [
    {
     "data": {
      "text/html": [
       "<div>\n",
       "<style scoped>\n",
       "    .dataframe tbody tr th:only-of-type {\n",
       "        vertical-align: middle;\n",
       "    }\n",
       "\n",
       "    .dataframe tbody tr th {\n",
       "        vertical-align: top;\n",
       "    }\n",
       "\n",
       "    .dataframe thead th {\n",
       "        text-align: right;\n",
       "    }\n",
       "</style>\n",
       "<table border=\"1\" class=\"dataframe\">\n",
       "  <thead>\n",
       "    <tr style=\"text-align: right;\">\n",
       "      <th></th>\n",
       "      <th>SACAT_COMORBIDITIES</th>\n",
       "      <th>SACAT_COMPLICATIONS</th>\n",
       "      <th>SACAT_PREVIOUS_COVID-19_INFECTION</th>\n",
       "    </tr>\n",
       "    <tr>\n",
       "      <th>USUBJID</th>\n",
       "      <th></th>\n",
       "      <th></th>\n",
       "      <th></th>\n",
       "    </tr>\n",
       "  </thead>\n",
       "  <tbody>\n",
       "    <tr>\n",
       "      <th>1</th>\n",
       "      <td>1</td>\n",
       "      <td>1</td>\n",
       "      <td>0</td>\n",
       "    </tr>\n",
       "    <tr>\n",
       "      <th>2</th>\n",
       "      <td>1</td>\n",
       "      <td>1</td>\n",
       "      <td>0</td>\n",
       "    </tr>\n",
       "    <tr>\n",
       "      <th>3</th>\n",
       "      <td>1</td>\n",
       "      <td>1</td>\n",
       "      <td>0</td>\n",
       "    </tr>\n",
       "  </tbody>\n",
       "</table>\n",
       "</div>"
      ],
      "text/plain": [
       "         SACAT_COMORBIDITIES  SACAT_COMPLICATIONS  \\\n",
       "USUBJID                                             \n",
       "1                          1                    1   \n",
       "2                          1                    1   \n",
       "3                          1                    1   \n",
       "\n",
       "         SACAT_PREVIOUS_COVID-19_INFECTION  \n",
       "USUBJID                                     \n",
       "1                                        0  \n",
       "2                                        0  \n",
       "3                                        0  "
      ]
     },
     "execution_count": 451,
     "metadata": {},
     "output_type": "execute_result"
    }
   ],
   "source": [
    "SA_matrix.head(3)"
   ]
  },
  {
   "cell_type": "code",
   "execution_count": 452,
   "id": "453d9b4e-ab93-4567-b4c0-f6c084214281",
   "metadata": {},
   "outputs": [
    {
     "data": {
      "text/plain": [
       "False"
      ]
     },
     "execution_count": 452,
     "metadata": {},
     "output_type": "execute_result"
    }
   ],
   "source": [
    "# Check if indexes are unique\n",
    "index = SA_matrix.index\n",
    "index.has_duplicates"
   ]
  },
  {
   "cell_type": "markdown",
   "id": "f1bf911e-4f26-4fc5-bfe3-6a06d5d8d6a9",
   "metadata": {
    "jp-MarkdownHeadingCollapsed": true,
    "tags": []
   },
   "source": [
    "### For SC:"
   ]
  },
  {
   "cell_type": "code",
   "execution_count": 453,
   "id": "2d1827c7-2d9e-4e22-833c-4a05641da0bd",
   "metadata": {},
   "outputs": [
    {
     "data": {
      "text/html": [
       "<div>\n",
       "<style scoped>\n",
       "    .dataframe tbody tr th:only-of-type {\n",
       "        vertical-align: middle;\n",
       "    }\n",
       "\n",
       "    .dataframe tbody tr th {\n",
       "        vertical-align: top;\n",
       "    }\n",
       "\n",
       "    .dataframe thead th {\n",
       "        text-align: right;\n",
       "    }\n",
       "</style>\n",
       "<table border=\"1\" class=\"dataframe\">\n",
       "  <thead>\n",
       "    <tr style=\"text-align: right;\">\n",
       "      <th></th>\n",
       "      <th>USUBJID</th>\n",
       "      <th>SCTEST</th>\n",
       "      <th>SCSTRESC</th>\n",
       "    </tr>\n",
       "  </thead>\n",
       "  <tbody>\n",
       "    <tr>\n",
       "      <th>0</th>\n",
       "      <td>119563</td>\n",
       "      <td>Premature Birth Indicator</td>\n",
       "      <td>N</td>\n",
       "    </tr>\n",
       "    <tr>\n",
       "      <th>1</th>\n",
       "      <td>119563</td>\n",
       "      <td>Breast Fed Indicator</td>\n",
       "      <td>Y</td>\n",
       "    </tr>\n",
       "    <tr>\n",
       "      <th>2</th>\n",
       "      <td>119563</td>\n",
       "      <td>Infant Less Than One Year Indicator</td>\n",
       "      <td>Y</td>\n",
       "    </tr>\n",
       "  </tbody>\n",
       "</table>\n",
       "</div>"
      ],
      "text/plain": [
       "   USUBJID                               SCTEST SCSTRESC\n",
       "0   119563            Premature Birth Indicator        N\n",
       "1   119563                 Breast Fed Indicator        Y\n",
       "2   119563  Infant Less Than One Year Indicator        Y"
      ]
     },
     "execution_count": 453,
     "metadata": {},
     "output_type": "execute_result"
    }
   ],
   "source": [
    "SC_matrix = SC.copy()\n",
    "SC_matrix.head(3)"
   ]
  },
  {
   "cell_type": "code",
   "execution_count": 454,
   "id": "71c2addb-96f4-430c-84db-4d7239d115f6",
   "metadata": {},
   "outputs": [],
   "source": [
    "# Convert SCSTRESC to numeric\n",
    "\n",
    "original = SC_matrix.copy()\n",
    "mask = SC_matrix.isnull()\n",
    "\n",
    "le = LabelEncoder()\n",
    "scstresc_encoded = le.fit_transform(SC_matrix['SCSTRESC'])\n",
    "SC_matrix.drop('SCSTRESC', axis=1, inplace=True)\n",
    "SC_matrix['SCSTRESC'] = scstresc_encoded\n",
    "\n",
    "SC_matrix = SC_matrix.where(~mask, original)"
   ]
  },
  {
   "cell_type": "code",
   "execution_count": 455,
   "id": "17d048f2-727a-4c06-b44f-3dbcd2d79a7f",
   "metadata": {},
   "outputs": [],
   "source": [
    "# Convert to have 1 test = 1 column, and put USUBJID as index\n",
    "SC_matrix = SC_matrix.pivot(index='USUBJID', columns='SCTEST', values='SCSTRESC')\n",
    "SC_matrix.columns.name = None              \n",
    "SC_matrix = SC_matrix.reset_index()  \n",
    "SC_matrix.set_index('USUBJID', inplace=True)"
   ]
  },
  {
   "cell_type": "code",
   "execution_count": 456,
   "id": "9cd4a13b-0991-4676-8a6d-8c152692f1f5",
   "metadata": {},
   "outputs": [],
   "source": [
    "# Add prefix\n",
    "SC_matrix = SC_matrix.add_prefix('SCTEST_')\n",
    "SC_matrix.columns = SC_matrix.columns.str.replace(' ', '_')"
   ]
  },
  {
   "cell_type": "code",
   "execution_count": 457,
   "id": "58267c51-205c-4a53-9558-dbe3f46273b5",
   "metadata": {},
   "outputs": [
    {
     "data": {
      "text/html": [
       "<div>\n",
       "<style scoped>\n",
       "    .dataframe tbody tr th:only-of-type {\n",
       "        vertical-align: middle;\n",
       "    }\n",
       "\n",
       "    .dataframe tbody tr th {\n",
       "        vertical-align: top;\n",
       "    }\n",
       "\n",
       "    .dataframe thead th {\n",
       "        text-align: right;\n",
       "    }\n",
       "</style>\n",
       "<table border=\"1\" class=\"dataframe\">\n",
       "  <thead>\n",
       "    <tr style=\"text-align: right;\">\n",
       "      <th></th>\n",
       "      <th>SCTEST_Appropriate_Developmental_Age_Indicator</th>\n",
       "      <th>SCTEST_Breast_Fed_Indicator</th>\n",
       "      <th>SCTEST_Infant_Less_Than_One_Year_Indicator</th>\n",
       "      <th>SCTEST_Premature_Birth_Indicator</th>\n",
       "    </tr>\n",
       "    <tr>\n",
       "      <th>USUBJID</th>\n",
       "      <th></th>\n",
       "      <th></th>\n",
       "      <th></th>\n",
       "      <th></th>\n",
       "    </tr>\n",
       "  </thead>\n",
       "  <tbody>\n",
       "    <tr>\n",
       "      <th>232</th>\n",
       "      <td>NaN</td>\n",
       "      <td>NaN</td>\n",
       "      <td>1</td>\n",
       "      <td>NaN</td>\n",
       "    </tr>\n",
       "    <tr>\n",
       "      <th>696</th>\n",
       "      <td>NaN</td>\n",
       "      <td>NaN</td>\n",
       "      <td>1</td>\n",
       "      <td>0</td>\n",
       "    </tr>\n",
       "    <tr>\n",
       "      <th>782</th>\n",
       "      <td>NaN</td>\n",
       "      <td>0</td>\n",
       "      <td>1</td>\n",
       "      <td>0</td>\n",
       "    </tr>\n",
       "  </tbody>\n",
       "</table>\n",
       "</div>"
      ],
      "text/plain": [
       "        SCTEST_Appropriate_Developmental_Age_Indicator  \\\n",
       "USUBJID                                                  \n",
       "232                                                NaN   \n",
       "696                                                NaN   \n",
       "782                                                NaN   \n",
       "\n",
       "        SCTEST_Breast_Fed_Indicator  \\\n",
       "USUBJID                               \n",
       "232                             NaN   \n",
       "696                             NaN   \n",
       "782                               0   \n",
       "\n",
       "        SCTEST_Infant_Less_Than_One_Year_Indicator  \\\n",
       "USUBJID                                              \n",
       "232                                              1   \n",
       "696                                              1   \n",
       "782                                              1   \n",
       "\n",
       "        SCTEST_Premature_Birth_Indicator  \n",
       "USUBJID                                   \n",
       "232                                  NaN  \n",
       "696                                    0  \n",
       "782                                    0  "
      ]
     },
     "execution_count": 457,
     "metadata": {},
     "output_type": "execute_result"
    }
   ],
   "source": [
    "SC_matrix.head(3)"
   ]
  },
  {
   "cell_type": "code",
   "execution_count": 458,
   "id": "00bb195c-0710-4965-af05-8ab449348c07",
   "metadata": {},
   "outputs": [
    {
     "data": {
      "text/plain": [
       "False"
      ]
     },
     "execution_count": 458,
     "metadata": {},
     "output_type": "execute_result"
    }
   ],
   "source": [
    "# Check if indexes are unique\n",
    "index = SC_matrix.index\n",
    "index.has_duplicates"
   ]
  },
  {
   "cell_type": "markdown",
   "id": "eab427ce-60bc-4a23-b7a7-1209d877c34d",
   "metadata": {
    "jp-MarkdownHeadingCollapsed": true,
    "tags": []
   },
   "source": [
    "### For VS:"
   ]
  },
  {
   "cell_type": "code",
   "execution_count": 459,
   "id": "d660360a-4f04-4e02-8800-caf3cbfde2a3",
   "metadata": {},
   "outputs": [
    {
     "data": {
      "text/html": [
       "<div>\n",
       "<style scoped>\n",
       "    .dataframe tbody tr th:only-of-type {\n",
       "        vertical-align: middle;\n",
       "    }\n",
       "\n",
       "    .dataframe tbody tr th {\n",
       "        vertical-align: top;\n",
       "    }\n",
       "\n",
       "    .dataframe thead th {\n",
       "        text-align: right;\n",
       "    }\n",
       "</style>\n",
       "<table border=\"1\" class=\"dataframe\">\n",
       "  <thead>\n",
       "    <tr style=\"text-align: right;\">\n",
       "      <th></th>\n",
       "      <th>USUBJID</th>\n",
       "      <th>VSSEQ</th>\n",
       "      <th>VSTESTCD</th>\n",
       "      <th>VSSTRESC</th>\n",
       "      <th>VSSTRESU</th>\n",
       "      <th>VSDY</th>\n",
       "    </tr>\n",
       "  </thead>\n",
       "  <tbody>\n",
       "    <tr>\n",
       "      <th>0</th>\n",
       "      <td>330085</td>\n",
       "      <td>1</td>\n",
       "      <td>SYSBP</td>\n",
       "      <td>127</td>\n",
       "      <td>mmHg</td>\n",
       "      <td>1.0</td>\n",
       "    </tr>\n",
       "    <tr>\n",
       "      <th>1</th>\n",
       "      <td>330085</td>\n",
       "      <td>2</td>\n",
       "      <td>TEMP</td>\n",
       "      <td>37.6</td>\n",
       "      <td>C</td>\n",
       "      <td>1.0</td>\n",
       "    </tr>\n",
       "    <tr>\n",
       "      <th>2</th>\n",
       "      <td>330085</td>\n",
       "      <td>3</td>\n",
       "      <td>OXYSAT</td>\n",
       "      <td>98</td>\n",
       "      <td>%</td>\n",
       "      <td>1.0</td>\n",
       "    </tr>\n",
       "  </tbody>\n",
       "</table>\n",
       "</div>"
      ],
      "text/plain": [
       "   USUBJID  VSSEQ VSTESTCD VSSTRESC VSSTRESU  VSDY\n",
       "0   330085      1    SYSBP      127     mmHg   1.0\n",
       "1   330085      2     TEMP     37.6        C   1.0\n",
       "2   330085      3   OXYSAT       98        %   1.0"
      ]
     },
     "execution_count": 459,
     "metadata": {},
     "output_type": "execute_result"
    }
   ],
   "source": [
    "VS_matrix = VS.copy()\n",
    "VS_matrix.head(3)"
   ]
  },
  {
   "cell_type": "code",
   "execution_count": 460,
   "id": "e5e1ee5e-012c-4112-bd99-17b39cbd3c01",
   "metadata": {},
   "outputs": [],
   "source": [
    "# Keep first observation for each test for each patient\n",
    "VS_matrix = VS_matrix.sort_values(by=['VSDY']).drop_duplicates(subset=['USUBJID', 'VSTESTCD'], keep='first')"
   ]
  },
  {
   "cell_type": "code",
   "execution_count": 461,
   "id": "60950a13-04ce-473a-923e-df01fa79b101",
   "metadata": {},
   "outputs": [],
   "source": [
    "# Drop VSSEQ, VSSTRESU and VSDY\n",
    "VS_matrix.drop(['VSSEQ', 'VSSTRESU', 'VSDY'], axis=1, inplace=True)"
   ]
  },
  {
   "cell_type": "code",
   "execution_count": 462,
   "id": "3f2a3bab-491a-4874-9d59-f4c6a93446b6",
   "metadata": {},
   "outputs": [],
   "source": [
    "# Convert to have 1 test = 1 column, and put USUBJID as index\n",
    "VS_matrix = VS_matrix.pivot(index='USUBJID', columns='VSTESTCD', values='VSSTRESC')\n",
    "VS_matrix.columns.name = None              \n",
    "VS_matrix = VS_matrix.reset_index()  \n",
    "VS_matrix.set_index('USUBJID', inplace=True)"
   ]
  },
  {
   "cell_type": "code",
   "execution_count": 463,
   "id": "dd07a290-4932-4aca-b042-2951b5cf2236",
   "metadata": {},
   "outputs": [],
   "source": [
    "# Add prefix\n",
    "VS_matrix = VS_matrix.add_prefix('VSTEST_')"
   ]
  },
  {
   "cell_type": "code",
   "execution_count": 464,
   "id": "6bd18ab4-90ba-40be-b3ee-64c62ee90d46",
   "metadata": {},
   "outputs": [
    {
     "data": {
      "text/html": [
       "<div>\n",
       "<style scoped>\n",
       "    .dataframe tbody tr th:only-of-type {\n",
       "        vertical-align: middle;\n",
       "    }\n",
       "\n",
       "    .dataframe tbody tr th {\n",
       "        vertical-align: top;\n",
       "    }\n",
       "\n",
       "    .dataframe thead th {\n",
       "        text-align: right;\n",
       "    }\n",
       "</style>\n",
       "<table border=\"1\" class=\"dataframe\">\n",
       "  <thead>\n",
       "    <tr style=\"text-align: right;\">\n",
       "      <th></th>\n",
       "      <th>VSTEST_BMI</th>\n",
       "      <th>VSTEST_BRTHWT</th>\n",
       "      <th>VSTEST_CPLRFLT</th>\n",
       "      <th>VSTEST_DIABP</th>\n",
       "      <th>VSTEST_HEIGHT</th>\n",
       "      <th>VSTEST_HR</th>\n",
       "      <th>VSTEST_MAP</th>\n",
       "      <th>VSTEST_MUARMCIR</th>\n",
       "      <th>VSTEST_OXYSAT</th>\n",
       "      <th>VSTEST_PULSE</th>\n",
       "      <th>VSTEST_RESP</th>\n",
       "      <th>VSTEST_SYSBP</th>\n",
       "      <th>VSTEST_TEMP</th>\n",
       "      <th>VSTEST_WEIGHT</th>\n",
       "    </tr>\n",
       "    <tr>\n",
       "      <th>USUBJID</th>\n",
       "      <th></th>\n",
       "      <th></th>\n",
       "      <th></th>\n",
       "      <th></th>\n",
       "      <th></th>\n",
       "      <th></th>\n",
       "      <th></th>\n",
       "      <th></th>\n",
       "      <th></th>\n",
       "      <th></th>\n",
       "      <th></th>\n",
       "      <th></th>\n",
       "      <th></th>\n",
       "      <th></th>\n",
       "    </tr>\n",
       "  </thead>\n",
       "  <tbody>\n",
       "    <tr>\n",
       "      <th>1</th>\n",
       "      <td>NaN</td>\n",
       "      <td>NaN</td>\n",
       "      <td>NaN</td>\n",
       "      <td>80</td>\n",
       "      <td>NaN</td>\n",
       "      <td>78</td>\n",
       "      <td>NaN</td>\n",
       "      <td>NaN</td>\n",
       "      <td>97</td>\n",
       "      <td>NaN</td>\n",
       "      <td>19</td>\n",
       "      <td>147</td>\n",
       "      <td>36.6</td>\n",
       "      <td>NaN</td>\n",
       "    </tr>\n",
       "    <tr>\n",
       "      <th>2</th>\n",
       "      <td>NaN</td>\n",
       "      <td>NaN</td>\n",
       "      <td>NaN</td>\n",
       "      <td>97</td>\n",
       "      <td>NaN</td>\n",
       "      <td>108</td>\n",
       "      <td>NaN</td>\n",
       "      <td>NaN</td>\n",
       "      <td>96</td>\n",
       "      <td>NaN</td>\n",
       "      <td>14</td>\n",
       "      <td>160</td>\n",
       "      <td>38.8</td>\n",
       "      <td>NaN</td>\n",
       "    </tr>\n",
       "    <tr>\n",
       "      <th>5</th>\n",
       "      <td>NaN</td>\n",
       "      <td>NaN</td>\n",
       "      <td>NaN</td>\n",
       "      <td>103</td>\n",
       "      <td>NaN</td>\n",
       "      <td>150</td>\n",
       "      <td>NaN</td>\n",
       "      <td>NaN</td>\n",
       "      <td>80</td>\n",
       "      <td>NaN</td>\n",
       "      <td>40</td>\n",
       "      <td>144</td>\n",
       "      <td>36.7</td>\n",
       "      <td>NaN</td>\n",
       "    </tr>\n",
       "  </tbody>\n",
       "</table>\n",
       "</div>"
      ],
      "text/plain": [
       "        VSTEST_BMI VSTEST_BRTHWT VSTEST_CPLRFLT VSTEST_DIABP VSTEST_HEIGHT  \\\n",
       "USUBJID                                                                      \n",
       "1              NaN           NaN            NaN           80           NaN   \n",
       "2              NaN           NaN            NaN           97           NaN   \n",
       "5              NaN           NaN            NaN          103           NaN   \n",
       "\n",
       "        VSTEST_HR VSTEST_MAP VSTEST_MUARMCIR VSTEST_OXYSAT VSTEST_PULSE  \\\n",
       "USUBJID                                                                   \n",
       "1              78        NaN             NaN            97          NaN   \n",
       "2             108        NaN             NaN            96          NaN   \n",
       "5             150        NaN             NaN            80          NaN   \n",
       "\n",
       "        VSTEST_RESP VSTEST_SYSBP VSTEST_TEMP VSTEST_WEIGHT  \n",
       "USUBJID                                                     \n",
       "1                19          147        36.6           NaN  \n",
       "2                14          160        38.8           NaN  \n",
       "5                40          144        36.7           NaN  "
      ]
     },
     "execution_count": 464,
     "metadata": {},
     "output_type": "execute_result"
    }
   ],
   "source": [
    "VS_matrix.head(3)"
   ]
  },
  {
   "cell_type": "code",
   "execution_count": 465,
   "id": "1d24a303-1757-45e9-ab3c-1f44e89e3a02",
   "metadata": {},
   "outputs": [
    {
     "data": {
      "text/plain": [
       "False"
      ]
     },
     "execution_count": 465,
     "metadata": {},
     "output_type": "execute_result"
    }
   ],
   "source": [
    "# Check if indexes are unique\n",
    "index = VS_matrix.index\n",
    "index.has_duplicates"
   ]
  },
  {
   "cell_type": "markdown",
   "id": "ea7cc11f-abd4-4eb9-bb39-19efb329cb02",
   "metadata": {
    "jp-MarkdownHeadingCollapsed": true,
    "tags": []
   },
   "source": [
    "### Merge all in one DataFrame"
   ]
  },
  {
   "cell_type": "code",
   "execution_count": 466,
   "id": "eee56271-ef13-4e3d-9097-52bd5748f8ce",
   "metadata": {},
   "outputs": [
    {
     "data": {
      "text/html": [
       "<div>\n",
       "<style scoped>\n",
       "    .dataframe tbody tr th:only-of-type {\n",
       "        vertical-align: middle;\n",
       "    }\n",
       "\n",
       "    .dataframe tbody tr th {\n",
       "        vertical-align: top;\n",
       "    }\n",
       "\n",
       "    .dataframe thead th {\n",
       "        text-align: right;\n",
       "    }\n",
       "</style>\n",
       "<table border=\"1\" class=\"dataframe\">\n",
       "  <thead>\n",
       "    <tr style=\"text-align: right;\">\n",
       "      <th></th>\n",
       "      <th>AGE</th>\n",
       "      <th>SEX</th>\n",
       "      <th>COUNTRY</th>\n",
       "      <th>DSDECOD</th>\n",
       "      <th>HODECOD</th>\n",
       "      <th>INCLAS_AGENTS_ACTING_ON_THE_RENIN-ANGIOTENSIN_SYSTEM</th>\n",
       "      <th>INCLAS_ANALGESICS</th>\n",
       "      <th>INCLAS_ANESTHETICS</th>\n",
       "      <th>INCLAS_ANTIBACTERIALS_FOR_SYSTEMIC_USE</th>\n",
       "      <th>INCLAS_ANTIHELMINTICS</th>\n",
       "      <th>...</th>\n",
       "      <th>VSTEST_HEIGHT</th>\n",
       "      <th>VSTEST_HR</th>\n",
       "      <th>VSTEST_MAP</th>\n",
       "      <th>VSTEST_MUARMCIR</th>\n",
       "      <th>VSTEST_OXYSAT</th>\n",
       "      <th>VSTEST_PULSE</th>\n",
       "      <th>VSTEST_RESP</th>\n",
       "      <th>VSTEST_SYSBP</th>\n",
       "      <th>VSTEST_TEMP</th>\n",
       "      <th>VSTEST_WEIGHT</th>\n",
       "    </tr>\n",
       "    <tr>\n",
       "      <th>USUBJID</th>\n",
       "      <th></th>\n",
       "      <th></th>\n",
       "      <th></th>\n",
       "      <th></th>\n",
       "      <th></th>\n",
       "      <th></th>\n",
       "      <th></th>\n",
       "      <th></th>\n",
       "      <th></th>\n",
       "      <th></th>\n",
       "      <th></th>\n",
       "      <th></th>\n",
       "      <th></th>\n",
       "      <th></th>\n",
       "      <th></th>\n",
       "      <th></th>\n",
       "      <th></th>\n",
       "      <th></th>\n",
       "      <th></th>\n",
       "      <th></th>\n",
       "      <th></th>\n",
       "    </tr>\n",
       "  </thead>\n",
       "  <tbody>\n",
       "    <tr>\n",
       "      <th>1</th>\n",
       "      <td>62.0</td>\n",
       "      <td>0</td>\n",
       "      <td>15</td>\n",
       "      <td>NaN</td>\n",
       "      <td>1.0</td>\n",
       "      <td>0.0</td>\n",
       "      <td>0.0</td>\n",
       "      <td>0.0</td>\n",
       "      <td>1.0</td>\n",
       "      <td>0.0</td>\n",
       "      <td>...</td>\n",
       "      <td>NaN</td>\n",
       "      <td>78</td>\n",
       "      <td>NaN</td>\n",
       "      <td>NaN</td>\n",
       "      <td>97</td>\n",
       "      <td>NaN</td>\n",
       "      <td>19</td>\n",
       "      <td>147</td>\n",
       "      <td>36.6</td>\n",
       "      <td>NaN</td>\n",
       "    </tr>\n",
       "    <tr>\n",
       "      <th>2</th>\n",
       "      <td>76.0</td>\n",
       "      <td>1</td>\n",
       "      <td>15</td>\n",
       "      <td>2.0</td>\n",
       "      <td>1.0</td>\n",
       "      <td>1.0</td>\n",
       "      <td>0.0</td>\n",
       "      <td>0.0</td>\n",
       "      <td>1.0</td>\n",
       "      <td>0.0</td>\n",
       "      <td>...</td>\n",
       "      <td>NaN</td>\n",
       "      <td>108</td>\n",
       "      <td>NaN</td>\n",
       "      <td>NaN</td>\n",
       "      <td>96</td>\n",
       "      <td>NaN</td>\n",
       "      <td>14</td>\n",
       "      <td>160</td>\n",
       "      <td>38.8</td>\n",
       "      <td>NaN</td>\n",
       "    </tr>\n",
       "    <tr>\n",
       "      <th>3</th>\n",
       "      <td>40.0</td>\n",
       "      <td>1</td>\n",
       "      <td>40</td>\n",
       "      <td>0.0</td>\n",
       "      <td>1.0</td>\n",
       "      <td>1.0</td>\n",
       "      <td>0.0</td>\n",
       "      <td>0.0</td>\n",
       "      <td>1.0</td>\n",
       "      <td>0.0</td>\n",
       "      <td>...</td>\n",
       "      <td>NaN</td>\n",
       "      <td>NaN</td>\n",
       "      <td>NaN</td>\n",
       "      <td>NaN</td>\n",
       "      <td>NaN</td>\n",
       "      <td>NaN</td>\n",
       "      <td>NaN</td>\n",
       "      <td>NaN</td>\n",
       "      <td>NaN</td>\n",
       "      <td>NaN</td>\n",
       "    </tr>\n",
       "    <tr>\n",
       "      <th>4</th>\n",
       "      <td>51.0</td>\n",
       "      <td>0</td>\n",
       "      <td>40</td>\n",
       "      <td>3.0</td>\n",
       "      <td>1.0</td>\n",
       "      <td>1.0</td>\n",
       "      <td>0.0</td>\n",
       "      <td>0.0</td>\n",
       "      <td>1.0</td>\n",
       "      <td>0.0</td>\n",
       "      <td>...</td>\n",
       "      <td>NaN</td>\n",
       "      <td>NaN</td>\n",
       "      <td>NaN</td>\n",
       "      <td>NaN</td>\n",
       "      <td>NaN</td>\n",
       "      <td>NaN</td>\n",
       "      <td>NaN</td>\n",
       "      <td>NaN</td>\n",
       "      <td>NaN</td>\n",
       "      <td>NaN</td>\n",
       "    </tr>\n",
       "    <tr>\n",
       "      <th>5</th>\n",
       "      <td>64.0</td>\n",
       "      <td>1</td>\n",
       "      <td>14</td>\n",
       "      <td>0.0</td>\n",
       "      <td>1.0</td>\n",
       "      <td>0.0</td>\n",
       "      <td>0.0</td>\n",
       "      <td>0.0</td>\n",
       "      <td>1.0</td>\n",
       "      <td>0.0</td>\n",
       "      <td>...</td>\n",
       "      <td>NaN</td>\n",
       "      <td>150</td>\n",
       "      <td>NaN</td>\n",
       "      <td>NaN</td>\n",
       "      <td>80</td>\n",
       "      <td>NaN</td>\n",
       "      <td>40</td>\n",
       "      <td>144</td>\n",
       "      <td>36.7</td>\n",
       "      <td>NaN</td>\n",
       "    </tr>\n",
       "    <tr>\n",
       "      <th>...</th>\n",
       "      <td>...</td>\n",
       "      <td>...</td>\n",
       "      <td>...</td>\n",
       "      <td>...</td>\n",
       "      <td>...</td>\n",
       "      <td>...</td>\n",
       "      <td>...</td>\n",
       "      <td>...</td>\n",
       "      <td>...</td>\n",
       "      <td>...</td>\n",
       "      <td>...</td>\n",
       "      <td>...</td>\n",
       "      <td>...</td>\n",
       "      <td>...</td>\n",
       "      <td>...</td>\n",
       "      <td>...</td>\n",
       "      <td>...</td>\n",
       "      <td>...</td>\n",
       "      <td>...</td>\n",
       "      <td>...</td>\n",
       "      <td>...</td>\n",
       "    </tr>\n",
       "    <tr>\n",
       "      <th>844337</th>\n",
       "      <td>60.0</td>\n",
       "      <td>0</td>\n",
       "      <td>40</td>\n",
       "      <td>0.0</td>\n",
       "      <td>1.0</td>\n",
       "      <td>1.0</td>\n",
       "      <td>0.0</td>\n",
       "      <td>0.0</td>\n",
       "      <td>1.0</td>\n",
       "      <td>0.0</td>\n",
       "      <td>...</td>\n",
       "      <td>NaN</td>\n",
       "      <td>NaN</td>\n",
       "      <td>NaN</td>\n",
       "      <td>NaN</td>\n",
       "      <td>NaN</td>\n",
       "      <td>NaN</td>\n",
       "      <td>NaN</td>\n",
       "      <td>NaN</td>\n",
       "      <td>NaN</td>\n",
       "      <td>NaN</td>\n",
       "    </tr>\n",
       "    <tr>\n",
       "      <th>844338</th>\n",
       "      <td>94.0</td>\n",
       "      <td>0</td>\n",
       "      <td>15</td>\n",
       "      <td>3.0</td>\n",
       "      <td>1.0</td>\n",
       "      <td>1.0</td>\n",
       "      <td>1.0</td>\n",
       "      <td>0.0</td>\n",
       "      <td>1.0</td>\n",
       "      <td>0.0</td>\n",
       "      <td>...</td>\n",
       "      <td>NaN</td>\n",
       "      <td>79</td>\n",
       "      <td>NaN</td>\n",
       "      <td>NaN</td>\n",
       "      <td>92</td>\n",
       "      <td>NaN</td>\n",
       "      <td>32</td>\n",
       "      <td>150</td>\n",
       "      <td>39.7</td>\n",
       "      <td>NaN</td>\n",
       "    </tr>\n",
       "    <tr>\n",
       "      <th>844339</th>\n",
       "      <td>37.0</td>\n",
       "      <td>1</td>\n",
       "      <td>40</td>\n",
       "      <td>0.0</td>\n",
       "      <td>1.0</td>\n",
       "      <td>1.0</td>\n",
       "      <td>0.0</td>\n",
       "      <td>0.0</td>\n",
       "      <td>1.0</td>\n",
       "      <td>0.0</td>\n",
       "      <td>...</td>\n",
       "      <td>NaN</td>\n",
       "      <td>NaN</td>\n",
       "      <td>NaN</td>\n",
       "      <td>NaN</td>\n",
       "      <td>NaN</td>\n",
       "      <td>NaN</td>\n",
       "      <td>NaN</td>\n",
       "      <td>NaN</td>\n",
       "      <td>NaN</td>\n",
       "      <td>NaN</td>\n",
       "    </tr>\n",
       "    <tr>\n",
       "      <th>844340</th>\n",
       "      <td>43.0</td>\n",
       "      <td>0</td>\n",
       "      <td>40</td>\n",
       "      <td>3.0</td>\n",
       "      <td>1.0</td>\n",
       "      <td>1.0</td>\n",
       "      <td>0.0</td>\n",
       "      <td>0.0</td>\n",
       "      <td>1.0</td>\n",
       "      <td>0.0</td>\n",
       "      <td>...</td>\n",
       "      <td>NaN</td>\n",
       "      <td>NaN</td>\n",
       "      <td>NaN</td>\n",
       "      <td>NaN</td>\n",
       "      <td>NaN</td>\n",
       "      <td>NaN</td>\n",
       "      <td>NaN</td>\n",
       "      <td>NaN</td>\n",
       "      <td>NaN</td>\n",
       "      <td>NaN</td>\n",
       "    </tr>\n",
       "    <tr>\n",
       "      <th>844341</th>\n",
       "      <td>70.0</td>\n",
       "      <td>1</td>\n",
       "      <td>15</td>\n",
       "      <td>3.0</td>\n",
       "      <td>1.0</td>\n",
       "      <td>1.0</td>\n",
       "      <td>0.0</td>\n",
       "      <td>0.0</td>\n",
       "      <td>1.0</td>\n",
       "      <td>0.0</td>\n",
       "      <td>...</td>\n",
       "      <td>NaN</td>\n",
       "      <td>78</td>\n",
       "      <td>NaN</td>\n",
       "      <td>NaN</td>\n",
       "      <td>80</td>\n",
       "      <td>NaN</td>\n",
       "      <td>18</td>\n",
       "      <td>123</td>\n",
       "      <td>38.0</td>\n",
       "      <td>NaN</td>\n",
       "    </tr>\n",
       "  </tbody>\n",
       "</table>\n",
       "<p>844341 rows × 178 columns</p>\n",
       "</div>"
      ],
      "text/plain": [
       "          AGE SEX COUNTRY DSDECOD  HODECOD  \\\n",
       "USUBJID                                      \n",
       "1        62.0   0      15     NaN      1.0   \n",
       "2        76.0   1      15     2.0      1.0   \n",
       "3        40.0   1      40     0.0      1.0   \n",
       "4        51.0   0      40     3.0      1.0   \n",
       "5        64.0   1      14     0.0      1.0   \n",
       "...       ...  ..     ...     ...      ...   \n",
       "844337   60.0   0      40     0.0      1.0   \n",
       "844338   94.0   0      15     3.0      1.0   \n",
       "844339   37.0   1      40     0.0      1.0   \n",
       "844340   43.0   0      40     3.0      1.0   \n",
       "844341   70.0   1      15     3.0      1.0   \n",
       "\n",
       "         INCLAS_AGENTS_ACTING_ON_THE_RENIN-ANGIOTENSIN_SYSTEM  \\\n",
       "USUBJID                                                         \n",
       "1                                                         0.0   \n",
       "2                                                         1.0   \n",
       "3                                                         1.0   \n",
       "4                                                         1.0   \n",
       "5                                                         0.0   \n",
       "...                                                       ...   \n",
       "844337                                                    1.0   \n",
       "844338                                                    1.0   \n",
       "844339                                                    1.0   \n",
       "844340                                                    1.0   \n",
       "844341                                                    1.0   \n",
       "\n",
       "         INCLAS_ANALGESICS  INCLAS_ANESTHETICS  \\\n",
       "USUBJID                                          \n",
       "1                      0.0                 0.0   \n",
       "2                      0.0                 0.0   \n",
       "3                      0.0                 0.0   \n",
       "4                      0.0                 0.0   \n",
       "5                      0.0                 0.0   \n",
       "...                    ...                 ...   \n",
       "844337                 0.0                 0.0   \n",
       "844338                 1.0                 0.0   \n",
       "844339                 0.0                 0.0   \n",
       "844340                 0.0                 0.0   \n",
       "844341                 0.0                 0.0   \n",
       "\n",
       "         INCLAS_ANTIBACTERIALS_FOR_SYSTEMIC_USE  INCLAS_ANTIHELMINTICS  ...  \\\n",
       "USUBJID                                                                 ...   \n",
       "1                                           1.0                    0.0  ...   \n",
       "2                                           1.0                    0.0  ...   \n",
       "3                                           1.0                    0.0  ...   \n",
       "4                                           1.0                    0.0  ...   \n",
       "5                                           1.0                    0.0  ...   \n",
       "...                                         ...                    ...  ...   \n",
       "844337                                      1.0                    0.0  ...   \n",
       "844338                                      1.0                    0.0  ...   \n",
       "844339                                      1.0                    0.0  ...   \n",
       "844340                                      1.0                    0.0  ...   \n",
       "844341                                      1.0                    0.0  ...   \n",
       "\n",
       "         VSTEST_HEIGHT  VSTEST_HR  VSTEST_MAP  VSTEST_MUARMCIR  VSTEST_OXYSAT  \\\n",
       "USUBJID                                                                         \n",
       "1                  NaN         78         NaN              NaN             97   \n",
       "2                  NaN        108         NaN              NaN             96   \n",
       "3                  NaN        NaN         NaN              NaN            NaN   \n",
       "4                  NaN        NaN         NaN              NaN            NaN   \n",
       "5                  NaN        150         NaN              NaN             80   \n",
       "...                ...        ...         ...              ...            ...   \n",
       "844337             NaN        NaN         NaN              NaN            NaN   \n",
       "844338             NaN         79         NaN              NaN             92   \n",
       "844339             NaN        NaN         NaN              NaN            NaN   \n",
       "844340             NaN        NaN         NaN              NaN            NaN   \n",
       "844341             NaN         78         NaN              NaN             80   \n",
       "\n",
       "         VSTEST_PULSE  VSTEST_RESP  VSTEST_SYSBP  VSTEST_TEMP  VSTEST_WEIGHT  \n",
       "USUBJID                                                                       \n",
       "1                 NaN           19           147         36.6            NaN  \n",
       "2                 NaN           14           160         38.8            NaN  \n",
       "3                 NaN          NaN           NaN          NaN            NaN  \n",
       "4                 NaN          NaN           NaN          NaN            NaN  \n",
       "5                 NaN           40           144         36.7            NaN  \n",
       "...               ...          ...           ...          ...            ...  \n",
       "844337            NaN          NaN           NaN          NaN            NaN  \n",
       "844338            NaN           32           150         39.7            NaN  \n",
       "844339            NaN          NaN           NaN          NaN            NaN  \n",
       "844340            NaN          NaN           NaN          NaN            NaN  \n",
       "844341            NaN           18           123         38.0            NaN  \n",
       "\n",
       "[844341 rows x 178 columns]"
      ]
     },
     "execution_count": 466,
     "metadata": {},
     "output_type": "execute_result"
    }
   ],
   "source": [
    "# Merge everything in one dataframe with USUBJID as reference\n",
    "df_matrixAll_woTime = pd.concat([DM_matrix, DS_matrix, HO_matrix, IN_matrix, LB_matrix, MB_matrix, RP_matrix, RS_matrix, SA_matrix, SC_matrix, VS_matrix], axis=1)\n",
    "df_matrixAll_woTime"
   ]
  },
  {
   "cell_type": "code",
   "execution_count": 467,
   "id": "2ddf754e-34fc-4088-9d39-c306f551dfa8",
   "metadata": {},
   "outputs": [],
   "source": [
    "# Save\n",
    "df_matrixAll_woTime.to_csv('./data/results/df_matrixAll_woTime.csv')"
   ]
  },
  {
   "cell_type": "markdown",
   "id": "e59bb49a-0a2e-4191-95e7-ed764dc3234d",
   "metadata": {
    "tags": []
   },
   "source": [
    "## 5. Handling missing data (NA)"
   ]
  },
  {
   "cell_type": "code",
   "execution_count": 10,
   "id": "73dd382a-692b-40fa-9994-591cb44d5845",
   "metadata": {},
   "outputs": [],
   "source": [
    "# Open file\n",
    "data_folder = './data/results/'\n",
    "mylist = []\n",
    "for chunk in pd.read_csv(data_folder + 'df_matrixAll_woTime.csv', sep=',', low_memory=False, chunksize=5000):\n",
    "    mylist.append(chunk)\n",
    "df_matrixAll_woTime = pd.concat(mylist, axis=0)\n",
    "df_matrixAll_woTime.name = 'df_matrixAll_woTime'\n",
    "del mylist"
   ]
  },
  {
   "cell_type": "code",
   "execution_count": 11,
   "id": "0c687037-3910-4cd2-893b-79dbbe5d83b8",
   "metadata": {},
   "outputs": [
    {
     "data": {
      "text/plain": [
       "(844341, 179)"
      ]
     },
     "execution_count": 11,
     "metadata": {},
     "output_type": "execute_result"
    }
   ],
   "source": [
    "df_matrixAll_woTime.shape"
   ]
  },
  {
   "cell_type": "code",
   "execution_count": 19,
   "id": "f62474b6-3f14-448c-81f6-ab1e54ca2135",
   "metadata": {},
   "outputs": [
    {
     "name": "stdout",
     "output_type": "stream",
     "text": [
      "LBTEST_HGBOXY                                                       100.000000\n",
      "LBTEST_MCHC                                                         100.000000\n",
      "LBTEST_PTAC                                                         100.000000\n",
      "LBTEST_PROT                                                         100.000000\n",
      "LBTEST_PO2FIO2                                                      100.000000\n",
      "LBTEST_PO2                                                          100.000000\n",
      "LBTEST_GGT                                                          100.000000\n",
      "LBTEST_PCO2                                                         100.000000\n",
      "LBTEST_OXYSAT                                                       100.000000\n",
      "LBTEST_NEUTSG                                                       100.000000\n",
      "LBTEST_MPV                                                          100.000000\n",
      "LBTEST_MG                                                           100.000000\n",
      "LBTEST_ALB                                                          100.000000\n",
      "LBTEST_ALP                                                          100.000000\n",
      "LBTEST_MCV                                                          100.000000\n",
      "LBTEST_AMYLASE                                                      100.000000\n",
      "LBTEST_MCH                                                          100.000000\n",
      "LBTEST_RDW                                                          100.000000\n",
      "LBTEST_AUERRODS                                                     100.000000\n",
      "LBTEST_IRON                                                         100.000000\n",
      "LBTEST_BILDIR                                                       100.000000\n",
      "LBTEST_CA                                                           100.000000\n",
      "LBTEST_CAION                                                        100.000000\n",
      "LBTEST_CAIONPH                                                      100.000000\n",
      "LBTEST_CARBXHGB                                                     100.000000\n",
      "LBTEST_CHOL                                                         100.000000\n",
      "LBTEST_CL                                                           100.000000\n",
      "LBTEST_CO2                                                          100.000000\n",
      "LBTEST_HGBMET                                                       100.000000\n",
      "LBTEST_HGBDOXY                                                      100.000000\n",
      "LBTEST_HBA1C                                                        100.000000\n",
      "LBTEST_FIBRINO                                                      100.000000\n",
      "LBTEST_RBC                                                          100.000000\n",
      "LBTEST_PLATHCT                                                      100.000000\n",
      "LBTEST_FIBRINOF                                                     100.000000\n",
      "LBTEST_TROPONT                                                      100.000000\n",
      "LBTEST_TT                                                           100.000000\n",
      "LBTEST_URATE                                                        100.000000\n",
      "LBTEST_UREA                                                         100.000000\n",
      "RSCAT_SOFA                                                          100.000000\n",
      "RSCAT_SAPS_II                                                       100.000000\n",
      "LBTEST_TROPONIN                                                     100.000000\n",
      "MBTEST_SAR2AB                                                        99.999882\n",
      "RSCAT_PRISM_III                                                      99.999763\n",
      "MBTEST_SAR2IGM                                                       99.999408\n",
      "MBTEST_SAR2IGG                                                       99.998342\n",
      "MBTEST_SAR2IGGM                                                      99.997039\n",
      "MBTEST_MCORGIDN                                                      99.993604\n",
      "RSCAT_ICU_MOBILITY_SCALE                                             99.983774\n",
      "SCTEST_Appropriate_Developmental_Age_Indicator                       99.982353\n",
      "RSCAT_CLINICAL_FRAILTY_SCORE                                         99.980695\n",
      "RSCAT_SAS                                                            99.979984\n",
      "VSTEST_MUARMCIR                                                      99.972286\n",
      "MBTEST_PFALCIP                                                       99.931189\n",
      "MBTEST_HIV12P24                                                      99.928702\n",
      "RSCAT_BLANTYRE_COMA_SCALE                                            99.920293\n",
      "VSTEST_BRTHWT                                                        99.819386\n",
      "SCTEST_Breast_Fed_Indicator                                          99.795343\n",
      "MBTEST_OTHPHIND                                                      99.755667\n",
      "LBTEST_INTLK6                                                        99.749035\n",
      "SCTEST_Premature_Birth_Indicator                                     99.746785\n",
      "MBTEST_PLSMDM                                                        99.743705\n",
      "MBTEST_HIV                                                           99.720374\n",
      "LBTEST_BASO                                                          99.688633\n",
      "SCTEST_Infant_Less_Than_One_Year_Indicator                           99.665064\n",
      "LBTEST_EOS                                                           99.613900\n",
      "LBTEST_EOSLE                                                         99.592226\n",
      "LBTEST_ESR                                                           99.591989\n",
      "LBTEST_BASOLE                                                        99.591634\n",
      "LBTEST_MONOLE                                                        99.591634\n",
      "LBTEST_MONO                                                          99.580975\n",
      "VSTEST_BMI                                                           99.430799\n",
      "RSCAT_RASS                                                           99.413981\n",
      "LBTEST_TROPONI                                                       99.403559\n",
      "VSTEST_PULSE                                                         99.243552\n",
      "LBTEST_DDIMER                                                        98.965584\n",
      "LBTEST_NEUTLE                                                        98.931830\n",
      "LBTEST_LYMLE                                                         98.859229\n",
      "VSTEST_HEIGHT                                                        98.037049\n",
      "LBTEST_INR                                                           97.945143\n",
      "LBTEST_CD4                                                           97.888412\n",
      "LBTEST_BICARB                                                        97.774004\n",
      "VSTEST_WEIGHT                                                        97.766187\n",
      "MBTEST_OTHRDIND                                                      97.586046\n",
      "LBTEST_CK                                                            96.997540\n",
      "VSTEST_MAP                                                           96.947916\n",
      "LBTEST_BASEEXCS                                                      96.906463\n",
      "LBTEST_PH                                                            96.263713\n",
      "LBTEST_APTTSTND                                                      96.242395\n",
      "LBTEST_PCT                                                           95.825146\n",
      "LBTEST_FERRITIN                                                      95.801459\n",
      "LBTEST_HCT                                                           95.662534\n",
      "LBTEST_LDH                                                           94.724406\n",
      "LBTEST_AST                                                           94.671584\n",
      "VSTEST_CPLRFLT                                                       90.635419\n",
      "MBTEST_BACT                                                          89.075859\n",
      "MBTEST_ADENOVIR                                                      88.685259\n",
      "LBTEST_LACTICAC                                                      88.332202\n",
      "MBTEST_CRONAVIR                                                      87.191431\n",
      "MBTEST_RSV                                                           87.167625\n",
      "LBTEST_APTT                                                          86.578172\n",
      "MBTEST_INFLUVIR                                                      85.823856\n",
      "LBTEST_PT                                                            84.820351\n",
      "RSCAT_GCS_NINDS_VERSION                                              84.356202\n",
      "LBTEST_GLUC                                                          83.821939\n",
      "LBTEST_BILI                                                          81.970555\n",
      "LBTEST_ALT                                                           81.474546\n",
      "LBTEST_K                                                             80.415496\n",
      "LBTEST_SODIUM                                                        79.489330\n",
      "LBTEST_CREAT                                                         77.252319\n",
      "LBTEST_CRP                                                           74.719693\n",
      "LBTEST_NEUT                                                          72.750228\n",
      "LBTEST_LYM                                                           72.673837\n",
      "LBTEST_UREAN                                                         71.820035\n",
      "LBTEST_HGB                                                           69.461983\n",
      "LBTEST_PLAT                                                          69.237903\n",
      "RSCAT_AVPU                                                           69.043195\n",
      "LBTEST_WBC                                                           69.010980\n",
      "VSTEST_HR                                                            66.868481\n",
      "VSTEST_OXYSAT                                                        66.000230\n",
      "VSTEST_DIABP                                                         65.870306\n",
      "VSTEST_SYSBP                                                         65.840460\n",
      "VSTEST_RESP                                                          64.300206\n",
      "VSTEST_TEMP                                                          63.454221\n",
      "RPSTRESC                                                             62.768479\n",
      "MBTEST_SARSCOV2                                                      25.192073\n",
      "SACAT_COMORBIDITIES                                                   5.658022\n",
      "SACAT_COMPLICATIONS                                                   5.658022\n",
      "SACAT_PREVIOUS_COVID-19_INFECTION                                     5.658022\n",
      "DSDECOD                                                               3.081930\n",
      "AGE                                                                   2.653193\n",
      "INCLAS_ANESTHETICS                                                    2.600963\n",
      "INCLAS_AGENTS_ACTING_ON_THE_RENIN-ANGIOTENSIN_SYSTEM                  2.600963\n",
      "INCLAS_BLOOD_SUBSTITUTES_AND_PERFUSION_SOLUTIONS                      2.600963\n",
      "INCLAS_BETA_BLOCKING_AGENTS                                           2.600963\n",
      "INCLAS_ANALGESICS                                                     2.600963\n",
      "INCLAS_ANTIINFLAMMATORY_AND_ANTIRHEUMATIC_PRODUCTS,_NON-STEROIDS      2.600963\n",
      "INCLAS_ARTIFICIAL_RESPIRATION                                         2.600963\n",
      "INCLAS_ANTIMALARIALS                                                  2.600963\n",
      "INCLAS_ANTIVIRALS_FOR_SYSTEMIC_USE                                    2.600963\n",
      "INCLAS_ANTITHROMBOTIC_AGENTS                                          2.600963\n",
      "INCLAS_ANTIHELMINTICS                                                 2.600963\n",
      "INCLAS_ANTIMYCOTICS_FOR_SYSTEMIC_USE                                  2.600963\n",
      "INCLAS_BRONCHOSCOPY                                                   2.600963\n",
      "INCLAS_ANTIBACTERIALS_FOR_SYSTEMIC_USE                                2.600963\n",
      "INCLAS_CARDIOPULMONARY_RESUSCITATION                                  2.600963\n",
      "INCLAS_CARDIAC_PACING                                                 2.600963\n",
      "INCLAS_INTUBATION                                                     2.600963\n",
      "INCLAS_REMOVAL_OF_ENDOTRACHEAL_TUBE                                   2.600963\n",
      "INCLAS_PSYCHOLEPTICS                                                  2.600963\n",
      "INCLAS_PRONE_BODY_POSITION                                            2.600963\n",
      "INCLAS_REPLACEMENT_AGENT                                              2.600963\n",
      "INCLAS_TOTAL_PARENTERAL_NUTRITION                                     2.600963\n",
      "INCLAS_PERCUTANEOUS_ENDOSCOPIC_GASTROSTOMY                            2.600963\n",
      "INCLAS_OXYGEN                                                         2.600963\n",
      "INCLAS_OTHER_RESPIRATORY_SYSTEM_PRODUCTS                              2.600963\n",
      "INCLAS_NONINVASIVE_VENTILATION                                        2.600963\n",
      "INCLAS_TRANSFUSION_OF_BLOOD_PRODUCT                                   2.600963\n",
      "INCLAS_NONINVASIVE_POSITIVE_PRESSURE_VENTILATION                      2.600963\n",
      "INCLAS_MUSCLE_RELAXANTS                                               2.600963\n",
      "INCLAS_CARDIAC_THERAPY                                                2.600963\n",
      "INCLAS_LIPID_MODIFYING_AGENTS                                         2.600963\n",
      "INCLAS_INSERTION_OF_TRACHEOSTOMY_TUBE                                 2.600963\n",
      "INCLAS_IMMUNOSUPPRESSANTS                                             2.600963\n",
      "INCLAS_RENAL_REPLACEMENT                                              2.600963\n",
      "INCLAS_CHEMOTHERAPY                                                   2.600963\n",
      "INCLAS_CORTICOSTEROIDS_FOR_SYSTEMIC_USE                               2.600963\n",
      "INCLAS_DIURETICS                                                      2.600963\n",
      "INCLAS_DRUGS_FOR_ACID_RELATED_DISORDERS                               2.600963\n",
      "INCLAS_DRUGS_FOR_OBSTRUCTIVE_AIRWAY_DISEASES                          2.600963\n",
      "INCLAS_EXTRACORPOREAL_MEMBRANE_OXYGENATION                            2.600963\n",
      "INCLAS_VACCINES                                                       2.600963\n",
      "INCLAS_HIGH_FLOW_OXYGEN_NASAL_CANNULA                                 2.600963\n",
      "INCLAS_IMMUNOGLOBULINS                                                2.600963\n",
      "INCLAS_IMMUNOSTIMULANTS                                               2.600963\n",
      "SEX                                                                   1.500223\n",
      "HODECOD                                                               0.031741\n",
      "COUNTRY                                                               0.001421\n",
      "USUBJID                                                               0.000000\n",
      "dtype: float64\n"
     ]
    }
   ],
   "source": [
    "# Percentage of NA per column\n",
    "NA_per_column = df_matrixAll_woTime.isnull().sum().sort_values(ascending=False)/len(df_matrixAll_woTime)*100\n",
    "with pd.option_context('display.max_rows', None, 'display.max_columns', None):  \n",
    "    print(NA_per_column)"
   ]
  },
  {
   "cell_type": "code",
   "execution_count": 20,
   "id": "87d6114d-a875-40ca-b0f3-f825a86d88e7",
   "metadata": {},
   "outputs": [
    {
     "name": "stdout",
     "output_type": "stream",
     "text": [
      "LBTEST_HGBOXY                                                            0\n",
      "LBTEST_MCHC                                                              0\n",
      "LBTEST_PTAC                                                              0\n",
      "LBTEST_PROT                                                              0\n",
      "LBTEST_PO2FIO2                                                           0\n",
      "LBTEST_PO2                                                               0\n",
      "LBTEST_GGT                                                               0\n",
      "LBTEST_PCO2                                                              0\n",
      "LBTEST_OXYSAT                                                            0\n",
      "LBTEST_NEUTSG                                                            0\n",
      "LBTEST_MPV                                                               0\n",
      "LBTEST_MG                                                                0\n",
      "LBTEST_ALB                                                               0\n",
      "LBTEST_ALP                                                               0\n",
      "LBTEST_MCV                                                               0\n",
      "LBTEST_AMYLASE                                                           0\n",
      "LBTEST_MCH                                                               0\n",
      "LBTEST_RDW                                                               0\n",
      "LBTEST_AUERRODS                                                          0\n",
      "LBTEST_IRON                                                              0\n",
      "LBTEST_BILDIR                                                            0\n",
      "LBTEST_CA                                                                0\n",
      "LBTEST_CAION                                                             0\n",
      "LBTEST_CAIONPH                                                           0\n",
      "LBTEST_CARBXHGB                                                          0\n",
      "LBTEST_CHOL                                                              0\n",
      "LBTEST_CL                                                                0\n",
      "LBTEST_CO2                                                               0\n",
      "LBTEST_HGBMET                                                            0\n",
      "LBTEST_HGBDOXY                                                           0\n",
      "LBTEST_HBA1C                                                             0\n",
      "LBTEST_FIBRINO                                                           0\n",
      "LBTEST_RBC                                                               0\n",
      "LBTEST_PLATHCT                                                           0\n",
      "LBTEST_FIBRINOF                                                          0\n",
      "LBTEST_TROPONT                                                           0\n",
      "LBTEST_TT                                                                0\n",
      "LBTEST_URATE                                                             0\n",
      "LBTEST_UREA                                                              0\n",
      "RSCAT_SOFA                                                               0\n",
      "RSCAT_SAPS_II                                                            0\n",
      "LBTEST_TROPONIN                                                          0\n",
      "MBTEST_SAR2AB                                                            1\n",
      "RSCAT_PRISM_III                                                          2\n",
      "MBTEST_SAR2IGM                                                           5\n",
      "MBTEST_SAR2IGG                                                          14\n",
      "MBTEST_SAR2IGGM                                                         25\n",
      "MBTEST_MCORGIDN                                                         54\n",
      "RSCAT_ICU_MOBILITY_SCALE                                               137\n",
      "SCTEST_Appropriate_Developmental_Age_Indicator                         149\n",
      "RSCAT_CLINICAL_FRAILTY_SCORE                                           163\n",
      "RSCAT_SAS                                                              169\n",
      "VSTEST_MUARMCIR                                                        234\n",
      "MBTEST_PFALCIP                                                         581\n",
      "MBTEST_HIV12P24                                                        602\n",
      "RSCAT_BLANTYRE_COMA_SCALE                                              673\n",
      "VSTEST_BRTHWT                                                         1525\n",
      "SCTEST_Breast_Fed_Indicator                                           1728\n",
      "MBTEST_OTHPHIND                                                       2063\n",
      "LBTEST_INTLK6                                                         2119\n",
      "SCTEST_Premature_Birth_Indicator                                      2138\n",
      "MBTEST_PLSMDM                                                         2164\n",
      "MBTEST_HIV                                                            2361\n",
      "LBTEST_BASO                                                           2629\n",
      "SCTEST_Infant_Less_Than_One_Year_Indicator                            2828\n",
      "LBTEST_EOS                                                            3260\n",
      "LBTEST_EOSLE                                                          3443\n",
      "LBTEST_ESR                                                            3445\n",
      "LBTEST_BASOLE                                                         3448\n",
      "LBTEST_MONOLE                                                         3448\n",
      "LBTEST_MONO                                                           3538\n",
      "VSTEST_BMI                                                            4806\n",
      "RSCAT_RASS                                                            4948\n",
      "LBTEST_TROPONI                                                        5036\n",
      "VSTEST_PULSE                                                          6387\n",
      "LBTEST_DDIMER                                                         8734\n",
      "LBTEST_NEUTLE                                                         9019\n",
      "LBTEST_LYMLE                                                          9632\n",
      "VSTEST_HEIGHT                                                        16574\n",
      "LBTEST_INR                                                           17350\n",
      "LBTEST_CD4                                                           17829\n",
      "LBTEST_BICARB                                                        18795\n",
      "VSTEST_WEIGHT                                                        18861\n",
      "MBTEST_OTHRDIND                                                      20382\n",
      "LBTEST_CK                                                            25351\n",
      "VSTEST_MAP                                                           25770\n",
      "LBTEST_BASEEXCS                                                      26120\n",
      "LBTEST_PH                                                            31547\n",
      "LBTEST_APTTSTND                                                      31727\n",
      "LBTEST_PCT                                                           35250\n",
      "LBTEST_FERRITIN                                                      35450\n",
      "LBTEST_HCT                                                           36623\n",
      "LBTEST_LDH                                                           44544\n",
      "LBTEST_AST                                                           44990\n",
      "VSTEST_CPLRFLT                                                       79069\n",
      "MBTEST_BACT                                                          92237\n",
      "MBTEST_ADENOVIR                                                      95535\n",
      "LBTEST_LACTICAC                                                      98516\n",
      "MBTEST_CRONAVIR                                                     108148\n",
      "MBTEST_RSV                                                          108349\n",
      "LBTEST_APTT                                                         113326\n",
      "MBTEST_INFLUVIR                                                     119695\n",
      "LBTEST_PT                                                           128168\n",
      "RSCAT_GCS_NINDS_VERSION                                             132087\n",
      "LBTEST_GLUC                                                         136598\n",
      "LBTEST_BILI                                                         152230\n",
      "LBTEST_ALT                                                          156418\n",
      "LBTEST_K                                                            165360\n",
      "LBTEST_SODIUM                                                       173180\n",
      "LBTEST_CREAT                                                        192068\n",
      "LBTEST_CRP                                                          213452\n",
      "LBTEST_NEUT                                                         230081\n",
      "LBTEST_LYM                                                          230726\n",
      "LBTEST_UREAN                                                        237935\n",
      "LBTEST_HGB                                                          257845\n",
      "LBTEST_PLAT                                                         259737\n",
      "RSCAT_AVPU                                                          261381\n",
      "LBTEST_WBC                                                          261653\n",
      "VSTEST_HR                                                           279743\n",
      "VSTEST_OXYSAT                                                       287074\n",
      "VSTEST_DIABP                                                        288171\n",
      "VSTEST_SYSBP                                                        288423\n",
      "VSTEST_RESP                                                         301428\n",
      "VSTEST_TEMP                                                         308571\n",
      "RPSTRESC                                                            314361\n",
      "MBTEST_SARSCOV2                                                     631634\n",
      "SACAT_COMORBIDITIES                                                 796568\n",
      "SACAT_COMPLICATIONS                                                 796568\n",
      "SACAT_PREVIOUS_COVID-19_INFECTION                                   796568\n",
      "DSDECOD                                                             818319\n",
      "AGE                                                                 821939\n",
      "INCLAS_ANESTHETICS                                                  822380\n",
      "INCLAS_AGENTS_ACTING_ON_THE_RENIN-ANGIOTENSIN_SYSTEM                822380\n",
      "INCLAS_BLOOD_SUBSTITUTES_AND_PERFUSION_SOLUTIONS                    822380\n",
      "INCLAS_BETA_BLOCKING_AGENTS                                         822380\n",
      "INCLAS_ANALGESICS                                                   822380\n",
      "INCLAS_ANTIINFLAMMATORY_AND_ANTIRHEUMATIC_PRODUCTS,_NON-STEROIDS    822380\n",
      "INCLAS_ARTIFICIAL_RESPIRATION                                       822380\n",
      "INCLAS_ANTIMALARIALS                                                822380\n",
      "INCLAS_ANTIVIRALS_FOR_SYSTEMIC_USE                                  822380\n",
      "INCLAS_ANTITHROMBOTIC_AGENTS                                        822380\n",
      "INCLAS_ANTIHELMINTICS                                               822380\n",
      "INCLAS_ANTIMYCOTICS_FOR_SYSTEMIC_USE                                822380\n",
      "INCLAS_BRONCHOSCOPY                                                 822380\n",
      "INCLAS_ANTIBACTERIALS_FOR_SYSTEMIC_USE                              822380\n",
      "INCLAS_CARDIOPULMONARY_RESUSCITATION                                822380\n",
      "INCLAS_CARDIAC_PACING                                               822380\n",
      "INCLAS_INTUBATION                                                   822380\n",
      "INCLAS_REMOVAL_OF_ENDOTRACHEAL_TUBE                                 822380\n",
      "INCLAS_PSYCHOLEPTICS                                                822380\n",
      "INCLAS_PRONE_BODY_POSITION                                          822380\n",
      "INCLAS_REPLACEMENT_AGENT                                            822380\n",
      "INCLAS_TOTAL_PARENTERAL_NUTRITION                                   822380\n",
      "INCLAS_PERCUTANEOUS_ENDOSCOPIC_GASTROSTOMY                          822380\n",
      "INCLAS_OXYGEN                                                       822380\n",
      "INCLAS_OTHER_RESPIRATORY_SYSTEM_PRODUCTS                            822380\n",
      "INCLAS_NONINVASIVE_VENTILATION                                      822380\n",
      "INCLAS_TRANSFUSION_OF_BLOOD_PRODUCT                                 822380\n",
      "INCLAS_NONINVASIVE_POSITIVE_PRESSURE_VENTILATION                    822380\n",
      "INCLAS_MUSCLE_RELAXANTS                                             822380\n",
      "INCLAS_CARDIAC_THERAPY                                              822380\n",
      "INCLAS_LIPID_MODIFYING_AGENTS                                       822380\n",
      "INCLAS_INSERTION_OF_TRACHEOSTOMY_TUBE                               822380\n",
      "INCLAS_IMMUNOSUPPRESSANTS                                           822380\n",
      "INCLAS_RENAL_REPLACEMENT                                            822380\n",
      "INCLAS_CHEMOTHERAPY                                                 822380\n",
      "INCLAS_CORTICOSTEROIDS_FOR_SYSTEMIC_USE                             822380\n",
      "INCLAS_DIURETICS                                                    822380\n",
      "INCLAS_DRUGS_FOR_ACID_RELATED_DISORDERS                             822380\n",
      "INCLAS_DRUGS_FOR_OBSTRUCTIVE_AIRWAY_DISEASES                        822380\n",
      "INCLAS_EXTRACORPOREAL_MEMBRANE_OXYGENATION                          822380\n",
      "INCLAS_VACCINES                                                     822380\n",
      "INCLAS_HIGH_FLOW_OXYGEN_NASAL_CANNULA                               822380\n",
      "INCLAS_IMMUNOGLOBULINS                                              822380\n",
      "INCLAS_IMMUNOSTIMULANTS                                             822380\n",
      "SEX                                                                 831674\n",
      "HODECOD                                                             844073\n",
      "COUNTRY                                                             844329\n",
      "USUBJID                                                             844341\n",
      "dtype: int64\n"
     ]
    }
   ],
   "source": [
    "# Number of observations that are not NA per column\n",
    "nb_notNA_per_column = len(df_matrixAll_woTime)-df_matrixAll_woTime.isnull().sum().sort_values(ascending=False)\n",
    "with pd.option_context('display.max_rows', None, 'display.max_columns', None):  \n",
    "    print(nb_notNA_per_column)"
   ]
  },
  {
   "cell_type": "code",
   "execution_count": 13,
   "id": "96fd43f7-0c1d-4960-80e8-7f7ff43a9f16",
   "metadata": {},
   "outputs": [
    {
     "data": {
      "text/plain": [
       "Text(0.5, 1.0, 'Null values pourcentage')"
      ]
     },
     "execution_count": 13,
     "metadata": {},
     "output_type": "execute_result"
    },
    {
     "data": {
      "image/png": "[encoded data removed]",
      "text/plain": [
       "<Figure size 640x480 with 1 Axes>"
      ]
     },
     "metadata": {},
     "output_type": "display_data"
    }
   ],
   "source": [
    "# Hist of NA per column\n",
    "null_values = df_matrixAll_woTime.isnull().mean().sort_values(ascending=False)*100\n",
    "null_values = null_values[null_values>0]\n",
    "sns.barplot(x=null_values.index, y=null_values.values).set_title('Null values pourcentage')"
   ]
  },
  {
   "cell_type": "code",
   "execution_count": null,
   "id": "6a0a7b71-8cba-47b6-8fcb-3f91b4aa335b",
   "metadata": {},
   "outputs": [],
   "source": []
  },
  {
   "cell_type": "markdown",
   "id": "a3e664bf-87a7-474e-bbee-474be7cb7fb1",
   "metadata": {
    "jp-MarkdownHeadingCollapsed": true,
    "tags": []
   },
   "source": [
    "## 5. EDA on df_matrixAll_woTime"
   ]
  },
  {
   "cell_type": "code",
   "execution_count": 2,
   "id": "238fa801-2877-4d8a-af37-009c25b5eade",
   "metadata": {},
   "outputs": [],
   "source": [
    "# Open file\n",
    "data_folder = './data/results/'\n",
    "mylist = []\n",
    "for chunk in pd.read_csv(data_folder + 'df_matrixAll_woTime.csv', sep=',', low_memory=False, chunksize=5000):\n",
    "    mylist.append(chunk)\n",
    "df_matrixAll_woTime = pd.concat(mylist, axis=0)\n",
    "df_matrixAll_woTime.name = 'df_matrixAll_woTime'\n",
    "del mylist"
   ]
  },
  {
   "cell_type": "code",
   "execution_count": 3,
   "id": "c260a028-12f3-4c6f-a71a-96586c7573cd",
   "metadata": {},
   "outputs": [
    {
     "data": {
      "text/plain": [
       "(844341, 179)"
      ]
     },
     "execution_count": 3,
     "metadata": {},
     "output_type": "execute_result"
    }
   ],
   "source": [
    "df_matrixAll_woTime.shape"
   ]
  },
  {
   "cell_type": "code",
   "execution_count": 6,
   "id": "52fdc609-1c52-4200-897e-960b25bebe38",
   "metadata": {},
   "outputs": [
    {
     "data": {
      "text/plain": [
       "(array([2.80700e+03, 2.34480e+04, 1.61211e+05, 8.86870e+04, 5.40375e+05,\n",
       "        5.85200e+03, 2.20000e+01, 4.40000e+02, 1.43200e+03, 2.00670e+04]),\n",
       " array([ 77.,  87.,  97., 107., 117., 127., 137., 147., 157., 167., 177.]),\n",
       " <BarContainer object of 10 artists>)"
      ]
     },
     "execution_count": 6,
     "metadata": {},
     "output_type": "execute_result"
    },
    {
     "data": {
      "image/png": "[encoded data removed]",
      "text/plain": [
       "<Figure size 640x480 with 1 Axes>"
      ]
     },
     "metadata": {},
     "output_type": "display_data"
    }
   ],
   "source": [
    "list_NA_per_row = df_matrixAll_woTime.isnull().sum(axis=1).tolist()\n",
    "plt.hist(list_NA_per_row)"
   ]
  },
  {
   "cell_type": "code",
   "execution_count": null,
   "id": "efb8c99c-f245-42d2-8222-d7d396ef0c87",
   "metadata": {},
   "outputs": [],
   "source": [
    "# EDA on df_matrixAll_woTime\n",
    "profile = ProfileReport(df_matrixAll_woTime, title=\"Pandas Profiling Report\")\n",
    "profile.to_file(\"./data/results/EDA_df_matrixAll_woTime.html\")"
   ]
  },
  {
   "cell_type": "code",
   "execution_count": 6,
   "id": "ba9b2b1d-f4a6-4fd3-8609-660b5cff8552",
   "metadata": {},
   "outputs": [
    {
     "data": {
      "text/plain": [
       "(844341, 54)"
      ]
     },
     "execution_count": 6,
     "metadata": {},
     "output_type": "execute_result"
    }
   ],
   "source": [
    "# Delete columns with more than 60% NA\n",
    "df_matrixAll_woTime_woNA60 = df_matrixAll_woTime.dropna(thresh=df_matrixAll_woTime.shape[0]*0.6,how='all',axis=1)\n",
    "df_matrixAll_woTime_woNA60.shape"
   ]
  },
  {
   "cell_type": "code",
   "execution_count": 7,
   "id": "c395cdd1-6ed8-42ac-b90d-81ed356908b0",
   "metadata": {},
   "outputs": [
    {
     "name": "stderr",
     "output_type": "stream",
     "text": [
      "C:\\Users\\felic\\anaconda3\\envs\\ada\\lib\\site-packages\\multimethod\\__init__.py:315: SettingWithCopyWarning: \n",
      "A value is trying to be set on a copy of a slice from a DataFrame\n",
      "\n",
      "See the caveats in the documentation: https://pandas.pydata.org/pandas-docs/stable/user_guide/indexing.html#returning-a-view-versus-a-copy\n",
      "  return func(*args, **kwargs)\n"
     ]
    },
    {
     "data": {
      "application/vnd.jupyter.widget-view+json": {
       "model_id": "399b17172216465f9d2c581cb88fbaaa",
       "version_major": 2,
       "version_minor": 0
      },
      "text/plain": [
       "Summarize dataset:   0%|          | 0/5 [00:00<?, ?it/s]"
      ]
     },
     "metadata": {},
     "output_type": "display_data"
    },
    {
     "name": "stderr",
     "output_type": "stream",
     "text": [
      "C:\\Users\\felic\\anaconda3\\envs\\ada\\lib\\site-packages\\scipy\\stats\\_stats_py.py:5218: RuntimeWarning: overflow encountered in longlong_scalars\n",
      "  (2 * xtie * ytie) / m + x0 * y0 / (9 * m * (size - 2)))\n",
      "C:\\Users\\felic\\anaconda3\\envs\\ada\\lib\\site-packages\\scipy\\stats\\_stats_py.py:5219: RuntimeWarning: invalid value encountered in sqrt\n",
      "  z = con_minus_dis / np.sqrt(var)\n",
      "C:\\Users\\felic\\anaconda3\\envs\\ada\\lib\\site-packages\\missingno\\missingno.py:254: UserWarning: FixedFormatter should only be used together with FixedLocator\n",
      "  ax1.set_xticklabels(\n",
      "C:\\Users\\felic\\anaconda3\\envs\\ada\\lib\\site-packages\\pandas_profiling\\model\\missing.py:89: UserWarning: There was an attempt to generate the Count missing values diagrams, but this failed.\n",
      "To hide this warning, disable the calculation\n",
      "(using `df.profile_report(missing_diagrams={\"Count\": False}`)\n",
      "If this is problematic for your use case, please report this as an issue:\n",
      "https://github.com/ydataai/pandas-profiling/issues\n",
      "(include the error message: 'The number of FixedLocator locations (7), usually from a call to set_ticks, does not match the number of ticklabels (54).')\n",
      "  warnings.warn(\n"
     ]
    },
    {
     "data": {
      "application/vnd.jupyter.widget-view+json": {
       "model_id": "36eab9acee7f4e72b951bb2b50de9bfb",
       "version_major": 2,
       "version_minor": 0
      },
      "text/plain": [
       "Generate report structure:   0%|          | 0/1 [00:00<?, ?it/s]"
      ]
     },
     "metadata": {},
     "output_type": "display_data"
    },
    {
     "data": {
      "application/vnd.jupyter.widget-view+json": {
       "model_id": "235b64632d1d444e854dad593c4f790b",
       "version_major": 2,
       "version_minor": 0
      },
      "text/plain": [
       "Render HTML:   0%|          | 0/1 [00:00<?, ?it/s]"
      ]
     },
     "metadata": {},
     "output_type": "display_data"
    },
    {
     "data": {
      "application/vnd.jupyter.widget-view+json": {
       "model_id": "7f4d2fbfdb404199b1d0a53d60f41bdc",
       "version_major": 2,
       "version_minor": 0
      },
      "text/plain": [
       "Export report to file:   0%|          | 0/1 [00:00<?, ?it/s]"
      ]
     },
     "metadata": {},
     "output_type": "display_data"
    },
    {
     "data": {
      "image/png": "[encoded data removed]",
      "text/plain": [
       "<Figure size 1000x500 with 3 Axes>"
      ]
     },
     "metadata": {},
     "output_type": "display_data"
    }
   ],
   "source": [
    "# EDA on df_matrixAll_woTime_woNA60\n",
    "profile = ProfileReport(df_matrixAll_woTime_woNA60, title=\"Pandas Profiling Report\")\n",
    "profile.to_file(\"./data/results/EDA_df_matrixAll_woTime_woNA60.html\")"
   ]
  },
  {
   "cell_type": "markdown",
   "id": "76a8588b-0623-4d9e-a1e1-55f62510e3cc",
   "metadata": {},
   "source": [
    "**!!!!!!!!!! TODO : gestion des modify pour chaque fichier dans la partie 2 !!!!!!!!!**"
   ]
  },
  {
   "cell_type": "code",
   "execution_count": 8,
   "id": "c699313d-9230-44b7-867a-143191551d42",
   "metadata": {},
   "outputs": [
    {
     "data": {
      "text/html": [
       "<div>\n",
       "<style scoped>\n",
       "    .dataframe tbody tr th:only-of-type {\n",
       "        vertical-align: middle;\n",
       "    }\n",
       "\n",
       "    .dataframe tbody tr th {\n",
       "        vertical-align: top;\n",
       "    }\n",
       "\n",
       "    .dataframe thead th {\n",
       "        text-align: right;\n",
       "    }\n",
       "</style>\n",
       "<table border=\"1\" class=\"dataframe\">\n",
       "  <thead>\n",
       "    <tr style=\"text-align: right;\">\n",
       "      <th></th>\n",
       "      <th>USUBJID</th>\n",
       "      <th>AGE</th>\n",
       "      <th>SEX</th>\n",
       "      <th>COUNTRY</th>\n",
       "      <th>DSDECOD</th>\n",
       "      <th>HODECOD</th>\n",
       "      <th>INCLAS_AGENTS_ACTING_ON_THE_RENIN-ANGIOTENSIN_SYSTEM</th>\n",
       "      <th>INCLAS_ANALGESICS</th>\n",
       "      <th>INCLAS_ANESTHETICS</th>\n",
       "      <th>INCLAS_ANTIBACTERIALS_FOR_SYSTEMIC_USE</th>\n",
       "      <th>...</th>\n",
       "      <th>INCLAS_REMOVAL_OF_ENDOTRACHEAL_TUBE</th>\n",
       "      <th>INCLAS_RENAL_REPLACEMENT</th>\n",
       "      <th>INCLAS_REPLACEMENT_AGENT</th>\n",
       "      <th>INCLAS_TOTAL_PARENTERAL_NUTRITION</th>\n",
       "      <th>INCLAS_TRANSFUSION_OF_BLOOD_PRODUCT</th>\n",
       "      <th>INCLAS_VACCINES</th>\n",
       "      <th>MBTEST_SARSCOV2</th>\n",
       "      <th>SACAT_COMORBIDITIES</th>\n",
       "      <th>SACAT_COMPLICATIONS</th>\n",
       "      <th>SACAT_PREVIOUS_COVID-19_INFECTION</th>\n",
       "    </tr>\n",
       "  </thead>\n",
       "  <tbody>\n",
       "    <tr>\n",
       "      <th>0</th>\n",
       "      <td>1</td>\n",
       "      <td>62.0</td>\n",
       "      <td>0.0</td>\n",
       "      <td>15.0</td>\n",
       "      <td>NaN</td>\n",
       "      <td>1.0</td>\n",
       "      <td>0.0</td>\n",
       "      <td>0.0</td>\n",
       "      <td>0.0</td>\n",
       "      <td>1.0</td>\n",
       "      <td>...</td>\n",
       "      <td>0.0</td>\n",
       "      <td>1.0</td>\n",
       "      <td>0.0</td>\n",
       "      <td>0.0</td>\n",
       "      <td>0.0</td>\n",
       "      <td>0.0</td>\n",
       "      <td>NaN</td>\n",
       "      <td>1.0</td>\n",
       "      <td>1.0</td>\n",
       "      <td>0.0</td>\n",
       "    </tr>\n",
       "    <tr>\n",
       "      <th>1</th>\n",
       "      <td>2</td>\n",
       "      <td>76.0</td>\n",
       "      <td>1.0</td>\n",
       "      <td>15.0</td>\n",
       "      <td>2.0</td>\n",
       "      <td>1.0</td>\n",
       "      <td>1.0</td>\n",
       "      <td>0.0</td>\n",
       "      <td>0.0</td>\n",
       "      <td>1.0</td>\n",
       "      <td>...</td>\n",
       "      <td>0.0</td>\n",
       "      <td>1.0</td>\n",
       "      <td>0.0</td>\n",
       "      <td>0.0</td>\n",
       "      <td>0.0</td>\n",
       "      <td>0.0</td>\n",
       "      <td>NaN</td>\n",
       "      <td>1.0</td>\n",
       "      <td>1.0</td>\n",
       "      <td>0.0</td>\n",
       "    </tr>\n",
       "    <tr>\n",
       "      <th>2</th>\n",
       "      <td>3</td>\n",
       "      <td>40.0</td>\n",
       "      <td>1.0</td>\n",
       "      <td>40.0</td>\n",
       "      <td>0.0</td>\n",
       "      <td>1.0</td>\n",
       "      <td>1.0</td>\n",
       "      <td>0.0</td>\n",
       "      <td>0.0</td>\n",
       "      <td>1.0</td>\n",
       "      <td>...</td>\n",
       "      <td>0.0</td>\n",
       "      <td>1.0</td>\n",
       "      <td>0.0</td>\n",
       "      <td>0.0</td>\n",
       "      <td>0.0</td>\n",
       "      <td>1.0</td>\n",
       "      <td>1.0</td>\n",
       "      <td>1.0</td>\n",
       "      <td>1.0</td>\n",
       "      <td>0.0</td>\n",
       "    </tr>\n",
       "    <tr>\n",
       "      <th>3</th>\n",
       "      <td>4</td>\n",
       "      <td>51.0</td>\n",
       "      <td>0.0</td>\n",
       "      <td>40.0</td>\n",
       "      <td>3.0</td>\n",
       "      <td>1.0</td>\n",
       "      <td>1.0</td>\n",
       "      <td>0.0</td>\n",
       "      <td>0.0</td>\n",
       "      <td>1.0</td>\n",
       "      <td>...</td>\n",
       "      <td>0.0</td>\n",
       "      <td>1.0</td>\n",
       "      <td>0.0</td>\n",
       "      <td>0.0</td>\n",
       "      <td>0.0</td>\n",
       "      <td>1.0</td>\n",
       "      <td>1.0</td>\n",
       "      <td>1.0</td>\n",
       "      <td>1.0</td>\n",
       "      <td>0.0</td>\n",
       "    </tr>\n",
       "    <tr>\n",
       "      <th>4</th>\n",
       "      <td>5</td>\n",
       "      <td>64.0</td>\n",
       "      <td>1.0</td>\n",
       "      <td>14.0</td>\n",
       "      <td>0.0</td>\n",
       "      <td>1.0</td>\n",
       "      <td>0.0</td>\n",
       "      <td>0.0</td>\n",
       "      <td>0.0</td>\n",
       "      <td>1.0</td>\n",
       "      <td>...</td>\n",
       "      <td>0.0</td>\n",
       "      <td>1.0</td>\n",
       "      <td>0.0</td>\n",
       "      <td>0.0</td>\n",
       "      <td>1.0</td>\n",
       "      <td>0.0</td>\n",
       "      <td>1.0</td>\n",
       "      <td>1.0</td>\n",
       "      <td>1.0</td>\n",
       "      <td>0.0</td>\n",
       "    </tr>\n",
       "    <tr>\n",
       "      <th>...</th>\n",
       "      <td>...</td>\n",
       "      <td>...</td>\n",
       "      <td>...</td>\n",
       "      <td>...</td>\n",
       "      <td>...</td>\n",
       "      <td>...</td>\n",
       "      <td>...</td>\n",
       "      <td>...</td>\n",
       "      <td>...</td>\n",
       "      <td>...</td>\n",
       "      <td>...</td>\n",
       "      <td>...</td>\n",
       "      <td>...</td>\n",
       "      <td>...</td>\n",
       "      <td>...</td>\n",
       "      <td>...</td>\n",
       "      <td>...</td>\n",
       "      <td>...</td>\n",
       "      <td>...</td>\n",
       "      <td>...</td>\n",
       "      <td>...</td>\n",
       "    </tr>\n",
       "    <tr>\n",
       "      <th>844336</th>\n",
       "      <td>844337</td>\n",
       "      <td>60.0</td>\n",
       "      <td>0.0</td>\n",
       "      <td>40.0</td>\n",
       "      <td>0.0</td>\n",
       "      <td>1.0</td>\n",
       "      <td>1.0</td>\n",
       "      <td>0.0</td>\n",
       "      <td>0.0</td>\n",
       "      <td>1.0</td>\n",
       "      <td>...</td>\n",
       "      <td>0.0</td>\n",
       "      <td>1.0</td>\n",
       "      <td>0.0</td>\n",
       "      <td>0.0</td>\n",
       "      <td>0.0</td>\n",
       "      <td>1.0</td>\n",
       "      <td>NaN</td>\n",
       "      <td>1.0</td>\n",
       "      <td>1.0</td>\n",
       "      <td>0.0</td>\n",
       "    </tr>\n",
       "    <tr>\n",
       "      <th>844337</th>\n",
       "      <td>844338</td>\n",
       "      <td>94.0</td>\n",
       "      <td>0.0</td>\n",
       "      <td>15.0</td>\n",
       "      <td>3.0</td>\n",
       "      <td>1.0</td>\n",
       "      <td>1.0</td>\n",
       "      <td>1.0</td>\n",
       "      <td>0.0</td>\n",
       "      <td>1.0</td>\n",
       "      <td>...</td>\n",
       "      <td>0.0</td>\n",
       "      <td>1.0</td>\n",
       "      <td>0.0</td>\n",
       "      <td>0.0</td>\n",
       "      <td>0.0</td>\n",
       "      <td>0.0</td>\n",
       "      <td>NaN</td>\n",
       "      <td>1.0</td>\n",
       "      <td>1.0</td>\n",
       "      <td>0.0</td>\n",
       "    </tr>\n",
       "    <tr>\n",
       "      <th>844338</th>\n",
       "      <td>844339</td>\n",
       "      <td>37.0</td>\n",
       "      <td>1.0</td>\n",
       "      <td>40.0</td>\n",
       "      <td>0.0</td>\n",
       "      <td>1.0</td>\n",
       "      <td>1.0</td>\n",
       "      <td>0.0</td>\n",
       "      <td>0.0</td>\n",
       "      <td>1.0</td>\n",
       "      <td>...</td>\n",
       "      <td>0.0</td>\n",
       "      <td>1.0</td>\n",
       "      <td>0.0</td>\n",
       "      <td>0.0</td>\n",
       "      <td>0.0</td>\n",
       "      <td>1.0</td>\n",
       "      <td>NaN</td>\n",
       "      <td>1.0</td>\n",
       "      <td>1.0</td>\n",
       "      <td>0.0</td>\n",
       "    </tr>\n",
       "    <tr>\n",
       "      <th>844339</th>\n",
       "      <td>844340</td>\n",
       "      <td>43.0</td>\n",
       "      <td>0.0</td>\n",
       "      <td>40.0</td>\n",
       "      <td>3.0</td>\n",
       "      <td>1.0</td>\n",
       "      <td>1.0</td>\n",
       "      <td>0.0</td>\n",
       "      <td>0.0</td>\n",
       "      <td>1.0</td>\n",
       "      <td>...</td>\n",
       "      <td>0.0</td>\n",
       "      <td>1.0</td>\n",
       "      <td>0.0</td>\n",
       "      <td>0.0</td>\n",
       "      <td>0.0</td>\n",
       "      <td>1.0</td>\n",
       "      <td>1.0</td>\n",
       "      <td>1.0</td>\n",
       "      <td>1.0</td>\n",
       "      <td>0.0</td>\n",
       "    </tr>\n",
       "    <tr>\n",
       "      <th>844340</th>\n",
       "      <td>844341</td>\n",
       "      <td>70.0</td>\n",
       "      <td>1.0</td>\n",
       "      <td>15.0</td>\n",
       "      <td>3.0</td>\n",
       "      <td>1.0</td>\n",
       "      <td>1.0</td>\n",
       "      <td>0.0</td>\n",
       "      <td>0.0</td>\n",
       "      <td>1.0</td>\n",
       "      <td>...</td>\n",
       "      <td>0.0</td>\n",
       "      <td>1.0</td>\n",
       "      <td>0.0</td>\n",
       "      <td>0.0</td>\n",
       "      <td>0.0</td>\n",
       "      <td>0.0</td>\n",
       "      <td>NaN</td>\n",
       "      <td>1.0</td>\n",
       "      <td>1.0</td>\n",
       "      <td>0.0</td>\n",
       "    </tr>\n",
       "  </tbody>\n",
       "</table>\n",
       "<p>844341 rows × 54 columns</p>\n",
       "</div>"
      ],
      "text/plain": [
       "        USUBJID   AGE  SEX  COUNTRY  DSDECOD  HODECOD  \\\n",
       "0             1  62.0  0.0     15.0      NaN      1.0   \n",
       "1             2  76.0  1.0     15.0      2.0      1.0   \n",
       "2             3  40.0  1.0     40.0      0.0      1.0   \n",
       "3             4  51.0  0.0     40.0      3.0      1.0   \n",
       "4             5  64.0  1.0     14.0      0.0      1.0   \n",
       "...         ...   ...  ...      ...      ...      ...   \n",
       "844336   844337  60.0  0.0     40.0      0.0      1.0   \n",
       "844337   844338  94.0  0.0     15.0      3.0      1.0   \n",
       "844338   844339  37.0  1.0     40.0      0.0      1.0   \n",
       "844339   844340  43.0  0.0     40.0      3.0      1.0   \n",
       "844340   844341  70.0  1.0     15.0      3.0      1.0   \n",
       "\n",
       "        INCLAS_AGENTS_ACTING_ON_THE_RENIN-ANGIOTENSIN_SYSTEM  \\\n",
       "0                                                     0.0      \n",
       "1                                                     1.0      \n",
       "2                                                     1.0      \n",
       "3                                                     1.0      \n",
       "4                                                     0.0      \n",
       "...                                                   ...      \n",
       "844336                                                1.0      \n",
       "844337                                                1.0      \n",
       "844338                                                1.0      \n",
       "844339                                                1.0      \n",
       "844340                                                1.0      \n",
       "\n",
       "        INCLAS_ANALGESICS  INCLAS_ANESTHETICS  \\\n",
       "0                     0.0                 0.0   \n",
       "1                     0.0                 0.0   \n",
       "2                     0.0                 0.0   \n",
       "3                     0.0                 0.0   \n",
       "4                     0.0                 0.0   \n",
       "...                   ...                 ...   \n",
       "844336                0.0                 0.0   \n",
       "844337                1.0                 0.0   \n",
       "844338                0.0                 0.0   \n",
       "844339                0.0                 0.0   \n",
       "844340                0.0                 0.0   \n",
       "\n",
       "        INCLAS_ANTIBACTERIALS_FOR_SYSTEMIC_USE  ...  \\\n",
       "0                                          1.0  ...   \n",
       "1                                          1.0  ...   \n",
       "2                                          1.0  ...   \n",
       "3                                          1.0  ...   \n",
       "4                                          1.0  ...   \n",
       "...                                        ...  ...   \n",
       "844336                                     1.0  ...   \n",
       "844337                                     1.0  ...   \n",
       "844338                                     1.0  ...   \n",
       "844339                                     1.0  ...   \n",
       "844340                                     1.0  ...   \n",
       "\n",
       "        INCLAS_REMOVAL_OF_ENDOTRACHEAL_TUBE  INCLAS_RENAL_REPLACEMENT  \\\n",
       "0                                       0.0                       1.0   \n",
       "1                                       0.0                       1.0   \n",
       "2                                       0.0                       1.0   \n",
       "3                                       0.0                       1.0   \n",
       "4                                       0.0                       1.0   \n",
       "...                                     ...                       ...   \n",
       "844336                                  0.0                       1.0   \n",
       "844337                                  0.0                       1.0   \n",
       "844338                                  0.0                       1.0   \n",
       "844339                                  0.0                       1.0   \n",
       "844340                                  0.0                       1.0   \n",
       "\n",
       "        INCLAS_REPLACEMENT_AGENT  INCLAS_TOTAL_PARENTERAL_NUTRITION  \\\n",
       "0                            0.0                                0.0   \n",
       "1                            0.0                                0.0   \n",
       "2                            0.0                                0.0   \n",
       "3                            0.0                                0.0   \n",
       "4                            0.0                                0.0   \n",
       "...                          ...                                ...   \n",
       "844336                       0.0                                0.0   \n",
       "844337                       0.0                                0.0   \n",
       "844338                       0.0                                0.0   \n",
       "844339                       0.0                                0.0   \n",
       "844340                       0.0                                0.0   \n",
       "\n",
       "        INCLAS_TRANSFUSION_OF_BLOOD_PRODUCT  INCLAS_VACCINES  MBTEST_SARSCOV2  \\\n",
       "0                                       0.0              0.0              NaN   \n",
       "1                                       0.0              0.0              NaN   \n",
       "2                                       0.0              1.0              1.0   \n",
       "3                                       0.0              1.0              1.0   \n",
       "4                                       1.0              0.0              1.0   \n",
       "...                                     ...              ...              ...   \n",
       "844336                                  0.0              1.0              NaN   \n",
       "844337                                  0.0              0.0              NaN   \n",
       "844338                                  0.0              1.0              NaN   \n",
       "844339                                  0.0              1.0              1.0   \n",
       "844340                                  0.0              0.0              NaN   \n",
       "\n",
       "        SACAT_COMORBIDITIES  SACAT_COMPLICATIONS  \\\n",
       "0                       1.0                  1.0   \n",
       "1                       1.0                  1.0   \n",
       "2                       1.0                  1.0   \n",
       "3                       1.0                  1.0   \n",
       "4                       1.0                  1.0   \n",
       "...                     ...                  ...   \n",
       "844336                  1.0                  1.0   \n",
       "844337                  1.0                  1.0   \n",
       "844338                  1.0                  1.0   \n",
       "844339                  1.0                  1.0   \n",
       "844340                  1.0                  1.0   \n",
       "\n",
       "        SACAT_PREVIOUS_COVID-19_INFECTION  \n",
       "0                                     0.0  \n",
       "1                                     0.0  \n",
       "2                                     0.0  \n",
       "3                                     0.0  \n",
       "4                                     0.0  \n",
       "...                                   ...  \n",
       "844336                                0.0  \n",
       "844337                                0.0  \n",
       "844338                                0.0  \n",
       "844339                                0.0  \n",
       "844340                                0.0  \n",
       "\n",
       "[844341 rows x 54 columns]"
      ]
     },
     "execution_count": 8,
     "metadata": {},
     "output_type": "execute_result"
    }
   ],
   "source": [
    "df_matrixAll_woTime_woNA60"
   ]
  },
  {
   "cell_type": "code",
   "execution_count": 9,
   "id": "dbad1f31-878f-4816-bd0a-9e3c61cf9efd",
   "metadata": {},
   "outputs": [
    {
     "data": {
      "text/plain": [
       "Index(['USUBJID', 'AGE', 'SEX', 'COUNTRY', 'DSDECOD', 'HODECOD',\n",
       "       'INCLAS_AGENTS_ACTING_ON_THE_RENIN-ANGIOTENSIN_SYSTEM',\n",
       "       'INCLAS_ANALGESICS', 'INCLAS_ANESTHETICS',\n",
       "       'INCLAS_ANTIBACTERIALS_FOR_SYSTEMIC_USE', 'INCLAS_ANTIHELMINTICS',\n",
       "       'INCLAS_ANTIINFLAMMATORY_AND_ANTIRHEUMATIC_PRODUCTS,_NON-STEROIDS',\n",
       "       'INCLAS_ANTIMALARIALS', 'INCLAS_ANTIMYCOTICS_FOR_SYSTEMIC_USE',\n",
       "       'INCLAS_ANTITHROMBOTIC_AGENTS', 'INCLAS_ANTIVIRALS_FOR_SYSTEMIC_USE',\n",
       "       'INCLAS_ARTIFICIAL_RESPIRATION', 'INCLAS_BETA_BLOCKING_AGENTS',\n",
       "       'INCLAS_BLOOD_SUBSTITUTES_AND_PERFUSION_SOLUTIONS',\n",
       "       'INCLAS_BRONCHOSCOPY', 'INCLAS_CARDIAC_PACING',\n",
       "       'INCLAS_CARDIAC_THERAPY', 'INCLAS_CARDIOPULMONARY_RESUSCITATION',\n",
       "       'INCLAS_CHEMOTHERAPY', 'INCLAS_CORTICOSTEROIDS_FOR_SYSTEMIC_USE',\n",
       "       'INCLAS_DIURETICS', 'INCLAS_DRUGS_FOR_ACID_RELATED_DISORDERS',\n",
       "       'INCLAS_DRUGS_FOR_OBSTRUCTIVE_AIRWAY_DISEASES',\n",
       "       'INCLAS_EXTRACORPOREAL_MEMBRANE_OXYGENATION',\n",
       "       'INCLAS_HIGH_FLOW_OXYGEN_NASAL_CANNULA', 'INCLAS_IMMUNOGLOBULINS',\n",
       "       'INCLAS_IMMUNOSTIMULANTS', 'INCLAS_IMMUNOSUPPRESSANTS',\n",
       "       'INCLAS_INSERTION_OF_TRACHEOSTOMY_TUBE', 'INCLAS_INTUBATION',\n",
       "       'INCLAS_LIPID_MODIFYING_AGENTS', 'INCLAS_MUSCLE_RELAXANTS',\n",
       "       'INCLAS_NONINVASIVE_POSITIVE_PRESSURE_VENTILATION',\n",
       "       'INCLAS_NONINVASIVE_VENTILATION',\n",
       "       'INCLAS_OTHER_RESPIRATORY_SYSTEM_PRODUCTS', 'INCLAS_OXYGEN',\n",
       "       'INCLAS_PERCUTANEOUS_ENDOSCOPIC_GASTROSTOMY',\n",
       "       'INCLAS_PRONE_BODY_POSITION', 'INCLAS_PSYCHOLEPTICS',\n",
       "       'INCLAS_REMOVAL_OF_ENDOTRACHEAL_TUBE', 'INCLAS_RENAL_REPLACEMENT',\n",
       "       'INCLAS_REPLACEMENT_AGENT', 'INCLAS_TOTAL_PARENTERAL_NUTRITION',\n",
       "       'INCLAS_TRANSFUSION_OF_BLOOD_PRODUCT', 'INCLAS_VACCINES',\n",
       "       'MBTEST_SARSCOV2', 'SACAT_COMORBIDITIES', 'SACAT_COMPLICATIONS',\n",
       "       'SACAT_PREVIOUS_COVID-19_INFECTION'],\n",
       "      dtype='object')"
      ]
     },
     "execution_count": 9,
     "metadata": {},
     "output_type": "execute_result"
    }
   ],
   "source": [
    "df_matrixAll_woTime_woNA60.columns"
   ]
  },
  {
   "cell_type": "code",
   "execution_count": null,
   "id": "ac9ad0a6-3503-4fc4-87e0-8a2c1ea8a6b9",
   "metadata": {},
   "outputs": [],
   "source": []
  },
  {
   "cell_type": "code",
   "execution_count": null,
   "id": "83f71612-5425-48d5-9bf5-e13f5a938b1d",
   "metadata": {},
   "outputs": [],
   "source": []
  },
  {
   "cell_type": "code",
   "execution_count": null,
   "id": "2dbc9254-6ea6-4f01-ac24-30c476d78e69",
   "metadata": {},
   "outputs": [],
   "source": []
  },
  {
   "cell_type": "code",
   "execution_count": null,
   "id": "f6359c8e-1215-46bb-a7b9-e7408a6c6965",
   "metadata": {},
   "outputs": [],
   "source": []
  },
  {
   "cell_type": "code",
   "execution_count": null,
   "id": "139ce117-5bc7-4c9b-adc4-315323da83df",
   "metadata": {},
   "outputs": [],
   "source": []
  }
 ],
 "metadata": {
  "kernelspec": {
   "display_name": "Python [conda env:ada] *",
   "language": "python",
   "name": "conda-env-ada-py"
  },
  "language_info": {
   "codemirror_mode": {
    "name": "ipython",
    "version": 3
   },
   "file_extension": ".py",
   "mimetype": "text/x-python",
   "name": "python",
   "nbconvert_exporter": "python",
   "pygments_lexer": "ipython3",
   "version": "3.8.13"
  }
 },
 "nbformat": 4,
 "nbformat_minor": 5
}
