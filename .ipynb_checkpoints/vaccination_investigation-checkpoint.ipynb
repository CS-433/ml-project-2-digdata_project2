{
 "cells": [
  {
   "cell_type": "markdown",
   "id": "07228df0-ae1a-47f4-92e2-146fb18b0081",
   "metadata": {},
   "source": [
    "# Investigation of the vaccination problem"
   ]
  },
  {
   "cell_type": "markdown",
   "id": "4b0f1e6b-d014-491e-a405-50fa06dec98b",
   "metadata": {},
   "source": [
    "It was noted during our analysis that Europe had 5% vaccination while Africa had almost 100% vaccination. To verify that this is not a manipulation problem in our code, we will investigate with the raw data."
   ]
  },
  {
   "cell_type": "code",
   "execution_count": 1,
   "id": "e036c381-2877-4360-9b06-113c4927cdbb",
   "metadata": {},
   "outputs": [],
   "source": [
    "# Import\n",
    "%matplotlib inline\n",
    "\n",
    "import os\n",
    "import os.path as op\n",
    "import math\n",
    "import numpy as np\n",
    "import pandas as pd\n",
    "\n",
    "%load_ext autoreload\n",
    "%autoreload 2"
   ]
  },
  {
   "cell_type": "code",
   "execution_count": 2,
   "id": "7b44775a-04eb-4932-9d36-0aec61803863",
   "metadata": {},
   "outputs": [],
   "source": [
    "# Open DM (country information)\n",
    "data_description_folder = 'data'\n",
    "data_folder = op.join(os.getcwd(), data_description_folder, 'DATA_2022-09-01')\n",
    "DM = pd.read_csv(op.join(data_folder, 'DM_2022-09-01.csv'), sep=',', low_memory=False) \n",
    "DM.name = 'DM'"
   ]
  },
  {
   "cell_type": "code",
   "execution_count": null,
   "id": "69800ae6-96cb-4d9a-8de1-7237856be7e9",
   "metadata": {},
   "outputs": [],
   "source": [
    "# Open IN (vaccination information)\n",
    "data_folder = op.join(os.getcwd(), data_description_folder, 'DATA_2022-09-01')\n",
    "mylist = []\n",
    "for chunk in pd.read_csv(op.join(data_folder, 'IN_2022-09-01.csv'), sep=',', low_memory=False, chunksize=5000):\n",
    "    mylist.append(chunk)\n",
    "IN = pd.concat(mylist, axis=0)\n",
    "IN.name = 'IN'\n",
    "del mylist"
   ]
  },
  {
   "cell_type": "markdown",
   "id": "325cff50-35fb-4450-85a6-59b7552b5f04",
   "metadata": {},
   "source": [
    "## 1. Vaccination in Africa"
   ]
  },
  {
   "cell_type": "code",
   "execution_count": 3,
   "id": "28ffd818-5b04-44e4-814f-7ad5083997b7",
   "metadata": {},
   "outputs": [
    {
     "data": {
      "text/plain": [
       "array([114640, 302891, 224604, ..., 331862, 553774, 475274], dtype=int64)"
      ]
     },
     "execution_count": 3,
     "metadata": {},
     "output_type": "execute_result"
    }
   ],
   "source": [
    "# We will test for the main country in Africa which is ZAF\n",
    "DM.USUBJID[DM.COUNTRY=='ZAF'].unique()"
   ]
  },
  {
   "cell_type": "code",
   "execution_count": 16,
   "id": "40f68e8f-7424-4315-91c3-4d0a5eee22f4",
   "metadata": {},
   "outputs": [],
   "source": [
    "# Take patient that are ZAF in IN\n",
    "IN_ZAF = IN.loc[IN.USUBJID.isin(DM.USUBJID[DM.COUNTRY=='ZAF'].unique()), ['INCLAS', 'USUBJID']]"
   ]
  },
  {
   "cell_type": "code",
   "execution_count": 21,
   "id": "70791c94-f755-4de9-ba32-6f6e10ac8c26",
   "metadata": {},
   "outputs": [
    {
     "data": {
      "text/plain": [
       "(488640, 2)"
      ]
     },
     "execution_count": 21,
     "metadata": {},
     "output_type": "execute_result"
    }
   ],
   "source": [
    "# Number of vaccinated patients in ZAF\n",
    "vacc_ZAF = IN_ZAF[IN_ZAF.INCLAS=='VACCINES'].drop_duplicates()\n",
    "vacc_ZAF.shape"
   ]
  },
  {
   "cell_type": "code",
   "execution_count": 11,
   "id": "c4132ca8-615a-4a03-86a5-e303488f6511",
   "metadata": {},
   "outputs": [
    {
     "data": {
      "text/plain": [
       "488849"
      ]
     },
     "execution_count": 11,
     "metadata": {},
     "output_type": "execute_result"
    }
   ],
   "source": [
    "# Number of patients that are ZAF\n",
    "len(DM.USUBJID[DM.COUNTRY=='ZAF'].unique())"
   ]
  },
  {
   "cell_type": "markdown",
   "id": "a7cd7680-869e-4334-b329-28647426632b",
   "metadata": {},
   "source": [
    "Almost all patients that come from ZAF are vaccinated. One may wonder about the date of entry into the study for patients from ZAF."
   ]
  },
  {
   "cell_type": "code",
   "execution_count": 32,
   "id": "9024941e-68ff-41d9-b5c7-605ad3a94f18",
   "metadata": {},
   "outputs": [
    {
     "data": {
      "text/html": [
       "<div>\n",
       "<style scoped>\n",
       "    .dataframe tbody tr th:only-of-type {\n",
       "        vertical-align: middle;\n",
       "    }\n",
       "\n",
       "    .dataframe tbody tr th {\n",
       "        vertical-align: top;\n",
       "    }\n",
       "\n",
       "    .dataframe thead th {\n",
       "        text-align: right;\n",
       "    }\n",
       "</style>\n",
       "<table border=\"1\" class=\"dataframe\">\n",
       "  <thead>\n",
       "    <tr style=\"text-align: right;\">\n",
       "      <th></th>\n",
       "      <th>RFSTDTC</th>\n",
       "    </tr>\n",
       "  </thead>\n",
       "  <tbody>\n",
       "    <tr>\n",
       "      <th>2020-03</th>\n",
       "      <td>411</td>\n",
       "    </tr>\n",
       "    <tr>\n",
       "      <th>2020-04</th>\n",
       "      <td>1401</td>\n",
       "    </tr>\n",
       "    <tr>\n",
       "      <th>2020-05</th>\n",
       "      <td>5854</td>\n",
       "    </tr>\n",
       "    <tr>\n",
       "      <th>2020-06</th>\n",
       "      <td>18427</td>\n",
       "    </tr>\n",
       "    <tr>\n",
       "      <th>2020-07</th>\n",
       "      <td>38787</td>\n",
       "    </tr>\n",
       "    <tr>\n",
       "      <th>2020-08</th>\n",
       "      <td>20062</td>\n",
       "    </tr>\n",
       "    <tr>\n",
       "      <th>2020-09</th>\n",
       "      <td>9078</td>\n",
       "    </tr>\n",
       "    <tr>\n",
       "      <th>2020-10</th>\n",
       "      <td>7970</td>\n",
       "    </tr>\n",
       "    <tr>\n",
       "      <th>2020-11</th>\n",
       "      <td>11208</td>\n",
       "    </tr>\n",
       "    <tr>\n",
       "      <th>2020-12</th>\n",
       "      <td>40023</td>\n",
       "    </tr>\n",
       "    <tr>\n",
       "      <th>2021-01</th>\n",
       "      <td>54550</td>\n",
       "    </tr>\n",
       "    <tr>\n",
       "      <th>2021-02</th>\n",
       "      <td>12846</td>\n",
       "    </tr>\n",
       "    <tr>\n",
       "      <th>2021-03</th>\n",
       "      <td>7898</td>\n",
       "    </tr>\n",
       "    <tr>\n",
       "      <th>2021-04</th>\n",
       "      <td>7671</td>\n",
       "    </tr>\n",
       "    <tr>\n",
       "      <th>2021-05</th>\n",
       "      <td>14079</td>\n",
       "    </tr>\n",
       "    <tr>\n",
       "      <th>2021-06</th>\n",
       "      <td>33441</td>\n",
       "    </tr>\n",
       "    <tr>\n",
       "      <th>2021-07</th>\n",
       "      <td>53766</td>\n",
       "    </tr>\n",
       "    <tr>\n",
       "      <th>2021-08</th>\n",
       "      <td>37071</td>\n",
       "    </tr>\n",
       "    <tr>\n",
       "      <th>2021-09</th>\n",
       "      <td>15812</td>\n",
       "    </tr>\n",
       "    <tr>\n",
       "      <th>2021-10</th>\n",
       "      <td>4201</td>\n",
       "    </tr>\n",
       "    <tr>\n",
       "      <th>2021-11</th>\n",
       "      <td>4472</td>\n",
       "    </tr>\n",
       "    <tr>\n",
       "      <th>2021-12</th>\n",
       "      <td>34813</td>\n",
       "    </tr>\n",
       "    <tr>\n",
       "      <th>2022-01</th>\n",
       "      <td>19557</td>\n",
       "    </tr>\n",
       "    <tr>\n",
       "      <th>2022-02</th>\n",
       "      <td>7174</td>\n",
       "    </tr>\n",
       "    <tr>\n",
       "      <th>2022-03</th>\n",
       "      <td>4240</td>\n",
       "    </tr>\n",
       "    <tr>\n",
       "      <th>2022-04</th>\n",
       "      <td>5101</td>\n",
       "    </tr>\n",
       "    <tr>\n",
       "      <th>2022-05</th>\n",
       "      <td>10744</td>\n",
       "    </tr>\n",
       "    <tr>\n",
       "      <th>2022-06</th>\n",
       "      <td>3829</td>\n",
       "    </tr>\n",
       "    <tr>\n",
       "      <th>2022-07</th>\n",
       "      <td>952</td>\n",
       "    </tr>\n",
       "  </tbody>\n",
       "</table>\n",
       "</div>"
      ],
      "text/plain": [
       "         RFSTDTC\n",
       "2020-03      411\n",
       "2020-04     1401\n",
       "2020-05     5854\n",
       "2020-06    18427\n",
       "2020-07    38787\n",
       "2020-08    20062\n",
       "2020-09     9078\n",
       "2020-10     7970\n",
       "2020-11    11208\n",
       "2020-12    40023\n",
       "2021-01    54550\n",
       "2021-02    12846\n",
       "2021-03     7898\n",
       "2021-04     7671\n",
       "2021-05    14079\n",
       "2021-06    33441\n",
       "2021-07    53766\n",
       "2021-08    37071\n",
       "2021-09    15812\n",
       "2021-10     4201\n",
       "2021-11     4472\n",
       "2021-12    34813\n",
       "2022-01    19557\n",
       "2022-02     7174\n",
       "2022-03     4240\n",
       "2022-04     5101\n",
       "2022-05    10744\n",
       "2022-06     3829\n",
       "2022-07      952"
      ]
     },
     "execution_count": 32,
     "metadata": {},
     "output_type": "execute_result"
    }
   ],
   "source": [
    "# Date of entry for all ZAF patients\n",
    "pd.DataFrame(DM.loc[DM.USUBJID.isin(DM.USUBJID[DM.COUNTRY=='ZAF'].unique()), ['RFSTDTC']].RFSTDTC.value_counts()).sort_index()"
   ]
  },
  {
   "cell_type": "code",
   "execution_count": 21,
   "id": "c73d9130-faf8-4a29-a136-0b0b6fa529fc",
   "metadata": {},
   "outputs": [
    {
     "data": {
      "text/plain": [
       "Index(['STUDYID', 'DOMAIN', 'USUBJID', 'SPDEVID', 'INSEQ', 'INREFID', 'INTRT',\n",
       "       'INMODIFY', 'INDECOD', 'INCAT', 'INSCAT', 'INPRESP', 'INOCCUR',\n",
       "       'INSTAT', 'INREASND', 'ININDC', 'INCLAS', 'INCLASCD', 'INDOSE',\n",
       "       'INDOSTXT', 'INDOSU', 'INDOSFRM', 'INDOSFRQ', 'INDOSTOT', 'INDOSRGM',\n",
       "       'INROUTE', 'VISITNUM', 'VISIT', 'VISITDY', 'INDY', 'INSTDY', 'INENDY',\n",
       "       'INDUR', 'INSTRF', 'INEVLINT', 'INEVINTX', 'INCDSTDY'],\n",
       "      dtype='object')"
      ]
     },
     "execution_count": 21,
     "metadata": {},
     "output_type": "execute_result"
    }
   ],
   "source": [
    "IN.columns"
   ]
  },
  {
   "cell_type": "code",
   "execution_count": 22,
   "id": "11a67c84-4bb7-44f7-abac-4d6e808f211a",
   "metadata": {},
   "outputs": [
    {
     "data": {
      "text/plain": [
       "array(['INVASIVE VENTILATION', 'VENTILATED', 'HYDROXYCHLOROQUINE',\n",
       "       'OXYGEN THERAPY', 'NEURAMINIDASE INHIBITORS',\n",
       "       'HIGH-FLOW NASAL CANNULA', 'STEROIDS', 'CHEMOTHERAPY',\n",
       "       'COLCHICINE', 'ECMO', 'LOPINAVIR', 'INTERFERON BETA',\n",
       "       'PRONE VENTILATION', 'CPR', 'ANTIINFLAMMATORY',\n",
       "       'IMMUNOSUPPRESSANTS', 'HYDROCORTISONE', 'DIALYSIS/RENAL TREATMENT',\n",
       "       'REMDESIVIR', 'AZITHROMYCIN', 'ANTIRETROVIRAL',\n",
       "       'OTHER INTERVENTION OR PROCEDURE', 'ANTIBIOTIC AGENTS',\n",
       "       'THERAPEUTIC ANTICOAGULANT', 'CHLOROQUINE', 'MECHANICAL SUPPORT',\n",
       "       'ANTIFUNGAL AGENTS', 'SARILUMAB', 'TOCILIZUMAB',\n",
       "       'INTERFERON ALPHA', 'DEXAMETHASONE', 'CARDIOVASCULAR SUPPORT',\n",
       "       'COVID-19 VACCINATION', 'INOTROPES', 'PACING', 'RIBAVIRIN',\n",
       "       'ANTIVIRAL AGENTS',\n",
       "       'AGENTS ACTING ON THE RENIN-ANGIOTENSIN SYSTEM',\n",
       "       'RESPIRATORY SUPPORT', 'NON-INVASIVE VENTILATION',\n",
       "       'IMMUNOGLOBULINS', 'COVID-19 VACCINE PFIZER-BIONTECH',\n",
       "       'COVID-19 VACCINE JANSSENS (JOHNSON AND JOHNSON)',\n",
       "       'AMOXICILLIN AND BETA-LACTAMASE INHIBITOR',\n",
       "       'COVID-19 VACCINE TYPE UNKNOWN', nan, 'ZINC', 'CEFTRIAXONE',\n",
       "       'ASCORBIC ACID (VITAMIN C), INCL. COMBINATIONS', 'ENOXAPARIN',\n",
       "       'CEFALEXIN', 'ACICLOVIR', 'TRAMADOL',\n",
       "       'PARACETAMOL / ACETAMINOPHEN', 'METHYLPREDNISOLONE', 'GANCICLOVIR',\n",
       "       'RENAL REPLACEMENT THERAPY OR HEMODIALYSIS',\n",
       "       'SULFAMETHOXAZOLE AND TRIMETHOPRIM', 'MEROPENEM', 'PREDNISONE',\n",
       "       'ANGIOTENSIN II RECEPTOR BLOCKERS (ARBS)', 'CORTICOSTEROIDS',\n",
       "       'NON-STEROIDAL ANTI-INFLAMMATORY AGENTS (NSAIDS)',\n",
       "       'HEMOFILTRATION', 'ORAL STEROIDS', 'HEPARIN',\n",
       "       'SUPPLEMENTAL OXYGEN FIO2',\n",
       "       'ANGIOTENSIN CONVERTING ENZYME INHIBITORS (ACE INHIBITORS)',\n",
       "       'RENAL DIALYSIS', 'LOPINAVIR AND RITONAVIR',\n",
       "       'BLOOD TRANSFUSION OR BLOOD PRODUCT',\n",
       "       'CHLOROQUINE / HYDROXYCHLOROQUINE', 'PRONE POSITIONING',\n",
       "       'COVID-19 VACCINE ASTRAZENECA/UNIVERSITY OF OXFORD', 'INTUBATION',\n",
       "       'OTHER IMMUNOSUPPRESSANT AGENTS (NOT ORAL STEROIDS)',\n",
       "       'DARUNAVIR AND RITONAVIR', 'OSELTAMIVIR',\n",
       "       'COVID-19 VACCINE MODERNA', 'PREDNISOLONE',\n",
       "       'IMMUNOSUPPRESSANTS (NOT LOW DOSE HYDROCORTISONE)',\n",
       "       'ANTI-INFECTIVES', 'ATORVASTATIN', 'CLOPIDOGREL', 'LANSOPRAZOLE',\n",
       "       'PENICILLIN', 'NON-INVASIVE RESPIRATORY SUPPORT', 'ECLS/ECMO',\n",
       "       'VASOPRESSOR/INOTROPIC SUPPORT', 'NEUROMUSCULAR BLOCKING AGENTS',\n",
       "       'INHALED NITRIC OXIDE', 'TRACHEOSTOMY INSERTED', 'FLUCLOXACILLIN',\n",
       "       'RENAL REPLACEMENT', 'SALBUTAMOL', 'OLANZAPINE', 'GABAPENTIN',\n",
       "       'CODEINE AND PARACETAMOL', 'OMEPRAZOLE', 'FUROSEMIDE', 'UNKNOWN',\n",
       "       'OFF-LABEL/COMPASSIONATE USE MEDICATIONS', 'CLARITHROMYCIN',\n",
       "       'AMOXICILLIN', 'LISINOPRIL', 'BISOPROLOL', 'RAMIPRIL', 'MIDAZOLAM',\n",
       "       'PROPOFOL', 'FENTANYL', 'IBUPROFEN', 'SIMVASTATIN',\n",
       "       'INTERLEUKIN INHIBITORS', 'CONVALESCENT PLASMA', 'WARFARIN',\n",
       "       'METHOTREXATE', 'PIPERACILLIN / TAZOBACTAM', 'LOSARTAN',\n",
       "       'GLYCERYL TRINITRATE', 'VILANTEROL AND UMECLIDINIUM BROMIDE',\n",
       "       'RISPERIDONE', 'LORAZEPAM', 'MORPHINE', 'INFLUENZA VACCINATION',\n",
       "       'ROSUVASTATIN', 'ACETYLSALICYLIC ACID', 'BECLOMETASONE',\n",
       "       'GENTAMICIN', 'FLUCONAZOLE', 'AMIODARONE', 'CANDESARTAN',\n",
       "       'BUMETANIDE', 'BENDROFLUMETHIAZIDE', 'DOXYCYCLINE', 'PERINDOPRIL',\n",
       "       'INSULINS AND ANALOGUES', 'CEFUROXIME', 'PROPRANOLOL',\n",
       "       'SPIRONOLACTONE', 'FORMOTEROL AND BECLOMETASONE', 'TRIMETHOPRIM',\n",
       "       'RIFAXIMIN', 'DIAZEPAM', 'CIPROFLOXACIN', 'TIGECYCLINE',\n",
       "       'NITROFURANTOIN', 'METRONIDAZOLE', 'IL6 INHIBITOR',\n",
       "       'ISOSORBIDE MONONITRATE', 'VANCOMYCIN', 'FLUTICASONE',\n",
       "       'MONTELUKAST', 'TIOTROPIUM BROMIDE',\n",
       "       'FORMOTEROL, GLYCOPYRRONIUM BROMIDE AND BECLOMETASONE',\n",
       "       'FLUDROCORTISONE', 'NGT OR OGT REQUIRED FOR NUTRITION',\n",
       "       'PIVMECILLINAM', 'FACE MASK',\n",
       "       'DOPAMINE < 5 UG/KG/MIN OR DOBUTAMINE OR MILRINONE OR LEVOSIMENDAN',\n",
       "       'DOPAMINE 5-15 UG/KG/MIN OR EPINEPHRINE/NOREPINEPHRINE <0.1 UG/KG/MIN OR VASOPRESSIN OR PHENYLEPHRINE',\n",
       "       'DOPAMINE > 15 UG/KG/MIN OR EPINEPHRINE/NOREPINEPHRINE > 0.1 UG/KG/MIN',\n",
       "       'METARAMINOL', 'CLINDAMYCIN', 'FORMOTEROL AND BUDESONIDE',\n",
       "       'IPRATROPIUM BROMIDE', 'GLYCOPEPTIDE ANTIBACTERIALS',\n",
       "       'PROCHLORPERAZINE', 'LEVOFLOXACIN', 'OXYCODONE',\n",
       "       'VILANTEROL AND FLUTICASONE FUROATE', 'NAPROXEN', 'DULOXETINE',\n",
       "       'ERYTHROMYCIN', 'CASPOFUNGIN', 'MOMETASONE', 'LINEZOLID',\n",
       "       'SALMETEROL AND FLUTICASONE', 'FOSFOMYCIN', 'PANTOPRAZOLE',\n",
       "       'VILANTEROL, UMECLIDINIUM BROMIDE AND FLUTICASONE FUROATE',\n",
       "       'ERTAPENEM', 'VORICONAZOLE', 'TEICOPLANIN', 'LEVOMEPROMAZINE',\n",
       "       'IRBESARTAN', 'BUPRENORPHINE', 'CEPHALOSPORIN', 'BENZYLPENICILLIN',\n",
       "       'CEFOTAXIME', 'CEFTAZIDIME', 'COLISTIN', 'DALTEPARIN',\n",
       "       'MYCOPHENOLIC ACID', 'DIHYDROCODEINE', 'PHENOXYMETHYLPENICILLIN',\n",
       "       'PIPERACILLIN', 'SALMETEROL', 'VALACICLOVIR', 'CHLORAMPHENICOL',\n",
       "       'CICLOSPORIN', 'AMIKACIN', 'HALOPERIDOL', 'NORADRENALINE',\n",
       "       'MOXIFLOXACIN', 'AMINOGLYCOSIDE ANTIBACTERIALS', 'ESTRADIOL',\n",
       "       'THEOPHYLLINE', 'BETAMETHASONE', 'ZUCLOPENTHIXOL', 'ADRENALINE',\n",
       "       'ANTIBACTERIALS FOR SYSTEMIC USE', 'TICAGRELOR', 'AMINOPHYLLINE',\n",
       "       'GLYCOPYRRONIUM BROMIDE', 'TINZAPARIN', 'NASAL CANNULA',\n",
       "       'AMPHOTERICIN B', 'INDOMETACIN', 'AMANTADINE', 'TRACHEOSTOMY',\n",
       "       'RIFAMPICIN', 'DAPTOMYCIN', 'DOBUTAMINE', 'PRIMAQUINE',\n",
       "       'VITAMIN D AND ANALOGUES', 'STATINS', 'BRONCHOSCOPY',\n",
       "       'VALSARTAN AND SACUBITRIL', 'VENTURI MASK', 'EXTUBATION',\n",
       "       'ISONIAZID', 'LAMIVUDINE', 'MACROLIDES', 'VALGANCICLOVIR',\n",
       "       'INTRAVENOUS FLUIDS', 'AZITHROMYCIN / CEFTRIAXONE',\n",
       "       'DRUGS FOR OBSTRUCTIVE AIRWAY DISEASES', 'DARUNAVIR', 'RITONAVIR',\n",
       "       'CPAP', 'INDACATEROL AND GLYCOPYRRONIUM BROMIDE',\n",
       "       'SULFAMETHOXAZOLE', 'IMATINIB',\n",
       "       'EMTRICITABINE, TENOFOVIR ALAFENAMIDE AND BICTEGRAVIR',\n",
       "       'INFLIXIMAB', 'SODIUM BICARBONATE', 'CEFIXIME',\n",
       "       'POTASSIUM CHLORIDE', 'PYRAZINAMIDE',\n",
       "       'DOLUTEGRAVIR AND RILPIVIRINE', 'LAMIVUDINE AND DOLUTEGRAVIR',\n",
       "       'EMTRICITABINE, TENOFOVIR ALAFENAMIDE, ELVITEGRAVIR AND COBICISTAT',\n",
       "       'EMTRICITABINE, TENOFOVIR DISOPROXIL AND RILPIVIRINE',\n",
       "       'EMTRICITABINE, TENOFOVIR DISOPROXIL AND EFAVIRENZ', 'RALTEGRAVIR',\n",
       "       'ATAZANAVIR', 'RILPIVIRINE',\n",
       "       'EMTRICITABINE AND TENOFOVIR ALAFENAMIDE',\n",
       "       'LAMIVUDINE AND ABACAVIR', 'NON-INVASIVE MECHANICAL VENTILATION',\n",
       "       'INVASIVE MECHANICAL VENTILATION', 'HEMODIALYSIS',\n",
       "       'DARUNAVIR / COBICISTAT', 'OTHER TREATMENTS FOR COVID19',\n",
       "       'INVASIVE MECHANICAL LUNG VENTILATION', 'PROTON PUMP INHIBITORS',\n",
       "       'VASOPRESSORS', 'NON-INVASIVE POSITIVE PRESSURE VENTILATION',\n",
       "       'CONTINUOUS RENAL REPLACEMENT THERAPY', 'RE-INTUBATION',\n",
       "       'SURGICAL FEEDING TUBE (NOT NASOGASTRIC TUBE)',\n",
       "       'ANTIMALARIAL AGENTS',\n",
       "       'OTHER ANTI-HYPERTENSIVE AGENT (E.G BETA BLOCKER, CALCIUM CHANNEL BLOCKER)',\n",
       "       'NON-STEROIDAL ANTI-INFLAMMATORY (NSAIDS)',\n",
       "       'ORAL/OROGASTRIC FLUIDS', 'I.V. SOLUTIONS',\n",
       "       'TOTAL PARENTERAL NUTRITION', 'VASOPRESSIN', 'CEFEPIME',\n",
       "       'FAVIPIRAVIR', 'AMPICILLIN AND BETA-LACTAMASE INHIBITOR',\n",
       "       'COVID-19 VACCINE SINOVAC', 'CEPHALOSPORINS - 3RD GENERATION',\n",
       "       'CEPHALOSPORINS - 1ST GENERATION',\n",
       "       'CEPHALOSPORINS - 2ND GENERATION', 'BETA BLOCKER',\n",
       "       'ANTIARRHYTHYMIC MEDICATIONS',\n",
       "       'DOPAMINE > 15 UG/KG/MIN OR EPINEPHRINE/NOREPINEPRINE > 0.1. UG/KG/MIN',\n",
       "       'DOPAMINE 5-15 UG/MIN OR EPINEPHRINE/NOREPINEPHRINE < 0.1 UG/KG/MIN OR VASOPRESSIN OR PHENYLEPHRINE',\n",
       "       'OTHER TARGETED COVID-19 MEDICATIONS', 'DIURETIC', 'VV ECLS/ECMO',\n",
       "       'BIPAP', 'AMPICILLIN', 'IVERMECTIN', 'IMIPENEM AND CILASTATIN',\n",
       "       'ANTI-INFLUENZA ANTIVIRAL', 'ILOPROST',\n",
       "       'CEFTAZIDIME AND BETA-LACTAMASE INHIBITOR', 'AV ECLS/ECMO',\n",
       "       'OROGASTRIC OR NASOGASTRIC FLUIDS', 'LOW MOLECULAR WEIGHT HEPARIN',\n",
       "       'DEXMEDETOMIDINE', 'ACE INHIBITOR OR A2 BLOCKER',\n",
       "       'RENAL REPLACEMENT THERAPY (RRT) OR DIALYSIS', 'CEFAZOLIN',\n",
       "       'CARBAPENEMS', 'CEFTAROLINE', 'CENTRAL ECLS/ECMO', 'CLOXACILLIN',\n",
       "       'POLYMYXIN B', 'CEFTOBIPROLE', 'UNFRACTIONATED HEPARIN',\n",
       "       'VINCRISTINE', 'ZINC SULFATE', 'CEPHALOSPORINS - 4TH GENERATION',\n",
       "       'CEPHALOSPORINS - 5TH GENERATION',\n",
       "       'DEXAMETHASONE / METHYLPREDNISOLONE', 'COX-2 SELECTIVE INHIBITOR',\n",
       "       'ACICLOVIR / VALACICLOVIR', 'SODIUM CHLORIDE', 'CALCIUM CARBONATE',\n",
       "       'POLYMYXINS', 'OXACILLIN', 'COVID-19 VACCINE SINOPHARM',\n",
       "       'COVID-19 VACCINE SPUTNIK V', 'ZANAMIVIR', 'CEFTAROLINE FOSAMIL',\n",
       "       'DIALYSIS/HEMOFILTRATION', 'CEFOPERAZONE', 'CISATRACURIUM',\n",
       "       'SALBUTAMOL AND FLUTICASONE', 'PNEUMOCOCCAL VACCINATION',\n",
       "       'GUAIFENESIN', 'NASAL MASK OXYGEN THERAPY'], dtype=object)"
      ]
     },
     "execution_count": 22,
     "metadata": {},
     "output_type": "execute_result"
    }
   ],
   "source": [
    "IN.INMODIFY.unique()"
   ]
  },
  {
   "cell_type": "code",
   "execution_count": 23,
   "id": "a2a475d3-2959-4841-b026-10ac9849e39a",
   "metadata": {},
   "outputs": [
    {
     "data": {
      "text/plain": [
       "array(['ARTIFICIAL RESPIRATION', 'ANTIMALARIALS', 'OXYGEN',\n",
       "       'ANTIVIRALS FOR SYSTEMIC USE', 'HIGH FLOW OXYGEN NASAL CANNULA',\n",
       "       'CORTICOSTEROIDS FOR SYSTEMIC USE', 'CHEMOTHERAPY',\n",
       "       'ANTIINFLAMMATORY AND ANTIRHEUMATIC PRODUCTS, NON-STEROIDS',\n",
       "       'EXTRACORPOREAL MEMBRANE OXYGENATION', 'IMMUNOSTIMULANTS',\n",
       "       'PRONE BODY POSITION', 'CARDIOPULMONARY RESUSCITATION',\n",
       "       'IMMUNOSUPPRESSANTS', 'RENAL REPLACEMENT',\n",
       "       'ANTIBACTERIALS FOR SYSTEMIC USE', nan, 'ANTITHROMBOTIC AGENTS',\n",
       "       'ANTIMYCOTICS FOR SYSTEMIC USE', 'CARDIAC THERAPY', 'VACCINES',\n",
       "       'CARDIAC PACING', 'AGENTS ACTING ON THE RENIN-ANGIOTENSIN SYSTEM',\n",
       "       'NONINVASIVE VENTILATION', 'IMMUNOGLOBULINS', 'ANALGESICS',\n",
       "       'TRANSFUSION OF BLOOD PRODUCT', 'LIPID MODIFYING AGENTS',\n",
       "       'DRUGS FOR ACID RELATED DISORDERS', 'MUSCLE RELAXANTS',\n",
       "       'OTHER RESPIRATORY SYSTEM PRODUCTS',\n",
       "       'INSERTION OF TRACHEOSTOMY TUBE',\n",
       "       'DRUGS FOR OBSTRUCTIVE AIRWAY DISEASES', 'PSYCHOLEPTICS',\n",
       "       'DIURETICS', 'BETA BLOCKING AGENTS', 'ANESTHETICS',\n",
       "       'BLOOD SUBSTITUTES AND PERFUSION SOLUTIONS', 'BRONCHOSCOPY',\n",
       "       'REMOVAL OF ENDOTRACHEAL TUBE', 'REPLACEMENT AGENT',\n",
       "       'NONINVASIVE POSITIVE PRESSURE VENTILATION', 'INTUBATION',\n",
       "       'PERCUTANEOUS ENDOSCOPIC GASTROSTOMY',\n",
       "       'TOTAL PARENTERAL NUTRITION', 'ANTIHELMINTICS'], dtype=object)"
      ]
     },
     "execution_count": 23,
     "metadata": {},
     "output_type": "execute_result"
    }
   ],
   "source": [
    "IN.INCLAS.unique()"
   ]
  },
  {
   "cell_type": "markdown",
   "id": "a9c22ff3-8842-4906-b24d-19e97a4a22dc",
   "metadata": {},
   "source": [
    "When we kept the information from IN, we chose to keep IN_INCLAS but the problem is that IN_INCLAS groups all vaccinations under the label VACCINES whereas IN_MODIFY shows that there are several types of vaccines which are either for Covid19 or for Influenza or for Pneumococcal. This could therefore explain why vaccination is so high in Africa."
   ]
  },
  {
   "cell_type": "code",
   "execution_count": 25,
   "id": "84b6706a-ee92-4869-84f2-07baebe41a90",
   "metadata": {},
   "outputs": [],
   "source": [
    "# Take patients that are ZAF in IN\n",
    "IN_ZAF2 = IN.loc[IN.USUBJID.isin(DM.USUBJID[DM.COUNTRY=='ZAF'].unique()), ['INMODIFY', 'INCLAS', 'USUBJID']]"
   ]
  },
  {
   "cell_type": "code",
   "execution_count": 26,
   "id": "edca2dad-3965-4a89-9a50-a0f5e161227d",
   "metadata": {},
   "outputs": [
    {
     "data": {
      "text/plain": [
       "Series([], dtype: int64)"
      ]
     },
     "execution_count": 26,
     "metadata": {},
     "output_type": "execute_result"
    }
   ],
   "source": [
    "# Number of vaccinated patients in ZAF but not for Covid19\n",
    "vaccNoCovid_ZAF = IN_ZAF2[IN_ZAF2.INMODIFY.isin(['PNEUMOCOCCAL VACCINATION', 'INFLUENZA VACCINATION'])].drop_duplicates()\n",
    "vaccNoCovid_ZAF.value_counts()"
   ]
  },
  {
   "cell_type": "code",
   "execution_count": 27,
   "id": "08d96f03-d71f-4b83-ace0-a3628fd1ee7e",
   "metadata": {},
   "outputs": [
    {
     "data": {
      "text/plain": [
       "array(['INVASIVE VENTILATION', 'VENTILATED', 'HYDROXYCHLOROQUINE',\n",
       "       'OXYGEN THERAPY', 'NEURAMINIDASE INHIBITORS',\n",
       "       'HIGH-FLOW NASAL CANNULA', 'STEROIDS', 'CHEMOTHERAPY',\n",
       "       'COLCHICINE', 'ECMO', 'LOPINAVIR', 'INTERFERON BETA',\n",
       "       'PRONE VENTILATION', 'CPR', 'ANTIINFLAMMATORY',\n",
       "       'IMMUNOSUPPRESSANTS', 'HYDROCORTISONE', 'DIALYSIS/RENAL TREATMENT',\n",
       "       'REMDESIVIR', 'AZITHROMYCIN', 'ANTIRETROVIRAL',\n",
       "       'OTHER INTERVENTION OR PROCEDURE', 'ANTIBIOTIC AGENTS',\n",
       "       'THERAPEUTIC ANTICOAGULANT', 'CHLOROQUINE', 'MECHANICAL SUPPORT',\n",
       "       'ANTIFUNGAL AGENTS', 'SARILUMAB', 'TOCILIZUMAB',\n",
       "       'INTERFERON ALPHA', 'DEXAMETHASONE', 'CARDIOVASCULAR SUPPORT',\n",
       "       'COVID-19 VACCINATION', 'INOTROPES', 'PACING', 'RIBAVIRIN',\n",
       "       'ANTIVIRAL AGENTS',\n",
       "       'AGENTS ACTING ON THE RENIN-ANGIOTENSIN SYSTEM',\n",
       "       'RESPIRATORY SUPPORT', 'NON-INVASIVE VENTILATION',\n",
       "       'IMMUNOGLOBULINS', 'COVID-19 VACCINE PFIZER-BIONTECH',\n",
       "       'COVID-19 VACCINE JANSSENS (JOHNSON AND JOHNSON)',\n",
       "       'AMOXICILLIN AND BETA-LACTAMASE INHIBITOR',\n",
       "       'COVID-19 VACCINE TYPE UNKNOWN', nan, 'ZINC', 'CEFTRIAXONE',\n",
       "       'ASCORBIC ACID (VITAMIN C), INCL. COMBINATIONS', 'ENOXAPARIN',\n",
       "       'CEFALEXIN', 'ACICLOVIR', 'TRAMADOL',\n",
       "       'PARACETAMOL / ACETAMINOPHEN', 'METHYLPREDNISOLONE', 'GANCICLOVIR',\n",
       "       'RENAL REPLACEMENT THERAPY OR HEMODIALYSIS',\n",
       "       'SULFAMETHOXAZOLE AND TRIMETHOPRIM', 'MEROPENEM', 'PREDNISONE',\n",
       "       'COVID-19 VACCINE ASTRAZENECA/UNIVERSITY OF OXFORD', 'UNKNOWN',\n",
       "       'OMEPRAZOLE', 'INHALED NITRIC OXIDE', 'TRACHEOSTOMY',\n",
       "       'RENAL REPLACEMENT', 'VASOPRESSOR/INOTROPIC SUPPORT',\n",
       "       'CORTICOSTEROIDS', 'HEPARIN', 'SUPPLEMENTAL OXYGEN FIO2',\n",
       "       'PRONE POSITIONING', 'TRACHEOSTOMY INSERTED', 'ECLS/ECMO',\n",
       "       'NEUROMUSCULAR BLOCKING AGENTS',\n",
       "       'DOPAMINE < 5 UG/KG/MIN OR DOBUTAMINE OR MILRINONE OR LEVOSIMENDAN',\n",
       "       'DOPAMINE 5-15 UG/KG/MIN OR EPINEPHRINE/NOREPINEPHRINE <0.1 UG/KG/MIN OR VASOPRESSIN OR PHENYLEPHRINE',\n",
       "       'DOPAMINE > 15 UG/KG/MIN OR EPINEPHRINE/NOREPINEPRINE > 0.1. UG/KG/MIN',\n",
       "       'ANGIOTENSIN CONVERTING ENZYME INHIBITORS (ACE INHIBITORS)',\n",
       "       'ANGIOTENSIN II RECEPTOR BLOCKERS (ARBS)',\n",
       "       'NON-STEROIDAL ANTI-INFLAMMATORY AGENTS (NSAIDS)', 'ORAL STEROIDS',\n",
       "       'OTHER IMMUNOSUPPRESSANT AGENTS (NOT ORAL STEROIDS)',\n",
       "       'OTHER TARGETED COVID-19 MEDICATIONS',\n",
       "       'AZITHROMYCIN / CEFTRIAXONE', 'LAMIVUDINE', 'AMOXICILLIN',\n",
       "       'IBUPROFEN', 'IVERMECTIN', 'CIPROFLOXACIN', 'PREDNISOLONE',\n",
       "       'BETAMETHASONE', 'AMPICILLIN', 'LANSOPRAZOLE', 'CPAP', 'AMIKACIN',\n",
       "       'PIPERACILLIN / TAZOBACTAM', 'METRONIDAZOLE', 'VALGANCICLOVIR',\n",
       "       'AMIODARONE', 'COVID-19 VACCINE MODERNA', 'IMATINIB',\n",
       "       'CLINDAMYCIN', 'INSULINS AND ANALOGUES',\n",
       "       'BLOOD TRANSFUSION OR BLOOD PRODUCT', 'OSELTAMIVIR', 'ERTAPENEM',\n",
       "       'FACE MASK', 'CASPOFUNGIN', 'INTUBATION',\n",
       "       'VITAMIN D AND ANALOGUES', 'FLUCONAZOLE',\n",
       "       'LOPINAVIR AND RITONAVIR', 'LINEZOLID', 'GENTAMICIN',\n",
       "       'LOW MOLECULAR WEIGHT HEPARIN', 'FLUDROCORTISONE',\n",
       "       'ACETYLSALICYLIC ACID', 'MYCOPHENOLIC ACID', 'INTRAVENOUS FLUIDS',\n",
       "       'CEFOTAXIME', 'I.V. SOLUTIONS', 'THEOPHYLLINE', 'RIFAMPICIN',\n",
       "       'DIURETIC', 'PROPOFOL', 'ADRENALINE', 'PANTOPRAZOLE',\n",
       "       'CEPHALOSPORIN', 'CEFUROXIME', 'LORAZEPAM', 'SIMVASTATIN',\n",
       "       'CLOXACILLIN', 'MORPHINE', 'CEFAZOLIN', 'CLARITHROMYCIN',\n",
       "       'SPIRONOLACTONE', 'PENICILLIN', 'WARFARIN', 'METHOTREXATE',\n",
       "       'EMTRICITABINE, TENOFOVIR DISOPROXIL AND EFAVIRENZ',\n",
       "       'ERYTHROMYCIN', 'HALOPERIDOL', 'SALBUTAMOL', 'NASAL CANNULA',\n",
       "       'DEXAMETHASONE / METHYLPREDNISOLONE',\n",
       "       'NGT OR OGT REQUIRED FOR NUTRITION', 'VV ECLS/ECMO',\n",
       "       'NORADRENALINE'], dtype=object)"
      ]
     },
     "execution_count": 27,
     "metadata": {},
     "output_type": "execute_result"
    }
   ],
   "source": [
    "IN_ZAF2.INMODIFY.unique()"
   ]
  },
  {
   "cell_type": "markdown",
   "id": "5ac0c163-c488-4aba-94f6-f442f7c6a654",
   "metadata": {},
   "source": [
    "No, we only have vaccination for covid in ZAF."
   ]
  },
  {
   "cell_type": "markdown",
   "id": "9d6d519a-24b8-42fa-8024-6b34423690e1",
   "metadata": {},
   "source": [
    "## 2. Vaccination in Europe"
   ]
  },
  {
   "cell_type": "code",
   "execution_count": 4,
   "id": "9724651e-0c95-4582-9bc2-46a97b475a43",
   "metadata": {},
   "outputs": [
    {
     "data": {
      "text/plain": [
       "array([641234, 521626, 719014, ..., 490027, 678931, 810492], dtype=int64)"
      ]
     },
     "execution_count": 4,
     "metadata": {},
     "output_type": "execute_result"
    }
   ],
   "source": [
    "# We will test for the main country in Europe which is GBR\n",
    "DM.USUBJID[DM.COUNTRY=='GBR'].unique()"
   ]
  },
  {
   "cell_type": "code",
   "execution_count": 5,
   "id": "ccaea9fc-bda8-4773-a7e6-570f0a0c6166",
   "metadata": {},
   "outputs": [],
   "source": [
    "# Take patient that are GBR in IN\n",
    "IN_GBR = IN.loc[IN.USUBJID.isin(DM.USUBJID[DM.COUNTRY=='GBR'].unique()), ['INCLAS', 'USUBJID']]"
   ]
  },
  {
   "cell_type": "code",
   "execution_count": 7,
   "id": "fa523d03-dff8-4615-9f65-d9db566ffa38",
   "metadata": {},
   "outputs": [
    {
     "data": {
      "text/plain": [
       "(175781, 2)"
      ]
     },
     "execution_count": 7,
     "metadata": {},
     "output_type": "execute_result"
    }
   ],
   "source": [
    "# Number of vaccinated patients in GBR\n",
    "vacc_GBR = IN_GBR[IN_GBR.INCLAS=='VACCINES'].drop_duplicates()\n",
    "vacc_GBR.shape"
   ]
  },
  {
   "cell_type": "code",
   "execution_count": 8,
   "id": "34f33ad9-bc47-4517-9eaa-24cd376a3602",
   "metadata": {},
   "outputs": [
    {
     "data": {
      "text/plain": [
       "309544"
      ]
     },
     "execution_count": 8,
     "metadata": {},
     "output_type": "execute_result"
    }
   ],
   "source": [
    "# Number of patients that are GBR\n",
    "len(DM.USUBJID[DM.COUNTRY=='GBR'].unique())"
   ]
  },
  {
   "cell_type": "code",
   "execution_count": 9,
   "id": "2474d2d9-a332-4624-b555-0d769c6f8446",
   "metadata": {},
   "outputs": [
    {
     "data": {
      "text/html": [
       "<div>\n",
       "<style scoped>\n",
       "    .dataframe tbody tr th:only-of-type {\n",
       "        vertical-align: middle;\n",
       "    }\n",
       "\n",
       "    .dataframe tbody tr th {\n",
       "        vertical-align: top;\n",
       "    }\n",
       "\n",
       "    .dataframe thead th {\n",
       "        text-align: right;\n",
       "    }\n",
       "</style>\n",
       "<table border=\"1\" class=\"dataframe\">\n",
       "  <thead>\n",
       "    <tr style=\"text-align: right;\">\n",
       "      <th></th>\n",
       "      <th>RFSTDTC</th>\n",
       "    </tr>\n",
       "  </thead>\n",
       "  <tbody>\n",
       "    <tr>\n",
       "      <th>1920-12</th>\n",
       "      <td>1</td>\n",
       "    </tr>\n",
       "    <tr>\n",
       "      <th>1935-12</th>\n",
       "      <td>1</td>\n",
       "    </tr>\n",
       "    <tr>\n",
       "      <th>1967-03</th>\n",
       "      <td>1</td>\n",
       "    </tr>\n",
       "    <tr>\n",
       "      <th>1984-07</th>\n",
       "      <td>1</td>\n",
       "    </tr>\n",
       "    <tr>\n",
       "      <th>1986-04</th>\n",
       "      <td>2</td>\n",
       "    </tr>\n",
       "    <tr>\n",
       "      <th>...</th>\n",
       "      <td>...</td>\n",
       "    </tr>\n",
       "    <tr>\n",
       "      <th>2022-02</th>\n",
       "      <td>4035</td>\n",
       "    </tr>\n",
       "    <tr>\n",
       "      <th>2022-03</th>\n",
       "      <td>19</td>\n",
       "    </tr>\n",
       "    <tr>\n",
       "      <th>2022-04</th>\n",
       "      <td>1</td>\n",
       "    </tr>\n",
       "    <tr>\n",
       "      <th>2022-12</th>\n",
       "      <td>2</td>\n",
       "    </tr>\n",
       "    <tr>\n",
       "      <th>2200-12</th>\n",
       "      <td>1</td>\n",
       "    </tr>\n",
       "  </tbody>\n",
       "</table>\n",
       "<p>165 rows × 1 columns</p>\n",
       "</div>"
      ],
      "text/plain": [
       "         RFSTDTC\n",
       "1920-12        1\n",
       "1935-12        1\n",
       "1967-03        1\n",
       "1984-07        1\n",
       "1986-04        2\n",
       "...          ...\n",
       "2022-02     4035\n",
       "2022-03       19\n",
       "2022-04        1\n",
       "2022-12        2\n",
       "2200-12        1\n",
       "\n",
       "[165 rows x 1 columns]"
      ]
     },
     "execution_count": 9,
     "metadata": {},
     "output_type": "execute_result"
    }
   ],
   "source": [
    "# Date of entry for GBR patients that are VACCINATED\n",
    "pd.DataFrame(DM.loc[DM.USUBJID.isin(vacc_GBR.USUBJID), ['RFSTDTC']].RFSTDTC.value_counts()).sort_index()"
   ]
  },
  {
   "cell_type": "code",
   "execution_count": 29,
   "id": "0a20c034-5505-41d6-97ed-58b768b86861",
   "metadata": {},
   "outputs": [],
   "source": [
    "# Take patients that are GBR in IN\n",
    "IN_GBR2 = IN.loc[IN.USUBJID.isin(DM.USUBJID[DM.COUNTRY=='GBR'].unique()), ['INMODIFY', 'INCLAS', 'USUBJID']]"
   ]
  },
  {
   "cell_type": "code",
   "execution_count": 33,
   "id": "2a6602fb-3a05-4395-ada1-7fea1fc1eef3",
   "metadata": {},
   "outputs": [
    {
     "data": {
      "text/plain": [
       "INFLUENZA VACCINATION       175319\n",
       "PNEUMOCOCCAL VACCINATION         1\n",
       "Name: INMODIFY, dtype: int64"
      ]
     },
     "execution_count": 33,
     "metadata": {},
     "output_type": "execute_result"
    }
   ],
   "source": [
    "# Number of vaccinated patients in GBR but not for Covid19\n",
    "vaccNoCovid_GBR = IN_GBR2[IN_GBR2.INMODIFY.isin(['PNEUMOCOCCAL VACCINATION', 'INFLUENZA VACCINATION'])].drop_duplicates()\n",
    "vaccNoCovid_GBR.INMODIFY.value_counts()"
   ]
  },
  {
   "cell_type": "code",
   "execution_count": 34,
   "id": "ca919a7e-a81b-4d4b-8bec-daecd36e090e",
   "metadata": {},
   "outputs": [
    {
     "data": {
      "text/plain": [
       "462"
      ]
     },
     "execution_count": 34,
     "metadata": {},
     "output_type": "execute_result"
    }
   ],
   "source": [
    "# Number of vaccination with Covid19 in GBR\n",
    "vacc_GBR.shape[0]-175319"
   ]
  },
  {
   "cell_type": "code",
   "execution_count": 37,
   "id": "48d3aebf-12c2-4630-9579-4ba96f747d74",
   "metadata": {},
   "outputs": [
    {
     "data": {
      "text/plain": [
       "INFLUENZA VACCINATION       182338\n",
       "PNEUMOCOCCAL VACCINATION         1\n",
       "Name: INMODIFY, dtype: int64"
      ]
     },
     "execution_count": 37,
     "metadata": {},
     "output_type": "execute_result"
    }
   ],
   "source": [
    "# Pneumococcal vaccination in all IN\n",
    "IN.loc[IN.INMODIFY.isin(['PNEUMOCOCCAL VACCINATION', 'INFLUENZA VACCINATION']), 'INMODIFY'].value_counts()"
   ]
  },
  {
   "cell_type": "code",
   "execution_count": 41,
   "id": "b08ed8ac-8403-4907-8a4a-d64a36f3d3ed",
   "metadata": {},
   "outputs": [
    {
     "data": {
      "text/plain": [
       "260830"
      ]
     },
     "execution_count": 41,
     "metadata": {},
     "output_type": "execute_result"
    }
   ],
   "source": [
    "IN[IN.INCLAS.isin(['VACCINES'])].shape[0]-488640-182338-1  # number of all vaccinated patients - Covid19 vaccination in ZAF - INFLUENZA VACCINATION - PNEUMOCOCCAL VACCINATION"
   ]
  },
  {
   "cell_type": "code",
   "execution_count": 1,
   "id": "732ff0d8-c87e-404d-afd9-d874cc13d930",
   "metadata": {},
   "outputs": [
    {
     "name": "stdout",
     "output_type": "stream",
     "text": [
      "27.992\n"
     ]
    }
   ],
   "source": [
    "260830/IN[IN.INCLAS.isin(['VACCINES'])].shape[0]*100 # same in % (we divide by number of all vaccinated patients)"
   ]
  },
  {
   "cell_type": "markdown",
   "id": "03a48a67-cbb4-40c6-a53a-e45e9a18cdc7",
   "metadata": {},
   "source": [
    "**In conclusion, we have two types of vaccination in the dataset: either for covid or for influenza.  \n",
    "For Africa, if we look at ZAF which constitutes the majority of Africa, vaccination is only for covid. So that doesn't explain why we have almost 100% vaccination for Africa, which is really high.\n",
    "For the other continents, this allowed us to realise that we were grouping two different types of vaccination by just taking INCLAS when it would have been interesting to separate the two. When we look at the GBR, which is the majority in Europe, we see that the vast majority of vaccinations concern influenza. If we look at the general dataset, we can make a very large approximation that among the patients vaccinated outside of the FTA, we only have about 28% of vaccination for covid.**"
   ]
  },
  {
   "cell_type": "code",
   "execution_count": null,
   "id": "dd28fc67-64e0-4816-9fd0-835fabbd4dfa",
   "metadata": {},
   "outputs": [],
   "source": []
  }
 ],
 "metadata": {
  "kernelspec": {
   "display_name": "Python [conda env:ada] *",
   "language": "python",
   "name": "conda-env-ada-py"
  },
  "language_info": {
   "codemirror_mode": {
    "name": "ipython",
    "version": 3
   },
   "file_extension": ".py",
   "mimetype": "text/x-python",
   "name": "python",
   "nbconvert_exporter": "python",
   "pygments_lexer": "ipython3",
   "version": "3.8.15"
  }
 },
 "nbformat": 4,
 "nbformat_minor": 5
}
