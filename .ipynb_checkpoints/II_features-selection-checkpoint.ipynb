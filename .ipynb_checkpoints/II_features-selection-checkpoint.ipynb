{
 "cells": [
  {
   "cell_type": "markdown",
   "id": "2d7cf7eb-95cb-4bfd-a458-5b0e936c0ecc",
   "metadata": {},
   "source": [
    "# Project 2: Covid ---> II/ Features selection"
   ]
  },
  {
   "cell_type": "markdown",
   "id": "5bcacb1e-2531-48b0-9e61-a42a7020f6f9",
   "metadata": {},
   "source": [
    "The objective of this file is to choose which features to keep from the matrix extracted from the \"I_data-selection\" file, using several algorithms.\n",
    "This will give us the final matrix to test the models in the \"III_models-and-predictions\" file."
   ]
  },
  {
   "cell_type": "code",
   "execution_count": 23,
   "id": "bb52b52f",
   "metadata": {},
   "outputs": [
    {
     "name": "stdout",
     "output_type": "stream",
     "text": [
      "The autoreload extension is already loaded. To reload it, use:\n",
      "  %reload_ext autoreload\n"
     ]
    }
   ],
   "source": [
    "# Import\n",
    "%matplotlib inline\n",
    "\n",
    "import os\n",
    "import os.path as op\n",
    "from matplotlib import pyplot as plt\n",
    "import numpy as np\n",
    "import pandas as pd\n",
    "from scipy import stats\n",
    "import seaborn as sns\n",
    "\n",
    "from sklearn.model_selection import train_test_split\n",
    "from sklearn.impute import SimpleImputer\n",
    "from sklearn.preprocessing import StandardScaler\n",
    "\n",
    "from sklearn.model_selection import StratifiedKFold\n",
    "from sklearn.feature_selection import RFECV\n",
    "from sklearn.datasets import make_classification\n",
    "from sklearn.feature_selection import SelectFromModel\n",
    "from sklearn.feature_selection import SequentialFeatureSelector\n",
    "from sklearn.linear_model import RidgeCV\n",
    "\n",
    "from sklearn.linear_model import LogisticRegression\n",
    "from sklearn.neighbors import KNeighborsClassifier\n",
    "from sklearn import svm\n",
    "from sklearn.neural_network import MLPClassifier\n",
    "from sklearn.discriminant_analysis import QuadraticDiscriminantAnalysis\n",
    "import xgboost as xgb\n",
    "\n",
    "%load_ext autoreload\n",
    "%autoreload 2"
   ]
  },
  {
   "cell_type": "markdown",
   "id": "d335d506-d93a-479f-8edf-7e73b8df28fb",
   "metadata": {},
   "source": [
    "**Our prediction will be about death or not when a patient is covid positive => Thus our y matrix will be the DSDECOD column.**"
   ]
  },
  {
   "cell_type": "markdown",
   "id": "53c7bd53",
   "metadata": {},
   "source": [
    "## 1. Loading the data after 'I-DataSelection\""
   ]
  },
  {
   "cell_type": "code",
   "execution_count": 24,
   "id": "f10cf33e",
   "metadata": {},
   "outputs": [],
   "source": [
    "# Open file\n",
    "data_folder = op.join(os.getcwd(), \"data\", \"results\")\n",
    "mylist = []\n",
    "for chunk in pd.read_csv(op.join(data_folder, 'df_final_I-DataSelection.csv'), sep=',', low_memory=False, chunksize=5000, index_col=0):\n",
    "    mylist.append(chunk)\n",
    "df = pd.concat(mylist, axis=0)\n",
    "df.name = 'df'\n",
    "del mylist"
   ]
  },
  {
   "cell_type": "code",
   "execution_count": 25,
   "id": "818b46ca-e029-4066-9de0-4c6a409603d8",
   "metadata": {},
   "outputs": [
    {
     "data": {
      "text/plain": [
       "(601915, 104)"
      ]
     },
     "execution_count": 25,
     "metadata": {},
     "output_type": "execute_result"
    }
   ],
   "source": [
    "df.shape"
   ]
  },
  {
   "cell_type": "markdown",
   "id": "62b4e136-99cc-4deb-a3ec-61402d61f281",
   "metadata": {},
   "source": [
    "## 2. Premilinary features selection based on the meaning"
   ]
  },
  {
   "cell_type": "markdown",
   "id": "b9b07e32-b34b-48e1-9f17-945cdaa9d304",
   "metadata": {},
   "source": [
    "Some columns seem to be more relevant than others for training purposes: we will delete some columns that we consider not very useful at first.\n",
    "\n",
    "As a reminder, this is the main types of information we have:\n",
    "- **DM = Demographics** --> 'AGE', 'SEX', 'CONTINENT_AF', 'CONTINENT_AS', 'CONTINENT_EU', 'CONTINENT_NA', 'CONTINENT_OC', 'CONTINENT_SA'\n",
    "- **DS = Disposition** --> 'DSDECOD'\n",
    "- **HO = Healthcare Encounters** --> 'HODECOD'\n",
    "- **IE = Inclusion/Exclusion Criteria** --> 'IETEST_Acute_Respiratory_Infection', 'IETEST_Cough', 'IETEST_Covid_ICU', 'IETEST_Covid_admission', 'IETEST_Dyspnoea_Tachypnoea', 'IETEST_Fever', 'IETEST_Inflammatory_MultiSystem_Syndrome', 'IETEST_noCovid_ICU'\n",
    "- **IN = Treatments and Interventions** --> 'INCLAS_AGENTS_ACTING_ON_THE_RENIN-ANGIOTENSIN_SYSTEM', 'INCLAS_ANTIBACTERIALS_FOR_SYSTEMIC_USE', etc..., 'INCLAS_VACCINES'\n",
    "- **LB = Laboratory Results** --> 'LBTEST_ALB', 'LBTEST_ALP', etc..., 'LBTEST_WBC'\n",
    "- **MB = Microbiology Specimen** --> 'MBTEST_ADENOVIRUS', 'MBTEST_BACTERIA', 'MBTEST_CORONAVIRUS', 'MBTEST_INFLUENZA', 'MBTEST_OTHER PATHOGENS', 'MBTEST_OTHER RESPIRATORY PATHOGENS', 'MBTEST_RSV\n",
    "- **RP = Reproductive System Findings** --> 'RPSTRESC'\n",
    "- **RS = Disease Response and Clinical Classification** --> 'RSCAT_AVPU', 'RSCAT_BLANTYRE_COMA_SCALE', 'RSCAT_CLINICAL_FRAILTY_SCORE', 'RSCAT_GCS_NINDS_VERSION', 'RSCAT_ICU_MOBILITY_SCALE', 'RSCAT_PRISM_III', 'RSCAT_RASS', 'RSCAT_SAPS_II', 'RSCAT_SAS', 'RSCAT_SOFA'\n",
    "- **SA = Clinical and Adverse Events** --> 'SACAT_COMORBIDITIES', 'SACAT_COMPLICATIONS', 'SACAT_PREVIOUS_COVID-19_INFECTION'\n",
    "- **SC = Subject Characteristics** --> 'SCTEST_Appropriate_Developmental_Age_Indicator', 'SCTEST_Breast_Fed_Indicator', 'SCTEST_Infant_Less_Than_One_Year_Indicator', 'SCTEST_Premature_Birth_Indicator'\n",
    "- **VS = Vital Signs** --> 'VSTEST_BMI', 'VSTEST_BRTHWT', etc..., 'VSTEST_WEIGHT'\n",
    "\n",
    "First we can keep only information from:\n",
    "- DM = Demographics\n",
    "- DS = Disposition\n",
    "- HO = Healthcare Encounters\n",
    "- IE  = Inclusion/Exclusion Criteria (only 'IETEST_Acute_Respiratory_Infection', 'IETEST_Cough', 'IETEST_Fever'\n",
    "- IN  = Treatments and Interventions (only 'INCLAS_VACCINES')\n",
    "- LB = Laboratory Results\n",
    "- MB = Microbiology Specimen\n",
    "- SA = Clinical and Adverse Events\n",
    "- VS = Vital Signs"
   ]
  },
  {
   "cell_type": "code",
   "execution_count": 26,
   "id": "7105c292-9af2-4907-a1f2-91e2a17fadd6",
   "metadata": {},
   "outputs": [
    {
     "data": {
      "text/plain": [
       "(601915, 56)"
      ]
     },
     "execution_count": 26,
     "metadata": {},
     "output_type": "execute_result"
    }
   ],
   "source": [
    "# Keep only columns we want to continue the training\n",
    "\n",
    "preliminary_selection = ['AGE', 'SEX', 'CONTINENT_AF', 'CONTINENT_AS', 'CONTINENT_EU', 'CONTINENT_NA', 'CONTINENT_OC', 'CONTINENT_SA',\n",
    "                         'DSDECOD',\n",
    "                         'HODECOD',\n",
    "                         'IETEST_Acute_Respiratory_Infection', 'IETEST_Cough', 'IETEST_Fever',\n",
    "                         'INCLAS_VACCINES',\n",
    "                         'SACAT_COMORBIDITIES', 'SACAT_COMPLICATIONS', 'SACAT_PREVIOUS_COVID-19_INFECTION'] \\\n",
    "                        + df.filter(regex='^LB',axis=1).columns.tolist() \\\n",
    "                        + df.filter(regex='^MB',axis=1).columns.tolist() \\\n",
    "                        + df.filter(regex='^VS',axis=1).columns.tolist()\n",
    "\n",
    "df = df[preliminary_selection]\n",
    "df.shape"
   ]
  },
  {
   "cell_type": "code",
   "execution_count": 27,
   "id": "16d72df3",
   "metadata": {},
   "outputs": [
    {
     "data": {
      "text/plain": [
       "(601915, 56)"
      ]
     },
     "execution_count": 27,
     "metadata": {},
     "output_type": "execute_result"
    }
   ],
   "source": [
    "# Verify that there is no column with too many NA (more then 99%) after I-DataSelection\n",
    "df.dropna(thresh = int((100-1)*(len(df.columns)/100)), inplace=True, axis=1)\n",
    "df.shape"
   ]
  },
  {
   "cell_type": "markdown",
   "id": "dbe38de5",
   "metadata": {},
   "source": [
    "## 3. Stratification per continent"
   ]
  },
  {
   "cell_type": "markdown",
   "id": "75811252-0ff1-4d47-a9ab-d0a762e03cbb",
   "metadata": {},
   "source": [
    "Initially, we will build the model on patients who only come from one continent. We can then subsequently test whether the model is applicable to patients from other continents."
   ]
  },
  {
   "cell_type": "code",
   "execution_count": 28,
   "id": "7180478e",
   "metadata": {},
   "outputs": [],
   "source": [
    "continent_list = ['CONTINENT_AF', 'CONTINENT_AS', 'CONTINENT_EU','CONTINENT_NA', 'CONTINENT_OC', 'CONTINENT_SA']"
   ]
  },
  {
   "cell_type": "code",
   "execution_count": 29,
   "id": "57b2c51f",
   "metadata": {},
   "outputs": [
    {
     "name": "stdout",
     "output_type": "stream",
     "text": [
      "Data size AFRICA: (489653, 50)\n",
      "Data size ASIA: (7883, 50)\n",
      "Data size EUROPE: (92087, 50)\n",
      "Data size NORTH AMERICA: (6074, 50)\n",
      "Data size SOUTH AMERICA: (6180, 50)\n",
      "Data size OCEANIA: (34, 50)\n"
     ]
    },
    {
     "name": "stderr",
     "output_type": "stream",
     "text": [
      "C:\\Users\\felic\\AppData\\Local\\Temp\\ipykernel_30472\\3539693600.py:5: SettingWithCopyWarning: \n",
      "A value is trying to be set on a copy of a slice from a DataFrame\n",
      "\n",
      "See the caveats in the documentation: https://pandas.pydata.org/pandas-docs/stable/user_guide/indexing.html#returning-a-view-versus-a-copy\n",
      "  df_africa.drop(continent_list, axis=1, inplace=True)\n",
      "C:\\Users\\felic\\AppData\\Local\\Temp\\ipykernel_30472\\3539693600.py:9: SettingWithCopyWarning: \n",
      "A value is trying to be set on a copy of a slice from a DataFrame\n",
      "\n",
      "See the caveats in the documentation: https://pandas.pydata.org/pandas-docs/stable/user_guide/indexing.html#returning-a-view-versus-a-copy\n",
      "  df_asia.drop(continent_list, axis=1, inplace=True)\n",
      "C:\\Users\\felic\\AppData\\Local\\Temp\\ipykernel_30472\\3539693600.py:13: SettingWithCopyWarning: \n",
      "A value is trying to be set on a copy of a slice from a DataFrame\n",
      "\n",
      "See the caveats in the documentation: https://pandas.pydata.org/pandas-docs/stable/user_guide/indexing.html#returning-a-view-versus-a-copy\n",
      "  df_europe.drop(continent_list, axis=1, inplace=True)\n",
      "C:\\Users\\felic\\AppData\\Local\\Temp\\ipykernel_30472\\3539693600.py:17: SettingWithCopyWarning: \n",
      "A value is trying to be set on a copy of a slice from a DataFrame\n",
      "\n",
      "See the caveats in the documentation: https://pandas.pydata.org/pandas-docs/stable/user_guide/indexing.html#returning-a-view-versus-a-copy\n",
      "  df_south_america.drop(continent_list, axis=1, inplace=True)\n",
      "C:\\Users\\felic\\AppData\\Local\\Temp\\ipykernel_30472\\3539693600.py:21: SettingWithCopyWarning: \n",
      "A value is trying to be set on a copy of a slice from a DataFrame\n",
      "\n",
      "See the caveats in the documentation: https://pandas.pydata.org/pandas-docs/stable/user_guide/indexing.html#returning-a-view-versus-a-copy\n",
      "  df_north_america.drop(continent_list, axis=1, inplace=True)\n",
      "C:\\Users\\felic\\AppData\\Local\\Temp\\ipykernel_30472\\3539693600.py:25: SettingWithCopyWarning: \n",
      "A value is trying to be set on a copy of a slice from a DataFrame\n",
      "\n",
      "See the caveats in the documentation: https://pandas.pydata.org/pandas-docs/stable/user_guide/indexing.html#returning-a-view-versus-a-copy\n",
      "  df_oceania.drop(continent_list, axis=1, inplace=True)\n"
     ]
    }
   ],
   "source": [
    "# Split data accordint to the continents to investigate a little bit more...\n",
    "\n",
    "# Afrique\n",
    "df_africa = df[df['CONTINENT_AF']==1]\n",
    "df_africa.drop(continent_list, axis=1, inplace=True)\n",
    "\n",
    "# Asia\n",
    "df_asia = df[df['CONTINENT_AS']==1]\n",
    "df_asia.drop(continent_list, axis=1, inplace=True)\n",
    "\n",
    "# Europe\n",
    "df_europe = df[df['CONTINENT_EU']==1]\n",
    "df_europe.drop(continent_list, axis=1, inplace=True) \n",
    "\n",
    "# South america\n",
    "df_south_america = df[df['CONTINENT_SA']==1]\n",
    "df_south_america.drop(continent_list, axis=1, inplace=True) \n",
    "\n",
    "# North america\n",
    "df_north_america = df[df['CONTINENT_NA']==1]\n",
    "df_north_america.drop(continent_list, axis=1, inplace=True) \n",
    "\n",
    "# Oceania \n",
    "df_oceania = df[df['CONTINENT_OC']==1]\n",
    "df_oceania.drop(continent_list, axis=1, inplace=True) \n",
    "\n",
    "# Relative size of each slice of data\n",
    "print(f\"Data size AFRICA: {df_africa.shape}\")\n",
    "print(f\"Data size ASIA: {df_asia.shape}\")\n",
    "print(f\"Data size EUROPE: {df_europe.shape}\")\n",
    "print(f\"Data size NORTH AMERICA: {df_north_america.shape}\")\n",
    "print(f\"Data size SOUTH AMERICA: {df_south_america.shape}\")\n",
    "print(f\"Data size OCEANIA: {df_oceania.shape}\")"
   ]
  },
  {
   "cell_type": "code",
   "execution_count": 30,
   "id": "f46ea0c5",
   "metadata": {},
   "outputs": [
    {
     "data": {
      "image/png": "[encoded data removed]",
      "text/plain": [
       "<Figure size 1200x800 with 6 Axes>"
      ]
     },
     "metadata": {},
     "output_type": "display_data"
    }
   ],
   "source": [
    "# Plot the repartition of the missing data for each continent\n",
    "\n",
    "fig, axs = plt.subplots(3, 2, figsize=(12, 8), sharex=True)\n",
    "\n",
    "null_values = df_europe.isnull().mean().sort_values(ascending=False)*100\n",
    "null_values = null_values[null_values>0]\n",
    "sns.barplot(x=null_values.index, y=null_values.values, ax=axs[0,0]).set_title('Null values pourcentage EUROPE')\n",
    "\n",
    "null_values = df_asia.isnull().mean().sort_values(ascending=False)*100\n",
    "null_values = null_values[null_values>0]\n",
    "sns.barplot(x=null_values.index, y=null_values.values, ax=axs[0,1]).set_title('Null values pourcentage ASIA')\n",
    "\n",
    "null_values = df_africa.isnull().mean().sort_values(ascending=False)*100\n",
    "null_values = null_values[null_values>0]\n",
    "sns.barplot(x=null_values.index, y=null_values.values, ax = axs[1,0]).set_title('Null values pourcentage AFRICA')\n",
    "\n",
    "null_values = df_oceania.isnull().mean().sort_values(ascending=False)*100\n",
    "null_values = null_values[null_values>0]\n",
    "sns.barplot(x=null_values.index, y=null_values.values, ax=axs[1,1]).set_title('Null values pourcentage OCEANIA')\n",
    "\n",
    "null_values = df_south_america.isnull().mean().sort_values(ascending=False)*100\n",
    "null_values = null_values[null_values>0]\n",
    "sns.barplot(x=null_values.index, y=null_values.values, ax=axs[2,0]).set_title('Null values pourcentage SOUTH AMERICA')\n",
    "\n",
    "null_values = df_north_america.isnull().mean().sort_values(ascending=False)*100\n",
    "null_values = null_values[null_values>0]\n",
    "sns.barplot(x=null_values.index, y=null_values.values, ax=axs[2,1]).set_title('Null values pourcentage NORTH AMERICA')\n",
    "\n",
    "for ax in axs.flatten():\n",
    "    plt.sca(ax)\n",
    "    plt.xticks(rotation=45, fontsize=5)"
   ]
  },
  {
   "cell_type": "markdown",
   "id": "706c22c5",
   "metadata": {},
   "source": [
    "By taking into account the number of value and the repartition of the missing data, we will compute our model on the European dataset."
   ]
  },
  {
   "cell_type": "code",
   "execution_count": 31,
   "id": "a125b8c2",
   "metadata": {},
   "outputs": [
    {
     "data": {
      "text/plain": [
       "0.0    56405\n",
       "1.0    23647\n",
       "NaN    12035\n",
       "Name: DSDECOD, dtype: int64"
      ]
     },
     "execution_count": 31,
     "metadata": {},
     "output_type": "execute_result"
    }
   ],
   "source": [
    "# Check if the dataset is balanced or not\n",
    "df_europe['DSDECOD'].value_counts(dropna = False)"
   ]
  },
  {
   "cell_type": "code",
   "execution_count": 32,
   "id": "f1ccdd01",
   "metadata": {},
   "outputs": [
    {
     "data": {
      "text/plain": [
       "(92087, 49)"
      ]
     },
     "execution_count": 32,
     "metadata": {},
     "output_type": "execute_result"
    }
   ],
   "source": [
    "# Keep only Europe for model building + remove columns with more then 99% of NA\n",
    "df = df_europe\n",
    "df.dropna(thresh = int((100-1)*(len(df.columns)/100)), inplace=True, axis=1)\n",
    "df.shape"
   ]
  },
  {
   "cell_type": "markdown",
   "id": "340b91f8",
   "metadata": {},
   "source": [
    "## 4 . Splitting into training and test sets"
   ]
  },
  {
   "cell_type": "code",
   "execution_count": 33,
   "id": "6178c34e",
   "metadata": {},
   "outputs": [],
   "source": [
    "# Keep number of NA per columns of original dataframe \n",
    "NA_in_cols = pd.DataFrame(round(df.isna().sum()*100/len(df),1), columns=['NA_percent'])"
   ]
  },
  {
   "cell_type": "code",
   "execution_count": 34,
   "id": "bb4495b1",
   "metadata": {},
   "outputs": [
    {
     "data": {
      "text/plain": [
       "0"
      ]
     },
     "execution_count": 34,
     "metadata": {},
     "output_type": "execute_result"
    }
   ],
   "source": [
    "# Delete row where DSDECOD is NA (because y = DSDECOD)\n",
    "# These rows cannot be used for training or testing\n",
    "df = df[df.DSDECOD.notna()]\n",
    "df.DSDECOD.isna().sum()"
   ]
  },
  {
   "cell_type": "code",
   "execution_count": 35,
   "id": "215e46f9-a76b-4700-ad92-cd56211009db",
   "metadata": {},
   "outputs": [
    {
     "data": {
      "text/plain": [
       "0.0    56405\n",
       "1.0    23647\n",
       "Name: DSDECOD, dtype: int64"
      ]
     },
     "execution_count": 35,
     "metadata": {},
     "output_type": "execute_result"
    }
   ],
   "source": [
    "df.DSDECOD.value_counts()"
   ]
  },
  {
   "cell_type": "code",
   "execution_count": 36,
   "id": "30f5aaba",
   "metadata": {},
   "outputs": [],
   "source": [
    "# Take a sample of the data\n",
    "# And we force a 50/50 split for the DSDECOD values\n",
    "df_noSample = df.copy() \n",
    "df = df.groupby(by = \"DSDECOD\").sample(n=100, replace=False, random_state=42)"
   ]
  },
  {
   "cell_type": "code",
   "execution_count": 37,
   "id": "b64a62e9",
   "metadata": {},
   "outputs": [],
   "source": [
    "# Split into training and test sets\n",
    "df_train, df_test = train_test_split(df, test_size=0.3, random_state=16)"
   ]
  },
  {
   "cell_type": "code",
   "execution_count": 38,
   "id": "1c6f0496",
   "metadata": {},
   "outputs": [
    {
     "name": "stdout",
     "output_type": "stream",
     "text": [
      "(140, 49)\n",
      "(60, 49)\n"
     ]
    }
   ],
   "source": [
    "print(df_train.shape)\n",
    "print(df_test.shape)"
   ]
  },
  {
   "cell_type": "markdown",
   "id": "84604b62",
   "metadata": {},
   "source": [
    "## 5. Pre-processing of the data"
   ]
  },
  {
   "cell_type": "markdown",
   "id": "df7066fb-7d19-4efd-8345-17979744cfb0",
   "metadata": {},
   "source": [
    "During pre-processing of the data, categorical and continuous features will be treated differently."
   ]
  },
  {
   "cell_type": "code",
   "execution_count": 39,
   "id": "38825e07",
   "metadata": {},
   "outputs": [],
   "source": [
    "# Do the list of the name of categorical columns\n",
    "categorical = ['DSDECOD',\n",
    "               'SEX',\n",
    "               'CONTINENT_AF', 'CONTINENT_AS', 'CONTINENT_EU', 'CONTINENT_NA', 'CONTINENT_OC', 'CONTINENT_SA',\n",
    "               'HODECOD', \n",
    "               'IETEST_Acute_Respiratory_Infection', 'IETEST_Cough', 'IETEST_Covid_ICU', 'IETEST_Covid_admission', 'IETEST_Dyspnoea_Tachypnoea', 'IETEST_Fever', \n",
    "               'IETEST_Inflammatory_MultiSystem_Syndrome', 'IETEST_noCovid_ICU',               \n",
    "               'INCLAS_AGENTS_ACTING_ON_THE_RENIN-ANGIOTENSIN_SYSTEM', 'INCLAS_ANALGESICS', 'INCLAS_ANESTHETICS', \n",
    "               'INCLAS_ANTIBACTERIALS_FOR_SYSTEMIC_USE', 'INCLAS_ANTIHELMINTICS', 'INCLAS_ANTIINFLAMMATORY_AND_ANTIRHEUMATIC_PRODUCTS,_NON-STEROIDS',\n",
    "               'INCLAS_ANTIMALARIALS', 'INCLAS_ANTIMYCOTICS_FOR_SYSTEMIC_USE', 'INCLAS_ANTITHROMBOTIC_AGENTS',\n",
    "               'INCLAS_ANTIVIRALS_FOR_SYSTEMIC_USE', 'INCLAS_ARTIFICIAL_RESPIRATION', 'INCLAS_BETA_BLOCKING_AGENTS',\n",
    "               'INCLAS_BLOOD_SUBSTITUTES_AND_PERFUSION_SOLUTIONS', 'INCLAS_BRONCHOSCOPY', 'INCLAS_CARDIAC_PACING',\n",
    "               'INCLAS_CARDIAC_THERAPY', 'INCLAS_CARDIOPULMONARY_RESUSCITATION', 'INCLAS_CHEMOTHERAPY', 'INCLAS_CORTICOSTEROIDS_FOR_SYSTEMIC_USE',\n",
    "               'INCLAS_DIURETICS', 'INCLAS_DRUGS_FOR_ACID_RELATED_DISORDERS', 'INCLAS_DRUGS_FOR_OBSTRUCTIVE_AIRWAY_DISEASES', 'INCLAS_EXTRACORPOREAL_MEMBRANE_OXYGENATION', \n",
    "               'INCLAS_HIGH_FLOW_OXYGEN_NASAL_CANNULA', 'INCLAS_IMMUNOGLOBULINS', 'INCLAS_IMMUNOSTIMULANTS', 'INCLAS_IMMUNOSUPPRESSANTS', \n",
    "               'INCLAS_INSERTION_OF_TRACHEOSTOMY_TUBE', 'INCLAS_INTUBATION', 'INCLAS_LIPID_MODIFYING_AGENTS', 'INCLAS_MUSCLE_RELAXANTS', \n",
    "               'INCLAS_NONINVASIVE_POSITIVE_PRESSURE_VENTILATION', 'INCLAS_NONINVASIVE_VENTILATION', 'INCLAS_OTHER_RESPIRATORY_SYSTEM_PRODUCTS', \n",
    "               'INCLAS_OXYGEN', 'INCLAS_PERCUTANEOUS_ENDOSCOPIC_GASTROSTOMY', 'INCLAS_PRONE_BODY_POSITION', 'INCLAS_PSYCHOLEPTICS', \n",
    "               'INCLAS_REMOVAL_OF_ENDOTRACHEAL_TUBE', 'INCLAS_RENAL_REPLACEMENT', 'INCLAS_REPLACEMENT_AGENT', 'INCLAS_TOTAL_PARENTERAL_NUTRITION', \n",
    "               'INCLAS_TRANSFUSION_OF_BLOOD_PRODUCT', 'INCLAS_VACCINES', \n",
    "               'MBTEST_ADENOVIRUS', 'MBTEST_BACTERIA','MBTEST_INFLUENZA', 'MBTEST_MB_SEVERE_ACUTE_RESP_SYND_CORONAVIRUS', 'MBTEST_OTHER PATHOGENS', \n",
    "               'MBTEST_OTHER RESPIRATORY PATHOGENS', 'MBTEST_RSV', \n",
    "               'RPSTRESC', \n",
    "               'RSCAT_AVPU', \n",
    "               'SACAT_COMORBIDITIES', 'SACAT_COMPLICATIONS', 'SACAT_PREVIOUS_COVID-19_INFECTION', \n",
    "               'SCTEST_Appropriate_Developmental_Age_Indicator', 'SCTEST_Breast_Fed_Indicator', 'SCTEST_Infant_Less_Than_One_Year_Indicator', \n",
    "               'SCTEST_Premature_Birth_Indicator']"
   ]
  },
  {
   "cell_type": "code",
   "execution_count": 40,
   "id": "5bd2536e-70bc-4621-9b54-01ce0cdcbead",
   "metadata": {},
   "outputs": [],
   "source": [
    "# First for some columns in particular, it is more \"logical\" to put 0 (baseline) to fill NA\n",
    "\n",
    "NA_to_0 = ['HODECOD', \n",
    "           'IETEST_Acute_Respiratory_Infection', 'IETEST_Cough', 'IETEST_Covid_ICU', 'IETEST_Covid_admission', 'IETEST_Dyspnoea_Tachypnoea', 'IETEST_Fever', \n",
    "           'IETEST_Inflammatory_MultiSystem_Syndrome', 'IETEST_noCovid_ICU',  \n",
    "           'INCLAS_AGENTS_ACTING_ON_THE_RENIN-ANGIOTENSIN_SYSTEM', 'INCLAS_ANALGESICS', 'INCLAS_ANESTHETICS', \n",
    "           'INCLAS_ANTIBACTERIALS_FOR_SYSTEMIC_USE', 'INCLAS_ANTIHELMINTICS', 'INCLAS_ANTIINFLAMMATORY_AND_ANTIRHEUMATIC_PRODUCTS,_NON-STEROIDS',\n",
    "           'INCLAS_ANTIMALARIALS', 'INCLAS_ANTIMYCOTICS_FOR_SYSTEMIC_USE', 'INCLAS_ANTITHROMBOTIC_AGENTS',\n",
    "           'INCLAS_ANTIVIRALS_FOR_SYSTEMIC_USE', 'INCLAS_ARTIFICIAL_RESPIRATION', 'INCLAS_BETA_BLOCKING_AGENTS',\n",
    "           'INCLAS_BLOOD_SUBSTITUTES_AND_PERFUSION_SOLUTIONS', 'INCLAS_BRONCHOSCOPY', 'INCLAS_CARDIAC_PACING',\n",
    "           'INCLAS_CARDIAC_THERAPY', 'INCLAS_CARDIOPULMONARY_RESUSCITATION', 'INCLAS_CHEMOTHERAPY', 'INCLAS_CORTICOSTEROIDS_FOR_SYSTEMIC_USE',\n",
    "           'INCLAS_DIURETICS', 'INCLAS_DRUGS_FOR_ACID_RELATED_DISORDERS', 'INCLAS_DRUGS_FOR_OBSTRUCTIVE_AIRWAY_DISEASES', 'INCLAS_EXTRACORPOREAL_MEMBRANE_OXYGENATION', \n",
    "           'INCLAS_HIGH_FLOW_OXYGEN_NASAL_CANNULA', 'INCLAS_IMMUNOGLOBULINS', 'INCLAS_IMMUNOSTIMULANTS', 'INCLAS_IMMUNOSUPPRESSANTS', \n",
    "           'INCLAS_INSERTION_OF_TRACHEOSTOMY_TUBE', 'INCLAS_INTUBATION', 'INCLAS_LIPID_MODIFYING_AGENTS', 'INCLAS_MUSCLE_RELAXANTS', \n",
    "           'INCLAS_NONINVASIVE_POSITIVE_PRESSURE_VENTILATION', 'INCLAS_NONINVASIVE_VENTILATION', 'INCLAS_OTHER_RESPIRATORY_SYSTEM_PRODUCTS', \n",
    "           'INCLAS_OXYGEN', 'INCLAS_PERCUTANEOUS_ENDOSCOPIC_GASTROSTOMY', 'INCLAS_PRONE_BODY_POSITION', 'INCLAS_PSYCHOLEPTICS', \n",
    "           'INCLAS_REMOVAL_OF_ENDOTRACHEAL_TUBE', 'INCLAS_RENAL_REPLACEMENT', 'INCLAS_REPLACEMENT_AGENT', 'INCLAS_TOTAL_PARENTERAL_NUTRITION', \n",
    "           'INCLAS_TRANSFUSION_OF_BLOOD_PRODUCT', 'INCLAS_VACCINES', \n",
    "           'MBTEST_ADENOVIRUS', 'MBTEST_BACTERIA','MBTEST_INFLUENZA', 'MBTEST_MB_SEVERE_ACUTE_RESP_SYND_CORONAVIRUS', 'MBTEST_OTHER PATHOGENS', \n",
    "           'MBTEST_OTHER RESPIRATORY PATHOGENS', 'MBTEST_RSV', \n",
    "           'RPSTRESC', \n",
    "           'RSCAT_AVPU', \n",
    "           'SACAT_COMORBIDITIES', 'SACAT_COMPLICATIONS']"
   ]
  },
  {
   "cell_type": "code",
   "execution_count": 41,
   "id": "ed67874a",
   "metadata": {},
   "outputs": [],
   "source": [
    "# Fill NA and standardize\n",
    "\n",
    "def preProcess(df_train, df_test, categorical, NA_to_0) :\n",
    "    \n",
    "    # 1. Replace NA by 0 in NA_to_0 columns\n",
    "    \n",
    "    df_train[df_train.columns[df_train.columns.isin(NA_to_0)]] = df_train[df_train.columns[df_train.columns.isin(NA_to_0)]].fillna(0)\n",
    "    df_test[df_test.columns[df_test.columns.isin(NA_to_0)]] = df_test[df_test.columns[df_test.columns.isin(NA_to_0)]].fillna(0)\n",
    "    \n",
    "    # 2. Separate in categorical and continuous columns\n",
    "    \n",
    "    df_train_cat = df_train[df_train.columns[df_train.columns.isin(categorical)]]\n",
    "    df_train_con = df_train[df_train.columns[~df_train.columns.isin(categorical)]]\n",
    "    df_test_cat = df_test[df_test.columns[df_test.columns.isin(categorical)]]\n",
    "    df_test_con = df_test[df_test.columns[~df_test.columns.isin(categorical)]]\n",
    "    \n",
    "    cols_cat = df_train_cat.columns\n",
    "    cols_con = df_train_con.columns\n",
    "    \n",
    "    # 3. Fill the missing values \n",
    "        \n",
    "        # For categorical variables\n",
    "    imp_cat = SimpleImputer(strategy = \"most_frequent\")\n",
    "    imp_cat = imp_cat.fit(df_train_cat)\n",
    "    \n",
    "    df_train_cat = imp_cat.transform(df_train_cat)\n",
    "    df_test_cat = imp_cat.transform(df_test_cat)\n",
    "    df_train_cat = pd.DataFrame(df_train_cat, columns=cols_cat)\n",
    "    df_test_cat = pd.DataFrame(df_test_cat, columns=cols_cat)\n",
    "    \n",
    "        # For continuous variables\n",
    "    imp_con = SimpleImputer(strategy = \"median\")\n",
    "    imp_con = imp_con.fit(df_train_con)\n",
    "    \n",
    "    df_train_con = imp_con.transform(df_train_con)\n",
    "    df_test_con = imp_con.transform(df_test_con)\n",
    "    df_train_con = pd.DataFrame(df_train_con, columns=cols_con)\n",
    "    df_test_con = pd.DataFrame(df_test_con, columns=cols_con)\n",
    "\n",
    "    # 4. Standardization of continuous data\n",
    "    \n",
    "    scaler = StandardScaler()\n",
    "    scaler = scaler.fit(df_train_con)\n",
    "    \n",
    "    df_train_con = scaler.transform(df_train_con)\n",
    "    df_test_con = scaler.transform(df_test_con)\n",
    "    df_train_con = pd.DataFrame(df_train_con, columns=cols_con)\n",
    "    df_test_con = pd.DataFrame(df_test_con, columns=cols_con)\n",
    "    \n",
    "    # 5. Creation of X and y matrixes\n",
    "    \n",
    "    df_train = pd.concat([df_train_cat, df_train_con], axis=1)\n",
    "    df_test = pd.concat([df_test_cat, df_test_con], axis=1)\n",
    "    \n",
    "    X_train = df_train.loc[:, df_train.columns!='DSDECOD']\n",
    "    y_train = df_train['DSDECOD']\n",
    "    X_test = df_test.loc[:, df_test.columns!='DSDECOD']\n",
    "    y_test = df_test['DSDECOD']\n",
    "    \n",
    "    # 6. Get feature names\n",
    "    \n",
    "    feature_names = df_train.loc[:, df_train.columns!='DSDECOD'].columns\n",
    "    \n",
    "    return X_train, y_train, X_test, y_test, feature_names"
   ]
  },
  {
   "cell_type": "code",
   "execution_count": 42,
   "id": "5e45a5ec",
   "metadata": {},
   "outputs": [
    {
     "name": "stderr",
     "output_type": "stream",
     "text": [
      "C:\\Users\\felic\\anaconda3\\envs\\ada\\lib\\site-packages\\sklearn\\impute\\_base.py:49: FutureWarning: Unlike other reduction functions (e.g. `skew`, `kurtosis`), the default behavior of `mode` typically preserves the axis it acts along. In SciPy 1.11.0, this behavior will change: the default value of `keepdims` will become False, the `axis` over which the statistic is taken will be eliminated, and the value None will no longer be accepted. Set `keepdims` to True or False to avoid this warning.\n",
      "  mode = stats.mode(array)\n"
     ]
    }
   ],
   "source": [
    "X_train, y_train, X_test, y_test, features = preProcess(df_train, df_test, categorical, NA_to_0) "
   ]
  },
  {
   "cell_type": "markdown",
   "id": "c92ce6ba-3a64-48e8-9697-3e42de3ea8a9",
   "metadata": {},
   "source": [
    "## 6. Feature selection algorithms"
   ]
  },
  {
   "cell_type": "markdown",
   "id": "241e5f57",
   "metadata": {},
   "source": [
    "Les propositions sont faites à partir de: https://scikit-learn.org/stable/modules/feature_selection.html"
   ]
  },
  {
   "cell_type": "code",
   "execution_count": 43,
   "id": "d980e495",
   "metadata": {},
   "outputs": [],
   "source": [
    "# /!\\ CHOOSE THE CLASSIFIER /!\\\n",
    "classifier = svm.SVC(kernel=\"linear\")\n",
    "name_classifier = 'SVM' # give the name of the classifier (str) to save the file at the end\n",
    "\n",
    "# /!\\ CHOOSE THE MINIMUM NUMBER OF FEATURES TO CONSIDER /!\\\n",
    "min_features_to_select = 15 \n",
    "\n",
    "# List of possible classifiers :\n",
    "# These are the classifiers we will test in the file \"III_models-and-presdictions\"\n",
    "    # LogisticRegression()\n",
    "    # KNeighborsClassifier()\n",
    "    # svm.SVC()\n",
    "    # MLPClassifier()\n",
    "    # QuadraticDiscriminantAnalysis()\n",
    "    # xgb.XGBClassifier(objective=\"binary:logistic\", random_state=42)"
   ]
  },
  {
   "cell_type": "markdown",
   "id": "d415debb",
   "metadata": {
    "tags": []
   },
   "source": [
    "### 6.1. Recursive feature elimination (RFE) with cross-validation"
   ]
  },
  {
   "cell_type": "code",
   "execution_count": 44,
   "id": "18e4d7d2-3a6a-45d2-983e-b040fb779046",
   "metadata": {},
   "outputs": [
    {
     "data": {
      "text/plain": [
       "RFECV(cv=StratifiedKFold(n_splits=4, random_state=None, shuffle=False),\n",
       "      estimator=SVC(kernel='linear'), min_features_to_select=15, scoring='f1')"
      ]
     },
     "execution_count": 44,
     "metadata": {},
     "output_type": "execute_result"
    }
   ],
   "source": [
    "# Create the RFE object and compute a cross-validated score\n",
    "classifier = svm.SVC(kernel=\"linear\")\n",
    "\n",
    "rfecv = RFECV(estimator=classifier,\n",
    "              step=1,\n",
    "              cv=StratifiedKFold(4),\n",
    "              scoring='f1',\n",
    "              min_features_to_select=min_features_to_select)\n",
    "rfecv.fit(X_train, y_train)"
   ]
  },
  {
   "cell_type": "code",
   "execution_count": 45,
   "id": "f19d5aa5-6da9-4fd0-9656-f8bc538be112",
   "metadata": {},
   "outputs": [
    {
     "name": "stdout",
     "output_type": "stream",
     "text": [
      "Optimal number of features : 22\n"
     ]
    },
    {
     "name": "stderr",
     "output_type": "stream",
     "text": [
      "C:\\Users\\felic\\anaconda3\\envs\\ada\\lib\\site-packages\\sklearn\\utils\\deprecation.py:103: FutureWarning: The `grid_scores_` attribute is deprecated in version 1.0 in favor of `cv_results_` and will be removed in version 1.2.\n",
      "  warnings.warn(msg, category=FutureWarning)\n"
     ]
    },
    {
     "data": {
      "image/png": "[encoded data removed]",
      "text/plain": [
       "<Figure size 640x480 with 1 Axes>"
      ]
     },
     "metadata": {},
     "output_type": "display_data"
    }
   ],
   "source": [
    "# Optimal number of features\n",
    "print(\"Optimal number of features : %d\" % rfecv.n_features_)\n",
    "\n",
    "# Plot number of features VS. cross-validation scores\n",
    "plt.figure()\n",
    "plt.xlabel(\"Number of features selected\")\n",
    "plt.ylabel(\"Cross validation score (f1_score)\")\n",
    "plt.plot(range(min_features_to_select, len(rfecv.grid_scores_) + min_features_to_select),\n",
    "         rfecv.grid_scores_)\n",
    "plt.show()"
   ]
  },
  {
   "cell_type": "code",
   "execution_count": 46,
   "id": "926c02d6-3eea-4036-b5ee-a0512f0732b5",
   "metadata": {},
   "outputs": [
    {
     "data": {
      "text/html": [
       "<div>\n",
       "<style scoped>\n",
       "    .dataframe tbody tr th:only-of-type {\n",
       "        vertical-align: middle;\n",
       "    }\n",
       "\n",
       "    .dataframe tbody tr th {\n",
       "        vertical-align: top;\n",
       "    }\n",
       "\n",
       "    .dataframe thead th {\n",
       "        text-align: right;\n",
       "    }\n",
       "</style>\n",
       "<table border=\"1\" class=\"dataframe\">\n",
       "  <thead>\n",
       "    <tr style=\"text-align: right;\">\n",
       "      <th></th>\n",
       "      <th>Feature</th>\n",
       "      <th>Rank</th>\n",
       "    </tr>\n",
       "  </thead>\n",
       "  <tbody>\n",
       "    <tr>\n",
       "      <th>19</th>\n",
       "      <td>LBTEST_CREAT</td>\n",
       "      <td>1</td>\n",
       "    </tr>\n",
       "    <tr>\n",
       "      <th>32</th>\n",
       "      <td>LBTEST_PH</td>\n",
       "      <td>1</td>\n",
       "    </tr>\n",
       "    <tr>\n",
       "      <th>33</th>\n",
       "      <td>LBTEST_PLAT</td>\n",
       "      <td>1</td>\n",
       "    </tr>\n",
       "    <tr>\n",
       "      <th>24</th>\n",
       "      <td>LBTEST_HGB</td>\n",
       "      <td>1</td>\n",
       "    </tr>\n",
       "    <tr>\n",
       "      <th>42</th>\n",
       "      <td>VSTEST_MAP</td>\n",
       "      <td>1</td>\n",
       "    </tr>\n",
       "    <tr>\n",
       "      <th>22</th>\n",
       "      <td>LBTEST_GLUC</td>\n",
       "      <td>1</td>\n",
       "    </tr>\n",
       "    <tr>\n",
       "      <th>40</th>\n",
       "      <td>VSTEST_HEIGHT</td>\n",
       "      <td>1</td>\n",
       "    </tr>\n",
       "    <tr>\n",
       "      <th>43</th>\n",
       "      <td>VSTEST_OXYSAT</td>\n",
       "      <td>1</td>\n",
       "    </tr>\n",
       "    <tr>\n",
       "      <th>34</th>\n",
       "      <td>LBTEST_PT</td>\n",
       "      <td>1</td>\n",
       "    </tr>\n",
       "    <tr>\n",
       "      <th>35</th>\n",
       "      <td>LBTEST_SODIUM</td>\n",
       "      <td>1</td>\n",
       "    </tr>\n",
       "    <tr>\n",
       "      <th>14</th>\n",
       "      <td>LBTEST_AST</td>\n",
       "      <td>1</td>\n",
       "    </tr>\n",
       "    <tr>\n",
       "      <th>13</th>\n",
       "      <td>LBTEST_APTTSTND</td>\n",
       "      <td>1</td>\n",
       "    </tr>\n",
       "    <tr>\n",
       "      <th>15</th>\n",
       "      <td>LBTEST_BASEEXCS</td>\n",
       "      <td>1</td>\n",
       "    </tr>\n",
       "    <tr>\n",
       "      <th>36</th>\n",
       "      <td>LBTEST_UREAN</td>\n",
       "      <td>1</td>\n",
       "    </tr>\n",
       "    <tr>\n",
       "      <th>45</th>\n",
       "      <td>VSTEST_SYSBP</td>\n",
       "      <td>1</td>\n",
       "    </tr>\n",
       "    <tr>\n",
       "      <th>2</th>\n",
       "      <td>IETEST_Acute_Respiratory_Infection</td>\n",
       "      <td>1</td>\n",
       "    </tr>\n",
       "    <tr>\n",
       "      <th>4</th>\n",
       "      <td>IETEST_Fever</td>\n",
       "      <td>1</td>\n",
       "    </tr>\n",
       "    <tr>\n",
       "      <th>6</th>\n",
       "      <td>SACAT_COMORBIDITIES</td>\n",
       "      <td>1</td>\n",
       "    </tr>\n",
       "    <tr>\n",
       "      <th>30</th>\n",
       "      <td>LBTEST_NEUT</td>\n",
       "      <td>1</td>\n",
       "    </tr>\n",
       "    <tr>\n",
       "      <th>9</th>\n",
       "      <td>MBTEST_OTHER RESPIRATORY PATHOGENS</td>\n",
       "      <td>1</td>\n",
       "    </tr>\n",
       "    <tr>\n",
       "      <th>10</th>\n",
       "      <td>AGE</td>\n",
       "      <td>1</td>\n",
       "    </tr>\n",
       "    <tr>\n",
       "      <th>7</th>\n",
       "      <td>SACAT_COMPLICATIONS</td>\n",
       "      <td>1</td>\n",
       "    </tr>\n",
       "    <tr>\n",
       "      <th>20</th>\n",
       "      <td>LBTEST_CRP</td>\n",
       "      <td>2</td>\n",
       "    </tr>\n",
       "    <tr>\n",
       "      <th>29</th>\n",
       "      <td>LBTEST_LYM</td>\n",
       "      <td>3</td>\n",
       "    </tr>\n",
       "    <tr>\n",
       "      <th>37</th>\n",
       "      <td>LBTEST_WBC</td>\n",
       "      <td>4</td>\n",
       "    </tr>\n",
       "    <tr>\n",
       "      <th>41</th>\n",
       "      <td>VSTEST_HR</td>\n",
       "      <td>5</td>\n",
       "    </tr>\n",
       "    <tr>\n",
       "      <th>21</th>\n",
       "      <td>LBTEST_FERRITIN</td>\n",
       "      <td>6</td>\n",
       "    </tr>\n",
       "    <tr>\n",
       "      <th>3</th>\n",
       "      <td>IETEST_Cough</td>\n",
       "      <td>7</td>\n",
       "    </tr>\n",
       "    <tr>\n",
       "      <th>12</th>\n",
       "      <td>LBTEST_APTT</td>\n",
       "      <td>8</td>\n",
       "    </tr>\n",
       "    <tr>\n",
       "      <th>5</th>\n",
       "      <td>INCLAS_VACCINES</td>\n",
       "      <td>9</td>\n",
       "    </tr>\n",
       "    <tr>\n",
       "      <th>26</th>\n",
       "      <td>LBTEST_K</td>\n",
       "      <td>10</td>\n",
       "    </tr>\n",
       "    <tr>\n",
       "      <th>39</th>\n",
       "      <td>VSTEST_DIABP</td>\n",
       "      <td>11</td>\n",
       "    </tr>\n",
       "    <tr>\n",
       "      <th>11</th>\n",
       "      <td>LBTEST_ALT</td>\n",
       "      <td>12</td>\n",
       "    </tr>\n",
       "    <tr>\n",
       "      <th>27</th>\n",
       "      <td>LBTEST_LACTICAC</td>\n",
       "      <td>13</td>\n",
       "    </tr>\n",
       "    <tr>\n",
       "      <th>28</th>\n",
       "      <td>LBTEST_LDH</td>\n",
       "      <td>14</td>\n",
       "    </tr>\n",
       "    <tr>\n",
       "      <th>17</th>\n",
       "      <td>LBTEST_BILI</td>\n",
       "      <td>15</td>\n",
       "    </tr>\n",
       "    <tr>\n",
       "      <th>16</th>\n",
       "      <td>LBTEST_BICARB</td>\n",
       "      <td>16</td>\n",
       "    </tr>\n",
       "    <tr>\n",
       "      <th>44</th>\n",
       "      <td>VSTEST_RESP</td>\n",
       "      <td>17</td>\n",
       "    </tr>\n",
       "    <tr>\n",
       "      <th>25</th>\n",
       "      <td>LBTEST_INR</td>\n",
       "      <td>18</td>\n",
       "    </tr>\n",
       "    <tr>\n",
       "      <th>47</th>\n",
       "      <td>VSTEST_WEIGHT</td>\n",
       "      <td>19</td>\n",
       "    </tr>\n",
       "  </tbody>\n",
       "</table>\n",
       "</div>"
      ],
      "text/plain": [
       "                               Feature  Rank\n",
       "19                        LBTEST_CREAT     1\n",
       "32                           LBTEST_PH     1\n",
       "33                         LBTEST_PLAT     1\n",
       "24                          LBTEST_HGB     1\n",
       "42                          VSTEST_MAP     1\n",
       "22                         LBTEST_GLUC     1\n",
       "40                       VSTEST_HEIGHT     1\n",
       "43                       VSTEST_OXYSAT     1\n",
       "34                           LBTEST_PT     1\n",
       "35                       LBTEST_SODIUM     1\n",
       "14                          LBTEST_AST     1\n",
       "13                     LBTEST_APTTSTND     1\n",
       "15                     LBTEST_BASEEXCS     1\n",
       "36                        LBTEST_UREAN     1\n",
       "45                        VSTEST_SYSBP     1\n",
       "2   IETEST_Acute_Respiratory_Infection     1\n",
       "4                         IETEST_Fever     1\n",
       "6                  SACAT_COMORBIDITIES     1\n",
       "30                         LBTEST_NEUT     1\n",
       "9   MBTEST_OTHER RESPIRATORY PATHOGENS     1\n",
       "10                                 AGE     1\n",
       "7                  SACAT_COMPLICATIONS     1\n",
       "20                          LBTEST_CRP     2\n",
       "29                          LBTEST_LYM     3\n",
       "37                          LBTEST_WBC     4\n",
       "41                           VSTEST_HR     5\n",
       "21                     LBTEST_FERRITIN     6\n",
       "3                         IETEST_Cough     7\n",
       "12                         LBTEST_APTT     8\n",
       "5                      INCLAS_VACCINES     9\n",
       "26                            LBTEST_K    10\n",
       "39                        VSTEST_DIABP    11\n",
       "11                          LBTEST_ALT    12\n",
       "27                     LBTEST_LACTICAC    13\n",
       "28                          LBTEST_LDH    14\n",
       "17                         LBTEST_BILI    15\n",
       "16                       LBTEST_BICARB    16\n",
       "44                         VSTEST_RESP    17\n",
       "25                          LBTEST_INR    18\n",
       "47                       VSTEST_WEIGHT    19"
      ]
     },
     "execution_count": 46,
     "metadata": {},
     "output_type": "execute_result"
    }
   ],
   "source": [
    "# See feature ranking\n",
    "df_rfecv = pd.DataFrame(list(zip(features, rfecv.ranking_)), columns =['Feature', 'Rank']).sort_values(by='Rank')\n",
    "df_rfecv.head(40)"
   ]
  },
  {
   "cell_type": "code",
   "execution_count": 47,
   "id": "c557925a-3de7-4fbe-83d9-868ea6be4315",
   "metadata": {},
   "outputs": [
    {
     "data": {
      "text/plain": [
       "Index(['IETEST_Acute_Respiratory_Infection', 'IETEST_Fever',\n",
       "       'SACAT_COMORBIDITIES', 'SACAT_COMPLICATIONS',\n",
       "       'MBTEST_OTHER RESPIRATORY PATHOGENS', 'AGE', 'LBTEST_APTTSTND',\n",
       "       'LBTEST_AST', 'LBTEST_BASEEXCS', 'LBTEST_CREAT', 'LBTEST_GLUC',\n",
       "       'LBTEST_HGB', 'LBTEST_NEUT', 'LBTEST_PH', 'LBTEST_PLAT', 'LBTEST_PT',\n",
       "       'LBTEST_SODIUM', 'LBTEST_UREAN', 'VSTEST_HEIGHT', 'VSTEST_MAP',\n",
       "       'VSTEST_OXYSAT', 'VSTEST_SYSBP'],\n",
       "      dtype='object')"
      ]
     },
     "execution_count": 47,
     "metadata": {},
     "output_type": "execute_result"
    }
   ],
   "source": [
    "# Colonnes selected\n",
    "features_rfecv = features[rfecv.support_]\n",
    "features_rfecv"
   ]
  },
  {
   "cell_type": "markdown",
   "id": "b8dd0fb4",
   "metadata": {
    "tags": []
   },
   "source": [
    "### 6.2. Sequential Feature Selection"
   ]
  },
  {
   "cell_type": "markdown",
   "id": "9b786242-0038-4065-a398-7974526360ae",
   "metadata": {},
   "source": [
    "We will test two approaches for feature selection: SelectFromModel which is based on feature importance, and SequentialFeatureSelection which relies on a greedy approach.\n",
    "\n",
    "*NB from Sklearn:*\n",
    "- In general, the two methods would lead to different results.\n",
    "- We also note that the features selected by SFS differ from those selected by feature importance.\n",
    "- To finish with, we should note that SelectFromModel is significantly faster than SFS. Indeed, SelectFromModel only needs to fit a model once, while SFS needs to cross-validate many different models for each of the iterations. SFS however works with any model, while SelectFromModel requires the underlying estimator to expose a coef_ attribute or a feature_importances_ attribute. The forward SFS is faster than the backward SFS because it only needs to perform n_features_to_select = 2 iterations, while the backward SFS needs to perform n_features - n_features_to_select = 8 iterations."
   ]
  },
  {
   "cell_type": "markdown",
   "id": "4b24ffbe-99ed-4d4a-b114-156db9cf7d8a",
   "metadata": {
    "tags": []
   },
   "source": [
    "#### 6.2.1. SelectFromModel"
   ]
  },
  {
   "cell_type": "markdown",
   "id": "d73c9435-02eb-4c3f-87a2-22d23afbcab0",
   "metadata": {},
   "source": [
    "Before using selectFromModel, we will get an idea of the importance of the features. The features with the highest absolute coef_ value are considered the most important."
   ]
  },
  {
   "cell_type": "code",
   "execution_count": 48,
   "id": "18d312c6-aaf2-4728-8e77-a6e1c600b2f2",
   "metadata": {},
   "outputs": [
    {
     "data": {
      "image/png": "[encoded data removed]",
      "text/plain": [
       "<Figure size 2500x700 with 1 Axes>"
      ]
     },
     "metadata": {},
     "output_type": "display_data"
    }
   ],
   "source": [
    "# Feature importance from coefficients\n",
    "classifier = svm.SVC(kernel=\"linear\")\n",
    "importance_fit = classifier.fit(X_train, y_train)\n",
    "\n",
    "if len(importance_fit.coef_.tolist())>1:\n",
    "       importance = np.abs(importance_fit.coef_)  \n",
    "else:\n",
    "       importance = np.abs(importance_fit.coef_.tolist()[0])\n",
    "\n",
    "df_importance = pd.DataFrame(list(zip(features, importance)), columns =['Feature', 'Importance']).sort_values(by='Importance', ascending=False)\n",
    "\n",
    "plt.figure(figsize=(25, 7))\n",
    "plt.bar('Feature', 'Importance', data=df_importance)\n",
    "plt.title(\"Feature importances via coefficients\")\n",
    "plt.xticks(rotation=90)\n",
    "plt.show()"
   ]
  },
  {
   "cell_type": "code",
   "execution_count": 49,
   "id": "16947db8-e163-46ff-b57e-b8d725ed5eaf",
   "metadata": {},
   "outputs": [
    {
     "data": {
      "text/html": [
       "<div>\n",
       "<style scoped>\n",
       "    .dataframe tbody tr th:only-of-type {\n",
       "        vertical-align: middle;\n",
       "    }\n",
       "\n",
       "    .dataframe tbody tr th {\n",
       "        vertical-align: top;\n",
       "    }\n",
       "\n",
       "    .dataframe thead th {\n",
       "        text-align: right;\n",
       "    }\n",
       "</style>\n",
       "<table border=\"1\" class=\"dataframe\">\n",
       "  <thead>\n",
       "    <tr style=\"text-align: right;\">\n",
       "      <th></th>\n",
       "      <th>Feature</th>\n",
       "      <th>Importance</th>\n",
       "    </tr>\n",
       "  </thead>\n",
       "  <tbody>\n",
       "    <tr>\n",
       "      <th>34</th>\n",
       "      <td>LBTEST_PT</td>\n",
       "      <td>1.167592</td>\n",
       "    </tr>\n",
       "    <tr>\n",
       "      <th>36</th>\n",
       "      <td>LBTEST_UREAN</td>\n",
       "      <td>1.099599</td>\n",
       "    </tr>\n",
       "    <tr>\n",
       "      <th>45</th>\n",
       "      <td>VSTEST_SYSBP</td>\n",
       "      <td>0.858970</td>\n",
       "    </tr>\n",
       "    <tr>\n",
       "      <th>30</th>\n",
       "      <td>LBTEST_NEUT</td>\n",
       "      <td>0.852386</td>\n",
       "    </tr>\n",
       "    <tr>\n",
       "      <th>10</th>\n",
       "      <td>AGE</td>\n",
       "      <td>0.836927</td>\n",
       "    </tr>\n",
       "    <tr>\n",
       "      <th>13</th>\n",
       "      <td>LBTEST_APTTSTND</td>\n",
       "      <td>0.817994</td>\n",
       "    </tr>\n",
       "    <tr>\n",
       "      <th>2</th>\n",
       "      <td>IETEST_Acute_Respiratory_Infection</td>\n",
       "      <td>0.673401</td>\n",
       "    </tr>\n",
       "    <tr>\n",
       "      <th>9</th>\n",
       "      <td>MBTEST_OTHER RESPIRATORY PATHOGENS</td>\n",
       "      <td>0.629604</td>\n",
       "    </tr>\n",
       "    <tr>\n",
       "      <th>24</th>\n",
       "      <td>LBTEST_HGB</td>\n",
       "      <td>0.611218</td>\n",
       "    </tr>\n",
       "    <tr>\n",
       "      <th>19</th>\n",
       "      <td>LBTEST_CREAT</td>\n",
       "      <td>0.580853</td>\n",
       "    </tr>\n",
       "  </tbody>\n",
       "</table>\n",
       "</div>"
      ],
      "text/plain": [
       "                               Feature  Importance\n",
       "34                           LBTEST_PT    1.167592\n",
       "36                        LBTEST_UREAN    1.099599\n",
       "45                        VSTEST_SYSBP    0.858970\n",
       "30                         LBTEST_NEUT    0.852386\n",
       "10                                 AGE    0.836927\n",
       "13                     LBTEST_APTTSTND    0.817994\n",
       "2   IETEST_Acute_Respiratory_Infection    0.673401\n",
       "9   MBTEST_OTHER RESPIRATORY PATHOGENS    0.629604\n",
       "24                          LBTEST_HGB    0.611218\n",
       "19                        LBTEST_CREAT    0.580853"
      ]
     },
     "execution_count": 49,
     "metadata": {},
     "output_type": "execute_result"
    }
   ],
   "source": [
    "# See feature ranking\n",
    "df_importance.head(10)"
   ]
  },
  {
   "cell_type": "markdown",
   "id": "e9e1b07c-b6b8-4768-a576-59f53f1302f4",
   "metadata": {},
   "source": [
    "Now we select features which are the most important according to the coefficients using SelectFromModel."
   ]
  },
  {
   "cell_type": "code",
   "execution_count": 50,
   "id": "68bc9e2c-3cc9-49c3-b776-555297c33306",
   "metadata": {},
   "outputs": [
    {
     "name": "stdout",
     "output_type": "stream",
     "text": [
      "Features selected by SelectFromModel: Index(['IETEST_Acute_Respiratory_Infection', 'IETEST_Cough', 'IETEST_Fever',\n",
      "       'INCLAS_VACCINES', 'SACAT_COMORBIDITIES', 'SACAT_COMPLICATIONS',\n",
      "       'MBTEST_OTHER RESPIRATORY PATHOGENS', 'AGE', 'LBTEST_ALT',\n",
      "       'LBTEST_APTT', 'LBTEST_APTTSTND', 'LBTEST_BASEEXCS', 'LBTEST_CREAT',\n",
      "       'LBTEST_CRP', 'LBTEST_FERRITIN', 'LBTEST_GLUC', 'LBTEST_HGB',\n",
      "       'LBTEST_LDH', 'LBTEST_LYM', 'LBTEST_NEUT', 'LBTEST_PH', 'LBTEST_PLAT',\n",
      "       'LBTEST_PT', 'LBTEST_SODIUM', 'LBTEST_UREAN', 'LBTEST_WBC',\n",
      "       'VSTEST_DIABP', 'VSTEST_HEIGHT', 'VSTEST_HR', 'VSTEST_MAP',\n",
      "       'VSTEST_OXYSAT', 'VSTEST_RESP', 'VSTEST_SYSBP'],\n",
      "      dtype='object')\n"
     ]
    }
   ],
   "source": [
    "# SelectFromModel\n",
    "\n",
    "threshold = np.sort(importance)[-35] + 0.01\n",
    "sfm = SelectFromModel(classifier, threshold=threshold).fit(X_train, y_train)\n",
    "\n",
    "features_sfm = features[sfm.get_support()]\n",
    "print(f\"Features selected by SelectFromModel: {features_sfm}\")"
   ]
  },
  {
   "cell_type": "code",
   "execution_count": 51,
   "id": "5046a749",
   "metadata": {},
   "outputs": [
    {
     "data": {
      "text/plain": [
       "33"
      ]
     },
     "execution_count": 51,
     "metadata": {},
     "output_type": "execute_result"
    }
   ],
   "source": [
    "len(features_sfm)"
   ]
  },
  {
   "cell_type": "markdown",
   "id": "ce3c1ce7-4e75-4a76-8ead-10011fcdaafd",
   "metadata": {
    "tags": []
   },
   "source": [
    "#### 6.2.2 SequentialFeatureSelection"
   ]
  },
  {
   "cell_type": "code",
   "execution_count": 52,
   "id": "e78e4de3-2de1-4b03-8aad-a0b1643e57c4",
   "metadata": {},
   "outputs": [],
   "source": [
    "# SequentialFeatureSelection\n",
    "classifier = svm.SVC(kernel=\"linear\")\n",
    "sfs_forward = SequentialFeatureSelector(classifier, n_features_to_select=20, direction=\"forward\").fit(X_train, y_train)"
   ]
  },
  {
   "cell_type": "code",
   "execution_count": 53,
   "id": "e9cedbe8",
   "metadata": {},
   "outputs": [],
   "source": [
    "# sfs_backward is veeeery long\n",
    "# only max_iter = 100 is run, even though it doesn't converge\n",
    "classifier = svm.SVC(kernel=\"linear\")\n",
    "sfs_backward = SequentialFeatureSelector(classifier, n_features_to_select=min_features_to_select, direction=\"backward\").fit(X_train, y_train)"
   ]
  },
  {
   "cell_type": "code",
   "execution_count": 54,
   "id": "4dd94ede-b103-49a4-918c-04a3e013acb9",
   "metadata": {},
   "outputs": [
    {
     "name": "stdout",
     "output_type": "stream",
     "text": [
      "Features selected by forward sequential selection:\n",
      " Index(['HODECOD', 'IETEST_Acute_Respiratory_Infection', 'INCLAS_VACCINES',\n",
      "       'SACAT_COMORBIDITIES', 'SACAT_COMPLICATIONS',\n",
      "       'SACAT_PREVIOUS_COVID-19_INFECTION',\n",
      "       'MBTEST_OTHER RESPIRATORY PATHOGENS', 'AGE', 'LBTEST_APTT',\n",
      "       'LBTEST_AST', 'LBTEST_BILI', 'LBTEST_HCT', 'LBTEST_HGB', 'LBTEST_INR',\n",
      "       'LBTEST_LACTICAC', 'LBTEST_LDH', 'LBTEST_PCT', 'LBTEST_PT',\n",
      "       'VSTEST_CPLRFLT', 'VSTEST_DIABP'],\n",
      "      dtype='object')\n",
      "Features selected by backward sequential selection:\n",
      " Index(['AGE', 'LBTEST_APTT', 'LBTEST_APTTSTND', 'LBTEST_CREAT', 'LBTEST_CRP',\n",
      "       'LBTEST_FERRITIN', 'LBTEST_GLUC', 'LBTEST_LDH', 'LBTEST_PH',\n",
      "       'LBTEST_PLAT', 'LBTEST_SODIUM', 'LBTEST_UREAN', 'VSTEST_DIABP',\n",
      "       'VSTEST_MAP', 'VSTEST_SYSBP'],\n",
      "      dtype='object')\n"
     ]
    }
   ],
   "source": [
    "# Features selected\n",
    "\n",
    "features_sfs_forward = features[sfs_forward.get_support()]\n",
    "print(\"Features selected by forward sequential selection:\\n \" f\"{features_sfs_forward}\")\n",
    "\n",
    "#print('------')\n",
    "\n",
    "features_sfs_backward = features[sfs_backward.get_support()]\n",
    "print(\"Features selected by backward sequential selection:\\n \" f\"{features_sfs_backward}\")"
   ]
  },
  {
   "cell_type": "markdown",
   "id": "e134fa36-57dc-4f0f-975d-006650a9305e",
   "metadata": {},
   "source": [
    "## 7. Conclusions and final features selection"
   ]
  },
  {
   "cell_type": "code",
   "execution_count": 55,
   "id": "612061f6-605d-4002-9c0b-876f8836bdfd",
   "metadata": {},
   "outputs": [
    {
     "name": "stderr",
     "output_type": "stream",
     "text": [
      "C:\\Users\\felic\\AppData\\Local\\Temp\\ipykernel_30472\\3274518152.py:21: FutureWarning: Dropping of nuisance columns in DataFrame reductions (with 'numeric_only=None') is deprecated; in a future version this will raise TypeError.  Select only valid columns before calling the reduction.\n",
      "  df_comparison['Number'] = df_comparison.sum(axis=1)\n"
     ]
    },
    {
     "data": {
      "text/html": [
       "<div>\n",
       "<style scoped>\n",
       "    .dataframe tbody tr th:only-of-type {\n",
       "        vertical-align: middle;\n",
       "    }\n",
       "\n",
       "    .dataframe tbody tr th {\n",
       "        vertical-align: top;\n",
       "    }\n",
       "\n",
       "    .dataframe thead th {\n",
       "        text-align: right;\n",
       "    }\n",
       "</style>\n",
       "<table border=\"1\" class=\"dataframe\">\n",
       "  <thead>\n",
       "    <tr style=\"text-align: right;\">\n",
       "      <th></th>\n",
       "      <th>rfecv</th>\n",
       "      <th>sfm</th>\n",
       "      <th>sfs_fwd</th>\n",
       "      <th>sfs_bkd</th>\n",
       "      <th>Number</th>\n",
       "      <th>NA_percent</th>\n",
       "    </tr>\n",
       "    <tr>\n",
       "      <th>Feature</th>\n",
       "      <th></th>\n",
       "      <th></th>\n",
       "      <th></th>\n",
       "      <th></th>\n",
       "      <th></th>\n",
       "      <th></th>\n",
       "    </tr>\n",
       "  </thead>\n",
       "  <tbody>\n",
       "    <tr>\n",
       "      <th>AGE</th>\n",
       "      <td>X</td>\n",
       "      <td>X</td>\n",
       "      <td>X</td>\n",
       "      <td>X</td>\n",
       "      <td>4</td>\n",
       "      <td>2.8</td>\n",
       "    </tr>\n",
       "    <tr>\n",
       "      <th>IETEST_Acute_Respiratory_Infection</th>\n",
       "      <td>X</td>\n",
       "      <td>X</td>\n",
       "      <td>X</td>\n",
       "      <td></td>\n",
       "      <td>3</td>\n",
       "      <td>20.9</td>\n",
       "    </tr>\n",
       "    <tr>\n",
       "      <th>LBTEST_PH</th>\n",
       "      <td>X</td>\n",
       "      <td>X</td>\n",
       "      <td></td>\n",
       "      <td>X</td>\n",
       "      <td>3</td>\n",
       "      <td>77.1</td>\n",
       "    </tr>\n",
       "    <tr>\n",
       "      <th>VSTEST_DIABP</th>\n",
       "      <td></td>\n",
       "      <td>X</td>\n",
       "      <td>X</td>\n",
       "      <td>X</td>\n",
       "      <td>3</td>\n",
       "      <td>5.7</td>\n",
       "    </tr>\n",
       "    <tr>\n",
       "      <th>LBTEST_LDH</th>\n",
       "      <td></td>\n",
       "      <td>X</td>\n",
       "      <td>X</td>\n",
       "      <td>X</td>\n",
       "      <td>3</td>\n",
       "      <td>84.4</td>\n",
       "    </tr>\n",
       "    <tr>\n",
       "      <th>LBTEST_APTT</th>\n",
       "      <td></td>\n",
       "      <td>X</td>\n",
       "      <td>X</td>\n",
       "      <td>X</td>\n",
       "      <td>3</td>\n",
       "      <td>62.1</td>\n",
       "    </tr>\n",
       "    <tr>\n",
       "      <th>VSTEST_MAP</th>\n",
       "      <td>X</td>\n",
       "      <td>X</td>\n",
       "      <td></td>\n",
       "      <td>X</td>\n",
       "      <td>3</td>\n",
       "      <td>86.7</td>\n",
       "    </tr>\n",
       "    <tr>\n",
       "      <th>LBTEST_UREAN</th>\n",
       "      <td>X</td>\n",
       "      <td>X</td>\n",
       "      <td></td>\n",
       "      <td>X</td>\n",
       "      <td>3</td>\n",
       "      <td>21.0</td>\n",
       "    </tr>\n",
       "    <tr>\n",
       "      <th>LBTEST_SODIUM</th>\n",
       "      <td>X</td>\n",
       "      <td>X</td>\n",
       "      <td></td>\n",
       "      <td>X</td>\n",
       "      <td>3</td>\n",
       "      <td>31.4</td>\n",
       "    </tr>\n",
       "    <tr>\n",
       "      <th>LBTEST_PT</th>\n",
       "      <td>X</td>\n",
       "      <td>X</td>\n",
       "      <td>X</td>\n",
       "      <td></td>\n",
       "      <td>3</td>\n",
       "      <td>60.1</td>\n",
       "    </tr>\n",
       "    <tr>\n",
       "      <th>LBTEST_PLAT</th>\n",
       "      <td>X</td>\n",
       "      <td>X</td>\n",
       "      <td></td>\n",
       "      <td>X</td>\n",
       "      <td>3</td>\n",
       "      <td>12.4</td>\n",
       "    </tr>\n",
       "    <tr>\n",
       "      <th>VSTEST_SYSBP</th>\n",
       "      <td>X</td>\n",
       "      <td>X</td>\n",
       "      <td></td>\n",
       "      <td>X</td>\n",
       "      <td>3</td>\n",
       "      <td>5.6</td>\n",
       "    </tr>\n",
       "    <tr>\n",
       "      <th>LBTEST_GLUC</th>\n",
       "      <td>X</td>\n",
       "      <td>X</td>\n",
       "      <td></td>\n",
       "      <td>X</td>\n",
       "      <td>3</td>\n",
       "      <td>50.6</td>\n",
       "    </tr>\n",
       "    <tr>\n",
       "      <th>LBTEST_CREAT</th>\n",
       "      <td>X</td>\n",
       "      <td>X</td>\n",
       "      <td></td>\n",
       "      <td>X</td>\n",
       "      <td>3</td>\n",
       "      <td>13.0</td>\n",
       "    </tr>\n",
       "    <tr>\n",
       "      <th>SACAT_COMORBIDITIES</th>\n",
       "      <td>X</td>\n",
       "      <td>X</td>\n",
       "      <td>X</td>\n",
       "      <td></td>\n",
       "      <td>3</td>\n",
       "      <td>2.0</td>\n",
       "    </tr>\n",
       "    <tr>\n",
       "      <th>SACAT_COMPLICATIONS</th>\n",
       "      <td>X</td>\n",
       "      <td>X</td>\n",
       "      <td>X</td>\n",
       "      <td></td>\n",
       "      <td>3</td>\n",
       "      <td>2.0</td>\n",
       "    </tr>\n",
       "    <tr>\n",
       "      <th>LBTEST_HGB</th>\n",
       "      <td>X</td>\n",
       "      <td>X</td>\n",
       "      <td>X</td>\n",
       "      <td></td>\n",
       "      <td>3</td>\n",
       "      <td>13.4</td>\n",
       "    </tr>\n",
       "    <tr>\n",
       "      <th>LBTEST_APTTSTND</th>\n",
       "      <td>X</td>\n",
       "      <td>X</td>\n",
       "      <td></td>\n",
       "      <td>X</td>\n",
       "      <td>3</td>\n",
       "      <td>88.2</td>\n",
       "    </tr>\n",
       "    <tr>\n",
       "      <th>MBTEST_OTHER RESPIRATORY PATHOGENS</th>\n",
       "      <td>X</td>\n",
       "      <td>X</td>\n",
       "      <td>X</td>\n",
       "      <td></td>\n",
       "      <td>3</td>\n",
       "      <td>91.1</td>\n",
       "    </tr>\n",
       "    <tr>\n",
       "      <th>LBTEST_NEUT</th>\n",
       "      <td>X</td>\n",
       "      <td>X</td>\n",
       "      <td></td>\n",
       "      <td></td>\n",
       "      <td>2</td>\n",
       "      <td>33.7</td>\n",
       "    </tr>\n",
       "    <tr>\n",
       "      <th>INCLAS_VACCINES</th>\n",
       "      <td></td>\n",
       "      <td>X</td>\n",
       "      <td>X</td>\n",
       "      <td></td>\n",
       "      <td>2</td>\n",
       "      <td>0.5</td>\n",
       "    </tr>\n",
       "    <tr>\n",
       "      <th>LBTEST_CRP</th>\n",
       "      <td></td>\n",
       "      <td>X</td>\n",
       "      <td></td>\n",
       "      <td>X</td>\n",
       "      <td>2</td>\n",
       "      <td>36.5</td>\n",
       "    </tr>\n",
       "    <tr>\n",
       "      <th>LBTEST_FERRITIN</th>\n",
       "      <td></td>\n",
       "      <td>X</td>\n",
       "      <td></td>\n",
       "      <td>X</td>\n",
       "      <td>2</td>\n",
       "      <td>86.3</td>\n",
       "    </tr>\n",
       "    <tr>\n",
       "      <th>IETEST_Fever</th>\n",
       "      <td>X</td>\n",
       "      <td>X</td>\n",
       "      <td></td>\n",
       "      <td></td>\n",
       "      <td>2</td>\n",
       "      <td>20.5</td>\n",
       "    </tr>\n",
       "    <tr>\n",
       "      <th>VSTEST_OXYSAT</th>\n",
       "      <td>X</td>\n",
       "      <td>X</td>\n",
       "      <td></td>\n",
       "      <td></td>\n",
       "      <td>2</td>\n",
       "      <td>7.1</td>\n",
       "    </tr>\n",
       "    <tr>\n",
       "      <th>VSTEST_HEIGHT</th>\n",
       "      <td>X</td>\n",
       "      <td>X</td>\n",
       "      <td></td>\n",
       "      <td></td>\n",
       "      <td>2</td>\n",
       "      <td>93.3</td>\n",
       "    </tr>\n",
       "    <tr>\n",
       "      <th>LBTEST_AST</th>\n",
       "      <td>X</td>\n",
       "      <td></td>\n",
       "      <td>X</td>\n",
       "      <td></td>\n",
       "      <td>2</td>\n",
       "      <td>82.8</td>\n",
       "    </tr>\n",
       "    <tr>\n",
       "      <th>LBTEST_BASEEXCS</th>\n",
       "      <td>X</td>\n",
       "      <td>X</td>\n",
       "      <td></td>\n",
       "      <td></td>\n",
       "      <td>2</td>\n",
       "      <td>78.9</td>\n",
       "    </tr>\n",
       "    <tr>\n",
       "      <th>IETEST_Cough</th>\n",
       "      <td></td>\n",
       "      <td>X</td>\n",
       "      <td></td>\n",
       "      <td></td>\n",
       "      <td>1</td>\n",
       "      <td>20.6</td>\n",
       "    </tr>\n",
       "    <tr>\n",
       "      <th>SACAT_PREVIOUS_COVID-19_INFECTION</th>\n",
       "      <td></td>\n",
       "      <td></td>\n",
       "      <td>X</td>\n",
       "      <td></td>\n",
       "      <td>1</td>\n",
       "      <td>2.0</td>\n",
       "    </tr>\n",
       "    <tr>\n",
       "      <th>LBTEST_PCT</th>\n",
       "      <td></td>\n",
       "      <td></td>\n",
       "      <td>X</td>\n",
       "      <td></td>\n",
       "      <td>1</td>\n",
       "      <td>89.5</td>\n",
       "    </tr>\n",
       "    <tr>\n",
       "      <th>LBTEST_LACTICAC</th>\n",
       "      <td></td>\n",
       "      <td></td>\n",
       "      <td>X</td>\n",
       "      <td></td>\n",
       "      <td>1</td>\n",
       "      <td>66.5</td>\n",
       "    </tr>\n",
       "    <tr>\n",
       "      <th>LBTEST_INR</th>\n",
       "      <td></td>\n",
       "      <td></td>\n",
       "      <td>X</td>\n",
       "      <td></td>\n",
       "      <td>1</td>\n",
       "      <td>92.1</td>\n",
       "    </tr>\n",
       "    <tr>\n",
       "      <th>LBTEST_HCT</th>\n",
       "      <td></td>\n",
       "      <td></td>\n",
       "      <td>X</td>\n",
       "      <td></td>\n",
       "      <td>1</td>\n",
       "      <td>86.4</td>\n",
       "    </tr>\n",
       "    <tr>\n",
       "      <th>LBTEST_BILI</th>\n",
       "      <td></td>\n",
       "      <td></td>\n",
       "      <td>X</td>\n",
       "      <td></td>\n",
       "      <td>1</td>\n",
       "      <td>26.9</td>\n",
       "    </tr>\n",
       "    <tr>\n",
       "      <th>VSTEST_HR</th>\n",
       "      <td></td>\n",
       "      <td>X</td>\n",
       "      <td></td>\n",
       "      <td></td>\n",
       "      <td>1</td>\n",
       "      <td>5.9</td>\n",
       "    </tr>\n",
       "    <tr>\n",
       "      <th>HODECOD</th>\n",
       "      <td></td>\n",
       "      <td></td>\n",
       "      <td>X</td>\n",
       "      <td></td>\n",
       "      <td>1</td>\n",
       "      <td>0.0</td>\n",
       "    </tr>\n",
       "    <tr>\n",
       "      <th>VSTEST_RESP</th>\n",
       "      <td></td>\n",
       "      <td>X</td>\n",
       "      <td></td>\n",
       "      <td></td>\n",
       "      <td>1</td>\n",
       "      <td>8.7</td>\n",
       "    </tr>\n",
       "    <tr>\n",
       "      <th>LBTEST_ALT</th>\n",
       "      <td></td>\n",
       "      <td>X</td>\n",
       "      <td></td>\n",
       "      <td></td>\n",
       "      <td>1</td>\n",
       "      <td>29.2</td>\n",
       "    </tr>\n",
       "    <tr>\n",
       "      <th>LBTEST_WBC</th>\n",
       "      <td></td>\n",
       "      <td>X</td>\n",
       "      <td></td>\n",
       "      <td></td>\n",
       "      <td>1</td>\n",
       "      <td>12.6</td>\n",
       "    </tr>\n",
       "    <tr>\n",
       "      <th>LBTEST_LYM</th>\n",
       "      <td></td>\n",
       "      <td>X</td>\n",
       "      <td></td>\n",
       "      <td></td>\n",
       "      <td>1</td>\n",
       "      <td>33.4</td>\n",
       "    </tr>\n",
       "    <tr>\n",
       "      <th>VSTEST_CPLRFLT</th>\n",
       "      <td></td>\n",
       "      <td></td>\n",
       "      <td>X</td>\n",
       "      <td></td>\n",
       "      <td>1</td>\n",
       "      <td>77.5</td>\n",
       "    </tr>\n",
       "  </tbody>\n",
       "</table>\n",
       "</div>"
      ],
      "text/plain": [
       "                                   rfecv sfm sfs_fwd sfs_bkd  Number  \\\n",
       "Feature                                                                \n",
       "AGE                                    X   X       X       X       4   \n",
       "IETEST_Acute_Respiratory_Infection     X   X       X               3   \n",
       "LBTEST_PH                              X   X               X       3   \n",
       "VSTEST_DIABP                               X       X       X       3   \n",
       "LBTEST_LDH                                 X       X       X       3   \n",
       "LBTEST_APTT                                X       X       X       3   \n",
       "VSTEST_MAP                             X   X               X       3   \n",
       "LBTEST_UREAN                           X   X               X       3   \n",
       "LBTEST_SODIUM                          X   X               X       3   \n",
       "LBTEST_PT                              X   X       X               3   \n",
       "LBTEST_PLAT                            X   X               X       3   \n",
       "VSTEST_SYSBP                           X   X               X       3   \n",
       "LBTEST_GLUC                            X   X               X       3   \n",
       "LBTEST_CREAT                           X   X               X       3   \n",
       "SACAT_COMORBIDITIES                    X   X       X               3   \n",
       "SACAT_COMPLICATIONS                    X   X       X               3   \n",
       "LBTEST_HGB                             X   X       X               3   \n",
       "LBTEST_APTTSTND                        X   X               X       3   \n",
       "MBTEST_OTHER RESPIRATORY PATHOGENS     X   X       X               3   \n",
       "LBTEST_NEUT                            X   X                       2   \n",
       "INCLAS_VACCINES                            X       X               2   \n",
       "LBTEST_CRP                                 X               X       2   \n",
       "LBTEST_FERRITIN                            X               X       2   \n",
       "IETEST_Fever                           X   X                       2   \n",
       "VSTEST_OXYSAT                          X   X                       2   \n",
       "VSTEST_HEIGHT                          X   X                       2   \n",
       "LBTEST_AST                             X           X               2   \n",
       "LBTEST_BASEEXCS                        X   X                       2   \n",
       "IETEST_Cough                               X                       1   \n",
       "SACAT_PREVIOUS_COVID-19_INFECTION                  X               1   \n",
       "LBTEST_PCT                                         X               1   \n",
       "LBTEST_LACTICAC                                    X               1   \n",
       "LBTEST_INR                                         X               1   \n",
       "LBTEST_HCT                                         X               1   \n",
       "LBTEST_BILI                                        X               1   \n",
       "VSTEST_HR                                  X                       1   \n",
       "HODECOD                                            X               1   \n",
       "VSTEST_RESP                                X                       1   \n",
       "LBTEST_ALT                                 X                       1   \n",
       "LBTEST_WBC                                 X                       1   \n",
       "LBTEST_LYM                                 X                       1   \n",
       "VSTEST_CPLRFLT                                     X               1   \n",
       "\n",
       "                                    NA_percent  \n",
       "Feature                                         \n",
       "AGE                                        2.8  \n",
       "IETEST_Acute_Respiratory_Infection        20.9  \n",
       "LBTEST_PH                                 77.1  \n",
       "VSTEST_DIABP                               5.7  \n",
       "LBTEST_LDH                                84.4  \n",
       "LBTEST_APTT                               62.1  \n",
       "VSTEST_MAP                                86.7  \n",
       "LBTEST_UREAN                              21.0  \n",
       "LBTEST_SODIUM                             31.4  \n",
       "LBTEST_PT                                 60.1  \n",
       "LBTEST_PLAT                               12.4  \n",
       "VSTEST_SYSBP                               5.6  \n",
       "LBTEST_GLUC                               50.6  \n",
       "LBTEST_CREAT                              13.0  \n",
       "SACAT_COMORBIDITIES                        2.0  \n",
       "SACAT_COMPLICATIONS                        2.0  \n",
       "LBTEST_HGB                                13.4  \n",
       "LBTEST_APTTSTND                           88.2  \n",
       "MBTEST_OTHER RESPIRATORY PATHOGENS        91.1  \n",
       "LBTEST_NEUT                               33.7  \n",
       "INCLAS_VACCINES                            0.5  \n",
       "LBTEST_CRP                                36.5  \n",
       "LBTEST_FERRITIN                           86.3  \n",
       "IETEST_Fever                              20.5  \n",
       "VSTEST_OXYSAT                              7.1  \n",
       "VSTEST_HEIGHT                             93.3  \n",
       "LBTEST_AST                                82.8  \n",
       "LBTEST_BASEEXCS                           78.9  \n",
       "IETEST_Cough                              20.6  \n",
       "SACAT_PREVIOUS_COVID-19_INFECTION          2.0  \n",
       "LBTEST_PCT                                89.5  \n",
       "LBTEST_LACTICAC                           66.5  \n",
       "LBTEST_INR                                92.1  \n",
       "LBTEST_HCT                                86.4  \n",
       "LBTEST_BILI                               26.9  \n",
       "VSTEST_HR                                  5.9  \n",
       "HODECOD                                    0.0  \n",
       "VSTEST_RESP                                8.7  \n",
       "LBTEST_ALT                                29.2  \n",
       "LBTEST_WBC                                12.6  \n",
       "LBTEST_LYM                                33.4  \n",
       "VSTEST_CPLRFLT                            77.5  "
      ]
     },
     "execution_count": 55,
     "metadata": {},
     "output_type": "execute_result"
    }
   ],
   "source": [
    "# Convert list of features selected in pd.Series\n",
    "features_rfecv = pd.Series(features_rfecv)\n",
    "features_sfm = pd.Series(features_sfm)\n",
    "features_sfs_forward = pd.Series(features_sfs_forward)\n",
    "features_sfs_backward = pd.Series(features_sfs_backward)\n",
    "\n",
    "# List of all unique features selected for all methods\n",
    "features_all = pd.Series(pd.concat([features_rfecv, features_sfm, features_sfs_forward]).unique())  # features_sfs_backward\n",
    "\n",
    "# Test for each method if the given feature is selected for each feature in features_all\n",
    "test_rfecv = features_all.isin(features_rfecv)\n",
    "test_sfm = features_all.isin(features_sfm)\n",
    "test_sfs_forward = features_all.isin(features_sfs_forward)\n",
    "test_sfs_backward = features_all.isin(features_sfs_backward)\n",
    "\n",
    "# Construct dataframe\n",
    "df_comparison = pd.DataFrame(list(zip(features_all, test_rfecv, test_sfm, test_sfs_forward, test_sfs_backward)), # test_sfs_backward\n",
    "                             columns =['Feature', 'rfecv', 'sfm', 'sfs_fwd', 'sfs_bkd']) # 'sfs_bkd'\n",
    "\n",
    "# Add column with number of True\n",
    "df_comparison['Number'] = df_comparison.sum(axis=1)\n",
    "\n",
    "# Sort values\n",
    "df_comparison = df_comparison.sort_values(by='Number', ascending=False) \\\n",
    "                             .replace({False:\"\", True:\"X\"})\n",
    "\n",
    "# Add number of NA for each column for the whole original dataframe\n",
    "df_comparison['NA_percent'] = NA_in_cols.loc[df_comparison.set_index('Feature').index, 'NA_percent'].tolist()\n",
    "\n",
    "\n",
    "# Display comparison\n",
    "df_comparison.set_index('Feature')"
   ]
  },
  {
   "cell_type": "markdown",
   "id": "ec995fcd-33b7-41d8-8ba6-26ad5fd83c3e",
   "metadata": {},
   "source": [
    "**Discussion**: **=> !!!TODO!!!**  \n",
    "Discuter des features à garder en fonction du tableau au dessus, des NA, de la littérature, etc...  \n",
    "Commenter/argumenter/critiquer..."
   ]
  },
  {
   "cell_type": "code",
   "execution_count": 56,
   "id": "bf7f11ac-cf55-47b7-b030-7d5f4a21f4ea",
   "metadata": {},
   "outputs": [
    {
     "data": {
      "text/html": [
       "<div>\n",
       "<style scoped>\n",
       "    .dataframe tbody tr th:only-of-type {\n",
       "        vertical-align: middle;\n",
       "    }\n",
       "\n",
       "    .dataframe tbody tr th {\n",
       "        vertical-align: top;\n",
       "    }\n",
       "\n",
       "    .dataframe thead th {\n",
       "        text-align: right;\n",
       "    }\n",
       "</style>\n",
       "<table border=\"1\" class=\"dataframe\">\n",
       "  <thead>\n",
       "    <tr style=\"text-align: right;\">\n",
       "      <th></th>\n",
       "      <th>HODECOD</th>\n",
       "      <th>IETEST_Acute_Respiratory_Infection</th>\n",
       "      <th>INCLAS_VACCINES</th>\n",
       "      <th>SACAT_COMORBIDITIES</th>\n",
       "      <th>SACAT_COMPLICATIONS</th>\n",
       "      <th>SACAT_PREVIOUS_COVID-19_INFECTION</th>\n",
       "      <th>MBTEST_OTHER RESPIRATORY PATHOGENS</th>\n",
       "      <th>AGE</th>\n",
       "      <th>LBTEST_APTT</th>\n",
       "      <th>LBTEST_AST</th>\n",
       "      <th>...</th>\n",
       "      <th>LBTEST_HCT</th>\n",
       "      <th>LBTEST_HGB</th>\n",
       "      <th>LBTEST_INR</th>\n",
       "      <th>LBTEST_LACTICAC</th>\n",
       "      <th>LBTEST_LDH</th>\n",
       "      <th>LBTEST_PCT</th>\n",
       "      <th>LBTEST_PT</th>\n",
       "      <th>VSTEST_CPLRFLT</th>\n",
       "      <th>VSTEST_DIABP</th>\n",
       "      <th>DSDECOD</th>\n",
       "    </tr>\n",
       "  </thead>\n",
       "  <tbody>\n",
       "    <tr>\n",
       "      <th>0</th>\n",
       "      <td>1.0</td>\n",
       "      <td>0.0</td>\n",
       "      <td>1.0</td>\n",
       "      <td>1.0</td>\n",
       "      <td>1.0</td>\n",
       "      <td>0.0</td>\n",
       "      <td>0.0</td>\n",
       "      <td>1.160639</td>\n",
       "      <td>-0.079327</td>\n",
       "      <td>-0.058478</td>\n",
       "      <td>...</td>\n",
       "      <td>0.151193</td>\n",
       "      <td>-0.297221</td>\n",
       "      <td>-0.094140</td>\n",
       "      <td>-0.087076</td>\n",
       "      <td>-0.077041</td>\n",
       "      <td>-0.091185</td>\n",
       "      <td>-0.154999</td>\n",
       "      <td>0.0</td>\n",
       "      <td>-1.410237</td>\n",
       "      <td>0.0</td>\n",
       "    </tr>\n",
       "    <tr>\n",
       "      <th>1</th>\n",
       "      <td>1.0</td>\n",
       "      <td>1.0</td>\n",
       "      <td>0.0</td>\n",
       "      <td>1.0</td>\n",
       "      <td>1.0</td>\n",
       "      <td>0.0</td>\n",
       "      <td>0.0</td>\n",
       "      <td>0.648660</td>\n",
       "      <td>-0.079327</td>\n",
       "      <td>-0.058478</td>\n",
       "      <td>...</td>\n",
       "      <td>0.151193</td>\n",
       "      <td>-0.038149</td>\n",
       "      <td>-0.094140</td>\n",
       "      <td>-0.100020</td>\n",
       "      <td>-0.077041</td>\n",
       "      <td>-0.091185</td>\n",
       "      <td>-0.154999</td>\n",
       "      <td>0.0</td>\n",
       "      <td>1.241241</td>\n",
       "      <td>0.0</td>\n",
       "    </tr>\n",
       "    <tr>\n",
       "      <th>2</th>\n",
       "      <td>1.0</td>\n",
       "      <td>0.0</td>\n",
       "      <td>0.0</td>\n",
       "      <td>1.0</td>\n",
       "      <td>1.0</td>\n",
       "      <td>0.0</td>\n",
       "      <td>0.0</td>\n",
       "      <td>0.648660</td>\n",
       "      <td>-0.079327</td>\n",
       "      <td>0.104826</td>\n",
       "      <td>...</td>\n",
       "      <td>-0.626112</td>\n",
       "      <td>-0.027354</td>\n",
       "      <td>-0.082164</td>\n",
       "      <td>-0.096424</td>\n",
       "      <td>-0.077041</td>\n",
       "      <td>-0.093052</td>\n",
       "      <td>-0.154999</td>\n",
       "      <td>0.0</td>\n",
       "      <td>-0.390437</td>\n",
       "      <td>0.0</td>\n",
       "    </tr>\n",
       "  </tbody>\n",
       "</table>\n",
       "<p>3 rows × 21 columns</p>\n",
       "</div>"
      ],
      "text/plain": [
       "   HODECOD  IETEST_Acute_Respiratory_Infection  INCLAS_VACCINES  \\\n",
       "0      1.0                                 0.0              1.0   \n",
       "1      1.0                                 1.0              0.0   \n",
       "2      1.0                                 0.0              0.0   \n",
       "\n",
       "   SACAT_COMORBIDITIES  SACAT_COMPLICATIONS  \\\n",
       "0                  1.0                  1.0   \n",
       "1                  1.0                  1.0   \n",
       "2                  1.0                  1.0   \n",
       "\n",
       "   SACAT_PREVIOUS_COVID-19_INFECTION  MBTEST_OTHER RESPIRATORY PATHOGENS  \\\n",
       "0                                0.0                                 0.0   \n",
       "1                                0.0                                 0.0   \n",
       "2                                0.0                                 0.0   \n",
       "\n",
       "        AGE  LBTEST_APTT  LBTEST_AST  ...  LBTEST_HCT  LBTEST_HGB  LBTEST_INR  \\\n",
       "0  1.160639    -0.079327   -0.058478  ...    0.151193   -0.297221   -0.094140   \n",
       "1  0.648660    -0.079327   -0.058478  ...    0.151193   -0.038149   -0.094140   \n",
       "2  0.648660    -0.079327    0.104826  ...   -0.626112   -0.027354   -0.082164   \n",
       "\n",
       "   LBTEST_LACTICAC  LBTEST_LDH  LBTEST_PCT  LBTEST_PT  VSTEST_CPLRFLT  \\\n",
       "0        -0.087076   -0.077041   -0.091185  -0.154999             0.0   \n",
       "1        -0.100020   -0.077041   -0.091185  -0.154999             0.0   \n",
       "2        -0.096424   -0.077041   -0.093052  -0.154999             0.0   \n",
       "\n",
       "   VSTEST_DIABP  DSDECOD  \n",
       "0     -1.410237      0.0  \n",
       "1      1.241241      0.0  \n",
       "2     -0.390437      0.0  \n",
       "\n",
       "[3 rows x 21 columns]"
      ]
     },
     "execution_count": 56,
     "metadata": {},
     "output_type": "execute_result"
    }
   ],
   "source": [
    "# Choose columns we want to keep to then test models\n",
    "\n",
    "features_toKeep = features_sfs_forward\n",
    "\n",
    "X_selection_train = X_train[features_toKeep]\n",
    "X_selection_test = X_test[features_toKeep]\n",
    "df_selection_train = pd.concat([X_selection_train, y_train], axis=1)\n",
    "df_selection_test = pd.concat([X_selection_test, y_test], axis=1)\n",
    "\n",
    "df_selection_train.head(3)"
   ]
  },
  {
   "cell_type": "code",
   "execution_count": 57,
   "id": "aab11006-a70d-4baa-8b79-5dd36dfddbb1",
   "metadata": {},
   "outputs": [
    {
     "data": {
      "text/plain": [
       "(140, 21)"
      ]
     },
     "execution_count": 57,
     "metadata": {},
     "output_type": "execute_result"
    }
   ],
   "source": [
    "df_selection_train.shape"
   ]
  },
  {
   "cell_type": "code",
   "execution_count": 58,
   "id": "534048c7-8fbb-4393-b565-a02801a70688",
   "metadata": {},
   "outputs": [],
   "source": [
    "# Save \n",
    "name_file_train = 'df_final_II-FeaturesSelection_train_' + name_classifier + '.csv'\n",
    "name_file_test = 'df_final_II-FeaturesSelection_test_' + name_classifier + '.csv'\n",
    "df_selection_train.to_csv(op.join(data_folder, name_file_train))\n",
    "df_selection_test.to_csv(op.join(data_folder, name_file_test))\n",
    "# File that contains the data for only the features we want to keep. Features are already fill for NA and also standardized."
   ]
  },
  {
   "cell_type": "code",
   "execution_count": 72,
   "id": "21235fac-0aee-44fe-a478-a936b9921af8",
   "metadata": {},
   "outputs": [
    {
     "name": "stderr",
     "output_type": "stream",
     "text": [
      "C:\\Users\\felic\\AppData\\Local\\Temp\\ipykernel_30472\\2018013143.py:2: FutureWarning: The series.append method is deprecated and will be removed from pandas in a future version. Use pandas.concat instead.\n",
      "  df_asia[features_toKeep.append(pd.Series('DSDECOD'))].to_csv(op.join(data_folder, 'df_asia.csv'))\n",
      "C:\\Users\\felic\\AppData\\Local\\Temp\\ipykernel_30472\\2018013143.py:3: FutureWarning: The series.append method is deprecated and will be removed from pandas in a future version. Use pandas.concat instead.\n",
      "  df_africa[features_toKeep.append(pd.Series('DSDECOD'))].to_csv(op.join(data_folder, 'df_africa.csv'))\n",
      "C:\\Users\\felic\\AppData\\Local\\Temp\\ipykernel_30472\\2018013143.py:4: FutureWarning: The series.append method is deprecated and will be removed from pandas in a future version. Use pandas.concat instead.\n",
      "  df_south_america[features_toKeep.append(pd.Series('DSDECOD'))].to_csv(op.join(data_folder, 'df_south_america.csv'))\n",
      "C:\\Users\\felic\\AppData\\Local\\Temp\\ipykernel_30472\\2018013143.py:5: FutureWarning: The series.append method is deprecated and will be removed from pandas in a future version. Use pandas.concat instead.\n",
      "  df_north_america[features_toKeep.append(pd.Series('DSDECOD'))].to_csv(op.join(data_folder, 'df_north_america.csv'))\n",
      "C:\\Users\\felic\\AppData\\Local\\Temp\\ipykernel_30472\\2018013143.py:6: FutureWarning: The series.append method is deprecated and will be removed from pandas in a future version. Use pandas.concat instead.\n",
      "  df_oceania[features_toKeep.append(pd.Series('DSDECOD'))].to_csv(op.join(data_folder, 'df_oceania.csv'))\n"
     ]
    }
   ],
   "source": [
    "# Save other continents\n",
    "df_asia[features_toKeep.append(pd.Series('DSDECOD'))].to_csv(op.join(data_folder, 'df_asia.csv'))\n",
    "df_africa[features_toKeep.append(pd.Series('DSDECOD'))].to_csv(op.join(data_folder, 'df_africa.csv'))\n",
    "df_south_america[features_toKeep.append(pd.Series('DSDECOD'))].to_csv(op.join(data_folder, 'df_south_america.csv'))\n",
    "df_north_america[features_toKeep.append(pd.Series('DSDECOD'))].to_csv(op.join(data_folder, 'df_north_america.csv'))\n",
    "df_oceania[features_toKeep.append(pd.Series('DSDECOD'))].to_csv(op.join(data_folder, 'df_oceania.csv'))"
   ]
  },
  {
   "cell_type": "code",
   "execution_count": null,
   "id": "a07f13d9-1884-4fa5-b436-4f29f717824c",
   "metadata": {},
   "outputs": [],
   "source": []
  }
 ],
 "metadata": {
  "kernelspec": {
   "display_name": "Python 3 (ipykernel)",
   "language": "python",
   "name": "python3"
  },
  "language_info": {
   "codemirror_mode": {
    "name": "ipython",
    "version": 3
   },
   "file_extension": ".py",
   "mimetype": "text/x-python",
   "name": "python",
   "nbconvert_exporter": "python",
   "pygments_lexer": "ipython3",
   "version": "3.8.13"
  }
 },
 "nbformat": 4,
 "nbformat_minor": 5
}
