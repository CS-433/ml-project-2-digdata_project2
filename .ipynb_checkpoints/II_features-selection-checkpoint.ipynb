{
 "cells": [
  {
   "cell_type": "markdown",
   "id": "2d7cf7eb-95cb-4bfd-a458-5b0e936c0ecc",
   "metadata": {},
   "source": [
    "# Project 2: Covid ---> II/ Features selection"
   ]
  },
  {
   "cell_type": "markdown",
   "id": "5bcacb1e-2531-48b0-9e61-a42a7020f6f9",
   "metadata": {},
   "source": [
    "The objective of this file is to choose which features to keep from the matrix extracted from the \"I_data-selection\" file, using several algorithms.\n",
    "This will give us the final matrix to test the models in the \"III_models-and-predictions\" file."
   ]
  },
  {
   "cell_type": "code",
   "execution_count": 1,
   "id": "bb52b52f",
   "metadata": {},
   "outputs": [],
   "source": [
    "# Import\n",
    "%matplotlib inline\n",
    "\n",
    "import os\n",
    "import os.path as op\n",
    "from matplotlib import pyplot as plt\n",
    "import numpy as np\n",
    "import pandas as pd\n",
    "from scipy import stats\n",
    "import seaborn as sns\n",
    "\n",
    "from sklearn.model_selection import train_test_split\n",
    "from sklearn.impute import SimpleImputer\n",
    "from sklearn.preprocessing import StandardScaler\n",
    "\n",
    "from sklearn.model_selection import StratifiedKFold\n",
    "from sklearn.feature_selection import RFECV\n",
    "from sklearn.datasets import make_classification\n",
    "from sklearn.feature_selection import SelectFromModel\n",
    "from sklearn.feature_selection import SequentialFeatureSelector\n",
    "from sklearn.linear_model import RidgeCV\n",
    "\n",
    "from sklearn.linear_model import LogisticRegression\n",
    "from sklearn.neighbors import KNeighborsClassifier\n",
    "from sklearn import svm\n",
    "from sklearn.neural_network import MLPClassifier\n",
    "from sklearn.discriminant_analysis import QuadraticDiscriminantAnalysis\n",
    "import xgboost as xgb\n",
    "\n",
    "%load_ext autoreload\n",
    "%autoreload 2"
   ]
  },
  {
   "cell_type": "markdown",
   "id": "d335d506-d93a-479f-8edf-7e73b8df28fb",
   "metadata": {},
   "source": [
    "**Our prediction will be about death or not when a patient is covid positive => Thus our y matrix will be the DSDECOD column.**"
   ]
  },
  {
   "cell_type": "markdown",
   "id": "53c7bd53",
   "metadata": {},
   "source": [
    "## 1. Loading the data after 'I-DataSelection\""
   ]
  },
  {
   "cell_type": "code",
   "execution_count": 2,
   "id": "f10cf33e",
   "metadata": {},
   "outputs": [],
   "source": [
    "# Open file\n",
    "data_folder = op.join(os.getcwd(), \"data\", \"results\")\n",
    "mylist = []\n",
    "for chunk in pd.read_csv(op.join(data_folder, 'df_final_I-DataSelection.csv'), sep=',', low_memory=False, chunksize=5000, index_col=0):\n",
    "    mylist.append(chunk)\n",
    "df = pd.concat(mylist, axis=0)\n",
    "df.name = 'df'\n",
    "del mylist"
   ]
  },
  {
   "cell_type": "code",
   "execution_count": 3,
   "id": "818b46ca-e029-4066-9de0-4c6a409603d8",
   "metadata": {},
   "outputs": [
    {
     "data": {
      "text/plain": [
       "(601915, 104)"
      ]
     },
     "execution_count": 3,
     "metadata": {},
     "output_type": "execute_result"
    }
   ],
   "source": [
    "df.shape"
   ]
  },
  {
   "cell_type": "markdown",
   "id": "62b4e136-99cc-4deb-a3ec-61402d61f281",
   "metadata": {},
   "source": [
    "## 2. Premilinary features selection based on the meaning"
   ]
  },
  {
   "cell_type": "markdown",
   "id": "b9b07e32-b34b-48e1-9f17-945cdaa9d304",
   "metadata": {},
   "source": [
    "Some columns seem to be more relevant than others for training purposes: we will delete some columns that we consider not very useful at first.\n",
    "\n",
    "As a reminder, this is the main types of information we have:\n",
    "- **DM = Demographics** --> 'AGE', 'SEX', 'CONTINENT_AF', 'CONTINENT_AS', 'CONTINENT_EU', 'CONTINENT_NA', 'CONTINENT_OC', 'CONTINENT_SA'\n",
    "- **DS = Disposition** --> 'DSDECOD'\n",
    "- **HO = Healthcare Encounters** --> 'HODECOD'\n",
    "- **IE = Inclusion/Exclusion Criteria** --> 'IETEST_Acute_Respiratory_Infection', 'IETEST_Cough', 'IETEST_Covid_ICU', 'IETEST_Covid_admission', 'IETEST_Dyspnoea_Tachypnoea', 'IETEST_Fever', 'IETEST_Inflammatory_MultiSystem_Syndrome', 'IETEST_noCovid_ICU'\n",
    "- **IN = Treatments and Interventions** --> 'INCLAS_AGENTS_ACTING_ON_THE_RENIN-ANGIOTENSIN_SYSTEM', 'INCLAS_ANTIBACTERIALS_FOR_SYSTEMIC_USE', etc..., 'INCLAS_VACCINES'\n",
    "- **LB = Laboratory Results** --> 'LBTEST_ALB', 'LBTEST_ALP', etc..., 'LBTEST_WBC'\n",
    "- **MB = Microbiology Specimen** --> 'MBTEST_ADENOVIRUS', 'MBTEST_BACTERIA', 'MBTEST_CORONAVIRUS', 'MBTEST_INFLUENZA', 'MBTEST_OTHER PATHOGENS', 'MBTEST_OTHER RESPIRATORY PATHOGENS', 'MBTEST_RSV\n",
    "- **RP = Reproductive System Findings** --> 'RPSTRESC'\n",
    "- **RS = Disease Response and Clinical Classification** --> 'RSCAT_AVPU', 'RSCAT_BLANTYRE_COMA_SCALE', 'RSCAT_CLINICAL_FRAILTY_SCORE', 'RSCAT_GCS_NINDS_VERSION', 'RSCAT_ICU_MOBILITY_SCALE', 'RSCAT_PRISM_III', 'RSCAT_RASS', 'RSCAT_SAPS_II', 'RSCAT_SAS', 'RSCAT_SOFA'\n",
    "- **SA = Clinical and Adverse Events** --> 'SACAT_COMORBIDITIES', 'SACAT_COMPLICATIONS', 'SACAT_PREVIOUS_COVID-19_INFECTION'\n",
    "- **SC = Subject Characteristics** --> 'SCTEST_Appropriate_Developmental_Age_Indicator', 'SCTEST_Breast_Fed_Indicator', 'SCTEST_Infant_Less_Than_One_Year_Indicator', 'SCTEST_Premature_Birth_Indicator'\n",
    "- **VS = Vital Signs** --> 'VSTEST_BMI', 'VSTEST_BRTHWT', etc..., 'VSTEST_WEIGHT'\n",
    "\n",
    "First we can keep only information from:\n",
    "- DM = Demographics\n",
    "- DS = Disposition\n",
    "- HO = Healthcare Encounters\n",
    "- IE  = Inclusion/Exclusion Criteria (only 'IETEST_Acute_Respiratory_Infection', 'IETEST_Cough', 'IETEST_Fever'\n",
    "- IN  = Treatments and Interventions (only 'INCLAS_VACCINES')\n",
    "- LB = Laboratory Results\n",
    "- MB = Microbiology Specimen\n",
    "- SA = Clinical and Adverse Events\n",
    "- VS = Vital Signs"
   ]
  },
  {
   "cell_type": "code",
   "execution_count": 4,
   "id": "7105c292-9af2-4907-a1f2-91e2a17fadd6",
   "metadata": {},
   "outputs": [
    {
     "data": {
      "text/plain": [
       "(601915, 56)"
      ]
     },
     "execution_count": 4,
     "metadata": {},
     "output_type": "execute_result"
    }
   ],
   "source": [
    "# Keep only columns we want to continue the training\n",
    "\n",
    "preliminary_selection = ['AGE', 'SEX', 'CONTINENT_AF', 'CONTINENT_AS', 'CONTINENT_EU', 'CONTINENT_NA', 'CONTINENT_OC', 'CONTINENT_SA',\n",
    "                         'DSDECOD',\n",
    "                         'HODECOD',\n",
    "                         'IETEST_Acute_Respiratory_Infection', 'IETEST_Cough', 'IETEST_Fever',\n",
    "                         'INCLAS_VACCINES',\n",
    "                         'SACAT_COMORBIDITIES', 'SACAT_COMPLICATIONS', 'SACAT_PREVIOUS_COVID-19_INFECTION'] \\\n",
    "                        + df.filter(regex='^LB',axis=1).columns.tolist() \\\n",
    "                        + df.filter(regex='^MB',axis=1).columns.tolist() \\\n",
    "                        + df.filter(regex='^VS',axis=1).columns.tolist()\n",
    "\n",
    "df = df[preliminary_selection]\n",
    "df.shape"
   ]
  },
  {
   "cell_type": "code",
   "execution_count": 5,
   "id": "16d72df3",
   "metadata": {},
   "outputs": [
    {
     "data": {
      "text/plain": [
       "(601915, 56)"
      ]
     },
     "execution_count": 5,
     "metadata": {},
     "output_type": "execute_result"
    }
   ],
   "source": [
    "# Verify that there is no column with too many NA (more then 99%) after I-DataSelection\n",
    "df.dropna(thresh = int((100-1)*(len(df.columns)/100)), inplace=True, axis=1)\n",
    "df.shape"
   ]
  },
  {
   "cell_type": "markdown",
   "id": "dbe38de5",
   "metadata": {},
   "source": [
    "## 3. Stratification per continent"
   ]
  },
  {
   "cell_type": "markdown",
   "id": "75811252-0ff1-4d47-a9ab-d0a762e03cbb",
   "metadata": {},
   "source": [
    "Initially, we will build the model on patients who only come from one continent. We can then subsequently test whether the model is applicable to patients from other continents."
   ]
  },
  {
   "cell_type": "code",
   "execution_count": 6,
   "id": "7180478e",
   "metadata": {},
   "outputs": [],
   "source": [
    "continent_list = ['CONTINENT_AF', 'CONTINENT_AS', 'CONTINENT_EU','CONTINENT_NA', 'CONTINENT_OC', 'CONTINENT_SA']"
   ]
  },
  {
   "cell_type": "code",
   "execution_count": 7,
   "id": "57b2c51f",
   "metadata": {},
   "outputs": [
    {
     "name": "stdout",
     "output_type": "stream",
     "text": [
      "Data size AFRICA: (489653, 50)\n",
      "Data size ASIA: (7883, 50)\n",
      "Data size EUROPE: (92087, 50)\n",
      "Data size NORTH AMERICA: (6074, 50)\n",
      "Data size SOUTH AMERICA: (6180, 50)\n",
      "Data size OCEANIA: (34, 50)\n"
     ]
    },
    {
     "name": "stderr",
     "output_type": "stream",
     "text": [
      "C:\\Users\\felic\\AppData\\Local\\Temp\\ipykernel_14624\\3539693600.py:5: SettingWithCopyWarning: \n",
      "A value is trying to be set on a copy of a slice from a DataFrame\n",
      "\n",
      "See the caveats in the documentation: https://pandas.pydata.org/pandas-docs/stable/user_guide/indexing.html#returning-a-view-versus-a-copy\n",
      "  df_africa.drop(continent_list, axis=1, inplace=True)\n",
      "C:\\Users\\felic\\AppData\\Local\\Temp\\ipykernel_14624\\3539693600.py:9: SettingWithCopyWarning: \n",
      "A value is trying to be set on a copy of a slice from a DataFrame\n",
      "\n",
      "See the caveats in the documentation: https://pandas.pydata.org/pandas-docs/stable/user_guide/indexing.html#returning-a-view-versus-a-copy\n",
      "  df_asia.drop(continent_list, axis=1, inplace=True)\n",
      "C:\\Users\\felic\\AppData\\Local\\Temp\\ipykernel_14624\\3539693600.py:13: SettingWithCopyWarning: \n",
      "A value is trying to be set on a copy of a slice from a DataFrame\n",
      "\n",
      "See the caveats in the documentation: https://pandas.pydata.org/pandas-docs/stable/user_guide/indexing.html#returning-a-view-versus-a-copy\n",
      "  df_europe.drop(continent_list, axis=1, inplace=True)\n",
      "C:\\Users\\felic\\AppData\\Local\\Temp\\ipykernel_14624\\3539693600.py:17: SettingWithCopyWarning: \n",
      "A value is trying to be set on a copy of a slice from a DataFrame\n",
      "\n",
      "See the caveats in the documentation: https://pandas.pydata.org/pandas-docs/stable/user_guide/indexing.html#returning-a-view-versus-a-copy\n",
      "  df_south_america.drop(continent_list, axis=1, inplace=True)\n",
      "C:\\Users\\felic\\AppData\\Local\\Temp\\ipykernel_14624\\3539693600.py:21: SettingWithCopyWarning: \n",
      "A value is trying to be set on a copy of a slice from a DataFrame\n",
      "\n",
      "See the caveats in the documentation: https://pandas.pydata.org/pandas-docs/stable/user_guide/indexing.html#returning-a-view-versus-a-copy\n",
      "  df_north_america.drop(continent_list, axis=1, inplace=True)\n",
      "C:\\Users\\felic\\AppData\\Local\\Temp\\ipykernel_14624\\3539693600.py:25: SettingWithCopyWarning: \n",
      "A value is trying to be set on a copy of a slice from a DataFrame\n",
      "\n",
      "See the caveats in the documentation: https://pandas.pydata.org/pandas-docs/stable/user_guide/indexing.html#returning-a-view-versus-a-copy\n",
      "  df_oceania.drop(continent_list, axis=1, inplace=True)\n"
     ]
    }
   ],
   "source": [
    "# Split data accordint to the continents to investigate a little bit more...\n",
    "\n",
    "# Afrique\n",
    "df_africa = df[df['CONTINENT_AF']==1]\n",
    "df_africa.drop(continent_list, axis=1, inplace=True)\n",
    "\n",
    "# Asia\n",
    "df_asia = df[df['CONTINENT_AS']==1]\n",
    "df_asia.drop(continent_list, axis=1, inplace=True)\n",
    "\n",
    "# Europe\n",
    "df_europe = df[df['CONTINENT_EU']==1]\n",
    "df_europe.drop(continent_list, axis=1, inplace=True) \n",
    "\n",
    "# South america\n",
    "df_south_america = df[df['CONTINENT_SA']==1]\n",
    "df_south_america.drop(continent_list, axis=1, inplace=True) \n",
    "\n",
    "# North america\n",
    "df_north_america = df[df['CONTINENT_NA']==1]\n",
    "df_north_america.drop(continent_list, axis=1, inplace=True) \n",
    "\n",
    "# Oceania \n",
    "df_oceania = df[df['CONTINENT_OC']==1]\n",
    "df_oceania.drop(continent_list, axis=1, inplace=True) \n",
    "\n",
    "# Relative size of each slice of data\n",
    "print(f\"Data size AFRICA: {df_africa.shape}\")\n",
    "print(f\"Data size ASIA: {df_asia.shape}\")\n",
    "print(f\"Data size EUROPE: {df_europe.shape}\")\n",
    "print(f\"Data size NORTH AMERICA: {df_north_america.shape}\")\n",
    "print(f\"Data size SOUTH AMERICA: {df_south_america.shape}\")\n",
    "print(f\"Data size OCEANIA: {df_oceania.shape}\")"
   ]
  },
  {
   "cell_type": "code",
   "execution_count": 8,
   "id": "f46ea0c5",
   "metadata": {},
   "outputs": [
    {
     "data": {
      "image/png": "[encoded data removed]",
      "text/plain": [
       "<Figure size 1200x800 with 6 Axes>"
      ]
     },
     "metadata": {},
     "output_type": "display_data"
    }
   ],
   "source": [
    "# Plot the repartition of the missing data for each continent\n",
    "\n",
    "fig, axs = plt.subplots(3, 2, figsize=(12, 8), sharex=True)\n",
    "\n",
    "null_values = df_europe.isnull().mean().sort_values(ascending=False)*100\n",
    "null_values = null_values[null_values>0]\n",
    "sns.barplot(x=null_values.index, y=null_values.values, ax=axs[0,0]).set_title('Null values pourcentage EUROPE')\n",
    "\n",
    "null_values = df_asia.isnull().mean().sort_values(ascending=False)*100\n",
    "null_values = null_values[null_values>0]\n",
    "sns.barplot(x=null_values.index, y=null_values.values, ax=axs[0,1]).set_title('Null values pourcentage ASIA')\n",
    "\n",
    "null_values = df_africa.isnull().mean().sort_values(ascending=False)*100\n",
    "null_values = null_values[null_values>0]\n",
    "sns.barplot(x=null_values.index, y=null_values.values, ax = axs[1,0]).set_title('Null values pourcentage AFRICA')\n",
    "\n",
    "null_values = df_oceania.isnull().mean().sort_values(ascending=False)*100\n",
    "null_values = null_values[null_values>0]\n",
    "sns.barplot(x=null_values.index, y=null_values.values, ax=axs[1,1]).set_title('Null values pourcentage OCEANIA')\n",
    "\n",
    "null_values = df_south_america.isnull().mean().sort_values(ascending=False)*100\n",
    "null_values = null_values[null_values>0]\n",
    "sns.barplot(x=null_values.index, y=null_values.values, ax=axs[2,0]).set_title('Null values pourcentage SOUTH AMERICA')\n",
    "\n",
    "null_values = df_north_america.isnull().mean().sort_values(ascending=False)*100\n",
    "null_values = null_values[null_values>0]\n",
    "sns.barplot(x=null_values.index, y=null_values.values, ax=axs[2,1]).set_title('Null values pourcentage NORTH AMERICA')\n",
    "\n",
    "for ax in axs.flatten():\n",
    "    plt.sca(ax)\n",
    "    plt.xticks(rotation=45, fontsize=5)"
   ]
  },
  {
   "cell_type": "markdown",
   "id": "706c22c5",
   "metadata": {},
   "source": [
    "By taking into account the number of value and the repartition of the missing data, we will compute our model on the European dataset."
   ]
  },
  {
   "cell_type": "code",
   "execution_count": 9,
   "id": "a125b8c2",
   "metadata": {},
   "outputs": [
    {
     "data": {
      "text/plain": [
       "0.0    56405\n",
       "1.0    23647\n",
       "NaN    12035\n",
       "Name: DSDECOD, dtype: int64"
      ]
     },
     "execution_count": 9,
     "metadata": {},
     "output_type": "execute_result"
    }
   ],
   "source": [
    "# Check if the dataset is balanced or not\n",
    "df_europe['DSDECOD'].value_counts(dropna = False)"
   ]
  },
  {
   "cell_type": "code",
   "execution_count": 10,
   "id": "f1ccdd01",
   "metadata": {},
   "outputs": [
    {
     "data": {
      "text/plain": [
       "(92087, 49)"
      ]
     },
     "execution_count": 10,
     "metadata": {},
     "output_type": "execute_result"
    }
   ],
   "source": [
    "# Keep only Europe for model building + remove columns with more then 99% of NA\n",
    "df = df_europe\n",
    "df.dropna(thresh = int((100-1)*(len(df.columns)/100)), inplace=True, axis=1)\n",
    "df.shape"
   ]
  },
  {
   "cell_type": "markdown",
   "id": "340b91f8",
   "metadata": {},
   "source": [
    "## 4 . Splitting into training and test sets"
   ]
  },
  {
   "cell_type": "code",
   "execution_count": 11,
   "id": "6178c34e",
   "metadata": {},
   "outputs": [],
   "source": [
    "# Keep number of NA per columns of original dataframe \n",
    "NA_in_cols = pd.DataFrame(round(df.isna().sum()*100/len(df),1), columns=['NA_percent'])"
   ]
  },
  {
   "cell_type": "code",
   "execution_count": 12,
   "id": "bb4495b1",
   "metadata": {},
   "outputs": [
    {
     "data": {
      "text/plain": [
       "0"
      ]
     },
     "execution_count": 12,
     "metadata": {},
     "output_type": "execute_result"
    }
   ],
   "source": [
    "# Delete row where DSDECOD is NA (because y = DSDECOD)\n",
    "# These rows cannot be used for training or testing\n",
    "df = df[df.DSDECOD.notna()]\n",
    "df.DSDECOD.isna().sum()"
   ]
  },
  {
   "cell_type": "code",
   "execution_count": 13,
   "id": "215e46f9-a76b-4700-ad92-cd56211009db",
   "metadata": {},
   "outputs": [
    {
     "data": {
      "text/plain": [
       "0.0    56405\n",
       "1.0    23647\n",
       "Name: DSDECOD, dtype: int64"
      ]
     },
     "execution_count": 13,
     "metadata": {},
     "output_type": "execute_result"
    }
   ],
   "source": [
    "df.DSDECOD.value_counts()"
   ]
  },
  {
   "cell_type": "code",
   "execution_count": 14,
   "id": "30f5aaba",
   "metadata": {},
   "outputs": [],
   "source": [
    "# Take a sample of the data\n",
    "# And we force a 50/50 split for the DSDECOD values\n",
    "df_noSample = df.copy() \n",
    "df = df.groupby(by = \"DSDECOD\").sample(n=23000, replace=False, random_state=42)"
   ]
  },
  {
   "cell_type": "code",
   "execution_count": 15,
   "id": "b64a62e9",
   "metadata": {},
   "outputs": [],
   "source": [
    "# Split into training and test sets\n",
    "df_train, df_test = train_test_split(df, test_size=0.3, random_state=16)"
   ]
  },
  {
   "cell_type": "code",
   "execution_count": 16,
   "id": "1c6f0496",
   "metadata": {},
   "outputs": [
    {
     "name": "stdout",
     "output_type": "stream",
     "text": [
      "(140, 49)\n",
      "(60, 49)\n"
     ]
    }
   ],
   "source": [
    "print(df_train.shape)\n",
    "print(df_test.shape)"
   ]
  },
  {
   "cell_type": "markdown",
   "id": "84604b62",
   "metadata": {},
   "source": [
    "## 5. Pre-processing of the data"
   ]
  },
  {
   "cell_type": "markdown",
   "id": "df7066fb-7d19-4efd-8345-17979744cfb0",
   "metadata": {},
   "source": [
    "During pre-processing of the data, categorical and continuous features will be treated differently."
   ]
  },
  {
   "cell_type": "code",
   "execution_count": 17,
   "id": "38825e07",
   "metadata": {},
   "outputs": [],
   "source": [
    "# Do the list of the name of categorical columns\n",
    "categorical = ['DSDECOD',\n",
    "               'SEX',\n",
    "               'CONTINENT_AF', 'CONTINENT_AS', 'CONTINENT_EU', 'CONTINENT_NA', 'CONTINENT_OC', 'CONTINENT_SA',\n",
    "               'HODECOD', \n",
    "               'IETEST_Acute_Respiratory_Infection', 'IETEST_Cough', 'IETEST_Covid_ICU', 'IETEST_Covid_admission', 'IETEST_Dyspnoea_Tachypnoea', 'IETEST_Fever', \n",
    "               'IETEST_Inflammatory_MultiSystem_Syndrome', 'IETEST_noCovid_ICU',               \n",
    "               'INCLAS_AGENTS_ACTING_ON_THE_RENIN-ANGIOTENSIN_SYSTEM', 'INCLAS_ANALGESICS', 'INCLAS_ANESTHETICS', \n",
    "               'INCLAS_ANTIBACTERIALS_FOR_SYSTEMIC_USE', 'INCLAS_ANTIHELMINTICS', 'INCLAS_ANTIINFLAMMATORY_AND_ANTIRHEUMATIC_PRODUCTS,_NON-STEROIDS',\n",
    "               'INCLAS_ANTIMALARIALS', 'INCLAS_ANTIMYCOTICS_FOR_SYSTEMIC_USE', 'INCLAS_ANTITHROMBOTIC_AGENTS',\n",
    "               'INCLAS_ANTIVIRALS_FOR_SYSTEMIC_USE', 'INCLAS_ARTIFICIAL_RESPIRATION', 'INCLAS_BETA_BLOCKING_AGENTS',\n",
    "               'INCLAS_BLOOD_SUBSTITUTES_AND_PERFUSION_SOLUTIONS', 'INCLAS_BRONCHOSCOPY', 'INCLAS_CARDIAC_PACING',\n",
    "               'INCLAS_CARDIAC_THERAPY', 'INCLAS_CARDIOPULMONARY_RESUSCITATION', 'INCLAS_CHEMOTHERAPY', 'INCLAS_CORTICOSTEROIDS_FOR_SYSTEMIC_USE',\n",
    "               'INCLAS_DIURETICS', 'INCLAS_DRUGS_FOR_ACID_RELATED_DISORDERS', 'INCLAS_DRUGS_FOR_OBSTRUCTIVE_AIRWAY_DISEASES', 'INCLAS_EXTRACORPOREAL_MEMBRANE_OXYGENATION', \n",
    "               'INCLAS_HIGH_FLOW_OXYGEN_NASAL_CANNULA', 'INCLAS_IMMUNOGLOBULINS', 'INCLAS_IMMUNOSTIMULANTS', 'INCLAS_IMMUNOSUPPRESSANTS', \n",
    "               'INCLAS_INSERTION_OF_TRACHEOSTOMY_TUBE', 'INCLAS_INTUBATION', 'INCLAS_LIPID_MODIFYING_AGENTS', 'INCLAS_MUSCLE_RELAXANTS', \n",
    "               'INCLAS_NONINVASIVE_POSITIVE_PRESSURE_VENTILATION', 'INCLAS_NONINVASIVE_VENTILATION', 'INCLAS_OTHER_RESPIRATORY_SYSTEM_PRODUCTS', \n",
    "               'INCLAS_OXYGEN', 'INCLAS_PERCUTANEOUS_ENDOSCOPIC_GASTROSTOMY', 'INCLAS_PRONE_BODY_POSITION', 'INCLAS_PSYCHOLEPTICS', \n",
    "               'INCLAS_REMOVAL_OF_ENDOTRACHEAL_TUBE', 'INCLAS_RENAL_REPLACEMENT', 'INCLAS_REPLACEMENT_AGENT', 'INCLAS_TOTAL_PARENTERAL_NUTRITION', \n",
    "               'INCLAS_TRANSFUSION_OF_BLOOD_PRODUCT', 'INCLAS_VACCINES', \n",
    "               'MBTEST_ADENOVIRUS', 'MBTEST_BACTERIA','MBTEST_INFLUENZA', 'MBTEST_MB_SEVERE_ACUTE_RESP_SYND_CORONAVIRUS', 'MBTEST_OTHER PATHOGENS', \n",
    "               'MBTEST_OTHER RESPIRATORY PATHOGENS', 'MBTEST_RSV', \n",
    "               'RPSTRESC', \n",
    "               'RSCAT_AVPU', \n",
    "               'SACAT_COMORBIDITIES', 'SACAT_COMPLICATIONS', 'SACAT_PREVIOUS_COVID-19_INFECTION', \n",
    "               'SCTEST_Appropriate_Developmental_Age_Indicator', 'SCTEST_Breast_Fed_Indicator', 'SCTEST_Infant_Less_Than_One_Year_Indicator', \n",
    "               'SCTEST_Premature_Birth_Indicator']"
   ]
  },
  {
   "cell_type": "code",
   "execution_count": 18,
   "id": "5bd2536e-70bc-4621-9b54-01ce0cdcbead",
   "metadata": {},
   "outputs": [],
   "source": [
    "# First for some columns in particular, it is more \"logical\" to put 0 (baseline) to fill NA\n",
    "\n",
    "NA_to_0 = ['HODECOD', \n",
    "           'IETEST_Acute_Respiratory_Infection', 'IETEST_Cough', 'IETEST_Covid_ICU', 'IETEST_Covid_admission', 'IETEST_Dyspnoea_Tachypnoea', 'IETEST_Fever', \n",
    "           'IETEST_Inflammatory_MultiSystem_Syndrome', 'IETEST_noCovid_ICU',  \n",
    "           'INCLAS_AGENTS_ACTING_ON_THE_RENIN-ANGIOTENSIN_SYSTEM', 'INCLAS_ANALGESICS', 'INCLAS_ANESTHETICS', \n",
    "           'INCLAS_ANTIBACTERIALS_FOR_SYSTEMIC_USE', 'INCLAS_ANTIHELMINTICS', 'INCLAS_ANTIINFLAMMATORY_AND_ANTIRHEUMATIC_PRODUCTS,_NON-STEROIDS',\n",
    "           'INCLAS_ANTIMALARIALS', 'INCLAS_ANTIMYCOTICS_FOR_SYSTEMIC_USE', 'INCLAS_ANTITHROMBOTIC_AGENTS',\n",
    "           'INCLAS_ANTIVIRALS_FOR_SYSTEMIC_USE', 'INCLAS_ARTIFICIAL_RESPIRATION', 'INCLAS_BETA_BLOCKING_AGENTS',\n",
    "           'INCLAS_BLOOD_SUBSTITUTES_AND_PERFUSION_SOLUTIONS', 'INCLAS_BRONCHOSCOPY', 'INCLAS_CARDIAC_PACING',\n",
    "           'INCLAS_CARDIAC_THERAPY', 'INCLAS_CARDIOPULMONARY_RESUSCITATION', 'INCLAS_CHEMOTHERAPY', 'INCLAS_CORTICOSTEROIDS_FOR_SYSTEMIC_USE',\n",
    "           'INCLAS_DIURETICS', 'INCLAS_DRUGS_FOR_ACID_RELATED_DISORDERS', 'INCLAS_DRUGS_FOR_OBSTRUCTIVE_AIRWAY_DISEASES', 'INCLAS_EXTRACORPOREAL_MEMBRANE_OXYGENATION', \n",
    "           'INCLAS_HIGH_FLOW_OXYGEN_NASAL_CANNULA', 'INCLAS_IMMUNOGLOBULINS', 'INCLAS_IMMUNOSTIMULANTS', 'INCLAS_IMMUNOSUPPRESSANTS', \n",
    "           'INCLAS_INSERTION_OF_TRACHEOSTOMY_TUBE', 'INCLAS_INTUBATION', 'INCLAS_LIPID_MODIFYING_AGENTS', 'INCLAS_MUSCLE_RELAXANTS', \n",
    "           'INCLAS_NONINVASIVE_POSITIVE_PRESSURE_VENTILATION', 'INCLAS_NONINVASIVE_VENTILATION', 'INCLAS_OTHER_RESPIRATORY_SYSTEM_PRODUCTS', \n",
    "           'INCLAS_OXYGEN', 'INCLAS_PERCUTANEOUS_ENDOSCOPIC_GASTROSTOMY', 'INCLAS_PRONE_BODY_POSITION', 'INCLAS_PSYCHOLEPTICS', \n",
    "           'INCLAS_REMOVAL_OF_ENDOTRACHEAL_TUBE', 'INCLAS_RENAL_REPLACEMENT', 'INCLAS_REPLACEMENT_AGENT', 'INCLAS_TOTAL_PARENTERAL_NUTRITION', \n",
    "           'INCLAS_TRANSFUSION_OF_BLOOD_PRODUCT', 'INCLAS_VACCINES', \n",
    "           'MBTEST_ADENOVIRUS', 'MBTEST_BACTERIA','MBTEST_INFLUENZA', 'MBTEST_MB_SEVERE_ACUTE_RESP_SYND_CORONAVIRUS', 'MBTEST_OTHER PATHOGENS', \n",
    "           'MBTEST_OTHER RESPIRATORY PATHOGENS', 'MBTEST_RSV', \n",
    "           'RPSTRESC', \n",
    "           'RSCAT_AVPU', \n",
    "           'SACAT_COMORBIDITIES', 'SACAT_COMPLICATIONS']"
   ]
  },
  {
   "cell_type": "code",
   "execution_count": 19,
   "id": "ed67874a",
   "metadata": {},
   "outputs": [],
   "source": [
    "# Fill NA and standardize\n",
    "\n",
    "def preProcess(df_train, df_test, categorical, NA_to_0) :\n",
    "    \n",
    "    # 1. Replace NA by 0 in NA_to_0 columns\n",
    "    \n",
    "    df_train[df_train.columns[df_train.columns.isin(NA_to_0)]] = df_train[df_train.columns[df_train.columns.isin(NA_to_0)]].fillna(0)\n",
    "    df_test[df_test.columns[df_test.columns.isin(NA_to_0)]] = df_test[df_test.columns[df_test.columns.isin(NA_to_0)]].fillna(0)\n",
    "    \n",
    "    # 2. Separate in categorical and continuous columns\n",
    "    \n",
    "    df_train_cat = df_train[df_train.columns[df_train.columns.isin(categorical)]]\n",
    "    df_train_con = df_train[df_train.columns[~df_train.columns.isin(categorical)]]\n",
    "    df_test_cat = df_test[df_test.columns[df_test.columns.isin(categorical)]]\n",
    "    df_test_con = df_test[df_test.columns[~df_test.columns.isin(categorical)]]\n",
    "    \n",
    "    cols_cat = df_train_cat.columns\n",
    "    cols_con = df_train_con.columns\n",
    "    \n",
    "    # 3. Fill the missing values \n",
    "        \n",
    "        # For categorical variables\n",
    "    imp_cat = SimpleImputer(strategy = \"most_frequent\")\n",
    "    imp_cat = imp_cat.fit(df_train_cat)\n",
    "    \n",
    "    df_train_cat = imp_cat.transform(df_train_cat)\n",
    "    df_test_cat = imp_cat.transform(df_test_cat)\n",
    "    df_train_cat = pd.DataFrame(df_train_cat, columns=cols_cat)\n",
    "    df_test_cat = pd.DataFrame(df_test_cat, columns=cols_cat)\n",
    "    \n",
    "        # For continuous variables\n",
    "    imp_con = SimpleImputer(strategy = \"median\")\n",
    "    imp_con = imp_con.fit(df_train_con)\n",
    "    \n",
    "    df_train_con = imp_con.transform(df_train_con)\n",
    "    df_test_con = imp_con.transform(df_test_con)\n",
    "    df_train_con = pd.DataFrame(df_train_con, columns=cols_con)\n",
    "    df_test_con = pd.DataFrame(df_test_con, columns=cols_con)\n",
    "\n",
    "    # 4. Standardization of continuous data\n",
    "    \n",
    "    scaler = StandardScaler()\n",
    "    scaler = scaler.fit(df_train_con)\n",
    "    \n",
    "    df_train_con = scaler.transform(df_train_con)\n",
    "    df_test_con = scaler.transform(df_test_con)\n",
    "    df_train_con = pd.DataFrame(df_train_con, columns=cols_con)\n",
    "    df_test_con = pd.DataFrame(df_test_con, columns=cols_con)\n",
    "    \n",
    "    # 5. Creation of X and y matrixes\n",
    "    \n",
    "    df_train = pd.concat([df_train_cat, df_train_con], axis=1)\n",
    "    df_test = pd.concat([df_test_cat, df_test_con], axis=1)\n",
    "    \n",
    "    X_train = df_train.loc[:, df_train.columns!='DSDECOD']\n",
    "    y_train = df_train['DSDECOD']\n",
    "    X_test = df_test.loc[:, df_test.columns!='DSDECOD']\n",
    "    y_test = df_test['DSDECOD']\n",
    "    \n",
    "    # 6. Get feature names\n",
    "    \n",
    "    feature_names = df_train.loc[:, df_train.columns!='DSDECOD'].columns\n",
    "    \n",
    "    return X_train, y_train, X_test, y_test, feature_names"
   ]
  },
  {
   "cell_type": "code",
   "execution_count": 20,
   "id": "5e45a5ec",
   "metadata": {},
   "outputs": [
    {
     "name": "stderr",
     "output_type": "stream",
     "text": [
      "C:\\Users\\felic\\anaconda3\\envs\\ada\\lib\\site-packages\\sklearn\\impute\\_base.py:49: FutureWarning: Unlike other reduction functions (e.g. `skew`, `kurtosis`), the default behavior of `mode` typically preserves the axis it acts along. In SciPy 1.11.0, this behavior will change: the default value of `keepdims` will become False, the `axis` over which the statistic is taken will be eliminated, and the value None will no longer be accepted. Set `keepdims` to True or False to avoid this warning.\n",
      "  mode = stats.mode(array)\n"
     ]
    }
   ],
   "source": [
    "X_train, y_train, X_test, y_test, features = preProcess(df_train, df_test, categorical, NA_to_0) "
   ]
  },
  {
   "cell_type": "markdown",
   "id": "c92ce6ba-3a64-48e8-9697-3e42de3ea8a9",
   "metadata": {},
   "source": [
    "## 6. Feature selection algorithms"
   ]
  },
  {
   "cell_type": "markdown",
   "id": "241e5f57",
   "metadata": {},
   "source": [
    "Les propositions sont faites à partir de: https://scikit-learn.org/stable/modules/feature_selection.html"
   ]
  },
  {
   "cell_type": "code",
   "execution_count": 21,
   "id": "d980e495",
   "metadata": {},
   "outputs": [],
   "source": [
    "# /!\\ CHOOSE THE CLASSIFIER /!\\\n",
    "classifier = LogisticRegression()\n",
    "name_classifier = 'LogisticRegression' # give the name of the classifier (str) to save the file at the end\n",
    "\n",
    "# /!\\ CHOOSE THE MINIMUM NUMBER OF FEATURES TO CONSIDER /!\\\n",
    "min_features_to_select = 15 \n",
    "\n",
    "# List of possible classifiers :\n",
    "# These are the classifiers we will test in the file \"III_models-and-presdictions\"\n",
    "    # LogisticRegression()\n",
    "    # KNeighborsClassifier()\n",
    "    # svm.SVC()\n",
    "    # MLPClassifier()\n",
    "    # QuadraticDiscriminantAnalysis()\n",
    "    # xgb.XGBClassifier(objective=\"binary:logistic\", random_state=42)"
   ]
  },
  {
   "cell_type": "markdown",
   "id": "d415debb",
   "metadata": {
    "tags": []
   },
   "source": [
    "### 6.1. Recursive feature elimination (RFE) with cross-validation"
   ]
  },
  {
   "cell_type": "code",
   "execution_count": 22,
   "id": "18e4d7d2-3a6a-45d2-983e-b040fb779046",
   "metadata": {},
   "outputs": [
    {
     "data": {
      "text/plain": [
       "RFECV(cv=StratifiedKFold(n_splits=4, random_state=None, shuffle=False),\n",
       "      estimator=LogisticRegression(), min_features_to_select=15, scoring='f1')"
      ]
     },
     "execution_count": 22,
     "metadata": {},
     "output_type": "execute_result"
    }
   ],
   "source": [
    "# Create the RFE object and compute a cross-validated score\n",
    "rfecv = RFECV(estimator=classifier,\n",
    "              step=1,\n",
    "              cv=StratifiedKFold(4),\n",
    "              scoring='f1',\n",
    "              min_features_to_select=min_features_to_select)\n",
    "rfecv.fit(X_train, y_train)"
   ]
  },
  {
   "cell_type": "code",
   "execution_count": 23,
   "id": "f19d5aa5-6da9-4fd0-9656-f8bc538be112",
   "metadata": {},
   "outputs": [
    {
     "name": "stdout",
     "output_type": "stream",
     "text": [
      "Optimal number of features : 15\n"
     ]
    },
    {
     "name": "stderr",
     "output_type": "stream",
     "text": [
      "C:\\Users\\felic\\anaconda3\\envs\\ada\\lib\\site-packages\\sklearn\\utils\\deprecation.py:103: FutureWarning: The `grid_scores_` attribute is deprecated in version 1.0 in favor of `cv_results_` and will be removed in version 1.2.\n",
      "  warnings.warn(msg, category=FutureWarning)\n"
     ]
    },
    {
     "data": {
      "image/png": "[encoded data removed]",
      "text/plain": [
       "<Figure size 640x480 with 1 Axes>"
      ]
     },
     "metadata": {},
     "output_type": "display_data"
    }
   ],
   "source": [
    "# Optimal number of features\n",
    "print(\"Optimal number of features : %d\" % rfecv.n_features_)\n",
    "\n",
    "# Plot number of features VS. cross-validation scores\n",
    "plt.figure()\n",
    "plt.xlabel(\"Number of features selected\")\n",
    "plt.ylabel(\"Cross validation score (f1_score)\")\n",
    "plt.plot(range(min_features_to_select, len(rfecv.grid_scores_) + min_features_to_select),\n",
    "         rfecv.grid_scores_)\n",
    "plt.show()"
   ]
  },
  {
   "cell_type": "code",
   "execution_count": 24,
   "id": "926c02d6-3eea-4036-b5ee-a0512f0732b5",
   "metadata": {},
   "outputs": [
    {
     "data": {
      "text/html": [
       "<div>\n",
       "<style scoped>\n",
       "    .dataframe tbody tr th:only-of-type {\n",
       "        vertical-align: middle;\n",
       "    }\n",
       "\n",
       "    .dataframe tbody tr th {\n",
       "        vertical-align: top;\n",
       "    }\n",
       "\n",
       "    .dataframe thead th {\n",
       "        text-align: right;\n",
       "    }\n",
       "</style>\n",
       "<table border=\"1\" class=\"dataframe\">\n",
       "  <thead>\n",
       "    <tr style=\"text-align: right;\">\n",
       "      <th></th>\n",
       "      <th>Feature</th>\n",
       "      <th>Rank</th>\n",
       "    </tr>\n",
       "  </thead>\n",
       "  <tbody>\n",
       "    <tr>\n",
       "      <th>41</th>\n",
       "      <td>VSTEST_HR</td>\n",
       "      <td>1</td>\n",
       "    </tr>\n",
       "    <tr>\n",
       "      <th>19</th>\n",
       "      <td>LBTEST_CREAT</td>\n",
       "      <td>1</td>\n",
       "    </tr>\n",
       "    <tr>\n",
       "      <th>30</th>\n",
       "      <td>LBTEST_NEUT</td>\n",
       "      <td>1</td>\n",
       "    </tr>\n",
       "    <tr>\n",
       "      <th>34</th>\n",
       "      <td>LBTEST_PT</td>\n",
       "      <td>1</td>\n",
       "    </tr>\n",
       "    <tr>\n",
       "      <th>13</th>\n",
       "      <td>LBTEST_APTTSTND</td>\n",
       "      <td>1</td>\n",
       "    </tr>\n",
       "    <tr>\n",
       "      <th>10</th>\n",
       "      <td>AGE</td>\n",
       "      <td>1</td>\n",
       "    </tr>\n",
       "    <tr>\n",
       "      <th>9</th>\n",
       "      <td>MBTEST_OTHER RESPIRATORY PATHOGENS</td>\n",
       "      <td>1</td>\n",
       "    </tr>\n",
       "    <tr>\n",
       "      <th>45</th>\n",
       "      <td>VSTEST_SYSBP</td>\n",
       "      <td>1</td>\n",
       "    </tr>\n",
       "    <tr>\n",
       "      <th>36</th>\n",
       "      <td>LBTEST_UREAN</td>\n",
       "      <td>1</td>\n",
       "    </tr>\n",
       "    <tr>\n",
       "      <th>6</th>\n",
       "      <td>SACAT_COMORBIDITIES</td>\n",
       "      <td>1</td>\n",
       "    </tr>\n",
       "    <tr>\n",
       "      <th>4</th>\n",
       "      <td>IETEST_Fever</td>\n",
       "      <td>1</td>\n",
       "    </tr>\n",
       "    <tr>\n",
       "      <th>2</th>\n",
       "      <td>IETEST_Acute_Respiratory_Infection</td>\n",
       "      <td>1</td>\n",
       "    </tr>\n",
       "    <tr>\n",
       "      <th>39</th>\n",
       "      <td>VSTEST_DIABP</td>\n",
       "      <td>1</td>\n",
       "    </tr>\n",
       "    <tr>\n",
       "      <th>7</th>\n",
       "      <td>SACAT_COMPLICATIONS</td>\n",
       "      <td>1</td>\n",
       "    </tr>\n",
       "    <tr>\n",
       "      <th>24</th>\n",
       "      <td>LBTEST_HGB</td>\n",
       "      <td>1</td>\n",
       "    </tr>\n",
       "    <tr>\n",
       "      <th>43</th>\n",
       "      <td>VSTEST_OXYSAT</td>\n",
       "      <td>2</td>\n",
       "    </tr>\n",
       "    <tr>\n",
       "      <th>33</th>\n",
       "      <td>LBTEST_PLAT</td>\n",
       "      <td>3</td>\n",
       "    </tr>\n",
       "    <tr>\n",
       "      <th>25</th>\n",
       "      <td>LBTEST_INR</td>\n",
       "      <td>4</td>\n",
       "    </tr>\n",
       "    <tr>\n",
       "      <th>40</th>\n",
       "      <td>VSTEST_HEIGHT</td>\n",
       "      <td>5</td>\n",
       "    </tr>\n",
       "    <tr>\n",
       "      <th>22</th>\n",
       "      <td>LBTEST_GLUC</td>\n",
       "      <td>6</td>\n",
       "    </tr>\n",
       "    <tr>\n",
       "      <th>5</th>\n",
       "      <td>INCLAS_VACCINES</td>\n",
       "      <td>7</td>\n",
       "    </tr>\n",
       "    <tr>\n",
       "      <th>42</th>\n",
       "      <td>VSTEST_MAP</td>\n",
       "      <td>8</td>\n",
       "    </tr>\n",
       "    <tr>\n",
       "      <th>32</th>\n",
       "      <td>LBTEST_PH</td>\n",
       "      <td>9</td>\n",
       "    </tr>\n",
       "    <tr>\n",
       "      <th>31</th>\n",
       "      <td>LBTEST_PCT</td>\n",
       "      <td>10</td>\n",
       "    </tr>\n",
       "    <tr>\n",
       "      <th>20</th>\n",
       "      <td>LBTEST_CRP</td>\n",
       "      <td>11</td>\n",
       "    </tr>\n",
       "    <tr>\n",
       "      <th>21</th>\n",
       "      <td>LBTEST_FERRITIN</td>\n",
       "      <td>12</td>\n",
       "    </tr>\n",
       "    <tr>\n",
       "      <th>15</th>\n",
       "      <td>LBTEST_BASEEXCS</td>\n",
       "      <td>13</td>\n",
       "    </tr>\n",
       "    <tr>\n",
       "      <th>12</th>\n",
       "      <td>LBTEST_APTT</td>\n",
       "      <td>14</td>\n",
       "    </tr>\n",
       "    <tr>\n",
       "      <th>11</th>\n",
       "      <td>LBTEST_ALT</td>\n",
       "      <td>15</td>\n",
       "    </tr>\n",
       "    <tr>\n",
       "      <th>18</th>\n",
       "      <td>LBTEST_CK</td>\n",
       "      <td>16</td>\n",
       "    </tr>\n",
       "    <tr>\n",
       "      <th>29</th>\n",
       "      <td>LBTEST_LYM</td>\n",
       "      <td>17</td>\n",
       "    </tr>\n",
       "    <tr>\n",
       "      <th>17</th>\n",
       "      <td>LBTEST_BILI</td>\n",
       "      <td>18</td>\n",
       "    </tr>\n",
       "    <tr>\n",
       "      <th>26</th>\n",
       "      <td>LBTEST_K</td>\n",
       "      <td>19</td>\n",
       "    </tr>\n",
       "    <tr>\n",
       "      <th>16</th>\n",
       "      <td>LBTEST_BICARB</td>\n",
       "      <td>20</td>\n",
       "    </tr>\n",
       "    <tr>\n",
       "      <th>27</th>\n",
       "      <td>LBTEST_LACTICAC</td>\n",
       "      <td>21</td>\n",
       "    </tr>\n",
       "    <tr>\n",
       "      <th>28</th>\n",
       "      <td>LBTEST_LDH</td>\n",
       "      <td>22</td>\n",
       "    </tr>\n",
       "    <tr>\n",
       "      <th>3</th>\n",
       "      <td>IETEST_Cough</td>\n",
       "      <td>23</td>\n",
       "    </tr>\n",
       "    <tr>\n",
       "      <th>37</th>\n",
       "      <td>LBTEST_WBC</td>\n",
       "      <td>24</td>\n",
       "    </tr>\n",
       "    <tr>\n",
       "      <th>44</th>\n",
       "      <td>VSTEST_RESP</td>\n",
       "      <td>25</td>\n",
       "    </tr>\n",
       "    <tr>\n",
       "      <th>1</th>\n",
       "      <td>HODECOD</td>\n",
       "      <td>26</td>\n",
       "    </tr>\n",
       "  </tbody>\n",
       "</table>\n",
       "</div>"
      ],
      "text/plain": [
       "                               Feature  Rank\n",
       "41                           VSTEST_HR     1\n",
       "19                        LBTEST_CREAT     1\n",
       "30                         LBTEST_NEUT     1\n",
       "34                           LBTEST_PT     1\n",
       "13                     LBTEST_APTTSTND     1\n",
       "10                                 AGE     1\n",
       "9   MBTEST_OTHER RESPIRATORY PATHOGENS     1\n",
       "45                        VSTEST_SYSBP     1\n",
       "36                        LBTEST_UREAN     1\n",
       "6                  SACAT_COMORBIDITIES     1\n",
       "4                         IETEST_Fever     1\n",
       "2   IETEST_Acute_Respiratory_Infection     1\n",
       "39                        VSTEST_DIABP     1\n",
       "7                  SACAT_COMPLICATIONS     1\n",
       "24                          LBTEST_HGB     1\n",
       "43                       VSTEST_OXYSAT     2\n",
       "33                         LBTEST_PLAT     3\n",
       "25                          LBTEST_INR     4\n",
       "40                       VSTEST_HEIGHT     5\n",
       "22                         LBTEST_GLUC     6\n",
       "5                      INCLAS_VACCINES     7\n",
       "42                          VSTEST_MAP     8\n",
       "32                           LBTEST_PH     9\n",
       "31                          LBTEST_PCT    10\n",
       "20                          LBTEST_CRP    11\n",
       "21                     LBTEST_FERRITIN    12\n",
       "15                     LBTEST_BASEEXCS    13\n",
       "12                         LBTEST_APTT    14\n",
       "11                          LBTEST_ALT    15\n",
       "18                           LBTEST_CK    16\n",
       "29                          LBTEST_LYM    17\n",
       "17                         LBTEST_BILI    18\n",
       "26                            LBTEST_K    19\n",
       "16                       LBTEST_BICARB    20\n",
       "27                     LBTEST_LACTICAC    21\n",
       "28                          LBTEST_LDH    22\n",
       "3                         IETEST_Cough    23\n",
       "37                          LBTEST_WBC    24\n",
       "44                         VSTEST_RESP    25\n",
       "1                              HODECOD    26"
      ]
     },
     "execution_count": 24,
     "metadata": {},
     "output_type": "execute_result"
    }
   ],
   "source": [
    "# See feature ranking\n",
    "df_rfecv = pd.DataFrame(list(zip(features, rfecv.ranking_)), columns =['Feature', 'Rank']).sort_values(by='Rank')\n",
    "df_rfecv.head(40)"
   ]
  },
  {
   "cell_type": "code",
   "execution_count": 25,
   "id": "c557925a-3de7-4fbe-83d9-868ea6be4315",
   "metadata": {},
   "outputs": [
    {
     "data": {
      "text/plain": [
       "Index(['IETEST_Acute_Respiratory_Infection', 'IETEST_Fever',\n",
       "       'SACAT_COMORBIDITIES', 'SACAT_COMPLICATIONS',\n",
       "       'MBTEST_OTHER RESPIRATORY PATHOGENS', 'AGE', 'LBTEST_APTTSTND',\n",
       "       'LBTEST_CREAT', 'LBTEST_HGB', 'LBTEST_NEUT', 'LBTEST_PT',\n",
       "       'LBTEST_UREAN', 'VSTEST_DIABP', 'VSTEST_HR', 'VSTEST_SYSBP'],\n",
       "      dtype='object')"
      ]
     },
     "execution_count": 25,
     "metadata": {},
     "output_type": "execute_result"
    }
   ],
   "source": [
    "# Colonnes selected\n",
    "features_rfecv = features[rfecv.support_]\n",
    "features_rfecv"
   ]
  },
  {
   "cell_type": "markdown",
   "id": "b8dd0fb4",
   "metadata": {
    "tags": []
   },
   "source": [
    "### 6.2. Sequential Feature Selection"
   ]
  },
  {
   "cell_type": "markdown",
   "id": "9b786242-0038-4065-a398-7974526360ae",
   "metadata": {},
   "source": [
    "We will test two approaches for feature selection: SelectFromModel which is based on feature importance, and SequentialFeatureSelection which relies on a greedy approach.\n",
    "\n",
    "*NB from Sklearn:*\n",
    "- In general, the two methods would lead to different results.\n",
    "- We also note that the features selected by SFS differ from those selected by feature importance.\n",
    "- To finish with, we should note that SelectFromModel is significantly faster than SFS. Indeed, SelectFromModel only needs to fit a model once, while SFS needs to cross-validate many different models for each of the iterations. SFS however works with any model, while SelectFromModel requires the underlying estimator to expose a coef_ attribute or a feature_importances_ attribute. The forward SFS is faster than the backward SFS because it only needs to perform n_features_to_select = 2 iterations, while the backward SFS needs to perform n_features - n_features_to_select = 8 iterations."
   ]
  },
  {
   "cell_type": "markdown",
   "id": "4b24ffbe-99ed-4d4a-b114-156db9cf7d8a",
   "metadata": {
    "tags": []
   },
   "source": [
    "#### 6.2.1. SelectFromModel"
   ]
  },
  {
   "cell_type": "markdown",
   "id": "d73c9435-02eb-4c3f-87a2-22d23afbcab0",
   "metadata": {},
   "source": [
    "Before using selectFromModel, we will get an idea of the importance of the features. The features with the highest absolute coef_ value are considered the most important."
   ]
  },
  {
   "cell_type": "code",
   "execution_count": 26,
   "id": "18d312c6-aaf2-4728-8e77-a6e1c600b2f2",
   "metadata": {},
   "outputs": [
    {
     "data": {
      "image/png": "[encoded data removed]",
      "text/plain": [
       "<Figure size 2500x700 with 1 Axes>"
      ]
     },
     "metadata": {},
     "output_type": "display_data"
    }
   ],
   "source": [
    "# Feature importance from coefficients\n",
    "\n",
    "importance_fit = classifier.fit(X_train, y_train)\n",
    "\n",
    "if len(importance_fit.coef_.tolist())>1:\n",
    "       importance = np.abs(importance_fit.coef_)  \n",
    "else:\n",
    "       importance = np.abs(importance_fit.coef_.tolist()[0])\n",
    "\n",
    "df_importance = pd.DataFrame(list(zip(features, importance)), columns =['Feature', 'Importance']).sort_values(by='Importance', ascending=False)\n",
    "\n",
    "plt.figure(figsize=(25, 7))\n",
    "plt.bar('Feature', 'Importance', data=df_importance)\n",
    "plt.title(\"Feature importances via coefficients\")\n",
    "plt.xticks(rotation=90)\n",
    "plt.show()"
   ]
  },
  {
   "cell_type": "code",
   "execution_count": 27,
   "id": "16947db8-e163-46ff-b57e-b8d725ed5eaf",
   "metadata": {},
   "outputs": [
    {
     "data": {
      "text/html": [
       "<div>\n",
       "<style scoped>\n",
       "    .dataframe tbody tr th:only-of-type {\n",
       "        vertical-align: middle;\n",
       "    }\n",
       "\n",
       "    .dataframe tbody tr th {\n",
       "        vertical-align: top;\n",
       "    }\n",
       "\n",
       "    .dataframe thead th {\n",
       "        text-align: right;\n",
       "    }\n",
       "</style>\n",
       "<table border=\"1\" class=\"dataframe\">\n",
       "  <thead>\n",
       "    <tr style=\"text-align: right;\">\n",
       "      <th></th>\n",
       "      <th>Feature</th>\n",
       "      <th>Importance</th>\n",
       "    </tr>\n",
       "  </thead>\n",
       "  <tbody>\n",
       "    <tr>\n",
       "      <th>36</th>\n",
       "      <td>LBTEST_UREAN</td>\n",
       "      <td>1.384338</td>\n",
       "    </tr>\n",
       "    <tr>\n",
       "      <th>10</th>\n",
       "      <td>AGE</td>\n",
       "      <td>0.929636</td>\n",
       "    </tr>\n",
       "    <tr>\n",
       "      <th>30</th>\n",
       "      <td>LBTEST_NEUT</td>\n",
       "      <td>0.905745</td>\n",
       "    </tr>\n",
       "    <tr>\n",
       "      <th>34</th>\n",
       "      <td>LBTEST_PT</td>\n",
       "      <td>0.884147</td>\n",
       "    </tr>\n",
       "    <tr>\n",
       "      <th>45</th>\n",
       "      <td>VSTEST_SYSBP</td>\n",
       "      <td>0.727027</td>\n",
       "    </tr>\n",
       "    <tr>\n",
       "      <th>2</th>\n",
       "      <td>IETEST_Acute_Respiratory_Infection</td>\n",
       "      <td>0.727019</td>\n",
       "    </tr>\n",
       "    <tr>\n",
       "      <th>19</th>\n",
       "      <td>LBTEST_CREAT</td>\n",
       "      <td>0.602364</td>\n",
       "    </tr>\n",
       "    <tr>\n",
       "      <th>13</th>\n",
       "      <td>LBTEST_APTTSTND</td>\n",
       "      <td>0.575408</td>\n",
       "    </tr>\n",
       "    <tr>\n",
       "      <th>4</th>\n",
       "      <td>IETEST_Fever</td>\n",
       "      <td>0.559063</td>\n",
       "    </tr>\n",
       "    <tr>\n",
       "      <th>33</th>\n",
       "      <td>LBTEST_PLAT</td>\n",
       "      <td>0.493476</td>\n",
       "    </tr>\n",
       "  </tbody>\n",
       "</table>\n",
       "</div>"
      ],
      "text/plain": [
       "                               Feature  Importance\n",
       "36                        LBTEST_UREAN    1.384338\n",
       "10                                 AGE    0.929636\n",
       "30                         LBTEST_NEUT    0.905745\n",
       "34                           LBTEST_PT    0.884147\n",
       "45                        VSTEST_SYSBP    0.727027\n",
       "2   IETEST_Acute_Respiratory_Infection    0.727019\n",
       "19                        LBTEST_CREAT    0.602364\n",
       "13                     LBTEST_APTTSTND    0.575408\n",
       "4                         IETEST_Fever    0.559063\n",
       "33                         LBTEST_PLAT    0.493476"
      ]
     },
     "execution_count": 27,
     "metadata": {},
     "output_type": "execute_result"
    }
   ],
   "source": [
    "# See feature ranking\n",
    "df_importance.head(10)"
   ]
  },
  {
   "cell_type": "markdown",
   "id": "e9e1b07c-b6b8-4768-a576-59f53f1302f4",
   "metadata": {},
   "source": [
    "Now we select features which are the most important according to the coefficients using SelectFromModel."
   ]
  },
  {
   "cell_type": "code",
   "execution_count": 28,
   "id": "68bc9e2c-3cc9-49c3-b776-555297c33306",
   "metadata": {},
   "outputs": [
    {
     "name": "stdout",
     "output_type": "stream",
     "text": [
      "Features selected by SelectFromModel: Index(['IETEST_Acute_Respiratory_Infection', 'IETEST_Fever', 'INCLAS_VACCINES',\n",
      "       'SACAT_COMORBIDITIES', 'SACAT_COMPLICATIONS',\n",
      "       'MBTEST_OTHER RESPIRATORY PATHOGENS', 'AGE', 'LBTEST_ALT',\n",
      "       'LBTEST_APTT', 'LBTEST_APTTSTND', 'LBTEST_BASEEXCS', 'LBTEST_BICARB',\n",
      "       'LBTEST_BILI', 'LBTEST_CK', 'LBTEST_CREAT', 'LBTEST_CRP',\n",
      "       'LBTEST_FERRITIN', 'LBTEST_GLUC', 'LBTEST_HGB', 'LBTEST_INR',\n",
      "       'LBTEST_LYM', 'LBTEST_NEUT', 'LBTEST_PCT', 'LBTEST_PH', 'LBTEST_PLAT',\n",
      "       'LBTEST_PT', 'LBTEST_UREAN', 'VSTEST_DIABP', 'VSTEST_HEIGHT',\n",
      "       'VSTEST_HR', 'VSTEST_MAP', 'VSTEST_OXYSAT', 'VSTEST_SYSBP'],\n",
      "      dtype='object')\n"
     ]
    }
   ],
   "source": [
    "# SelectFromModel\n",
    "\n",
    "threshold = np.sort(importance)[-35] + 0.01\n",
    "sfm = SelectFromModel(classifier, threshold=threshold).fit(X_train, y_train)\n",
    "\n",
    "features_sfm = features[sfm.get_support()]\n",
    "print(f\"Features selected by SelectFromModel: {features_sfm}\")"
   ]
  },
  {
   "cell_type": "code",
   "execution_count": 29,
   "id": "5046a749",
   "metadata": {},
   "outputs": [
    {
     "data": {
      "text/plain": [
       "33"
      ]
     },
     "execution_count": 29,
     "metadata": {},
     "output_type": "execute_result"
    }
   ],
   "source": [
    "len(features_sfm)"
   ]
  },
  {
   "cell_type": "markdown",
   "id": "ce3c1ce7-4e75-4a76-8ead-10011fcdaafd",
   "metadata": {
    "tags": []
   },
   "source": [
    "#### 6.2.2 SequentialFeatureSelection"
   ]
  },
  {
   "cell_type": "code",
   "execution_count": 30,
   "id": "e78e4de3-2de1-4b03-8aad-a0b1643e57c4",
   "metadata": {},
   "outputs": [],
   "source": [
    "# SequentialFeatureSelection\n",
    "sfs_forward = SequentialFeatureSelector(classifier, n_features_to_select=20, direction=\"forward\").fit(X_train, y_train)\n",
    "#sfs_backward = SequentialFeatureSelector(classifier, n_features_to_select=min_features_to_select, direction=\"backward\").fit(X_train, y_train)\n",
    "# sfs_backward is too long"
   ]
  },
  {
   "cell_type": "code",
   "execution_count": 31,
   "id": "4dd94ede-b103-49a4-918c-04a3e013acb9",
   "metadata": {},
   "outputs": [
    {
     "name": "stdout",
     "output_type": "stream",
     "text": [
      "Features selected by forward sequential selection:\n",
      " Index(['SEX', 'HODECOD', 'INCLAS_VACCINES', 'SACAT_COMORBIDITIES',\n",
      "       'SACAT_PREVIOUS_COVID-19_INFECTION',\n",
      "       'MBTEST_OTHER RESPIRATORY PATHOGENS', 'AGE', 'LBTEST_APTT',\n",
      "       'LBTEST_APTTSTND', 'LBTEST_AST', 'LBTEST_BASEEXCS', 'LBTEST_BICARB',\n",
      "       'LBTEST_BILI', 'LBTEST_CREAT', 'LBTEST_HCT', 'LBTEST_LACTICAC',\n",
      "       'LBTEST_PCT', 'VSTEST_CPLRFLT', 'VSTEST_DIABP', 'VSTEST_MAP'],\n",
      "      dtype='object')\n"
     ]
    }
   ],
   "source": [
    "# Features selected\n",
    "\n",
    "features_sfs_forward = features[sfs_forward.get_support()]\n",
    "print(\"Features selected by forward sequential selection:\\n \" f\"{features_sfs_forward}\")\n",
    "\n",
    "#print('------')\n",
    "\n",
    "#features_sfs_backward = features[sfs_backward.get_support()]\n",
    "#print(\"Features selected by backward sequential selection:\\n \" f\"{features_sfs_backward}\")"
   ]
  },
  {
   "cell_type": "markdown",
   "id": "e134fa36-57dc-4f0f-975d-006650a9305e",
   "metadata": {},
   "source": [
    "## 7. Conclusions and final features selection"
   ]
  },
  {
   "cell_type": "code",
   "execution_count": 33,
   "id": "612061f6-605d-4002-9c0b-876f8836bdfd",
   "metadata": {},
   "outputs": [
    {
     "name": "stderr",
     "output_type": "stream",
     "text": [
      "C:\\Users\\felic\\AppData\\Local\\Temp\\ipykernel_14624\\3199930371.py:21: FutureWarning: Dropping of nuisance columns in DataFrame reductions (with 'numeric_only=None') is deprecated; in a future version this will raise TypeError.  Select only valid columns before calling the reduction.\n",
      "  df_comparison['Number'] = df_comparison.sum(axis=1)\n"
     ]
    },
    {
     "data": {
      "text/html": [
       "<div>\n",
       "<style scoped>\n",
       "    .dataframe tbody tr th:only-of-type {\n",
       "        vertical-align: middle;\n",
       "    }\n",
       "\n",
       "    .dataframe tbody tr th {\n",
       "        vertical-align: top;\n",
       "    }\n",
       "\n",
       "    .dataframe thead th {\n",
       "        text-align: right;\n",
       "    }\n",
       "</style>\n",
       "<table border=\"1\" class=\"dataframe\">\n",
       "  <thead>\n",
       "    <tr style=\"text-align: right;\">\n",
       "      <th></th>\n",
       "      <th>rfecv</th>\n",
       "      <th>sfm</th>\n",
       "      <th>sfs_fwd</th>\n",
       "      <th>Number</th>\n",
       "      <th>NA_percent</th>\n",
       "    </tr>\n",
       "    <tr>\n",
       "      <th>Feature</th>\n",
       "      <th></th>\n",
       "      <th></th>\n",
       "      <th></th>\n",
       "      <th></th>\n",
       "      <th></th>\n",
       "    </tr>\n",
       "  </thead>\n",
       "  <tbody>\n",
       "    <tr>\n",
       "      <th>SACAT_COMORBIDITIES</th>\n",
       "      <td>X</td>\n",
       "      <td>X</td>\n",
       "      <td>X</td>\n",
       "      <td>3</td>\n",
       "      <td>2.0</td>\n",
       "    </tr>\n",
       "    <tr>\n",
       "      <th>MBTEST_OTHER RESPIRATORY PATHOGENS</th>\n",
       "      <td>X</td>\n",
       "      <td>X</td>\n",
       "      <td>X</td>\n",
       "      <td>3</td>\n",
       "      <td>91.1</td>\n",
       "    </tr>\n",
       "    <tr>\n",
       "      <th>AGE</th>\n",
       "      <td>X</td>\n",
       "      <td>X</td>\n",
       "      <td>X</td>\n",
       "      <td>3</td>\n",
       "      <td>2.8</td>\n",
       "    </tr>\n",
       "    <tr>\n",
       "      <th>LBTEST_APTTSTND</th>\n",
       "      <td>X</td>\n",
       "      <td>X</td>\n",
       "      <td>X</td>\n",
       "      <td>3</td>\n",
       "      <td>88.2</td>\n",
       "    </tr>\n",
       "    <tr>\n",
       "      <th>LBTEST_CREAT</th>\n",
       "      <td>X</td>\n",
       "      <td>X</td>\n",
       "      <td>X</td>\n",
       "      <td>3</td>\n",
       "      <td>13.0</td>\n",
       "    </tr>\n",
       "    <tr>\n",
       "      <th>VSTEST_DIABP</th>\n",
       "      <td>X</td>\n",
       "      <td>X</td>\n",
       "      <td>X</td>\n",
       "      <td>3</td>\n",
       "      <td>5.7</td>\n",
       "    </tr>\n",
       "    <tr>\n",
       "      <th>IETEST_Acute_Respiratory_Infection</th>\n",
       "      <td>X</td>\n",
       "      <td>X</td>\n",
       "      <td></td>\n",
       "      <td>2</td>\n",
       "      <td>20.9</td>\n",
       "    </tr>\n",
       "    <tr>\n",
       "      <th>INCLAS_VACCINES</th>\n",
       "      <td></td>\n",
       "      <td>X</td>\n",
       "      <td>X</td>\n",
       "      <td>2</td>\n",
       "      <td>0.5</td>\n",
       "    </tr>\n",
       "    <tr>\n",
       "      <th>VSTEST_MAP</th>\n",
       "      <td></td>\n",
       "      <td>X</td>\n",
       "      <td>X</td>\n",
       "      <td>2</td>\n",
       "      <td>86.7</td>\n",
       "    </tr>\n",
       "    <tr>\n",
       "      <th>LBTEST_PCT</th>\n",
       "      <td></td>\n",
       "      <td>X</td>\n",
       "      <td>X</td>\n",
       "      <td>2</td>\n",
       "      <td>89.5</td>\n",
       "    </tr>\n",
       "    <tr>\n",
       "      <th>IETEST_Fever</th>\n",
       "      <td>X</td>\n",
       "      <td>X</td>\n",
       "      <td></td>\n",
       "      <td>2</td>\n",
       "      <td>20.5</td>\n",
       "    </tr>\n",
       "    <tr>\n",
       "      <th>LBTEST_BICARB</th>\n",
       "      <td></td>\n",
       "      <td>X</td>\n",
       "      <td>X</td>\n",
       "      <td>2</td>\n",
       "      <td>89.0</td>\n",
       "    </tr>\n",
       "    <tr>\n",
       "      <th>LBTEST_BASEEXCS</th>\n",
       "      <td></td>\n",
       "      <td>X</td>\n",
       "      <td>X</td>\n",
       "      <td>2</td>\n",
       "      <td>78.9</td>\n",
       "    </tr>\n",
       "    <tr>\n",
       "      <th>LBTEST_APTT</th>\n",
       "      <td></td>\n",
       "      <td>X</td>\n",
       "      <td>X</td>\n",
       "      <td>2</td>\n",
       "      <td>62.1</td>\n",
       "    </tr>\n",
       "    <tr>\n",
       "      <th>LBTEST_BILI</th>\n",
       "      <td></td>\n",
       "      <td>X</td>\n",
       "      <td>X</td>\n",
       "      <td>2</td>\n",
       "      <td>26.9</td>\n",
       "    </tr>\n",
       "    <tr>\n",
       "      <th>VSTEST_SYSBP</th>\n",
       "      <td>X</td>\n",
       "      <td>X</td>\n",
       "      <td></td>\n",
       "      <td>2</td>\n",
       "      <td>5.6</td>\n",
       "    </tr>\n",
       "    <tr>\n",
       "      <th>LBTEST_PT</th>\n",
       "      <td>X</td>\n",
       "      <td>X</td>\n",
       "      <td></td>\n",
       "      <td>2</td>\n",
       "      <td>60.1</td>\n",
       "    </tr>\n",
       "    <tr>\n",
       "      <th>SACAT_COMPLICATIONS</th>\n",
       "      <td>X</td>\n",
       "      <td>X</td>\n",
       "      <td></td>\n",
       "      <td>2</td>\n",
       "      <td>2.0</td>\n",
       "    </tr>\n",
       "    <tr>\n",
       "      <th>LBTEST_NEUT</th>\n",
       "      <td>X</td>\n",
       "      <td>X</td>\n",
       "      <td></td>\n",
       "      <td>2</td>\n",
       "      <td>33.7</td>\n",
       "    </tr>\n",
       "    <tr>\n",
       "      <th>LBTEST_HGB</th>\n",
       "      <td>X</td>\n",
       "      <td>X</td>\n",
       "      <td></td>\n",
       "      <td>2</td>\n",
       "      <td>13.4</td>\n",
       "    </tr>\n",
       "    <tr>\n",
       "      <th>LBTEST_UREAN</th>\n",
       "      <td>X</td>\n",
       "      <td>X</td>\n",
       "      <td></td>\n",
       "      <td>2</td>\n",
       "      <td>21.0</td>\n",
       "    </tr>\n",
       "    <tr>\n",
       "      <th>VSTEST_HR</th>\n",
       "      <td>X</td>\n",
       "      <td>X</td>\n",
       "      <td></td>\n",
       "      <td>2</td>\n",
       "      <td>5.9</td>\n",
       "    </tr>\n",
       "    <tr>\n",
       "      <th>LBTEST_CK</th>\n",
       "      <td></td>\n",
       "      <td>X</td>\n",
       "      <td></td>\n",
       "      <td>1</td>\n",
       "      <td>86.2</td>\n",
       "    </tr>\n",
       "    <tr>\n",
       "      <th>LBTEST_LACTICAC</th>\n",
       "      <td></td>\n",
       "      <td></td>\n",
       "      <td>X</td>\n",
       "      <td>1</td>\n",
       "      <td>66.5</td>\n",
       "    </tr>\n",
       "    <tr>\n",
       "      <th>LBTEST_HCT</th>\n",
       "      <td></td>\n",
       "      <td></td>\n",
       "      <td>X</td>\n",
       "      <td>1</td>\n",
       "      <td>86.4</td>\n",
       "    </tr>\n",
       "    <tr>\n",
       "      <th>LBTEST_AST</th>\n",
       "      <td></td>\n",
       "      <td></td>\n",
       "      <td>X</td>\n",
       "      <td>1</td>\n",
       "      <td>82.8</td>\n",
       "    </tr>\n",
       "    <tr>\n",
       "      <th>SACAT_PREVIOUS_COVID-19_INFECTION</th>\n",
       "      <td></td>\n",
       "      <td></td>\n",
       "      <td>X</td>\n",
       "      <td>1</td>\n",
       "      <td>2.0</td>\n",
       "    </tr>\n",
       "    <tr>\n",
       "      <th>HODECOD</th>\n",
       "      <td></td>\n",
       "      <td></td>\n",
       "      <td>X</td>\n",
       "      <td>1</td>\n",
       "      <td>0.0</td>\n",
       "    </tr>\n",
       "    <tr>\n",
       "      <th>SEX</th>\n",
       "      <td></td>\n",
       "      <td></td>\n",
       "      <td>X</td>\n",
       "      <td>1</td>\n",
       "      <td>0.3</td>\n",
       "    </tr>\n",
       "    <tr>\n",
       "      <th>VSTEST_OXYSAT</th>\n",
       "      <td></td>\n",
       "      <td>X</td>\n",
       "      <td></td>\n",
       "      <td>1</td>\n",
       "      <td>7.1</td>\n",
       "    </tr>\n",
       "    <tr>\n",
       "      <th>VSTEST_HEIGHT</th>\n",
       "      <td></td>\n",
       "      <td>X</td>\n",
       "      <td></td>\n",
       "      <td>1</td>\n",
       "      <td>93.3</td>\n",
       "    </tr>\n",
       "    <tr>\n",
       "      <th>LBTEST_PLAT</th>\n",
       "      <td></td>\n",
       "      <td>X</td>\n",
       "      <td></td>\n",
       "      <td>1</td>\n",
       "      <td>12.4</td>\n",
       "    </tr>\n",
       "    <tr>\n",
       "      <th>LBTEST_PH</th>\n",
       "      <td></td>\n",
       "      <td>X</td>\n",
       "      <td></td>\n",
       "      <td>1</td>\n",
       "      <td>77.1</td>\n",
       "    </tr>\n",
       "    <tr>\n",
       "      <th>LBTEST_ALT</th>\n",
       "      <td></td>\n",
       "      <td>X</td>\n",
       "      <td></td>\n",
       "      <td>1</td>\n",
       "      <td>29.2</td>\n",
       "    </tr>\n",
       "    <tr>\n",
       "      <th>LBTEST_LYM</th>\n",
       "      <td></td>\n",
       "      <td>X</td>\n",
       "      <td></td>\n",
       "      <td>1</td>\n",
       "      <td>33.4</td>\n",
       "    </tr>\n",
       "    <tr>\n",
       "      <th>LBTEST_INR</th>\n",
       "      <td></td>\n",
       "      <td>X</td>\n",
       "      <td></td>\n",
       "      <td>1</td>\n",
       "      <td>92.1</td>\n",
       "    </tr>\n",
       "    <tr>\n",
       "      <th>LBTEST_GLUC</th>\n",
       "      <td></td>\n",
       "      <td>X</td>\n",
       "      <td></td>\n",
       "      <td>1</td>\n",
       "      <td>50.6</td>\n",
       "    </tr>\n",
       "    <tr>\n",
       "      <th>LBTEST_FERRITIN</th>\n",
       "      <td></td>\n",
       "      <td>X</td>\n",
       "      <td></td>\n",
       "      <td>1</td>\n",
       "      <td>86.3</td>\n",
       "    </tr>\n",
       "    <tr>\n",
       "      <th>LBTEST_CRP</th>\n",
       "      <td></td>\n",
       "      <td>X</td>\n",
       "      <td></td>\n",
       "      <td>1</td>\n",
       "      <td>36.5</td>\n",
       "    </tr>\n",
       "    <tr>\n",
       "      <th>VSTEST_CPLRFLT</th>\n",
       "      <td></td>\n",
       "      <td></td>\n",
       "      <td>X</td>\n",
       "      <td>1</td>\n",
       "      <td>77.5</td>\n",
       "    </tr>\n",
       "  </tbody>\n",
       "</table>\n",
       "</div>"
      ],
      "text/plain": [
       "                                   rfecv sfm sfs_fwd  Number  NA_percent\n",
       "Feature                                                                 \n",
       "SACAT_COMORBIDITIES                    X   X       X       3         2.0\n",
       "MBTEST_OTHER RESPIRATORY PATHOGENS     X   X       X       3        91.1\n",
       "AGE                                    X   X       X       3         2.8\n",
       "LBTEST_APTTSTND                        X   X       X       3        88.2\n",
       "LBTEST_CREAT                           X   X       X       3        13.0\n",
       "VSTEST_DIABP                           X   X       X       3         5.7\n",
       "IETEST_Acute_Respiratory_Infection     X   X               2        20.9\n",
       "INCLAS_VACCINES                            X       X       2         0.5\n",
       "VSTEST_MAP                                 X       X       2        86.7\n",
       "LBTEST_PCT                                 X       X       2        89.5\n",
       "IETEST_Fever                           X   X               2        20.5\n",
       "LBTEST_BICARB                              X       X       2        89.0\n",
       "LBTEST_BASEEXCS                            X       X       2        78.9\n",
       "LBTEST_APTT                                X       X       2        62.1\n",
       "LBTEST_BILI                                X       X       2        26.9\n",
       "VSTEST_SYSBP                           X   X               2         5.6\n",
       "LBTEST_PT                              X   X               2        60.1\n",
       "SACAT_COMPLICATIONS                    X   X               2         2.0\n",
       "LBTEST_NEUT                            X   X               2        33.7\n",
       "LBTEST_HGB                             X   X               2        13.4\n",
       "LBTEST_UREAN                           X   X               2        21.0\n",
       "VSTEST_HR                              X   X               2         5.9\n",
       "LBTEST_CK                                  X               1        86.2\n",
       "LBTEST_LACTICAC                                    X       1        66.5\n",
       "LBTEST_HCT                                         X       1        86.4\n",
       "LBTEST_AST                                         X       1        82.8\n",
       "SACAT_PREVIOUS_COVID-19_INFECTION                  X       1         2.0\n",
       "HODECOD                                            X       1         0.0\n",
       "SEX                                                X       1         0.3\n",
       "VSTEST_OXYSAT                              X               1         7.1\n",
       "VSTEST_HEIGHT                              X               1        93.3\n",
       "LBTEST_PLAT                                X               1        12.4\n",
       "LBTEST_PH                                  X               1        77.1\n",
       "LBTEST_ALT                                 X               1        29.2\n",
       "LBTEST_LYM                                 X               1        33.4\n",
       "LBTEST_INR                                 X               1        92.1\n",
       "LBTEST_GLUC                                X               1        50.6\n",
       "LBTEST_FERRITIN                            X               1        86.3\n",
       "LBTEST_CRP                                 X               1        36.5\n",
       "VSTEST_CPLRFLT                                     X       1        77.5"
      ]
     },
     "execution_count": 33,
     "metadata": {},
     "output_type": "execute_result"
    }
   ],
   "source": [
    "# Convert list of features selected in pd.Series\n",
    "features_rfecv = pd.Series(features_rfecv)\n",
    "features_sfm = pd.Series(features_sfm)\n",
    "features_sfs_forward = pd.Series(features_sfs_forward)\n",
    "#features_sfs_backward = pd.Series(features_sfs_backward)\n",
    "\n",
    "# List of all unique features selected for all methods\n",
    "features_all = pd.Series(pd.concat([features_rfecv, features_sfm, features_sfs_forward]).unique())  # features_sfs_backward\n",
    "\n",
    "# Test for each method if the given feature is selected for each feature in features_all\n",
    "test_rfecv = features_all.isin(features_rfecv)\n",
    "test_sfm = features_all.isin(features_sfm)\n",
    "test_sfs_forward = features_all.isin(features_sfs_forward)\n",
    "#test_sfs_backward = features_all.isin(features_sfs_backward)\n",
    "\n",
    "# Construct dataframe\n",
    "df_comparison = pd.DataFrame(list(zip(features_all, test_rfecv, test_sfm, test_sfs_forward)), # test_sfs_backward\n",
    "                             columns =['Feature', 'rfecv', 'sfm', 'sfs_fwd']) # 'sfs_bkd'\n",
    "\n",
    "# Add column with number of True\n",
    "df_comparison['Number'] = df_comparison.sum(axis=1)\n",
    "\n",
    "# Sort values\n",
    "df_comparison = df_comparison.sort_values(by='Number', ascending=False) \\\n",
    "                             .replace({False:\"\", True:\"X\"})\n",
    "\n",
    "# Add number of NA for each column for the whole original dataframe\n",
    "df_comparison['NA_percent'] = NA_in_cols.loc[df_comparison.set_index('Feature').index, 'NA_percent'].tolist()\n",
    "\n",
    "\n",
    "# Display comparison\n",
    "df_comparison.set_index('Feature')"
   ]
  },
  {
   "cell_type": "markdown",
   "id": "ec995fcd-33b7-41d8-8ba6-26ad5fd83c3e",
   "metadata": {},
   "source": [
    "**Discussion**: **=> !!!TODO!!!**  \n",
    "Discuter des features à garder en fonction du tableau au dessus, des NA, de la littérature, etc...  \n",
    "Commenter/argumenter/critiquer..."
   ]
  },
  {
   "cell_type": "code",
   "execution_count": 34,
   "id": "bf7f11ac-cf55-47b7-b030-7d5f4a21f4ea",
   "metadata": {},
   "outputs": [
    {
     "data": {
      "text/html": [
       "<div>\n",
       "<style scoped>\n",
       "    .dataframe tbody tr th:only-of-type {\n",
       "        vertical-align: middle;\n",
       "    }\n",
       "\n",
       "    .dataframe tbody tr th {\n",
       "        vertical-align: top;\n",
       "    }\n",
       "\n",
       "    .dataframe thead th {\n",
       "        text-align: right;\n",
       "    }\n",
       "</style>\n",
       "<table border=\"1\" class=\"dataframe\">\n",
       "  <thead>\n",
       "    <tr style=\"text-align: right;\">\n",
       "      <th></th>\n",
       "      <th>IETEST_Acute_Respiratory_Infection</th>\n",
       "      <th>IETEST_Fever</th>\n",
       "      <th>SACAT_COMORBIDITIES</th>\n",
       "      <th>SACAT_COMPLICATIONS</th>\n",
       "      <th>MBTEST_OTHER RESPIRATORY PATHOGENS</th>\n",
       "      <th>AGE</th>\n",
       "      <th>LBTEST_APTTSTND</th>\n",
       "      <th>LBTEST_CREAT</th>\n",
       "      <th>LBTEST_HGB</th>\n",
       "      <th>LBTEST_NEUT</th>\n",
       "      <th>LBTEST_PT</th>\n",
       "      <th>LBTEST_UREAN</th>\n",
       "      <th>VSTEST_DIABP</th>\n",
       "      <th>VSTEST_HR</th>\n",
       "      <th>VSTEST_SYSBP</th>\n",
       "      <th>DSDECOD</th>\n",
       "    </tr>\n",
       "  </thead>\n",
       "  <tbody>\n",
       "    <tr>\n",
       "      <th>0</th>\n",
       "      <td>0.0</td>\n",
       "      <td>0.0</td>\n",
       "      <td>1.0</td>\n",
       "      <td>1.0</td>\n",
       "      <td>0.0</td>\n",
       "      <td>1.160639</td>\n",
       "      <td>-0.692156</td>\n",
       "      <td>-0.153956</td>\n",
       "      <td>-0.297221</td>\n",
       "      <td>-0.117364</td>\n",
       "      <td>-0.154999</td>\n",
       "      <td>0.176512</td>\n",
       "      <td>-1.410237</td>\n",
       "      <td>-0.245101</td>\n",
       "      <td>2.434560</td>\n",
       "      <td>0.0</td>\n",
       "    </tr>\n",
       "    <tr>\n",
       "      <th>1</th>\n",
       "      <td>1.0</td>\n",
       "      <td>0.0</td>\n",
       "      <td>1.0</td>\n",
       "      <td>1.0</td>\n",
       "      <td>0.0</td>\n",
       "      <td>0.648660</td>\n",
       "      <td>-0.443395</td>\n",
       "      <td>-0.448622</td>\n",
       "      <td>-0.038149</td>\n",
       "      <td>0.094794</td>\n",
       "      <td>-0.154999</td>\n",
       "      <td>-0.483515</td>\n",
       "      <td>1.241241</td>\n",
       "      <td>-0.154442</td>\n",
       "      <td>2.390473</td>\n",
       "      <td>0.0</td>\n",
       "    </tr>\n",
       "    <tr>\n",
       "      <th>2</th>\n",
       "      <td>0.0</td>\n",
       "      <td>0.0</td>\n",
       "      <td>1.0</td>\n",
       "      <td>1.0</td>\n",
       "      <td>0.0</td>\n",
       "      <td>0.648660</td>\n",
       "      <td>-0.079822</td>\n",
       "      <td>-0.361561</td>\n",
       "      <td>-0.027354</td>\n",
       "      <td>-0.162770</td>\n",
       "      <td>-0.154999</td>\n",
       "      <td>-0.390880</td>\n",
       "      <td>-0.390437</td>\n",
       "      <td>-0.925036</td>\n",
       "      <td>0.097937</td>\n",
       "      <td>0.0</td>\n",
       "    </tr>\n",
       "  </tbody>\n",
       "</table>\n",
       "</div>"
      ],
      "text/plain": [
       "   IETEST_Acute_Respiratory_Infection  IETEST_Fever  SACAT_COMORBIDITIES  \\\n",
       "0                                 0.0           0.0                  1.0   \n",
       "1                                 1.0           0.0                  1.0   \n",
       "2                                 0.0           0.0                  1.0   \n",
       "\n",
       "   SACAT_COMPLICATIONS  MBTEST_OTHER RESPIRATORY PATHOGENS       AGE  \\\n",
       "0                  1.0                                 0.0  1.160639   \n",
       "1                  1.0                                 0.0  0.648660   \n",
       "2                  1.0                                 0.0  0.648660   \n",
       "\n",
       "   LBTEST_APTTSTND  LBTEST_CREAT  LBTEST_HGB  LBTEST_NEUT  LBTEST_PT  \\\n",
       "0        -0.692156     -0.153956   -0.297221    -0.117364  -0.154999   \n",
       "1        -0.443395     -0.448622   -0.038149     0.094794  -0.154999   \n",
       "2        -0.079822     -0.361561   -0.027354    -0.162770  -0.154999   \n",
       "\n",
       "   LBTEST_UREAN  VSTEST_DIABP  VSTEST_HR  VSTEST_SYSBP  DSDECOD  \n",
       "0      0.176512     -1.410237  -0.245101      2.434560      0.0  \n",
       "1     -0.483515      1.241241  -0.154442      2.390473      0.0  \n",
       "2     -0.390880     -0.390437  -0.925036      0.097937      0.0  "
      ]
     },
     "execution_count": 34,
     "metadata": {},
     "output_type": "execute_result"
    }
   ],
   "source": [
    "# Choose columns we want to keep to then test models\n",
    "\n",
    "features_toKeep = features_rfecv\n",
    "\n",
    "X_selection_train = X_train[features_toKeep]\n",
    "X_selection_test = X_test[features_toKeep]\n",
    "df_selection_train = pd.concat([X_selection_train, y_train], axis=1)\n",
    "df_selection_test = pd.concat([X_selection_test, y_test], axis=1)\n",
    "\n",
    "df_selection_train.head(3)"
   ]
  },
  {
   "cell_type": "code",
   "execution_count": 35,
   "id": "aab11006-a70d-4baa-8b79-5dd36dfddbb1",
   "metadata": {},
   "outputs": [
    {
     "data": {
      "text/plain": [
       "(140, 16)"
      ]
     },
     "execution_count": 35,
     "metadata": {},
     "output_type": "execute_result"
    }
   ],
   "source": [
    "df_selection_train.shape"
   ]
  },
  {
   "cell_type": "code",
   "execution_count": 36,
   "id": "534048c7-8fbb-4393-b565-a02801a70688",
   "metadata": {},
   "outputs": [],
   "source": [
    "# Save \n",
    "name_file_train = 'df_final_II-FeaturesSelection_train_' + name_classifier + '.csv'\n",
    "name_file_test = 'df_final_II-FeaturesSelection_test_' + name_classifier + '.csv'\n",
    "df_selection_train.to_csv(op.join(data_folder, name_file_train))\n",
    "df_selection_test.to_csv(op.join(data_folder, name_file_test))\n",
    "# File that contains the data for only the features we want to keep. Features are already fill for NA and also standardized."
   ]
  },
  {
   "cell_type": "code",
   "execution_count": null,
   "id": "21235fac-0aee-44fe-a478-a936b9921af8",
   "metadata": {},
   "outputs": [],
   "source": []
  }
 ],
 "metadata": {
  "kernelspec": {
   "display_name": "Python 3 (ipykernel)",
   "language": "python",
   "name": "python3"
  },
  "language_info": {
   "codemirror_mode": {
    "name": "ipython",
    "version": 3
   },
   "file_extension": ".py",
   "mimetype": "text/x-python",
   "name": "python",
   "nbconvert_exporter": "python",
   "pygments_lexer": "ipython3",
   "version": "3.8.13"
  }
 },
 "nbformat": 4,
 "nbformat_minor": 5
}
