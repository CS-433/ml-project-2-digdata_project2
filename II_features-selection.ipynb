{
 "cells": [
  {
   "cell_type": "markdown",
   "id": "2d7cf7eb-95cb-4bfd-a458-5b0e936c0ecc",
   "metadata": {},
   "source": [
    "# Project 2: Covid ---> II/ Features selection"
   ]
  },
  {
   "cell_type": "markdown",
   "id": "5bcacb1e-2531-48b0-9e61-a42a7020f6f9",
   "metadata": {},
   "source": [
    "The objective of this file is to choose which features to keep from the matrix extracted from the \"I_data-selection\" file, using several algorithms.\n",
    "This will give us the final matrix to test the models in the \"III_models-and-predictions\" file."
   ]
  },
  {
   "cell_type": "code",
   "execution_count": 49,
   "id": "bb52b52f",
   "metadata": {},
   "outputs": [
    {
     "name": "stdout",
     "output_type": "stream",
     "text": [
      "The autoreload extension is already loaded. To reload it, use:\n",
      "  %reload_ext autoreload\n"
     ]
    }
   ],
   "source": [
    "# Import\n",
    "%matplotlib inline\n",
    "\n",
    "import os\n",
    "import os.path as op\n",
    "from matplotlib import pyplot as plt\n",
    "import numpy as np\n",
    "import pandas as pd\n",
    "from scipy import stats\n",
    "import xgboost as xgb\n",
    "import seaborn as sns\n",
    "\n",
    "from sklearn.model_selection import train_test_split\n",
    "from sklearn.impute import SimpleImputer\n",
    "from sklearn.preprocessing import StandardScaler\n",
    "\n",
    "from sklearn.model_selection import StratifiedKFold\n",
    "from sklearn.feature_selection import RFECV\n",
    "from sklearn.datasets import make_classification\n",
    "from sklearn.feature_selection import SelectFromModel\n",
    "from sklearn.feature_selection import SequentialFeatureSelector\n",
    "from sklearn.linear_model import RidgeCV\n",
    "\n",
    "from sklearn.linear_model import LogisticRegression\n",
    "from sklearn.neighbors import KNeighborsClassifier\n",
    "from sklearn import svm\n",
    "from sklearn.neural_network import MLPClassifier\n",
    "from sklearn.discriminant_analysis import QuadraticDiscriminantAnalysis\n",
    "\n",
    "%load_ext autoreload\n",
    "%autoreload 2"
   ]
  },
  {
   "cell_type": "markdown",
   "id": "d335d506-d93a-479f-8edf-7e73b8df28fb",
   "metadata": {},
   "source": [
    "**Our prediction will be about death or not when a patient is covid positive => Thus our y matrix will be the DSDECOD column.**"
   ]
  },
  {
   "cell_type": "markdown",
   "id": "53c7bd53",
   "metadata": {},
   "source": [
    "## 1. Loading the data"
   ]
  },
  {
   "cell_type": "code",
   "execution_count": 50,
   "id": "f10cf33e",
   "metadata": {},
   "outputs": [],
   "source": [
    "# Open file\n",
    "data_folder = op.join(os.getcwd(), \"data\", \"results\")\n",
    "mylist = []\n",
    "for chunk in pd.read_csv(op.join(data_folder, 'df_final_I-DataSelection.csv'), sep=',', low_memory=False, chunksize=5000, index_col=0):\n",
    "    mylist.append(chunk)\n",
    "df = pd.concat(mylist, axis=0)\n",
    "df.name = 'df'\n",
    "del mylist"
   ]
  },
  {
   "cell_type": "code",
   "execution_count": 51,
   "id": "818b46ca-e029-4066-9de0-4c6a409603d8",
   "metadata": {},
   "outputs": [
    {
     "data": {
      "text/plain": [
       "(601915, 104)"
      ]
     },
     "execution_count": 51,
     "metadata": {},
     "output_type": "execute_result"
    }
   ],
   "source": [
    "df.shape"
   ]
  },
  {
   "cell_type": "markdown",
   "id": "62b4e136-99cc-4deb-a3ec-61402d61f281",
   "metadata": {},
   "source": [
    "## 2. Premilinary features selection based on the meaning"
   ]
  },
  {
   "cell_type": "markdown",
   "id": "b9b07e32-b34b-48e1-9f17-945cdaa9d304",
   "metadata": {},
   "source": [
    "Some columns seem to be more relevant than others for training purposes: we will delete some columns that we consider not very useful at first.\n",
    "\n",
    "As a reminder, this is the main types of information we have:\n",
    "- **DM = Demographics** --> 'AGE', 'SEX', 'CONTINENT_AF', 'CONTINENT_AS', 'CONTINENT_EU', 'CONTINENT_NA', 'CONTINENT_OC', 'CONTINENT_SA'\n",
    "- **DS = Disposition** --> 'DSDECOD'\n",
    "- **HO = Healthcare Encounters** --> 'HODECOD'\n",
    "- **IE = Inclusion/Exclusion Criteria** --> 'IETEST_Acute_Respiratory_Infection', 'IETEST_Cough', 'IETEST_Covid_ICU', 'IETEST_Covid_admission', 'IETEST_Dyspnoea_Tachypnoea', 'IETEST_Fever', 'IETEST_Inflammatory_MultiSystem_Syndrome', 'IETEST_noCovid_ICU'\n",
    "- **IN = Treatments and Interventions** --> 'INCLAS_AGENTS_ACTING_ON_THE_RENIN-ANGIOTENSIN_SYSTEM', 'INCLAS_ANTIBACTERIALS_FOR_SYSTEMIC_USE', etc..., 'INCLAS_VACCINES'\n",
    "- **LB = Laboratory Results** --> 'LBTEST_ALB', 'LBTEST_ALP', etc..., 'LBTEST_WBC'\n",
    "- **MB = Microbiology Specimen** --> 'MBTEST_ADENOVIRUS', 'MBTEST_BACTERIA', 'MBTEST_CORONAVIRUS', 'MBTEST_INFLUENZA', 'MBTEST_OTHER PATHOGENS', 'MBTEST_OTHER RESPIRATORY PATHOGENS', 'MBTEST_RSV\n",
    "- **RP = Reproductive System Findings** --> 'RPSTRESC'\n",
    "- **RS = Disease Response and Clinical Classification** --> 'RSCAT_AVPU', 'RSCAT_BLANTYRE_COMA_SCALE', 'RSCAT_CLINICAL_FRAILTY_SCORE', 'RSCAT_GCS_NINDS_VERSION', 'RSCAT_ICU_MOBILITY_SCALE', 'RSCAT_PRISM_III', 'RSCAT_RASS', 'RSCAT_SAPS_II', 'RSCAT_SAS', 'RSCAT_SOFA'\n",
    "- **SA = Clinical and Adverse Events** --> 'SACAT_COMORBIDITIES', 'SACAT_COMPLICATIONS', 'SACAT_PREVIOUS_COVID-19_INFECTION'\n",
    "- **SC = Subject Characteristics** --> 'SCTEST_Appropriate_Developmental_Age_Indicator', 'SCTEST_Breast_Fed_Indicator', 'SCTEST_Infant_Less_Than_One_Year_Indicator', 'SCTEST_Premature_Birth_Indicator'\n",
    "- **VS = Vital Signs** --> 'VSTEST_BMI', 'VSTEST_BRTHWT', etc..., 'VSTEST_WEIGHT'\n",
    "\n",
    "First we can keep only information from:\n",
    "- DM = Demographics\n",
    "- DS = Disposition\n",
    "- HO = Healthcare Encounters\n",
    "- IE  = Inclusion/Exclusion Criteria (only 'IETEST_Acute_Respiratory_Infection', 'IETEST_Cough', 'IETEST_Fever'\n",
    "- IN  = Treatments and Interventions (only 'INCLAS_VACCINES')\n",
    "- LB = Laboratory Results\n",
    "- MB = Microbiology Specimen\n",
    "- SA = Clinical and Adverse Events\n",
    "- VS = Vital Signs"
   ]
  },
  {
   "cell_type": "code",
   "execution_count": 52,
   "id": "7105c292-9af2-4907-a1f2-91e2a17fadd6",
   "metadata": {},
   "outputs": [
    {
     "data": {
      "text/plain": [
       "(601915, 56)"
      ]
     },
     "execution_count": 52,
     "metadata": {},
     "output_type": "execute_result"
    }
   ],
   "source": [
    "# Keep only columns we want to continue the training\n",
    "\n",
    "preliminary_selection = ['AGE', 'SEX', 'CONTINENT_AF', 'CONTINENT_AS', 'CONTINENT_EU', 'CONTINENT_NA', 'CONTINENT_OC', 'CONTINENT_SA',\n",
    "                         'DSDECOD',\n",
    "                         'HODECOD',\n",
    "                         'IETEST_Acute_Respiratory_Infection', 'IETEST_Cough', 'IETEST_Fever',\n",
    "                         'INCLAS_VACCINES',\n",
    "                         'SACAT_COMORBIDITIES', 'SACAT_COMPLICATIONS', 'SACAT_PREVIOUS_COVID-19_INFECTION'] \\\n",
    "                        + df.filter(regex='^LB',axis=1).columns.tolist() \\\n",
    "                        + df.filter(regex='^MB',axis=1).columns.tolist() \\\n",
    "                        + df.filter(regex='^VS',axis=1).columns.tolist()\n",
    "\n",
    "df = df[preliminary_selection]\n",
    "df.shape"
   ]
  },
  {
   "cell_type": "code",
   "execution_count": 53,
   "id": "16d72df3",
   "metadata": {},
   "outputs": [
    {
     "data": {
      "text/plain": [
       "(601915, 56)"
      ]
     },
     "execution_count": 53,
     "metadata": {},
     "output_type": "execute_result"
    }
   ],
   "source": [
    "df.dropna(thresh = int((100-1)*(len(df.columns)/100)), inplace = True, axis = 1)\n",
    "df.shape"
   ]
  },
  {
   "cell_type": "markdown",
   "id": "dbe38de5",
   "metadata": {},
   "source": [
    "## 3. Stratification per continent"
   ]
  },
  {
   "cell_type": "code",
   "execution_count": 54,
   "id": "7180478e",
   "metadata": {},
   "outputs": [],
   "source": [
    "continent_list = ['CONTINENT_AF', 'CONTINENT_AS', 'CONTINENT_EU','CONTINENT_NA', 'CONTINENT_OC', 'CONTINENT_SA']"
   ]
  },
  {
   "cell_type": "code",
   "execution_count": 55,
   "id": "57b2c51f",
   "metadata": {},
   "outputs": [
    {
     "name": "stderr",
     "output_type": "stream",
     "text": [
      "C:\\Users\\Admin\\AppData\\Local\\Temp\\ipykernel_16088\\823486155.py:4: SettingWithCopyWarning: \n",
      "A value is trying to be set on a copy of a slice from a DataFrame\n",
      "\n",
      "See the caveats in the documentation: https://pandas.pydata.org/pandas-docs/stable/user_guide/indexing.html#returning-a-view-versus-a-copy\n",
      "  df_africa.drop(continent_list, axis=1, inplace=True)\n",
      "C:\\Users\\Admin\\AppData\\Local\\Temp\\ipykernel_16088\\823486155.py:8: SettingWithCopyWarning: \n",
      "A value is trying to be set on a copy of a slice from a DataFrame\n",
      "\n",
      "See the caveats in the documentation: https://pandas.pydata.org/pandas-docs/stable/user_guide/indexing.html#returning-a-view-versus-a-copy\n",
      "  df_asia.drop(continent_list, axis=1, inplace=True)\n",
      "C:\\Users\\Admin\\AppData\\Local\\Temp\\ipykernel_16088\\823486155.py:12: SettingWithCopyWarning: \n",
      "A value is trying to be set on a copy of a slice from a DataFrame\n",
      "\n",
      "See the caveats in the documentation: https://pandas.pydata.org/pandas-docs/stable/user_guide/indexing.html#returning-a-view-versus-a-copy\n",
      "  df_europe.drop(continent_list, axis=1, inplace=True)\n",
      "C:\\Users\\Admin\\AppData\\Local\\Temp\\ipykernel_16088\\823486155.py:16: SettingWithCopyWarning: \n",
      "A value is trying to be set on a copy of a slice from a DataFrame\n",
      "\n",
      "See the caveats in the documentation: https://pandas.pydata.org/pandas-docs/stable/user_guide/indexing.html#returning-a-view-versus-a-copy\n",
      "  df_south_america.drop(continent_list, axis=1, inplace=True)\n"
     ]
    },
    {
     "name": "stdout",
     "output_type": "stream",
     "text": [
      "Data size AFRICA: (489653, 50)\n",
      "Data size ASIA: (7883, 50)\n",
      "Data size EUROPE: (92087, 50)\n",
      "Data size NORTH AMERICA: (6074, 50)\n",
      "Data size SOUTH AMERICA: (6180, 50)\n",
      "Data size OCEANIA: (34, 50)\n"
     ]
    },
    {
     "name": "stderr",
     "output_type": "stream",
     "text": [
      "C:\\Users\\Admin\\AppData\\Local\\Temp\\ipykernel_16088\\823486155.py:20: SettingWithCopyWarning: \n",
      "A value is trying to be set on a copy of a slice from a DataFrame\n",
      "\n",
      "See the caveats in the documentation: https://pandas.pydata.org/pandas-docs/stable/user_guide/indexing.html#returning-a-view-versus-a-copy\n",
      "  df_north_america.drop(continent_list, axis=1, inplace=True)\n",
      "C:\\Users\\Admin\\AppData\\Local\\Temp\\ipykernel_16088\\823486155.py:24: SettingWithCopyWarning: \n",
      "A value is trying to be set on a copy of a slice from a DataFrame\n",
      "\n",
      "See the caveats in the documentation: https://pandas.pydata.org/pandas-docs/stable/user_guide/indexing.html#returning-a-view-versus-a-copy\n",
      "  df_oceania.drop(continent_list, axis=1, inplace=True)\n"
     ]
    }
   ],
   "source": [
    "#Split the data between the continents\n",
    "#data afrique\n",
    "df_africa = df[df['CONTINENT_AF'] == 1]\n",
    "df_africa.drop(continent_list, axis=1, inplace=True)\n",
    "\n",
    "#data asia\n",
    "df_asia = df[df['CONTINENT_AS'] == 1]\n",
    "df_asia.drop(continent_list, axis=1, inplace=True)\n",
    "\n",
    "#data europe\n",
    "df_europe = df[df['CONTINENT_EU'] == 1]\n",
    "df_europe.drop(continent_list, axis=1, inplace=True) \n",
    "\n",
    "#data south america\n",
    "df_south_america = df[df['CONTINENT_SA'] == 1]\n",
    "df_south_america.drop(continent_list, axis=1, inplace=True) \n",
    "\n",
    "#data north america\n",
    "df_north_america = df[df['CONTINENT_NA'] == 1]\n",
    "df_north_america.drop(continent_list, axis=1, inplace=True) \n",
    "\n",
    "#data oceania \n",
    "df_oceania = df[df['CONTINENT_OC'] == 1]\n",
    "df_oceania.drop(continent_list, axis=1, inplace=True) \n",
    "\n",
    "#relative size of each slice of data\n",
    "print(f\"Data size AFRICA: {df_africa.shape}\")\n",
    "print(f\"Data size ASIA: {df_asia.shape}\")\n",
    "print(f\"Data size EUROPE: {df_europe.shape}\")\n",
    "print(f\"Data size NORTH AMERICA: {df_north_america.shape}\")\n",
    "print(f\"Data size SOUTH AMERICA: {df_south_america.shape}\")\n",
    "print(f\"Data size OCEANIA: {df_oceania.shape}\")"
   ]
  },
  {
   "cell_type": "code",
   "execution_count": 56,
   "id": "f46ea0c5",
   "metadata": {},
   "outputs": [
    {
     "data": {
      "image/png": "[encoded data removed]",
      "text/plain": [
       "<Figure size 1440x1440 with 6 Axes>"
      ]
     },
     "metadata": {
      "needs_background": "light"
     },
     "output_type": "display_data"
    }
   ],
   "source": [
    "#plot the repartition of the missing data for each continent\n",
    "fig, axs = plt.subplots(3, 2, figsize=(20, 20), sharex= True)\n",
    "\n",
    "null_values = df_europe.isnull().mean().sort_values(ascending=False)*100\n",
    "null_values = null_values[null_values>0]\n",
    "sns.barplot(x=null_values.index, y=null_values.values, ax=axs[0,0]).set_title('Null values pourcentage EUROPE')\n",
    "\n",
    "null_values = df_asia.isnull().mean().sort_values(ascending=False)*100\n",
    "null_values = null_values[null_values>0]\n",
    "sns.barplot(x=null_values.index, y=null_values.values, ax=axs[0, 1]).set_title('Null values pourcentage ASIA')\n",
    "\n",
    "null_values = df_africa.isnull().mean().sort_values(ascending=False)*100\n",
    "null_values = null_values[null_values>0]\n",
    "sns.barplot(x=null_values.index, y=null_values.values, ax = axs[1, 0]).set_title('Null values pourcentage AFRICA')\n",
    "\n",
    "null_values = df_oceania.isnull().mean().sort_values(ascending=False)*100\n",
    "null_values = null_values[null_values>0]\n",
    "sns.barplot(x=null_values.index, y=null_values.values, ax=axs[1, 1]).set_title('Null values pourcentage OCEANIA')\n",
    "\n",
    "null_values = df_south_america.isnull().mean().sort_values(ascending=False)*100\n",
    "null_values = null_values[null_values>0]\n",
    "sns.barplot(x=null_values.index, y=null_values.values, ax=axs[2, 0]).set_title('Null values pourcentage SOUTH AMERICA')\n",
    "\n",
    "null_values = df_north_america.isnull().mean().sort_values(ascending=False)*100\n",
    "null_values = null_values[null_values>0]\n",
    "sns.barplot(x=null_values.index, y=null_values.values, ax=axs[2, 1]).set_title('Null values pourcentage NORTH AMERICA')\n",
    "\n",
    "for ax in axs.flatten():\n",
    "    plt.sca(ax)\n",
    "    plt.xticks(rotation = 45)"
   ]
  },
  {
   "cell_type": "markdown",
   "id": "706c22c5",
   "metadata": {},
   "source": [
    "By taking into account the number of value and the repartition of the missing data, we chose to compute our model on the European dataset."
   ]
  },
  {
   "cell_type": "code",
   "execution_count": 57,
   "id": "a125b8c2",
   "metadata": {},
   "outputs": [
    {
     "data": {
      "text/plain": [
       "0.0    56405\n",
       "1.0    23647\n",
       "NaN    12035\n",
       "Name: DSDECOD, dtype: int64"
      ]
     },
     "execution_count": 57,
     "metadata": {},
     "output_type": "execute_result"
    }
   ],
   "source": [
    "df_europe['DSDECOD'].value_counts(dropna = False)"
   ]
  },
  {
   "cell_type": "code",
   "execution_count": 44,
   "id": "f1ccdd01",
   "metadata": {},
   "outputs": [
    {
     "data": {
      "text/plain": [
       "(20000, 49)"
      ]
     },
     "execution_count": 44,
     "metadata": {},
     "output_type": "execute_result"
    }
   ],
   "source": [
    "df = df_europe\n",
    "df.dropna(thresh = int((100-1)*(len(df.columns)/100)), inplace = True, axis = 1)\n",
    "df.shape"
   ]
  },
  {
   "cell_type": "markdown",
   "id": "340b91f8",
   "metadata": {},
   "source": [
    "## 4 . Splitting into training and test sets"
   ]
  },
  {
   "cell_type": "code",
   "execution_count": 29,
   "id": "6178c34e",
   "metadata": {},
   "outputs": [],
   "source": [
    "# Keep number of NA per columns of original dataframe \n",
    "NA_in_cols = pd.DataFrame(round(df.isna().sum()*100/len(df),1), columns=['NA_percent'])"
   ]
  },
  {
   "cell_type": "code",
   "execution_count": 30,
   "id": "bb4495b1",
   "metadata": {},
   "outputs": [
    {
     "data": {
      "text/plain": [
       "0"
      ]
     },
     "execution_count": 30,
     "metadata": {},
     "output_type": "execute_result"
    }
   ],
   "source": [
    "# Delete row where DSDECOD is NA (because y = DSDECOD)\n",
    "# These rows cannot be used for training or testing\n",
    "df = df[df.DSDECOD.notna()]\n",
    "df.DSDECOD.isna().sum()"
   ]
  },
  {
   "cell_type": "code",
   "execution_count": 31,
   "id": "215e46f9-a76b-4700-ad92-cd56211009db",
   "metadata": {},
   "outputs": [
    {
     "data": {
      "text/plain": [
       "0.0    0.772083\n",
       "1.0    0.227917\n",
       "Name: DSDECOD, dtype: float64"
      ]
     },
     "execution_count": 31,
     "metadata": {},
     "output_type": "execute_result"
    }
   ],
   "source": [
    "df.DSDECOD.value_counts(normalize=True)"
   ]
  },
  {
   "cell_type": "code",
   "execution_count": 32,
   "id": "30f5aaba",
   "metadata": {},
   "outputs": [],
   "source": [
    "# We take a sample of the data\n",
    "# And we force a 50/50 split for the DSDECOD values\n",
    "df_noSample = df.copy() \n",
    "df = df.groupby(by = \"DSDECOD\").sample(n = 23000, replace = False, random_state = 42)"
   ]
  },
  {
   "cell_type": "code",
   "execution_count": 33,
   "id": "b64a62e9",
   "metadata": {},
   "outputs": [],
   "source": [
    "# Split into training and test sets\n",
    "df_train, df_test = train_test_split(df, test_size=0.3, random_state=16)"
   ]
  },
  {
   "cell_type": "code",
   "execution_count": 34,
   "id": "1c6f0496",
   "metadata": {},
   "outputs": [
    {
     "name": "stdout",
     "output_type": "stream",
     "text": [
      "(14000, 56)\n",
      "(6000, 56)\n"
     ]
    }
   ],
   "source": [
    "print(df_train.shape)\n",
    "print(df_test.shape)"
   ]
  },
  {
   "cell_type": "markdown",
   "id": "84604b62",
   "metadata": {},
   "source": [
    "## 5. Pre-processing of the data"
   ]
  },
  {
   "cell_type": "markdown",
   "id": "df7066fb-7d19-4efd-8345-17979744cfb0",
   "metadata": {},
   "source": [
    "During pre-processing of the data, categorical and continuous features will be treated differently."
   ]
  },
  {
   "cell_type": "code",
   "execution_count": 35,
   "id": "38825e07",
   "metadata": {},
   "outputs": [],
   "source": [
    "# Do the list of the name of categorical columns\n",
    "categorical = ['DSDECOD',\n",
    "               'SEX',\n",
    "               'CONTINENT_AF', 'CONTINENT_AS', 'CONTINENT_EU', 'CONTINENT_NA', 'CONTINENT_OC', 'CONTINENT_SA',\n",
    "               'HODECOD', \n",
    "               'IETEST_Acute_Respiratory_Infection', 'IETEST_Cough', 'IETEST_Covid_ICU', 'IETEST_Covid_admission', 'IETEST_Dyspnoea_Tachypnoea', 'IETEST_Fever', \n",
    "               'IETEST_Inflammatory_MultiSystem_Syndrome', 'IETEST_noCovid_ICU',               \n",
    "               'INCLAS_AGENTS_ACTING_ON_THE_RENIN-ANGIOTENSIN_SYSTEM', 'INCLAS_ANALGESICS', 'INCLAS_ANESTHETICS', \n",
    "               'INCLAS_ANTIBACTERIALS_FOR_SYSTEMIC_USE', 'INCLAS_ANTIHELMINTICS', 'INCLAS_ANTIINFLAMMATORY_AND_ANTIRHEUMATIC_PRODUCTS,_NON-STEROIDS',\n",
    "               'INCLAS_ANTIMALARIALS', 'INCLAS_ANTIMYCOTICS_FOR_SYSTEMIC_USE', 'INCLAS_ANTITHROMBOTIC_AGENTS',\n",
    "               'INCLAS_ANTIVIRALS_FOR_SYSTEMIC_USE', 'INCLAS_ARTIFICIAL_RESPIRATION', 'INCLAS_BETA_BLOCKING_AGENTS',\n",
    "               'INCLAS_BLOOD_SUBSTITUTES_AND_PERFUSION_SOLUTIONS', 'INCLAS_BRONCHOSCOPY', 'INCLAS_CARDIAC_PACING',\n",
    "               'INCLAS_CARDIAC_THERAPY', 'INCLAS_CARDIOPULMONARY_RESUSCITATION', 'INCLAS_CHEMOTHERAPY', 'INCLAS_CORTICOSTEROIDS_FOR_SYSTEMIC_USE',\n",
    "               'INCLAS_DIURETICS', 'INCLAS_DRUGS_FOR_ACID_RELATED_DISORDERS', 'INCLAS_DRUGS_FOR_OBSTRUCTIVE_AIRWAY_DISEASES', 'INCLAS_EXTRACORPOREAL_MEMBRANE_OXYGENATION', \n",
    "               'INCLAS_HIGH_FLOW_OXYGEN_NASAL_CANNULA', 'INCLAS_IMMUNOGLOBULINS', 'INCLAS_IMMUNOSTIMULANTS', 'INCLAS_IMMUNOSUPPRESSANTS', \n",
    "               'INCLAS_INSERTION_OF_TRACHEOSTOMY_TUBE', 'INCLAS_INTUBATION', 'INCLAS_LIPID_MODIFYING_AGENTS', 'INCLAS_MUSCLE_RELAXANTS', \n",
    "               'INCLAS_NONINVASIVE_POSITIVE_PRESSURE_VENTILATION', 'INCLAS_NONINVASIVE_VENTILATION', 'INCLAS_OTHER_RESPIRATORY_SYSTEM_PRODUCTS', \n",
    "               'INCLAS_OXYGEN', 'INCLAS_PERCUTANEOUS_ENDOSCOPIC_GASTROSTOMY', 'INCLAS_PRONE_BODY_POSITION', 'INCLAS_PSYCHOLEPTICS', \n",
    "               'INCLAS_REMOVAL_OF_ENDOTRACHEAL_TUBE', 'INCLAS_RENAL_REPLACEMENT', 'INCLAS_REPLACEMENT_AGENT', 'INCLAS_TOTAL_PARENTERAL_NUTRITION', \n",
    "               'INCLAS_TRANSFUSION_OF_BLOOD_PRODUCT', 'INCLAS_VACCINES', \n",
    "               'MBTEST_ADENOVIRUS', 'MBTEST_BACTERIA','MBTEST_INFLUENZA', 'MBTEST_MB_SEVERE_ACUTE_RESP_SYND_CORONAVIRUS', 'MBTEST_OTHER PATHOGENS', \n",
    "               'MBTEST_OTHER RESPIRATORY PATHOGENS', 'MBTEST_RSV', \n",
    "               'RPSTRESC', \n",
    "               'RSCAT_AVPU', \n",
    "               'SACAT_COMORBIDITIES', 'SACAT_COMPLICATIONS', 'SACAT_PREVIOUS_COVID-19_INFECTION', \n",
    "               'SCTEST_Appropriate_Developmental_Age_Indicator', 'SCTEST_Breast_Fed_Indicator', 'SCTEST_Infant_Less_Than_One_Year_Indicator', \n",
    "               'SCTEST_Premature_Birth_Indicator']"
   ]
  },
  {
   "cell_type": "code",
   "execution_count": 36,
   "id": "5bd2536e-70bc-4621-9b54-01ce0cdcbead",
   "metadata": {},
   "outputs": [],
   "source": [
    "# First for some columns in particular, it is more \"logical\" to put 0 (baseline) to fill NA\n",
    "\n",
    "NA_to_0 = ['HODECOD', \n",
    "           'IETEST_Acute_Respiratory_Infection', 'IETEST_Cough', 'IETEST_Covid_ICU', 'IETEST_Covid_admission', 'IETEST_Dyspnoea_Tachypnoea', 'IETEST_Fever', \n",
    "           'IETEST_Inflammatory_MultiSystem_Syndrome', 'IETEST_noCovid_ICU',  \n",
    "           'INCLAS_AGENTS_ACTING_ON_THE_RENIN-ANGIOTENSIN_SYSTEM', 'INCLAS_ANALGESICS', 'INCLAS_ANESTHETICS', \n",
    "           'INCLAS_ANTIBACTERIALS_FOR_SYSTEMIC_USE', 'INCLAS_ANTIHELMINTICS', 'INCLAS_ANTIINFLAMMATORY_AND_ANTIRHEUMATIC_PRODUCTS,_NON-STEROIDS',\n",
    "           'INCLAS_ANTIMALARIALS', 'INCLAS_ANTIMYCOTICS_FOR_SYSTEMIC_USE', 'INCLAS_ANTITHROMBOTIC_AGENTS',\n",
    "           'INCLAS_ANTIVIRALS_FOR_SYSTEMIC_USE', 'INCLAS_ARTIFICIAL_RESPIRATION', 'INCLAS_BETA_BLOCKING_AGENTS',\n",
    "           'INCLAS_BLOOD_SUBSTITUTES_AND_PERFUSION_SOLUTIONS', 'INCLAS_BRONCHOSCOPY', 'INCLAS_CARDIAC_PACING',\n",
    "           'INCLAS_CARDIAC_THERAPY', 'INCLAS_CARDIOPULMONARY_RESUSCITATION', 'INCLAS_CHEMOTHERAPY', 'INCLAS_CORTICOSTEROIDS_FOR_SYSTEMIC_USE',\n",
    "           'INCLAS_DIURETICS', 'INCLAS_DRUGS_FOR_ACID_RELATED_DISORDERS', 'INCLAS_DRUGS_FOR_OBSTRUCTIVE_AIRWAY_DISEASES', 'INCLAS_EXTRACORPOREAL_MEMBRANE_OXYGENATION', \n",
    "           'INCLAS_HIGH_FLOW_OXYGEN_NASAL_CANNULA', 'INCLAS_IMMUNOGLOBULINS', 'INCLAS_IMMUNOSTIMULANTS', 'INCLAS_IMMUNOSUPPRESSANTS', \n",
    "           'INCLAS_INSERTION_OF_TRACHEOSTOMY_TUBE', 'INCLAS_INTUBATION', 'INCLAS_LIPID_MODIFYING_AGENTS', 'INCLAS_MUSCLE_RELAXANTS', \n",
    "           'INCLAS_NONINVASIVE_POSITIVE_PRESSURE_VENTILATION', 'INCLAS_NONINVASIVE_VENTILATION', 'INCLAS_OTHER_RESPIRATORY_SYSTEM_PRODUCTS', \n",
    "           'INCLAS_OXYGEN', 'INCLAS_PERCUTANEOUS_ENDOSCOPIC_GASTROSTOMY', 'INCLAS_PRONE_BODY_POSITION', 'INCLAS_PSYCHOLEPTICS', \n",
    "           'INCLAS_REMOVAL_OF_ENDOTRACHEAL_TUBE', 'INCLAS_RENAL_REPLACEMENT', 'INCLAS_REPLACEMENT_AGENT', 'INCLAS_TOTAL_PARENTERAL_NUTRITION', \n",
    "           'INCLAS_TRANSFUSION_OF_BLOOD_PRODUCT', 'INCLAS_VACCINES', \n",
    "           'MBTEST_ADENOVIRUS', 'MBTEST_BACTERIA','MBTEST_INFLUENZA', 'MBTEST_MB_SEVERE_ACUTE_RESP_SYND_CORONAVIRUS', 'MBTEST_OTHER PATHOGENS', \n",
    "           'MBTEST_OTHER RESPIRATORY PATHOGENS', 'MBTEST_RSV', \n",
    "           'RPSTRESC', \n",
    "           'RSCAT_AVPU', \n",
    "           'SACAT_COMORBIDITIES', 'SACAT_COMPLICATIONS']"
   ]
  },
  {
   "cell_type": "code",
   "execution_count": 37,
   "id": "ed67874a",
   "metadata": {},
   "outputs": [],
   "source": [
    "# Fill NA and standardize\n",
    "\n",
    "def preProcess(df_train, df_test, categorical, NA_to_0) :\n",
    "    \n",
    "    # 1. Replace NA by 0 in NA_to_0 columns\n",
    "    \n",
    "    df_train[df_train.columns[df_train.columns.isin(NA_to_0)]] = df_train[df_train.columns[df_train.columns.isin(NA_to_0)]].fillna(0)\n",
    "    df_test[df_test.columns[df_test.columns.isin(NA_to_0)]] = df_test[df_test.columns[df_test.columns.isin(NA_to_0)]].fillna(0)\n",
    "    \n",
    "    # 2. Separate in categorical and continuous columns\n",
    "    \n",
    "    df_train_cat = df_train[df_train.columns[df_train.columns.isin(categorical)]]\n",
    "    df_train_con = df_train[df_train.columns[~df_train.columns.isin(categorical)]]\n",
    "    df_test_cat = df_test[df_test.columns[df_test.columns.isin(categorical)]]\n",
    "    df_test_con = df_test[df_test.columns[~df_test.columns.isin(categorical)]]\n",
    "    \n",
    "    cols_cat = df_train_cat.columns\n",
    "    cols_con = df_train_con.columns\n",
    "    print(cols_con)\n",
    "    \n",
    "    # 3. Fill the missing values \n",
    "        \n",
    "        # For categorical variables\n",
    "    imp_cat = SimpleImputer(strategy = \"most_frequent\")\n",
    "    imp_cat = imp_cat.fit(df_train_cat)\n",
    "    \n",
    "    df_train_cat = imp_cat.transform(df_train_cat)\n",
    "    df_test_cat = imp_cat.transform(df_test_cat)\n",
    "    df_train_cat = pd.DataFrame(df_train_cat, columns=cols_cat)\n",
    "    df_test_cat = pd.DataFrame(df_test_cat, columns=cols_cat)\n",
    "    \n",
    "        # For continuous variables\n",
    "    imp_con = SimpleImputer(strategy = \"median\")\n",
    "    imp_con = imp_con.fit(df_train_con)\n",
    "    \n",
    "    print(df_train_con.shape)\n",
    "    df_train_con = imp_con.transform(df_train_con)\n",
    "    print(np.shape(df_train_con))\n",
    "    df_test_con = imp_con.transform(df_test_con)\n",
    "    df_train_con = pd.DataFrame(df_train_con, columns=cols_con)\n",
    "    df_test_con = pd.DataFrame(df_test_con, columns=cols_con)\n",
    "\n",
    "    # 4. Standardization of continuous data\n",
    "    \n",
    "    scaler = StandardScaler()\n",
    "    scaler = scaler.fit(df_train_con)\n",
    "    \n",
    "    df_train_con = scaler.transform(df_train_con)\n",
    "    df_test_con = scaler.transform(df_test_con)\n",
    "    df_train_con = pd.DataFrame(df_train_con, columns=cols_con)\n",
    "    df_test_con = pd.DataFrame(df_test_con, columns=cols_con)\n",
    "    \n",
    "    # 5. Creation of X and y matrixes\n",
    "    \n",
    "    df_train = pd.concat([df_train_cat, df_train_con], axis=1)\n",
    "    df_test = pd.concat([df_test_cat, df_test_con], axis=1)\n",
    "    \n",
    "    X_train = df_train.loc[:, df_train.columns!='DSDECOD']\n",
    "    y_train = df_train['DSDECOD']\n",
    "    X_test = df_test.loc[:, df_test.columns!='DSDECOD']\n",
    "    y_test = df_test['DSDECOD']\n",
    "    \n",
    "    # 6. Get feature names\n",
    "    \n",
    "    feature_names = df_train.loc[:, df_train.columns!='DSDECOD'].columns\n",
    "    \n",
    "    return X_train, y_train, X_test, y_test, feature_names"
   ]
  },
  {
   "cell_type": "code",
   "execution_count": 38,
   "id": "5e45a5ec",
   "metadata": {},
   "outputs": [
    {
     "name": "stdout",
     "output_type": "stream",
     "text": [
      "Index(['AGE', 'LBTEST_ALT', 'LBTEST_APTT', 'LBTEST_APTTSTND', 'LBTEST_AST',\n",
      "       'LBTEST_BASEEXCS', 'LBTEST_BICARB', 'LBTEST_BILI', 'LBTEST_CD4',\n",
      "       'LBTEST_CK', 'LBTEST_CREAT', 'LBTEST_CRP', 'LBTEST_FERRITIN',\n",
      "       'LBTEST_GLUC', 'LBTEST_HCT', 'LBTEST_HGB', 'LBTEST_INR', 'LBTEST_K',\n",
      "       'LBTEST_LACTICAC', 'LBTEST_LDH', 'LBTEST_LYM', 'LBTEST_NEUT',\n",
      "       'LBTEST_PCT', 'LBTEST_PH', 'LBTEST_PLAT', 'LBTEST_PT', 'LBTEST_SODIUM',\n",
      "       'LBTEST_UREAN', 'LBTEST_WBC', 'VSTEST_CPLRFLT', 'VSTEST_DIABP',\n",
      "       'VSTEST_HEIGHT', 'VSTEST_HR', 'VSTEST_MAP', 'VSTEST_OXYSAT',\n",
      "       'VSTEST_RESP', 'VSTEST_SYSBP', 'VSTEST_TEMP', 'VSTEST_WEIGHT'],\n",
      "      dtype='object')\n",
      "(14000, 39)\n",
      "(14000, 39)\n"
     ]
    },
    {
     "name": "stderr",
     "output_type": "stream",
     "text": [
      "C:\\Users\\sande\\anaconda3\\lib\\site-packages\\pandas\\core\\frame.py:3641: SettingWithCopyWarning: \n",
      "A value is trying to be set on a copy of a slice from a DataFrame.\n",
      "Try using .loc[row_indexer,col_indexer] = value instead\n",
      "\n",
      "See the caveats in the documentation: https://pandas.pydata.org/pandas-docs/stable/user_guide/indexing.html#returning-a-view-versus-a-copy\n",
      "  self[k1] = value[k2]\n"
     ]
    }
   ],
   "source": [
    "X_train, y_train, X_test, y_test, features = preProcess(df_train, df_test, categorical, NA_to_0) "
   ]
  },
  {
   "cell_type": "markdown",
   "id": "c92ce6ba-3a64-48e8-9697-3e42de3ea8a9",
   "metadata": {},
   "source": [
    "## 6. Feature selection algorithms"
   ]
  },
  {
   "cell_type": "markdown",
   "id": "241e5f57",
   "metadata": {},
   "source": [
    "Les propositions sont faites à partir de: https://scikit-learn.org/stable/modules/feature_selection.html"
   ]
  },
  {
   "cell_type": "code",
   "execution_count": 41,
   "id": "d980e495",
   "metadata": {},
   "outputs": [],
   "source": [
    "# /!\\ CHOOSE THE CLASSIFIER /!\\\n",
    "classifier = LogisticRegression()\n",
    "name_classifier = 'svm' # give the name of the classifier (str) to save the file at the end\n",
    "\n",
    "# /!\\ CHOOSE THE MINIMUM NUMBER OF FEATURES TO CONSIDER /!\\\n",
    "min_features_to_select = 15 \n",
    "\n",
    "# List of possible classifiers :\n",
    "# These are the classifiers we will test in the file \"III_moels-and-presdictions\"\n",
    "    # LogisticRegression()\n",
    "    # KNeighborsClassifier()\n",
    "    # svm.SVC()\n",
    "    # MLPClassifier()\n",
    "    # QuadraticDiscriminantAnalysis()\n",
    "    # xgb.XGBClassifier(objective=\"binary:logistic\", random_state=42)"
   ]
  },
  {
   "cell_type": "markdown",
   "id": "d415debb",
   "metadata": {
    "tags": []
   },
   "source": [
    "### 6.1. Recursive feature elimination (RFE) with cross-validation"
   ]
  },
  {
   "cell_type": "code",
   "execution_count": 42,
   "id": "18e4d7d2-3a6a-45d2-983e-b040fb779046",
   "metadata": {},
   "outputs": [
    {
     "data": {
      "text/plain": [
       "RFECV(cv=StratifiedKFold(n_splits=4, random_state=None, shuffle=False),\n",
       "      estimator=SVC(kernel='linear'), min_features_to_select=15, scoring='f1')"
      ]
     },
     "execution_count": 42,
     "metadata": {},
     "output_type": "execute_result"
    }
   ],
   "source": [
    "# Create the RFE object and compute a cross-validated score\n",
    "rfecv = RFECV(estimator=classifier,\n",
    "              step=1,\n",
    "              cv=StratifiedKFold(4),\n",
    "              scoring='f1',\n",
    "              min_features_to_select=min_features_to_select)\n",
    "rfecv.fit(X_train, y_train)"
   ]
  },
  {
   "cell_type": "code",
   "execution_count": 43,
   "id": "f19d5aa5-6da9-4fd0-9656-f8bc538be112",
   "metadata": {},
   "outputs": [
    {
     "name": "stdout",
     "output_type": "stream",
     "text": [
      "Optimal number of features : 91\n"
     ]
    },
    {
     "data": {
      "image/png": "[encoded data removed]",
      "text/plain": [
       "<Figure size 432x288 with 1 Axes>"
      ]
     },
     "metadata": {
      "needs_background": "light"
     },
     "output_type": "display_data"
    }
   ],
   "source": [
    "# Optimal number of features\n",
    "print(\"Optimal number of features : %d\" % rfecv.n_features_)\n",
    "\n",
    "# Plot number of features VS. cross-validation scores\n",
    "plt.figure()\n",
    "plt.xlabel(\"Number of features selected\")\n",
    "plt.ylabel(\"Cross validation score (f1_score)\")\n",
    "plt.plot(range(min_features_to_select, len(rfecv.grid_scores_) + min_features_to_select),\n",
    "         rfecv.grid_scores_)\n",
    "plt.show()"
   ]
  },
  {
   "cell_type": "code",
   "execution_count": 44,
   "id": "926c02d6-3eea-4036-b5ee-a0512f0732b5",
   "metadata": {},
   "outputs": [
    {
     "data": {
      "text/html": [
       "<div>\n",
       "<style scoped>\n",
       "    .dataframe tbody tr th:only-of-type {\n",
       "        vertical-align: middle;\n",
       "    }\n",
       "\n",
       "    .dataframe tbody tr th {\n",
       "        vertical-align: top;\n",
       "    }\n",
       "\n",
       "    .dataframe thead th {\n",
       "        text-align: right;\n",
       "    }\n",
       "</style>\n",
       "<table border=\"1\" class=\"dataframe\">\n",
       "  <thead>\n",
       "    <tr style=\"text-align: right;\">\n",
       "      <th></th>\n",
       "      <th>Feature</th>\n",
       "      <th>Rank</th>\n",
       "    </tr>\n",
       "  </thead>\n",
       "  <tbody>\n",
       "    <tr>\n",
       "      <th>51</th>\n",
       "      <td>INCLAS_VACCINES</td>\n",
       "      <td>1</td>\n",
       "    </tr>\n",
       "    <tr>\n",
       "      <th>73</th>\n",
       "      <td>LBTEST_CREAT</td>\n",
       "      <td>1</td>\n",
       "    </tr>\n",
       "    <tr>\n",
       "      <th>72</th>\n",
       "      <td>LBTEST_CK</td>\n",
       "      <td>1</td>\n",
       "    </tr>\n",
       "    <tr>\n",
       "      <th>70</th>\n",
       "      <td>LBTEST_BILI</td>\n",
       "      <td>1</td>\n",
       "    </tr>\n",
       "    <tr>\n",
       "      <th>69</th>\n",
       "      <td>LBTEST_BICARB</td>\n",
       "      <td>1</td>\n",
       "    </tr>\n",
       "    <tr>\n",
       "      <th>68</th>\n",
       "      <td>LBTEST_BASEEXCS</td>\n",
       "      <td>1</td>\n",
       "    </tr>\n",
       "    <tr>\n",
       "      <th>67</th>\n",
       "      <td>LBTEST_AST</td>\n",
       "      <td>1</td>\n",
       "    </tr>\n",
       "    <tr>\n",
       "      <th>66</th>\n",
       "      <td>LBTEST_APTTSTND</td>\n",
       "      <td>1</td>\n",
       "    </tr>\n",
       "    <tr>\n",
       "      <th>65</th>\n",
       "      <td>LBTEST_APTT</td>\n",
       "      <td>1</td>\n",
       "    </tr>\n",
       "    <tr>\n",
       "      <th>64</th>\n",
       "      <td>LBTEST_ALT</td>\n",
       "      <td>1</td>\n",
       "    </tr>\n",
       "    <tr>\n",
       "      <th>62</th>\n",
       "      <td>IETEST_Fever</td>\n",
       "      <td>1</td>\n",
       "    </tr>\n",
       "    <tr>\n",
       "      <th>61</th>\n",
       "      <td>IETEST_Dyspnoea_Tachypnoea</td>\n",
       "      <td>1</td>\n",
       "    </tr>\n",
       "    <tr>\n",
       "      <th>60</th>\n",
       "      <td>IETEST_Cough</td>\n",
       "      <td>1</td>\n",
       "    </tr>\n",
       "    <tr>\n",
       "      <th>59</th>\n",
       "      <td>IETEST_Acute_Respiratory_Infection</td>\n",
       "      <td>1</td>\n",
       "    </tr>\n",
       "    <tr>\n",
       "      <th>56</th>\n",
       "      <td>SACAT_COMPLICATIONS</td>\n",
       "      <td>1</td>\n",
       "    </tr>\n",
       "    <tr>\n",
       "      <th>55</th>\n",
       "      <td>SACAT_COMORBIDITIES</td>\n",
       "      <td>1</td>\n",
       "    </tr>\n",
       "    <tr>\n",
       "      <th>54</th>\n",
       "      <td>RSCAT_AVPU</td>\n",
       "      <td>1</td>\n",
       "    </tr>\n",
       "    <tr>\n",
       "      <th>52</th>\n",
       "      <td>MBTEST_OTHER RESPIRATORY PATHOGENS</td>\n",
       "      <td>1</td>\n",
       "    </tr>\n",
       "    <tr>\n",
       "      <th>50</th>\n",
       "      <td>INCLAS_TRANSFUSION_OF_BLOOD_PRODUCT</td>\n",
       "      <td>1</td>\n",
       "    </tr>\n",
       "    <tr>\n",
       "      <th>49</th>\n",
       "      <td>INCLAS_TOTAL_PARENTERAL_NUTRITION</td>\n",
       "      <td>1</td>\n",
       "    </tr>\n",
       "    <tr>\n",
       "      <th>74</th>\n",
       "      <td>LBTEST_CRP</td>\n",
       "      <td>1</td>\n",
       "    </tr>\n",
       "    <tr>\n",
       "      <th>75</th>\n",
       "      <td>LBTEST_FERRITIN</td>\n",
       "      <td>1</td>\n",
       "    </tr>\n",
       "    <tr>\n",
       "      <th>76</th>\n",
       "      <td>LBTEST_GLUC</td>\n",
       "      <td>1</td>\n",
       "    </tr>\n",
       "    <tr>\n",
       "      <th>78</th>\n",
       "      <td>LBTEST_HGB</td>\n",
       "      <td>1</td>\n",
       "    </tr>\n",
       "    <tr>\n",
       "      <th>99</th>\n",
       "      <td>VSTEST_RESP</td>\n",
       "      <td>1</td>\n",
       "    </tr>\n",
       "    <tr>\n",
       "      <th>98</th>\n",
       "      <td>VSTEST_OXYSAT</td>\n",
       "      <td>1</td>\n",
       "    </tr>\n",
       "    <tr>\n",
       "      <th>97</th>\n",
       "      <td>VSTEST_MAP</td>\n",
       "      <td>1</td>\n",
       "    </tr>\n",
       "    <tr>\n",
       "      <th>96</th>\n",
       "      <td>VSTEST_HR</td>\n",
       "      <td>1</td>\n",
       "    </tr>\n",
       "    <tr>\n",
       "      <th>95</th>\n",
       "      <td>VSTEST_HEIGHT</td>\n",
       "      <td>1</td>\n",
       "    </tr>\n",
       "    <tr>\n",
       "      <th>94</th>\n",
       "      <td>VSTEST_DIABP</td>\n",
       "      <td>1</td>\n",
       "    </tr>\n",
       "    <tr>\n",
       "      <th>92</th>\n",
       "      <td>RSCAT_GCS_NINDS_VERSION</td>\n",
       "      <td>1</td>\n",
       "    </tr>\n",
       "    <tr>\n",
       "      <th>91</th>\n",
       "      <td>LBTEST_WBC</td>\n",
       "      <td>1</td>\n",
       "    </tr>\n",
       "    <tr>\n",
       "      <th>90</th>\n",
       "      <td>LBTEST_UREAN</td>\n",
       "      <td>1</td>\n",
       "    </tr>\n",
       "    <tr>\n",
       "      <th>47</th>\n",
       "      <td>INCLAS_RENAL_REPLACEMENT</td>\n",
       "      <td>1</td>\n",
       "    </tr>\n",
       "    <tr>\n",
       "      <th>89</th>\n",
       "      <td>LBTEST_SODIUM</td>\n",
       "      <td>1</td>\n",
       "    </tr>\n",
       "    <tr>\n",
       "      <th>87</th>\n",
       "      <td>LBTEST_PLAT</td>\n",
       "      <td>1</td>\n",
       "    </tr>\n",
       "    <tr>\n",
       "      <th>86</th>\n",
       "      <td>LBTEST_PH</td>\n",
       "      <td>1</td>\n",
       "    </tr>\n",
       "    <tr>\n",
       "      <th>85</th>\n",
       "      <td>LBTEST_PCT</td>\n",
       "      <td>1</td>\n",
       "    </tr>\n",
       "    <tr>\n",
       "      <th>84</th>\n",
       "      <td>LBTEST_NEUT</td>\n",
       "      <td>1</td>\n",
       "    </tr>\n",
       "    <tr>\n",
       "      <th>83</th>\n",
       "      <td>LBTEST_LYM</td>\n",
       "      <td>1</td>\n",
       "    </tr>\n",
       "  </tbody>\n",
       "</table>\n",
       "</div>"
      ],
      "text/plain": [
       "                                Feature  Rank\n",
       "51                      INCLAS_VACCINES     1\n",
       "73                         LBTEST_CREAT     1\n",
       "72                            LBTEST_CK     1\n",
       "70                          LBTEST_BILI     1\n",
       "69                        LBTEST_BICARB     1\n",
       "68                      LBTEST_BASEEXCS     1\n",
       "67                           LBTEST_AST     1\n",
       "66                      LBTEST_APTTSTND     1\n",
       "65                          LBTEST_APTT     1\n",
       "64                           LBTEST_ALT     1\n",
       "62                         IETEST_Fever     1\n",
       "61           IETEST_Dyspnoea_Tachypnoea     1\n",
       "60                         IETEST_Cough     1\n",
       "59   IETEST_Acute_Respiratory_Infection     1\n",
       "56                  SACAT_COMPLICATIONS     1\n",
       "55                  SACAT_COMORBIDITIES     1\n",
       "54                           RSCAT_AVPU     1\n",
       "52   MBTEST_OTHER RESPIRATORY PATHOGENS     1\n",
       "50  INCLAS_TRANSFUSION_OF_BLOOD_PRODUCT     1\n",
       "49    INCLAS_TOTAL_PARENTERAL_NUTRITION     1\n",
       "74                           LBTEST_CRP     1\n",
       "75                      LBTEST_FERRITIN     1\n",
       "76                          LBTEST_GLUC     1\n",
       "78                           LBTEST_HGB     1\n",
       "99                          VSTEST_RESP     1\n",
       "98                        VSTEST_OXYSAT     1\n",
       "97                           VSTEST_MAP     1\n",
       "96                            VSTEST_HR     1\n",
       "95                        VSTEST_HEIGHT     1\n",
       "94                         VSTEST_DIABP     1\n",
       "92              RSCAT_GCS_NINDS_VERSION     1\n",
       "91                           LBTEST_WBC     1\n",
       "90                         LBTEST_UREAN     1\n",
       "47             INCLAS_RENAL_REPLACEMENT     1\n",
       "89                        LBTEST_SODIUM     1\n",
       "87                          LBTEST_PLAT     1\n",
       "86                            LBTEST_PH     1\n",
       "85                           LBTEST_PCT     1\n",
       "84                          LBTEST_NEUT     1\n",
       "83                           LBTEST_LYM     1"
      ]
     },
     "execution_count": 44,
     "metadata": {},
     "output_type": "execute_result"
    }
   ],
   "source": [
    "# See feature ranking\n",
    "df_rfecv = pd.DataFrame(list(zip(features, rfecv.ranking_)), columns =['Feature', 'Rank']).sort_values(by='Rank')\n",
    "df_rfecv.head(40)"
   ]
  },
  {
   "cell_type": "code",
   "execution_count": 45,
   "id": "c557925a-3de7-4fbe-83d9-868ea6be4315",
   "metadata": {},
   "outputs": [
    {
     "data": {
      "text/plain": [
       "Index(['CONTINENT_AF', 'CONTINENT_AS', 'CONTINENT_EU', 'CONTINENT_NA',\n",
       "       'CONTINENT_SA', 'HODECOD',\n",
       "       'INCLAS_AGENTS_ACTING_ON_THE_RENIN-ANGIOTENSIN_SYSTEM',\n",
       "       'INCLAS_ANALGESICS', 'INCLAS_ANESTHETICS',\n",
       "       'INCLAS_ANTIBACTERIALS_FOR_SYSTEMIC_USE', 'INCLAS_ANTIHELMINTICS',\n",
       "       'INCLAS_ANTIINFLAMMATORY_AND_ANTIRHEUMATIC_PRODUCTS,_NON-STEROIDS',\n",
       "       'INCLAS_ANTIMALARIALS', 'INCLAS_ANTIMYCOTICS_FOR_SYSTEMIC_USE',\n",
       "       'INCLAS_ANTITHROMBOTIC_AGENTS', 'INCLAS_ANTIVIRALS_FOR_SYSTEMIC_USE',\n",
       "       'INCLAS_ARTIFICIAL_RESPIRATION', 'INCLAS_BETA_BLOCKING_AGENTS',\n",
       "       'INCLAS_BLOOD_SUBSTITUTES_AND_PERFUSION_SOLUTIONS',\n",
       "       'INCLAS_BRONCHOSCOPY', 'INCLAS_CARDIAC_PACING',\n",
       "       'INCLAS_CARDIAC_THERAPY', 'INCLAS_CARDIOPULMONARY_RESUSCITATION',\n",
       "       'INCLAS_CHEMOTHERAPY', 'INCLAS_CORTICOSTEROIDS_FOR_SYSTEMIC_USE',\n",
       "       'INCLAS_DIURETICS', 'INCLAS_DRUGS_FOR_ACID_RELATED_DISORDERS',\n",
       "       'INCLAS_DRUGS_FOR_OBSTRUCTIVE_AIRWAY_DISEASES',\n",
       "       'INCLAS_EXTRACORPOREAL_MEMBRANE_OXYGENATION',\n",
       "       'INCLAS_HIGH_FLOW_OXYGEN_NASAL_CANNULA', 'INCLAS_IMMUNOGLOBULINS',\n",
       "       'INCLAS_IMMUNOSTIMULANTS', 'INCLAS_IMMUNOSUPPRESSANTS',\n",
       "       'INCLAS_INSERTION_OF_TRACHEOSTOMY_TUBE', 'INCLAS_INTUBATION',\n",
       "       'INCLAS_LIPID_MODIFYING_AGENTS', 'INCLAS_MUSCLE_RELAXANTS',\n",
       "       'INCLAS_NONINVASIVE_POSITIVE_PRESSURE_VENTILATION',\n",
       "       'INCLAS_NONINVASIVE_VENTILATION',\n",
       "       'INCLAS_OTHER_RESPIRATORY_SYSTEM_PRODUCTS', 'INCLAS_OXYGEN',\n",
       "       'INCLAS_PERCUTANEOUS_ENDOSCOPIC_GASTROSTOMY',\n",
       "       'INCLAS_PRONE_BODY_POSITION', 'INCLAS_PSYCHOLEPTICS',\n",
       "       'INCLAS_REMOVAL_OF_ENDOTRACHEAL_TUBE', 'INCLAS_RENAL_REPLACEMENT',\n",
       "       'INCLAS_TOTAL_PARENTERAL_NUTRITION',\n",
       "       'INCLAS_TRANSFUSION_OF_BLOOD_PRODUCT', 'INCLAS_VACCINES',\n",
       "       'MBTEST_OTHER RESPIRATORY PATHOGENS', 'RSCAT_AVPU',\n",
       "       'SACAT_COMORBIDITIES', 'SACAT_COMPLICATIONS',\n",
       "       'IETEST_Acute_Respiratory_Infection', 'IETEST_Cough',\n",
       "       'IETEST_Dyspnoea_Tachypnoea', 'IETEST_Fever', 'LBTEST_ALT',\n",
       "       'LBTEST_APTT', 'LBTEST_APTTSTND', 'LBTEST_AST', 'LBTEST_BASEEXCS',\n",
       "       'LBTEST_BICARB', 'LBTEST_BILI', 'LBTEST_CK', 'LBTEST_CREAT',\n",
       "       'LBTEST_CRP', 'LBTEST_FERRITIN', 'LBTEST_GLUC', 'LBTEST_HGB',\n",
       "       'LBTEST_INR', 'LBTEST_K', 'LBTEST_LACTICAC', 'LBTEST_LDH', 'LBTEST_LYM',\n",
       "       'LBTEST_NEUT', 'LBTEST_PCT', 'LBTEST_PH', 'LBTEST_PLAT', 'LBTEST_PT',\n",
       "       'LBTEST_SODIUM', 'LBTEST_UREAN', 'LBTEST_WBC',\n",
       "       'RSCAT_GCS_NINDS_VERSION', 'VSTEST_DIABP', 'VSTEST_HEIGHT', 'VSTEST_HR',\n",
       "       'VSTEST_MAP', 'VSTEST_OXYSAT', 'VSTEST_RESP', 'VSTEST_WEIGHT'],\n",
       "      dtype='object')"
      ]
     },
     "execution_count": 45,
     "metadata": {},
     "output_type": "execute_result"
    }
   ],
   "source": [
    "# Colonnes selected\n",
    "features_rfecv = features[rfecv.support_]\n",
    "features_rfecv"
   ]
  },
  {
   "cell_type": "markdown",
   "id": "b8dd0fb4",
   "metadata": {
    "tags": []
   },
   "source": [
    "### 6.2. Sequential Feature Selection"
   ]
  },
  {
   "cell_type": "markdown",
   "id": "9b786242-0038-4065-a398-7974526360ae",
   "metadata": {},
   "source": [
    "We will test two approaches for feature selection: SelectFromModel which is based on feature importance, and SequentialFeatureSelection which relies on a greedy approach.\n",
    "\n",
    "*NB from Sklearn:*\n",
    "- In general, the two methods would lead to different results.\n",
    "- We also note that the features selected by SFS differ from those selected by feature importance.\n",
    "- To finish with, we should note that SelectFromModel is significantly faster than SFS. Indeed, SelectFromModel only needs to fit a model once, while SFS needs to cross-validate many different models for each of the iterations. SFS however works with any model, while SelectFromModel requires the underlying estimator to expose a coef_ attribute or a feature_importances_ attribute. The forward SFS is faster than the backward SFS because it only needs to perform n_features_to_select = 2 iterations, while the backward SFS needs to perform n_features - n_features_to_select = 8 iterations."
   ]
  },
  {
   "cell_type": "markdown",
   "id": "4b24ffbe-99ed-4d4a-b114-156db9cf7d8a",
   "metadata": {
    "jp-MarkdownHeadingCollapsed": true,
    "tags": []
   },
   "source": [
    "#### 6.2.1. SelectFromModel"
   ]
  },
  {
   "cell_type": "markdown",
   "id": "d73c9435-02eb-4c3f-87a2-22d23afbcab0",
   "metadata": {},
   "source": [
    "Before using selectFromModel, we will get an idea of the importance of the features. The features with the highest absolute coef_ value are considered the most important."
   ]
  },
  {
   "cell_type": "code",
   "execution_count": 46,
   "id": "18d312c6-aaf2-4728-8e77-a6e1c600b2f2",
   "metadata": {},
   "outputs": [
    {
     "data": {
      "image/png": "[encoded data removed]",
      "text/plain": [
       "<Figure size 1800x504 with 1 Axes>"
      ]
     },
     "metadata": {
      "needs_background": "light"
     },
     "output_type": "display_data"
    }
   ],
   "source": [
    "# Feature importance from coefficients\n",
    "\n",
    "importance_fit = classifier.fit(X_train, y_train)\n",
    "\n",
    "if len(importance_fit.coef_.tolist())>1:\n",
    "       importance = np.abs(importance_fit.coef_)  \n",
    "else:\n",
    "       importance = np.abs(importance_fit.coef_.tolist()[0])\n",
    "\n",
    "df_importance = pd.DataFrame(list(zip(features, importance)), columns =['Feature', 'Importance']).sort_values(by='Importance', ascending=False)\n",
    "\n",
    "plt.figure(figsize=(25, 7))\n",
    "plt.bar('Feature', 'Importance', data=df_importance)\n",
    "plt.title(\"Feature importances via coefficients\")\n",
    "plt.xticks(rotation=90)\n",
    "plt.show()"
   ]
  },
  {
   "cell_type": "code",
   "execution_count": 47,
   "id": "16947db8-e163-46ff-b57e-b8d725ed5eaf",
   "metadata": {},
   "outputs": [
    {
     "data": {
      "text/html": [
       "<div>\n",
       "<style scoped>\n",
       "    .dataframe tbody tr th:only-of-type {\n",
       "        vertical-align: middle;\n",
       "    }\n",
       "\n",
       "    .dataframe tbody tr th {\n",
       "        vertical-align: top;\n",
       "    }\n",
       "\n",
       "    .dataframe thead th {\n",
       "        text-align: right;\n",
       "    }\n",
       "</style>\n",
       "<table border=\"1\" class=\"dataframe\">\n",
       "  <thead>\n",
       "    <tr style=\"text-align: right;\">\n",
       "      <th></th>\n",
       "      <th>Feature</th>\n",
       "      <th>Importance</th>\n",
       "    </tr>\n",
       "  </thead>\n",
       "  <tbody>\n",
       "    <tr>\n",
       "      <th>30</th>\n",
       "      <td>INCLAS_EXTRACORPOREAL_MEMBRANE_OXYGENATION</td>\n",
       "      <td>0.867572</td>\n",
       "    </tr>\n",
       "    <tr>\n",
       "      <th>10</th>\n",
       "      <td>INCLAS_ANESTHETICS</td>\n",
       "      <td>0.739061</td>\n",
       "    </tr>\n",
       "    <tr>\n",
       "      <th>54</th>\n",
       "      <td>RSCAT_AVPU</td>\n",
       "      <td>0.707705</td>\n",
       "    </tr>\n",
       "    <tr>\n",
       "      <th>15</th>\n",
       "      <td>INCLAS_ANTIMYCOTICS_FOR_SYSTEMIC_USE</td>\n",
       "      <td>0.585698</td>\n",
       "    </tr>\n",
       "    <tr>\n",
       "      <th>44</th>\n",
       "      <td>INCLAS_PRONE_BODY_POSITION</td>\n",
       "      <td>0.571022</td>\n",
       "    </tr>\n",
       "    <tr>\n",
       "      <th>17</th>\n",
       "      <td>INCLAS_ANTIVIRALS_FOR_SYSTEMIC_USE</td>\n",
       "      <td>0.515490</td>\n",
       "    </tr>\n",
       "    <tr>\n",
       "      <th>7</th>\n",
       "      <td>HODECOD</td>\n",
       "      <td>0.488880</td>\n",
       "    </tr>\n",
       "    <tr>\n",
       "      <th>46</th>\n",
       "      <td>INCLAS_REMOVAL_OF_ENDOTRACHEAL_TUBE</td>\n",
       "      <td>0.425999</td>\n",
       "    </tr>\n",
       "    <tr>\n",
       "      <th>21</th>\n",
       "      <td>INCLAS_BRONCHOSCOPY</td>\n",
       "      <td>0.425999</td>\n",
       "    </tr>\n",
       "    <tr>\n",
       "      <th>39</th>\n",
       "      <td>INCLAS_NONINVASIVE_POSITIVE_PRESSURE_VENTILATION</td>\n",
       "      <td>0.425999</td>\n",
       "    </tr>\n",
       "  </tbody>\n",
       "</table>\n",
       "</div>"
      ],
      "text/plain": [
       "                                             Feature  Importance\n",
       "30        INCLAS_EXTRACORPOREAL_MEMBRANE_OXYGENATION    0.867572\n",
       "10                                INCLAS_ANESTHETICS    0.739061\n",
       "54                                        RSCAT_AVPU    0.707705\n",
       "15              INCLAS_ANTIMYCOTICS_FOR_SYSTEMIC_USE    0.585698\n",
       "44                        INCLAS_PRONE_BODY_POSITION    0.571022\n",
       "17                INCLAS_ANTIVIRALS_FOR_SYSTEMIC_USE    0.515490\n",
       "7                                            HODECOD    0.488880\n",
       "46               INCLAS_REMOVAL_OF_ENDOTRACHEAL_TUBE    0.425999\n",
       "21                               INCLAS_BRONCHOSCOPY    0.425999\n",
       "39  INCLAS_NONINVASIVE_POSITIVE_PRESSURE_VENTILATION    0.425999"
      ]
     },
     "execution_count": 47,
     "metadata": {},
     "output_type": "execute_result"
    }
   ],
   "source": [
    "# See feature ranking\n",
    "df_importance.head(10)"
   ]
  },
  {
   "cell_type": "markdown",
   "id": "e9e1b07c-b6b8-4768-a576-59f53f1302f4",
   "metadata": {},
   "source": [
    "Now we select features which are the most important according to the coefficients using SelectFromModel."
   ]
  },
  {
   "cell_type": "code",
   "execution_count": 48,
   "id": "68bc9e2c-3cc9-49c3-b776-555297c33306",
   "metadata": {},
   "outputs": [
    {
     "name": "stdout",
     "output_type": "stream",
     "text": [
      "Features selected by SelectFromModel: Index(['CONTINENT_AF', 'CONTINENT_EU', 'CONTINENT_SA', 'HODECOD',\n",
      "       'INCLAS_ANESTHETICS', 'INCLAS_ANTIHELMINTICS',\n",
      "       'INCLAS_ANTIINFLAMMATORY_AND_ANTIRHEUMATIC_PRODUCTS,_NON-STEROIDS',\n",
      "       'INCLAS_ANTIMYCOTICS_FOR_SYSTEMIC_USE',\n",
      "       'INCLAS_ANTIVIRALS_FOR_SYSTEMIC_USE', 'INCLAS_ARTIFICIAL_RESPIRATION',\n",
      "       'INCLAS_BRONCHOSCOPY', 'INCLAS_CARDIAC_THERAPY', 'INCLAS_CHEMOTHERAPY',\n",
      "       'INCLAS_EXTRACORPOREAL_MEMBRANE_OXYGENATION',\n",
      "       'INCLAS_HIGH_FLOW_OXYGEN_NASAL_CANNULA', 'INCLAS_IMMUNOSTIMULANTS',\n",
      "       'INCLAS_INSERTION_OF_TRACHEOSTOMY_TUBE',\n",
      "       'INCLAS_LIPID_MODIFYING_AGENTS', 'INCLAS_MUSCLE_RELAXANTS',\n",
      "       'INCLAS_NONINVASIVE_POSITIVE_PRESSURE_VENTILATION',\n",
      "       'INCLAS_NONINVASIVE_VENTILATION',\n",
      "       'INCLAS_OTHER_RESPIRATORY_SYSTEM_PRODUCTS', 'INCLAS_OXYGEN',\n",
      "       'INCLAS_PERCUTANEOUS_ENDOSCOPIC_GASTROSTOMY',\n",
      "       'INCLAS_PRONE_BODY_POSITION', 'INCLAS_PSYCHOLEPTICS',\n",
      "       'INCLAS_REMOVAL_OF_ENDOTRACHEAL_TUBE', 'INCLAS_RENAL_REPLACEMENT',\n",
      "       'INCLAS_TOTAL_PARENTERAL_NUTRITION', 'INCLAS_VACCINES',\n",
      "       'MBTEST_OTHER RESPIRATORY PATHOGENS', 'RSCAT_AVPU', 'LBTEST_AST',\n",
      "       'LBTEST_LYM'],\n",
      "      dtype='object')\n"
     ]
    }
   ],
   "source": [
    "# SelectFromModel\n",
    "\n",
    "threshold = np.sort(importance)[-35] + 0.01\n",
    "sfm = SelectFromModel(classifier, threshold=threshold).fit(X_train, y_train)\n",
    "\n",
    "features_sfm = features[sfm.get_support()]\n",
    "print(f\"Features selected by SelectFromModel: {features_sfm}\")"
   ]
  },
  {
   "cell_type": "code",
   "execution_count": 49,
   "id": "5046a749",
   "metadata": {},
   "outputs": [
    {
     "data": {
      "text/plain": [
       "34"
      ]
     },
     "execution_count": 49,
     "metadata": {},
     "output_type": "execute_result"
    }
   ],
   "source": [
    "len(features_sfm)"
   ]
  },
  {
   "cell_type": "markdown",
   "id": "ce3c1ce7-4e75-4a76-8ead-10011fcdaafd",
   "metadata": {
    "tags": []
   },
   "source": [
    "#### 6.2.2 SequentialFeatureSelection"
   ]
  },
  {
   "cell_type": "code",
   "execution_count": null,
   "id": "e78e4de3-2de1-4b03-8aad-a0b1643e57c4",
   "metadata": {},
   "outputs": [],
   "source": [
    "# SequentialFeatureSelection\n",
    "sfs_forward = SequentialFeatureSelector(classifier, n_features_to_select=20, direction=\"forward\").fit(X_train, y_train)\n",
    "# sfs_backward = SequentialFeatureSelector(classifier, n_features_to_select=min_features_to_select, direction=\"backward\").fit(X_train, y_train)\n",
    "# sfs_backward takes forever to run"
   ]
  },
  {
   "cell_type": "code",
   "execution_count": null,
   "id": "4dd94ede-b103-49a4-918c-04a3e013acb9",
   "metadata": {},
   "outputs": [],
   "source": [
    "# Features selected\n",
    "\n",
    "features_sfs_forward = features[sfs_forward.get_support()]\n",
    "print(\"Features selected by forward sequential selection:\\n \" f\"{features_sfs_forward}\")\n",
    "\n",
    "print('------')\n",
    "\n",
    "# features_sfs_backward = features[sfs_backward.get_support()]\n",
    "print(\"Features selected by backward sequential selection:\\n \" f\"{features_sfs_backward}\")"
   ]
  },
  {
   "cell_type": "markdown",
   "id": "e134fa36-57dc-4f0f-975d-006650a9305e",
   "metadata": {},
   "source": [
    "## 7. Conclusions and final features selection"
   ]
  },
  {
   "cell_type": "code",
   "execution_count": null,
   "id": "612061f6-605d-4002-9c0b-876f8836bdfd",
   "metadata": {},
   "outputs": [],
   "source": [
    "# Convert list of features selected in pd.Series\n",
    "features_rfecv = pd.Series(features_rfecv)\n",
    "features_sfm = pd.Series(features_sfm)\n",
    "features_sfs_forward = pd.Series(features_sfs_forward)\n",
    "features_sfs_backward = pd.Series(features_sfs_backward)\n",
    "\n",
    "# List of all unique features selected for all methods\n",
    "features_all = pd.Series(pd.concat([features_rfecv, features_sfm, features_sfs_forward, features_sfs_backward]).unique())\n",
    "\n",
    "# Test for each method if the given feature is selected for each feature in features_all\n",
    "test_rfecv = features_all.isin(features_rfecv)\n",
    "test_sfm = features_all.isin(features_sfm)\n",
    "test_sfs_forward = features_all.isin(features_sfs_forward)\n",
    "test_sfs_backward = features_all.isin(features_sfs_backward)\n",
    "\n",
    "# Construct dataframe\n",
    "df_comparison = pd.DataFrame(list(zip(features_all, test_rfecv, test_sfm, test_sfs_forward, test_sfs_backward)), \n",
    "                             columns =['Feature', 'rfecv', 'sfm', 'sfs_fwd', 'sfs_bkd'])\n",
    "\n",
    "# Add column with number of True\n",
    "df_comparison['Number'] = df_comparison.sum(axis=1)\n",
    "\n",
    "# Sort values\n",
    "df_comparison = df_comparison.sort_values(by='Number', ascending=False) \\\n",
    "                             .replace({False:\"\", True:\"X\"})\n",
    "\n",
    "# Add number of NA for each column for the whole original dataframe\n",
    "df_comparison['NA_percent'] = NA_in_cols.loc[df_comparison.set_index('Feature').index, 'NA_percent'].tolist()\n",
    "\n",
    "\n",
    "# Display comparison\n",
    "df_comparison.set_index('Feature')"
   ]
  },
  {
   "cell_type": "markdown",
   "id": "ec995fcd-33b7-41d8-8ba6-26ad5fd83c3e",
   "metadata": {},
   "source": [
    "**Discussion**: **=> !!!TODO!!!**  \n",
    "Discuter des features à garder en fonction du tableau au dessus, des NA, de la littérature, etc...  \n",
    "Commenter/argumenter/critiquer..."
   ]
  },
  {
   "cell_type": "code",
   "execution_count": 50,
   "id": "2c37355f",
   "metadata": {},
   "outputs": [
    {
     "data": {
      "text/html": [
       "<div>\n",
       "<style scoped>\n",
       "    .dataframe tbody tr th:only-of-type {\n",
       "        vertical-align: middle;\n",
       "    }\n",
       "\n",
       "    .dataframe tbody tr th {\n",
       "        vertical-align: top;\n",
       "    }\n",
       "\n",
       "    .dataframe thead th {\n",
       "        text-align: right;\n",
       "    }\n",
       "</style>\n",
       "<table border=\"1\" class=\"dataframe\">\n",
       "  <thead>\n",
       "    <tr style=\"text-align: right;\">\n",
       "      <th></th>\n",
       "      <th>SEX</th>\n",
       "      <th>CONTINENT_AF</th>\n",
       "      <th>CONTINENT_AS</th>\n",
       "      <th>CONTINENT_EU</th>\n",
       "      <th>CONTINENT_NA</th>\n",
       "      <th>CONTINENT_OC</th>\n",
       "      <th>CONTINENT_SA</th>\n",
       "      <th>HODECOD</th>\n",
       "      <th>INCLAS_AGENTS_ACTING_ON_THE_RENIN-ANGIOTENSIN_SYSTEM</th>\n",
       "      <th>INCLAS_ANALGESICS</th>\n",
       "      <th>...</th>\n",
       "      <th>VSTEST_CPLRFLT</th>\n",
       "      <th>VSTEST_DIABP</th>\n",
       "      <th>VSTEST_HEIGHT</th>\n",
       "      <th>VSTEST_HR</th>\n",
       "      <th>VSTEST_MAP</th>\n",
       "      <th>VSTEST_OXYSAT</th>\n",
       "      <th>VSTEST_RESP</th>\n",
       "      <th>VSTEST_SYSBP</th>\n",
       "      <th>VSTEST_TEMP</th>\n",
       "      <th>VSTEST_WEIGHT</th>\n",
       "    </tr>\n",
       "  </thead>\n",
       "  <tbody>\n",
       "    <tr>\n",
       "      <th>0</th>\n",
       "      <td>0.0</td>\n",
       "      <td>1.0</td>\n",
       "      <td>0.0</td>\n",
       "      <td>0.0</td>\n",
       "      <td>0.0</td>\n",
       "      <td>0.0</td>\n",
       "      <td>0.0</td>\n",
       "      <td>1.0</td>\n",
       "      <td>1.0</td>\n",
       "      <td>0.0</td>\n",
       "      <td>...</td>\n",
       "      <td>0.0</td>\n",
       "      <td>-0.000508</td>\n",
       "      <td>0.020821</td>\n",
       "      <td>-0.039760</td>\n",
       "      <td>-0.009947</td>\n",
       "      <td>0.076806</td>\n",
       "      <td>-0.146457</td>\n",
       "      <td>-0.024724</td>\n",
       "      <td>-0.022428</td>\n",
       "      <td>-0.005458</td>\n",
       "    </tr>\n",
       "    <tr>\n",
       "      <th>1</th>\n",
       "      <td>0.0</td>\n",
       "      <td>1.0</td>\n",
       "      <td>0.0</td>\n",
       "      <td>0.0</td>\n",
       "      <td>0.0</td>\n",
       "      <td>0.0</td>\n",
       "      <td>0.0</td>\n",
       "      <td>1.0</td>\n",
       "      <td>1.0</td>\n",
       "      <td>0.0</td>\n",
       "      <td>...</td>\n",
       "      <td>0.0</td>\n",
       "      <td>-0.000508</td>\n",
       "      <td>0.020821</td>\n",
       "      <td>-0.039760</td>\n",
       "      <td>-0.009947</td>\n",
       "      <td>0.076806</td>\n",
       "      <td>-0.146457</td>\n",
       "      <td>-0.024724</td>\n",
       "      <td>-0.022428</td>\n",
       "      <td>-0.005458</td>\n",
       "    </tr>\n",
       "    <tr>\n",
       "      <th>2</th>\n",
       "      <td>0.0</td>\n",
       "      <td>1.0</td>\n",
       "      <td>0.0</td>\n",
       "      <td>0.0</td>\n",
       "      <td>0.0</td>\n",
       "      <td>0.0</td>\n",
       "      <td>0.0</td>\n",
       "      <td>1.0</td>\n",
       "      <td>1.0</td>\n",
       "      <td>0.0</td>\n",
       "      <td>...</td>\n",
       "      <td>0.0</td>\n",
       "      <td>-0.000508</td>\n",
       "      <td>0.020821</td>\n",
       "      <td>-0.039760</td>\n",
       "      <td>-0.009947</td>\n",
       "      <td>0.076806</td>\n",
       "      <td>-0.146457</td>\n",
       "      <td>-0.024724</td>\n",
       "      <td>-0.022428</td>\n",
       "      <td>-0.005458</td>\n",
       "    </tr>\n",
       "    <tr>\n",
       "      <th>3</th>\n",
       "      <td>1.0</td>\n",
       "      <td>1.0</td>\n",
       "      <td>0.0</td>\n",
       "      <td>0.0</td>\n",
       "      <td>0.0</td>\n",
       "      <td>0.0</td>\n",
       "      <td>0.0</td>\n",
       "      <td>1.0</td>\n",
       "      <td>1.0</td>\n",
       "      <td>0.0</td>\n",
       "      <td>...</td>\n",
       "      <td>0.0</td>\n",
       "      <td>-0.000508</td>\n",
       "      <td>0.020821</td>\n",
       "      <td>-0.039760</td>\n",
       "      <td>-0.009947</td>\n",
       "      <td>0.076806</td>\n",
       "      <td>-0.146457</td>\n",
       "      <td>-0.024724</td>\n",
       "      <td>-0.022428</td>\n",
       "      <td>-0.005458</td>\n",
       "    </tr>\n",
       "    <tr>\n",
       "      <th>4</th>\n",
       "      <td>1.0</td>\n",
       "      <td>1.0</td>\n",
       "      <td>0.0</td>\n",
       "      <td>0.0</td>\n",
       "      <td>0.0</td>\n",
       "      <td>0.0</td>\n",
       "      <td>0.0</td>\n",
       "      <td>1.0</td>\n",
       "      <td>1.0</td>\n",
       "      <td>0.0</td>\n",
       "      <td>...</td>\n",
       "      <td>0.0</td>\n",
       "      <td>-0.000508</td>\n",
       "      <td>0.020821</td>\n",
       "      <td>-0.039760</td>\n",
       "      <td>-0.009947</td>\n",
       "      <td>0.076806</td>\n",
       "      <td>-0.146457</td>\n",
       "      <td>-0.024724</td>\n",
       "      <td>-0.022428</td>\n",
       "      <td>-0.005458</td>\n",
       "    </tr>\n",
       "    <tr>\n",
       "      <th>...</th>\n",
       "      <td>...</td>\n",
       "      <td>...</td>\n",
       "      <td>...</td>\n",
       "      <td>...</td>\n",
       "      <td>...</td>\n",
       "      <td>...</td>\n",
       "      <td>...</td>\n",
       "      <td>...</td>\n",
       "      <td>...</td>\n",
       "      <td>...</td>\n",
       "      <td>...</td>\n",
       "      <td>...</td>\n",
       "      <td>...</td>\n",
       "      <td>...</td>\n",
       "      <td>...</td>\n",
       "      <td>...</td>\n",
       "      <td>...</td>\n",
       "      <td>...</td>\n",
       "      <td>...</td>\n",
       "      <td>...</td>\n",
       "      <td>...</td>\n",
       "    </tr>\n",
       "    <tr>\n",
       "      <th>6995</th>\n",
       "      <td>0.0</td>\n",
       "      <td>1.0</td>\n",
       "      <td>0.0</td>\n",
       "      <td>0.0</td>\n",
       "      <td>0.0</td>\n",
       "      <td>0.0</td>\n",
       "      <td>0.0</td>\n",
       "      <td>1.0</td>\n",
       "      <td>1.0</td>\n",
       "      <td>0.0</td>\n",
       "      <td>...</td>\n",
       "      <td>0.0</td>\n",
       "      <td>-0.000508</td>\n",
       "      <td>0.020821</td>\n",
       "      <td>-0.039760</td>\n",
       "      <td>-0.009947</td>\n",
       "      <td>0.076806</td>\n",
       "      <td>-0.146457</td>\n",
       "      <td>-0.024724</td>\n",
       "      <td>-0.022428</td>\n",
       "      <td>-0.005458</td>\n",
       "    </tr>\n",
       "    <tr>\n",
       "      <th>6996</th>\n",
       "      <td>0.0</td>\n",
       "      <td>1.0</td>\n",
       "      <td>0.0</td>\n",
       "      <td>0.0</td>\n",
       "      <td>0.0</td>\n",
       "      <td>0.0</td>\n",
       "      <td>0.0</td>\n",
       "      <td>1.0</td>\n",
       "      <td>1.0</td>\n",
       "      <td>0.0</td>\n",
       "      <td>...</td>\n",
       "      <td>0.0</td>\n",
       "      <td>-0.000508</td>\n",
       "      <td>0.020821</td>\n",
       "      <td>-0.039760</td>\n",
       "      <td>-0.009947</td>\n",
       "      <td>0.076806</td>\n",
       "      <td>-0.146457</td>\n",
       "      <td>-0.024724</td>\n",
       "      <td>-0.022428</td>\n",
       "      <td>-0.005458</td>\n",
       "    </tr>\n",
       "    <tr>\n",
       "      <th>6997</th>\n",
       "      <td>1.0</td>\n",
       "      <td>1.0</td>\n",
       "      <td>0.0</td>\n",
       "      <td>0.0</td>\n",
       "      <td>0.0</td>\n",
       "      <td>0.0</td>\n",
       "      <td>0.0</td>\n",
       "      <td>1.0</td>\n",
       "      <td>1.0</td>\n",
       "      <td>0.0</td>\n",
       "      <td>...</td>\n",
       "      <td>0.0</td>\n",
       "      <td>-0.000508</td>\n",
       "      <td>0.020821</td>\n",
       "      <td>-0.039760</td>\n",
       "      <td>-0.009947</td>\n",
       "      <td>0.076806</td>\n",
       "      <td>-0.146457</td>\n",
       "      <td>-0.024724</td>\n",
       "      <td>-0.022428</td>\n",
       "      <td>-0.005458</td>\n",
       "    </tr>\n",
       "    <tr>\n",
       "      <th>6998</th>\n",
       "      <td>0.0</td>\n",
       "      <td>0.0</td>\n",
       "      <td>0.0</td>\n",
       "      <td>0.0</td>\n",
       "      <td>0.0</td>\n",
       "      <td>0.0</td>\n",
       "      <td>1.0</td>\n",
       "      <td>1.0</td>\n",
       "      <td>1.0</td>\n",
       "      <td>0.0</td>\n",
       "      <td>...</td>\n",
       "      <td>0.0</td>\n",
       "      <td>-0.162019</td>\n",
       "      <td>0.020821</td>\n",
       "      <td>-4.208455</td>\n",
       "      <td>-0.009947</td>\n",
       "      <td>0.076806</td>\n",
       "      <td>-0.802586</td>\n",
       "      <td>-1.823348</td>\n",
       "      <td>-0.022428</td>\n",
       "      <td>-0.005458</td>\n",
       "    </tr>\n",
       "    <tr>\n",
       "      <th>6999</th>\n",
       "      <td>1.0</td>\n",
       "      <td>1.0</td>\n",
       "      <td>0.0</td>\n",
       "      <td>0.0</td>\n",
       "      <td>0.0</td>\n",
       "      <td>0.0</td>\n",
       "      <td>0.0</td>\n",
       "      <td>1.0</td>\n",
       "      <td>1.0</td>\n",
       "      <td>0.0</td>\n",
       "      <td>...</td>\n",
       "      <td>0.0</td>\n",
       "      <td>-0.000508</td>\n",
       "      <td>0.020821</td>\n",
       "      <td>-0.039760</td>\n",
       "      <td>-0.009947</td>\n",
       "      <td>0.076806</td>\n",
       "      <td>-0.146457</td>\n",
       "      <td>-0.024724</td>\n",
       "      <td>-0.022428</td>\n",
       "      <td>-0.005458</td>\n",
       "    </tr>\n",
       "  </tbody>\n",
       "</table>\n",
       "<p>7000 rows × 103 columns</p>\n",
       "</div>"
      ],
      "text/plain": [
       "      SEX  CONTINENT_AF  CONTINENT_AS  CONTINENT_EU  CONTINENT_NA  \\\n",
       "0     0.0           1.0           0.0           0.0           0.0   \n",
       "1     0.0           1.0           0.0           0.0           0.0   \n",
       "2     0.0           1.0           0.0           0.0           0.0   \n",
       "3     1.0           1.0           0.0           0.0           0.0   \n",
       "4     1.0           1.0           0.0           0.0           0.0   \n",
       "...   ...           ...           ...           ...           ...   \n",
       "6995  0.0           1.0           0.0           0.0           0.0   \n",
       "6996  0.0           1.0           0.0           0.0           0.0   \n",
       "6997  1.0           1.0           0.0           0.0           0.0   \n",
       "6998  0.0           0.0           0.0           0.0           0.0   \n",
       "6999  1.0           1.0           0.0           0.0           0.0   \n",
       "\n",
       "      CONTINENT_OC  CONTINENT_SA  HODECOD  \\\n",
       "0              0.0           0.0      1.0   \n",
       "1              0.0           0.0      1.0   \n",
       "2              0.0           0.0      1.0   \n",
       "3              0.0           0.0      1.0   \n",
       "4              0.0           0.0      1.0   \n",
       "...            ...           ...      ...   \n",
       "6995           0.0           0.0      1.0   \n",
       "6996           0.0           0.0      1.0   \n",
       "6997           0.0           0.0      1.0   \n",
       "6998           0.0           1.0      1.0   \n",
       "6999           0.0           0.0      1.0   \n",
       "\n",
       "      INCLAS_AGENTS_ACTING_ON_THE_RENIN-ANGIOTENSIN_SYSTEM  INCLAS_ANALGESICS  \\\n",
       "0                                                   1.0                   0.0   \n",
       "1                                                   1.0                   0.0   \n",
       "2                                                   1.0                   0.0   \n",
       "3                                                   1.0                   0.0   \n",
       "4                                                   1.0                   0.0   \n",
       "...                                                 ...                   ...   \n",
       "6995                                                1.0                   0.0   \n",
       "6996                                                1.0                   0.0   \n",
       "6997                                                1.0                   0.0   \n",
       "6998                                                1.0                   0.0   \n",
       "6999                                                1.0                   0.0   \n",
       "\n",
       "      ...  VSTEST_CPLRFLT  VSTEST_DIABP  VSTEST_HEIGHT  VSTEST_HR  VSTEST_MAP  \\\n",
       "0     ...             0.0     -0.000508       0.020821  -0.039760   -0.009947   \n",
       "1     ...             0.0     -0.000508       0.020821  -0.039760   -0.009947   \n",
       "2     ...             0.0     -0.000508       0.020821  -0.039760   -0.009947   \n",
       "3     ...             0.0     -0.000508       0.020821  -0.039760   -0.009947   \n",
       "4     ...             0.0     -0.000508       0.020821  -0.039760   -0.009947   \n",
       "...   ...             ...           ...            ...        ...         ...   \n",
       "6995  ...             0.0     -0.000508       0.020821  -0.039760   -0.009947   \n",
       "6996  ...             0.0     -0.000508       0.020821  -0.039760   -0.009947   \n",
       "6997  ...             0.0     -0.000508       0.020821  -0.039760   -0.009947   \n",
       "6998  ...             0.0     -0.162019       0.020821  -4.208455   -0.009947   \n",
       "6999  ...             0.0     -0.000508       0.020821  -0.039760   -0.009947   \n",
       "\n",
       "      VSTEST_OXYSAT  VSTEST_RESP  VSTEST_SYSBP  VSTEST_TEMP  VSTEST_WEIGHT  \n",
       "0          0.076806    -0.146457     -0.024724    -0.022428      -0.005458  \n",
       "1          0.076806    -0.146457     -0.024724    -0.022428      -0.005458  \n",
       "2          0.076806    -0.146457     -0.024724    -0.022428      -0.005458  \n",
       "3          0.076806    -0.146457     -0.024724    -0.022428      -0.005458  \n",
       "4          0.076806    -0.146457     -0.024724    -0.022428      -0.005458  \n",
       "...             ...          ...           ...          ...            ...  \n",
       "6995       0.076806    -0.146457     -0.024724    -0.022428      -0.005458  \n",
       "6996       0.076806    -0.146457     -0.024724    -0.022428      -0.005458  \n",
       "6997       0.076806    -0.146457     -0.024724    -0.022428      -0.005458  \n",
       "6998       0.076806    -0.802586     -1.823348    -0.022428      -0.005458  \n",
       "6999       0.076806    -0.146457     -0.024724    -0.022428      -0.005458  \n",
       "\n",
       "[7000 rows x 103 columns]"
      ]
     },
     "execution_count": 50,
     "metadata": {},
     "output_type": "execute_result"
    }
   ],
   "source": [
    "X_train"
   ]
  },
  {
   "cell_type": "code",
   "execution_count": 53,
   "id": "bf7f11ac-cf55-47b7-b030-7d5f4a21f4ea",
   "metadata": {},
   "outputs": [
    {
     "data": {
      "text/html": [
       "<div>\n",
       "<style scoped>\n",
       "    .dataframe tbody tr th:only-of-type {\n",
       "        vertical-align: middle;\n",
       "    }\n",
       "\n",
       "    .dataframe tbody tr th {\n",
       "        vertical-align: top;\n",
       "    }\n",
       "\n",
       "    .dataframe thead th {\n",
       "        text-align: right;\n",
       "    }\n",
       "</style>\n",
       "<table border=\"1\" class=\"dataframe\">\n",
       "  <thead>\n",
       "    <tr style=\"text-align: right;\">\n",
       "      <th></th>\n",
       "      <th>CONTINENT_AF</th>\n",
       "      <th>CONTINENT_EU</th>\n",
       "      <th>CONTINENT_SA</th>\n",
       "      <th>HODECOD</th>\n",
       "      <th>INCLAS_ANESTHETICS</th>\n",
       "      <th>INCLAS_ANTIHELMINTICS</th>\n",
       "      <th>INCLAS_ANTIINFLAMMATORY_AND_ANTIRHEUMATIC_PRODUCTS,_NON-STEROIDS</th>\n",
       "      <th>INCLAS_ANTIMYCOTICS_FOR_SYSTEMIC_USE</th>\n",
       "      <th>INCLAS_ANTIVIRALS_FOR_SYSTEMIC_USE</th>\n",
       "      <th>INCLAS_ARTIFICIAL_RESPIRATION</th>\n",
       "      <th>...</th>\n",
       "      <th>INCLAS_PSYCHOLEPTICS</th>\n",
       "      <th>INCLAS_REMOVAL_OF_ENDOTRACHEAL_TUBE</th>\n",
       "      <th>INCLAS_RENAL_REPLACEMENT</th>\n",
       "      <th>INCLAS_TOTAL_PARENTERAL_NUTRITION</th>\n",
       "      <th>INCLAS_VACCINES</th>\n",
       "      <th>MBTEST_OTHER RESPIRATORY PATHOGENS</th>\n",
       "      <th>RSCAT_AVPU</th>\n",
       "      <th>LBTEST_AST</th>\n",
       "      <th>LBTEST_LYM</th>\n",
       "      <th>DSDECOD</th>\n",
       "    </tr>\n",
       "  </thead>\n",
       "  <tbody>\n",
       "    <tr>\n",
       "      <th>0</th>\n",
       "      <td>1.0</td>\n",
       "      <td>0.0</td>\n",
       "      <td>0.0</td>\n",
       "      <td>1.0</td>\n",
       "      <td>0.0</td>\n",
       "      <td>0.0</td>\n",
       "      <td>1.0</td>\n",
       "      <td>1.0</td>\n",
       "      <td>1.0</td>\n",
       "      <td>1.0</td>\n",
       "      <td>...</td>\n",
       "      <td>0.0</td>\n",
       "      <td>0.0</td>\n",
       "      <td>1.0</td>\n",
       "      <td>0.0</td>\n",
       "      <td>1.0</td>\n",
       "      <td>0.0</td>\n",
       "      <td>0.0</td>\n",
       "      <td>-0.024282</td>\n",
       "      <td>-0.018348</td>\n",
       "      <td>0.0</td>\n",
       "    </tr>\n",
       "    <tr>\n",
       "      <th>1</th>\n",
       "      <td>1.0</td>\n",
       "      <td>0.0</td>\n",
       "      <td>0.0</td>\n",
       "      <td>1.0</td>\n",
       "      <td>0.0</td>\n",
       "      <td>0.0</td>\n",
       "      <td>1.0</td>\n",
       "      <td>1.0</td>\n",
       "      <td>1.0</td>\n",
       "      <td>1.0</td>\n",
       "      <td>...</td>\n",
       "      <td>0.0</td>\n",
       "      <td>0.0</td>\n",
       "      <td>1.0</td>\n",
       "      <td>0.0</td>\n",
       "      <td>1.0</td>\n",
       "      <td>0.0</td>\n",
       "      <td>0.0</td>\n",
       "      <td>-0.024282</td>\n",
       "      <td>-0.018348</td>\n",
       "      <td>0.0</td>\n",
       "    </tr>\n",
       "    <tr>\n",
       "      <th>2</th>\n",
       "      <td>1.0</td>\n",
       "      <td>0.0</td>\n",
       "      <td>0.0</td>\n",
       "      <td>1.0</td>\n",
       "      <td>0.0</td>\n",
       "      <td>0.0</td>\n",
       "      <td>1.0</td>\n",
       "      <td>1.0</td>\n",
       "      <td>1.0</td>\n",
       "      <td>1.0</td>\n",
       "      <td>...</td>\n",
       "      <td>0.0</td>\n",
       "      <td>0.0</td>\n",
       "      <td>1.0</td>\n",
       "      <td>0.0</td>\n",
       "      <td>1.0</td>\n",
       "      <td>0.0</td>\n",
       "      <td>0.0</td>\n",
       "      <td>-0.024282</td>\n",
       "      <td>-0.018348</td>\n",
       "      <td>0.0</td>\n",
       "    </tr>\n",
       "  </tbody>\n",
       "</table>\n",
       "<p>3 rows × 35 columns</p>\n",
       "</div>"
      ],
      "text/plain": [
       "   CONTINENT_AF  CONTINENT_EU  CONTINENT_SA  HODECOD  INCLAS_ANESTHETICS  \\\n",
       "0           1.0           0.0           0.0      1.0                 0.0   \n",
       "1           1.0           0.0           0.0      1.0                 0.0   \n",
       "2           1.0           0.0           0.0      1.0                 0.0   \n",
       "\n",
       "   INCLAS_ANTIHELMINTICS  \\\n",
       "0                    0.0   \n",
       "1                    0.0   \n",
       "2                    0.0   \n",
       "\n",
       "   INCLAS_ANTIINFLAMMATORY_AND_ANTIRHEUMATIC_PRODUCTS,_NON-STEROIDS  \\\n",
       "0                                                1.0                  \n",
       "1                                                1.0                  \n",
       "2                                                1.0                  \n",
       "\n",
       "   INCLAS_ANTIMYCOTICS_FOR_SYSTEMIC_USE  INCLAS_ANTIVIRALS_FOR_SYSTEMIC_USE  \\\n",
       "0                                   1.0                                 1.0   \n",
       "1                                   1.0                                 1.0   \n",
       "2                                   1.0                                 1.0   \n",
       "\n",
       "   INCLAS_ARTIFICIAL_RESPIRATION  ...  INCLAS_PSYCHOLEPTICS  \\\n",
       "0                            1.0  ...                   0.0   \n",
       "1                            1.0  ...                   0.0   \n",
       "2                            1.0  ...                   0.0   \n",
       "\n",
       "   INCLAS_REMOVAL_OF_ENDOTRACHEAL_TUBE  INCLAS_RENAL_REPLACEMENT  \\\n",
       "0                                  0.0                       1.0   \n",
       "1                                  0.0                       1.0   \n",
       "2                                  0.0                       1.0   \n",
       "\n",
       "   INCLAS_TOTAL_PARENTERAL_NUTRITION  INCLAS_VACCINES  \\\n",
       "0                                0.0              1.0   \n",
       "1                                0.0              1.0   \n",
       "2                                0.0              1.0   \n",
       "\n",
       "   MBTEST_OTHER RESPIRATORY PATHOGENS  RSCAT_AVPU  LBTEST_AST  LBTEST_LYM  \\\n",
       "0                                 0.0         0.0   -0.024282   -0.018348   \n",
       "1                                 0.0         0.0   -0.024282   -0.018348   \n",
       "2                                 0.0         0.0   -0.024282   -0.018348   \n",
       "\n",
       "   DSDECOD  \n",
       "0      0.0  \n",
       "1      0.0  \n",
       "2      0.0  \n",
       "\n",
       "[3 rows x 35 columns]"
      ]
     },
     "execution_count": 53,
     "metadata": {},
     "output_type": "execute_result"
    }
   ],
   "source": [
    "# Choose columns we want to keep to then test models\n",
    "\n",
    "features_toKeep = features_sfm\n",
    "\n",
    "X_selection_train = X_train[features_toKeep]\n",
    "X_selection_test = X_test[features_toKeep]\n",
    "df_selection_train = pd.concat([X_selection_train, y_train], axis=1)\n",
    "df_selection_test = pd.concat([X_selection_test, y_test], axis=1)\n",
    "df_selection_train.head(3)"
   ]
  },
  {
   "cell_type": "code",
   "execution_count": 55,
   "id": "534048c7-8fbb-4393-b565-a02801a70688",
   "metadata": {},
   "outputs": [],
   "source": [
    "# Save \n",
    "name_file_train = 'df_final_II-FeaturesSelection_train_' + name_classifier + '.csv'\n",
    "name_file_test = 'df_final_II-FeaturesSelection_test_' + name_classifier + '.csv'\n",
    "df_selection_train.to_csv(op.join(data_folder, name_file_train))\n",
    "df_selection_test.to_csv(op.join(data_folder, name_file_test))\n",
    "# File that contains the data for only the features we want to keep. Features are already fill for NA and also standardized."
   ]
  }
 ],
 "metadata": {
  "kernelspec": {
   "display_name": "Python 3 (ipykernel)",
   "language": "python",
   "name": "python3"
  },
  "language_info": {
   "codemirror_mode": {
    "name": "ipython",
    "version": 3
   },
   "file_extension": ".py",
   "mimetype": "text/x-python",
   "name": "python",
   "nbconvert_exporter": "python",
   "pygments_lexer": "ipython3",
   "version": "3.9.12"
  }
 },
 "nbformat": 4,
 "nbformat_minor": 5
}
