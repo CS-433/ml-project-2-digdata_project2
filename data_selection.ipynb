{
 "cells": [
  {
   "cell_type": "markdown",
   "id": "7161f50f-14de-4a00-9951-535df873c0d2",
   "metadata": {},
   "source": [
    "# Data selection"
   ]
  },
  {
   "cell_type": "code",
   "execution_count": 1,
   "id": "ea38c3b3-4b5c-4346-a021-66fd167ed5e4",
   "metadata": {},
   "outputs": [],
   "source": [
    "# Import\n",
    "%matplotlib inline\n",
    "import numpy as np\n",
    "from matplotlib import pyplot as plt\n",
    "import pandas as pd\n",
    "from pandas_profiling import ProfileReport\n",
    "import os\n",
    "%load_ext autoreload\n",
    "%autoreload 2"
   ]
  },
  {
   "cell_type": "markdown",
   "id": "c20519c4-9547-4a05-9569-d96d07a42267",
   "metadata": {},
   "source": [
    "## 1. Load data"
   ]
  },
  {
   "cell_type": "code",
   "execution_count": 2,
   "id": "b47efb1c-829b-4a6a-8dba-53cfd235a937",
   "metadata": {},
   "outputs": [
    {
     "data": {
      "text/html": [
       "<div>\n",
       "<style scoped>\n",
       "    .dataframe tbody tr th:only-of-type {\n",
       "        vertical-align: middle;\n",
       "    }\n",
       "\n",
       "    .dataframe tbody tr th {\n",
       "        vertical-align: top;\n",
       "    }\n",
       "\n",
       "    .dataframe thead th {\n",
       "        text-align: right;\n",
       "    }\n",
       "</style>\n",
       "<table border=\"1\" class=\"dataframe\">\n",
       "  <thead>\n",
       "    <tr style=\"text-align: right;\">\n",
       "      <th></th>\n",
       "      <th>Domain</th>\n",
       "      <th>Domain_Name</th>\n",
       "      <th>Variable_Name</th>\n",
       "      <th>Variable_Label</th>\n",
       "      <th>Variable_Type</th>\n",
       "      <th>Variable_Definition</th>\n",
       "      <th>Controlled_Terminology?</th>\n",
       "    </tr>\n",
       "  </thead>\n",
       "  <tbody>\n",
       "    <tr>\n",
       "      <th>0</th>\n",
       "      <td>AU</td>\n",
       "      <td>Audiometry Test Results</td>\n",
       "      <td>STUDYID</td>\n",
       "      <td>Study Identifier</td>\n",
       "      <td>character</td>\n",
       "      <td>This variable contains the unique identifier f...</td>\n",
       "      <td>NaN</td>\n",
       "    </tr>\n",
       "    <tr>\n",
       "      <th>1</th>\n",
       "      <td>AU</td>\n",
       "      <td>Audiometry Test Results</td>\n",
       "      <td>DOMAIN</td>\n",
       "      <td>Domain Abbreviation</td>\n",
       "      <td>character</td>\n",
       "      <td>This variable contains the two-character abbre...</td>\n",
       "      <td>Y</td>\n",
       "    </tr>\n",
       "    <tr>\n",
       "      <th>2</th>\n",
       "      <td>AU</td>\n",
       "      <td>Audiometry Test Results</td>\n",
       "      <td>USUBJID</td>\n",
       "      <td>Unique Subject Identifier</td>\n",
       "      <td>character</td>\n",
       "      <td>This variable contains the unique subject iden...</td>\n",
       "      <td>NaN</td>\n",
       "    </tr>\n",
       "  </tbody>\n",
       "</table>\n",
       "</div>"
      ],
      "text/plain": [
       "  Domain              Domain_Name Variable_Name             Variable_Label  \\\n",
       "0     AU  Audiometry Test Results       STUDYID           Study Identifier   \n",
       "1     AU  Audiometry Test Results        DOMAIN        Domain Abbreviation   \n",
       "2     AU  Audiometry Test Results       USUBJID  Unique Subject Identifier   \n",
       "\n",
       "  Variable_Type                                Variable_Definition  \\\n",
       "0     character  This variable contains the unique identifier f...   \n",
       "1     character  This variable contains the two-character abbre...   \n",
       "2     character  This variable contains the unique subject iden...   \n",
       "\n",
       "  Controlled_Terminology?  \n",
       "0                     NaN  \n",
       "1                       Y  \n",
       "2                     NaN  "
      ]
     },
     "execution_count": 2,
     "metadata": {},
     "output_type": "execute_result"
    }
   ],
   "source": [
    "# Load file with descriptions of data variables\n",
    "data_description_folder = './data/'\n",
    "data_description = pd.read_csv(data_description_folder + 'IDDO_SDTM_Data-Dictionary_v3.0_2022-10-06.csv', sep=';', encoding=\"ISO-8859-1\")\n",
    "data_description.columns = data_description.columns.str.replace(' ', '_')\n",
    "data_description.head(3)"
   ]
  },
  {
   "cell_type": "code",
   "execution_count": 3,
   "id": "713fa675-a86e-4d1d-b36f-1b61baddeaa3",
   "metadata": {},
   "outputs": [
    {
     "name": "stdout",
     "output_type": "stream",
     "text": [
      "Names of DataFrames ---> Description :\n",
      "DM --->  Demographics\n",
      "DS --->  Disposition\n",
      "ER --->  Environmental Risk\n",
      "HO --->  Healthcare Encounters\n",
      "IE --->  Inclusion/Exclusion Criteria\n",
      "error\n",
      "LB --->  Laboratory Results\n",
      "MB --->  Microbiology Specimen\n",
      "PO --->  Pregnancy Outcomes\n",
      "RELREC --->  Related Records\n",
      "RP --->  Reproductive System Findings\n",
      "RS --->  Disease Response and Clinical Classification\n",
      "SA --->  Clinical and Adverse Events\n",
      "SC --->  Subject Characteristics\n",
      "SV --->  Subject Visits\n",
      "TI --->  Trial Inclusion Exclusion Criteria\n",
      "TS --->  Trial Summary\n",
      "TV --->  Trial Visits\n",
      "VS --->  Vital Signs\n"
     ]
    }
   ],
   "source": [
    "# Load data\n",
    "df_list = []\n",
    "data_folder = './data/DATA_2022-09-01/'\n",
    "print('Names of DataFrames ---> Description :')\n",
    "for f in os.listdir(data_folder):\n",
    "    if f != 'IN_2022-09-01.csv':\n",
    "        df_name_str = f.split('_')[0]\n",
    "        df_list.append(df_name_str)\n",
    "        df_name = df_name_str\n",
    "        locals()[df_name] = pd.read_csv(data_folder + f, sep=',', low_memory=False) \n",
    "        locals()[df_name].name = df_name_str\n",
    "        print(df_name_str, '---> ', data_description.loc[data_description.Domain==df_name_str, 'Domain_Name'].iloc[0])\n",
    "    else:\n",
    "        #df_name_str = f.split('_')[0]\n",
    "        #df_list.append(df_name_str)\n",
    "        #df_name = df_name_str\n",
    "        #mylist = []\n",
    "        #for chunk in  pd.read_csv(data_folder + f, sep=',', low_memory=False, chunksize=2000):\n",
    "            #mylist.append(chunk)\n",
    "        #locals()[df_name] = pd.concat(mylist, axis= 0)\n",
    "        #locals()[df_name].name = df_name_str\n",
    "        #del mylist\n",
    "        print('error')"
   ]
  },
  {
   "cell_type": "markdown",
   "id": "b93977b3-f2f2-4826-9a83-74184c879189",
   "metadata": {},
   "source": [
    "## 2. Select data"
   ]
  },
  {
   "cell_type": "markdown",
   "id": "b580fb33-8ea4-4099-b503-f10864051364",
   "metadata": {
    "jp-MarkdownHeadingCollapsed": true,
    "tags": []
   },
   "source": [
    "#### For DM:"
   ]
  },
  {
   "cell_type": "code",
   "execution_count": 11,
   "id": "bf7fab9a-a3ee-4e6b-98c8-a4185b31014b",
   "metadata": {},
   "outputs": [
    {
     "data": {
      "text/html": [
       "<div>\n",
       "<style scoped>\n",
       "    .dataframe tbody tr th:only-of-type {\n",
       "        vertical-align: middle;\n",
       "    }\n",
       "\n",
       "    .dataframe tbody tr th {\n",
       "        vertical-align: top;\n",
       "    }\n",
       "\n",
       "    .dataframe thead th {\n",
       "        text-align: right;\n",
       "    }\n",
       "</style>\n",
       "<table border=\"1\" class=\"dataframe\">\n",
       "  <thead>\n",
       "    <tr style=\"text-align: right;\">\n",
       "      <th></th>\n",
       "      <th>Variable_Name</th>\n",
       "      <th>Variable_Type</th>\n",
       "      <th>Variable_Definition</th>\n",
       "    </tr>\n",
       "  </thead>\n",
       "  <tbody>\n",
       "    <tr>\n",
       "      <th>130</th>\n",
       "      <td>STUDYID</td>\n",
       "      <td>character</td>\n",
       "      <td>This variable contains the unique identifier for a study. This is the main key/identifier for all domains in the IDDO Data Repository  every domain table will have the STUDYID identifier.</td>\n",
       "    </tr>\n",
       "    <tr>\n",
       "      <th>131</th>\n",
       "      <td>DOMAIN</td>\n",
       "      <td>character</td>\n",
       "      <td>This variable contains the two-character abbreviation for the domain.</td>\n",
       "    </tr>\n",
       "    <tr>\n",
       "      <th>132</th>\n",
       "      <td>USUBJID</td>\n",
       "      <td>character</td>\n",
       "      <td>This variable contains the unique subject identifier for a study. This is a secondary key/identifier for all subject-level domains in the IDDO Data Repository  every domain table containing subject-level information (i.e., all but the Trial Domains) will have the USUBJID identifier. This variable will identify unique subjects in the repository.</td>\n",
       "    </tr>\n",
       "    <tr>\n",
       "      <th>133</th>\n",
       "      <td>SUBJID</td>\n",
       "      <td>character</td>\n",
       "      <td>This variable contains the unique subject identifier provided by the data contributor.</td>\n",
       "    </tr>\n",
       "    <tr>\n",
       "      <th>134</th>\n",
       "      <td>RFSTDTC</td>\n",
       "      <td>character</td>\n",
       "      <td>This variable describes the date and time of the start of the Subject Reference Period. The Subject Reference Period is defined by IDDO as starting with the subject's first study encounter and ending with the subject's final study encounter. RFSTDTC corresponds with the time and date of the subject's first study encounter (e.g., screening, enrollment, admission). This date will be used to calculate the relative days in the --DY?, --STDY, --ENDY variables.  This date and time will be provided in ISO 8601 format. This variable will be blank for submissions that do not provide this initial date. All of the derived variables will also be blank since they are all calculated based on RFSTDTC.</td>\n",
       "    </tr>\n",
       "    <tr>\n",
       "      <th>135</th>\n",
       "      <td>DTHDTC</td>\n",
       "      <td>character</td>\n",
       "      <td>This variable describes the date and time of the collection of the observation, administration of a test or collection of a specimen.  This date and time will be provided in ISO 8601 format.</td>\n",
       "    </tr>\n",
       "    <tr>\n",
       "      <th>136</th>\n",
       "      <td>DTHFL</td>\n",
       "      <td>character</td>\n",
       "      <td>This variable contains information about whether the subject died during the study period. The variable is expected to be null if the choice is not \"Yes\".</td>\n",
       "    </tr>\n",
       "    <tr>\n",
       "      <th>137</th>\n",
       "      <td>SITEID</td>\n",
       "      <td>character</td>\n",
       "      <td>This variable contains information about the study site.</td>\n",
       "    </tr>\n",
       "    <tr>\n",
       "      <th>138</th>\n",
       "      <td>INVID</td>\n",
       "      <td>character</td>\n",
       "      <td>This variable contains the unique investigator identifier of the data contributor. This may be used for COVID-19 data where many separate investigators have contributed data to a single large study.</td>\n",
       "    </tr>\n",
       "    <tr>\n",
       "      <th>139</th>\n",
       "      <td>INVNAM</td>\n",
       "      <td>character</td>\n",
       "      <td>This variable contains the clinical trial registry number associated with the subjects record.</td>\n",
       "    </tr>\n",
       "    <tr>\n",
       "      <th>140</th>\n",
       "      <td>AGE</td>\n",
       "      <td>number</td>\n",
       "      <td>This variable contains the age (expressed in the units described in AGEU) for the subject.</td>\n",
       "    </tr>\n",
       "    <tr>\n",
       "      <th>141</th>\n",
       "      <td>AGETXT</td>\n",
       "      <td>character</td>\n",
       "      <td>This variable contains text describing the age of subjects, expressed as a range, at the start of the study. This may be used when no precise age is available.</td>\n",
       "    </tr>\n",
       "    <tr>\n",
       "      <th>142</th>\n",
       "      <td>AGEU</td>\n",
       "      <td>character</td>\n",
       "      <td>This variable contains the unit describing the value in AGE. This is defined by CDISC Controlled Terminology</td>\n",
       "    </tr>\n",
       "    <tr>\n",
       "      <th>143</th>\n",
       "      <td>SEX</td>\n",
       "      <td>character</td>\n",
       "      <td>This variable describes the sex of the subject. This is defined by CDISC Controlled Terminology</td>\n",
       "    </tr>\n",
       "    <tr>\n",
       "      <th>144</th>\n",
       "      <td>RACE</td>\n",
       "      <td>character</td>\n",
       "      <td>This variable describes the race of the subject as provided by the Data Contributor.</td>\n",
       "    </tr>\n",
       "    <tr>\n",
       "      <th>145</th>\n",
       "      <td>ETHNIC</td>\n",
       "      <td>character</td>\n",
       "      <td>This variable describes the ethnicity of the subject as provided by the Data Contributor.</td>\n",
       "    </tr>\n",
       "    <tr>\n",
       "      <th>146</th>\n",
       "      <td>ARMCD</td>\n",
       "      <td>character</td>\n",
       "      <td>This variable contains a code that identifies the treatment arm to which ?the subject was assigned.</td>\n",
       "    </tr>\n",
       "    <tr>\n",
       "      <th>147</th>\n",
       "      <td>ARM</td>\n",
       "      <td>character</td>\n",
       "      <td>This variable describes the treatment arm to which ??the subject was assigned.</td>\n",
       "    </tr>\n",
       "    <tr>\n",
       "      <th>148</th>\n",
       "      <td>COUNTRY</td>\n",
       "      <td>character</td>\n",
       "      <td>This variable contains information about the country of the study site described in SITEID. This is defined by Controlled Terminology.</td>\n",
       "    </tr>\n",
       "    <tr>\n",
       "      <th>149</th>\n",
       "      <td>DMDTC</td>\n",
       "      <td>character</td>\n",
       "      <td>This variable contains the date and time of the collection of the observation, administration of a test or collection of a specimen.  This date and time will be provided in ISO 8601 format.</td>\n",
       "    </tr>\n",
       "    <tr>\n",
       "      <th>150</th>\n",
       "      <td>DMDY</td>\n",
       "      <td>number</td>\n",
       "      <td>This variable describes the study day of the observation relative to the date in RFSTDTC.  This will be blank for records with no value in the --DTC variable.</td>\n",
       "    </tr>\n",
       "  </tbody>\n",
       "</table>\n",
       "</div>"
      ],
      "text/plain": [
       "    Variable_Name Variable_Type  \\\n",
       "130       STUDYID     character   \n",
       "131        DOMAIN     character   \n",
       "132       USUBJID     character   \n",
       "133        SUBJID     character   \n",
       "134       RFSTDTC     character   \n",
       "135        DTHDTC     character   \n",
       "136         DTHFL     character   \n",
       "137        SITEID     character   \n",
       "138         INVID     character   \n",
       "139        INVNAM     character   \n",
       "140           AGE        number   \n",
       "141        AGETXT     character   \n",
       "142          AGEU     character   \n",
       "143           SEX     character   \n",
       "144          RACE     character   \n",
       "145        ETHNIC     character   \n",
       "146         ARMCD     character   \n",
       "147           ARM     character   \n",
       "148       COUNTRY     character   \n",
       "149         DMDTC     character   \n",
       "150          DMDY        number   \n",
       "\n",
       "                                                                                                                                                                                                                                                                                                                                                                                                                                                                                                                                                                                                                                                                                                         Variable_Definition  \n",
       "130                                                                                                                                                                                                                                                                                                                                                                                                                                                                                                                             This variable contains the unique identifier for a study. This is the main key/identifier for all domains in the IDDO Data Repository  every domain table will have the STUDYID identifier.  \n",
       "131                                                                                                                                                                                                                                                                                                                                                                                                                                                                                                                                                                                                                                                    This variable contains the two-character abbreviation for the domain.  \n",
       "132                                                                                                                                                                                                                                                                                                                                                              This variable contains the unique subject identifier for a study. This is a secondary key/identifier for all subject-level domains in the IDDO Data Repository  every domain table containing subject-level information (i.e., all but the Trial Domains) will have the USUBJID identifier. This variable will identify unique subjects in the repository.  \n",
       "133                                                                                                                                                                                                                                                                                                                                                                                                                                                                                                                                                                                                                                   This variable contains the unique subject identifier provided by the data contributor.  \n",
       "134  This variable describes the date and time of the start of the Subject Reference Period. The Subject Reference Period is defined by IDDO as starting with the subject's first study encounter and ending with the subject's final study encounter. RFSTDTC corresponds with the time and date of the subject's first study encounter (e.g., screening, enrollment, admission). This date will be used to calculate the relative days in the --DY?, --STDY, --ENDY variables.  This date and time will be provided in ISO 8601 format. This variable will be blank for submissions that do not provide this initial date. All of the derived variables will also be blank since they are all calculated based on RFSTDTC.  \n",
       "135                                                                                                                                                                                                                                                                                                                                                                                                                                                                                                                           This variable describes the date and time of the collection of the observation, administration of a test or collection of a specimen.  This date and time will be provided in ISO 8601 format.  \n",
       "136                                                                                                                                                                                                                                                                                                                                                                                                                                                                                                                                                              This variable contains information about whether the subject died during the study period. The variable is expected to be null if the choice is not \"Yes\".   \n",
       "137                                                                                                                                                                                                                                                                                                                                                                                                                                                                                                                                                                                                                                                                 This variable contains information about the study site.  \n",
       "138                                                                                                                                                                                                                                                                                                                                                                                                                                                                                                                   This variable contains the unique investigator identifier of the data contributor. This may be used for COVID-19 data where many separate investigators have contributed data to a single large study.  \n",
       "139                                                                                                                                                                                                                                                                                                                                                                                                                                                                                                                                                                                                                           This variable contains the clinical trial registry number associated with the subjects record.  \n",
       "140                                                                                                                                                                                                                                                                                                                                                                                                                                                                                                                                                                                                                               This variable contains the age (expressed in the units described in AGEU) for the subject.  \n",
       "141                                                                                                                                                                                                                                                                                                                                                                                                                                                                                                                                                          This variable contains text describing the age of subjects, expressed as a range, at the start of the study. This may be used when no precise age is available.  \n",
       "142                                                                                                                                                                                                                                                                                                                                                                                                                                                                                                                                                                                                             This variable contains the unit describing the value in AGE. This is defined by CDISC Controlled Terminology  \n",
       "143                                                                                                                                                                                                                                                                                                                                                                                                                                                                                                                                                                                                                          This variable describes the sex of the subject. This is defined by CDISC Controlled Terminology  \n",
       "144                                                                                                                                                                                                                                                                                                                                                                                                                                                                                                                                                                                                                                     This variable describes the race of the subject as provided by the Data Contributor.  \n",
       "145                                                                                                                                                                                                                                                                                                                                                                                                                                                                                                                                                                                                                                This variable describes the ethnicity of the subject as provided by the Data Contributor.  \n",
       "146                                                                                                                                                                                                                                                                                                                                                                                                                                                                                                                                                                                                                      This variable contains a code that identifies the treatment arm to which ?the subject was assigned.  \n",
       "147                                                                                                                                                                                                                                                                                                                                                                                                                                                                                                                                                                                                                                          This variable describes the treatment arm to which ??the subject was assigned.   \n",
       "148                                                                                                                                                                                                                                                                                                                                                                                                                                                                                                                                                                                   This variable contains information about the country of the study site described in SITEID. This is defined by Controlled Terminology.  \n",
       "149                                                                                                                                                                                                                                                                                                                                                                                                                                                                                                                            This variable contains the date and time of the collection of the observation, administration of a test or collection of a specimen.  This date and time will be provided in ISO 8601 format.  \n",
       "150                                                                                                                                                                                                                                                                                                                                                                                                                                                                                                                                                           This variable describes the study day of the observation relative to the date in RFSTDTC.  This will be blank for records with no value in the --DTC variable.  "
      ]
     },
     "execution_count": 11,
     "metadata": {},
     "output_type": "execute_result"
    }
   ],
   "source": [
    "# See variables for DM\n",
    "pd.set_option(\"display.max_colwidth\", 1000)\n",
    "data_description.loc[data_description.Domain==DM.name, ['Variable_Name', 'Variable_Type', 'Variable_Definition']]"
   ]
  },
  {
   "cell_type": "code",
   "execution_count": 12,
   "id": "7b0cf62b-2222-4014-bca6-9faba4d781a6",
   "metadata": {},
   "outputs": [
    {
     "name": "stdout",
     "output_type": "stream",
     "text": [
      "Values for AGETXT:  [nan '95+']\n",
      "Min and Max for AGE:  -70.0 94.089996\n",
      "Min and Max for AGE:  -70.0 96.0\n"
     ]
    }
   ],
   "source": [
    "# Combine AGE and AGETXT\n",
    "\n",
    "print('Values for AGETXT: ', DM['AGETXT'].unique())\n",
    "print('Min and Max for AGE: ', DM['AGE'].min(), DM['AGE'].max())\n",
    "\n",
    "DM.loc[DM.AGETXT=='95+', 'AGE'] = 96. # We make the choice to put 96 for 95+\n",
    "\n",
    "print('Min and Max for AGE after: ', DM['AGE'].min(), DM['AGE'].max())"
   ]
  },
  {
   "cell_type": "code",
   "execution_count": 16,
   "id": "a9486a96-6d24-4271-a377-9df8118a44f4",
   "metadata": {},
   "outputs": [
    {
     "name": "stdout",
     "output_type": "stream",
     "text": [
      "Values for AGEU:  ['YEARS' nan 'MONTHS' 'DAYS']\n",
      "Number of negative values for AGE:  8\n",
      "Number of NA for AGE:  22493\n",
      "Number of NA for AGE after:  22501\n"
     ]
    }
   ],
   "source": [
    "# Investigate and replace negative values for AGE\n",
    "\n",
    "print('Values for AGEU: ', DM['AGEU'].unique())\n",
    "print('Number of negative values for AGE: ', (DM['AGE']<0).sum())\n",
    "print('Number of NA for AGE: ', DM['AGE'].isna().sum())\n",
    "\n",
    "DM.loc[DM.AGE<0, 'AGE'] = np.nan # We make the choice to replace negative values by NA\n",
    "\n",
    "print('Number of NA for AGE after: ', DM['AGE'].isna().sum())"
   ]
  },
  {
   "cell_type": "code",
   "execution_count": 30,
   "id": "1a582444-c792-45b7-8ddd-e5ca7beb3815",
   "metadata": {},
   "outputs": [
    {
     "name": "stdout",
     "output_type": "stream",
     "text": [
      "Values for AGEU:  ['YEARS' nan 'MONTHS' 'DAYS']\n",
      "Number of NA for AGEU when AGE is not NA:  593\n",
      "Min and Max for AGE when AGEU is NA:  [51. 59. 46. 74. 61. 70. 72. 50. 79. 42. 49. 38. 77. 78. 68. 58. 62. 53.\n",
      " 56. nan 66. 71. 44. 52. 87. 80. 37. 41. 64. 67. 73. 27. 40. 63. 85. 88.\n",
      " 91. 92. 60. 45. 76. 86. 83. 47. 57. 69. 54. 65. 55. 81. 29. 48. 43. 89.\n",
      " 39. 75. 25. 36. 84. 28. 32. 33. 96. 90.  0. 24. 35. 23. 19.  3.  5. 34.\n",
      " 22. 31. 20.  8. 17. 13.  4.  7. 12. 15. 16. 30. 18. 82.]\n",
      "Min and Max for AGE:  0.0 96.0\n"
     ]
    }
   ],
   "source": [
    "# Combine AGE and AGEU\n",
    "\n",
    "print('Values for AGEU: ', DM['AGEU'].unique())\n",
    "print('Number of NA for AGEU when AGE is not NA: ', DM.loc[DM.AGE.notna(), 'AGEU'].isna().sum())\n",
    "print('Min and Max for AGE when AGEU is NA: ', DM.loc[DM.AGEU.isna(), 'AGE'].unique())\n",
    "print('Min and Max for AGE: ', DM['AGE'].min(), DM['AGE'].max())\n",
    "\n",
    "# We make the choice to keep the YEARS unit\n",
    "DM.loc[DM.AGEU=='MONTHS', 'AGE'] /= 12\n",
    "DM.loc[DM.AGEU=='DAYS', 'AGE'] /= 365\n",
    "\n",
    "# TODO : Que fait-on quand NA pour AGEU ??"
   ]
  },
  {
   "cell_type": "code",
   "execution_count": 32,
   "id": "43fc3fc2-f818-4c87-84a8-c88a55d94265",
   "metadata": {},
   "outputs": [
    {
     "name": "stdout",
     "output_type": "stream",
     "text": [
      "Values for ARMCD:  ['PER CLIN GUIDE']\n",
      "Values for ARM:  ['Per Clinical Guidelines']\n"
     ]
    }
   ],
   "source": [
    "# Investigate ARMCD and ARM\n",
    "print('Values for ARMCD: ', DM['ARMCD'].unique())\n",
    "print('Values for ARM: ', DM['ARM'].unique())"
   ]
  },
  {
   "cell_type": "code",
   "execution_count": 35,
   "id": "29154c47-03c9-4449-b4a3-33a4b3515f3c",
   "metadata": {},
   "outputs": [
    {
     "data": {
      "text/plain": [
       "Index(['STUDYID', 'DOMAIN', 'USUBJID', 'RFSTDTC', 'DTHFL', 'INVID', 'AGE',\n",
       "       'AGETXT', 'AGEU', 'SEX', 'RACE', 'ETHNIC', 'ARMCD', 'ARM', 'COUNTRY',\n",
       "       'DMDY'],\n",
       "      dtype='object')"
      ]
     },
     "execution_count": 35,
     "metadata": {},
     "output_type": "execute_result"
    }
   ],
   "source": [
    "# Check the existence of columns in DM\n",
    "DM.columns # We can see that DMDTC does not exist"
   ]
  },
  {
   "cell_type": "markdown",
   "id": "e2893399-32c6-40a0-9e55-c5d5eebefae2",
   "metadata": {},
   "source": [
    "**=> To conclud, for DM, we can keep: USUBJID, DTHFL, AGE, SEX, RACE, ETHNIC, COUNTRY, DMDY:**"
   ]
  },
  {
   "cell_type": "code",
   "execution_count": 36,
   "id": "f9871e58-86d9-4ac2-aa03-27cc232fad3f",
   "metadata": {},
   "outputs": [
    {
     "data": {
      "text/plain": [
       "Index(['USUBJID', 'DTHFL', 'AGE', 'SEX', 'RACE', 'ETHNIC', 'COUNTRY', 'DMDY'], dtype='object')"
      ]
     },
     "execution_count": 36,
     "metadata": {},
     "output_type": "execute_result"
    }
   ],
   "source": [
    "# Keep only some columns for DM\n",
    "DM = DM[['USUBJID', 'DTHFL', 'AGE', 'SEX', 'RACE', 'ETHNIC', 'COUNTRY', 'DMDY']]\n",
    "DM.columns"
   ]
  },
  {
   "cell_type": "code",
   "execution_count": 42,
   "id": "f5ee2abf-f548-495b-ba60-3201661fc257",
   "metadata": {},
   "outputs": [
    {
     "data": {
      "text/plain": [
       "(844451, 8)"
      ]
     },
     "execution_count": 42,
     "metadata": {},
     "output_type": "execute_result"
    }
   ],
   "source": [
    "DM.shape"
   ]
  },
  {
   "cell_type": "markdown",
   "id": "94813563-7346-4234-9ade-50da97df492b",
   "metadata": {
    "jp-MarkdownHeadingCollapsed": true,
    "tags": []
   },
   "source": [
    "#### For DS:"
   ]
  },
  {
   "cell_type": "code",
   "execution_count": 39,
   "id": "f91ebc2e-fe25-41f7-9f9a-f0553ec97b82",
   "metadata": {},
   "outputs": [
    {
     "data": {
      "text/html": [
       "<div>\n",
       "<style scoped>\n",
       "    .dataframe tbody tr th:only-of-type {\n",
       "        vertical-align: middle;\n",
       "    }\n",
       "\n",
       "    .dataframe tbody tr th {\n",
       "        vertical-align: top;\n",
       "    }\n",
       "\n",
       "    .dataframe thead th {\n",
       "        text-align: right;\n",
       "    }\n",
       "</style>\n",
       "<table border=\"1\" class=\"dataframe\">\n",
       "  <thead>\n",
       "    <tr style=\"text-align: right;\">\n",
       "      <th></th>\n",
       "      <th>Variable_Name</th>\n",
       "      <th>Variable_Type</th>\n",
       "      <th>Variable_Definition</th>\n",
       "    </tr>\n",
       "  </thead>\n",
       "  <tbody>\n",
       "    <tr>\n",
       "      <th>157</th>\n",
       "      <td>STUDYID</td>\n",
       "      <td>character</td>\n",
       "      <td>This variable contains the unique identifier for a study. This is the main key/identifier for all domains in the IDDO Data Repository  every domain table will have the STUDYID identifier.</td>\n",
       "    </tr>\n",
       "    <tr>\n",
       "      <th>158</th>\n",
       "      <td>DOMAIN</td>\n",
       "      <td>character</td>\n",
       "      <td>This variable contains the two-character abbreviation for the domain.</td>\n",
       "    </tr>\n",
       "    <tr>\n",
       "      <th>159</th>\n",
       "      <td>USUBJID</td>\n",
       "      <td>character</td>\n",
       "      <td>This variable contains the unique subject identifier for a study. This is a secondary key/identifier for all subject-level domains in the IDDO Data Repository  every domain table containing subject-level information (i.e., all but the Trial Domains) will have the USUBJID identifier. This variable will identify unique subjects in the repository.</td>\n",
       "    </tr>\n",
       "    <tr>\n",
       "      <th>160</th>\n",
       "      <td>DSSEQ</td>\n",
       "      <td>number</td>\n",
       "      <td>This variable contains a sequence number to ensure uniqueness of subject records within the domain. Each observation (each recorded as a separate row in the domain) will have a unique number within each subject, e.g., a subject with 10 observations will have 10 rows and each row is numbered sequentially from 1-10.</td>\n",
       "    </tr>\n",
       "    <tr>\n",
       "      <th>161</th>\n",
       "      <td>DSTERM</td>\n",
       "      <td>character</td>\n",
       "      <td>This variable contains the verbatim wording of the event as provided by the Data Contributor.</td>\n",
       "    </tr>\n",
       "    <tr>\n",
       "      <th>162</th>\n",
       "      <td>DSMODIFY</td>\n",
       "      <td>character</td>\n",
       "      <td>This variable contains a modification of the verbatim wording of the event. This is used to capture IDDO-defined standardised terms of the event.</td>\n",
       "    </tr>\n",
       "    <tr>\n",
       "      <th>163</th>\n",
       "      <td>DSDECOD</td>\n",
       "      <td>character</td>\n",
       "      <td>This variable contains a dictionary-derived text description of the event. This is defined by CDISC Controlled Terminology and IDDO Controlled Terminology. More details can be found in the IDDO Implementation Guide.</td>\n",
       "    </tr>\n",
       "    <tr>\n",
       "      <th>164</th>\n",
       "      <td>VISITNUM</td>\n",
       "      <td>number</td>\n",
       "      <td>This variable contains a number designating the planned clinical encounter number. This is a numeric version of the visit described in VISIT? and it is used for sorting.</td>\n",
       "    </tr>\n",
       "    <tr>\n",
       "      <th>165</th>\n",
       "      <td>VISIT</td>\n",
       "      <td>character</td>\n",
       "      <td>This variable contains the protocol-defined text description of the planned clinical encounter number (as defined in the Trial Visits (TV) Domain).</td>\n",
       "    </tr>\n",
       "    <tr>\n",
       "      <th>166</th>\n",
       "      <td>VISITDY</td>\n",
       "      <td>number</td>\n",
       "      <td>This variable contains a number designating the Study Day of the planned clinical encounter. This is also a numeric version of the visit described in VISIT? and can be used for sorting.</td>\n",
       "    </tr>\n",
       "    <tr>\n",
       "      <th>167</th>\n",
       "      <td>EPOCH</td>\n",
       "      <td>character</td>\n",
       "      <td>This variable describes the Epoch period of the observation (e.g., Baseline, Treatment, Follow-up).  This is defined by CDISC Controlled Terminology</td>\n",
       "    </tr>\n",
       "    <tr>\n",
       "      <th>168</th>\n",
       "      <td>DSDTC</td>\n",
       "      <td>character</td>\n",
       "      <td>This variable contains the date and time of the collection of the observation, administration of a test or collection of a specimen.  This date and time will be provided in ISO 8601 format.</td>\n",
       "    </tr>\n",
       "    <tr>\n",
       "      <th>169</th>\n",
       "      <td>DSSTDTC</td>\n",
       "      <td>character</td>\n",
       "      <td>This variable contains the start date and time of the observation or initiation of the event (as opposed to the date the question about the observation/event was asked). This date and time will be provided in ISO 8601 format.</td>\n",
       "    </tr>\n",
       "    <tr>\n",
       "      <th>170</th>\n",
       "      <td>DSDY</td>\n",
       "      <td>number</td>\n",
       "      <td>This variable describes the study day of the observation relative to the date in RFSTDTC.  This will be blank for records with no value in the --DTC variable.</td>\n",
       "    </tr>\n",
       "    <tr>\n",
       "      <th>171</th>\n",
       "      <td>DSSTDY</td>\n",
       "      <td>number</td>\n",
       "      <td>This variable describes the study day of the start of the observation relative to the date in RFSTDTC.  This will be blank for records with no value in the --STDTC variable.</td>\n",
       "    </tr>\n",
       "    <tr>\n",
       "      <th>172</th>\n",
       "      <td>DSTPT</td>\n",
       "      <td>character</td>\n",
       "      <td>This variable describes when the observation should have happened as defined in the study protocol. This may be represented as an elapsed time relative to a fixed reference point described in --TPTREF.</td>\n",
       "    </tr>\n",
       "    <tr>\n",
       "      <th>173</th>\n",
       "      <td>DSTPTREF</td>\n",
       "      <td>character</td>\n",
       "      <td>This variable contains the name of the fixed reference point referred to by --TPT, --ELTM, e.g. PREVIOUS DOSE, PREVIOUS MEAL.</td>\n",
       "    </tr>\n",
       "    <tr>\n",
       "      <th>174</th>\n",
       "      <td>DSSTRF</td>\n",
       "      <td>character</td>\n",
       "      <td>This variable describes when the start of the observation happened in relation to the date recorded in RFSTDTC, e.g. BEFORE, DURING or AFTER.</td>\n",
       "    </tr>\n",
       "    <tr>\n",
       "      <th>175</th>\n",
       "      <td>DSEVINTX</td>\n",
       "      <td>character</td>\n",
       "      <td>This variable contains information about the evaluation interval associated with an observation when it cannot be represented in ISO 8601 format (e.g., \"Last few weeks\", \"While hospitalized\").</td>\n",
       "    </tr>\n",
       "    <tr>\n",
       "      <th>176</th>\n",
       "      <td>DSSTRTPT</td>\n",
       "      <td>character</td>\n",
       "      <td>This variable describes when the start of the observation happened in relation to the point described in --STTPT, e.g. BEFORE, DURING or AFTER.</td>\n",
       "    </tr>\n",
       "    <tr>\n",
       "      <th>177</th>\n",
       "      <td>DSSTTPT</td>\n",
       "      <td>character</td>\n",
       "      <td>This variable contains the name of the fixed reference point referred to by --STRTPT, e.g. PREVIOUS DOSE, 2003-12-15.</td>\n",
       "    </tr>\n",
       "    <tr>\n",
       "      <th>178</th>\n",
       "      <td>DSCDSTDY</td>\n",
       "      <td>number</td>\n",
       "      <td>This variable contains the contributor-defined study day expressed in integer days relative to the start of the study. This variable is used when no dates are provided, only a contributor-defined proxy.</td>\n",
       "    </tr>\n",
       "    <tr>\n",
       "      <th>179</th>\n",
       "      <td>DSRPOC</td>\n",
       "      <td>character</td>\n",
       "      <td>This variable describes the reported time period for the occurrence of an event when the actual date/time is not provided. This is provided in ISO 8601 format.</td>\n",
       "    </tr>\n",
       "  </tbody>\n",
       "</table>\n",
       "</div>"
      ],
      "text/plain": [
       "    Variable_Name Variable_Type  \\\n",
       "157       STUDYID     character   \n",
       "158        DOMAIN     character   \n",
       "159       USUBJID     character   \n",
       "160         DSSEQ        number   \n",
       "161        DSTERM     character   \n",
       "162      DSMODIFY     character   \n",
       "163       DSDECOD     character   \n",
       "164      VISITNUM        number   \n",
       "165         VISIT     character   \n",
       "166       VISITDY        number   \n",
       "167         EPOCH     character   \n",
       "168         DSDTC     character   \n",
       "169       DSSTDTC     character   \n",
       "170          DSDY        number   \n",
       "171        DSSTDY        number   \n",
       "172         DSTPT     character   \n",
       "173      DSTPTREF     character   \n",
       "174        DSSTRF     character   \n",
       "175      DSEVINTX     character   \n",
       "176      DSSTRTPT     character   \n",
       "177       DSSTTPT     character   \n",
       "178      DSCDSTDY        number   \n",
       "179        DSRPOC     character   \n",
       "\n",
       "                                                                                                                                                                                                                                                                                                                                             Variable_Definition  \n",
       "157                                                                                                                                                                 This variable contains the unique identifier for a study. This is the main key/identifier for all domains in the IDDO Data Repository  every domain table will have the STUDYID identifier.  \n",
       "158                                                                                                                                                                                                                                                                                        This variable contains the two-character abbreviation for the domain.  \n",
       "159  This variable contains the unique subject identifier for a study. This is a secondary key/identifier for all subject-level domains in the IDDO Data Repository  every domain table containing subject-level information (i.e., all but the Trial Domains) will have the USUBJID identifier. This variable will identify unique subjects in the repository.  \n",
       "160                                  This variable contains a sequence number to ensure uniqueness of subject records within the domain. Each observation (each recorded as a separate row in the domain) will have a unique number within each subject, e.g., a subject with 10 observations will have 10 rows and each row is numbered sequentially from 1-10.  \n",
       "161                                                                                                                                                                                                                                                                This variable contains the verbatim wording of the event as provided by the Data Contributor.  \n",
       "162                                                                                                                                                                                                            This variable contains a modification of the verbatim wording of the event. This is used to capture IDDO-defined standardised terms of the event.  \n",
       "163                                                                                                                                      This variable contains a dictionary-derived text description of the event. This is defined by CDISC Controlled Terminology and IDDO Controlled Terminology. More details can be found in the IDDO Implementation Guide.  \n",
       "164                                                                                                                                                                                   This variable contains a number designating the planned clinical encounter number. This is a numeric version of the visit described in VISIT? and it is used for sorting.   \n",
       "165                                                                                                                                                                                                          This variable contains the protocol-defined text description of the planned clinical encounter number (as defined in the Trial Visits (TV) Domain).  \n",
       "166                                                                                                                                                                    This variable contains a number designating the Study Day of the planned clinical encounter. This is also a numeric version of the visit described in VISIT? and can be used for sorting.  \n",
       "167                                                                                                                                                                                                         This variable describes the Epoch period of the observation (e.g., Baseline, Treatment, Follow-up).  This is defined by CDISC Controlled Terminology  \n",
       "168                                                                                                                                                                This variable contains the date and time of the collection of the observation, administration of a test or collection of a specimen.  This date and time will be provided in ISO 8601 format.  \n",
       "169                                                                                                                            This variable contains the start date and time of the observation or initiation of the event (as opposed to the date the question about the observation/event was asked). This date and time will be provided in ISO 8601 format.  \n",
       "170                                                                                                                                                                                               This variable describes the study day of the observation relative to the date in RFSTDTC.  This will be blank for records with no value in the --DTC variable.  \n",
       "171                                                                                                                                                                                This variable describes the study day of the start of the observation relative to the date in RFSTDTC.  This will be blank for records with no value in the --STDTC variable.  \n",
       "172                                                                                                                                                   This variable describes when the observation should have happened as defined in the study protocol. This may be represented as an elapsed time relative to a fixed reference point described in --TPTREF.   \n",
       "173                                                                                                                                                                                                                                This variable contains the name of the fixed reference point referred to by --TPT, --ELTM, e.g. PREVIOUS DOSE, PREVIOUS MEAL.  \n",
       "174                                                                                                                                                                                                                This variable describes when the start of the observation happened in relation to the date recorded in RFSTDTC, e.g. BEFORE, DURING or AFTER.  \n",
       "175                                                                                                                                                             This variable contains information about the evaluation interval associated with an observation when it cannot be represented in ISO 8601 format (e.g., \"Last few weeks\", \"While hospitalized\").  \n",
       "176                                                                                                                                                                                                              This variable describes when the start of the observation happened in relation to the point described in --STTPT, e.g. BEFORE, DURING or AFTER.  \n",
       "177                                                                                                                                                                                                                                        This variable contains the name of the fixed reference point referred to by --STRTPT, e.g. PREVIOUS DOSE, 2003-12-15.  \n",
       "178                                                                                                                                                  This variable contains the contributor-defined study day expressed in integer days relative to the start of the study. This variable is used when no dates are provided, only a contributor-defined proxy.   \n",
       "179                                                                                                                                                                                              This variable describes the reported time period for the occurrence of an event when the actual date/time is not provided. This is provided in ISO 8601 format.  "
      ]
     },
     "execution_count": 39,
     "metadata": {},
     "output_type": "execute_result"
    }
   ],
   "source": [
    "# See variables for DS\n",
    "pd.set_option(\"display.max_colwidth\", 1000)\n",
    "data_description.loc[data_description.Domain==DS.name, ['Variable_Name', 'Variable_Type', 'Variable_Definition']]"
   ]
  },
  {
   "cell_type": "code",
   "execution_count": 56,
   "id": "8f876d5d-fb0a-4704-99a9-aac9c0db07c0",
   "metadata": {},
   "outputs": [
    {
     "data": {
      "text/plain": [
       "Index(['STUDYID', 'DOMAIN', 'USUBJID', 'DSSEQ', 'DSTERM', 'DSMODIFY',\n",
       "       'DSDECOD', 'VISITNUM', 'VISIT', 'VISITDY', 'DSDY', 'DSSTDY', 'DSEVINTX',\n",
       "       'DSCDSTDY'],\n",
       "      dtype='object')"
      ]
     },
     "execution_count": 56,
     "metadata": {},
     "output_type": "execute_result"
    }
   ],
   "source": [
    "# Columns really in DS\n",
    "DS.columns"
   ]
  },
  {
   "cell_type": "code",
   "execution_count": 40,
   "id": "feb99ce2-04af-4893-9cfc-2e155ce6cbe9",
   "metadata": {},
   "outputs": [
    {
     "name": "stdout",
     "output_type": "stream",
     "text": [
      "Values for DSMODIFY:  [nan]\n"
     ]
    }
   ],
   "source": [
    "# Investigate DSMODIFY\n",
    "print('Values for DSMODIFY: ', DS['DSMODIFY'].unique())"
   ]
  },
  {
   "cell_type": "code",
   "execution_count": 41,
   "id": "6821688d-9dd0-457b-9159-cd7009a35dcc",
   "metadata": {},
   "outputs": [
    {
     "name": "stdout",
     "output_type": "stream",
     "text": [
      "Values for DSTERM:  ['DISCHARGED ALIVE' 'DEATH' 'TRANSFER TO OTHER FACILITY'\n",
      " 'MISSING IN DATABASE' 'UNKNOWN' 'HOSPITALIZATION' 'PALLIATIVE DISCHARGE'\n",
      " 'Death' 'Hospitalisation' 'Discharged alive' 'Transfer to other facility'\n",
      " 'Medically fit for discharge (COVID-19 resolved) but remains in hospital for other reason'\n",
      " 'Palliative discharge' 'Unknown'\n",
      " 'Ongoing health care needs relating to this admission for COVID-19'\n",
      " 'Ongoing health care needs NOT related to COVID episode'\n",
      " 'Discharged alive expected to survive' 'DISCHARGED'\n",
      " 'CURRENTLY HOSPITALISED' 'DISCHARGE' 'TRANSFERRED TO ANOTHER FACILITY'\n",
      " 'ALIVE' 'DECEASED' 'Forwarding to home'\n",
      " 'Transfer to another health care facility' 'Hospitalization'\n",
      " 'Transfer to the Health District' 'Discharge against medical advice'\n",
      " 'Palliative care' 'QUARANTINE CENTER'\n",
      " 'TRANSFER TO OTHER HOSPITAL/FACILITY' 'LONG TERM CARE FACILITY'\n",
      " 'DEATH IN HOSPITAL' 'TRANSFERRED TO ANOTHER UNIT' 'HOSPITAL DISCHARGE'\n",
      " 'DISCHARGE WITH PALLIATIVE CARE' 'HOSPITALIZED' 'Alive' 'Deceased'\n",
      " 'Not recorded' 'Died' 'Died (non-COVID)' 'In Hospital' 'Discharged Alive'\n",
      " 'In hospital']\n",
      "Values for DSDECOD:  ['DISCHARGED' 'DEATH' 'TRANSFERRED' 'UNKNOWN' 'STILL IN HOSPITAL' nan\n",
      " 'LOST TO FOLLOW-UP']\n"
     ]
    }
   ],
   "source": [
    "# Investigate DSTERM and DSDECOD\n",
    "print('Values for DSTERM: ', DS['DSTERM'].unique())\n",
    "print('Values for DSDECOD: ', DS['DSDECOD'].unique())\n",
    "# We make the choice to keep only DSDECOD"
   ]
  },
  {
   "cell_type": "code",
   "execution_count": 45,
   "id": "962c645d-5236-4742-9b2d-b53fc2854019",
   "metadata": {},
   "outputs": [
    {
     "name": "stdout",
     "output_type": "stream",
     "text": [
      "Values for VISITNUM:  [nan  1.  2.]\n",
      "Values for VISIT:  [nan 'Day 0' 'Week 2 Day 14']\n",
      "Values for VISITDY:  [nan  1. 15.]\n",
      "%NA for VISITNUM:  99.82092346266369\n",
      "%NA for VISIT:  99.82092346266369\n",
      "%NA for VISITDY:  99.82092346266369\n"
     ]
    }
   ],
   "source": [
    "# Investigate VISITNUM, VISIT and VISITDY\n",
    "\n",
    "print('Values for VISITNUM: ', DS['VISITNUM'].unique())\n",
    "print('Values for VISIT: ', DS['VISIT'].unique())\n",
    "print('Values for VISITDY: ', DS['VISITDY'].unique())\n",
    "\n",
    "print('%NA for VISITNUM: ', DS['VISITNUM'].isna().sum()/DS.shape[0]*100)\n",
    "print('%NA for VISIT: ', DS['VISIT'].isna().sum()/DS.shape[0]*100)\n",
    "print('%NA for VISITDY: ', DS['VISITDY'].isna().sum()/DS.shape[0]*100)"
   ]
  },
  {
   "cell_type": "code",
   "execution_count": 46,
   "id": "bae25163-9d50-4a52-9c82-5103259bc11e",
   "metadata": {},
   "outputs": [
    {
     "name": "stdout",
     "output_type": "stream",
     "text": [
      "Values for DSDY:  [nan 78. 75. 29. 28. 24. 17. 32. 25. 21. 22. 30. 50. 38. 33. 36. 31. 45.\n",
      " 80. 35. 59. 63. 34. 27. 26. 39. 49. 53. 16. 19. 20. 37. 72. 46. 11. 40.\n",
      " 23. 48. 42. 54. 14. 90. 41. 51. 13.  7. 12.]\n",
      "Values for DSEVINTX:  [nan 'AT ANY TIME AFTER DISCHARGE']\n",
      "Values for DSCDSTDY:  [ nan  16.   2.  20.   8.   5.   4.   1.   9.  14.  25.  51.  18.  19.\n",
      "  24.  12.  55.   6.  13.  23.  28. 109.   7.  11.  21.   3.]\n",
      "%NA for DSDY:  99.87887781936428\n",
      "%NA for DSEVINTX:  99.83814002888019\n",
      "%NA for DSCDSTDY:  99.99211917743611\n"
     ]
    }
   ],
   "source": [
    "# Investigate DSDY, DSEVINTX and DSCDSTDY\n",
    "\n",
    "print('Values for DSDY: ', DS['DSDY'].unique())\n",
    "print('Values for DSEVINTX: ', DS['DSEVINTX'].unique())\n",
    "print('Values for DSCDSTDY: ', DS['DSCDSTDY'].unique())\n",
    "\n",
    "print('%NA for DSDY: ', DS['DSDY'].isna().sum()/DS.shape[0]*100)\n",
    "print('%NA for DSEVINTX: ', DS['DSEVINTX'].isna().sum()/DS.shape[0]*100)\n",
    "print('%NA for DSCDSTDY: ', DS['DSCDSTDY'].isna().sum()/DS.shape[0]*100)"
   ]
  },
  {
   "cell_type": "markdown",
   "id": "67c4f4de-4fa2-4eec-a619-b43ab61ffc25",
   "metadata": {},
   "source": [
    "**=> To conclud, for DS, we can keep: USUBJID, DSSEQ and DSDECOD:**"
   ]
  },
  {
   "cell_type": "code",
   "execution_count": 58,
   "id": "2fecaf06-6380-451d-9a65-c20788081c13",
   "metadata": {},
   "outputs": [
    {
     "data": {
      "text/plain": [
       "Index(['USUBJID', 'DSDECOD'], dtype='object')"
      ]
     },
     "execution_count": 58,
     "metadata": {},
     "output_type": "execute_result"
    }
   ],
   "source": [
    "# Keep only some columns for DS\n",
    "DS = DS[['USUBJID', 'DSSEQ', 'DSDECOD']]\n",
    "DS.columns"
   ]
  },
  {
   "cell_type": "code",
   "execution_count": 59,
   "id": "cfcb5eae-5ed6-4d3c-8480-ce2345d6aca0",
   "metadata": {},
   "outputs": [
    {
     "data": {
      "text/plain": [
       "(824787, 2)"
      ]
     },
     "execution_count": 59,
     "metadata": {},
     "output_type": "execute_result"
    }
   ],
   "source": [
    "DS.shape"
   ]
  },
  {
   "cell_type": "markdown",
   "id": "dcf014cd-c25f-4282-b123-abb5909978fd",
   "metadata": {
    "jp-MarkdownHeadingCollapsed": true,
    "tags": []
   },
   "source": [
    "#### For ER:"
   ]
  },
  {
   "cell_type": "code",
   "execution_count": 61,
   "id": "51641e33-15e9-41d3-a047-37c6858008d9",
   "metadata": {},
   "outputs": [
    {
     "data": {
      "text/html": [
       "<div>\n",
       "<style scoped>\n",
       "    .dataframe tbody tr th:only-of-type {\n",
       "        vertical-align: middle;\n",
       "    }\n",
       "\n",
       "    .dataframe tbody tr th {\n",
       "        vertical-align: top;\n",
       "    }\n",
       "\n",
       "    .dataframe thead th {\n",
       "        text-align: right;\n",
       "    }\n",
       "</style>\n",
       "<table border=\"1\" class=\"dataframe\">\n",
       "  <thead>\n",
       "    <tr style=\"text-align: right;\">\n",
       "      <th></th>\n",
       "      <th>Variable_Name</th>\n",
       "      <th>Variable_Type</th>\n",
       "      <th>Variable_Definition</th>\n",
       "    </tr>\n",
       "  </thead>\n",
       "  <tbody>\n",
       "    <tr>\n",
       "      <th>180</th>\n",
       "      <td>STUDYID</td>\n",
       "      <td>character</td>\n",
       "      <td>This variable contains the unique identifier for a study. This is the main key/identifier for all domains in the IDDO Data Repository  every domain table will have the STUDYID identifier.</td>\n",
       "    </tr>\n",
       "    <tr>\n",
       "      <th>181</th>\n",
       "      <td>DOMAIN</td>\n",
       "      <td>character</td>\n",
       "      <td>This variable contains the two-character abbreviation for the domain.</td>\n",
       "    </tr>\n",
       "    <tr>\n",
       "      <th>182</th>\n",
       "      <td>USUBJID</td>\n",
       "      <td>character</td>\n",
       "      <td>This variable contains the unique subject identifier for a study. This is a secondary key/identifier for all subject-level domains in the IDDO Data Repository  every domain table containing subject-level information (i.e., all but the Trial Domains) will have the USUBJID identifier. This variable will identify unique subjects in the repository.</td>\n",
       "    </tr>\n",
       "    <tr>\n",
       "      <th>183</th>\n",
       "      <td>ERSEQ</td>\n",
       "      <td>number</td>\n",
       "      <td>This variable contains a sequence number to ensure uniqueness of subject records within the domain. Each observation (each recorded as a separate row in the domain) will have a unique number within each subject, e.g., a subject with 10 observations will have 10 rows and each row is numbered sequentially from 1-10.</td>\n",
       "    </tr>\n",
       "    <tr>\n",
       "      <th>184</th>\n",
       "      <td>ERTERM</td>\n",
       "      <td>character</td>\n",
       "      <td>This variable contains the verbatim wording of the event as provided by the Data Contributor.</td>\n",
       "    </tr>\n",
       "    <tr>\n",
       "      <th>185</th>\n",
       "      <td>ERMODIFY</td>\n",
       "      <td>character</td>\n",
       "      <td>This variable contains a modification of the verbatim wording of the event. This is used to capture IDDO-defined standardised terms of the event.</td>\n",
       "    </tr>\n",
       "    <tr>\n",
       "      <th>186</th>\n",
       "      <td>ERCAT</td>\n",
       "      <td>character</td>\n",
       "      <td>This variable contains a categorization of the observation.</td>\n",
       "    </tr>\n",
       "    <tr>\n",
       "      <th>187</th>\n",
       "      <td>ERSCAT</td>\n",
       "      <td>character</td>\n",
       "      <td>This variable contains a further categorization of the observation.</td>\n",
       "    </tr>\n",
       "    <tr>\n",
       "      <th>188</th>\n",
       "      <td>ERPRESP</td>\n",
       "      <td>character</td>\n",
       "      <td>This variable identifies whether an observation was pre-specified on the CRF. Values are null for spontaneously reported events, i.e. those collected as free-text verbatim terms.</td>\n",
       "    </tr>\n",
       "    <tr>\n",
       "      <th>189</th>\n",
       "      <td>EROCCUR</td>\n",
       "      <td>character</td>\n",
       "      <td>This variable identifies whether or not a pre-specified event has occurred. Values are null for spontaneously reported events.</td>\n",
       "    </tr>\n",
       "    <tr>\n",
       "      <th>190</th>\n",
       "      <td>ERSTAT</td>\n",
       "      <td>character</td>\n",
       "      <td>This variable contains information about the status of the observation  specifically that it was not completed when it was expected to have been. This column should be empty when there is a value in the --OCCUR (Events and Interventions Domains) or --ORRES (Findings Domains) variables.</td>\n",
       "    </tr>\n",
       "    <tr>\n",
       "      <th>191</th>\n",
       "      <td>ERREASND</td>\n",
       "      <td>character</td>\n",
       "      <td>This variable contains information about the reason why the observation was not completed when it was expected to have been. This column should be populated when there is a value of \"NOT DONE\" in the --STAT variable.</td>\n",
       "    </tr>\n",
       "    <tr>\n",
       "      <th>192</th>\n",
       "      <td>VISITNUM</td>\n",
       "      <td>number</td>\n",
       "      <td>This variable contains a number designating the planned clinical encounter number. This is a numeric version of the visit described in VISIT? and it is used for sorting.</td>\n",
       "    </tr>\n",
       "    <tr>\n",
       "      <th>193</th>\n",
       "      <td>VISIT</td>\n",
       "      <td>character</td>\n",
       "      <td>This variable contains the protocol-defined text description of the planned clinical encounter number (as defined in the Trial Visits (TV) Domain).</td>\n",
       "    </tr>\n",
       "    <tr>\n",
       "      <th>194</th>\n",
       "      <td>VISITDY</td>\n",
       "      <td>number</td>\n",
       "      <td>This variable contains a number designating the Study Day of the planned clinical encounter. This is also a numeric version of the visit described in VISIT? and can be used for sorting.</td>\n",
       "    </tr>\n",
       "    <tr>\n",
       "      <th>195</th>\n",
       "      <td>EPOCH</td>\n",
       "      <td>character</td>\n",
       "      <td>This variable describes the Epoch period of the observation (e.g., Baseline, Treatment, Follow-up).  This is defined by CDISC Controlled Terminology</td>\n",
       "    </tr>\n",
       "    <tr>\n",
       "      <th>196</th>\n",
       "      <td>ERDTC</td>\n",
       "      <td>character</td>\n",
       "      <td>This variable contains the date and time of the collection of the observation, administration of a test or collection of a specimen.  This date and time will be provided in ISO 8601 format.</td>\n",
       "    </tr>\n",
       "    <tr>\n",
       "      <th>197</th>\n",
       "      <td>ERSTDTC</td>\n",
       "      <td>character</td>\n",
       "      <td>This variable contains the start date and time of the observation or initiation of the event (as opposed to the date the question about the observation/event was asked). This date and time will be provided in ISO 8601 format.</td>\n",
       "    </tr>\n",
       "    <tr>\n",
       "      <th>198</th>\n",
       "      <td>ERENDTC</td>\n",
       "      <td>character</td>\n",
       "      <td>This variable contains the end date and time of the observation or cessation of event. This date and time will be provided in ISO 8601 format.</td>\n",
       "    </tr>\n",
       "    <tr>\n",
       "      <th>199</th>\n",
       "      <td>ERDY</td>\n",
       "      <td>number</td>\n",
       "      <td>This variable describes the study day of the observation relative to the date in RFSTDTC.  This will be blank for records with no value in the --DTC variable.</td>\n",
       "    </tr>\n",
       "    <tr>\n",
       "      <th>200</th>\n",
       "      <td>ERSTDY</td>\n",
       "      <td>number</td>\n",
       "      <td>This variable describes the study day of the start of the observation relative to the date in RFSTDTC.  This will be blank for records with no value in the --STDTC variable.</td>\n",
       "    </tr>\n",
       "    <tr>\n",
       "      <th>201</th>\n",
       "      <td>ERENDY</td>\n",
       "      <td>number</td>\n",
       "      <td>This variable describes the study day of the end of the observation relative to the date in RFSTDTC.  This will be blank for records with no value in the --ENDTC variable.</td>\n",
       "    </tr>\n",
       "    <tr>\n",
       "      <th>202</th>\n",
       "      <td>ERTPT</td>\n",
       "      <td>character</td>\n",
       "      <td>This variable describes when the observation should have happened as defined in the study protocol. This may be represented as an elapsed time relative to a fixed reference point described in --TPTREF.</td>\n",
       "    </tr>\n",
       "    <tr>\n",
       "      <th>203</th>\n",
       "      <td>ERTPTREF</td>\n",
       "      <td>character</td>\n",
       "      <td>This variable contains the name of the fixed reference point referred to by --TPT, --ELTM, e.g. PREVIOUS DOSE, PREVIOUS MEAL.</td>\n",
       "    </tr>\n",
       "    <tr>\n",
       "      <th>204</th>\n",
       "      <td>ERSTRF</td>\n",
       "      <td>character</td>\n",
       "      <td>This variable describes when the start of the observation happened in relation to the date recorded in RFSTDTC, e.g. BEFORE, DURING or AFTER.</td>\n",
       "    </tr>\n",
       "    <tr>\n",
       "      <th>205</th>\n",
       "      <td>EREVLINT</td>\n",
       "      <td>character</td>\n",
       "      <td>This variable describes the evaluation interval associated with an observation. This provides information about the time period the question referenced. This duration will be preovided in ISO 8601 format.</td>\n",
       "    </tr>\n",
       "    <tr>\n",
       "      <th>206</th>\n",
       "      <td>EREVINTX</td>\n",
       "      <td>character</td>\n",
       "      <td>This variable contains information about the evaluation interval associated with an observation when it cannot be represented in ISO 8601 format (e.g., \"Last few weeks\", \"While hospitalized\").</td>\n",
       "    </tr>\n",
       "    <tr>\n",
       "      <th>207</th>\n",
       "      <td>ERCNTRY</td>\n",
       "      <td>character</td>\n",
       "      <td>This variable contains information about the country of travel for ERTERM. This is defined by Controlled Terminology.</td>\n",
       "    </tr>\n",
       "  </tbody>\n",
       "</table>\n",
       "</div>"
      ],
      "text/plain": [
       "    Variable_Name Variable_Type  \\\n",
       "180       STUDYID     character   \n",
       "181        DOMAIN     character   \n",
       "182       USUBJID     character   \n",
       "183         ERSEQ        number   \n",
       "184        ERTERM     character   \n",
       "185      ERMODIFY     character   \n",
       "186         ERCAT     character   \n",
       "187        ERSCAT     character   \n",
       "188       ERPRESP     character   \n",
       "189       EROCCUR     character   \n",
       "190        ERSTAT     character   \n",
       "191      ERREASND     character   \n",
       "192      VISITNUM        number   \n",
       "193         VISIT     character   \n",
       "194       VISITDY        number   \n",
       "195         EPOCH     character   \n",
       "196         ERDTC     character   \n",
       "197       ERSTDTC     character   \n",
       "198       ERENDTC     character   \n",
       "199          ERDY        number   \n",
       "200        ERSTDY        number   \n",
       "201        ERENDY        number   \n",
       "202         ERTPT     character   \n",
       "203      ERTPTREF     character   \n",
       "204        ERSTRF     character   \n",
       "205      EREVLINT     character   \n",
       "206      EREVINTX     character   \n",
       "207       ERCNTRY     character   \n",
       "\n",
       "                                                                                                                                                                                                                                                                                                                                             Variable_Definition  \n",
       "180                                                                                                                                                                 This variable contains the unique identifier for a study. This is the main key/identifier for all domains in the IDDO Data Repository  every domain table will have the STUDYID identifier.  \n",
       "181                                                                                                                                                                                                                                                                                        This variable contains the two-character abbreviation for the domain.  \n",
       "182  This variable contains the unique subject identifier for a study. This is a secondary key/identifier for all subject-level domains in the IDDO Data Repository  every domain table containing subject-level information (i.e., all but the Trial Domains) will have the USUBJID identifier. This variable will identify unique subjects in the repository.  \n",
       "183                                  This variable contains a sequence number to ensure uniqueness of subject records within the domain. Each observation (each recorded as a separate row in the domain) will have a unique number within each subject, e.g., a subject with 10 observations will have 10 rows and each row is numbered sequentially from 1-10.  \n",
       "184                                                                                                                                                                                                                                                                This variable contains the verbatim wording of the event as provided by the Data Contributor.  \n",
       "185                                                                                                                                                                                                            This variable contains a modification of the verbatim wording of the event. This is used to capture IDDO-defined standardised terms of the event.  \n",
       "186                                                                                                                                                                                                                                                                                                  This variable contains a categorization of the observation.  \n",
       "187                                                                                                                                                                                                                                                                                          This variable contains a further categorization of the observation.  \n",
       "188                                                                                                                                                                           This variable identifies whether an observation was pre-specified on the CRF. Values are null for spontaneously reported events, i.e. those collected as free-text verbatim terms.  \n",
       "189                                                                                                                                                                                                                               This variable identifies whether or not a pre-specified event has occurred. Values are null for spontaneously reported events.  \n",
       "190                                                             This variable contains information about the status of the observation  specifically that it was not completed when it was expected to have been. This column should be empty when there is a value in the --OCCUR (Events and Interventions Domains) or --ORRES (Findings Domains) variables.   \n",
       "191                                                                                                                                     This variable contains information about the reason why the observation was not completed when it was expected to have been. This column should be populated when there is a value of \"NOT DONE\" in the --STAT variable.  \n",
       "192                                                                                                                                                                                   This variable contains a number designating the planned clinical encounter number. This is a numeric version of the visit described in VISIT? and it is used for sorting.   \n",
       "193                                                                                                                                                                                                          This variable contains the protocol-defined text description of the planned clinical encounter number (as defined in the Trial Visits (TV) Domain).  \n",
       "194                                                                                                                                                                    This variable contains a number designating the Study Day of the planned clinical encounter. This is also a numeric version of the visit described in VISIT? and can be used for sorting.  \n",
       "195                                                                                                                                                                                                         This variable describes the Epoch period of the observation (e.g., Baseline, Treatment, Follow-up).  This is defined by CDISC Controlled Terminology  \n",
       "196                                                                                                                                                                This variable contains the date and time of the collection of the observation, administration of a test or collection of a specimen.  This date and time will be provided in ISO 8601 format.  \n",
       "197                                                                                                                            This variable contains the start date and time of the observation or initiation of the event (as opposed to the date the question about the observation/event was asked). This date and time will be provided in ISO 8601 format.  \n",
       "198                                                                                                                                                                                                               This variable contains the end date and time of the observation or cessation of event. This date and time will be provided in ISO 8601 format.  \n",
       "199                                                                                                                                                                                               This variable describes the study day of the observation relative to the date in RFSTDTC.  This will be blank for records with no value in the --DTC variable.  \n",
       "200                                                                                                                                                                                This variable describes the study day of the start of the observation relative to the date in RFSTDTC.  This will be blank for records with no value in the --STDTC variable.  \n",
       "201                                                                                                                                                                                  This variable describes the study day of the end of the observation relative to the date in RFSTDTC.  This will be blank for records with no value in the --ENDTC variable.  \n",
       "202                                                                                                                                                   This variable describes when the observation should have happened as defined in the study protocol. This may be represented as an elapsed time relative to a fixed reference point described in --TPTREF.   \n",
       "203                                                                                                                                                                                                                                This variable contains the name of the fixed reference point referred to by --TPT, --ELTM, e.g. PREVIOUS DOSE, PREVIOUS MEAL.  \n",
       "204                                                                                                                                                                                                                This variable describes when the start of the observation happened in relation to the date recorded in RFSTDTC, e.g. BEFORE, DURING or AFTER.  \n",
       "205                                                                                                                                                This variable describes the evaluation interval associated with an observation. This provides information about the time period the question referenced. This duration will be preovided in ISO 8601 format.   \n",
       "206                                                                                                                                                             This variable contains information about the evaluation interval associated with an observation when it cannot be represented in ISO 8601 format (e.g., \"Last few weeks\", \"While hospitalized\").  \n",
       "207                                                                                                                                                                                                                                        This variable contains information about the country of travel for ERTERM. This is defined by Controlled Terminology.  "
      ]
     },
     "execution_count": 61,
     "metadata": {},
     "output_type": "execute_result"
    }
   ],
   "source": [
    "# See variables for ER\n",
    "pd.set_option(\"display.max_colwidth\", 1000)\n",
    "data_description.loc[data_description.Domain==ER.name, ['Variable_Name', 'Variable_Type', 'Variable_Definition']]"
   ]
  },
  {
   "cell_type": "code",
   "execution_count": 62,
   "id": "67381e20-4749-4575-a0ca-9fac737fefc8",
   "metadata": {},
   "outputs": [
    {
     "data": {
      "text/plain": [
       "Index(['STUDYID', 'DOMAIN', 'USUBJID', 'ERSEQ', 'ERTERM', 'ERCAT', 'ERPRESP',\n",
       "       'EROCCUR', 'ERSTAT', 'ERREASND', 'VISITNUM', 'VISIT', 'VISITDY', 'ERDY',\n",
       "       'ERSTDY', 'ERENDY', 'EREVINTX', 'ERCNTRY'],\n",
       "      dtype='object')"
      ]
     },
     "execution_count": 62,
     "metadata": {},
     "output_type": "execute_result"
    }
   ],
   "source": [
    "# Columns really in ER\n",
    "ER.columns"
   ]
  },
  {
   "cell_type": "code",
   "execution_count": 64,
   "id": "7a76069c-4aec-47fd-83b5-d5569bddc40c",
   "metadata": {},
   "outputs": [
    {
     "name": "stdout",
     "output_type": "stream",
     "text": [
      "Values for ERCAT:  ['COVID-19 RISK FACTOR']\n"
     ]
    }
   ],
   "source": [
    "# Investigate ERCAT\n",
    "print('Values for ERCAT: ', ER['ERCAT'].unique())"
   ]
  },
  {
   "cell_type": "markdown",
   "id": "e32f6793-dea3-4fff-834e-65b1b9328f36",
   "metadata": {},
   "source": [
    "**=> To conclud, for ER, we can keep nothing because there is no decod of the event.**"
   ]
  },
  {
   "cell_type": "markdown",
   "id": "892595e3-8f49-4304-884d-b16674aba487",
   "metadata": {
    "jp-MarkdownHeadingCollapsed": true,
    "tags": []
   },
   "source": [
    "#### For HO:"
   ]
  },
  {
   "cell_type": "code",
   "execution_count": 69,
   "id": "3b89fb51-a1b6-47be-8dd7-c152f7883f6c",
   "metadata": {},
   "outputs": [
    {
     "data": {
      "text/html": [
       "<div>\n",
       "<style scoped>\n",
       "    .dataframe tbody tr th:only-of-type {\n",
       "        vertical-align: middle;\n",
       "    }\n",
       "\n",
       "    .dataframe tbody tr th {\n",
       "        vertical-align: top;\n",
       "    }\n",
       "\n",
       "    .dataframe thead th {\n",
       "        text-align: right;\n",
       "    }\n",
       "</style>\n",
       "<table border=\"1\" class=\"dataframe\">\n",
       "  <thead>\n",
       "    <tr style=\"text-align: right;\">\n",
       "      <th></th>\n",
       "      <th>Variable_Name</th>\n",
       "      <th>Variable_Type</th>\n",
       "      <th>Variable_Definition</th>\n",
       "    </tr>\n",
       "  </thead>\n",
       "  <tbody>\n",
       "    <tr>\n",
       "      <th>208</th>\n",
       "      <td>STUDYID</td>\n",
       "      <td>character</td>\n",
       "      <td>This variable contains the unique identifier for a study. This is the main key/identifier for all domains in the IDDO Data Repository  every domain table will have the STUDYID identifier.</td>\n",
       "    </tr>\n",
       "    <tr>\n",
       "      <th>209</th>\n",
       "      <td>DOMAIN</td>\n",
       "      <td>character</td>\n",
       "      <td>This variable contains the two-character abbreviation for the domain.</td>\n",
       "    </tr>\n",
       "    <tr>\n",
       "      <th>210</th>\n",
       "      <td>USUBJID</td>\n",
       "      <td>character</td>\n",
       "      <td>This variable contains the unique subject identifier for a study. This is a secondary key/identifier for all subject-level domains in the IDDO Data Repository  every domain table containing subject-level information (i.e., all but the Trial Domains) will have the USUBJID identifier. This variable will identify unique subjects in the repository.</td>\n",
       "    </tr>\n",
       "    <tr>\n",
       "      <th>211</th>\n",
       "      <td>HOSEQ</td>\n",
       "      <td>number</td>\n",
       "      <td>This variable contains a sequence number to ensure uniqueness of subject records within the domain. Each observation (each recorded as a separate row in the domain) will have a unique number within each subject, e.g., a subject with 10 observations will have 10 rows and each row is numbered sequentially from 1-10.</td>\n",
       "    </tr>\n",
       "    <tr>\n",
       "      <th>212</th>\n",
       "      <td>HOREFID</td>\n",
       "      <td>character</td>\n",
       "      <td>This variable contains an identifier to distinguish duplicate findings, collections or events occurring within the same time period where no other timing information is available. This variable is used to make the rows' timing details unique.</td>\n",
       "    </tr>\n",
       "    <tr>\n",
       "      <th>213</th>\n",
       "      <td>HOTERM</td>\n",
       "      <td>character</td>\n",
       "      <td>This variable contains the verbatim wording of the event as provided by the Data Contributor.</td>\n",
       "    </tr>\n",
       "    <tr>\n",
       "      <th>214</th>\n",
       "      <td>HODECOD</td>\n",
       "      <td>character</td>\n",
       "      <td>This variable contains a dictionary-derived text description of the event. This is defined by CDISC Controlled Terminology and IDDO Controlled Terminology. More details can be found in the IDDO Implementation Guide.</td>\n",
       "    </tr>\n",
       "    <tr>\n",
       "      <th>215</th>\n",
       "      <td>HOCAT</td>\n",
       "      <td>character</td>\n",
       "      <td>This variable contains a categorization of the observation.</td>\n",
       "    </tr>\n",
       "    <tr>\n",
       "      <th>216</th>\n",
       "      <td>HOPRESP</td>\n",
       "      <td>character</td>\n",
       "      <td>This variable identifies whether an observation was pre-specified on the CRF. Values are null for spontaneously reported events, i.e. those collected as free-text verbatim terms.</td>\n",
       "    </tr>\n",
       "    <tr>\n",
       "      <th>217</th>\n",
       "      <td>HOOCCUR</td>\n",
       "      <td>character</td>\n",
       "      <td>This variable identifies whether or not a pre-specified event has occurred. Values are null for spontaneously reported events.</td>\n",
       "    </tr>\n",
       "    <tr>\n",
       "      <th>218</th>\n",
       "      <td>HOSTAT</td>\n",
       "      <td>character</td>\n",
       "      <td>This variable contains information about the status of the observation  specifically that it was not completed when it was expected to have been. This column should be empty when there is a value in the --OCCUR (Events and Interventions Domains) or --ORRES (Findings Domains) variables.</td>\n",
       "    </tr>\n",
       "    <tr>\n",
       "      <th>219</th>\n",
       "      <td>HOREASND</td>\n",
       "      <td>character</td>\n",
       "      <td>This variable contains information about the reason why the observation was not completed when it was expected to have been. This column should be populated when there is a value of \"NOT DONE\" in the --STAT variable.</td>\n",
       "    </tr>\n",
       "    <tr>\n",
       "      <th>220</th>\n",
       "      <td>HOPATT</td>\n",
       "      <td>number</td>\n",
       "      <td>This variable contains the number of events reported for HOTERM, where individual events and timing have not been provided and only the number of occurrences is available.</td>\n",
       "    </tr>\n",
       "    <tr>\n",
       "      <th>221</th>\n",
       "      <td>VISITNUM</td>\n",
       "      <td>number</td>\n",
       "      <td>This variable contains a number designating the planned clinical encounter number. This is a numeric version of the visit described in VISIT? and it is used for sorting.</td>\n",
       "    </tr>\n",
       "    <tr>\n",
       "      <th>222</th>\n",
       "      <td>VISIT</td>\n",
       "      <td>character</td>\n",
       "      <td>This variable contains the protocol-defined text description of the planned clinical encounter number (as defined in the Trial Visits (TV) Domain).</td>\n",
       "    </tr>\n",
       "    <tr>\n",
       "      <th>223</th>\n",
       "      <td>VISITDY</td>\n",
       "      <td>number</td>\n",
       "      <td>This variable contains a number designating the Study Day of the planned clinical encounter. This is also a numeric version of the visit described in VISIT? and can be used for sorting.</td>\n",
       "    </tr>\n",
       "    <tr>\n",
       "      <th>224</th>\n",
       "      <td>HODTC</td>\n",
       "      <td>character</td>\n",
       "      <td>This variable contains the date and time of the collection of the observation, administration of a test or collection of a specimen.  This date and time will be provided in ISO 8601 format.</td>\n",
       "    </tr>\n",
       "    <tr>\n",
       "      <th>225</th>\n",
       "      <td>HOSTDTC</td>\n",
       "      <td>character</td>\n",
       "      <td>This variable contains the start date and time of the observation or initiation of the event (as opposed to the date the question about the observation/event was asked). This date and time will be provided in ISO 8601 format.</td>\n",
       "    </tr>\n",
       "    <tr>\n",
       "      <th>226</th>\n",
       "      <td>HOENDTC</td>\n",
       "      <td>character</td>\n",
       "      <td>This variable contains the end date and time of the observation or cessation of event. This date and time will be provided in ISO 8601 format.</td>\n",
       "    </tr>\n",
       "    <tr>\n",
       "      <th>227</th>\n",
       "      <td>HODY</td>\n",
       "      <td>number</td>\n",
       "      <td>This variable describes the study day of the observation relative to the date in RFSTDTC.  This will be blank for records with no value in the --DTC variable.</td>\n",
       "    </tr>\n",
       "    <tr>\n",
       "      <th>228</th>\n",
       "      <td>HOSTDY</td>\n",
       "      <td>number</td>\n",
       "      <td>This variable describes the study day of the start of the observation relative to the date in RFSTDTC.  This will be blank for records with no value in the --STDTC variable.</td>\n",
       "    </tr>\n",
       "    <tr>\n",
       "      <th>229</th>\n",
       "      <td>HOENDY</td>\n",
       "      <td>number</td>\n",
       "      <td>This variable describes the study day of the end of the observation relative to the date in RFSTDTC.  This will be blank for records with no value in the --ENDTC variable.</td>\n",
       "    </tr>\n",
       "    <tr>\n",
       "      <th>230</th>\n",
       "      <td>HODUR</td>\n",
       "      <td>character</td>\n",
       "      <td>This variable contains information about the duration of the observation. This is only if collected on the CRF and not derived. This is collected in ISO 8601 format.</td>\n",
       "    </tr>\n",
       "    <tr>\n",
       "      <th>231</th>\n",
       "      <td>HOTPT</td>\n",
       "      <td>character</td>\n",
       "      <td>This variable describes when the observation should have happened as defined in the study protocol. This may be represented as an elapsed time relative to a fixed reference point described in --TPTREF.</td>\n",
       "    </tr>\n",
       "    <tr>\n",
       "      <th>232</th>\n",
       "      <td>HOTPTREF</td>\n",
       "      <td>character</td>\n",
       "      <td>This variable contains the name of the fixed reference point referred to by --TPT, --ELTM, e.g. PREVIOUS DOSE, PREVIOUS MEAL.</td>\n",
       "    </tr>\n",
       "    <tr>\n",
       "      <th>233</th>\n",
       "      <td>HOSTRF</td>\n",
       "      <td>character</td>\n",
       "      <td>This variable describes when the start of the observation happened in relation to the date recorded in RFSTDTC, e.g. BEFORE, DURING or AFTER.</td>\n",
       "    </tr>\n",
       "    <tr>\n",
       "      <th>234</th>\n",
       "      <td>HOEVINTX</td>\n",
       "      <td>character</td>\n",
       "      <td>This variable contains information about the evaluation interval associated with an observation when it cannot be represented in ISO 8601 format (e.g., \"Last few weeks\", \"While hospitalized\").</td>\n",
       "    </tr>\n",
       "    <tr>\n",
       "      <th>235</th>\n",
       "      <td>HOCDSTDY</td>\n",
       "      <td>number</td>\n",
       "      <td>This variable contains the contributor-defined study day expressed in integer days relative to the start of the study. This variable is used when no dates are provided, only a contributor-defined proxy.</td>\n",
       "    </tr>\n",
       "    <tr>\n",
       "      <th>236</th>\n",
       "      <td>HODISOUT</td>\n",
       "      <td>character</td>\n",
       "      <td>This variable contains details on the subject's disposition at hospital discharge.</td>\n",
       "    </tr>\n",
       "    <tr>\n",
       "      <th>237</th>\n",
       "      <td>SELFCARE</td>\n",
       "      <td>character</td>\n",
       "      <td>This variable contains details on the subject's ability to self-care after hospital discharge.</td>\n",
       "    </tr>\n",
       "    <tr>\n",
       "      <th>238</th>\n",
       "      <td>HOINDC</td>\n",
       "      <td>character</td>\n",
       "      <td>This variable contains information on the indication or medical condition responsible for the hospital or ICU admission.</td>\n",
       "    </tr>\n",
       "  </tbody>\n",
       "</table>\n",
       "</div>"
      ],
      "text/plain": [
       "    Variable_Name Variable_Type  \\\n",
       "208       STUDYID     character   \n",
       "209        DOMAIN     character   \n",
       "210       USUBJID     character   \n",
       "211         HOSEQ        number   \n",
       "212       HOREFID     character   \n",
       "213        HOTERM     character   \n",
       "214       HODECOD     character   \n",
       "215         HOCAT     character   \n",
       "216       HOPRESP     character   \n",
       "217       HOOCCUR     character   \n",
       "218        HOSTAT     character   \n",
       "219      HOREASND     character   \n",
       "220        HOPATT        number   \n",
       "221      VISITNUM        number   \n",
       "222         VISIT     character   \n",
       "223       VISITDY        number   \n",
       "224         HODTC     character   \n",
       "225       HOSTDTC     character   \n",
       "226       HOENDTC     character   \n",
       "227          HODY        number   \n",
       "228        HOSTDY        number   \n",
       "229        HOENDY        number   \n",
       "230         HODUR     character   \n",
       "231         HOTPT     character   \n",
       "232      HOTPTREF     character   \n",
       "233        HOSTRF     character   \n",
       "234      HOEVINTX     character   \n",
       "235      HOCDSTDY        number   \n",
       "236      HODISOUT     character   \n",
       "237      SELFCARE     character   \n",
       "238        HOINDC     character   \n",
       "\n",
       "                                                                                                                                                                                                                                                                                                                                             Variable_Definition  \n",
       "208                                                                                                                                                                 This variable contains the unique identifier for a study. This is the main key/identifier for all domains in the IDDO Data Repository  every domain table will have the STUDYID identifier.  \n",
       "209                                                                                                                                                                                                                                                                                        This variable contains the two-character abbreviation for the domain.  \n",
       "210  This variable contains the unique subject identifier for a study. This is a secondary key/identifier for all subject-level domains in the IDDO Data Repository  every domain table containing subject-level information (i.e., all but the Trial Domains) will have the USUBJID identifier. This variable will identify unique subjects in the repository.  \n",
       "211                                  This variable contains a sequence number to ensure uniqueness of subject records within the domain. Each observation (each recorded as a separate row in the domain) will have a unique number within each subject, e.g., a subject with 10 observations will have 10 rows and each row is numbered sequentially from 1-10.  \n",
       "212                                                                                                           This variable contains an identifier to distinguish duplicate findings, collections or events occurring within the same time period where no other timing information is available. This variable is used to make the rows' timing details unique.  \n",
       "213                                                                                                                                                                                                                                                                This variable contains the verbatim wording of the event as provided by the Data Contributor.  \n",
       "214                                                                                                                                      This variable contains a dictionary-derived text description of the event. This is defined by CDISC Controlled Terminology and IDDO Controlled Terminology. More details can be found in the IDDO Implementation Guide.  \n",
       "215                                                                                                                                                                                                                                                                                                  This variable contains a categorization of the observation.  \n",
       "216                                                                                                                                                                           This variable identifies whether an observation was pre-specified on the CRF. Values are null for spontaneously reported events, i.e. those collected as free-text verbatim terms.  \n",
       "217                                                                                                                                                                                                                               This variable identifies whether or not a pre-specified event has occurred. Values are null for spontaneously reported events.  \n",
       "218                                                             This variable contains information about the status of the observation  specifically that it was not completed when it was expected to have been. This column should be empty when there is a value in the --OCCUR (Events and Interventions Domains) or --ORRES (Findings Domains) variables.   \n",
       "219                                                                                                                                     This variable contains information about the reason why the observation was not completed when it was expected to have been. This column should be populated when there is a value of \"NOT DONE\" in the --STAT variable.  \n",
       "220                                                                                                                                                                                 This variable contains the number of events reported for HOTERM, where individual events and timing have not been provided and only the number of occurrences is available.   \n",
       "221                                                                                                                                                                                   This variable contains a number designating the planned clinical encounter number. This is a numeric version of the visit described in VISIT? and it is used for sorting.   \n",
       "222                                                                                                                                                                                                          This variable contains the protocol-defined text description of the planned clinical encounter number (as defined in the Trial Visits (TV) Domain).  \n",
       "223                                                                                                                                                                    This variable contains a number designating the Study Day of the planned clinical encounter. This is also a numeric version of the visit described in VISIT? and can be used for sorting.  \n",
       "224                                                                                                                                                                This variable contains the date and time of the collection of the observation, administration of a test or collection of a specimen.  This date and time will be provided in ISO 8601 format.  \n",
       "225                                                                                                                            This variable contains the start date and time of the observation or initiation of the event (as opposed to the date the question about the observation/event was asked). This date and time will be provided in ISO 8601 format.  \n",
       "226                                                                                                                                                                                                               This variable contains the end date and time of the observation or cessation of event. This date and time will be provided in ISO 8601 format.  \n",
       "227                                                                                                                                                                                               This variable describes the study day of the observation relative to the date in RFSTDTC.  This will be blank for records with no value in the --DTC variable.  \n",
       "228                                                                                                                                                                                This variable describes the study day of the start of the observation relative to the date in RFSTDTC.  This will be blank for records with no value in the --STDTC variable.  \n",
       "229                                                                                                                                                                                  This variable describes the study day of the end of the observation relative to the date in RFSTDTC.  This will be blank for records with no value in the --ENDTC variable.  \n",
       "230                                                                                                                                                                                        This variable contains information about the duration of the observation. This is only if collected on the CRF and not derived. This is collected in ISO 8601 format.  \n",
       "231                                                                                                                                                   This variable describes when the observation should have happened as defined in the study protocol. This may be represented as an elapsed time relative to a fixed reference point described in --TPTREF.   \n",
       "232                                                                                                                                                                                                                                This variable contains the name of the fixed reference point referred to by --TPT, --ELTM, e.g. PREVIOUS DOSE, PREVIOUS MEAL.  \n",
       "233                                                                                                                                                                                                                This variable describes when the start of the observation happened in relation to the date recorded in RFSTDTC, e.g. BEFORE, DURING or AFTER.  \n",
       "234                                                                                                                                                             This variable contains information about the evaluation interval associated with an observation when it cannot be represented in ISO 8601 format (e.g., \"Last few weeks\", \"While hospitalized\").  \n",
       "235                                                                                                                                                  This variable contains the contributor-defined study day expressed in integer days relative to the start of the study. This variable is used when no dates are provided, only a contributor-defined proxy.   \n",
       "236                                                                                                                                                                                                                                                                           This variable contains details on the subject's disposition at hospital discharge.  \n",
       "237                                                                                                                                                                                                                                                               This variable contains details on the subject's ability to self-care after hospital discharge.  \n",
       "238                                                                                                                                                                                                                                    This variable contains information on the indication or medical condition responsible for the hospital or ICU admission.   "
      ]
     },
     "execution_count": 69,
     "metadata": {},
     "output_type": "execute_result"
    }
   ],
   "source": [
    "# See variables for HO\n",
    "pd.set_option(\"display.max_colwidth\", 1000)\n",
    "data_description.loc[data_description.Domain==HO.name, ['Variable_Name', 'Variable_Type', 'Variable_Definition']]"
   ]
  },
  {
   "cell_type": "code",
   "execution_count": 70,
   "id": "f1bd6453-3ede-4511-9951-3dafc913cddb",
   "metadata": {},
   "outputs": [
    {
     "data": {
      "text/plain": [
       "Index(['STUDYID', 'DOMAIN', 'USUBJID', 'HOSEQ', 'HOREFID', 'HOTERM', 'HODECOD',\n",
       "       'HOCAT', 'HOPRESP', 'HOOCCUR', 'HOSTAT', 'HOREASND', 'HOPATT',\n",
       "       'VISITNUM', 'VISIT', 'VISITDY', 'HODY', 'HOSTDY', 'HOENDY', 'HODUR',\n",
       "       'HOSTRF', 'HOEVINTX', 'HOCDSTDY', 'HODISOUT', 'SELFCARE', 'HOINDC'],\n",
       "      dtype='object')"
      ]
     },
     "execution_count": 70,
     "metadata": {},
     "output_type": "execute_result"
    }
   ],
   "source": [
    "# Columns really in HO\n",
    "HO.columns"
   ]
  },
  {
   "cell_type": "code",
   "execution_count": 71,
   "id": "ba392218-ca5f-424d-b792-b84a286fceae",
   "metadata": {},
   "outputs": [
    {
     "name": "stdout",
     "output_type": "stream",
     "text": [
      "Values for HODECOD:  ['HOSPITAL' 'INTENSIVE CARE UNIT']\n"
     ]
    }
   ],
   "source": [
    "# Investigate HODECOD\n",
    "print('Values for HODECOD: ', HO['HODECOD'].unique())"
   ]
  },
  {
   "cell_type": "markdown",
   "id": "139e936d-c224-49a3-ad28-46c4fc2c9294",
   "metadata": {},
   "source": [
    "**=> To conclud, for HO, we can keep: USUBJID, HOSEQ and HODECOD:**"
   ]
  },
  {
   "cell_type": "code",
   "execution_count": 72,
   "id": "591cea21-c480-4f97-919c-e78890727e2b",
   "metadata": {},
   "outputs": [
    {
     "data": {
      "text/plain": [
       "Index(['USUBJID', 'HOSEQ', 'HODECOD'], dtype='object')"
      ]
     },
     "execution_count": 72,
     "metadata": {},
     "output_type": "execute_result"
    }
   ],
   "source": [
    "# Keep only some columns for HO\n",
    "HO = HO[['USUBJID', 'HOSEQ', 'HODECOD']]\n",
    "HO.columns"
   ]
  },
  {
   "cell_type": "code",
   "execution_count": 73,
   "id": "e6e58e80-ea13-49da-a10a-45897100048f",
   "metadata": {},
   "outputs": [
    {
     "data": {
      "text/plain": [
       "(2336786, 3)"
      ]
     },
     "execution_count": 73,
     "metadata": {},
     "output_type": "execute_result"
    }
   ],
   "source": [
    "HO.shape"
   ]
  },
  {
   "cell_type": "markdown",
   "id": "d1be5280-84f6-4f9b-b9ce-f8338588bafe",
   "metadata": {
    "jp-MarkdownHeadingCollapsed": true,
    "tags": []
   },
   "source": [
    "#### For IE:"
   ]
  },
  {
   "cell_type": "code",
   "execution_count": 75,
   "id": "10631463-5f06-445d-93f1-43d69380599a",
   "metadata": {},
   "outputs": [
    {
     "data": {
      "text/html": [
       "<div>\n",
       "<style scoped>\n",
       "    .dataframe tbody tr th:only-of-type {\n",
       "        vertical-align: middle;\n",
       "    }\n",
       "\n",
       "    .dataframe tbody tr th {\n",
       "        vertical-align: top;\n",
       "    }\n",
       "\n",
       "    .dataframe thead th {\n",
       "        text-align: right;\n",
       "    }\n",
       "</style>\n",
       "<table border=\"1\" class=\"dataframe\">\n",
       "  <thead>\n",
       "    <tr style=\"text-align: right;\">\n",
       "      <th></th>\n",
       "      <th>Variable_Name</th>\n",
       "      <th>Variable_Type</th>\n",
       "      <th>Variable_Definition</th>\n",
       "    </tr>\n",
       "  </thead>\n",
       "  <tbody>\n",
       "    <tr>\n",
       "      <th>239</th>\n",
       "      <td>STUDYID</td>\n",
       "      <td>character</td>\n",
       "      <td>This variable contains the unique identifier for a study. This is the main key/identifier for all domains in the IDDO Data Repository  every domain table will have the STUDYID identifier.</td>\n",
       "    </tr>\n",
       "    <tr>\n",
       "      <th>240</th>\n",
       "      <td>DOMAIN</td>\n",
       "      <td>character</td>\n",
       "      <td>This variable contains the two-character abbreviation for the domain.</td>\n",
       "    </tr>\n",
       "    <tr>\n",
       "      <th>241</th>\n",
       "      <td>USUBJID</td>\n",
       "      <td>character</td>\n",
       "      <td>This variable contains the unique subject identifier for a study. This is a secondary key/identifier for all subject-level domains in the IDDO Data Repository  every domain table containing subject-level information (i.e., all but the Trial Domains) will have the USUBJID identifier. This variable will identify unique subjects in the repository.</td>\n",
       "    </tr>\n",
       "    <tr>\n",
       "      <th>242</th>\n",
       "      <td>IESEQ</td>\n",
       "      <td>number</td>\n",
       "      <td>This variable contains a sequence number to ensure uniqueness of subject records within the domain. Each observation (each recorded as a separate row in the domain) will have a unique number within each subject, e.g., a subject with 10 observations will have 10 rows and each row is numbered sequentially from 1-10.</td>\n",
       "    </tr>\n",
       "    <tr>\n",
       "      <th>243</th>\n",
       "      <td>IETESTCD</td>\n",
       "      <td>character</td>\n",
       "      <td>This variable identifies the shortened code for the name of the test or examination performed.</td>\n",
       "    </tr>\n",
       "    <tr>\n",
       "      <th>244</th>\n",
       "      <td>IETEST</td>\n",
       "      <td>character</td>\n",
       "      <td>This variable identifies the name of the test or examination performed.</td>\n",
       "    </tr>\n",
       "    <tr>\n",
       "      <th>245</th>\n",
       "      <td>IECAT</td>\n",
       "      <td>character</td>\n",
       "      <td>This variable contains a categorization of the observation.</td>\n",
       "    </tr>\n",
       "    <tr>\n",
       "      <th>246</th>\n",
       "      <td>IEORRES</td>\n",
       "      <td>character</td>\n",
       "      <td>This variable contains the result of the test or examination performed as provided by the data contributor. The original data can be either numericm e.g. \"503\" or string, e.g., \"Positive\".</td>\n",
       "    </tr>\n",
       "    <tr>\n",
       "      <th>247</th>\n",
       "      <td>IESTRESC</td>\n",
       "      <td>character</td>\n",
       "      <td>This variable contains the converted, standardized result of the test or examination performed. The data can be either numeric, e.g. \"503\", or string, e.g. \"Positive\", and is stored as a string in the repository. The standard units and conversion formulas (as applicable) are described in detail in the IDDO Implementation Guide in the relevant sections about the variable --STRESU.</td>\n",
       "    </tr>\n",
       "    <tr>\n",
       "      <th>248</th>\n",
       "      <td>IESTAT</td>\n",
       "      <td>character</td>\n",
       "      <td>This variable contains information about the status of the observation  specifically that it was not completed when it was expected to have been. This column should be empty when there is a value in the --OCCUR (Events and Interventions Domains) or --ORRES (Findings Domains) variables.</td>\n",
       "    </tr>\n",
       "    <tr>\n",
       "      <th>249</th>\n",
       "      <td>IEREASND</td>\n",
       "      <td>character</td>\n",
       "      <td>This variable contains information about the reason why the observation was not completed when it was expected to have been. This column should be populated when there is a value of \"NOT DONE\" in the --STAT variable.</td>\n",
       "    </tr>\n",
       "    <tr>\n",
       "      <th>250</th>\n",
       "      <td>IEDTC</td>\n",
       "      <td>character</td>\n",
       "      <td>This variable contains the date and time of the collection of the observation, administration of a test or collection of a specimen.  This date and time will be provided in ISO 8601 format.</td>\n",
       "    </tr>\n",
       "    <tr>\n",
       "      <th>251</th>\n",
       "      <td>IEDY</td>\n",
       "      <td>number</td>\n",
       "      <td>This variable describes the study day of the observation relative to the date in RFSTDTC.  This will be blank for records with no value in the --DTC variable.</td>\n",
       "    </tr>\n",
       "  </tbody>\n",
       "</table>\n",
       "</div>"
      ],
      "text/plain": [
       "    Variable_Name Variable_Type  \\\n",
       "239       STUDYID     character   \n",
       "240        DOMAIN     character   \n",
       "241       USUBJID     character   \n",
       "242         IESEQ        number   \n",
       "243      IETESTCD     character   \n",
       "244        IETEST     character   \n",
       "245         IECAT     character   \n",
       "246       IEORRES     character   \n",
       "247      IESTRESC     character   \n",
       "248        IESTAT     character   \n",
       "249      IEREASND     character   \n",
       "250         IEDTC     character   \n",
       "251          IEDY        number   \n",
       "\n",
       "                                                                                                                                                                                                                                                                                                                                                                                Variable_Definition  \n",
       "239                                                                                                                                                                                                    This variable contains the unique identifier for a study. This is the main key/identifier for all domains in the IDDO Data Repository  every domain table will have the STUDYID identifier.  \n",
       "240                                                                                                                                                                                                                                                                                                                           This variable contains the two-character abbreviation for the domain.  \n",
       "241                                     This variable contains the unique subject identifier for a study. This is a secondary key/identifier for all subject-level domains in the IDDO Data Repository  every domain table containing subject-level information (i.e., all but the Trial Domains) will have the USUBJID identifier. This variable will identify unique subjects in the repository.  \n",
       "242                                                                     This variable contains a sequence number to ensure uniqueness of subject records within the domain. Each observation (each recorded as a separate row in the domain) will have a unique number within each subject, e.g., a subject with 10 observations will have 10 rows and each row is numbered sequentially from 1-10.  \n",
       "243                                                                                                                                                                                                                                                                                                 This variable identifies the shortened code for the name of the test or examination performed.   \n",
       "244                                                                                                                                                                                                                                                                                                                         This variable identifies the name of the test or examination performed.  \n",
       "245                                                                                                                                                                                                                                                                                                                                     This variable contains a categorization of the observation.  \n",
       "246                                                                                                                                                                                                    This variable contains the result of the test or examination performed as provided by the data contributor. The original data can be either numericm e.g. \"503\" or string, e.g., \"Positive\".  \n",
       "247  This variable contains the converted, standardized result of the test or examination performed. The data can be either numeric, e.g. \"503\", or string, e.g. \"Positive\", and is stored as a string in the repository. The standard units and conversion formulas (as applicable) are described in detail in the IDDO Implementation Guide in the relevant sections about the variable --STRESU.  \n",
       "248                                                                                                This variable contains information about the status of the observation  specifically that it was not completed when it was expected to have been. This column should be empty when there is a value in the --OCCUR (Events and Interventions Domains) or --ORRES (Findings Domains) variables.   \n",
       "249                                                                                                                                                                        This variable contains information about the reason why the observation was not completed when it was expected to have been. This column should be populated when there is a value of \"NOT DONE\" in the --STAT variable.  \n",
       "250                                                                                                                                                                                                   This variable contains the date and time of the collection of the observation, administration of a test or collection of a specimen.  This date and time will be provided in ISO 8601 format.  \n",
       "251                                                                                                                                                                                                                                  This variable describes the study day of the observation relative to the date in RFSTDTC.  This will be blank for records with no value in the --DTC variable.  "
      ]
     },
     "execution_count": 75,
     "metadata": {},
     "output_type": "execute_result"
    }
   ],
   "source": [
    "# See variables for IE\n",
    "pd.set_option(\"display.max_colwidth\", 1000)\n",
    "data_description.loc[data_description.Domain==IE.name, ['Variable_Name', 'Variable_Type', 'Variable_Definition']]"
   ]
  },
  {
   "cell_type": "code",
   "execution_count": 76,
   "id": "6ef4f368-6599-4fde-94b7-b26d8e4e3083",
   "metadata": {},
   "outputs": [
    {
     "data": {
      "text/plain": [
       "Index(['STUDYID', 'DOMAIN', 'USUBJID', 'IESEQ', 'IETESTCD', 'IETEST', 'IECAT',\n",
       "       'IEORRES', 'IESTRESC', 'IESTAT', 'IEREASND', 'IEDY'],\n",
       "      dtype='object')"
      ]
     },
     "execution_count": 76,
     "metadata": {},
     "output_type": "execute_result"
    }
   ],
   "source": [
    "# Columns really in IE\n",
    "IE.columns"
   ]
  },
  {
   "cell_type": "markdown",
   "id": "e998ca10-d1f4-4cf3-a72a-eaa0b68b4d18",
   "metadata": {},
   "source": [
    "**=> To conclud, for IE, we can keep: USUBJID, IESEQ, IETESTCD, IESTRESC:**"
   ]
  },
  {
   "cell_type": "code",
   "execution_count": 77,
   "id": "07fdff1e-cbb6-43c6-831b-ad512372e05c",
   "metadata": {},
   "outputs": [
    {
     "data": {
      "text/plain": [
       "Index(['USUBJID', 'IESEQ', 'IETESTCD', 'IESTRESC'], dtype='object')"
      ]
     },
     "execution_count": 77,
     "metadata": {},
     "output_type": "execute_result"
    }
   ],
   "source": [
    "# Keep only some columns for IE\n",
    "IE = IE[['USUBJID', 'IESEQ', 'IETESTCD', 'IESTRESC']]\n",
    "IE.columns"
   ]
  },
  {
   "cell_type": "code",
   "execution_count": 78,
   "id": "661f816b-96e2-4181-a41c-0fdada246eae",
   "metadata": {},
   "outputs": [
    {
     "data": {
      "text/plain": [
       "(948185, 4)"
      ]
     },
     "execution_count": 78,
     "metadata": {},
     "output_type": "execute_result"
    }
   ],
   "source": [
    "IE.shape"
   ]
  },
  {
   "cell_type": "markdown",
   "id": "2e7d5c3e-8b18-45e3-a124-7226cc076d06",
   "metadata": {},
   "source": [
    "#### For IN:"
   ]
  },
  {
   "cell_type": "markdown",
   "id": "dbd63b7c-544a-42d0-a4d5-7dffa506aa8a",
   "metadata": {},
   "source": [
    "TODO"
   ]
  },
  {
   "cell_type": "markdown",
   "id": "6e6503f2-46a7-46ba-a381-fe6b5348f06e",
   "metadata": {
    "jp-MarkdownHeadingCollapsed": true,
    "tags": []
   },
   "source": [
    "#### For LB:"
   ]
  },
  {
   "cell_type": "code",
   "execution_count": 80,
   "id": "0e7b314b-9875-4744-a967-de9752cadfb5",
   "metadata": {},
   "outputs": [
    {
     "data": {
      "text/html": [
       "<div>\n",
       "<style scoped>\n",
       "    .dataframe tbody tr th:only-of-type {\n",
       "        vertical-align: middle;\n",
       "    }\n",
       "\n",
       "    .dataframe tbody tr th {\n",
       "        vertical-align: top;\n",
       "    }\n",
       "\n",
       "    .dataframe thead th {\n",
       "        text-align: right;\n",
       "    }\n",
       "</style>\n",
       "<table border=\"1\" class=\"dataframe\">\n",
       "  <thead>\n",
       "    <tr style=\"text-align: right;\">\n",
       "      <th></th>\n",
       "      <th>Variable_Name</th>\n",
       "      <th>Variable_Type</th>\n",
       "      <th>Variable_Definition</th>\n",
       "    </tr>\n",
       "  </thead>\n",
       "  <tbody>\n",
       "    <tr>\n",
       "      <th>317</th>\n",
       "      <td>STUDYID</td>\n",
       "      <td>character</td>\n",
       "      <td>This variable contains the unique identifier for a study. This is the main key/identifier for all domains in the IDDO Data Repository  every domain table will have the STUDYID identifier.</td>\n",
       "    </tr>\n",
       "    <tr>\n",
       "      <th>318</th>\n",
       "      <td>DOMAIN</td>\n",
       "      <td>character</td>\n",
       "      <td>This variable contains the two-character abbreviation for the domain.</td>\n",
       "    </tr>\n",
       "    <tr>\n",
       "      <th>319</th>\n",
       "      <td>USUBJID</td>\n",
       "      <td>character</td>\n",
       "      <td>This variable contains the unique subject identifier for a study. This is a secondary key/identifier for all subject-level domains in the IDDO Data Repository  every domain table containing subject-level information (i.e., all but the Trial Domains) will have the USUBJID identifier. This variable will identify unique subjects in the repository.</td>\n",
       "    </tr>\n",
       "    <tr>\n",
       "      <th>320</th>\n",
       "      <td>LBSEQ</td>\n",
       "      <td>number</td>\n",
       "      <td>This variable contains a sequence number to ensure uniqueness of subject records within the domain. Each observation (each recorded as a separate row in the domain) will have a unique number within each subject, e.g., a subject with 10 observations will have 10 rows and each row is numbered sequentially from 1-10.</td>\n",
       "    </tr>\n",
       "    <tr>\n",
       "      <th>321</th>\n",
       "      <td>LBREFID</td>\n",
       "      <td>character</td>\n",
       "      <td>This variable contains an identifier to distinguish duplicate findings, collections or events occurring within the same time period where no other timing information is available. This variable is used to make the rows' timing details unique.</td>\n",
       "    </tr>\n",
       "    <tr>\n",
       "      <th>322</th>\n",
       "      <td>LBTESTCD</td>\n",
       "      <td>character</td>\n",
       "      <td>This variable identifies the shortened code for the name of the test or examination performed. This is defined by CDISC Controlled Terminology.</td>\n",
       "    </tr>\n",
       "    <tr>\n",
       "      <th>323</th>\n",
       "      <td>LBTEST</td>\n",
       "      <td>character</td>\n",
       "      <td>This variable identifies the name of the test or examination performed. This is defined by CDISC Controlled Terminology.</td>\n",
       "    </tr>\n",
       "    <tr>\n",
       "      <th>324</th>\n",
       "      <td>LBCAT</td>\n",
       "      <td>character</td>\n",
       "      <td>This variable contains a categorization of the observation.</td>\n",
       "    </tr>\n",
       "    <tr>\n",
       "      <th>325</th>\n",
       "      <td>LBSCAT</td>\n",
       "      <td>character</td>\n",
       "      <td>This variable contains a further categorization of the observation.</td>\n",
       "    </tr>\n",
       "    <tr>\n",
       "      <th>326</th>\n",
       "      <td>LBORRES</td>\n",
       "      <td>character</td>\n",
       "      <td>This variable contains the result of the test or examination performed as provided by the data contributor. The original data can be either numericm e.g. \"503\" or string, e.g., \"Positive\".</td>\n",
       "    </tr>\n",
       "    <tr>\n",
       "      <th>327</th>\n",
       "      <td>LBORRESU</td>\n",
       "      <td>character</td>\n",
       "      <td>This variable contains the unit for the result of the test or examination performed as provided by the data contributor. This is defined by CDISC Controlled Terminology.</td>\n",
       "    </tr>\n",
       "    <tr>\n",
       "      <th>328</th>\n",
       "      <td>LBORNRLO</td>\n",
       "      <td>number</td>\n",
       "      <td>This variable contains the lower end of the reference range for continuous measurement in original units as provided by the data contributor.</td>\n",
       "    </tr>\n",
       "    <tr>\n",
       "      <th>329</th>\n",
       "      <td>LBORNRHI</td>\n",
       "      <td>number</td>\n",
       "      <td>This variable contains the upper end of the reference range for continuous measurement in original units as provided by the data contributor.</td>\n",
       "    </tr>\n",
       "    <tr>\n",
       "      <th>330</th>\n",
       "      <td>LBSTRESC</td>\n",
       "      <td>character</td>\n",
       "      <td>This variable contains the converted, standardized result of the test or examination performed. The data can be either numeric, e.g. \"503\", or string, e.g. \"Positive\", and is stored as a string in the repository. The standard units and conversion formulas (as applicable) are described in detail in the IDDO Implementation Guide in the relevant sections about the variable --STRESU.</td>\n",
       "    </tr>\n",
       "    <tr>\n",
       "      <th>331</th>\n",
       "      <td>LBSTRESN</td>\n",
       "      <td>number</td>\n",
       "      <td>This variable contains the converted, standardized result of the test or examination performed when the result is numeric. This variable is a direct copy of the numeric values found in --STRESC. String/character-based results, e.g. \"Positive\", do not appear.</td>\n",
       "    </tr>\n",
       "    <tr>\n",
       "      <th>332</th>\n",
       "      <td>LBSTRESU</td>\n",
       "      <td>character</td>\n",
       "      <td>This variable contains the unit for the converted, standardized result of the test or examination performed. The IDDO-Defined Standard Units for each test or examination are described in detail in the IDDO Implementation Guide.</td>\n",
       "    </tr>\n",
       "    <tr>\n",
       "      <th>333</th>\n",
       "      <td>LBSTAT</td>\n",
       "      <td>character</td>\n",
       "      <td>This variable contains information about the status of the observation  specifically that it was not completed when it was expected to have been. This column should be empty when there is a value in the --OCCUR (Events and Interventions Domains) or --ORRES (Findings Domains) variables.</td>\n",
       "    </tr>\n",
       "    <tr>\n",
       "      <th>334</th>\n",
       "      <td>LBREASND</td>\n",
       "      <td>character</td>\n",
       "      <td>This variable contains information about the reason why the observation was not completed when it was expected to have been. This column should be populated when there is a value of \"NOT DONE\" in the --STAT variable.</td>\n",
       "    </tr>\n",
       "    <tr>\n",
       "      <th>335</th>\n",
       "      <td>LBNAM</td>\n",
       "      <td>character</td>\n",
       "      <td>This variable contains the name or identifier of the laboratory that performed the measurement or test.</td>\n",
       "    </tr>\n",
       "    <tr>\n",
       "      <th>336</th>\n",
       "      <td>LBSPEC</td>\n",
       "      <td>character</td>\n",
       "      <td>This variable contains information about the type of specimen used for the laboratory test or examination. This is defined by CDISC Controlled Terminology .</td>\n",
       "    </tr>\n",
       "    <tr>\n",
       "      <th>337</th>\n",
       "      <td>LBSPCCND</td>\n",
       "      <td>character</td>\n",
       "      <td>This variable describes the condition of the specimen used for the test or examination. This is defined by CDISC Controlled Terminology.</td>\n",
       "    </tr>\n",
       "    <tr>\n",
       "      <th>338</th>\n",
       "      <td>LBMETHOD</td>\n",
       "      <td>character</td>\n",
       "      <td>This variable contains information about the method used for the test or examination. This is defined by CDISC Controlled Terminology.</td>\n",
       "    </tr>\n",
       "    <tr>\n",
       "      <th>339</th>\n",
       "      <td>VISITNUM</td>\n",
       "      <td>number</td>\n",
       "      <td>This variable contains a number designating the planned clinical encounter number. This is a numeric version of the visit described in VISIT? and it is used for sorting.</td>\n",
       "    </tr>\n",
       "    <tr>\n",
       "      <th>340</th>\n",
       "      <td>VISIT</td>\n",
       "      <td>character</td>\n",
       "      <td>This variable contains the protocol-defined text description of the planned clinical encounter number (as defined in the Trial Visits (TV) Domain).</td>\n",
       "    </tr>\n",
       "    <tr>\n",
       "      <th>341</th>\n",
       "      <td>VISITDY</td>\n",
       "      <td>number</td>\n",
       "      <td>This variable contains a number designating the Study Day of the planned clinical encounter. This is also a numeric version of the visit described in VISIT? and can be used for sorting.</td>\n",
       "    </tr>\n",
       "    <tr>\n",
       "      <th>342</th>\n",
       "      <td>EPOCH</td>\n",
       "      <td>character</td>\n",
       "      <td>This variable describes the Epoch period of the observation (e.g., Baseline, Treatment, Follow-up).  This is defined by CDISC Controlled Terminology</td>\n",
       "    </tr>\n",
       "    <tr>\n",
       "      <th>343</th>\n",
       "      <td>LBDTC</td>\n",
       "      <td>character</td>\n",
       "      <td>This variable contains the date and time of the collection of the observation, administration of a test or collection of a specimen.  This date and time will be provided in ISO 8601 format.</td>\n",
       "    </tr>\n",
       "    <tr>\n",
       "      <th>344</th>\n",
       "      <td>LBENDTC</td>\n",
       "      <td>character</td>\n",
       "      <td>This variable contains the end date and time of the observation or cessation of event. This date and time will be provided in ISO 8601 format.</td>\n",
       "    </tr>\n",
       "    <tr>\n",
       "      <th>345</th>\n",
       "      <td>LBDY</td>\n",
       "      <td>number</td>\n",
       "      <td>This variable describes the study day of the observation relative to the date in RFSTDTC.  This will be blank for records with no value in the --DTC variable.</td>\n",
       "    </tr>\n",
       "    <tr>\n",
       "      <th>346</th>\n",
       "      <td>LBENDY</td>\n",
       "      <td>number</td>\n",
       "      <td>This variable describes the study day of the end of the observation relative to the date in RFSTDTC.  This will be blank for records with no value in the --ENDTC variable.</td>\n",
       "    </tr>\n",
       "    <tr>\n",
       "      <th>347</th>\n",
       "      <td>LBTPT</td>\n",
       "      <td>character</td>\n",
       "      <td>This variable describes when the observation should have happened as defined in the study protocol. This may be represented as an elapsed time relative to a fixed reference point described in --TPTREF.</td>\n",
       "    </tr>\n",
       "    <tr>\n",
       "      <th>348</th>\n",
       "      <td>LBTPTNUM</td>\n",
       "      <td>number</td>\n",
       "      <td>This variable contains the numeric version of --TPT and it is used for sorting.</td>\n",
       "    </tr>\n",
       "    <tr>\n",
       "      <th>349</th>\n",
       "      <td>LBTPTREF</td>\n",
       "      <td>character</td>\n",
       "      <td>This variable contains the name of the fixed reference point referred to by --TPT, --ELTM, e.g. PREVIOUS DOSE, PREVIOUS MEAL.</td>\n",
       "    </tr>\n",
       "    <tr>\n",
       "      <th>350</th>\n",
       "      <td>LBSTRF</td>\n",
       "      <td>character</td>\n",
       "      <td>This variable describes when the start of the observation happened in relation to the date recorded in RFSTDTC, e.g. BEFORE, DURING or AFTER.</td>\n",
       "    </tr>\n",
       "    <tr>\n",
       "      <th>351</th>\n",
       "      <td>LBEVINTX</td>\n",
       "      <td>character</td>\n",
       "      <td>This variable contains information about the evaluation interval associated with an observation when it cannot be represented in ISO 8601 format (e.g., \"Last few weeks\", \"While hospitalized\").</td>\n",
       "    </tr>\n",
       "    <tr>\n",
       "      <th>352</th>\n",
       "      <td>LBSTRTPT</td>\n",
       "      <td>character</td>\n",
       "      <td>This variable describes when the start of the observation happened in relation to the point described in --STTPT, e.g. BEFORE, DURING or AFTER.</td>\n",
       "    </tr>\n",
       "    <tr>\n",
       "      <th>353</th>\n",
       "      <td>LBSTTPT</td>\n",
       "      <td>character</td>\n",
       "      <td>This variable contains the name of the fixed reference point referred to by --STRTPT, e.g. PREVIOUS DOSE, 2003-12-15.</td>\n",
       "    </tr>\n",
       "    <tr>\n",
       "      <th>354</th>\n",
       "      <td>LBCDSTDY</td>\n",
       "      <td>number</td>\n",
       "      <td>This variable contains the contributor-defined study day expressed in integer days relative to the start of the study. This variable is used when no dates are provided, only a contributor-defined proxy.</td>\n",
       "    </tr>\n",
       "    <tr>\n",
       "      <th>355</th>\n",
       "      <td>LBRPOC</td>\n",
       "      <td>character</td>\n",
       "      <td>This variable describes the reported time period for the occurrence of an event when the actual date/time is not provided. This is provided in ISO 8601 format.</td>\n",
       "    </tr>\n",
       "  </tbody>\n",
       "</table>\n",
       "</div>"
      ],
      "text/plain": [
       "    Variable_Name Variable_Type  \\\n",
       "317       STUDYID     character   \n",
       "318        DOMAIN     character   \n",
       "319       USUBJID     character   \n",
       "320         LBSEQ        number   \n",
       "321       LBREFID     character   \n",
       "322      LBTESTCD     character   \n",
       "323        LBTEST     character   \n",
       "324         LBCAT     character   \n",
       "325        LBSCAT     character   \n",
       "326       LBORRES     character   \n",
       "327      LBORRESU     character   \n",
       "328      LBORNRLO        number   \n",
       "329      LBORNRHI        number   \n",
       "330      LBSTRESC     character   \n",
       "331      LBSTRESN        number   \n",
       "332      LBSTRESU     character   \n",
       "333        LBSTAT     character   \n",
       "334      LBREASND     character   \n",
       "335         LBNAM     character   \n",
       "336        LBSPEC     character   \n",
       "337      LBSPCCND     character   \n",
       "338      LBMETHOD     character   \n",
       "339      VISITNUM        number   \n",
       "340         VISIT     character   \n",
       "341       VISITDY        number   \n",
       "342         EPOCH     character   \n",
       "343         LBDTC     character   \n",
       "344       LBENDTC     character   \n",
       "345          LBDY        number   \n",
       "346        LBENDY        number   \n",
       "347         LBTPT     character   \n",
       "348      LBTPTNUM        number   \n",
       "349      LBTPTREF     character   \n",
       "350        LBSTRF     character   \n",
       "351      LBEVINTX     character   \n",
       "352      LBSTRTPT     character   \n",
       "353       LBSTTPT     character   \n",
       "354      LBCDSTDY        number   \n",
       "355        LBRPOC     character   \n",
       "\n",
       "                                                                                                                                                                                                                                                                                                                                                                                Variable_Definition  \n",
       "317                                                                                                                                                                                                    This variable contains the unique identifier for a study. This is the main key/identifier for all domains in the IDDO Data Repository  every domain table will have the STUDYID identifier.  \n",
       "318                                                                                                                                                                                                                                                                                                                           This variable contains the two-character abbreviation for the domain.  \n",
       "319                                     This variable contains the unique subject identifier for a study. This is a secondary key/identifier for all subject-level domains in the IDDO Data Repository  every domain table containing subject-level information (i.e., all but the Trial Domains) will have the USUBJID identifier. This variable will identify unique subjects in the repository.  \n",
       "320                                                                     This variable contains a sequence number to ensure uniqueness of subject records within the domain. Each observation (each recorded as a separate row in the domain) will have a unique number within each subject, e.g., a subject with 10 observations will have 10 rows and each row is numbered sequentially from 1-10.  \n",
       "321                                                                                                                                              This variable contains an identifier to distinguish duplicate findings, collections or events occurring within the same time period where no other timing information is available. This variable is used to make the rows' timing details unique.  \n",
       "322                                                                                                                                                                                                                                                 This variable identifies the shortened code for the name of the test or examination performed. This is defined by CDISC Controlled Terminology.  \n",
       "323                                                                                                                                                                                                                                                                        This variable identifies the name of the test or examination performed. This is defined by CDISC Controlled Terminology.  \n",
       "324                                                                                                                                                                                                                                                                                                                                     This variable contains a categorization of the observation.  \n",
       "325                                                                                                                                                                                                                                                                                                                             This variable contains a further categorization of the observation.  \n",
       "326                                                                                                                                                                                                    This variable contains the result of the test or examination performed as provided by the data contributor. The original data can be either numericm e.g. \"503\" or string, e.g., \"Positive\".  \n",
       "327                                                                                                                                                                                                                       This variable contains the unit for the result of the test or examination performed as provided by the data contributor. This is defined by CDISC Controlled Terminology.  \n",
       "328                                                                                                                                                                                                                                                  This variable contains the lower end of the reference range for continuous measurement in original units as provided by the data contributor.   \n",
       "329                                                                                                                                                                                                                                                   This variable contains the upper end of the reference range for continuous measurement in original units as provided by the data contributor.  \n",
       "330  This variable contains the converted, standardized result of the test or examination performed. The data can be either numeric, e.g. \"503\", or string, e.g. \"Positive\", and is stored as a string in the repository. The standard units and conversion formulas (as applicable) are described in detail in the IDDO Implementation Guide in the relevant sections about the variable --STRESU.  \n",
       "331                                                                                                                              This variable contains the converted, standardized result of the test or examination performed when the result is numeric. This variable is a direct copy of the numeric values found in --STRESC. String/character-based results, e.g. \"Positive\", do not appear.  \n",
       "332                                                                                                                                                             This variable contains the unit for the converted, standardized result of the test or examination performed. The IDDO-Defined Standard Units for each test or examination are described in detail in the IDDO Implementation Guide.  \n",
       "333                                                                                                This variable contains information about the status of the observation  specifically that it was not completed when it was expected to have been. This column should be empty when there is a value in the --OCCUR (Events and Interventions Domains) or --ORRES (Findings Domains) variables.   \n",
       "334                                                                                                                                                                        This variable contains information about the reason why the observation was not completed when it was expected to have been. This column should be populated when there is a value of \"NOT DONE\" in the --STAT variable.  \n",
       "335                                                                                                                                                                                                                                                                                         This variable contains the name or identifier of the laboratory that performed the measurement or test.  \n",
       "336                                                                                                                                                                                                                                    This variable contains information about the type of specimen used for the laboratory test or examination. This is defined by CDISC Controlled Terminology .  \n",
       "337                                                                                                                                                                                                                                                        This variable describes the condition of the specimen used for the test or examination. This is defined by CDISC Controlled Terminology.  \n",
       "338                                                                                                                                                                                                                                                          This variable contains information about the method used for the test or examination. This is defined by CDISC Controlled Terminology.  \n",
       "339                                                                                                                                                                                                                      This variable contains a number designating the planned clinical encounter number. This is a numeric version of the visit described in VISIT? and it is used for sorting.   \n",
       "340                                                                                                                                                                                                                                             This variable contains the protocol-defined text description of the planned clinical encounter number (as defined in the Trial Visits (TV) Domain).  \n",
       "341                                                                                                                                                                                                       This variable contains a number designating the Study Day of the planned clinical encounter. This is also a numeric version of the visit described in VISIT? and can be used for sorting.  \n",
       "342                                                                                                                                                                                                                                            This variable describes the Epoch period of the observation (e.g., Baseline, Treatment, Follow-up).  This is defined by CDISC Controlled Terminology  \n",
       "343                                                                                                                                                                                                   This variable contains the date and time of the collection of the observation, administration of a test or collection of a specimen.  This date and time will be provided in ISO 8601 format.  \n",
       "344                                                                                                                                                                                                                                                  This variable contains the end date and time of the observation or cessation of event. This date and time will be provided in ISO 8601 format.  \n",
       "345                                                                                                                                                                                                                                  This variable describes the study day of the observation relative to the date in RFSTDTC.  This will be blank for records with no value in the --DTC variable.  \n",
       "346                                                                                                                                                                                                                     This variable describes the study day of the end of the observation relative to the date in RFSTDTC.  This will be blank for records with no value in the --ENDTC variable.  \n",
       "347                                                                                                                                                                                      This variable describes when the observation should have happened as defined in the study protocol. This may be represented as an elapsed time relative to a fixed reference point described in --TPTREF.   \n",
       "348                                                                                                                                                                                                                                                                                                                 This variable contains the numeric version of --TPT and it is used for sorting.  \n",
       "349                                                                                                                                                                                                                                                                   This variable contains the name of the fixed reference point referred to by --TPT, --ELTM, e.g. PREVIOUS DOSE, PREVIOUS MEAL.  \n",
       "350                                                                                                                                                                                                                                                   This variable describes when the start of the observation happened in relation to the date recorded in RFSTDTC, e.g. BEFORE, DURING or AFTER.  \n",
       "351                                                                                                                                                                                                This variable contains information about the evaluation interval associated with an observation when it cannot be represented in ISO 8601 format (e.g., \"Last few weeks\", \"While hospitalized\").  \n",
       "352                                                                                                                                                                                                                                                 This variable describes when the start of the observation happened in relation to the point described in --STTPT, e.g. BEFORE, DURING or AFTER.  \n",
       "353                                                                                                                                                                                                                                                                           This variable contains the name of the fixed reference point referred to by --STRTPT, e.g. PREVIOUS DOSE, 2003-12-15.  \n",
       "354                                                                                                                                                                                     This variable contains the contributor-defined study day expressed in integer days relative to the start of the study. This variable is used when no dates are provided, only a contributor-defined proxy.   \n",
       "355                                                                                                                                                                                                                                 This variable describes the reported time period for the occurrence of an event when the actual date/time is not provided. This is provided in ISO 8601 format.  "
      ]
     },
     "execution_count": 80,
     "metadata": {},
     "output_type": "execute_result"
    }
   ],
   "source": [
    "# See variables for LB\n",
    "pd.set_option(\"display.max_colwidth\", 1000)\n",
    "data_description.loc[data_description.Domain==LB.name, ['Variable_Name', 'Variable_Type', 'Variable_Definition']]"
   ]
  },
  {
   "cell_type": "code",
   "execution_count": 81,
   "id": "4dfee115-b6c0-465f-83f3-326ef8c0a50f",
   "metadata": {},
   "outputs": [
    {
     "data": {
      "text/plain": [
       "Index(['STUDYID', 'DOMAIN', 'USUBJID', 'LBSEQ', 'LBTESTCD', 'LBTEST', 'LBCAT',\n",
       "       'LBSCAT', 'LBORRES', 'LBORRESU', 'LBSTRESC', 'LBSTRESN', 'LBSTRESU',\n",
       "       'LBSTAT', 'LBREASND', 'LBSPEC', 'LBMETHOD', 'VISITNUM', 'VISIT',\n",
       "       'VISITDY', 'LBDY', 'LBSTRF', 'LBEVINTX', 'LBCDSTDY'],\n",
       "      dtype='object')"
      ]
     },
     "execution_count": 81,
     "metadata": {},
     "output_type": "execute_result"
    }
   ],
   "source": [
    "# Columns really in LB\n",
    "LB.columns"
   ]
  },
  {
   "cell_type": "markdown",
   "id": "9c82df1b-b0e4-447a-94d5-f815989bb822",
   "metadata": {},
   "source": [
    "TODO : grouper valeur et unités ??"
   ]
  },
  {
   "cell_type": "markdown",
   "id": "073831b4-0dd3-4b4b-aeb9-99e5abb80563",
   "metadata": {},
   "source": [
    "**=> To conclud, for LB, we can keep: USUBJID, LBSEQ, LBTESTCD, LBORRES, LBORRESU, LBSTRESC, LBSTRESN, LBSTRESU:**"
   ]
  },
  {
   "cell_type": "code",
   "execution_count": 82,
   "id": "bce24fd9-86ae-4074-a23b-fbc18e125841",
   "metadata": {},
   "outputs": [
    {
     "data": {
      "text/plain": [
       "Index(['USUBJID', 'LBSEQ', 'LBTESTCD', 'LBORRES', 'LBORRESU', 'LBSTRESC',\n",
       "       'LBSTRESN', 'LBSTRESU'],\n",
       "      dtype='object')"
      ]
     },
     "execution_count": 82,
     "metadata": {},
     "output_type": "execute_result"
    }
   ],
   "source": [
    "# Keep only some columns for LB\n",
    "LB = LB[['USUBJID', 'LBSEQ', 'LBTESTCD', 'LBORRES', 'LBORRESU', 'LBSTRESC', 'LBSTRESN', 'LBSTRESU']]\n",
    "LB.columns"
   ]
  },
  {
   "cell_type": "code",
   "execution_count": 83,
   "id": "dbb121e9-2719-438c-a52f-2be88b1e93da",
   "metadata": {},
   "outputs": [
    {
     "data": {
      "text/plain": [
       "(7330863, 8)"
      ]
     },
     "execution_count": 83,
     "metadata": {},
     "output_type": "execute_result"
    }
   ],
   "source": [
    "LB.shape"
   ]
  },
  {
   "cell_type": "markdown",
   "id": "483c393e-3d31-4da1-8d9f-510d3b3df7c3",
   "metadata": {
    "jp-MarkdownHeadingCollapsed": true,
    "tags": []
   },
   "source": [
    "#### For MB:"
   ]
  },
  {
   "cell_type": "code",
   "execution_count": 3,
   "id": "9e8bf7d4-3d2f-4891-9215-0ef5886a9b50",
   "metadata": {},
   "outputs": [],
   "source": [
    "data_folder = './data/DATA_2022-09-01/'\n",
    "MB = pd.read_csv(data_folder + 'MB_2022-09-01.csv', sep=',', low_memory=False) \n",
    "MB.name = 'MB'"
   ]
  },
  {
   "cell_type": "code",
   "execution_count": 4,
   "id": "358924e3-a269-4233-9f44-1674d276ef87",
   "metadata": {},
   "outputs": [
    {
     "data": {
      "text/html": [
       "<div>\n",
       "<style scoped>\n",
       "    .dataframe tbody tr th:only-of-type {\n",
       "        vertical-align: middle;\n",
       "    }\n",
       "\n",
       "    .dataframe tbody tr th {\n",
       "        vertical-align: top;\n",
       "    }\n",
       "\n",
       "    .dataframe thead th {\n",
       "        text-align: right;\n",
       "    }\n",
       "</style>\n",
       "<table border=\"1\" class=\"dataframe\">\n",
       "  <thead>\n",
       "    <tr style=\"text-align: right;\">\n",
       "      <th></th>\n",
       "      <th>Variable_Name</th>\n",
       "      <th>Variable_Type</th>\n",
       "      <th>Variable_Definition</th>\n",
       "    </tr>\n",
       "  </thead>\n",
       "  <tbody>\n",
       "    <tr>\n",
       "      <th>356</th>\n",
       "      <td>STUDYID</td>\n",
       "      <td>character</td>\n",
       "      <td>This variable contains the unique identifier for a study. This is the main key/identifier for all domains in the IDDO Data Repository  every domain table will have the STUDYID identifier.</td>\n",
       "    </tr>\n",
       "    <tr>\n",
       "      <th>357</th>\n",
       "      <td>DOMAIN</td>\n",
       "      <td>character</td>\n",
       "      <td>This variable contains the two-character abbreviation for the domain.</td>\n",
       "    </tr>\n",
       "    <tr>\n",
       "      <th>358</th>\n",
       "      <td>USUBJID</td>\n",
       "      <td>character</td>\n",
       "      <td>This variable contains the unique subject identifier for a study. This is a secondary key/identifier for all subject-level domains in the IDDO Data Repository  every domain table containing subject-level information (i.e., all but the Trial Domains) will have the USUBJID identifier. This variable will identify unique subjects in the repository.</td>\n",
       "    </tr>\n",
       "    <tr>\n",
       "      <th>359</th>\n",
       "      <td>MBSEQ</td>\n",
       "      <td>number</td>\n",
       "      <td>This variable contains a sequence number to ensure uniqueness of subject records within the domain. Each observation (each recorded as a separate row in the domain) will have a unique number within each subject, e.g., a subject with 10 observations will have 10 rows and each row is numbered sequentially from 1-10.</td>\n",
       "    </tr>\n",
       "    <tr>\n",
       "      <th>360</th>\n",
       "      <td>MBGRPID</td>\n",
       "      <td>character</td>\n",
       "      <td>This variable contains an identifier used to link together a block of related records and distinguish duplicate findings or events that occur within the same time period where no other timing information is available. This variable is used to make the rows' timing details unique.</td>\n",
       "    </tr>\n",
       "    <tr>\n",
       "      <th>361</th>\n",
       "      <td>MBREFID</td>\n",
       "      <td>character</td>\n",
       "      <td>This variable contains an identifier to distinguish duplicate findings, collections or events occurring within the same time period where no other timing information is available. This variable is used to make the rows' timing details unique.</td>\n",
       "    </tr>\n",
       "    <tr>\n",
       "      <th>362</th>\n",
       "      <td>MBTESTCD</td>\n",
       "      <td>character</td>\n",
       "      <td>This variable identifies the shortened code for the name of the test or examination performed. This is defined by CDISC Controlled Terminology.</td>\n",
       "    </tr>\n",
       "    <tr>\n",
       "      <th>363</th>\n",
       "      <td>MBTEST</td>\n",
       "      <td>character</td>\n",
       "      <td>This variable identifies the name of the test or examination performed. This is defined by CDISC Controlled Terminology.</td>\n",
       "    </tr>\n",
       "    <tr>\n",
       "      <th>364</th>\n",
       "      <td>MBMODIFY</td>\n",
       "      <td>character</td>\n",
       "      <td>This variable contains a modification of the result as provided by the data contributor. This is used for the capture of the non-standard grade scale corresponding to the result contained in --ORRES.</td>\n",
       "    </tr>\n",
       "    <tr>\n",
       "      <th>365</th>\n",
       "      <td>MBTSTDTL</td>\n",
       "      <td>character</td>\n",
       "      <td>This variable describes the test type.</td>\n",
       "    </tr>\n",
       "    <tr>\n",
       "      <th>366</th>\n",
       "      <td>MBCAT</td>\n",
       "      <td>character</td>\n",
       "      <td>This variable contains a categorization of the observation.</td>\n",
       "    </tr>\n",
       "    <tr>\n",
       "      <th>367</th>\n",
       "      <td>MBSCAT</td>\n",
       "      <td>character</td>\n",
       "      <td>This variable contains a further categorization of the observation.</td>\n",
       "    </tr>\n",
       "    <tr>\n",
       "      <th>368</th>\n",
       "      <td>MBORRES</td>\n",
       "      <td>character</td>\n",
       "      <td>This variable contains the result of the test or examination performed as provided by the data contributor. The original data can be either numericm e.g. \"503\" or string, e.g., \"Positive\".</td>\n",
       "    </tr>\n",
       "    <tr>\n",
       "      <th>369</th>\n",
       "      <td>MBORRESU</td>\n",
       "      <td>character</td>\n",
       "      <td>This variable contains the unit for the result of the test or examination performed as provided by the data contributor. This is defined by CDISC Controlled Terminology.</td>\n",
       "    </tr>\n",
       "    <tr>\n",
       "      <th>370</th>\n",
       "      <td>MBSTRESC</td>\n",
       "      <td>character</td>\n",
       "      <td>This variable contains the converted, standardized result of the test or examination performed. The data can be either numeric, e.g. \"503\", or string, e.g. \"Positive\", and is stored as a string in the repository. The standard units and conversion formulas (as applicable) are described in detail in the IDDO Implementation Guide in the relevant sections about the variable --STRESU.</td>\n",
       "    </tr>\n",
       "    <tr>\n",
       "      <th>371</th>\n",
       "      <td>MBSTRESN</td>\n",
       "      <td>number</td>\n",
       "      <td>This variable contains the converted, standardized result of the test or examination performed when the result is numeric. This variable is a direct copy of the numeric values found in --STRESC. String/character-based results, e.g. \"Positive\", do not appear.</td>\n",
       "    </tr>\n",
       "    <tr>\n",
       "      <th>372</th>\n",
       "      <td>MBSTRESU</td>\n",
       "      <td>character</td>\n",
       "      <td>This variable contains the unit for the converted, standardized result of the test or examination performed. The IDDO-Defined Standard Units for each test or examination are described in detail in the IDDO Implementation Guide.</td>\n",
       "    </tr>\n",
       "    <tr>\n",
       "      <th>373</th>\n",
       "      <td>MBSTAT</td>\n",
       "      <td>character</td>\n",
       "      <td>This variable contains information about the status of the observation  specifically that it was not completed when it was expected to have been. This column should be empty when there is a value in the --OCCUR (Events and Interventions Domains) or --ORRES (Findings Domains) variables.</td>\n",
       "    </tr>\n",
       "    <tr>\n",
       "      <th>374</th>\n",
       "      <td>MBREASND</td>\n",
       "      <td>character</td>\n",
       "      <td>This variable contains information about the reason why the observation was not completed when it was expected to have been. This column should be populated when there is a value of \"NOT DONE\" in the --STAT variable.</td>\n",
       "    </tr>\n",
       "    <tr>\n",
       "      <th>375</th>\n",
       "      <td>MBSPEC</td>\n",
       "      <td>character</td>\n",
       "      <td>This variable contains information about the type of specimen used for the laboratory test or examination. This is defined by CDISC Controlled Terminology .</td>\n",
       "    </tr>\n",
       "    <tr>\n",
       "      <th>376</th>\n",
       "      <td>MBSPCCND</td>\n",
       "      <td>character</td>\n",
       "      <td>This variable describes the condition of the specimen used for the test or examination. This is defined by CDISC Controlled Terminology.</td>\n",
       "    </tr>\n",
       "    <tr>\n",
       "      <th>377</th>\n",
       "      <td>MBLOC</td>\n",
       "      <td>character</td>\n",
       "      <td>This variable contains information about the location of the test or examination. This is defined by CDISC Controlled Terminology.</td>\n",
       "    </tr>\n",
       "    <tr>\n",
       "      <th>378</th>\n",
       "      <td>MBMETHOD</td>\n",
       "      <td>character</td>\n",
       "      <td>This variable contains information about the method used for the test or examination. This is defined by CDISC Controlled Terminology.</td>\n",
       "    </tr>\n",
       "    <tr>\n",
       "      <th>379</th>\n",
       "      <td>VISITNUM</td>\n",
       "      <td>number</td>\n",
       "      <td>This variable contains a number designating the planned clinical encounter number. This is a numeric version of the visit described in VISIT? and it is used for sorting.</td>\n",
       "    </tr>\n",
       "    <tr>\n",
       "      <th>380</th>\n",
       "      <td>VISIT</td>\n",
       "      <td>character</td>\n",
       "      <td>This variable contains the protocol-defined text description of the planned clinical encounter number (as defined in the Trial Visits (TV) Domain).</td>\n",
       "    </tr>\n",
       "    <tr>\n",
       "      <th>381</th>\n",
       "      <td>VISITDY</td>\n",
       "      <td>number</td>\n",
       "      <td>This variable contains a number designating the Study Day of the planned clinical encounter. This is also a numeric version of the visit described in VISIT? and can be used for sorting.</td>\n",
       "    </tr>\n",
       "    <tr>\n",
       "      <th>382</th>\n",
       "      <td>EPOCH</td>\n",
       "      <td>character</td>\n",
       "      <td>This variable describes the Epoch period of the observation (e.g., Baseline, Treatment, Follow-up).  This is defined by CDISC Controlled Terminology</td>\n",
       "    </tr>\n",
       "    <tr>\n",
       "      <th>383</th>\n",
       "      <td>MBDTC</td>\n",
       "      <td>character</td>\n",
       "      <td>This variable contains the date and time of the collection of the observation, administration of a test or collection of a specimen.  This date and time will be provided in ISO 8601 format.</td>\n",
       "    </tr>\n",
       "    <tr>\n",
       "      <th>384</th>\n",
       "      <td>MBDY</td>\n",
       "      <td>number</td>\n",
       "      <td>This variable describes the study day of the observation relative to the date in RFSTDTC.  This will be blank for records with no value in the --DTC variable.</td>\n",
       "    </tr>\n",
       "    <tr>\n",
       "      <th>385</th>\n",
       "      <td>MBTPT</td>\n",
       "      <td>character</td>\n",
       "      <td>This variable describes when the observation should have happened as defined in the study protocol. This may be represented as an elapsed time relative to a fixed reference point described in --TPTREF.</td>\n",
       "    </tr>\n",
       "    <tr>\n",
       "      <th>386</th>\n",
       "      <td>MBTPTNUM</td>\n",
       "      <td>number</td>\n",
       "      <td>This variable contains the numeric version of --TPT and it is used for sorting.</td>\n",
       "    </tr>\n",
       "    <tr>\n",
       "      <th>387</th>\n",
       "      <td>MBTPTREF</td>\n",
       "      <td>character</td>\n",
       "      <td>This variable contains the name of the fixed reference point referred to by --TPT, --ELTM, e.g. PREVIOUS DOSE, PREVIOUS MEAL.</td>\n",
       "    </tr>\n",
       "    <tr>\n",
       "      <th>388</th>\n",
       "      <td>MBELTM</td>\n",
       "      <td>character</td>\n",
       "      <td>This variable contains the planned elapsed time relative to the fixed reference point --TPTREF. This duration will be provided in ISO 8601 format.</td>\n",
       "    </tr>\n",
       "    <tr>\n",
       "      <th>389</th>\n",
       "      <td>MBSTRF</td>\n",
       "      <td>character</td>\n",
       "      <td>This variable describes when the start of the observation happened in relation to the date recorded in RFSTDTC, e.g. BEFORE, DURING or AFTER.</td>\n",
       "    </tr>\n",
       "    <tr>\n",
       "      <th>390</th>\n",
       "      <td>MBEVINTX</td>\n",
       "      <td>character</td>\n",
       "      <td>This variable contains information about the evaluation interval associated with an observation when it cannot be represented in ISO 8601 format (e.g., \"Last few weeks\", \"While hospitalized\").</td>\n",
       "    </tr>\n",
       "    <tr>\n",
       "      <th>391</th>\n",
       "      <td>MBSTRTPT</td>\n",
       "      <td>character</td>\n",
       "      <td>This variable describes when the start of the observation happened in relation to the point described in --STTPT, e.g. BEFORE, DURING or AFTER.</td>\n",
       "    </tr>\n",
       "    <tr>\n",
       "      <th>392</th>\n",
       "      <td>MBSTTPT</td>\n",
       "      <td>character</td>\n",
       "      <td>This variable contains the name of the fixed reference point referred to by --STRTPT, e.g. PREVIOUS DOSE, 2003-12-15.</td>\n",
       "    </tr>\n",
       "    <tr>\n",
       "      <th>393</th>\n",
       "      <td>MBCDSTDY</td>\n",
       "      <td>number</td>\n",
       "      <td>This variable contains the contributor-defined study day expressed in integer days relative to the start of the study. This variable is used when no dates are provided, only a contributor-defined proxy.</td>\n",
       "    </tr>\n",
       "    <tr>\n",
       "      <th>394</th>\n",
       "      <td>MBRPOC</td>\n",
       "      <td>character</td>\n",
       "      <td>This variable describes the reported time period for the occurrence of an event when the actual date/time is not provided. This is provided in ISO 8601 format.</td>\n",
       "    </tr>\n",
       "  </tbody>\n",
       "</table>\n",
       "</div>"
      ],
      "text/plain": [
       "    Variable_Name Variable_Type  \\\n",
       "356       STUDYID     character   \n",
       "357        DOMAIN     character   \n",
       "358       USUBJID     character   \n",
       "359         MBSEQ        number   \n",
       "360       MBGRPID     character   \n",
       "361       MBREFID     character   \n",
       "362      MBTESTCD     character   \n",
       "363        MBTEST     character   \n",
       "364      MBMODIFY     character   \n",
       "365      MBTSTDTL     character   \n",
       "366         MBCAT     character   \n",
       "367        MBSCAT     character   \n",
       "368       MBORRES     character   \n",
       "369      MBORRESU     character   \n",
       "370      MBSTRESC     character   \n",
       "371      MBSTRESN        number   \n",
       "372      MBSTRESU     character   \n",
       "373        MBSTAT     character   \n",
       "374      MBREASND     character   \n",
       "375        MBSPEC     character   \n",
       "376      MBSPCCND     character   \n",
       "377         MBLOC     character   \n",
       "378      MBMETHOD     character   \n",
       "379      VISITNUM        number   \n",
       "380         VISIT     character   \n",
       "381       VISITDY        number   \n",
       "382         EPOCH     character   \n",
       "383         MBDTC     character   \n",
       "384          MBDY        number   \n",
       "385         MBTPT     character   \n",
       "386      MBTPTNUM        number   \n",
       "387      MBTPTREF     character   \n",
       "388        MBELTM     character   \n",
       "389        MBSTRF     character   \n",
       "390      MBEVINTX     character   \n",
       "391      MBSTRTPT     character   \n",
       "392       MBSTTPT     character   \n",
       "393      MBCDSTDY        number   \n",
       "394        MBRPOC     character   \n",
       "\n",
       "                                                                                                                                                                                                                                                                                                                                                                                Variable_Definition  \n",
       "356                                                                                                                                                                                                    This variable contains the unique identifier for a study. This is the main key/identifier for all domains in the IDDO Data Repository  every domain table will have the STUDYID identifier.  \n",
       "357                                                                                                                                                                                                                                                                                                                           This variable contains the two-character abbreviation for the domain.  \n",
       "358                                     This variable contains the unique subject identifier for a study. This is a secondary key/identifier for all subject-level domains in the IDDO Data Repository  every domain table containing subject-level information (i.e., all but the Trial Domains) will have the USUBJID identifier. This variable will identify unique subjects in the repository.  \n",
       "359                                                                     This variable contains a sequence number to ensure uniqueness of subject records within the domain. Each observation (each recorded as a separate row in the domain) will have a unique number within each subject, e.g., a subject with 10 observations will have 10 rows and each row is numbered sequentially from 1-10.  \n",
       "360                                                                                                        This variable contains an identifier used to link together a block of related records and distinguish duplicate findings or events that occur within the same time period where no other timing information is available. This variable is used to make the rows' timing details unique.  \n",
       "361                                                                                                                                              This variable contains an identifier to distinguish duplicate findings, collections or events occurring within the same time period where no other timing information is available. This variable is used to make the rows' timing details unique.  \n",
       "362                                                                                                                                                                                                                                                 This variable identifies the shortened code for the name of the test or examination performed. This is defined by CDISC Controlled Terminology.  \n",
       "363                                                                                                                                                                                                                                                                        This variable identifies the name of the test or examination performed. This is defined by CDISC Controlled Terminology.  \n",
       "364                                                                                                                                                                                         This variable contains a modification of the result as provided by the data contributor. This is used for the capture of the non-standard grade scale corresponding to the result contained in --ORRES.  \n",
       "365                                                                                                                                                                                                                                                                                                                                                          This variable describes the test type.  \n",
       "366                                                                                                                                                                                                                                                                                                                                     This variable contains a categorization of the observation.  \n",
       "367                                                                                                                                                                                                                                                                                                                             This variable contains a further categorization of the observation.  \n",
       "368                                                                                                                                                                                                    This variable contains the result of the test or examination performed as provided by the data contributor. The original data can be either numericm e.g. \"503\" or string, e.g., \"Positive\".  \n",
       "369                                                                                                                                                                                                                       This variable contains the unit for the result of the test or examination performed as provided by the data contributor. This is defined by CDISC Controlled Terminology.  \n",
       "370  This variable contains the converted, standardized result of the test or examination performed. The data can be either numeric, e.g. \"503\", or string, e.g. \"Positive\", and is stored as a string in the repository. The standard units and conversion formulas (as applicable) are described in detail in the IDDO Implementation Guide in the relevant sections about the variable --STRESU.  \n",
       "371                                                                                                                              This variable contains the converted, standardized result of the test or examination performed when the result is numeric. This variable is a direct copy of the numeric values found in --STRESC. String/character-based results, e.g. \"Positive\", do not appear.  \n",
       "372                                                                                                                                                             This variable contains the unit for the converted, standardized result of the test or examination performed. The IDDO-Defined Standard Units for each test or examination are described in detail in the IDDO Implementation Guide.  \n",
       "373                                                                                                This variable contains information about the status of the observation  specifically that it was not completed when it was expected to have been. This column should be empty when there is a value in the --OCCUR (Events and Interventions Domains) or --ORRES (Findings Domains) variables.   \n",
       "374                                                                                                                                                                        This variable contains information about the reason why the observation was not completed when it was expected to have been. This column should be populated when there is a value of \"NOT DONE\" in the --STAT variable.  \n",
       "375                                                                                                                                                                                                                                    This variable contains information about the type of specimen used for the laboratory test or examination. This is defined by CDISC Controlled Terminology .  \n",
       "376                                                                                                                                                                                                                                                        This variable describes the condition of the specimen used for the test or examination. This is defined by CDISC Controlled Terminology.  \n",
       "377                                                                                                                                                                                                                                                              This variable contains information about the location of the test or examination. This is defined by CDISC Controlled Terminology.  \n",
       "378                                                                                                                                                                                                                                                          This variable contains information about the method used for the test or examination. This is defined by CDISC Controlled Terminology.  \n",
       "379                                                                                                                                                                                                                      This variable contains a number designating the planned clinical encounter number. This is a numeric version of the visit described in VISIT? and it is used for sorting.   \n",
       "380                                                                                                                                                                                                                                             This variable contains the protocol-defined text description of the planned clinical encounter number (as defined in the Trial Visits (TV) Domain).  \n",
       "381                                                                                                                                                                                                       This variable contains a number designating the Study Day of the planned clinical encounter. This is also a numeric version of the visit described in VISIT? and can be used for sorting.  \n",
       "382                                                                                                                                                                                                                                            This variable describes the Epoch period of the observation (e.g., Baseline, Treatment, Follow-up).  This is defined by CDISC Controlled Terminology  \n",
       "383                                                                                                                                                                                                   This variable contains the date and time of the collection of the observation, administration of a test or collection of a specimen.  This date and time will be provided in ISO 8601 format.  \n",
       "384                                                                                                                                                                                                                                  This variable describes the study day of the observation relative to the date in RFSTDTC.  This will be blank for records with no value in the --DTC variable.  \n",
       "385                                                                                                                                                                                      This variable describes when the observation should have happened as defined in the study protocol. This may be represented as an elapsed time relative to a fixed reference point described in --TPTREF.   \n",
       "386                                                                                                                                                                                                                                                                                                                 This variable contains the numeric version of --TPT and it is used for sorting.  \n",
       "387                                                                                                                                                                                                                                                                   This variable contains the name of the fixed reference point referred to by --TPT, --ELTM, e.g. PREVIOUS DOSE, PREVIOUS MEAL.  \n",
       "388                                                                                                                                                                                                                                              This variable contains the planned elapsed time relative to the fixed reference point --TPTREF. This duration will be provided in ISO 8601 format.  \n",
       "389                                                                                                                                                                                                                                                   This variable describes when the start of the observation happened in relation to the date recorded in RFSTDTC, e.g. BEFORE, DURING or AFTER.  \n",
       "390                                                                                                                                                                                                This variable contains information about the evaluation interval associated with an observation when it cannot be represented in ISO 8601 format (e.g., \"Last few weeks\", \"While hospitalized\").  \n",
       "391                                                                                                                                                                                                                                                 This variable describes when the start of the observation happened in relation to the point described in --STTPT, e.g. BEFORE, DURING or AFTER.  \n",
       "392                                                                                                                                                                                                                                                                           This variable contains the name of the fixed reference point referred to by --STRTPT, e.g. PREVIOUS DOSE, 2003-12-15.  \n",
       "393                                                                                                                                                                                     This variable contains the contributor-defined study day expressed in integer days relative to the start of the study. This variable is used when no dates are provided, only a contributor-defined proxy.   \n",
       "394                                                                                                                                                                                                                                 This variable describes the reported time period for the occurrence of an event when the actual date/time is not provided. This is provided in ISO 8601 format.  "
      ]
     },
     "execution_count": 4,
     "metadata": {},
     "output_type": "execute_result"
    }
   ],
   "source": [
    "# See variables for MB\n",
    "pd.set_option(\"display.max_colwidth\", 1000)\n",
    "data_description.loc[data_description.Domain==MB.name, ['Variable_Name', 'Variable_Type', 'Variable_Definition']]"
   ]
  },
  {
   "cell_type": "code",
   "execution_count": 5,
   "id": "9162e133-932d-4612-9e3e-2639b553d344",
   "metadata": {},
   "outputs": [
    {
     "data": {
      "text/plain": [
       "Index(['STUDYID', 'DOMAIN', 'USUBJID', 'ERSEQ', 'ERTERM', 'ERCAT', 'ERPRESP',\n",
       "       'EROCCUR', 'ERSTAT', 'ERREASND', 'VISITNUM', 'VISIT', 'VISITDY', 'ERDY',\n",
       "       'ERSTDY', 'ERENDY', 'EREVINTX', 'ERCNTRY'],\n",
       "      dtype='object')"
      ]
     },
     "execution_count": 5,
     "metadata": {},
     "output_type": "execute_result"
    }
   ],
   "source": [
    "# Columns really in MB\n",
    "MB.columns"
   ]
  },
  {
   "cell_type": "markdown",
   "id": "1c1dad74-10a1-4983-84b7-b1ded249a6e1",
   "metadata": {},
   "source": [
    "We have the wrong file for MB -> it is the ER file with the MB name!"
   ]
  },
  {
   "cell_type": "markdown",
   "id": "81b91289-c20e-40f6-afd5-fbf5ae9e7090",
   "metadata": {},
   "source": [
    "**=> To conclud, for MB, we can keep nothing because it is the wrong file.**"
   ]
  },
  {
   "cell_type": "markdown",
   "id": "6d21e86f-e6b3-405a-a47f-a1eb7022a0da",
   "metadata": {
    "jp-MarkdownHeadingCollapsed": true,
    "tags": []
   },
   "source": [
    "#### For PO:"
   ]
  },
  {
   "cell_type": "code",
   "execution_count": 6,
   "id": "1a746407-f43b-4b20-bd59-ed6cef71e17d",
   "metadata": {},
   "outputs": [],
   "source": [
    "data_folder = './data/DATA_2022-09-01/'\n",
    "PO = pd.read_csv(data_folder + 'PO_2022-09-01.csv', sep=',', low_memory=False) \n",
    "PO.name = 'PO'"
   ]
  },
  {
   "cell_type": "code",
   "execution_count": 7,
   "id": "bde2913e-b64b-441e-bc54-d69633cdbc4b",
   "metadata": {},
   "outputs": [
    {
     "data": {
      "text/html": [
       "<div>\n",
       "<style scoped>\n",
       "    .dataframe tbody tr th:only-of-type {\n",
       "        vertical-align: middle;\n",
       "    }\n",
       "\n",
       "    .dataframe tbody tr th {\n",
       "        vertical-align: top;\n",
       "    }\n",
       "\n",
       "    .dataframe thead th {\n",
       "        text-align: right;\n",
       "    }\n",
       "</style>\n",
       "<table border=\"1\" class=\"dataframe\">\n",
       "  <thead>\n",
       "    <tr style=\"text-align: right;\">\n",
       "      <th></th>\n",
       "      <th>Variable_Name</th>\n",
       "      <th>Variable_Type</th>\n",
       "      <th>Variable_Definition</th>\n",
       "    </tr>\n",
       "  </thead>\n",
       "  <tbody>\n",
       "    <tr>\n",
       "      <th>519</th>\n",
       "      <td>STUDYID</td>\n",
       "      <td>character</td>\n",
       "      <td>This variable contains the unique identifier for a study. This is the main key/identifier for all domains in the IDDO Data Repository  every domain table will have the STUDYID identifier.</td>\n",
       "    </tr>\n",
       "    <tr>\n",
       "      <th>520</th>\n",
       "      <td>DOMAIN</td>\n",
       "      <td>character</td>\n",
       "      <td>This variable contains the two-character abbreviation for the domain.</td>\n",
       "    </tr>\n",
       "    <tr>\n",
       "      <th>521</th>\n",
       "      <td>USUBJID</td>\n",
       "      <td>character</td>\n",
       "      <td>This variable contains the unique subject identifier for a study. This is a secondary key/identifier for all subject-level domains in the IDDO Data Repository  every domain table containing subject-level information (i.e., all but the Trial Domains) will have the USUBJID identifier. This variable will identify unique subjects in the repository.</td>\n",
       "    </tr>\n",
       "    <tr>\n",
       "      <th>522</th>\n",
       "      <td>POSEQ</td>\n",
       "      <td>number</td>\n",
       "      <td>This variable contains a sequence number to ensure uniqueness of subject records within the domain. Each observation (each recorded as a separate row in the domain) will have a unique number within each subject, e.g., a subject with 10 observations will have 10 rows and each row is numbered sequentially from 1-10.</td>\n",
       "    </tr>\n",
       "    <tr>\n",
       "      <th>523</th>\n",
       "      <td>POTERM</td>\n",
       "      <td>character</td>\n",
       "      <td>This variable contains the verbatim wording of the event as provided by the Data Contributor.</td>\n",
       "    </tr>\n",
       "    <tr>\n",
       "      <th>524</th>\n",
       "      <td>POMODIFY</td>\n",
       "      <td>character</td>\n",
       "      <td>This variable contains a modification of the verbatim wording of the event. This is used to capture IDDO-defined standardised terms of the event.</td>\n",
       "    </tr>\n",
       "    <tr>\n",
       "      <th>525</th>\n",
       "      <td>POCAT</td>\n",
       "      <td>character</td>\n",
       "      <td>This variable contains a categorization of the observation.</td>\n",
       "    </tr>\n",
       "    <tr>\n",
       "      <th>526</th>\n",
       "      <td>POPRESP</td>\n",
       "      <td>character</td>\n",
       "      <td>This variable identifies whether an observation was pre-specified on the CRF. Values are null for spontaneously reported events, i.e. those collected as free-text verbatim terms.</td>\n",
       "    </tr>\n",
       "    <tr>\n",
       "      <th>527</th>\n",
       "      <td>POOCCUR</td>\n",
       "      <td>character</td>\n",
       "      <td>This variable identifies whether or not a pre-specified event has occurred. Values are null for spontaneously reported events.</td>\n",
       "    </tr>\n",
       "    <tr>\n",
       "      <th>528</th>\n",
       "      <td>POSTAT</td>\n",
       "      <td>character</td>\n",
       "      <td>This variable contains information about the status of the observation  specifically that it was not completed when it was expected to have been. This column should be empty when there is a value in the --OCCUR (Events and Interventions Domains) or --ORRES (Findings Domains) variables.</td>\n",
       "    </tr>\n",
       "    <tr>\n",
       "      <th>529</th>\n",
       "      <td>POREASND</td>\n",
       "      <td>character</td>\n",
       "      <td>This variable contains information about the reason why the observation was not completed when it was expected to have been. This column should be populated when there is a value of \"NOT DONE\" in the --STAT variable.</td>\n",
       "    </tr>\n",
       "    <tr>\n",
       "      <th>530</th>\n",
       "      <td>VISITNUM</td>\n",
       "      <td>number</td>\n",
       "      <td>This variable contains a number designating the planned clinical encounter number. This is a numeric version of the visit described in VISIT? and it is used for sorting.</td>\n",
       "    </tr>\n",
       "    <tr>\n",
       "      <th>531</th>\n",
       "      <td>VISIT</td>\n",
       "      <td>character</td>\n",
       "      <td>This variable contains the protocol-defined text description of the planned clinical encounter number (as defined in the Trial Visits (TV) Domain).</td>\n",
       "    </tr>\n",
       "    <tr>\n",
       "      <th>532</th>\n",
       "      <td>VISITDY</td>\n",
       "      <td>number</td>\n",
       "      <td>This variable contains a number designating the Study Day of the planned clinical encounter. This is also a numeric version of the visit described in VISIT? and can be used for sorting.</td>\n",
       "    </tr>\n",
       "    <tr>\n",
       "      <th>533</th>\n",
       "      <td>EPOCH</td>\n",
       "      <td>character</td>\n",
       "      <td>This variable describes the Epoch period of the observation (e.g., Baseline, Treatment, Follow-up).  This is defined by CDISC Controlled Terminology</td>\n",
       "    </tr>\n",
       "    <tr>\n",
       "      <th>534</th>\n",
       "      <td>PODTC</td>\n",
       "      <td>character</td>\n",
       "      <td>This variable contains the date and time of the collection of the observation, administration of a test or collection of a specimen.  This date and time will be provided in ISO 8601 format.</td>\n",
       "    </tr>\n",
       "    <tr>\n",
       "      <th>535</th>\n",
       "      <td>POSTDTC</td>\n",
       "      <td>character</td>\n",
       "      <td>This variable contains the start date and time of the observation or initiation of the event (as opposed to the date the question about the observation/event was asked). This date and time will be provided in ISO 8601 format.</td>\n",
       "    </tr>\n",
       "    <tr>\n",
       "      <th>536</th>\n",
       "      <td>POENDTC</td>\n",
       "      <td>character</td>\n",
       "      <td>This variable contains the end date and time of the observation or cessation of event. This date and time will be provided in ISO 8601 format.</td>\n",
       "    </tr>\n",
       "    <tr>\n",
       "      <th>537</th>\n",
       "      <td>PODY</td>\n",
       "      <td>number</td>\n",
       "      <td>This variable describes the study day of the observation relative to the date in RFSTDTC.  This will be blank for records with no value in the --DTC variable.</td>\n",
       "    </tr>\n",
       "    <tr>\n",
       "      <th>538</th>\n",
       "      <td>POSTDY</td>\n",
       "      <td>number</td>\n",
       "      <td>This variable describes the study day of the start of the observation relative to the date in RFSTDTC.  This will be blank for records with no value in the --STDTC variable.</td>\n",
       "    </tr>\n",
       "    <tr>\n",
       "      <th>539</th>\n",
       "      <td>POENDY</td>\n",
       "      <td>number</td>\n",
       "      <td>This variable describes the study day of the end of the observation relative to the date in RFSTDTC.  This will be blank for records with no value in the --ENDTC variable.</td>\n",
       "    </tr>\n",
       "    <tr>\n",
       "      <th>540</th>\n",
       "      <td>POSTRF</td>\n",
       "      <td>character</td>\n",
       "      <td>This variable describes when the start of the observation happened in relation to the date recorded in RFSTDTC, e.g. BEFORE, DURING or AFTER.</td>\n",
       "    </tr>\n",
       "    <tr>\n",
       "      <th>541</th>\n",
       "      <td>POENRF</td>\n",
       "      <td>character</td>\n",
       "      <td>This variable describes when the end of the observation happened in relation to the date recorded in RFSTDTC, e.g. BEFORE, DURING or AFTER.</td>\n",
       "    </tr>\n",
       "    <tr>\n",
       "      <th>542</th>\n",
       "      <td>POFETNUM</td>\n",
       "      <td>number</td>\n",
       "      <td>This variable identifies how many foetuses/infants were involved in the pregnancy.</td>\n",
       "    </tr>\n",
       "    <tr>\n",
       "      <th>543</th>\n",
       "      <td>POFTINID</td>\n",
       "      <td>number</td>\n",
       "      <td>This variable identifies which foetus/infant from a pregnancy other than a singleton, the event in POTERM is referring to.</td>\n",
       "    </tr>\n",
       "    <tr>\n",
       "      <th>544</th>\n",
       "      <td>POMODDLV</td>\n",
       "      <td>character</td>\n",
       "      <td>This variable describes the mode of delivery of the infant(s).</td>\n",
       "    </tr>\n",
       "    <tr>\n",
       "      <th>545</th>\n",
       "      <td>POSETTNG</td>\n",
       "      <td>character</td>\n",
       "      <td>This variable describes the setting for the event where POCAT is \"PREGNANCY OUTCOME\".</td>\n",
       "    </tr>\n",
       "  </tbody>\n",
       "</table>\n",
       "</div>"
      ],
      "text/plain": [
       "    Variable_Name Variable_Type  \\\n",
       "519       STUDYID     character   \n",
       "520        DOMAIN     character   \n",
       "521       USUBJID     character   \n",
       "522         POSEQ        number   \n",
       "523        POTERM     character   \n",
       "524      POMODIFY     character   \n",
       "525         POCAT     character   \n",
       "526       POPRESP     character   \n",
       "527       POOCCUR     character   \n",
       "528        POSTAT     character   \n",
       "529      POREASND     character   \n",
       "530      VISITNUM        number   \n",
       "531         VISIT     character   \n",
       "532       VISITDY        number   \n",
       "533         EPOCH     character   \n",
       "534         PODTC     character   \n",
       "535       POSTDTC     character   \n",
       "536       POENDTC     character   \n",
       "537          PODY        number   \n",
       "538        POSTDY        number   \n",
       "539        POENDY        number   \n",
       "540        POSTRF     character   \n",
       "541        POENRF     character   \n",
       "542      POFETNUM        number   \n",
       "543      POFTINID        number   \n",
       "544      POMODDLV     character   \n",
       "545      POSETTNG     character   \n",
       "\n",
       "                                                                                                                                                                                                                                                                                                                                             Variable_Definition  \n",
       "519                                                                                                                                                                 This variable contains the unique identifier for a study. This is the main key/identifier for all domains in the IDDO Data Repository  every domain table will have the STUDYID identifier.  \n",
       "520                                                                                                                                                                                                                                                                                        This variable contains the two-character abbreviation for the domain.  \n",
       "521  This variable contains the unique subject identifier for a study. This is a secondary key/identifier for all subject-level domains in the IDDO Data Repository  every domain table containing subject-level information (i.e., all but the Trial Domains) will have the USUBJID identifier. This variable will identify unique subjects in the repository.  \n",
       "522                                  This variable contains a sequence number to ensure uniqueness of subject records within the domain. Each observation (each recorded as a separate row in the domain) will have a unique number within each subject, e.g., a subject with 10 observations will have 10 rows and each row is numbered sequentially from 1-10.  \n",
       "523                                                                                                                                                                                                                                                                This variable contains the verbatim wording of the event as provided by the Data Contributor.  \n",
       "524                                                                                                                                                                                                            This variable contains a modification of the verbatim wording of the event. This is used to capture IDDO-defined standardised terms of the event.  \n",
       "525                                                                                                                                                                                                                                                                                                  This variable contains a categorization of the observation.  \n",
       "526                                                                                                                                                                           This variable identifies whether an observation was pre-specified on the CRF. Values are null for spontaneously reported events, i.e. those collected as free-text verbatim terms.  \n",
       "527                                                                                                                                                                                                                               This variable identifies whether or not a pre-specified event has occurred. Values are null for spontaneously reported events.  \n",
       "528                                                             This variable contains information about the status of the observation  specifically that it was not completed when it was expected to have been. This column should be empty when there is a value in the --OCCUR (Events and Interventions Domains) or --ORRES (Findings Domains) variables.   \n",
       "529                                                                                                                                     This variable contains information about the reason why the observation was not completed when it was expected to have been. This column should be populated when there is a value of \"NOT DONE\" in the --STAT variable.  \n",
       "530                                                                                                                                                                                   This variable contains a number designating the planned clinical encounter number. This is a numeric version of the visit described in VISIT? and it is used for sorting.   \n",
       "531                                                                                                                                                                                                          This variable contains the protocol-defined text description of the planned clinical encounter number (as defined in the Trial Visits (TV) Domain).  \n",
       "532                                                                                                                                                                    This variable contains a number designating the Study Day of the planned clinical encounter. This is also a numeric version of the visit described in VISIT? and can be used for sorting.  \n",
       "533                                                                                                                                                                                                         This variable describes the Epoch period of the observation (e.g., Baseline, Treatment, Follow-up).  This is defined by CDISC Controlled Terminology  \n",
       "534                                                                                                                                                                This variable contains the date and time of the collection of the observation, administration of a test or collection of a specimen.  This date and time will be provided in ISO 8601 format.  \n",
       "535                                                                                                                            This variable contains the start date and time of the observation or initiation of the event (as opposed to the date the question about the observation/event was asked). This date and time will be provided in ISO 8601 format.  \n",
       "536                                                                                                                                                                                                               This variable contains the end date and time of the observation or cessation of event. This date and time will be provided in ISO 8601 format.  \n",
       "537                                                                                                                                                                                               This variable describes the study day of the observation relative to the date in RFSTDTC.  This will be blank for records with no value in the --DTC variable.  \n",
       "538                                                                                                                                                                                This variable describes the study day of the start of the observation relative to the date in RFSTDTC.  This will be blank for records with no value in the --STDTC variable.  \n",
       "539                                                                                                                                                                                  This variable describes the study day of the end of the observation relative to the date in RFSTDTC.  This will be blank for records with no value in the --ENDTC variable.  \n",
       "540                                                                                                                                                                                                                This variable describes when the start of the observation happened in relation to the date recorded in RFSTDTC, e.g. BEFORE, DURING or AFTER.  \n",
       "541                                                                                                                                                                                                                  This variable describes when the end of the observation happened in relation to the date recorded in RFSTDTC, e.g. BEFORE, DURING or AFTER.  \n",
       "542                                                                                                                                                                                                                                                                           This variable identifies how many foetuses/infants were involved in the pregnancy.  \n",
       "543                                                                                                                                                                                                                                   This variable identifies which foetus/infant from a pregnancy other than a singleton, the event in POTERM is referring to.  \n",
       "544                                                                                                                                                                                                                                                                                               This variable describes the mode of delivery of the infant(s).  \n",
       "545                                                                                                                                                                                                                                                                        This variable describes the setting for the event where POCAT is \"PREGNANCY OUTCOME\".  "
      ]
     },
     "execution_count": 7,
     "metadata": {},
     "output_type": "execute_result"
    }
   ],
   "source": [
    "# See variables for PO\n",
    "pd.set_option(\"display.max_colwidth\", 1000)\n",
    "data_description.loc[data_description.Domain==PO.name, ['Variable_Name', 'Variable_Type', 'Variable_Definition']]"
   ]
  },
  {
   "cell_type": "code",
   "execution_count": 8,
   "id": "b285ba64-ee6b-4bb2-afdf-1e29269104f7",
   "metadata": {},
   "outputs": [
    {
     "data": {
      "text/plain": [
       "Index(['STUDYID', 'DOMAIN', 'USUBJID', 'POSEQ', 'POTERM', 'POCAT', 'VISITNUM',\n",
       "       'VISIT', 'VISITDY', 'PODY', 'POSTDY', 'POENDY'],\n",
       "      dtype='object')"
      ]
     },
     "execution_count": 8,
     "metadata": {},
     "output_type": "execute_result"
    }
   ],
   "source": [
    "# Columns really in PO\n",
    "PO.columns"
   ]
  },
  {
   "cell_type": "code",
   "execution_count": 9,
   "id": "da584bd9-4023-46c6-9b07-c25efdce72fb",
   "metadata": {},
   "outputs": [
    {
     "name": "stdout",
     "output_type": "stream",
     "text": [
      "Values for var:  ['Live Birth' 'Pregnancy' 'UNKNOWN' 'Stillbirth' 'Born Alive']\n"
     ]
    }
   ],
   "source": [
    "# Investigate POTERM\n",
    "print('Values for var: ', PO['POTERM'].unique())"
   ]
  },
  {
   "cell_type": "markdown",
   "id": "c8cccce4-dddc-4ae4-93ed-2af7a57a67af",
   "metadata": {},
   "source": [
    "The only important thing is that the person is pregnant, as the outcome of the delivery is always the same. However, this information is already in the RP table so nothing will be kept from PO."
   ]
  },
  {
   "cell_type": "markdown",
   "id": "65db852c-4576-47aa-9b7d-6c09e1ee22a4",
   "metadata": {},
   "source": [
    "**=> To conclud, for PO, we can keep nothing.**"
   ]
  },
  {
   "cell_type": "markdown",
   "id": "51be0cd7-330c-41e5-985a-db0ac6a63e37",
   "metadata": {
    "jp-MarkdownHeadingCollapsed": true,
    "tags": []
   },
   "source": [
    "#### For RELREC:"
   ]
  },
  {
   "cell_type": "code",
   "execution_count": 13,
   "id": "e8677ac0-7ec6-494f-b0ec-31e841e99682",
   "metadata": {},
   "outputs": [],
   "source": [
    "data_folder = './data/DATA_2022-09-01/'\n",
    "RELREC = pd.read_csv(data_folder + 'RELREC_2022-09-01.csv', sep=',', low_memory=False) \n",
    "RELREC.name = 'RELREC'"
   ]
  },
  {
   "cell_type": "code",
   "execution_count": 14,
   "id": "9b7281e3-21f8-4cc0-91db-ed76c5649e35",
   "metadata": {},
   "outputs": [
    {
     "data": {
      "text/html": [
       "<div>\n",
       "<style scoped>\n",
       "    .dataframe tbody tr th:only-of-type {\n",
       "        vertical-align: middle;\n",
       "    }\n",
       "\n",
       "    .dataframe tbody tr th {\n",
       "        vertical-align: top;\n",
       "    }\n",
       "\n",
       "    .dataframe thead th {\n",
       "        text-align: right;\n",
       "    }\n",
       "</style>\n",
       "<table border=\"1\" class=\"dataframe\">\n",
       "  <thead>\n",
       "    <tr style=\"text-align: right;\">\n",
       "      <th></th>\n",
       "      <th>Variable_Name</th>\n",
       "      <th>Variable_Type</th>\n",
       "      <th>Variable_Definition</th>\n",
       "    </tr>\n",
       "  </thead>\n",
       "  <tbody>\n",
       "    <tr>\n",
       "      <th>600</th>\n",
       "      <td>STUDYID</td>\n",
       "      <td>character</td>\n",
       "      <td>This variable contains the unique identifier for a study. This is the main key/identifier for all domains in the IDDO Data Repository  every domain table will have the STUDYID identifier.</td>\n",
       "    </tr>\n",
       "    <tr>\n",
       "      <th>601</th>\n",
       "      <td>USUBJID</td>\n",
       "      <td>character</td>\n",
       "      <td>This variable contains the unique subject identifier for a study. This is a secondary key/identifier for all subject-level domains in the IDDO Data Repository  every domain table containing subject-level information (i.e., all but the Trial Domains) will have the USUBJID identifier. This variable will identify unique subjects in the repository.</td>\n",
       "    </tr>\n",
       "    <tr>\n",
       "      <th>602</th>\n",
       "      <td>RSUBJID</td>\n",
       "      <td>character</td>\n",
       "      <td>This variable contains the related unique subject identifier from the same or another study.</td>\n",
       "    </tr>\n",
       "    <tr>\n",
       "      <th>603</th>\n",
       "      <td>RELREC</td>\n",
       "      <td>character</td>\n",
       "      <td>This variable contains the patient relationship type between the identifier contained in USUBJID and the identifier contained in RSUBJID. This is defined by IDDO Controlled Terminology.</td>\n",
       "    </tr>\n",
       "  </tbody>\n",
       "</table>\n",
       "</div>"
      ],
      "text/plain": [
       "    Variable_Name Variable_Type  \\\n",
       "600       STUDYID     character   \n",
       "601       USUBJID     character   \n",
       "602       RSUBJID     character   \n",
       "603        RELREC     character   \n",
       "\n",
       "                                                                                                                                                                                                                                                                                                                                             Variable_Definition  \n",
       "600                                                                                                                                                                 This variable contains the unique identifier for a study. This is the main key/identifier for all domains in the IDDO Data Repository  every domain table will have the STUDYID identifier.  \n",
       "601  This variable contains the unique subject identifier for a study. This is a secondary key/identifier for all subject-level domains in the IDDO Data Repository  every domain table containing subject-level information (i.e., all but the Trial Domains) will have the USUBJID identifier. This variable will identify unique subjects in the repository.  \n",
       "602                                                                                                                                                                                                                                                                 This variable contains the related unique subject identifier from the same or another study.  \n",
       "603                                                                                                                                                                    This variable contains the patient relationship type between the identifier contained in USUBJID and the identifier contained in RSUBJID. This is defined by IDDO Controlled Terminology.  "
      ]
     },
     "execution_count": 14,
     "metadata": {},
     "output_type": "execute_result"
    }
   ],
   "source": [
    "# See variables for RELREC\n",
    "pd.set_option(\"display.max_colwidth\", 1000)\n",
    "data_description.loc[data_description.Domain==RELREC.name, ['Variable_Name', 'Variable_Type', 'Variable_Definition']]"
   ]
  },
  {
   "cell_type": "code",
   "execution_count": 15,
   "id": "cb68ffe0-44d1-49ce-b5d9-f300647cb293",
   "metadata": {},
   "outputs": [
    {
     "data": {
      "text/plain": [
       "Index(['STUDYID', 'USUBJID', 'RSUBJID', 'RELREC'], dtype='object')"
      ]
     },
     "execution_count": 15,
     "metadata": {},
     "output_type": "execute_result"
    }
   ],
   "source": [
    "# Columns really in RELREC\n",
    "RELREC.columns"
   ]
  },
  {
   "cell_type": "code",
   "execution_count": 16,
   "id": "9c9ae377-0a3d-44af-8554-89b5c6eb3535",
   "metadata": {},
   "outputs": [
    {
     "name": "stdout",
     "output_type": "stream",
     "text": [
      "Values for var:  ['SAME']\n"
     ]
    }
   ],
   "source": [
    "# Investigate var\n",
    "print('Values for var: ', RELREC['RELREC'].unique())"
   ]
  },
  {
   "cell_type": "markdown",
   "id": "4e8468f8-2093-4c35-a3d0-50c020748595",
   "metadata": {},
   "source": [
    "**=> To conclud, for RELREC, we can keep nothing.**"
   ]
  },
  {
   "cell_type": "markdown",
   "id": "2a47d3bb-407f-40f1-bdd5-84fb0553e064",
   "metadata": {
    "jp-MarkdownHeadingCollapsed": true,
    "tags": []
   },
   "source": [
    "#### For RP:"
   ]
  },
  {
   "cell_type": "code",
   "execution_count": 53,
   "id": "a31d46b1-8354-469f-b962-3097faf59c3a",
   "metadata": {},
   "outputs": [],
   "source": [
    "data_folder = './data/DATA_2022-09-01/'\n",
    "RP = pd.read_csv(data_folder + 'RP_2022-09-01.csv', sep=',', low_memory=False) \n",
    "RP.name = 'RP'"
   ]
  },
  {
   "cell_type": "code",
   "execution_count": 18,
   "id": "d823bc69-538e-41f4-a5ef-3f376e838727",
   "metadata": {},
   "outputs": [
    {
     "data": {
      "text/html": [
       "<div>\n",
       "<style scoped>\n",
       "    .dataframe tbody tr th:only-of-type {\n",
       "        vertical-align: middle;\n",
       "    }\n",
       "\n",
       "    .dataframe tbody tr th {\n",
       "        vertical-align: top;\n",
       "    }\n",
       "\n",
       "    .dataframe thead th {\n",
       "        text-align: right;\n",
       "    }\n",
       "</style>\n",
       "<table border=\"1\" class=\"dataframe\">\n",
       "  <thead>\n",
       "    <tr style=\"text-align: right;\">\n",
       "      <th></th>\n",
       "      <th>Variable_Name</th>\n",
       "      <th>Variable_Type</th>\n",
       "      <th>Variable_Definition</th>\n",
       "    </tr>\n",
       "  </thead>\n",
       "  <tbody>\n",
       "    <tr>\n",
       "      <th>604</th>\n",
       "      <td>STUDYID</td>\n",
       "      <td>character</td>\n",
       "      <td>This variable contains the unique identifier for a study. This is the main key/identifier for all domains in the IDDO Data Repository  every domain table will have the STUDYID identifier.</td>\n",
       "    </tr>\n",
       "    <tr>\n",
       "      <th>605</th>\n",
       "      <td>DOMAIN</td>\n",
       "      <td>character</td>\n",
       "      <td>This variable contains the two-character abbreviation for the domain.</td>\n",
       "    </tr>\n",
       "    <tr>\n",
       "      <th>606</th>\n",
       "      <td>USUBJID</td>\n",
       "      <td>character</td>\n",
       "      <td>This variable contains the unique subject identifier for a study. This is a secondary key/identifier for all subject-level domains in the IDDO Data Repository  every domain table containing subject-level information (i.e., all but the Trial Domains) will have the USUBJID identifier. This variable will identify unique subjects in the repository.</td>\n",
       "    </tr>\n",
       "    <tr>\n",
       "      <th>607</th>\n",
       "      <td>RPSEQ</td>\n",
       "      <td>number</td>\n",
       "      <td>This variable contains a sequence number to ensure uniqueness of subject records within the domain. Each observation (each recorded as a separate row in the domain) will have a unique number within each subject, e.g., a subject with 10 observations will have 10 rows and each row is numbered sequentially from 1-10.</td>\n",
       "    </tr>\n",
       "    <tr>\n",
       "      <th>608</th>\n",
       "      <td>RPTESTCD</td>\n",
       "      <td>character</td>\n",
       "      <td>This variable identifies the shortened code for the name of the test or examination performed. This is defined by CDISC Controlled Terminology.</td>\n",
       "    </tr>\n",
       "    <tr>\n",
       "      <th>609</th>\n",
       "      <td>RPTEST</td>\n",
       "      <td>character</td>\n",
       "      <td>This variable identifies the name of the test or examination performed. This is defined by CDISC Controlled Terminology.</td>\n",
       "    </tr>\n",
       "    <tr>\n",
       "      <th>610</th>\n",
       "      <td>RPCAT</td>\n",
       "      <td>character</td>\n",
       "      <td>This variable contains a categorization of the observation.</td>\n",
       "    </tr>\n",
       "    <tr>\n",
       "      <th>611</th>\n",
       "      <td>RPSCAT</td>\n",
       "      <td>character</td>\n",
       "      <td>This variable contains a further categorization of the observation.</td>\n",
       "    </tr>\n",
       "    <tr>\n",
       "      <th>612</th>\n",
       "      <td>RPORRES</td>\n",
       "      <td>character</td>\n",
       "      <td>This variable contains the result of the test or examination performed as provided by the data contributor. The original data can be either numericm e.g. \"503\" or string, e.g., \"Positive\".</td>\n",
       "    </tr>\n",
       "    <tr>\n",
       "      <th>613</th>\n",
       "      <td>RPORRESU</td>\n",
       "      <td>character</td>\n",
       "      <td>This variable contains the unit for the result of the test or examination performed as provided by the data contributor. This is defined by CDISC Controlled Terminology.</td>\n",
       "    </tr>\n",
       "    <tr>\n",
       "      <th>614</th>\n",
       "      <td>RPSTRESC</td>\n",
       "      <td>character</td>\n",
       "      <td>This variable contains the converted, standardized result of the test or examination performed. The data can be either numeric, e.g. \"503\", or string, e.g. \"Positive\", and is stored as a string in the repository. The standard units and conversion formulas (as applicable) are described in detail in the IDDO Implementation Guide in the relevant sections about the variable --STRESU.</td>\n",
       "    </tr>\n",
       "    <tr>\n",
       "      <th>615</th>\n",
       "      <td>RPSTRESN</td>\n",
       "      <td>number</td>\n",
       "      <td>This variable contains the converted, standardized result of the test or examination performed when the result is numeric. This variable is a direct copy of the numeric values found in --STRESC. String/character-based results, e.g. \"Positive\", do not appear.</td>\n",
       "    </tr>\n",
       "    <tr>\n",
       "      <th>616</th>\n",
       "      <td>RPSTRESU</td>\n",
       "      <td>character</td>\n",
       "      <td>This variable contains the unit for the converted, standardized result of the test or examination performed. The IDDO-Defined Standard Units for each test or examination are described in detail in the IDDO Implementation Guide.</td>\n",
       "    </tr>\n",
       "    <tr>\n",
       "      <th>617</th>\n",
       "      <td>RPSTAT</td>\n",
       "      <td>character</td>\n",
       "      <td>This variable contains information about the status of the observation  specifically that it was not completed when it was expected to have been. This column should be empty when there is a value in the --OCCUR (Events and Interventions Domains) or --ORRES (Findings Domains) variables.</td>\n",
       "    </tr>\n",
       "    <tr>\n",
       "      <th>618</th>\n",
       "      <td>RPREASND</td>\n",
       "      <td>character</td>\n",
       "      <td>This variable contains information about the reason why the observation was not completed when it was expected to have been. This column should be populated when there is a value of \"NOT DONE\" in the --STAT variable.</td>\n",
       "    </tr>\n",
       "    <tr>\n",
       "      <th>619</th>\n",
       "      <td>RPMETHOD</td>\n",
       "      <td>character</td>\n",
       "      <td>This variable contains information about the method used for the test or examination. This is defined by CDISC Controlled Terminology.</td>\n",
       "    </tr>\n",
       "    <tr>\n",
       "      <th>620</th>\n",
       "      <td>VISITNUM</td>\n",
       "      <td>number</td>\n",
       "      <td>This variable contains a number designating the planned clinical encounter number. This is a numeric version of the visit described in VISIT? and it is used for sorting.</td>\n",
       "    </tr>\n",
       "    <tr>\n",
       "      <th>621</th>\n",
       "      <td>VISIT</td>\n",
       "      <td>character</td>\n",
       "      <td>This variable contains the protocol-defined text description of the planned clinical encounter number (as defined in the Trial Visits (TV) Domain).</td>\n",
       "    </tr>\n",
       "    <tr>\n",
       "      <th>622</th>\n",
       "      <td>VISITDY</td>\n",
       "      <td>number</td>\n",
       "      <td>This variable contains a number designating the Study Day of the planned clinical encounter. This is also a numeric version of the visit described in VISIT? and can be used for sorting.</td>\n",
       "    </tr>\n",
       "    <tr>\n",
       "      <th>623</th>\n",
       "      <td>EPOCH</td>\n",
       "      <td>character</td>\n",
       "      <td>This variable describes the Epoch period of the observation (e.g., Baseline, Treatment, Follow-up).  This is defined by CDISC Controlled Terminology</td>\n",
       "    </tr>\n",
       "    <tr>\n",
       "      <th>624</th>\n",
       "      <td>RPDTC</td>\n",
       "      <td>character</td>\n",
       "      <td>This variable contains the date and time of the collection of the observation, administration of a test or collection of a specimen.  This date and time will be provided in ISO 8601 format.</td>\n",
       "    </tr>\n",
       "    <tr>\n",
       "      <th>625</th>\n",
       "      <td>RPDY</td>\n",
       "      <td>number</td>\n",
       "      <td>This variable describes the study day of the observation relative to the date in RFSTDTC.  This will be blank for records with no value in the --DTC variable.</td>\n",
       "    </tr>\n",
       "    <tr>\n",
       "      <th>626</th>\n",
       "      <td>RPDUR</td>\n",
       "      <td>character</td>\n",
       "      <td>This variable contains information about the duration of the observation. This is only if collected on the CRF and not derived. This is collected in ISO 8601 format.</td>\n",
       "    </tr>\n",
       "    <tr>\n",
       "      <th>627</th>\n",
       "      <td>RPTPT</td>\n",
       "      <td>character</td>\n",
       "      <td>This variable describes when the observation should have happened as defined in the study protocol. This may be represented as an elapsed time relative to a fixed reference point described in --TPTREF.</td>\n",
       "    </tr>\n",
       "    <tr>\n",
       "      <th>628</th>\n",
       "      <td>RPTPTREF</td>\n",
       "      <td>character</td>\n",
       "      <td>This variable contains the name of the fixed reference point referred to by --TPT, --ELTM, e.g. PREVIOUS DOSE, PREVIOUS MEAL.</td>\n",
       "    </tr>\n",
       "    <tr>\n",
       "      <th>629</th>\n",
       "      <td>RPSTRF</td>\n",
       "      <td>character</td>\n",
       "      <td>This variable describes when the start of the observation happened in relation to the date recorded in RFSTDTC, e.g. BEFORE, DURING or AFTER.</td>\n",
       "    </tr>\n",
       "    <tr>\n",
       "      <th>630</th>\n",
       "      <td>RPEVINTX</td>\n",
       "      <td>character</td>\n",
       "      <td>This variable contains information about the evaluation interval associated with an observation when it cannot be represented in ISO 8601 format (e.g., \"Last few weeks\", \"While hospitalized\").</td>\n",
       "    </tr>\n",
       "    <tr>\n",
       "      <th>631</th>\n",
       "      <td>RPSTRTPT</td>\n",
       "      <td>character</td>\n",
       "      <td>This variable describes when the start of the observation happened in relation to the point described in --STTPT, e.g. BEFORE, DURING or AFTER.</td>\n",
       "    </tr>\n",
       "    <tr>\n",
       "      <th>632</th>\n",
       "      <td>RPSTTPT</td>\n",
       "      <td>character</td>\n",
       "      <td>This variable contains the name of the fixed reference point referred to by --STRTPT, e.g. PREVIOUS DOSE, 2003-12-15.</td>\n",
       "    </tr>\n",
       "    <tr>\n",
       "      <th>633</th>\n",
       "      <td>RPCDSTDY</td>\n",
       "      <td>number</td>\n",
       "      <td>This variable contains the contributor-defined study day expressed in integer days relative to the start of the study. This variable is used when no dates are provided, only a contributor-defined proxy.</td>\n",
       "    </tr>\n",
       "  </tbody>\n",
       "</table>\n",
       "</div>"
      ],
      "text/plain": [
       "    Variable_Name Variable_Type  \\\n",
       "604       STUDYID     character   \n",
       "605        DOMAIN     character   \n",
       "606       USUBJID     character   \n",
       "607         RPSEQ        number   \n",
       "608      RPTESTCD     character   \n",
       "609        RPTEST     character   \n",
       "610         RPCAT     character   \n",
       "611        RPSCAT     character   \n",
       "612       RPORRES     character   \n",
       "613      RPORRESU     character   \n",
       "614      RPSTRESC     character   \n",
       "615      RPSTRESN        number   \n",
       "616      RPSTRESU     character   \n",
       "617        RPSTAT     character   \n",
       "618      RPREASND     character   \n",
       "619      RPMETHOD     character   \n",
       "620      VISITNUM        number   \n",
       "621         VISIT     character   \n",
       "622       VISITDY        number   \n",
       "623         EPOCH     character   \n",
       "624         RPDTC     character   \n",
       "625          RPDY        number   \n",
       "626         RPDUR     character   \n",
       "627         RPTPT     character   \n",
       "628      RPTPTREF     character   \n",
       "629        RPSTRF     character   \n",
       "630      RPEVINTX     character   \n",
       "631      RPSTRTPT     character   \n",
       "632       RPSTTPT     character   \n",
       "633      RPCDSTDY        number   \n",
       "\n",
       "                                                                                                                                                                                                                                                                                                                                                                                Variable_Definition  \n",
       "604                                                                                                                                                                                                    This variable contains the unique identifier for a study. This is the main key/identifier for all domains in the IDDO Data Repository  every domain table will have the STUDYID identifier.  \n",
       "605                                                                                                                                                                                                                                                                                                                           This variable contains the two-character abbreviation for the domain.  \n",
       "606                                     This variable contains the unique subject identifier for a study. This is a secondary key/identifier for all subject-level domains in the IDDO Data Repository  every domain table containing subject-level information (i.e., all but the Trial Domains) will have the USUBJID identifier. This variable will identify unique subjects in the repository.  \n",
       "607                                                                     This variable contains a sequence number to ensure uniqueness of subject records within the domain. Each observation (each recorded as a separate row in the domain) will have a unique number within each subject, e.g., a subject with 10 observations will have 10 rows and each row is numbered sequentially from 1-10.  \n",
       "608                                                                                                                                                                                                                                                 This variable identifies the shortened code for the name of the test or examination performed. This is defined by CDISC Controlled Terminology.  \n",
       "609                                                                                                                                                                                                                                                                        This variable identifies the name of the test or examination performed. This is defined by CDISC Controlled Terminology.  \n",
       "610                                                                                                                                                                                                                                                                                                                                     This variable contains a categorization of the observation.  \n",
       "611                                                                                                                                                                                                                                                                                                                             This variable contains a further categorization of the observation.  \n",
       "612                                                                                                                                                                                                    This variable contains the result of the test or examination performed as provided by the data contributor. The original data can be either numericm e.g. \"503\" or string, e.g., \"Positive\".  \n",
       "613                                                                                                                                                                                                                       This variable contains the unit for the result of the test or examination performed as provided by the data contributor. This is defined by CDISC Controlled Terminology.  \n",
       "614  This variable contains the converted, standardized result of the test or examination performed. The data can be either numeric, e.g. \"503\", or string, e.g. \"Positive\", and is stored as a string in the repository. The standard units and conversion formulas (as applicable) are described in detail in the IDDO Implementation Guide in the relevant sections about the variable --STRESU.  \n",
       "615                                                                                                                              This variable contains the converted, standardized result of the test or examination performed when the result is numeric. This variable is a direct copy of the numeric values found in --STRESC. String/character-based results, e.g. \"Positive\", do not appear.  \n",
       "616                                                                                                                                                             This variable contains the unit for the converted, standardized result of the test or examination performed. The IDDO-Defined Standard Units for each test or examination are described in detail in the IDDO Implementation Guide.  \n",
       "617                                                                                                This variable contains information about the status of the observation  specifically that it was not completed when it was expected to have been. This column should be empty when there is a value in the --OCCUR (Events and Interventions Domains) or --ORRES (Findings Domains) variables.   \n",
       "618                                                                                                                                                                        This variable contains information about the reason why the observation was not completed when it was expected to have been. This column should be populated when there is a value of \"NOT DONE\" in the --STAT variable.  \n",
       "619                                                                                                                                                                                                                                                          This variable contains information about the method used for the test or examination. This is defined by CDISC Controlled Terminology.  \n",
       "620                                                                                                                                                                                                                      This variable contains a number designating the planned clinical encounter number. This is a numeric version of the visit described in VISIT? and it is used for sorting.   \n",
       "621                                                                                                                                                                                                                                             This variable contains the protocol-defined text description of the planned clinical encounter number (as defined in the Trial Visits (TV) Domain).  \n",
       "622                                                                                                                                                                                                       This variable contains a number designating the Study Day of the planned clinical encounter. This is also a numeric version of the visit described in VISIT? and can be used for sorting.  \n",
       "623                                                                                                                                                                                                                                            This variable describes the Epoch period of the observation (e.g., Baseline, Treatment, Follow-up).  This is defined by CDISC Controlled Terminology  \n",
       "624                                                                                                                                                                                                   This variable contains the date and time of the collection of the observation, administration of a test or collection of a specimen.  This date and time will be provided in ISO 8601 format.  \n",
       "625                                                                                                                                                                                                                                  This variable describes the study day of the observation relative to the date in RFSTDTC.  This will be blank for records with no value in the --DTC variable.  \n",
       "626                                                                                                                                                                                                                           This variable contains information about the duration of the observation. This is only if collected on the CRF and not derived. This is collected in ISO 8601 format.  \n",
       "627                                                                                                                                                                                      This variable describes when the observation should have happened as defined in the study protocol. This may be represented as an elapsed time relative to a fixed reference point described in --TPTREF.   \n",
       "628                                                                                                                                                                                                                                                                   This variable contains the name of the fixed reference point referred to by --TPT, --ELTM, e.g. PREVIOUS DOSE, PREVIOUS MEAL.  \n",
       "629                                                                                                                                                                                                                                                   This variable describes when the start of the observation happened in relation to the date recorded in RFSTDTC, e.g. BEFORE, DURING or AFTER.  \n",
       "630                                                                                                                                                                                                This variable contains information about the evaluation interval associated with an observation when it cannot be represented in ISO 8601 format (e.g., \"Last few weeks\", \"While hospitalized\").  \n",
       "631                                                                                                                                                                                                                                                 This variable describes when the start of the observation happened in relation to the point described in --STTPT, e.g. BEFORE, DURING or AFTER.  \n",
       "632                                                                                                                                                                                                                                                                           This variable contains the name of the fixed reference point referred to by --STRTPT, e.g. PREVIOUS DOSE, 2003-12-15.  \n",
       "633                                                                                                                                                                                     This variable contains the contributor-defined study day expressed in integer days relative to the start of the study. This variable is used when no dates are provided, only a contributor-defined proxy.   "
      ]
     },
     "execution_count": 18,
     "metadata": {},
     "output_type": "execute_result"
    }
   ],
   "source": [
    "# See variables for RP\n",
    "pd.set_option(\"display.max_colwidth\", 1000)\n",
    "data_description.loc[data_description.Domain==RP.name, ['Variable_Name', 'Variable_Type', 'Variable_Definition']]"
   ]
  },
  {
   "cell_type": "code",
   "execution_count": 19,
   "id": "23cffbbd-0c90-429e-9416-71aa8722a7f7",
   "metadata": {},
   "outputs": [
    {
     "data": {
      "text/plain": [
       "Index(['STUDYID', 'DOMAIN', 'USUBJID', 'RPSEQ', 'RPTESTCD', 'RPTEST',\n",
       "       'RPORRES', 'RPORRESU', 'RPSTRESC', 'RPSTRESN', 'RPSTRESU', 'RPSTAT',\n",
       "       'RPREASND', 'VISITNUM', 'VISIT', 'VISITDY', 'RPDY'],\n",
       "      dtype='object')"
      ]
     },
     "execution_count": 19,
     "metadata": {},
     "output_type": "execute_result"
    }
   ],
   "source": [
    "# Columns really in RP\n",
    "RP.columns"
   ]
  },
  {
   "cell_type": "code",
   "execution_count": 20,
   "id": "12938712-4232-4c99-b531-7279dfb326af",
   "metadata": {},
   "outputs": [
    {
     "name": "stdout",
     "output_type": "stream",
     "text": [
      "Values for var:  [nan 'N' '27' 'Y' 'U' '40' '36' '25' '30' '39' '37' '22' '31' '20' '24'\n",
      " '26' '3' '28' '32' '12' '38' '33' '23' '9' '8' '13' '29' '18' '41' '35'\n",
      " '34.00' '37.00' '38.00' '33.00' '40.00' '7.00' '41.00' '28.00' '32.00'\n",
      " '00.06' '25.00' '38.01' '40.02' '40.04' '40.01' '37.02' '34.06' '39.00'\n",
      " '8.00' '41.60' '35.00' '39.04' '30.00' '36.00' '27.00' '20.05' '35.50'\n",
      " '40.20' '27.03' '12.00' '37.10' '36.10' '39.20' '39.50' '38.50' '38.80'\n",
      " '38.60' '6.00' '20.00' '9.00' '29.00' '22.00' '38.10' '33.60' '18.00'\n",
      " '35.40' '22.20' '31.00' '37.60' '38.40' '40.30' '29.60' '0.39' '34.85'\n",
      " '37.85' '41.15' '21.85' '37.30' '24.00' '41.57' '34.60' '39.03' '39.30'\n",
      " '23.09' '28.20' '37.35' '38.15' '33.70' '33.40' '26.00' '38.30' '40.50'\n",
      " '04.00' '11.00' '24.01' '36.06' '10.00' '19.00' '22.02' '36.50' '23.00'\n",
      " '06.00' '0.40' '0.46' '39.10' '32.40' '34.10' '15.00' '09.00' '34.01'\n",
      " '38.75' '37.06' '41.06' '41.05' '36.04' '39.06' '39.05' '42.00' '41.01'\n",
      " '33.06' '41.03' '17.03' '38.02' '36.02' '40.03' '33.05' '36.03' '24.02'\n",
      " '37.04' '37.01' '37.05' '39.01' '32.04' '14.03' '33.03' '22.05' '29.01'\n",
      " '37.20' '36.20' '21.00' '16.00' '30.60' '23.40' '17.00' '14.00' '13.00'\n",
      " '27.30' '27.04' '40.06' '23.03' '8.30' '33.50' '19.40' '25.04' '38.04'\n",
      " '30.05' '35.04' '35.03' '31.05' '36.05' '38.03' '13.06' '39.02' '38.05'\n",
      " '35.05' '31.01' '27.02' '27.05' '37.03' '41.04' '18.05' '28.02' '30.40'\n",
      " '20.40' '40.16' '40.10' '40.27' '35.60' '36.60' '07.00' '21.04' '21.05'\n",
      " '8.04' '25.03' '34.04' '5.00' '40.12' '30.04' '30.03' '37.40' '31.02'\n",
      " '38.06' '40.07' '22.01' '24.05' '28.60' '14.20' '35.30' '32.50' '39.40'\n",
      " '38.20' '34.30' '30.10' '28.40' '23.60' '34.20' '31.50' '33.10' '27.20'\n",
      " '35.71' '24.30' '37.50' '21.30' '27.40' '24.50' '34.02' '32.60' '40.05'\n",
      " '40.40' '34.40' '29.40' '4.00' '23.20' '0.06' '31.03' '31.20' '41.40'\n",
      " '33.20' '34.50' '17.50' '39.60' '26.40' '28.10' '41.10' '26.50' '35.01'\n",
      " '36.01' '31.60' '13.50' '29.05' '32.02' '33.04' '31.06' '16.03' '29.02'\n",
      " '33.01' '29.03' '29.06' '26.02' '35.10' '25.40' '00.37' '00.34' '00.39'\n",
      " '00.40' '24.04' '23.02' '24.06' '13.30' '9.10' '24.40' '36.40' '28.06'\n",
      " '29.30' '26.71' '14.04' '21.03' '6.40' '40.80' '41.02' '41.50' '34.25'\n",
      " '35.25' '40.25' '31.25' '32.25' '18.90' '28.25' '41.20' '22.25' '37.75'\n",
      " '40.75' '19.75' '22.50' '28.50' '24.25' '30.50' '21.50' '39.75' '39.80'\n",
      " '39.25' '35.20' '24.75' '20.50' '36.75' '31.75' '37.25' '41.25' '33.75'\n",
      " '36.25' '41.75' '38.25' '29.50' '25.30' '33.33' '27.80' '36.80' '35.06'\n",
      " '08.00' '38.29' '43.00' '40.57' '0.38' '21.06' '34.71' '39.35' '25.20'\n",
      " '36.30' '37.86' '5.28' '37.71' '11.57' '21.71' '13.05' '25.01' '38.86'\n",
      " '35.02' '26.10' '0.20' '0.08' '33.30' '26.57' '32.06' '32.30' '40.60'\n",
      " '22.40' '00.08' '31.30' '22.30' '12.05' '40.11' '15.30' '3.00' '25.10'\n",
      " '21.20' '39.71' '32.86' '41.43' '20.30' '10.20' '33.90' '28.30' '25.90'\n",
      " '11.30' '27.50' '11.06' '9.30' '28.05' '32.10' '30.20' '41.30' '31.10'\n",
      " '24.60' '26.60' '27.10' '33.02' '0.37' '25.60' '32.03' '09.01' '41.71'\n",
      " '39.85' '28.43' '27.86' '27.01' '37.42' '40.29' '41.42' '38.28' '41.85'\n",
      " '40.42' '41.86' '41.28' '37.57' '38.71' '41.14' '05.71' '36.28' '27.28'\n",
      " '17.01' '2.00' '32.85' '0.15' '36.90' '24.03' '0.00' '10.02' '32.75'\n",
      " '8.40' '4.50' '38.57' '33.71' '40.14' '23.50' '30.06' '11.01' '34.03'\n",
      " '30.02' '30.41' '29.04' '0.32' '0.34' '0.36' '0.21' '0.19' '25.05' '0.14'\n",
      " '00.09' '30.01' '40.66' '6.20' '18.03' '19.50' '25.50' '23.01' '15.50'\n",
      " '15.10' '05.00' '41.70' '31.40' '00.07' '35.29' '31.57' '38.23' '34.86'\n",
      " '39.14' '38.43' '23.30' '24.71' '38.14' '0.41' '0.16' '0.10' '0.24'\n",
      " '0.35' '23.05' '22.86' '32.05' '20.03' '24.43' '28.04' '34.05' '26.04'\n",
      " '22.06' '32.43' '28.01' '26.01' '25.06' '20.02' '13.40' '08.40' '18.40'\n",
      " '40.70' '16.30' '27.60' '37.14' '24.80' '25.80' '27.06' '23.57' '40.71'\n",
      " '36.71' '39.29' '25.86' '27.70' '40.28' '40.43' '0.33' '0.29' '0.30'\n",
      " '0.22' '37.43' '25.15' '32.71' '35.86' '8.60' '33.86' '31.43' '31.86'\n",
      " '7.30' '0.28' '28.29' '14.05' '27.85' '26.14' '29.57' '23.35' '25.43'\n",
      " '0.25' '14.71' '35.43' '27.08' '0.13' '23.06' '26.05' '11.14' '11.20'\n",
      " '31.04' '29.10' '18.04' '32.01' '15.04' '12.06' '22.04' '12.04' '23.04'\n",
      " '19.01' '20.01' '19.03' '25.02' '30.43' '6.90' '0.18' '11' '17' '16' '6'\n",
      " '4' '21' '2' '34' '10' '19' '7' '24.6' '35.3' '23.5' '36.2' '24.57' '14'\n",
      " '5' '15' '16.5' '32.1' '9.1']\n"
     ]
    }
   ],
   "source": [
    "# Investigate RPSTRESC\n",
    "print('Values for RPSTRESC: ', RP['RPSTRESC'].unique())"
   ]
  },
  {
   "cell_type": "markdown",
   "id": "98501b6e-91c3-47d4-b6af-292258aa5a02",
   "metadata": {},
   "source": [
    "The numbers can be replaced by a Yes 'Y' because the person is indeed pregnant. U 'unknown' can be replaced by NA.  The number of observations indicators can be removed as it just keeps the fact that the person is pregnant or not:"
   ]
  },
  {
   "cell_type": "code",
   "execution_count": 54,
   "id": "e635ec44-e815-4c57-aef4-d88f6fdf3e6b",
   "metadata": {},
   "outputs": [
    {
     "name": "stdout",
     "output_type": "stream",
     "text": [
      "Values for RPSTRESC:  [nan 'N' 'Y']\n"
     ]
    }
   ],
   "source": [
    "def containsNumber(value):\n",
    "    if True in [char.isdigit() for char in value]:\n",
    "        return True\n",
    "    return False\n",
    "\n",
    "def replace(elm):\n",
    "    if isinstance(elm, str) and containsNumber(elm):\n",
    "        return 'Y'\n",
    "    elif elm == 'U':\n",
    "        return np.nan\n",
    "    else:\n",
    "        return elm\n",
    "\n",
    "RP['RPSTRESC'] = RP['RPSTRESC'].apply(replace)\n",
    "\n",
    "print('Values for RPSTRESC: ', RP['RPSTRESC'].unique())"
   ]
  },
  {
   "cell_type": "code",
   "execution_count": 55,
   "id": "4107f337-6fe5-4908-add6-12711a65e4ce",
   "metadata": {},
   "outputs": [],
   "source": [
    "RP = RP.loc[RP['RPSEQ'] == 1]"
   ]
  },
  {
   "cell_type": "markdown",
   "id": "7f1984f5-d49c-4c5d-90d6-b56c0e6a67c6",
   "metadata": {},
   "source": [
    "**=> To conclud, for RP, we can keep: USUBJID and RPSTRESC:**"
   ]
  },
  {
   "cell_type": "code",
   "execution_count": 56,
   "id": "8c534313-866b-4343-a1c5-02dbc8377fd9",
   "metadata": {},
   "outputs": [
    {
     "data": {
      "text/plain": [
       "Index(['USUBJID', 'RPSTRESC'], dtype='object')"
      ]
     },
     "execution_count": 56,
     "metadata": {},
     "output_type": "execute_result"
    }
   ],
   "source": [
    "# Keep only some columns for RP\n",
    "RP = RP[['USUBJID', 'RPSTRESC']]\n",
    "RP.columns"
   ]
  },
  {
   "cell_type": "code",
   "execution_count": 57,
   "id": "b04266a0-e285-4590-be99-485c8b62c33e",
   "metadata": {},
   "outputs": [
    {
     "data": {
      "text/plain": [
       "(325298, 2)"
      ]
     },
     "execution_count": 57,
     "metadata": {},
     "output_type": "execute_result"
    }
   ],
   "source": [
    "RP.shape"
   ]
  },
  {
   "cell_type": "markdown",
   "id": "03c88f1d-5d40-41b4-9e57-daf75002ca7c",
   "metadata": {
    "jp-MarkdownHeadingCollapsed": true,
    "tags": []
   },
   "source": [
    "#### For RS:"
   ]
  },
  {
   "cell_type": "code",
   "execution_count": null,
   "id": "2d8b72b6-14de-422e-9579-0f3b1778fb03",
   "metadata": {},
   "outputs": [],
   "source": [
    "data_folder = './data/DATA_2022-09-01/'\n",
    "RS = pd.read_csv(data_folder + 'RS_2022-09-01.csv', sep=',', low_memory=False) \n",
    "RS.name = 'RS'"
   ]
  },
  {
   "cell_type": "code",
   "execution_count": null,
   "id": "14819ae0-9681-4c5f-ac05-7d9694e9feff",
   "metadata": {},
   "outputs": [],
   "source": [
    "# See variables for RS\n",
    "pd.set_option(\"display.max_colwidth\", 1000)\n",
    "data_description.loc[data_description.Domain==RS.name, ['Variable_Name', 'Variable_Type', 'Variable_Definition']]"
   ]
  },
  {
   "cell_type": "code",
   "execution_count": null,
   "id": "c8815d48-85bb-4bec-a7ab-7406ad3be8cd",
   "metadata": {},
   "outputs": [],
   "source": [
    "# Columns really in RS\n",
    "RS.columns"
   ]
  },
  {
   "cell_type": "code",
   "execution_count": null,
   "id": "7ffccf6e-d929-4e64-8194-2115d0ffea53",
   "metadata": {},
   "outputs": [],
   "source": [
    "# Investigate var\n",
    "print('Values for var: ', RS['var'].unique())"
   ]
  },
  {
   "cell_type": "markdown",
   "id": "cbbd9c64-18e3-4b86-b450-a14b354c2cc6",
   "metadata": {},
   "source": [
    "**=> To conclud, for RS, we can keep: USUBJID:**"
   ]
  },
  {
   "cell_type": "code",
   "execution_count": null,
   "id": "b6ea6cfd-20b9-408d-9f3f-2bc30b2b9e03",
   "metadata": {},
   "outputs": [],
   "source": [
    "# Keep only some columns for RS\n",
    "RS = RS[['USUBJID', 'fill']]\n",
    "RS.columns"
   ]
  },
  {
   "cell_type": "code",
   "execution_count": null,
   "id": "b8f2c802-1c3d-4731-8d12-53a4f321db9a",
   "metadata": {},
   "outputs": [],
   "source": [
    "RS.shape"
   ]
  },
  {
   "cell_type": "markdown",
   "id": "c7151fdd-2698-4880-ad57-1ab1f27a4917",
   "metadata": {
    "jp-MarkdownHeadingCollapsed": true,
    "tags": []
   },
   "source": [
    "#### For SA:"
   ]
  },
  {
   "cell_type": "code",
   "execution_count": null,
   "id": "88341288-9185-4bb9-b1b9-d07fa0560dd3",
   "metadata": {},
   "outputs": [],
   "source": [
    "data_folder = './data/DATA_2022-09-01/'\n",
    "SA = pd.read_csv(data_folder + 'SA_2022-09-01.csv', sep=',', low_memory=False) \n",
    "SA.name = 'SA'"
   ]
  },
  {
   "cell_type": "code",
   "execution_count": null,
   "id": "d1c02767-7d5c-4c71-bb5f-8f20a97c4958",
   "metadata": {},
   "outputs": [],
   "source": [
    "# See variables for SA\n",
    "pd.set_option(\"display.max_colwidth\", 1000)\n",
    "data_description.loc[data_description.Domain==SA.name, ['Variable_Name', 'Variable_Type', 'Variable_Definition']]"
   ]
  },
  {
   "cell_type": "code",
   "execution_count": null,
   "id": "53b18add-b86c-4b4f-8fe4-4bb248f34761",
   "metadata": {},
   "outputs": [],
   "source": [
    "# Columns really in SA\n",
    "SA.columns"
   ]
  },
  {
   "cell_type": "code",
   "execution_count": null,
   "id": "904bd167-dbae-40ed-8aa8-a2cb6c0c09a3",
   "metadata": {},
   "outputs": [],
   "source": [
    "# Investigate var\n",
    "print('Values for var: ', SA['var'].unique())"
   ]
  },
  {
   "cell_type": "markdown",
   "id": "5c964457-be29-47ad-9cfc-4acee6c18eb3",
   "metadata": {},
   "source": [
    "**=> To conclud, for SA, we can keep: USUBJID:**"
   ]
  },
  {
   "cell_type": "code",
   "execution_count": null,
   "id": "b33c0409-278b-4860-81da-60bb4f5f819a",
   "metadata": {},
   "outputs": [],
   "source": [
    "# Keep only some columns for SA\n",
    "SA = SA[['USUBJID', 'fill']]\n",
    "SA.columns"
   ]
  },
  {
   "cell_type": "code",
   "execution_count": null,
   "id": "535e1a28-b0b9-4f7d-b9de-b1fe251b1e68",
   "metadata": {},
   "outputs": [],
   "source": [
    "SA.shape"
   ]
  },
  {
   "cell_type": "markdown",
   "id": "a55e0dba-7edd-4e45-8c6c-999601d76f4e",
   "metadata": {
    "jp-MarkdownHeadingCollapsed": true,
    "tags": []
   },
   "source": [
    "#### For SC:"
   ]
  },
  {
   "cell_type": "code",
   "execution_count": null,
   "id": "2cb46061-b358-4e16-b09f-c874e4a4a208",
   "metadata": {},
   "outputs": [],
   "source": [
    "data_folder = './data/DATA_2022-09-01/'\n",
    "SC = pd.read_csv(data_folder + 'SC_2022-09-01.csv', sep=',', low_memory=False) \n",
    "SC.name = 'SC'"
   ]
  },
  {
   "cell_type": "code",
   "execution_count": null,
   "id": "f691383c-8a2e-4021-951b-f71e6aed785d",
   "metadata": {},
   "outputs": [],
   "source": [
    "# See variables for SC\n",
    "pd.set_option(\"display.max_colwidth\", 1000)\n",
    "data_description.loc[data_description.Domain==SC.name, ['Variable_Name', 'Variable_Type', 'Variable_Definition']]"
   ]
  },
  {
   "cell_type": "code",
   "execution_count": null,
   "id": "ff2f78d5-af1a-4063-9c19-7931c7e7e170",
   "metadata": {},
   "outputs": [],
   "source": [
    "# Columns really in SC\n",
    "SC.columns"
   ]
  },
  {
   "cell_type": "code",
   "execution_count": null,
   "id": "22963f67-31a3-4420-95d2-6b489f41dd69",
   "metadata": {},
   "outputs": [],
   "source": [
    "# Investigate var\n",
    "print('Values for var: ', SC['var'].unique())"
   ]
  },
  {
   "cell_type": "markdown",
   "id": "f670c2f7-addc-40dd-8b8c-740b45cafd14",
   "metadata": {},
   "source": [
    "**=> To conclud, for SC, we can keep: USUBJID:**"
   ]
  },
  {
   "cell_type": "code",
   "execution_count": null,
   "id": "ce72d873-ef11-41cf-b9da-dd90f5bea7b1",
   "metadata": {},
   "outputs": [],
   "source": [
    "# Keep only some columns for SC\n",
    "SC = SC[['USUBJID', 'fill']]\n",
    "SC.columns"
   ]
  },
  {
   "cell_type": "code",
   "execution_count": null,
   "id": "49958705-c3f9-4a7e-8983-5b2435717f12",
   "metadata": {},
   "outputs": [],
   "source": [
    "SC.shape"
   ]
  },
  {
   "cell_type": "markdown",
   "id": "e1679a04-9c2f-4893-af43-4fbc82a15b46",
   "metadata": {
    "jp-MarkdownHeadingCollapsed": true,
    "tags": []
   },
   "source": [
    "#### For SV:"
   ]
  },
  {
   "cell_type": "code",
   "execution_count": null,
   "id": "8ffd9216-0e85-41f6-9f02-82d6e9cbae23",
   "metadata": {},
   "outputs": [],
   "source": [
    "data_folder = './data/DATA_2022-09-01/'\n",
    "SV = pd.read_csv(data_folder + 'SV_2022-09-01.csv', sep=',', low_memory=False) \n",
    "SV.name = 'SV'"
   ]
  },
  {
   "cell_type": "code",
   "execution_count": null,
   "id": "6849ba15-80c1-41ba-8192-0de13b2af90d",
   "metadata": {},
   "outputs": [],
   "source": [
    "# See variables for SV\n",
    "pd.set_option(\"display.max_colwidth\", 1000)\n",
    "data_description.loc[data_description.Domain==SV.name, ['Variable_Name', 'Variable_Type', 'Variable_Definition']]"
   ]
  },
  {
   "cell_type": "code",
   "execution_count": null,
   "id": "5a425c84-d737-431e-b1d6-f8621c4d5de2",
   "metadata": {},
   "outputs": [],
   "source": [
    "# Columns really in SV\n",
    "SV.columns"
   ]
  },
  {
   "cell_type": "code",
   "execution_count": null,
   "id": "fe16d087-9993-411d-8a07-3eb945fafd37",
   "metadata": {},
   "outputs": [],
   "source": [
    "# Investigate var\n",
    "print('Values for var: ', SV['var'].unique())"
   ]
  },
  {
   "cell_type": "markdown",
   "id": "d7ab46ad-4412-41b0-8e4d-478598ecb45b",
   "metadata": {},
   "source": [
    "**=> To conclud, for SV, we can keep: USUBJID:**"
   ]
  },
  {
   "cell_type": "code",
   "execution_count": null,
   "id": "24f9cf85-2c2f-4ac4-8cfe-01630a69a6df",
   "metadata": {},
   "outputs": [],
   "source": [
    "# Keep only some columns for SV\n",
    "SV = SV[['USUBJID', 'fill']]\n",
    "SV.columns"
   ]
  },
  {
   "cell_type": "code",
   "execution_count": null,
   "id": "68ed471f-dba1-41a8-a0f8-8510094de4bc",
   "metadata": {},
   "outputs": [],
   "source": [
    "SV.shape"
   ]
  },
  {
   "cell_type": "markdown",
   "id": "353c3201-44b4-46a5-80ba-0bbc8fc70721",
   "metadata": {
    "jp-MarkdownHeadingCollapsed": true,
    "tags": []
   },
   "source": [
    "#### For TI:"
   ]
  },
  {
   "cell_type": "code",
   "execution_count": null,
   "id": "6d050827-48ea-451e-b4e4-e69bf80d3a11",
   "metadata": {},
   "outputs": [],
   "source": [
    "data_folder = './data/DATA_2022-09-01/'\n",
    "TI = pd.read_csv(data_folder + 'TI_2022-09-01.csv', sep=',', low_memory=False) \n",
    "TI.name = 'TI'"
   ]
  },
  {
   "cell_type": "code",
   "execution_count": null,
   "id": "21452718-43e6-43df-8449-16fda21301e5",
   "metadata": {},
   "outputs": [],
   "source": [
    "# See variables for TI\n",
    "pd.set_option(\"display.max_colwidth\", 1000)\n",
    "data_description.loc[data_description.Domain==TI.name, ['Variable_Name', 'Variable_Type', 'Variable_Definition']]"
   ]
  },
  {
   "cell_type": "code",
   "execution_count": null,
   "id": "3e22f816-5229-4b4e-a102-54fa44b54c2b",
   "metadata": {},
   "outputs": [],
   "source": [
    "# Columns really in TI\n",
    "TI.columns"
   ]
  },
  {
   "cell_type": "code",
   "execution_count": null,
   "id": "5e5d8dc9-8fad-42c9-a7f9-353f7e947109",
   "metadata": {},
   "outputs": [],
   "source": [
    "# Investigate var\n",
    "print('Values for var: ', TI['var'].unique())"
   ]
  },
  {
   "cell_type": "markdown",
   "id": "cd8106b3-8e32-4dc6-863d-895e42c91379",
   "metadata": {},
   "source": [
    "**=> To conclud, for TI, we can keep: USUBJID:**"
   ]
  },
  {
   "cell_type": "code",
   "execution_count": null,
   "id": "e097db41-3183-4db8-a63f-fe9ef71fd212",
   "metadata": {},
   "outputs": [],
   "source": [
    "# Keep only some columns for TI\n",
    "TI = TI[['USUBJID', 'fill']]\n",
    "TI.columns"
   ]
  },
  {
   "cell_type": "code",
   "execution_count": null,
   "id": "ff4f8e3e-e25c-408c-a433-d81ccb7f2d77",
   "metadata": {},
   "outputs": [],
   "source": [
    "TI.shape"
   ]
  },
  {
   "cell_type": "markdown",
   "id": "934d3e9a-df12-4e2a-8521-30cc066e25d2",
   "metadata": {
    "jp-MarkdownHeadingCollapsed": true,
    "tags": []
   },
   "source": [
    "#### For TS:"
   ]
  },
  {
   "cell_type": "code",
   "execution_count": null,
   "id": "0466953d-0716-44f0-acb5-ab00aaca0cb3",
   "metadata": {},
   "outputs": [],
   "source": [
    "data_folder = './data/DATA_2022-09-01/'\n",
    "TS = pd.read_csv(data_folder + 'TS_2022-09-01.csv', sep=',', low_memory=False) \n",
    "TS.name = 'TS'"
   ]
  },
  {
   "cell_type": "code",
   "execution_count": null,
   "id": "f9c7350e-65b5-4308-be51-d358543cf20f",
   "metadata": {},
   "outputs": [],
   "source": [
    "# See variables for TS\n",
    "pd.set_option(\"display.max_colwidth\", 1000)\n",
    "data_description.loc[data_description.Domain==TS.name, ['Variable_Name', 'Variable_Type', 'Variable_Definition']]"
   ]
  },
  {
   "cell_type": "code",
   "execution_count": null,
   "id": "5fb20188-2082-4bbc-bec4-200e722cb162",
   "metadata": {},
   "outputs": [],
   "source": [
    "# Columns really in TS\n",
    "TS.columns"
   ]
  },
  {
   "cell_type": "code",
   "execution_count": null,
   "id": "ec83e185-6ae6-410c-bdd8-cd972ca46c9e",
   "metadata": {},
   "outputs": [],
   "source": [
    "# Investigate var\n",
    "print('Values for var: ', TS['var'].unique())"
   ]
  },
  {
   "cell_type": "markdown",
   "id": "97a6a85f-5fdd-4fc3-bcc7-121e9c406599",
   "metadata": {},
   "source": [
    "**=> To conclud, for TS, we can keep: USUBJID:**"
   ]
  },
  {
   "cell_type": "code",
   "execution_count": null,
   "id": "d830369d-aa18-4735-98e5-89edf0206f05",
   "metadata": {},
   "outputs": [],
   "source": [
    "# Keep only some columns for TS\n",
    "TS = TS[['USUBJID', 'fill']]\n",
    "TS.columns"
   ]
  },
  {
   "cell_type": "code",
   "execution_count": null,
   "id": "b3021f58-7a2a-49fa-be46-923ec609ee60",
   "metadata": {},
   "outputs": [],
   "source": [
    "TS.shape"
   ]
  },
  {
   "cell_type": "markdown",
   "id": "994f0973-770b-4908-ba3c-a82c57634166",
   "metadata": {
    "jp-MarkdownHeadingCollapsed": true,
    "tags": []
   },
   "source": [
    "#### For TV:"
   ]
  },
  {
   "cell_type": "code",
   "execution_count": null,
   "id": "0bdf6846-b084-4065-9862-ad4b5395aec1",
   "metadata": {},
   "outputs": [],
   "source": [
    "data_folder = './data/DATA_2022-09-01/'\n",
    "TV = pd.read_csv(data_folder + 'TV_2022-09-01.csv', sep=',', low_memory=False) \n",
    "TV.name = 'TV'"
   ]
  },
  {
   "cell_type": "code",
   "execution_count": null,
   "id": "b514a3ef-c844-4b2c-a971-70fc3da9e3d4",
   "metadata": {},
   "outputs": [],
   "source": [
    "# See variables for TV\n",
    "pd.set_option(\"display.max_colwidth\", 1000)\n",
    "data_description.loc[data_description.Domain==TV.name, ['Variable_Name', 'Variable_Type', 'Variable_Definition']]"
   ]
  },
  {
   "cell_type": "code",
   "execution_count": null,
   "id": "a418ca42-0547-4362-bc73-059d72d36762",
   "metadata": {},
   "outputs": [],
   "source": [
    "# Columns really in TV\n",
    "TV.columns"
   ]
  },
  {
   "cell_type": "code",
   "execution_count": null,
   "id": "1c849595-b133-4ee1-bfb1-d62a19ba363e",
   "metadata": {},
   "outputs": [],
   "source": [
    "# Investigate var\n",
    "print('Values for var: ', TV['var'].unique())"
   ]
  },
  {
   "cell_type": "markdown",
   "id": "6f105870-cbb7-441b-8a04-d16ad1188e40",
   "metadata": {},
   "source": [
    "**=> To conclud, for TV, we can keep: USUBJID:**"
   ]
  },
  {
   "cell_type": "code",
   "execution_count": null,
   "id": "564e02c9-7f70-4b6a-9519-62254dc99e62",
   "metadata": {},
   "outputs": [],
   "source": [
    "# Keep only some columns for TV\n",
    "TV = TV[['USUBJID', 'fill']]\n",
    "TV.columns\n"
   ]
  },
  {
   "cell_type": "code",
   "execution_count": null,
   "id": "9bbc004c-0821-4cdd-9ab9-5cb096ba729a",
   "metadata": {},
   "outputs": [],
   "source": [
    "TV.shape"
   ]
  },
  {
   "cell_type": "markdown",
   "id": "7599ee23-7135-44bf-bedf-3e64e2597ca3",
   "metadata": {
    "jp-MarkdownHeadingCollapsed": true,
    "tags": []
   },
   "source": [
    "#### For VS:"
   ]
  },
  {
   "cell_type": "code",
   "execution_count": null,
   "id": "6df340c5-118c-491d-a095-be45a41324a2",
   "metadata": {},
   "outputs": [],
   "source": [
    "data_folder = './data/DATA_2022-09-01/'\n",
    "VS = pd.read_csv(data_folder + 'VS_2022-09-01.csv', sep=',', low_memory=False) \n",
    "VS.name = 'VS'"
   ]
  },
  {
   "cell_type": "code",
   "execution_count": null,
   "id": "2570899e-ab6e-4fa8-a14d-4a43cb3dd1d4",
   "metadata": {},
   "outputs": [],
   "source": [
    "# See variables for VS\n",
    "pd.set_option(\"display.max_colwidth\", 1000)\n",
    "data_description.loc[data_description.Domain==VS.name, ['Variable_Name', 'Variable_Type', 'Variable_Definition']]"
   ]
  },
  {
   "cell_type": "code",
   "execution_count": null,
   "id": "b5197850-0348-4b4a-8ba0-522c18f62add",
   "metadata": {},
   "outputs": [],
   "source": [
    "# Columns really in VS\n",
    "VS.columns"
   ]
  },
  {
   "cell_type": "code",
   "execution_count": null,
   "id": "ef02cb72-c01c-4abe-a7ab-b4aa27d7b55a",
   "metadata": {},
   "outputs": [],
   "source": [
    "# Investigate var\n",
    "print('Values for var: ', VS['var'].unique())"
   ]
  },
  {
   "cell_type": "markdown",
   "id": "79f47dfd-b6f3-4d0d-9979-cfb184fbb145",
   "metadata": {},
   "source": [
    "**=> To conclud, for VS, we can keep: USUBJID:**"
   ]
  },
  {
   "cell_type": "code",
   "execution_count": null,
   "id": "8c1352f0-1a91-4c31-9abb-45778b774411",
   "metadata": {},
   "outputs": [],
   "source": [
    "# Keep only some columns for VS\n",
    "VS = VS[['USUBJID', 'fill']]\n",
    "VS.columns"
   ]
  },
  {
   "cell_type": "code",
   "execution_count": null,
   "id": "cf850986-897e-4ebd-bc54-475d864faf1d",
   "metadata": {},
   "outputs": [],
   "source": [
    "VS.shape"
   ]
  },
  {
   "cell_type": "markdown",
   "id": "f809a66e-2d05-4fa0-a610-8bb9f430c68f",
   "metadata": {},
   "source": [
    "### 2.3 EDA"
   ]
  },
  {
   "cell_type": "code",
   "execution_count": 13,
   "id": "8e3d6c6c-9b76-47a6-b6c5-b3c06f097af0",
   "metadata": {},
   "outputs": [],
   "source": [
    "# CHOOSE YOUR DATAFRAME :\n",
    "df_profile = DS"
   ]
  },
  {
   "cell_type": "code",
   "execution_count": 14,
   "id": "43e1f9ce-27ab-4ced-a116-90fec1d45e9a",
   "metadata": {},
   "outputs": [
    {
     "data": {
      "text/html": [
       "<div>\n",
       "<style scoped>\n",
       "    .dataframe tbody tr th:only-of-type {\n",
       "        vertical-align: middle;\n",
       "    }\n",
       "\n",
       "    .dataframe tbody tr th {\n",
       "        vertical-align: top;\n",
       "    }\n",
       "\n",
       "    .dataframe thead th {\n",
       "        text-align: right;\n",
       "    }\n",
       "</style>\n",
       "<table border=\"1\" class=\"dataframe\">\n",
       "  <thead>\n",
       "    <tr style=\"text-align: right;\">\n",
       "      <th></th>\n",
       "      <th>Variable_Name</th>\n",
       "      <th>Variable_Type</th>\n",
       "      <th>Variable_Definition</th>\n",
       "    </tr>\n",
       "  </thead>\n",
       "  <tbody>\n",
       "    <tr>\n",
       "      <th>157</th>\n",
       "      <td>STUDYID</td>\n",
       "      <td>character</td>\n",
       "      <td>This variable contains the unique identifier for a study. This is the main key/identifier for all domains in the IDDO Data Repository  every domain table will have the STUDYID identifier.</td>\n",
       "    </tr>\n",
       "    <tr>\n",
       "      <th>158</th>\n",
       "      <td>DOMAIN</td>\n",
       "      <td>character</td>\n",
       "      <td>This variable contains the two-character abbreviation for the domain.</td>\n",
       "    </tr>\n",
       "    <tr>\n",
       "      <th>159</th>\n",
       "      <td>USUBJID</td>\n",
       "      <td>character</td>\n",
       "      <td>This variable contains the unique subject identifier for a study. This is a secondary key/identifier for all subject-level domains in the IDDO Data Repository  every domain table containing subject-level information (i.e., all but the Trial Domains) will have the USUBJID identifier. This variable will identify unique subjects in the repository.</td>\n",
       "    </tr>\n",
       "    <tr>\n",
       "      <th>160</th>\n",
       "      <td>DSSEQ</td>\n",
       "      <td>number</td>\n",
       "      <td>This variable contains a sequence number to ensure uniqueness of subject records within the domain. Each observation (each recorded as a separate row in the domain) will have a unique number within each subject, e.g., a subject with 10 observations will have 10 rows and each row is numbered sequentially from 1-10.</td>\n",
       "    </tr>\n",
       "    <tr>\n",
       "      <th>161</th>\n",
       "      <td>DSTERM</td>\n",
       "      <td>character</td>\n",
       "      <td>This variable contains the verbatim wording of the event as provided by the Data Contributor.</td>\n",
       "    </tr>\n",
       "    <tr>\n",
       "      <th>162</th>\n",
       "      <td>DSMODIFY</td>\n",
       "      <td>character</td>\n",
       "      <td>This variable contains a modification of the verbatim wording of the event. This is used to capture IDDO-defined standardised terms of the event.</td>\n",
       "    </tr>\n",
       "    <tr>\n",
       "      <th>163</th>\n",
       "      <td>DSDECOD</td>\n",
       "      <td>character</td>\n",
       "      <td>This variable contains a dictionary-derived text description of the event. This is defined by CDISC Controlled Terminology and IDDO Controlled Terminology. More details can be found in the IDDO Implementation Guide.</td>\n",
       "    </tr>\n",
       "    <tr>\n",
       "      <th>164</th>\n",
       "      <td>VISITNUM</td>\n",
       "      <td>number</td>\n",
       "      <td>This variable contains a number designating the planned clinical encounter number. This is a numeric version of the visit described in VISIT? and it is used for sorting.</td>\n",
       "    </tr>\n",
       "    <tr>\n",
       "      <th>165</th>\n",
       "      <td>VISIT</td>\n",
       "      <td>character</td>\n",
       "      <td>This variable contains the protocol-defined text description of the planned clinical encounter number (as defined in the Trial Visits (TV) Domain).</td>\n",
       "    </tr>\n",
       "    <tr>\n",
       "      <th>166</th>\n",
       "      <td>VISITDY</td>\n",
       "      <td>number</td>\n",
       "      <td>This variable contains a number designating the Study Day of the planned clinical encounter. This is also a numeric version of the visit described in VISIT? and can be used for sorting.</td>\n",
       "    </tr>\n",
       "    <tr>\n",
       "      <th>167</th>\n",
       "      <td>EPOCH</td>\n",
       "      <td>character</td>\n",
       "      <td>This variable describes the Epoch period of the observation (e.g., Baseline, Treatment, Follow-up).  This is defined by CDISC Controlled Terminology</td>\n",
       "    </tr>\n",
       "    <tr>\n",
       "      <th>168</th>\n",
       "      <td>DSDTC</td>\n",
       "      <td>character</td>\n",
       "      <td>This variable contains the date and time of the collection of the observation, administration of a test or collection of a specimen.  This date and time will be provided in ISO 8601 format.</td>\n",
       "    </tr>\n",
       "    <tr>\n",
       "      <th>169</th>\n",
       "      <td>DSSTDTC</td>\n",
       "      <td>character</td>\n",
       "      <td>This variable contains the start date and time of the observation or initiation of the event (as opposed to the date the question about the observation/event was asked). This date and time will be provided in ISO 8601 format.</td>\n",
       "    </tr>\n",
       "    <tr>\n",
       "      <th>170</th>\n",
       "      <td>DSDY</td>\n",
       "      <td>number</td>\n",
       "      <td>This variable describes the study day of the observation relative to the date in RFSTDTC.  This will be blank for records with no value in the --DTC variable.</td>\n",
       "    </tr>\n",
       "    <tr>\n",
       "      <th>171</th>\n",
       "      <td>DSSTDY</td>\n",
       "      <td>number</td>\n",
       "      <td>This variable describes the study day of the start of the observation relative to the date in RFSTDTC.  This will be blank for records with no value in the --STDTC variable.</td>\n",
       "    </tr>\n",
       "    <tr>\n",
       "      <th>172</th>\n",
       "      <td>DSTPT</td>\n",
       "      <td>character</td>\n",
       "      <td>This variable describes when the observation should have happened as defined in the study protocol. This may be represented as an elapsed time relative to a fixed reference point described in --TPTREF.</td>\n",
       "    </tr>\n",
       "    <tr>\n",
       "      <th>173</th>\n",
       "      <td>DSTPTREF</td>\n",
       "      <td>character</td>\n",
       "      <td>This variable contains the name of the fixed reference point referred to by --TPT, --ELTM, e.g. PREVIOUS DOSE, PREVIOUS MEAL.</td>\n",
       "    </tr>\n",
       "    <tr>\n",
       "      <th>174</th>\n",
       "      <td>DSSTRF</td>\n",
       "      <td>character</td>\n",
       "      <td>This variable describes when the start of the observation happened in relation to the date recorded in RFSTDTC, e.g. BEFORE, DURING or AFTER.</td>\n",
       "    </tr>\n",
       "    <tr>\n",
       "      <th>175</th>\n",
       "      <td>DSEVINTX</td>\n",
       "      <td>character</td>\n",
       "      <td>This variable contains information about the evaluation interval associated with an observation when it cannot be represented in ISO 8601 format (e.g., \"Last few weeks\", \"While hospitalized\").</td>\n",
       "    </tr>\n",
       "    <tr>\n",
       "      <th>176</th>\n",
       "      <td>DSSTRTPT</td>\n",
       "      <td>character</td>\n",
       "      <td>This variable describes when the start of the observation happened in relation to the point described in --STTPT, e.g. BEFORE, DURING or AFTER.</td>\n",
       "    </tr>\n",
       "    <tr>\n",
       "      <th>177</th>\n",
       "      <td>DSSTTPT</td>\n",
       "      <td>character</td>\n",
       "      <td>This variable contains the name of the fixed reference point referred to by --STRTPT, e.g. PREVIOUS DOSE, 2003-12-15.</td>\n",
       "    </tr>\n",
       "    <tr>\n",
       "      <th>178</th>\n",
       "      <td>DSCDSTDY</td>\n",
       "      <td>number</td>\n",
       "      <td>This variable contains the contributor-defined study day expressed in integer days relative to the start of the study. This variable is used when no dates are provided, only a contributor-defined proxy.</td>\n",
       "    </tr>\n",
       "    <tr>\n",
       "      <th>179</th>\n",
       "      <td>DSRPOC</td>\n",
       "      <td>character</td>\n",
       "      <td>This variable describes the reported time period for the occurrence of an event when the actual date/time is not provided. This is provided in ISO 8601 format.</td>\n",
       "    </tr>\n",
       "  </tbody>\n",
       "</table>\n",
       "</div>"
      ],
      "text/plain": [
       "    Variable_Name Variable_Type  \\\n",
       "157       STUDYID     character   \n",
       "158        DOMAIN     character   \n",
       "159       USUBJID     character   \n",
       "160         DSSEQ        number   \n",
       "161        DSTERM     character   \n",
       "162      DSMODIFY     character   \n",
       "163       DSDECOD     character   \n",
       "164      VISITNUM        number   \n",
       "165         VISIT     character   \n",
       "166       VISITDY        number   \n",
       "167         EPOCH     character   \n",
       "168         DSDTC     character   \n",
       "169       DSSTDTC     character   \n",
       "170          DSDY        number   \n",
       "171        DSSTDY        number   \n",
       "172         DSTPT     character   \n",
       "173      DSTPTREF     character   \n",
       "174        DSSTRF     character   \n",
       "175      DSEVINTX     character   \n",
       "176      DSSTRTPT     character   \n",
       "177       DSSTTPT     character   \n",
       "178      DSCDSTDY        number   \n",
       "179        DSRPOC     character   \n",
       "\n",
       "                                                                                                                                                                                                                                                                                                                                             Variable_Definition  \n",
       "157                                                                                                                                                                 This variable contains the unique identifier for a study. This is the main key/identifier for all domains in the IDDO Data Repository  every domain table will have the STUDYID identifier.  \n",
       "158                                                                                                                                                                                                                                                                                        This variable contains the two-character abbreviation for the domain.  \n",
       "159  This variable contains the unique subject identifier for a study. This is a secondary key/identifier for all subject-level domains in the IDDO Data Repository  every domain table containing subject-level information (i.e., all but the Trial Domains) will have the USUBJID identifier. This variable will identify unique subjects in the repository.  \n",
       "160                                  This variable contains a sequence number to ensure uniqueness of subject records within the domain. Each observation (each recorded as a separate row in the domain) will have a unique number within each subject, e.g., a subject with 10 observations will have 10 rows and each row is numbered sequentially from 1-10.  \n",
       "161                                                                                                                                                                                                                                                                This variable contains the verbatim wording of the event as provided by the Data Contributor.  \n",
       "162                                                                                                                                                                                                            This variable contains a modification of the verbatim wording of the event. This is used to capture IDDO-defined standardised terms of the event.  \n",
       "163                                                                                                                                      This variable contains a dictionary-derived text description of the event. This is defined by CDISC Controlled Terminology and IDDO Controlled Terminology. More details can be found in the IDDO Implementation Guide.  \n",
       "164                                                                                                                                                                                   This variable contains a number designating the planned clinical encounter number. This is a numeric version of the visit described in VISIT? and it is used for sorting.   \n",
       "165                                                                                                                                                                                                          This variable contains the protocol-defined text description of the planned clinical encounter number (as defined in the Trial Visits (TV) Domain).  \n",
       "166                                                                                                                                                                    This variable contains a number designating the Study Day of the planned clinical encounter. This is also a numeric version of the visit described in VISIT? and can be used for sorting.  \n",
       "167                                                                                                                                                                                                         This variable describes the Epoch period of the observation (e.g., Baseline, Treatment, Follow-up).  This is defined by CDISC Controlled Terminology  \n",
       "168                                                                                                                                                                This variable contains the date and time of the collection of the observation, administration of a test or collection of a specimen.  This date and time will be provided in ISO 8601 format.  \n",
       "169                                                                                                                            This variable contains the start date and time of the observation or initiation of the event (as opposed to the date the question about the observation/event was asked). This date and time will be provided in ISO 8601 format.  \n",
       "170                                                                                                                                                                                               This variable describes the study day of the observation relative to the date in RFSTDTC.  This will be blank for records with no value in the --DTC variable.  \n",
       "171                                                                                                                                                                                This variable describes the study day of the start of the observation relative to the date in RFSTDTC.  This will be blank for records with no value in the --STDTC variable.  \n",
       "172                                                                                                                                                   This variable describes when the observation should have happened as defined in the study protocol. This may be represented as an elapsed time relative to a fixed reference point described in --TPTREF.   \n",
       "173                                                                                                                                                                                                                                This variable contains the name of the fixed reference point referred to by --TPT, --ELTM, e.g. PREVIOUS DOSE, PREVIOUS MEAL.  \n",
       "174                                                                                                                                                                                                                This variable describes when the start of the observation happened in relation to the date recorded in RFSTDTC, e.g. BEFORE, DURING or AFTER.  \n",
       "175                                                                                                                                                             This variable contains information about the evaluation interval associated with an observation when it cannot be represented in ISO 8601 format (e.g., \"Last few weeks\", \"While hospitalized\").  \n",
       "176                                                                                                                                                                                                              This variable describes when the start of the observation happened in relation to the point described in --STTPT, e.g. BEFORE, DURING or AFTER.  \n",
       "177                                                                                                                                                                                                                                        This variable contains the name of the fixed reference point referred to by --STRTPT, e.g. PREVIOUS DOSE, 2003-12-15.  \n",
       "178                                                                                                                                                  This variable contains the contributor-defined study day expressed in integer days relative to the start of the study. This variable is used when no dates are provided, only a contributor-defined proxy.   \n",
       "179                                                                                                                                                                                              This variable describes the reported time period for the occurrence of an event when the actual date/time is not provided. This is provided in ISO 8601 format.  "
      ]
     },
     "execution_count": 14,
     "metadata": {},
     "output_type": "execute_result"
    }
   ],
   "source": [
    "# See variables of the DataFrame\n",
    "pd.set_option(\"display.max_colwidth\", 1000)\n",
    "df_profile_var = data_description.loc[data_description.Domain==df_profile.name, ['Variable_Name', 'Variable_Type', 'Variable_Definition']]\n",
    "df_profile_var.to_csv(\"./eda/\" + df_profile.name + \"_variables-description.csv\", index=False)\n",
    "df_profile_var"
   ]
  },
  {
   "cell_type": "code",
   "execution_count": 15,
   "id": "a43b516c-683e-4d48-bccf-e2d025d25e94",
   "metadata": {},
   "outputs": [
    {
     "data": {
      "application/vnd.jupyter.widget-view+json": {
       "model_id": "c3bb5ef03cd2462dabd483ca75956c46",
       "version_major": 2,
       "version_minor": 0
      },
      "text/plain": [
       "Summarize dataset:   0%|          | 0/5 [00:00<?, ?it/s]"
      ]
     },
     "metadata": {},
     "output_type": "display_data"
    },
    {
     "name": "stderr",
     "output_type": "stream",
     "text": [
      "C:\\Users\\felic\\anaconda3\\envs\\ada\\lib\\site-packages\\pandas_profiling\\model\\correlations.py:67: UserWarning: There was an attempt to calculate the auto correlation, but this failed.\n",
      "To hide this warning, disable the calculation\n",
      "(using `df.profile_report(correlations={\"auto\": {\"calculate\": False}})`\n",
      "If this is problematic for your use case, please report this as an issue:\n",
      "https://github.com/ydataai/pandas-profiling/issues\n",
      "(include the error message: 'No data; `observed` has size 0.')\n",
      "  warnings.warn(\n",
      "C:\\Users\\felic\\anaconda3\\envs\\ada\\lib\\site-packages\\scipy\\stats\\_stats_py.py:5218: RuntimeWarning: overflow encountered in longlong_scalars\n",
      "  (2 * xtie * ytie) / m + x0 * y0 / (9 * m * (size - 2)))\n"
     ]
    },
    {
     "data": {
      "application/vnd.jupyter.widget-view+json": {
       "model_id": "62ac4716f2d94ab4abf9761e14ec140d",
       "version_major": 2,
       "version_minor": 0
      },
      "text/plain": [
       "Generate report structure:   0%|          | 0/1 [00:00<?, ?it/s]"
      ]
     },
     "metadata": {},
     "output_type": "display_data"
    },
    {
     "data": {
      "application/vnd.jupyter.widget-view+json": {
       "model_id": "9baff78e45b84a50893f799fc371dbfa",
       "version_major": 2,
       "version_minor": 0
      },
      "text/plain": [
       "Render widgets:   0%|          | 0/1 [00:00<?, ?it/s]"
      ]
     },
     "metadata": {},
     "output_type": "display_data"
    },
    {
     "data": {
      "application/vnd.jupyter.widget-view+json": {
       "model_id": "eec3e1ccd7bf48bb804118550e33e29f",
       "version_major": 2,
       "version_minor": 0
      },
      "text/plain": [
       "VBox(children=(Tab(children=(Tab(children=(GridBox(children=(VBox(children=(GridspecLayout(children=(HTML(valu…"
      ]
     },
     "metadata": {},
     "output_type": "display_data"
    },
    {
     "data": {
      "application/vnd.jupyter.widget-view+json": {
       "model_id": "9cf579fbc4bc4580a10adfdccaeeaa47",
       "version_major": 2,
       "version_minor": 0
      },
      "text/plain": [
       "Render HTML:   0%|          | 0/1 [00:00<?, ?it/s]"
      ]
     },
     "metadata": {},
     "output_type": "display_data"
    },
    {
     "data": {
      "application/vnd.jupyter.widget-view+json": {
       "model_id": "cecf8e448d7a47b1b8038653b5641a7c",
       "version_major": 2,
       "version_minor": 0
      },
      "text/plain": [
       "Export report to file:   0%|          | 0/1 [00:00<?, ?it/s]"
      ]
     },
     "metadata": {},
     "output_type": "display_data"
    }
   ],
   "source": [
    "# EDA on the DataFrame\n",
    "profile = ProfileReport(df_profile, title=\"Pandas Profiling Report\") # Choose the dataframe you want\n",
    "profile.to_widgets()\n",
    "profile.to_file(\"./eda/\" + df_profile.name + \".html\") # Write the name of the dataframe"
   ]
  },
  {
   "cell_type": "markdown",
   "id": "2704d227-2f8a-4044-830d-19f87c8a956a",
   "metadata": {},
   "source": [
    "#### Comments:\n",
    "\n",
    "##### DM :\n",
    "\n",
    "..."
   ]
  },
  {
   "cell_type": "code",
   "execution_count": null,
   "id": "88c8dc25-a3e1-42c0-96e0-9324393eeae7",
   "metadata": {},
   "outputs": [],
   "source": []
  }
 ],
 "metadata": {
  "kernelspec": {
   "display_name": "Python [conda env:ada] *",
   "language": "python",
   "name": "conda-env-ada-py"
  },
  "language_info": {
   "codemirror_mode": {
    "name": "ipython",
    "version": 3
   },
   "file_extension": ".py",
   "mimetype": "text/x-python",
   "name": "python",
   "nbconvert_exporter": "python",
   "pygments_lexer": "ipython3",
   "version": "3.8.13"
  }
 },
 "nbformat": 4,
 "nbformat_minor": 5
}
